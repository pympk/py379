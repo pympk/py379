{
 "cells": [
  {
   "cell_type": "code",
   "execution_count": 1,
   "metadata": {},
   "outputs": [],
   "source": [
    "# insert path for util\n",
    "sys.path.insert(0, 'C:/Users/ping/MyDrive/py_files/python/')\n",
    "from util import download_AdjOHLCV, pickle_dump, pickle_load\n",
    "\n",
    "verbose=False\n",
    "filename_pickle = 'df_OHLCV'  # pickled filename\n",
    "path_pickle_dump = 'C:/Users/ping/Desktop/my_yfinance/'"
   ]
  },
  {
   "cell_type": "code",
   "execution_count": null,
   "metadata": {},
   "outputs": [],
   "source": [
    "# download only 'XOM' so date index is just NYSE trading days, 'BTC-USD' trades 24/7 \n",
    "file_symbols = 'C:/Users/ping/Desktop/my_yfinance/symbol_XOM.txt'\n",
    "df_XOM = download_AdjOHLCV(file_symbols, verbose=verbose)\n",
    "df_XOM.tail(7)"
   ]
  },
  {
   "cell_type": "code",
   "execution_count": null,
   "metadata": {},
   "outputs": [],
   "source": [
    "# file_symbols = 'C:/Users/ping/MyDrive/stocks/MktCap2b_AUMtop1200/source/2021_Top1200_MktCap_n_AUM.txt'\n",
    "file_symbols = 'C:/Users/ping/Desktop/my_yfinance/symbols_trash.txt'\n",
    "df_OHLCV = download_AdjOHLCV(file_symbols, verbose=verbose)\n",
    "df_OHLCV.tail(7)"
   ]
  },
  {
   "cell_type": "code",
   "execution_count": null,
   "metadata": {},
   "outputs": [],
   "source": [
    "# reindex df_OHLCV to XOM's index so it has only NYSE trading days \n",
    "df_OHLCV = df_OHLCV.loc[df_XOM.index]\n",
    "df_OHLCV.tail(7)"
   ]
  },
  {
   "cell_type": "code",
   "execution_count": null,
   "metadata": {},
   "outputs": [],
   "source": [
    "print(f'Full path to pickled df_OHLCV:  {path_pickle_dump}{filename_pickle}')\n",
    "pickle_dump(df_OHLCV, path_pickle_dump, filename_pickle, verbose=verbose)\n",
    "df_pickled = pickle_load(path_pickle_dump, filename_pickle, verbose=verbose)\n",
    "df_pickled['BTC-USD'].tail(7)"
   ]
  }
 ],
 "metadata": {
  "kernelspec": {
   "display_name": "Python 3.7.9 ('.venv': poetry)",
   "language": "python",
   "name": "python3"
  },
  "language_info": {
   "codemirror_mode": {
    "name": "ipython",
    "version": 3
   },
   "file_extension": ".py",
   "mimetype": "text/x-python",
   "name": "python",
   "nbconvert_exporter": "python",
   "pygments_lexer": "ipython3",
   "version": "3.7.9"
  },
  "orig_nbformat": 4,
  "vscode": {
   "interpreter": {
    "hash": "55a3812d65f91e7e7447da6b5cfc60716e82f91e6a92533fb27b46796ad1962a"
   }
  }
 },
 "nbformat": 4,
 "nbformat_minor": 2
}
