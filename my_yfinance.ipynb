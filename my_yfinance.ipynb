{
  "cells": [
    {
      "cell_type": "code",
      "execution_count": 8,
      "metadata": {},
      "outputs": [
        {
          "name": "stdout",
          "output_type": "stream",
          "text": [
            "yfinance:  c:\\Users\\ping\\MyDrive\\py_files\\python\\py379\\.venv\\lib\\site-packages\\yfinance\\__init__.py\n",
            "python_path:  c:\\Users\\ping\\MyDrive\\py_files\\python\\py379\\.venv\\Scripts\\python.exe\n",
            "python_version:  3.7.9\n",
            "pandas_version:  1.3.5\n",
            "numpy_version:  1.21.6\n",
            "Successfully imported the modules!\n",
            "[*********************100%***********************]  2 of 2 completed\n",
            "SPY\n",
            "                  Open        High         Low       Close   Adj Close  \\\n",
            "Date                                                                     \n",
            "2022-07-22  398.920013  400.179993  392.750000  395.089996  395.089996   \n",
            "2022-07-25  395.750000  396.470001  393.209991  395.570007  395.570007   \n",
            "\n",
            "                Volume  \n",
            "Date                    \n",
            "2022-07-22  72130300.0  \n",
            "2022-07-25  53422800.0   \n",
            "\n",
            "AAPL\n",
            "                  Open        High         Low       Close   Adj Close  \\\n",
            "Date                                                                     \n",
            "2022-07-22  155.389999  156.279999  153.410004  154.089996  154.089996   \n",
            "2022-07-25  154.009995  155.039993  152.279999  152.949997  152.949997   \n",
            "\n",
            "              Volume  \n",
            "Date                  \n",
            "2022-07-22  66625400  \n",
            "2022-07-25  53515000   \n",
            "\n"
          ]
        }
      ],
      "source": [
        "'''An example file that imports some of the installed modules'''\n",
        "import sys\n",
        "import pandas as pd\n",
        "import numpy as np\n",
        "import matplotlib.pyplot as plt\n",
        "import yfinance as yf\n",
        "import flake8\n",
        "from platform import python_version\n",
        "\n",
        "print(\"yfinance: \", yf.__file__)\n",
        "print(\"python_path: \", sys.executable)\n",
        "print(\"python_version: \", python_version())\n",
        "print(\"pandas_version: \", pd.__version__)\n",
        "print(\"numpy_version: \", np.__version__)\n",
        "if __name__ == \"__main__\":\n",
        "    # If the modules can't be imported, the following print won't happen\n",
        "    print(\"Successfully imported the modules!\")\n",
        "# data = yf.download(\"SPY AAPL\", start=\"2017-01-01\", end=\"2017-04-30\")\n",
        "symbols = [\"SPY\", \"AAPL\"]\n",
        "data = yf.download(symbols, group_by='tickers')\n",
        "for symbol in symbols:\n",
        "    print(symbol)\n",
        "    print(data[symbol].tail(2), \"\\n\")"
      ]
    },
    {
      "cell_type": "code",
      "execution_count": null,
      "metadata": {},
      "outputs": [],
      "source": [
        "data"
      ]
    },
    {
      "cell_type": "code",
      "execution_count": 1,
      "metadata": {},
      "outputs": [],
      "source": [
        "import sys\n",
        "# insert path for util\n",
        "sys.path.insert(0, 'C:/Users/ping/MyDrive/py_files/python/')\n",
        "from utils import download_AdjOHLCV, pickle_dump, pickle_load\n",
        "\n",
        "verbose=False\n",
        "filename_pickle = 'df_OHLCV'  # pickled filename\n",
        "path_pickle_dump = 'C:/Users/ping/Desktop/my_yfinance/'"
      ]
    },
    {
      "cell_type": "code",
      "execution_count": null,
      "metadata": {},
      "outputs": [],
      "source": [
        "# download only 'XOM' so date index is just NYSE trading days, 'BTC-USD' trades 24/7 \n",
        "file_symbols = 'C:/Users/ping/Desktop/my_yfinance/symbol_XOM.txt'\n",
        "df_XOM = download_AdjOHLCV(file_symbols, verbose=verbose)\n",
        "df_XOM.tail(7)"
      ]
    },
    {
      "cell_type": "code",
      "execution_count": null,
      "metadata": {},
      "outputs": [],
      "source": [
        "# download OHLCV data for symbols in file_symbols \n",
        "file_symbols = 'C:/Users/ping/MyDrive/stocks/MktCap2b_AUMtop1200/source/2021_Top1200_MktCap_n_AUM.txt'\n",
        "# file_symbols = 'C:/Users/ping/Desktop/my_yfinance/symbols_trash.txt'\n",
        "df_OHLCV = download_AdjOHLCV(file_symbols, verbose=verbose)\n",
        "df_OHLCV.tail(7)"
      ]
    },
    {
      "cell_type": "code",
      "execution_count": null,
      "metadata": {},
      "outputs": [],
      "source": [
        "# reindex df_OHLCV to XOM's index so it has only NYSE trading days \n",
        "df_OHLCV = df_OHLCV.loc[df_XOM.index]\n",
        "df_OHLCV.tail(7)"
      ]
    },
    {
      "cell_type": "code",
      "execution_count": null,
      "metadata": {},
      "outputs": [],
      "source": [
        "print(f'Full path to pickled df_OHLCV:  {path_pickle_dump}{filename_pickle}')\n",
        "# pickle file df_OHLCV\n",
        "pickle_dump(df_OHLCV, path_pickle_dump, filename_pickle, verbose=verbose)\n",
        "# load pickled file\n",
        "df_pickled = pickle_load(path_pickle_dump, filename_pickle, verbose=verbose)\n",
        "print(f\"df_pickled['BTC-USD'].tail(7):\")\n",
        "df_pickled['BTC-USD'].tail(7)"
      ]
    }
  ],
  "metadata": {
    "kernelspec": {
      "display_name": "Python 3.7.9 ('.venv': poetry)",
      "language": "python",
      "name": "python3"
    },
    "language_info": {
      "codemirror_mode": {
        "name": "ipython",
        "version": 3
      },
      "file_extension": ".py",
      "mimetype": "text/x-python",
      "name": "python",
      "nbconvert_exporter": "python",
      "pygments_lexer": "ipython3",
      "version": "3.7.9"
    },
    "orig_nbformat": 4,
    "vscode": {
      "interpreter": {
        "hash": "55a3812d65f91e7e7447da6b5cfc60716e82f91e6a92533fb27b46796ad1962a"
      }
    }
  },
  "nbformat": 4,
  "nbformat_minor": 2
}
