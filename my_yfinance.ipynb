{
 "cells": [
  {
   "cell_type": "markdown",
   "metadata": {},
   "source": [
    "[how-to-deal-with-multi-level-column-names-downloaded-with-yfinance](https://stackoverflow.com/questions/63107594/how-to-deal-with-multi-level-column-names-downloaded-with-yfinance/63107801#63107801)"
   ]
  },
  {
   "cell_type": "code",
   "execution_count": 49,
   "metadata": {},
   "outputs": [
    {
     "name": "stdout",
     "output_type": "stream",
     "text": [
      "python_path:  c:\\Users\\ping\\MyDrive\\py_files\\python\\py379\\.venv\\Scripts\\python.exe\n",
      "python_version:  3.7.9\n",
      "pandas_version:  1.3.5\n",
      "numpy_version:  1.21.6\n",
      "Successfully imported the modules!\n"
     ]
    }
   ],
   "source": [
    "import sys\n",
    "import pandas as pd\n",
    "import numpy as np\n",
    "import yfinance as yf\n",
    "from platform import python_version\n",
    "\n",
    "print(\"python_path: \", sys.executable)\n",
    "print(\"python_version: \", python_version())\n",
    "print(\"pandas_version: \", pd.__version__)\n",
    "print(\"numpy_version: \", np.__version__)\n",
    "# print(\"yfinance_version: \", yf.__version__)\n",
    "if __name__ == \"__main__\":\n",
    "    # If the modules can't be imported, the following print won't happen\n",
    "    print(\"Successfully imported the modules!\")"
   ]
  },
  {
   "cell_type": "code",
   "execution_count": 50,
   "metadata": {},
   "outputs": [],
   "source": [
    "## Pandas display options\n",
    "# pd.set_option('display.max_columns', 200)\n",
    "pd.set_option('display.width', 200)"
   ]
  },
  {
   "cell_type": "code",
   "execution_count": 51,
   "metadata": {},
   "outputs": [
    {
     "name": "stdout",
     "output_type": "stream",
     "text": [
      "symbols in file: \"C:/Users/ping/Desktop/my_yfinance/symbols_trash.txt\"\n",
      "Leading space, trailing spaces, and empty string (i.e. \"\") have been stripped from file\n",
      "symbols: ['AAPL', 'MSFT', 'AMZN', 'GOOG', 'GOOGL', 'TSLA', 'BTC-USD', 'ETH-USD', 'UNI3-USD', 'LINK-USD', 'MATIC-USD']\n",
      "symbol count: 11 /n\n"
     ]
    }
   ],
   "source": [
    "## Retrieve symbols\n",
    "# verbose = False\n",
    "verbose = True\n",
    "# file_symbols = 'C:/Users/ping/MyDrive/stocks/MktCap2b_AUMtop1200/source/2021_Top1200_MktCap_n_AUM.txt'\n",
    "file_symbols = 'C:/Users/ping/Desktop/my_yfinance/symbols_trash.txt'\n",
    "\n",
    "# print('+'*29 + '  get_symbol_OHLCV  ' + '+'*29 + '\\n')\n",
    "# region get list of symbols\n",
    "with open(file_symbols, 'r') as f:  # get symbols from text file\n",
    "    # remove leading and trailing whitespaces\n",
    "    symbols = [line.strip() for line in f]  \n",
    "\n",
    "# removes '' in list of symbols, a blank line in text file makes '' in list\n",
    "symbols = list(filter(None, symbols))\n",
    "\n",
    "if verbose:\n",
    "    print('symbols in file: \"{}\"'.format(file_symbols))\n",
    "    print('Leading space, trailing spaces, and empty string (i.e. \"\") have been stripped from file')\n",
    "   \n",
    "    print('symbols: {}'.format(symbols))\n",
    "    print(\"symbol count: {}\".format(len(symbols)), '/n')\n",
    "# endregion get list of symbols"
   ]
  },
  {
   "cell_type": "code",
   "execution_count": 52,
   "metadata": {},
   "outputs": [
    {
     "name": "stdout",
     "output_type": "stream",
     "text": [
      "date_today: 2022-07-20, type: <class 'datetime.date'>/n\n",
      "today_str: 2022-07-20, type: <class 'str'>\n",
      "\n"
     ]
    }
   ],
   "source": [
    "import datetime as dt\n",
    "print(\n",
    "    \"date_today: {:<10s}, type: {}/n\".format(\n",
    "        str(dt.date.today()), type(dt.date.today())\n",
    "    ))\n",
    "today_str = str(dt.date.today())\n",
    "print(\n",
    "    \"today_str: {:<10s}, type: {}\\n\".format(\n",
    "        today_str, type(today_str)\n",
    "    ))\n"
   ]
  },
  {
   "cell_type": "code",
   "execution_count": 53,
   "metadata": {},
   "outputs": [
    {
     "name": "stdout",
     "output_type": "stream",
     "text": [
      "[*********************100%***********************]  11 of 11 completed\n"
     ]
    }
   ],
   "source": [
    "Adj_OHLCV = yf.download(  # or pdr.get_data_yahoo(...\n",
    "        # tickers list or string as well\n",
    "        # tickers = \"SPY AAPL MSFT\",\n",
    "        tickers = symbols,\n",
    "\n",
    "        # use \"period\" instead of start/end\n",
    "        # valid periods: 1d,5d,1mo,3mo,6mo,1y,2y,5y,10y,ytd,max\n",
    "        # (optional, default is '1mo')\n",
    "        period = \"max\",\n",
    "\n",
    "        # fetch data by interval (including intraday if period < 60 days)\n",
    "        # valid intervals: 1m,2m,5m,15m,30m,60m,90m,1h,1d,5d,1wk,1mo,3mo\n",
    "        # (optional, default is '1d')\n",
    "        interval = \"1d\",\n",
    "\n",
    "        # group by ticker (to access via data['SPY'])\n",
    "        # (optional, default is 'column')\n",
    "        group_by = 'ticker',\n",
    "\n",
    "        # adjust all OHLC automatically\n",
    "        # (optional, default is False)\n",
    "        auto_adjust = True,\n",
    "\n",
    "        # download pre/post regular market hours data\n",
    "        # (optional, default is False)\n",
    "        prepost = False,\n",
    "\n",
    "        # use threads for mass downloading? (True/False/Integer)\n",
    "        # (optional, default is True)\n",
    "        threads = True,\n",
    "\n",
    "        # proxy URL scheme use use when downloading?\n",
    "        # (optional, default is None)\n",
    "        proxy = None\n",
    "    )\n"
   ]
  },
  {
   "cell_type": "code",
   "execution_count": 54,
   "metadata": {},
   "outputs": [],
   "source": [
    "import sys\n",
    "sys.path.insert(0, 'C:/Users/ping/MyDrive/py_files/python/perfstat/') # Note: if this relavtive path doesn't work or produces errors try replacing it with an absolute path\n",
    "from util import pickle_load, pickle_dump"
   ]
  },
  {
   "cell_type": "code",
   "execution_count": 55,
   "metadata": {},
   "outputs": [
    {
     "name": "stdout",
     "output_type": "stream",
     "text": [
      "\n",
      "==============================================================================\n",
      "+ def pickle_dump(file_to_pickle, path_pickle_dump,     filename_pickle)\n",
      "\n",
      "Wrote pickled file to C:/Users/ping/Desktop/my_yfinance/Adj_OHLCV_2022-07-20\n",
      "- def pickle_dump(file_to_pickle, path_pickle_dump,     filename_pickle)\n",
      "------------------------------------------------------------------------------\n",
      "\n"
     ]
    }
   ],
   "source": [
    "file_to_pickle = Adj_OHLCV\n",
    "path_pickle_dump = 'C:/Users/ping/Desktop/my_yfinance/'\n",
    "filename_pickle = 'Adj_OHLCV_' + today_str\n",
    "pickle_dump(file_to_pickle, path_pickle_dump, filename_pickle, verbose=True)"
   ]
  },
  {
   "cell_type": "code",
   "execution_count": 72,
   "metadata": {},
   "outputs": [
    {
     "name": "stdout",
     "output_type": "stream",
     "text": [
      "Adj_OHLCV['AAPL']\n",
      "                  Open        High         Low       Close       Volume\n",
      "Date                                                                   \n",
      "1980-12-12    0.100178    0.100614    0.100178    0.100178  469033600.0\n",
      "1980-12-15    0.095388    0.095388    0.094952    0.094952  175884800.0\n",
      "1980-12-16    0.088418    0.088418    0.087983    0.087983  105728000.0\n",
      "1980-12-17    0.090160    0.090596    0.090160    0.090160   86441600.0\n",
      "1980-12-18    0.092774    0.093210    0.092774    0.092774   73449600.0\n",
      "...                ...         ...         ...         ...          ...\n",
      "2022-07-15  149.779999  150.860001  148.199997  150.169998   76030800.0\n",
      "2022-07-16         NaN         NaN         NaN         NaN          NaN\n",
      "2022-07-17         NaN         NaN         NaN         NaN          NaN\n",
      "2022-07-18  150.740005  151.570007  146.699997  147.070007   81420900.0\n",
      "2022-07-19  147.919998  151.229996  146.910004  151.000000   82815300.0\n",
      "\n",
      "[11378 rows x 5 columns] \n",
      "\n",
      "my_Adj_OHLCV['AAPL']\n",
      "                  Open        High         Low       Close       Volume\n",
      "Date                                                                   \n",
      "1980-12-12    0.100178    0.100614    0.100178    0.100178  469033600.0\n",
      "1980-12-15    0.095388    0.095388    0.094952    0.094952  175884800.0\n",
      "1980-12-16    0.088418    0.088418    0.087983    0.087983  105728000.0\n",
      "1980-12-17    0.090160    0.090596    0.090160    0.090160   86441600.0\n",
      "1980-12-18    0.092774    0.093210    0.092774    0.092774   73449600.0\n",
      "...                ...         ...         ...         ...          ...\n",
      "2022-07-15  149.779999  150.860001  148.199997  150.169998   76030800.0\n",
      "2022-07-16         NaN         NaN         NaN         NaN          NaN\n",
      "2022-07-17         NaN         NaN         NaN         NaN          NaN\n",
      "2022-07-18  150.740005  151.570007  146.699997  147.070007   81420900.0\n",
      "2022-07-19  147.919998  151.229996  146.910004  151.000000   82815300.0\n",
      "\n",
      "[11378 rows x 5 columns] \n",
      "\n"
     ]
    }
   ],
   "source": [
    "my_Adj_OHLCV = pickle_load(path_pickle_dump, filename_pickle, verbose=False)\n",
    "print(f\"Adj_OHLCV['AAPL']\")\n",
    "print(Adj_OHLCV['AAPL'], \"\\n\")\n",
    "print(f\"my_Adj_OHLCV['AAPL']\")\n",
    "print(my_Adj_OHLCV['AAPL'], \"\\n\")"
   ]
  }
 ],
 "metadata": {
  "kernelspec": {
   "display_name": "Python 3.7.9 ('.venv': poetry)",
   "language": "python",
   "name": "python3"
  },
  "language_info": {
   "codemirror_mode": {
    "name": "ipython",
    "version": 3
   },
   "file_extension": ".py",
   "mimetype": "text/x-python",
   "name": "python",
   "nbconvert_exporter": "python",
   "pygments_lexer": "ipython3",
   "version": "3.7.9"
  },
  "orig_nbformat": 4,
  "vscode": {
   "interpreter": {
    "hash": "55a3812d65f91e7e7447da6b5cfc60716e82f91e6a92533fb27b46796ad1962a"
   }
  }
 },
 "nbformat": 4,
 "nbformat_minor": 2
}
