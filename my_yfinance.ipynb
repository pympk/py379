{
 "cells": [
  {
   "cell_type": "code",
   "execution_count": null,
   "metadata": {},
   "outputs": [],
   "source": [
    "def download_AdjOHLCV(file_symbols, verbose=False):\n",
    "    \"\"\"Download daily adjusted OHLCV data for symbols in file_symbols,\n",
    "       and return dataframe df. To fetch OHLCV data for symbol 'SPY', use df['SPY'].\n",
    "\n",
    "    Args:\n",
    "        file_symbols(str): full path to a text file with symbol on each line \n",
    "\n",
    "    Return:\n",
    "        df(dataframe): dataframe with adjusted OHLCV data for symbols,\n",
    "                       To fetch OHLCV data for symbol 'SPY', use df['SPY'].\n",
    "    \"\"\"\n",
    "\n",
    "    import yfinance as yf\n",
    "\n",
    "    print(f'++++  read symbols from {file_symbols}  ++++')\n",
    "    with open(file_symbols, 'r') as f:  # get symbols from text file\n",
    "        # remove leading and trailing whitespaces\n",
    "        symbols = [line.strip() for line in f]  \n",
    "\n",
    "    # removes '' in list of symbols, a blank line in text file makes '' in list\n",
    "    symbols = list(filter(None, symbols))\n",
    "\n",
    "    if verbose:\n",
    "        print('symbols in file: \"{}\"'.format(file_symbols))\n",
    "        print('Leading space, trailing spaces, and empty string (i.e. \"\") have been stripped from file')\n",
    "\n",
    "        print('symbols: {}'.format(symbols))\n",
    "        print(\"symbol count: {}\".format(len(symbols)), '\\n')\n",
    "\n",
    "    # print(f'++++  download OHLCV data  ++++')\n",
    "    df = yf.download(  # or pdr.get_data_yahoo(...\n",
    "            # tickers list or string as well\n",
    "            # tickers = \"SPY AAPL MSFT\",\n",
    "            tickers = symbols,\n",
    "\n",
    "            # use \"period\" instead of start/end\n",
    "            # valid periods: 1d,5d,1mo,3mo,6mo,1y,2y,5y,10y,ytd,max\n",
    "            # (optional, default is '1mo')\n",
    "            period = \"max\",\n",
    "\n",
    "            # fetch data by interval (including intraday if period < 60 days)\n",
    "            # valid intervals: 1m,2m,5m,15m,30m,60m,90m,1h,1d,5d,1wk,1mo,3mo\n",
    "            # (optional, default is '1d')\n",
    "            interval = \"1d\",\n",
    "\n",
    "            # group by ticker (to access via data['SPY'])\n",
    "            # (optional, default is 'column')\n",
    "            group_by = 'ticker',\n",
    "\n",
    "            # adjust all OHLC automatically\n",
    "            # (optional, default is False)\n",
    "            auto_adjust = True,\n",
    "\n",
    "            # download pre/post regular market hours data\n",
    "            # (optional, default is False)\n",
    "            prepost = False,\n",
    "\n",
    "            # use threads for mass downloading? (True/False/Integer)\n",
    "            # (optional, default is True)\n",
    "            threads = True,\n",
    "\n",
    "            # proxy URL scheme use use when downloading?\n",
    "            # (optional, default is None)\n",
    "            proxy = None\n",
    "        )\n",
    "\n",
    "    return df"
   ]
  },
  {
   "cell_type": "code",
   "execution_count": null,
   "metadata": {},
   "outputs": [],
   "source": [
    "# insert path for util\n",
    "sys.path.insert(0, 'C:/Users/ping/MyDrive/py_files/python/')\n",
    "from util import download_AdjOHLCV, pickle_dump, pickle_load\n",
    "\n",
    "verbose=False\n",
    "filename_pickle = 'df_OHLCV'  # pickled filename\n",
    "path_pickle_dump = 'C:/Users/ping/Desktop/my_yfinance/'"
   ]
  },
  {
   "cell_type": "code",
   "execution_count": null,
   "metadata": {},
   "outputs": [],
   "source": [
    "file_symbols = 'C:/Users/ping/Desktop/my_yfinance/symbols_XOM.txt'\n",
    "df_XOM = download_AdjOHLCV(file_symbols, verbose=verbose)\n",
    "df_XOM.tail(7)"
   ]
  },
  {
   "cell_type": "code",
   "execution_count": null,
   "metadata": {},
   "outputs": [],
   "source": [
    "# file_symbols = 'C:/Users/ping/MyDrive/stocks/MktCap2b_AUMtop1200/source/2021_Top1200_MktCap_n_AUM.txt'\n",
    "file_symbols = 'C:/Users/ping/Desktop/my_yfinance/symbols_trash.txt'\n",
    "df_OHLCV = download_AdjOHLCV(file_symbols, verbose=verbose)"
   ]
  },
  {
   "cell_type": "code",
   "execution_count": null,
   "metadata": {},
   "outputs": [],
   "source": [
    "df_OHLCV.tail(7)"
   ]
  },
  {
   "cell_type": "code",
   "execution_count": null,
   "metadata": {},
   "outputs": [],
   "source": [
    "# reindex to XOM's index (i.e. only trading days are in the dataframe) \n",
    "df_OHLCV = df_OHLCV.loc[df_XOM.index]\n",
    "df_OHLCV.tail(7)"
   ]
  },
  {
   "cell_type": "code",
   "execution_count": null,
   "metadata": {},
   "outputs": [],
   "source": [
    "print(f'Full path to pickled df_OHLCV:  {path_pickle_dump}{filename_pickle}')\n",
    "pickle_dump(df_OHLCV, path_pickle_dump, filename_pickle, verbose=verbose)# insert path for util"
   ]
  },
  {
   "cell_type": "code",
   "execution_count": null,
   "metadata": {},
   "outputs": [],
   "source": [
    "df_pickled = pickle_load(path_pickle_dump, filename_pickle, verbose=verbose)\n",
    "df_pickled['BTC-USD'].tail(7)"
   ]
  }
 ],
 "metadata": {
  "kernelspec": {
   "display_name": "Python 3.7.9 ('.venv': poetry)",
   "language": "python",
   "name": "python3"
  },
  "language_info": {
   "codemirror_mode": {
    "name": "ipython",
    "version": 3
   },
   "file_extension": ".py",
   "mimetype": "text/x-python",
   "name": "python",
   "nbconvert_exporter": "python",
   "pygments_lexer": "ipython3",
   "version": "3.7.9"
  },
  "orig_nbformat": 4,
  "vscode": {
   "interpreter": {
    "hash": "55a3812d65f91e7e7447da6b5cfc60716e82f91e6a92533fb27b46796ad1962a"
   }
  }
 },
 "nbformat": 4,
 "nbformat_minor": 2
}
