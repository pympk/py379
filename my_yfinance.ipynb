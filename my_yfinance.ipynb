{
 "cells": [
  {
   "cell_type": "markdown",
   "metadata": {},
   "source": [
    "[how-to-deal-with-multi-level-column-names-downloaded-with-yfinance](https://stackoverflow.com/questions/63107594/how-to-deal-with-multi-level-column-names-downloaded-with-yfinance/63107801#63107801)"
   ]
  },
  {
   "cell_type": "code",
   "execution_count": null,
   "metadata": {},
   "outputs": [],
   "source": [
    "import sys\n",
    "import pandas as pd\n",
    "import numpy as np\n",
    "import yfinance as yf\n",
    "from platform import python_version\n",
    "\n",
    "print(\"python_path: \", sys.executable)\n",
    "print(\"python_version: \", python_version())\n",
    "print(\"pandas_version: \", pd.__version__)\n",
    "print(\"numpy_version: \", np.__version__)\n",
    "# print(\"yfinance_version: \", yf.__version__)\n",
    "if __name__ == \"__main__\":\n",
    "    # If the modules can't be imported, the following print won't happen\n",
    "    print(\"Successfully imported the modules!\")"
   ]
  },
  {
   "cell_type": "code",
   "execution_count": 2,
   "metadata": {},
   "outputs": [],
   "source": [
    "## Pandas display options\n",
    "# pd.set_option('display.max_columns', 200)\n",
    "pd.set_option('display.width', 200)"
   ]
  },
  {
   "cell_type": "code",
   "execution_count": 27,
   "metadata": {},
   "outputs": [
    {
     "name": "stdout",
     "output_type": "stream",
     "text": [
      "symbols in file: \"C:/Users/ping/Desktop/my_yfinance/symbols_trash.txt\"\n",
      "Leading space, trailing spaces, and empty string (i.e. \"\") have been stripped from file\n",
      "symbols: ['AAPL', 'MSFT', 'AMZN', 'GOOG', 'GOOGL', 'TSLA', 'BTC-USD', 'ETH-USD', 'UNI3-USD', 'LINK-USD', 'MATIC-USD']\n",
      "symbol count: 11 \n",
      "\n"
     ]
    }
   ],
   "source": [
    "## Retrieve symbols\n",
    "# verbose = False\n",
    "verbose = True\n",
    "# file_symbols = 'C:/Users/ping/MyDrive/stocks/MktCap2b_AUMtop1200/source/2021_Top1200_MktCap_n_AUM.txt'\n",
    "file_symbols = 'C:/Users/ping/Desktop/my_yfinance/symbols_trash.txt'\n",
    "\n",
    "# print('+'*29 + '  get_symbol_OHLCV  ' + '+'*29 + '\\n')\n",
    "# region get list of symbols\n",
    "with open(file_symbols, 'r') as f:  # get symbols from text file\n",
    "    # remove leading and trailing whitespaces\n",
    "    symbols = [line.strip() for line in f]  \n",
    "\n",
    "# removes '' in list of symbols, a blank line in text file makes '' in list\n",
    "symbols = list(filter(None, symbols))\n",
    "\n",
    "if verbose:\n",
    "    print('symbols in file: \"{}\"'.format(file_symbols))\n",
    "    print('Leading space, trailing spaces, and empty string (i.e. \"\") have been stripped from file')\n",
    "   \n",
    "    print('symbols: {}'.format(symbols))\n",
    "    print(\"symbol count: {}\".format(len(symbols)), '\\n')\n",
    "# endregion get list of symbols"
   ]
  },
  {
   "cell_type": "code",
   "execution_count": 31,
   "metadata": {},
   "outputs": [
    {
     "name": "stdout",
     "output_type": "stream",
     "text": [
      "date_today: 2022-07-20, type: <class 'datetime.date'>\n",
      "\n",
      "today_str: 2022-07-20, type: <class 'str'>\n",
      "\n"
     ]
    }
   ],
   "source": [
    "import datetime as dt\n",
    "print(\n",
    "    \"date_today: {:<10s}, type: {}\\n\".format(\n",
    "        str(dt.date.today()), type(dt.date.today())\n",
    "    ))\n",
    "today_str = str(dt.date.today())\n",
    "print(\n",
    "    \"today_str: {:<10s}, type: {}\\n\".format(\n",
    "        today_str, type(today_str)\n",
    "    ))\n"
   ]
  },
  {
   "cell_type": "code",
   "execution_count": null,
   "metadata": {},
   "outputs": [],
   "source": [
    "OHLCVadj = yf.download(  # or pdr.get_data_yahoo(...\n",
    "        # tickers list or string as well\n",
    "        # tickers = \"SPY AAPL MSFT\",\n",
    "        tickers = symbols,\n",
    "\n",
    "        # use \"period\" instead of start/end\n",
    "        # valid periods: 1d,5d,1mo,3mo,6mo,1y,2y,5y,10y,ytd,max\n",
    "        # (optional, default is '1mo')\n",
    "        period = \"max\",\n",
    "\n",
    "        # fetch data by interval (including intraday if period < 60 days)\n",
    "        # valid intervals: 1m,2m,5m,15m,30m,60m,90m,1h,1d,5d,1wk,1mo,3mo\n",
    "        # (optional, default is '1d')\n",
    "        interval = \"1d\",\n",
    "\n",
    "        # group by ticker (to access via data['SPY'])\n",
    "        # (optional, default is 'column')\n",
    "        group_by = 'ticker',\n",
    "\n",
    "        # adjust all OHLC automatically\n",
    "        # (optional, default is False)\n",
    "        auto_adjust = True,\n",
    "\n",
    "        # download pre/post regular market hours data\n",
    "        # (optional, default is False)\n",
    "        prepost = False,\n",
    "\n",
    "        # use threads for mass downloading? (True/False/Integer)\n",
    "        # (optional, default is True)\n",
    "        threads = True,\n",
    "\n",
    "        # proxy URL scheme use use when downloading?\n",
    "        # (optional, default is None)\n",
    "        proxy = None\n",
    "    )\n"
   ]
  }
 ],
 "metadata": {
  "kernelspec": {
   "display_name": "Python 3.7.9 ('.venv': poetry)",
   "language": "python",
   "name": "python3"
  },
  "language_info": {
   "codemirror_mode": {
    "name": "ipython",
    "version": 3
   },
   "file_extension": ".py",
   "mimetype": "text/x-python",
   "name": "python",
   "nbconvert_exporter": "python",
   "pygments_lexer": "ipython3",
   "version": "3.7.9"
  },
  "orig_nbformat": 4,
  "vscode": {
   "interpreter": {
    "hash": "55a3812d65f91e7e7447da6b5cfc60716e82f91e6a92533fb27b46796ad1962a"
   }
  }
 },
 "nbformat": 4,
 "nbformat_minor": 2
}
