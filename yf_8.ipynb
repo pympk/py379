{
 "cells": [
  {
   "cell_type": "code",
   "execution_count": 96,
   "metadata": {},
   "outputs": [],
   "source": [
    "# from yf_utils import _2_split_train_val_test, _3_random_slices, _4_lookback_slices\n",
    "from yf_utils import _5_perf_ranks, _6_grp_tuples_sort_sum\n",
    "from myUtils import pickle_load\n",
    "\n",
    "# verbose = False  # True prints more output\n",
    "verbose = True  # True prints more output\n",
    "\n",
    "path_dir = \"C:/Users/ping/MyDrive/stocks/yfinance/\"\n",
    "path_data_dump = path_dir + \"VSCode_dump/\"\n",
    "fp_df_close_clean = 'df_close_clean'\n",
    "fp_rtn_results = 'rtn_results'\n",
    "df_close_clean = pickle_load(path_data_dump, fp_df_close_clean)"
   ]
  },
  {
   "cell_type": "code",
   "execution_count": 97,
   "metadata": {},
   "outputs": [],
   "source": [
    "# number of days to lookback from last df date for performance evaluation\n",
    "days_lookbacks = [60, 120]\n",
    "days_lookbacks = [30]\n",
    "days_lookbacks.sort()  # sort list of integers in ascending order\n",
    "\n",
    "# number of the most-common symbols from days_lookbacks' performance rankings to keep\n",
    "n_top_syms = 20  \n",
    "\n",
    "syms_start = 0  # slice start of set_most_common_syms\n",
    "syms_end = 10  #  slice end of set_most_common_syms"
   ]
  },
  {
   "cell_type": "code",
   "execution_count": 98,
   "metadata": {},
   "outputs": [
    {
     "data": {
      "text/html": [
       "<div>\n",
       "<style scoped>\n",
       "    .dataframe tbody tr th:only-of-type {\n",
       "        vertical-align: middle;\n",
       "    }\n",
       "\n",
       "    .dataframe tbody tr th {\n",
       "        vertical-align: top;\n",
       "    }\n",
       "\n",
       "    .dataframe thead th {\n",
       "        text-align: right;\n",
       "    }\n",
       "</style>\n",
       "<table border=\"1\" class=\"dataframe\">\n",
       "  <thead>\n",
       "    <tr style=\"text-align: right;\">\n",
       "      <th></th>\n",
       "      <th>date</th>\n",
       "      <th>rtn_tss_mean</th>\n",
       "      <th>rtn_tss_std</th>\n",
       "      <th>rtn_SPY</th>\n",
       "      <th>rtn_dif</th>\n",
       "    </tr>\n",
       "  </thead>\n",
       "  <tbody>\n",
       "    <tr>\n",
       "      <th>0</th>\n",
       "      <td>2023-02-16</td>\n",
       "      <td>-0.001084</td>\n",
       "      <td>0.033205</td>\n",
       "      <td>-0.013769</td>\n",
       "      <td>0.012684</td>\n",
       "    </tr>\n",
       "    <tr>\n",
       "      <th>1</th>\n",
       "      <td>2023-02-17</td>\n",
       "      <td>-0.003160</td>\n",
       "      <td>0.006869</td>\n",
       "      <td>-0.002498</td>\n",
       "      <td>-0.000662</td>\n",
       "    </tr>\n",
       "    <tr>\n",
       "      <th>2</th>\n",
       "      <td>2023-02-22</td>\n",
       "      <td>0.006447</td>\n",
       "      <td>0.013909</td>\n",
       "      <td>-0.001378</td>\n",
       "      <td>0.007825</td>\n",
       "    </tr>\n",
       "  </tbody>\n",
       "</table>\n",
       "</div>"
      ],
      "text/plain": [
       "         date  rtn_tss_mean  rtn_tss_std   rtn_SPY   rtn_dif\n",
       "0  2023-02-16     -0.001084     0.033205 -0.013769  0.012684\n",
       "1  2023-02-17     -0.003160     0.006869 -0.002498 -0.000662\n",
       "2  2023-02-22      0.006447     0.013909 -0.001378  0.007825"
      ]
     },
     "execution_count": 98,
     "metadata": {},
     "output_type": "execute_result"
    }
   ],
   "source": [
    "# load past mean daily return of top_set_syms verus SPY return \n",
    "rtn_results = pickle_load(path_data_dump, fp_rtn_results)\n",
    "rtn_results"
   ]
  },
  {
   "cell_type": "code",
   "execution_count": 99,
   "metadata": {},
   "outputs": [],
   "source": [
    "# grp_top_set_syms_n_freq = []  # list of lists of top_set_symbols_n_freq, there are n_samples lists in list\n",
    "# grp_top_set_syms = []  # list of lists of top_set_symbols, there are n_samples lists in list\n",
    "grp_most_common_syms = []  # accumulates the best performing symbols from each days_lookback\n",
    "grp_perf_ranks = []  # accumulates the best performance ranking symbols from each days_lookback \n",
    "grp_dates = []  # dates of days_lookbacks \n",
    "\n",
    "for d_lookback in days_lookbacks:\n",
    "  df = df_close_clean.iloc[-d_lookback:]\n",
    "  perf_ranks, most_common_syms = _5_perf_ranks(df, n_top_syms=n_top_syms)  # get the best performance symbols and rankings\n",
    "  grp_most_common_syms.append(most_common_syms)\n",
    "  grp_perf_ranks.append(perf_ranks)  \n",
    "  grp_dates.append(df.index[0].strftime(\"%Y-%m-%d\")) \n",
    "\n",
    "grp_dates.append(df.index[-1].strftime(\"%Y-%m-%d\"))  # get df's last date\n",
    "grp_dates.sort()"
   ]
  },
  {
   "cell_type": "code",
   "execution_count": 100,
   "metadata": {},
   "outputs": [],
   "source": [
    "# flatten list of lists of (symbol:frequency)\n",
    "flat_grp_most_common_syms = [val for sublist in grp_most_common_syms for val in sublist]\n",
    "# group symbols from set of days_lookbacks (i.e. lb_slices) and sum frequency of the symbols\n",
    "set_most_common_syms = _6_grp_tuples_sort_sum(flat_grp_most_common_syms, reverse=True)\n",
    "# get the top few most-frequent symbol:frequency pairs\n",
    "top_set_syms_n_freq = set_most_common_syms[0:n_top_syms]\n",
    "# get symbols from top_set_syms_n_freq\n",
    "top_set_syms = [i[0] for i in top_set_syms_n_freq[syms_start:syms_end]]"
   ]
  },
  {
   "cell_type": "code",
   "execution_count": 101,
   "metadata": {},
   "outputs": [
    {
     "name": "stdout",
     "output_type": "stream",
     "text": [
      "grp_dates: ['2023-01-10', '2023-02-22']\n",
      "top_set_syms_n_freq: [('CTLT', 3), ('ELF', 3), ('EVRI', 3), ('NATI', 3), ('OEC', 3), ('TA', 3), ('TSLA', 3), ('WIRE', 3), ('ACLS', 2), ('CIGI', 2), ('CRUS', 2), ('FTSM', 2), ('LRN', 2), ('NVGS', 2), ('PAR', 2), ('PDFS', 2), ('SMG', 2), ('THR', 2), ('TNK', 2), ('ATI', 1)]\n",
      "top_set_syms: ['CTLT', 'ELF', 'EVRI', 'NATI', 'OEC', 'TA', 'TSLA', 'WIRE', 'ACLS', 'CIGI']\n"
     ]
    }
   ],
   "source": [
    "print(f'grp_dates: {grp_dates}')\n",
    "print(f'top_set_syms_n_freq: {top_set_syms_n_freq}')\n",
    "print(f'top_set_syms: {top_set_syms}')"
   ]
  },
  {
   "cell_type": "code",
   "execution_count": 102,
   "metadata": {},
   "outputs": [],
   "source": [
    "# import webbrowser\n",
    "\n",
    "# y_quote = 'https://finance.yahoo.com/quote/'\n",
    "# for sym in top_set_syms:\n",
    "#   url = y_quote + sym\n",
    "#   print(url)\n",
    "#   webbrowser.open(url)  # open symbols in yahoo finance"
   ]
  },
  {
   "cell_type": "code",
   "execution_count": 103,
   "metadata": {},
   "outputs": [],
   "source": [
    "# # Importing Pandas to create DataFrame\n",
    "# import pandas as pd\n",
    "\n",
    "# my_cols = ['date', 'days_lookbacks', 'n_top_syms', 'syms_start', 'syms_end', 'grp_dates', 'top_set_syms_n_freq', 'top_set_syms']\n",
    "# # Creating Empty DataFrame and Storing it in variable df\n",
    "# df = pd.DataFrame(columns=my_cols)\n",
    "# pickle_dump(df, path_data_dump, fp_top_set_syms)\n",
    "# df"
   ]
  },
  {
   "cell_type": "code",
   "execution_count": 104,
   "metadata": {},
   "outputs": [],
   "source": [
    "from myUtils import pickle_load, pickle_dump\n",
    "\n",
    "path_dir = \"C:/Users/ping/MyDrive/stocks/yfinance/\"\n",
    "path_data_dump = path_dir + \"VSCode_dump/\"\n",
    "fp_top_set_syms = 'df_top_set_syms'  # df to store top set symbols"
   ]
  },
  {
   "cell_type": "code",
   "execution_count": 105,
   "metadata": {},
   "outputs": [
    {
     "data": {
      "text/html": [
       "<div>\n",
       "<style scoped>\n",
       "    .dataframe tbody tr th:only-of-type {\n",
       "        vertical-align: middle;\n",
       "    }\n",
       "\n",
       "    .dataframe tbody tr th {\n",
       "        vertical-align: top;\n",
       "    }\n",
       "\n",
       "    .dataframe thead th {\n",
       "        text-align: right;\n",
       "    }\n",
       "</style>\n",
       "<table border=\"1\" class=\"dataframe\">\n",
       "  <thead>\n",
       "    <tr style=\"text-align: right;\">\n",
       "      <th></th>\n",
       "      <th>date</th>\n",
       "      <th>days_lookbacks</th>\n",
       "      <th>n_top_syms</th>\n",
       "      <th>syms_start</th>\n",
       "      <th>syms_end</th>\n",
       "      <th>grp_dates</th>\n",
       "      <th>top_set_syms_n_freq</th>\n",
       "      <th>top_set_syms</th>\n",
       "    </tr>\n",
       "  </thead>\n",
       "  <tbody>\n",
       "    <tr>\n",
       "      <th>0</th>\n",
       "      <td>2023-02-22</td>\n",
       "      <td>[60, 120]</td>\n",
       "      <td>20</td>\n",
       "      <td>0</td>\n",
       "      <td>10</td>\n",
       "      <td>['2022-08-31', '2022-11-25', '2023-02-22']</td>\n",
       "      <td>[('FTSM', 6), ('HZNP', 5), ('ACGL', 4), ('ACLS', 4), ('WYNN', 4), ('ANF', 3), ('ELF', 3), ('FIVE', 3), ('HSBC', 3), ...</td>\n",
       "      <td>['FTSM', 'HZNP', 'ACGL', 'ACLS', 'WYNN', 'ANF', 'ELF', 'FIVE', 'HSBC', 'HTHT']</td>\n",
       "    </tr>\n",
       "    <tr>\n",
       "      <th>1</th>\n",
       "      <td>2023-02-22</td>\n",
       "      <td>[30]</td>\n",
       "      <td>20</td>\n",
       "      <td>0</td>\n",
       "      <td>10</td>\n",
       "      <td>['2023-01-10', '2023-02-22']</td>\n",
       "      <td>[('CTLT', 3), ('ELF', 3), ('EVRI', 3), ('NATI', 3), ('OEC', 3), ('TA', 3), ('TSLA', 3), ('WIRE', 3), ('ACLS', 2), ('...</td>\n",
       "      <td>['CTLT', 'ELF', 'EVRI', 'NATI', 'OEC', 'TA', 'TSLA', 'WIRE', 'ACLS', 'CIGI']</td>\n",
       "    </tr>\n",
       "  </tbody>\n",
       "</table>\n",
       "</div>"
      ],
      "text/plain": [
       "         date days_lookbacks n_top_syms syms_start syms_end  \\\n",
       "0  2023-02-22      [60, 120]         20          0       10   \n",
       "1  2023-02-22           [30]         20          0       10   \n",
       "\n",
       "                                    grp_dates  \\\n",
       "0  ['2022-08-31', '2022-11-25', '2023-02-22']   \n",
       "1                ['2023-01-10', '2023-02-22']   \n",
       "\n",
       "                                                                                                       top_set_syms_n_freq  \\\n",
       "0  [('FTSM', 6), ('HZNP', 5), ('ACGL', 4), ('ACLS', 4), ('WYNN', 4), ('ANF', 3), ('ELF', 3), ('FIVE', 3), ('HSBC', 3), ...   \n",
       "1  [('CTLT', 3), ('ELF', 3), ('EVRI', 3), ('NATI', 3), ('OEC', 3), ('TA', 3), ('TSLA', 3), ('WIRE', 3), ('ACLS', 2), ('...   \n",
       "\n",
       "                                                                     top_set_syms  \n",
       "0  ['FTSM', 'HZNP', 'ACGL', 'ACLS', 'WYNN', 'ANF', 'ELF', 'FIVE', 'HSBC', 'HTHT']  \n",
       "1    ['CTLT', 'ELF', 'EVRI', 'NATI', 'OEC', 'TA', 'TSLA', 'WIRE', 'ACLS', 'CIGI']  "
      ]
     },
     "execution_count": 105,
     "metadata": {},
     "output_type": "execute_result"
    }
   ],
   "source": [
    "df = pickle_load(path_data_dump, fp_top_set_syms)\n",
    "df"
   ]
  },
  {
   "cell_type": "code",
   "execution_count": 106,
   "metadata": {},
   "outputs": [
    {
     "data": {
      "text/html": [
       "<div>\n",
       "<style scoped>\n",
       "    .dataframe tbody tr th:only-of-type {\n",
       "        vertical-align: middle;\n",
       "    }\n",
       "\n",
       "    .dataframe tbody tr th {\n",
       "        vertical-align: top;\n",
       "    }\n",
       "\n",
       "    .dataframe thead th {\n",
       "        text-align: right;\n",
       "    }\n",
       "</style>\n",
       "<table border=\"1\" class=\"dataframe\">\n",
       "  <thead>\n",
       "    <tr style=\"text-align: right;\">\n",
       "      <th></th>\n",
       "      <th>date</th>\n",
       "      <th>days_lookbacks</th>\n",
       "      <th>n_top_syms</th>\n",
       "      <th>syms_start</th>\n",
       "      <th>syms_end</th>\n",
       "      <th>grp_dates</th>\n",
       "      <th>top_set_syms_n_freq</th>\n",
       "      <th>top_set_syms</th>\n",
       "    </tr>\n",
       "  </thead>\n",
       "  <tbody>\n",
       "    <tr>\n",
       "      <th>0</th>\n",
       "      <td>2023-02-22</td>\n",
       "      <td>[60, 120]</td>\n",
       "      <td>20</td>\n",
       "      <td>0</td>\n",
       "      <td>10</td>\n",
       "      <td>['2022-08-31', '2022-11-25', '2023-02-22']</td>\n",
       "      <td>[('FTSM', 6), ('HZNP', 5), ('ACGL', 4), ('ACLS', 4), ('WYNN', 4), ('ANF', 3), ('ELF', 3), ('FIVE', 3), ('HSBC', 3), ...</td>\n",
       "      <td>['FTSM', 'HZNP', 'ACGL', 'ACLS', 'WYNN', 'ANF', 'ELF', 'FIVE', 'HSBC', 'HTHT']</td>\n",
       "    </tr>\n",
       "    <tr>\n",
       "      <th>1</th>\n",
       "      <td>2023-02-22</td>\n",
       "      <td>[30]</td>\n",
       "      <td>20</td>\n",
       "      <td>0</td>\n",
       "      <td>10</td>\n",
       "      <td>['2023-01-10', '2023-02-22']</td>\n",
       "      <td>[('CTLT', 3), ('ELF', 3), ('EVRI', 3), ('NATI', 3), ('OEC', 3), ('TA', 3), ('TSLA', 3), ('WIRE', 3), ('ACLS', 2), ('...</td>\n",
       "      <td>['CTLT', 'ELF', 'EVRI', 'NATI', 'OEC', 'TA', 'TSLA', 'WIRE', 'ACLS', 'CIGI']</td>\n",
       "    </tr>\n",
       "    <tr>\n",
       "      <th>2</th>\n",
       "      <td>2023-02-22</td>\n",
       "      <td>[30]</td>\n",
       "      <td>20</td>\n",
       "      <td>0</td>\n",
       "      <td>10</td>\n",
       "      <td>[2023-01-10, 2023-02-22]</td>\n",
       "      <td>[(CTLT, 3), (ELF, 3), (EVRI, 3), (NATI, 3), (OEC, 3), (TA, 3), (TSLA, 3), (WIRE, 3), (ACLS, 2), (CIGI, 2), (CRUS, 2)...</td>\n",
       "      <td>[CTLT, ELF, EVRI, NATI, OEC, TA, TSLA, WIRE, ACLS, CIGI]</td>\n",
       "    </tr>\n",
       "  </tbody>\n",
       "</table>\n",
       "</div>"
      ],
      "text/plain": [
       "         date days_lookbacks n_top_syms syms_start syms_end  \\\n",
       "0  2023-02-22      [60, 120]         20          0       10   \n",
       "1  2023-02-22           [30]         20          0       10   \n",
       "2  2023-02-22           [30]         20          0       10   \n",
       "\n",
       "                                    grp_dates  \\\n",
       "0  ['2022-08-31', '2022-11-25', '2023-02-22']   \n",
       "1                ['2023-01-10', '2023-02-22']   \n",
       "2                    [2023-01-10, 2023-02-22]   \n",
       "\n",
       "                                                                                                       top_set_syms_n_freq  \\\n",
       "0  [('FTSM', 6), ('HZNP', 5), ('ACGL', 4), ('ACLS', 4), ('WYNN', 4), ('ANF', 3), ('ELF', 3), ('FIVE', 3), ('HSBC', 3), ...   \n",
       "1  [('CTLT', 3), ('ELF', 3), ('EVRI', 3), ('NATI', 3), ('OEC', 3), ('TA', 3), ('TSLA', 3), ('WIRE', 3), ('ACLS', 2), ('...   \n",
       "2  [(CTLT, 3), (ELF, 3), (EVRI, 3), (NATI, 3), (OEC, 3), (TA, 3), (TSLA, 3), (WIRE, 3), (ACLS, 2), (CIGI, 2), (CRUS, 2)...   \n",
       "\n",
       "                                                                     top_set_syms  \n",
       "0  ['FTSM', 'HZNP', 'ACGL', 'ACLS', 'WYNN', 'ANF', 'ELF', 'FIVE', 'HSBC', 'HTHT']  \n",
       "1    ['CTLT', 'ELF', 'EVRI', 'NATI', 'OEC', 'TA', 'TSLA', 'WIRE', 'ACLS', 'CIGI']  \n",
       "2                        [CTLT, ELF, EVRI, NATI, OEC, TA, TSLA, WIRE, ACLS, CIGI]  "
      ]
     },
     "execution_count": 106,
     "metadata": {},
     "output_type": "execute_result"
    }
   ],
   "source": [
    "row_add = [grp_dates[-1], days_lookbacks, n_top_syms, syms_start, syms_end, grp_dates, top_set_syms_n_freq, top_set_syms]\n",
    "df.loc[len(df)] = row_add\n",
    "df"
   ]
  },
  {
   "cell_type": "code",
   "execution_count": 107,
   "metadata": {},
   "outputs": [
    {
     "data": {
      "text/html": [
       "<div>\n",
       "<style scoped>\n",
       "    .dataframe tbody tr th:only-of-type {\n",
       "        vertical-align: middle;\n",
       "    }\n",
       "\n",
       "    .dataframe tbody tr th {\n",
       "        vertical-align: top;\n",
       "    }\n",
       "\n",
       "    .dataframe thead th {\n",
       "        text-align: right;\n",
       "    }\n",
       "</style>\n",
       "<table border=\"1\" class=\"dataframe\">\n",
       "  <thead>\n",
       "    <tr style=\"text-align: right;\">\n",
       "      <th></th>\n",
       "      <th>date</th>\n",
       "      <th>days_lookbacks</th>\n",
       "      <th>n_top_syms</th>\n",
       "      <th>syms_start</th>\n",
       "      <th>syms_end</th>\n",
       "      <th>grp_dates</th>\n",
       "      <th>top_set_syms_n_freq</th>\n",
       "      <th>top_set_syms</th>\n",
       "    </tr>\n",
       "  </thead>\n",
       "  <tbody>\n",
       "    <tr>\n",
       "      <th>0</th>\n",
       "      <td>2023-02-22</td>\n",
       "      <td>[60, 120]</td>\n",
       "      <td>20</td>\n",
       "      <td>0</td>\n",
       "      <td>10</td>\n",
       "      <td>['2022-08-31', '2022-11-25', '2023-02-22']</td>\n",
       "      <td>[('FTSM', 6), ('HZNP', 5), ('ACGL', 4), ('ACLS', 4), ('WYNN', 4), ('ANF', 3), ('ELF', 3), ('FIVE', 3), ('HSBC', 3), ...</td>\n",
       "      <td>['FTSM', 'HZNP', 'ACGL', 'ACLS', 'WYNN', 'ANF', 'ELF', 'FIVE', 'HSBC', 'HTHT']</td>\n",
       "    </tr>\n",
       "    <tr>\n",
       "      <th>1</th>\n",
       "      <td>2023-02-22</td>\n",
       "      <td>[30]</td>\n",
       "      <td>20</td>\n",
       "      <td>0</td>\n",
       "      <td>10</td>\n",
       "      <td>['2023-01-10', '2023-02-22']</td>\n",
       "      <td>[('CTLT', 3), ('ELF', 3), ('EVRI', 3), ('NATI', 3), ('OEC', 3), ('TA', 3), ('TSLA', 3), ('WIRE', 3), ('ACLS', 2), ('...</td>\n",
       "      <td>['CTLT', 'ELF', 'EVRI', 'NATI', 'OEC', 'TA', 'TSLA', 'WIRE', 'ACLS', 'CIGI']</td>\n",
       "    </tr>\n",
       "  </tbody>\n",
       "</table>\n",
       "</div>"
      ],
      "text/plain": [
       "         date days_lookbacks n_top_syms syms_start syms_end  \\\n",
       "0  2023-02-22      [60, 120]         20          0       10   \n",
       "1  2023-02-22           [30]         20          0       10   \n",
       "\n",
       "                                    grp_dates  \\\n",
       "0  ['2022-08-31', '2022-11-25', '2023-02-22']   \n",
       "1                ['2023-01-10', '2023-02-22']   \n",
       "\n",
       "                                                                                                       top_set_syms_n_freq  \\\n",
       "0  [('FTSM', 6), ('HZNP', 5), ('ACGL', 4), ('ACLS', 4), ('WYNN', 4), ('ANF', 3), ('ELF', 3), ('FIVE', 3), ('HSBC', 3), ...   \n",
       "1  [('CTLT', 3), ('ELF', 3), ('EVRI', 3), ('NATI', 3), ('OEC', 3), ('TA', 3), ('TSLA', 3), ('WIRE', 3), ('ACLS', 2), ('...   \n",
       "\n",
       "                                                                     top_set_syms  \n",
       "0  ['FTSM', 'HZNP', 'ACGL', 'ACLS', 'WYNN', 'ANF', 'ELF', 'FIVE', 'HSBC', 'HTHT']  \n",
       "1    ['CTLT', 'ELF', 'EVRI', 'NATI', 'OEC', 'TA', 'TSLA', 'WIRE', 'ACLS', 'CIGI']  "
      ]
     },
     "execution_count": 107,
     "metadata": {},
     "output_type": "execute_result"
    }
   ],
   "source": [
    "# df\n",
    "_df = df.astype(str)\n",
    "# df.loc[df.astype(str).drop_duplicates(subset=['date', 'days_lookbacks'])]\n",
    "_df = _df.drop_duplicates(subset=['date', 'days_lookbacks'])\n",
    "_df"
   ]
  },
  {
   "cell_type": "code",
   "execution_count": 108,
   "metadata": {},
   "outputs": [],
   "source": [
    "pickle_dump(_df, path_data_dump, fp_top_set_syms)"
   ]
  },
  {
   "cell_type": "code",
   "execution_count": 109,
   "metadata": {},
   "outputs": [
    {
     "data": {
      "text/html": [
       "<div>\n",
       "<style scoped>\n",
       "    .dataframe tbody tr th:only-of-type {\n",
       "        vertical-align: middle;\n",
       "    }\n",
       "\n",
       "    .dataframe tbody tr th {\n",
       "        vertical-align: top;\n",
       "    }\n",
       "\n",
       "    .dataframe thead th {\n",
       "        text-align: right;\n",
       "    }\n",
       "</style>\n",
       "<table border=\"1\" class=\"dataframe\">\n",
       "  <thead>\n",
       "    <tr style=\"text-align: right;\">\n",
       "      <th></th>\n",
       "      <th>date</th>\n",
       "      <th>days_lookbacks</th>\n",
       "      <th>n_top_syms</th>\n",
       "      <th>syms_start</th>\n",
       "      <th>syms_end</th>\n",
       "      <th>grp_dates</th>\n",
       "      <th>top_set_syms_n_freq</th>\n",
       "      <th>top_set_syms</th>\n",
       "    </tr>\n",
       "  </thead>\n",
       "  <tbody>\n",
       "    <tr>\n",
       "      <th>0</th>\n",
       "      <td>2023-02-22</td>\n",
       "      <td>[60, 120]</td>\n",
       "      <td>20</td>\n",
       "      <td>0</td>\n",
       "      <td>10</td>\n",
       "      <td>['2022-08-31', '2022-11-25', '2023-02-22']</td>\n",
       "      <td>[('FTSM', 6), ('HZNP', 5), ('ACGL', 4), ('ACLS', 4), ('WYNN', 4), ('ANF', 3), ('ELF', 3), ('FIVE', 3), ('HSBC', 3), ...</td>\n",
       "      <td>['FTSM', 'HZNP', 'ACGL', 'ACLS', 'WYNN', 'ANF', 'ELF', 'FIVE', 'HSBC', 'HTHT']</td>\n",
       "    </tr>\n",
       "    <tr>\n",
       "      <th>1</th>\n",
       "      <td>2023-02-22</td>\n",
       "      <td>[30]</td>\n",
       "      <td>20</td>\n",
       "      <td>0</td>\n",
       "      <td>10</td>\n",
       "      <td>['2023-01-10', '2023-02-22']</td>\n",
       "      <td>[('CTLT', 3), ('ELF', 3), ('EVRI', 3), ('NATI', 3), ('OEC', 3), ('TA', 3), ('TSLA', 3), ('WIRE', 3), ('ACLS', 2), ('...</td>\n",
       "      <td>['CTLT', 'ELF', 'EVRI', 'NATI', 'OEC', 'TA', 'TSLA', 'WIRE', 'ACLS', 'CIGI']</td>\n",
       "    </tr>\n",
       "  </tbody>\n",
       "</table>\n",
       "</div>"
      ],
      "text/plain": [
       "         date days_lookbacks n_top_syms syms_start syms_end  \\\n",
       "0  2023-02-22      [60, 120]         20          0       10   \n",
       "1  2023-02-22           [30]         20          0       10   \n",
       "\n",
       "                                    grp_dates  \\\n",
       "0  ['2022-08-31', '2022-11-25', '2023-02-22']   \n",
       "1                ['2023-01-10', '2023-02-22']   \n",
       "\n",
       "                                                                                                       top_set_syms_n_freq  \\\n",
       "0  [('FTSM', 6), ('HZNP', 5), ('ACGL', 4), ('ACLS', 4), ('WYNN', 4), ('ANF', 3), ('ELF', 3), ('FIVE', 3), ('HSBC', 3), ...   \n",
       "1  [('CTLT', 3), ('ELF', 3), ('EVRI', 3), ('NATI', 3), ('OEC', 3), ('TA', 3), ('TSLA', 3), ('WIRE', 3), ('ACLS', 2), ('...   \n",
       "\n",
       "                                                                     top_set_syms  \n",
       "0  ['FTSM', 'HZNP', 'ACGL', 'ACLS', 'WYNN', 'ANF', 'ELF', 'FIVE', 'HSBC', 'HTHT']  \n",
       "1    ['CTLT', 'ELF', 'EVRI', 'NATI', 'OEC', 'TA', 'TSLA', 'WIRE', 'ACLS', 'CIGI']  "
      ]
     },
     "execution_count": 109,
     "metadata": {},
     "output_type": "execute_result"
    }
   ],
   "source": [
    "_df = pickle_load(path_data_dump, fp_top_set_syms)\n",
    "_df"
   ]
  },
  {
   "cell_type": "code",
   "execution_count": 110,
   "metadata": {},
   "outputs": [
    {
     "data": {
      "text/plain": [
       "\"[('CTLT', 3), ('ELF', 3), ('EVRI', 3), ('NATI', 3), ('OEC', 3), ('TA', 3), ('TSLA', 3), ('WIRE', 3), ('ACLS', 2), ('CIGI', 2), ('CRUS', 2), ('FTSM', 2), ('LRN', 2), ('NVGS', 2), ('PAR', 2), ('PDFS', 2), ('SMG', 2), ('THR', 2), ('TNK', 2), ('ATI', 1)]\""
      ]
     },
     "execution_count": 110,
     "metadata": {},
     "output_type": "execute_result"
    }
   ],
   "source": [
    "_df[\"top_set_syms_n_freq\"][1]"
   ]
  },
  {
   "cell_type": "code",
   "execution_count": null,
   "metadata": {},
   "outputs": [],
   "source": [
    "prev_top_set_syms = df[\"top_set_syms\"].iloc[-2]\n",
    "prev_top_set_syms"
   ]
  },
  {
   "cell_type": "code",
   "execution_count": null,
   "metadata": {},
   "outputs": [],
   "source": [
    "import pandas as pd\n",
    "# pd.options.display.width = 120\n",
    "pd.options.display.max_colwidth = 120\n",
    "\n",
    "print(f'_df[\"top_set_syms_n_freq\"]:\\n{_df[\"top_set_syms_n_freq\"]}\\n')\n",
    "l_last_top_set_syms_n_freq = _df['top_set_syms_n_freq'].iloc[-1]\n",
    "\n",
    "print(f'_df[\"top_set_syms\"]:\\n{_df[\"top_set_syms\"]}')\n",
    "l_last_top_set_syms = _df['top_set_syms'].iloc[-1]\n",
    "print(f'last row of top_set_syms:\\n{l_last_top_set_syms}')"
   ]
  },
  {
   "cell_type": "code",
   "execution_count": null,
   "metadata": {},
   "outputs": [],
   "source": [
    "recent_top_set_syms = []\n",
    "for symbols in _df[\"top_set_syms\"]:\n",
    "  recent_top_set_syms.append(symbols)\n",
    "recent_top_set_syms\n",
    "\n",
    "# flatten symbols_download_err which is a list-of-lists\n",
    "recent_top_set_syms = [val for sublist in recent_top_set_syms for val in sublist]\n",
    "recent_top_set_syms\n",
    "# get list of unique symbols in df_OHLCV, list(df) is a list of tuples\n",
    "# e.g.: [('AAPL', 'Open')..('AAPL', 'Volume'),...\n",
    "#        ('ZZZZ', 'Open')..('ZZZZ', 'Volume')]\n",
    "recent_top_set_syms = list(set(recent_top_set_syms))\n",
    "recent_top_set_syms.append(\"SPY\")\n",
    "recent_top_set_syms.sort()\n",
    "print(recent_top_set_syms)\n"
   ]
  },
  {
   "cell_type": "code",
   "execution_count": null,
   "metadata": {},
   "outputs": [],
   "source": [
    "# my_cols.sort() will not change order of l_last_top_set_syms \n",
    "my_cols = recent_top_set_syms.copy()  \n",
    "my_cols.sort()\n",
    "# my_cols.append('SPY')\n",
    "_df = df_close_clean[my_cols].tail(10)\n",
    "# print(_df)\n",
    "print(_df.pct_change())\n",
    "_df.pct_change().tail(1)[0:10]"
   ]
  },
  {
   "cell_type": "code",
   "execution_count": null,
   "metadata": {},
   "outputs": [],
   "source": []
  },
  {
   "cell_type": "code",
   "execution_count": null,
   "metadata": {},
   "outputs": [],
   "source": [
    "# today's return from previous top_set_syms\n",
    "prev_top_set_syms_n_SPY = prev_top_set_syms + ['SPY']\n",
    "rtn_prev_top_set_syms = _df.pct_change().tail(1)[prev_top_set_syms_n_SPY]\n",
    "rtn_prev_top_set_syms_mean = rtn_prev_top_set_syms.mean(axis=1)[0]\n",
    "rtn_prev_top_set_syms_std = rtn_prev_top_set_syms.std(axis=1)[0]\n",
    "# print(f'rtn_prev_top_set_syms:\\n{rtn_prev_top_set_syms}')\n",
    "print(f'rtn_prev_top_set_syms_mean:                                                {rtn_prev_top_set_syms_mean:>10.6f}')\n",
    "print(f'rtn_prev_top_set_syms_std:                                                 {rtn_prev_top_set_syms_std:>10.6f}\\n')\n",
    "\n",
    "rtn_SPY = _df.pct_change().tail(1)['SPY'][0]  # [0] changes pd.Series to a value\n",
    "rtn_dif = rtn_prev_top_set_syms_mean - rtn_SPY\n",
    "print(f'rtn_SPY:                                                                   {rtn_SPY:>10.6f}\\n')                  \n",
    "print(f\"Difference in daily return between yesterday's top_set_syms_mean and SPY:  {rtn_dif:>10.6f}\")\n",
    "\n",
    "print(\"\\nToday's return of previous top_set_syms and SPY\")\n",
    "rtn_prev_top_set_syms"
   ]
  },
  {
   "cell_type": "code",
   "execution_count": null,
   "metadata": {},
   "outputs": [],
   "source": [
    "_date = rtn_prev_top_set_syms.tail(1).index.strftime('%Y-%m-%d')[0]\n",
    "_rtn_tss_mean = rtn_prev_top_set_syms_mean\n",
    "_rtn_tss_std = rtn_prev_top_set_syms_std\n",
    "_rtn_SPY = rtn_SPY\n",
    "_rtn_dif = rtn_dif"
   ]
  },
  {
   "cell_type": "code",
   "execution_count": null,
   "metadata": {},
   "outputs": [],
   "source": [
    "row_add = [_date, _rtn_tss_mean, _rtn_tss_std, _rtn_SPY, _rtn_dif]"
   ]
  },
  {
   "cell_type": "code",
   "execution_count": null,
   "metadata": {},
   "outputs": [],
   "source": [
    "# my_cols\n",
    "row_add"
   ]
  },
  {
   "cell_type": "code",
   "execution_count": null,
   "metadata": {},
   "outputs": [],
   "source": [
    "# # # Creating Empty DataFrame and Storing it in variable df\n",
    "# my_cols = ['date', 'rtn_tss_mean', 'rtn_tss_std', 'rtn_SPY', 'rtn_dif']\n",
    "# rtn_results = pd.DataFrame(columns=my_cols)\n",
    "\n",
    "rtn_results.loc[len(rtn_results)] = row_add\n",
    "rtn_results"
   ]
  },
  {
   "cell_type": "code",
   "execution_count": null,
   "metadata": {},
   "outputs": [],
   "source": [
    "rtn_results = rtn_results.drop_duplicates(subset=['date'])\n",
    "rtn_results"
   ]
  },
  {
   "cell_type": "code",
   "execution_count": null,
   "metadata": {},
   "outputs": [],
   "source": [
    "pickle_dump(rtn_results, path_data_dump, fp_rtn_results)"
   ]
  },
  {
   "cell_type": "code",
   "execution_count": null,
   "metadata": {},
   "outputs": [],
   "source": [
    "_df = pickle_load(path_data_dump, fp_rtn_results)\n",
    "_df.sort_values(by='date', ascending=False)"
   ]
  }
 ],
 "metadata": {
  "kernelspec": {
   "display_name": "Python 3",
   "language": "python",
   "name": "python3"
  },
  "language_info": {
   "codemirror_mode": {
    "name": "ipython",
    "version": 3
   },
   "file_extension": ".py",
   "mimetype": "text/x-python",
   "name": "python",
   "nbconvert_exporter": "python",
   "pygments_lexer": "ipython3",
   "version": "3.7.9"
  },
  "orig_nbformat": 4,
  "vscode": {
   "interpreter": {
    "hash": "55a3812d65f91e7e7447da6b5cfc60716e82f91e6a92533fb27b46796ad1962a"
   }
  }
 },
 "nbformat": 4,
 "nbformat_minor": 2
}
