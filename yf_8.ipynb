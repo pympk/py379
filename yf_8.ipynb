{
 "cells": [
  {
   "cell_type": "code",
   "execution_count": 59,
   "metadata": {},
   "outputs": [],
   "source": [
    "# from yf_utils import _2_split_train_val_test, _3_random_slices, _4_lookback_slices\n",
    "from yf_utils import _5_perf_ranks, _6_grp_tuples_sort_sum\n",
    "from myUtils import pickle_load\n",
    "\n",
    "# verbose = False  # True prints more output\n",
    "verbose = True  # True prints more output\n",
    "\n",
    "path_dir = \"C:/Users/ping/MyDrive/stocks/yfinance/\"\n",
    "path_data_dump = path_dir + \"VSCode_dump/\"\n",
    "fp_df_close_clean = 'df_close_clean'\n",
    "df_close_clean = pickle_load(path_data_dump, fp_df_close_clean)"
   ]
  },
  {
   "cell_type": "code",
   "execution_count": 60,
   "metadata": {},
   "outputs": [],
   "source": [
    "# number of days to lookback from last df date for performance evaluation\n",
    "# days_lookbacks = [30, 120, 60, 240]\n",
    "# days_lookbacks = [24, 48, 95, 190]\n",
    "days_lookbacks = [16, 32, 64, 128]  # corresponds to 0.8, 1.5, 3.0, 6.1 months\n",
    "# days_lookbacks = [15, 30, 60, 120]  # corresponds to 0.8, 1.5, 3.0, 6.1 months\n",
    "# days_lookbacks = [30, 60, 120]  # corresponds to 0.8, 1.5, 3.0, 6.1 months\n",
    "days_lookbacks.sort()  # sort list of integers in ascending order\n",
    "\n",
    "# number of the most-common symbols from days_lookbacks' performance rankings to keep\n",
    "n_top_syms = 30  \n",
    "\n",
    "syms_start = 0  # slice start of set_most_common_syms\n",
    "syms_end = 5  #  slice end of set_most_common_syms"
   ]
  },
  {
   "cell_type": "code",
   "execution_count": 61,
   "metadata": {},
   "outputs": [],
   "source": [
    "# grp_top_set_syms_n_freq = []  # list of lists of top_set_symbols_n_freq, there are n_samples lists in list\n",
    "# grp_top_set_syms = []  # list of lists of top_set_symbols, there are n_samples lists in list\n",
    "grp_most_common_syms = []  # accumulates the best performing symbols from each days_lookback\n",
    "grp_perf_ranks = []  # accumulates the best performance ranking symbols from each days_lookback \n",
    "grp_dates = []  # dates of days_lookbacks \n",
    "\n",
    "for d_lookback in days_lookbacks:\n",
    "  df = df_close_clean.iloc[-d_lookback:]\n",
    "  perf_ranks, most_common_syms = _5_perf_ranks(df, n_top_syms=n_top_syms)  # get the best performance symbols and rankings\n",
    "  grp_most_common_syms.append(most_common_syms)\n",
    "  grp_perf_ranks.append(perf_ranks)  \n",
    "  grp_dates.append(df.index[0].strftime(\"%Y-%m-%d\")) \n",
    "\n",
    "grp_dates.append(df.index[-1].strftime(\"%Y-%m-%d\"))  # get df's last date\n",
    "grp_dates.sort()"
   ]
  },
  {
   "cell_type": "code",
   "execution_count": 62,
   "metadata": {},
   "outputs": [],
   "source": [
    "# flatten list of lists of (symbol:frequency)\n",
    "flat_grp_most_common_syms = [val for sublist in grp_most_common_syms for val in sublist]\n",
    "# group symbols from set of days_lookbacks (i.e. lb_slices) and sum frequency of the symbols\n",
    "set_most_common_syms = _6_grp_tuples_sort_sum(flat_grp_most_common_syms, reverse=True)\n",
    "# get the top few most-frequent symbol:frequency pairs\n",
    "top_set_syms_n_freq = set_most_common_syms[0:n_top_syms]\n",
    "# get symbols from top_set_syms_n_freq\n",
    "top_set_syms = [i[0] for i in top_set_syms_n_freq[syms_start:syms_end]]"
   ]
  },
  {
   "cell_type": "code",
   "execution_count": 63,
   "metadata": {},
   "outputs": [
    {
     "name": "stdout",
     "output_type": "stream",
     "text": [
      "grp_dates: ['2022-07-14', '2022-10-13', '2022-11-29', '2022-12-21', '2023-01-13']\n",
      "top_set_syms_n_freq: [('AU', 6), ('BGNE', 6), ('COLL', 6), ('CROX', 6), ('EXAS', 6), ('HZNP', 6), ('ACGL', 5), ('AVEO', 5), ('BABA', 5), ('BMA', 5), ('BVH', 5), ('SHYF', 5), ('TPX', 5), ('ACIW', 4), ('AGYS', 4), ('AJRD', 4), ('ANF', 4), ('CLF', 4), ('EDU', 4), ('GE', 4), ('HEES', 4), ('HSBC', 4), ('WYNN', 4), ('AAWW', 3), ('ACLS', 3), ('ATCO', 3), ('AXON', 3), ('BA', 3), ('BKE', 3), ('BURL', 3)]\n",
      "top_set_syms: ['AU', 'BGNE', 'COLL', 'CROX', 'EXAS']\n"
     ]
    }
   ],
   "source": [
    "print(f'grp_dates: {grp_dates}')\n",
    "print(f'top_set_syms_n_freq: {top_set_syms_n_freq}')\n",
    "print(f'top_set_syms: {top_set_syms}')"
   ]
  },
  {
   "cell_type": "code",
   "execution_count": null,
   "metadata": {},
   "outputs": [],
   "source": [
    "# import webbrowser\n",
    "\n",
    "# y_quote = 'https://finance.yahoo.com/quote/'\n",
    "# for sym in top_set_syms:\n",
    "#   url = y_quote + sym\n",
    "#   print(url)\n",
    "#   webbrowser.open(url)  # open symbols in yahoo finance"
   ]
  },
  {
   "cell_type": "code",
   "execution_count": null,
   "metadata": {},
   "outputs": [],
   "source": [
    "# # Importing Pandas to create DataFrame\n",
    "# import pandas as pd\n",
    "\n",
    "# my_cols = ['date', 'days_lookbacks', 'n_top_syms', 'syms_start', 'syms_end', 'grp_dates', 'top_set_syms_n_freq', 'top_set_syms']\n",
    "# # Creating Empty DataFrame and Storing it in variable df\n",
    "# df = pd.DataFrame(columns=my_cols)"
   ]
  },
  {
   "cell_type": "code",
   "execution_count": 64,
   "metadata": {},
   "outputs": [],
   "source": [
    "from myUtils import pickle_load, pickle_dump\n",
    "\n",
    "path_dir = \"C:/Users/ping/MyDrive/stocks/yfinance/\"\n",
    "path_data_dump = path_dir + \"VSCode_dump/\"\n",
    "fp_top_set_syms = 'df_top_set_syms'  # df to store top set symbols"
   ]
  },
  {
   "cell_type": "code",
   "execution_count": 65,
   "metadata": {},
   "outputs": [
    {
     "data": {
      "text/html": [
       "<div>\n",
       "<style scoped>\n",
       "    .dataframe tbody tr th:only-of-type {\n",
       "        vertical-align: middle;\n",
       "    }\n",
       "\n",
       "    .dataframe tbody tr th {\n",
       "        vertical-align: top;\n",
       "    }\n",
       "\n",
       "    .dataframe thead th {\n",
       "        text-align: right;\n",
       "    }\n",
       "</style>\n",
       "<table border=\"1\" class=\"dataframe\">\n",
       "  <thead>\n",
       "    <tr style=\"text-align: right;\">\n",
       "      <th></th>\n",
       "      <th>date</th>\n",
       "      <th>days_lookbacks</th>\n",
       "      <th>n_top_syms</th>\n",
       "      <th>syms_start</th>\n",
       "      <th>syms_end</th>\n",
       "      <th>grp_dates</th>\n",
       "      <th>top_set_syms_n_freq</th>\n",
       "      <th>top_set_syms</th>\n",
       "    </tr>\n",
       "  </thead>\n",
       "  <tbody>\n",
       "  </tbody>\n",
       "</table>\n",
       "</div>"
      ],
      "text/plain": [
       "Empty DataFrame\n",
       "Columns: [date, days_lookbacks, n_top_syms, syms_start, syms_end, grp_dates, top_set_syms_n_freq, top_set_syms]\n",
       "Index: []"
      ]
     },
     "execution_count": 65,
     "metadata": {},
     "output_type": "execute_result"
    }
   ],
   "source": [
    "df = pickle_load(path_data_dump, fp_top_set_syms)\n",
    "df"
   ]
  },
  {
   "cell_type": "code",
   "execution_count": 66,
   "metadata": {},
   "outputs": [
    {
     "data": {
      "text/html": [
       "<div>\n",
       "<style scoped>\n",
       "    .dataframe tbody tr th:only-of-type {\n",
       "        vertical-align: middle;\n",
       "    }\n",
       "\n",
       "    .dataframe tbody tr th {\n",
       "        vertical-align: top;\n",
       "    }\n",
       "\n",
       "    .dataframe thead th {\n",
       "        text-align: right;\n",
       "    }\n",
       "</style>\n",
       "<table border=\"1\" class=\"dataframe\">\n",
       "  <thead>\n",
       "    <tr style=\"text-align: right;\">\n",
       "      <th></th>\n",
       "      <th>date</th>\n",
       "      <th>days_lookbacks</th>\n",
       "      <th>n_top_syms</th>\n",
       "      <th>syms_start</th>\n",
       "      <th>syms_end</th>\n",
       "      <th>grp_dates</th>\n",
       "      <th>top_set_syms_n_freq</th>\n",
       "      <th>top_set_syms</th>\n",
       "    </tr>\n",
       "  </thead>\n",
       "  <tbody>\n",
       "    <tr>\n",
       "      <th>0</th>\n",
       "      <td>2023-01-13</td>\n",
       "      <td>[16, 32, 64, 128]</td>\n",
       "      <td>30</td>\n",
       "      <td>0</td>\n",
       "      <td>5</td>\n",
       "      <td>[2022-07-14, 2022-10-13, 2022-11-29, 2022-12-2...</td>\n",
       "      <td>[(AU, 6), (BGNE, 6), (COLL, 6), (CROX, 6), (EX...</td>\n",
       "      <td>[AU, BGNE, COLL, CROX, EXAS]</td>\n",
       "    </tr>\n",
       "  </tbody>\n",
       "</table>\n",
       "</div>"
      ],
      "text/plain": [
       "         date     days_lookbacks n_top_syms syms_start syms_end  \\\n",
       "0  2023-01-13  [16, 32, 64, 128]         30          0        5   \n",
       "\n",
       "                                           grp_dates  \\\n",
       "0  [2022-07-14, 2022-10-13, 2022-11-29, 2022-12-2...   \n",
       "\n",
       "                                 top_set_syms_n_freq  \\\n",
       "0  [(AU, 6), (BGNE, 6), (COLL, 6), (CROX, 6), (EX...   \n",
       "\n",
       "                   top_set_syms  \n",
       "0  [AU, BGNE, COLL, CROX, EXAS]  "
      ]
     },
     "execution_count": 66,
     "metadata": {},
     "output_type": "execute_result"
    }
   ],
   "source": [
    "row_add = [grp_dates[-1], days_lookbacks, n_top_syms, syms_start, syms_end, grp_dates, top_set_syms_n_freq, top_set_syms]\n",
    "df.loc[len(df)] = row_add\n",
    "df"
   ]
  },
  {
   "cell_type": "code",
   "execution_count": 67,
   "metadata": {},
   "outputs": [],
   "source": [
    "pickle_dump(df, path_data_dump, fp_top_set_syms)"
   ]
  },
  {
   "cell_type": "code",
   "execution_count": 68,
   "metadata": {},
   "outputs": [
    {
     "data": {
      "text/html": [
       "<div>\n",
       "<style scoped>\n",
       "    .dataframe tbody tr th:only-of-type {\n",
       "        vertical-align: middle;\n",
       "    }\n",
       "\n",
       "    .dataframe tbody tr th {\n",
       "        vertical-align: top;\n",
       "    }\n",
       "\n",
       "    .dataframe thead th {\n",
       "        text-align: right;\n",
       "    }\n",
       "</style>\n",
       "<table border=\"1\" class=\"dataframe\">\n",
       "  <thead>\n",
       "    <tr style=\"text-align: right;\">\n",
       "      <th></th>\n",
       "      <th>date</th>\n",
       "      <th>days_lookbacks</th>\n",
       "      <th>n_top_syms</th>\n",
       "      <th>syms_start</th>\n",
       "      <th>syms_end</th>\n",
       "      <th>grp_dates</th>\n",
       "      <th>top_set_syms_n_freq</th>\n",
       "      <th>top_set_syms</th>\n",
       "    </tr>\n",
       "  </thead>\n",
       "  <tbody>\n",
       "    <tr>\n",
       "      <th>0</th>\n",
       "      <td>2023-01-13</td>\n",
       "      <td>[16, 32, 64, 128]</td>\n",
       "      <td>30</td>\n",
       "      <td>0</td>\n",
       "      <td>5</td>\n",
       "      <td>[2022-07-14, 2022-10-13, 2022-11-29, 2022-12-2...</td>\n",
       "      <td>[(AU, 6), (BGNE, 6), (COLL, 6), (CROX, 6), (EX...</td>\n",
       "      <td>[AU, BGNE, COLL, CROX, EXAS]</td>\n",
       "    </tr>\n",
       "  </tbody>\n",
       "</table>\n",
       "</div>"
      ],
      "text/plain": [
       "         date     days_lookbacks n_top_syms syms_start syms_end  \\\n",
       "0  2023-01-13  [16, 32, 64, 128]         30          0        5   \n",
       "\n",
       "                                           grp_dates  \\\n",
       "0  [2022-07-14, 2022-10-13, 2022-11-29, 2022-12-2...   \n",
       "\n",
       "                                 top_set_syms_n_freq  \\\n",
       "0  [(AU, 6), (BGNE, 6), (COLL, 6), (CROX, 6), (EX...   \n",
       "\n",
       "                   top_set_syms  \n",
       "0  [AU, BGNE, COLL, CROX, EXAS]  "
      ]
     },
     "execution_count": 68,
     "metadata": {},
     "output_type": "execute_result"
    }
   ],
   "source": [
    "_df = pickle_load(path_data_dump, fp_top_set_syms)\n",
    "_df"
   ]
  }
 ],
 "metadata": {
  "kernelspec": {
   "display_name": "Python 3",
   "language": "python",
   "name": "python3"
  },
  "language_info": {
   "codemirror_mode": {
    "name": "ipython",
    "version": 3
   },
   "file_extension": ".py",
   "mimetype": "text/x-python",
   "name": "python",
   "nbconvert_exporter": "python",
   "pygments_lexer": "ipython3",
   "version": "3.7.9"
  },
  "orig_nbformat": 4,
  "vscode": {
   "interpreter": {
    "hash": "55a3812d65f91e7e7447da6b5cfc60716e82f91e6a92533fb27b46796ad1962a"
   }
  }
 },
 "nbformat": 4,
 "nbformat_minor": 2
}
