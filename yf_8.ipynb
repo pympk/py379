{
 "cells": [
  {
   "cell_type": "code",
   "execution_count": 1,
   "metadata": {},
   "outputs": [],
   "source": [
    "# from yf_utils import _2_split_train_val_test, _3_random_slices, _4_lookback_slices\n",
    "from yf_utils import _5_perf_ranks, _6_grp_tuples_sort_sum\n",
    "from myUtils import pickle_load\n",
    "\n",
    "# verbose = False  # True prints more output\n",
    "verbose = True  # True prints more output\n",
    "\n",
    "path_dir = \"C:/Users/ping/MyDrive/stocks/yfinance/\"\n",
    "path_data_dump = path_dir + \"VSCode_dump/\"\n",
    "fp_df_close_clean = 'df_close_clean'\n",
    "fp_rtn_results = 'rtn_results'\n",
    "df_close_clean = pickle_load(path_data_dump, fp_df_close_clean)"
   ]
  },
  {
   "cell_type": "code",
   "execution_count": 2,
   "metadata": {},
   "outputs": [],
   "source": [
    "# number of days to lookback from last df date for performance evaluation\n",
    "days_lookbacks = [15, 30]\n",
    "days_lookbacks.sort()  # sort list of integers in ascending order\n",
    "\n",
    "# number of the most-common symbols from days_lookbacks' performance rankings to keep\n",
    "n_top_syms = 20  \n",
    "\n",
    "syms_start = 0  # slice start of set_most_common_syms\n",
    "syms_end = 5  #  slice end of set_most_common_syms"
   ]
  },
  {
   "cell_type": "code",
   "execution_count": 3,
   "metadata": {},
   "outputs": [],
   "source": [
    "# load past mean daily return of top_set_syms verus SPY return \n",
    "rtn_results = pickle_load(path_data_dump, fp_rtn_results)"
   ]
  },
  {
   "cell_type": "code",
   "execution_count": 4,
   "metadata": {},
   "outputs": [],
   "source": [
    "# grp_top_set_syms_n_freq = []  # list of lists of top_set_symbols_n_freq, there are n_samples lists in list\n",
    "# grp_top_set_syms = []  # list of lists of top_set_symbols, there are n_samples lists in list\n",
    "grp_most_common_syms = []  # accumulates the best performing symbols from each days_lookback\n",
    "grp_perf_ranks = []  # accumulates the best performance ranking symbols from each days_lookback \n",
    "grp_dates = []  # dates of days_lookbacks \n",
    "\n",
    "for d_lookback in days_lookbacks:\n",
    "  df = df_close_clean.iloc[-d_lookback:]\n",
    "  perf_ranks, most_common_syms = _5_perf_ranks(df, n_top_syms=n_top_syms)  # get the best performance symbols and rankings\n",
    "  grp_most_common_syms.append(most_common_syms)\n",
    "  grp_perf_ranks.append(perf_ranks)  \n",
    "  grp_dates.append(df.index[0].strftime(\"%Y-%m-%d\")) \n",
    "\n",
    "grp_dates.append(df.index[-1].strftime(\"%Y-%m-%d\"))  # get df's last date\n",
    "grp_dates.sort()"
   ]
  },
  {
   "cell_type": "code",
   "execution_count": 5,
   "metadata": {},
   "outputs": [],
   "source": [
    "# flatten list of lists of (symbol:frequency)\n",
    "flat_grp_most_common_syms = [val for sublist in grp_most_common_syms for val in sublist]\n",
    "# group symbols from set of days_lookbacks (i.e. lb_slices) and sum frequency of the symbols\n",
    "set_most_common_syms = _6_grp_tuples_sort_sum(flat_grp_most_common_syms, reverse=True)\n",
    "# get the top few most-frequent symbol:frequency pairs\n",
    "top_set_syms_n_freq = set_most_common_syms[0:n_top_syms]\n",
    "# get symbols from top_set_syms_n_freq\n",
    "top_set_syms = [i[0] for i in top_set_syms_n_freq[syms_start:syms_end]]"
   ]
  },
  {
   "cell_type": "code",
   "execution_count": 6,
   "metadata": {},
   "outputs": [
    {
     "name": "stdout",
     "output_type": "stream",
     "text": [
      "grp_dates: ['2023-01-06', '2023-01-30', '2023-02-17']\n",
      "top_set_syms_n_freq: [('CTLT', 6), ('TA', 6), ('OEC', 5), ('THR', 5), ('TSLA', 5), ('WIRE', 5), ('AMCX', 4), ('AN', 4), ('CAR', 4), ('SMG', 4), ('TNK', 4), ('CRUS', 3), ('ELF', 3), ('EVRI', 3), ('FCF', 3), ('PAG', 3), ('RVNC', 3), ('STNG', 3), ('ACLS', 2), ('ASC', 2)]\n",
      "top_set_syms: ['CTLT', 'TA', 'OEC', 'THR', 'TSLA']\n"
     ]
    }
   ],
   "source": [
    "print(f'grp_dates: {grp_dates}')\n",
    "print(f'top_set_syms_n_freq: {top_set_syms_n_freq}')\n",
    "print(f'top_set_syms: {top_set_syms}')"
   ]
  },
  {
   "cell_type": "code",
   "execution_count": 7,
   "metadata": {},
   "outputs": [],
   "source": [
    "# import webbrowser\n",
    "\n",
    "# y_quote = 'https://finance.yahoo.com/quote/'\n",
    "# for sym in top_set_syms:\n",
    "#   url = y_quote + sym\n",
    "#   print(url)\n",
    "#   webbrowser.open(url)  # open symbols in yahoo finance"
   ]
  },
  {
   "cell_type": "code",
   "execution_count": 8,
   "metadata": {},
   "outputs": [],
   "source": [
    "# # Importing Pandas to create DataFrame\n",
    "# import pandas as pd\n",
    "\n",
    "# my_cols = ['date', 'days_lookbacks', 'n_top_syms', 'syms_start', 'syms_end', 'grp_dates', 'top_set_syms_n_freq', 'top_set_syms']\n",
    "# # Creating Empty DataFrame and Storing it in variable df\n",
    "# df = pd.DataFrame(columns=my_cols)"
   ]
  },
  {
   "cell_type": "code",
   "execution_count": 9,
   "metadata": {},
   "outputs": [],
   "source": [
    "from myUtils import pickle_load, pickle_dump\n",
    "\n",
    "path_dir = \"C:/Users/ping/MyDrive/stocks/yfinance/\"\n",
    "path_data_dump = path_dir + \"VSCode_dump/\"\n",
    "fp_top_set_syms = 'df_top_set_syms'  # df to store top set symbols"
   ]
  },
  {
   "cell_type": "code",
   "execution_count": 10,
   "metadata": {},
   "outputs": [
    {
     "data": {
      "text/html": [
       "<div>\n",
       "<style scoped>\n",
       "    .dataframe tbody tr th:only-of-type {\n",
       "        vertical-align: middle;\n",
       "    }\n",
       "\n",
       "    .dataframe tbody tr th {\n",
       "        vertical-align: top;\n",
       "    }\n",
       "\n",
       "    .dataframe thead th {\n",
       "        text-align: right;\n",
       "    }\n",
       "</style>\n",
       "<table border=\"1\" class=\"dataframe\">\n",
       "  <thead>\n",
       "    <tr style=\"text-align: right;\">\n",
       "      <th></th>\n",
       "      <th>date</th>\n",
       "      <th>days_lookbacks</th>\n",
       "      <th>n_top_syms</th>\n",
       "      <th>syms_start</th>\n",
       "      <th>syms_end</th>\n",
       "      <th>grp_dates</th>\n",
       "      <th>top_set_syms_n_freq</th>\n",
       "      <th>top_set_syms</th>\n",
       "    </tr>\n",
       "  </thead>\n",
       "  <tbody>\n",
       "    <tr>\n",
       "      <th>0</th>\n",
       "      <td>2023-02-10</td>\n",
       "      <td>[15, 30]</td>\n",
       "      <td>20</td>\n",
       "      <td>0</td>\n",
       "      <td>5</td>\n",
       "      <td>[2022-12-29, 2023-01-23, 2023-02-10]</td>\n",
       "      <td>[(CRUS, 6), (CTLT, 6), (THR, 5), (ALGN, 4), (I...</td>\n",
       "      <td>[CRUS, CTLT, THR, ALGN, ICPT]</td>\n",
       "    </tr>\n",
       "    <tr>\n",
       "      <th>1</th>\n",
       "      <td>2023-02-13</td>\n",
       "      <td>[15, 30]</td>\n",
       "      <td>20</td>\n",
       "      <td>0</td>\n",
       "      <td>5</td>\n",
       "      <td>[2022-12-30, 2023-01-24, 2023-02-13]</td>\n",
       "      <td>[(CRUS, 6), (CTLT, 6), (THR, 5), (ICPT, 4), (L...</td>\n",
       "      <td>[CRUS, CTLT, THR, ICPT, LRN]</td>\n",
       "    </tr>\n",
       "    <tr>\n",
       "      <th>2</th>\n",
       "      <td>2023-02-14</td>\n",
       "      <td>[15, 30]</td>\n",
       "      <td>20</td>\n",
       "      <td>0</td>\n",
       "      <td>5</td>\n",
       "      <td>[2023-01-03, 2023-01-25, 2023-02-14]</td>\n",
       "      <td>[(CRUS, 6), (CTLT, 6), (TSLA, 5), (CAR, 4), (O...</td>\n",
       "      <td>[CRUS, CTLT, TSLA, CAR, ON]</td>\n",
       "    </tr>\n",
       "    <tr>\n",
       "      <th>3</th>\n",
       "      <td>2023-02-15</td>\n",
       "      <td>[15, 30]</td>\n",
       "      <td>20</td>\n",
       "      <td>0</td>\n",
       "      <td>5</td>\n",
       "      <td>[2023-01-04, 2023-01-26, 2023-02-15]</td>\n",
       "      <td>[(CTLT, 6), (WIRE, 6), (TNK, 5), (TSLA, 5), (C...</td>\n",
       "      <td>[CTLT, WIRE, TNK, TSLA, CAR]</td>\n",
       "    </tr>\n",
       "    <tr>\n",
       "      <th>4</th>\n",
       "      <td>2023-02-16</td>\n",
       "      <td>[15, 30]</td>\n",
       "      <td>20</td>\n",
       "      <td>0</td>\n",
       "      <td>5</td>\n",
       "      <td>[2023-01-05, 2023-01-27, 2023-02-16]</td>\n",
       "      <td>[(CTLT, 6), (TA, 6), (CRUS, 5), (THR, 5), (WIR...</td>\n",
       "      <td>[CTLT, TA, CRUS, THR, WIRE]</td>\n",
       "    </tr>\n",
       "  </tbody>\n",
       "</table>\n",
       "</div>"
      ],
      "text/plain": [
       "         date days_lookbacks n_top_syms syms_start syms_end  \\\n",
       "0  2023-02-10       [15, 30]         20          0        5   \n",
       "1  2023-02-13       [15, 30]         20          0        5   \n",
       "2  2023-02-14       [15, 30]         20          0        5   \n",
       "3  2023-02-15       [15, 30]         20          0        5   \n",
       "4  2023-02-16       [15, 30]         20          0        5   \n",
       "\n",
       "                              grp_dates  \\\n",
       "0  [2022-12-29, 2023-01-23, 2023-02-10]   \n",
       "1  [2022-12-30, 2023-01-24, 2023-02-13]   \n",
       "2  [2023-01-03, 2023-01-25, 2023-02-14]   \n",
       "3  [2023-01-04, 2023-01-26, 2023-02-15]   \n",
       "4  [2023-01-05, 2023-01-27, 2023-02-16]   \n",
       "\n",
       "                                 top_set_syms_n_freq  \\\n",
       "0  [(CRUS, 6), (CTLT, 6), (THR, 5), (ALGN, 4), (I...   \n",
       "1  [(CRUS, 6), (CTLT, 6), (THR, 5), (ICPT, 4), (L...   \n",
       "2  [(CRUS, 6), (CTLT, 6), (TSLA, 5), (CAR, 4), (O...   \n",
       "3  [(CTLT, 6), (WIRE, 6), (TNK, 5), (TSLA, 5), (C...   \n",
       "4  [(CTLT, 6), (TA, 6), (CRUS, 5), (THR, 5), (WIR...   \n",
       "\n",
       "                    top_set_syms  \n",
       "0  [CRUS, CTLT, THR, ALGN, ICPT]  \n",
       "1   [CRUS, CTLT, THR, ICPT, LRN]  \n",
       "2    [CRUS, CTLT, TSLA, CAR, ON]  \n",
       "3   [CTLT, WIRE, TNK, TSLA, CAR]  \n",
       "4    [CTLT, TA, CRUS, THR, WIRE]  "
      ]
     },
     "execution_count": 10,
     "metadata": {},
     "output_type": "execute_result"
    }
   ],
   "source": [
    "df = pickle_load(path_data_dump, fp_top_set_syms)\n",
    "df"
   ]
  },
  {
   "cell_type": "code",
   "execution_count": null,
   "metadata": {},
   "outputs": [],
   "source": []
  },
  {
   "cell_type": "code",
   "execution_count": null,
   "metadata": {},
   "outputs": [],
   "source": []
  },
  {
   "cell_type": "code",
   "execution_count": 11,
   "metadata": {},
   "outputs": [
    {
     "data": {
      "text/html": [
       "<div>\n",
       "<style scoped>\n",
       "    .dataframe tbody tr th:only-of-type {\n",
       "        vertical-align: middle;\n",
       "    }\n",
       "\n",
       "    .dataframe tbody tr th {\n",
       "        vertical-align: top;\n",
       "    }\n",
       "\n",
       "    .dataframe thead th {\n",
       "        text-align: right;\n",
       "    }\n",
       "</style>\n",
       "<table border=\"1\" class=\"dataframe\">\n",
       "  <thead>\n",
       "    <tr style=\"text-align: right;\">\n",
       "      <th></th>\n",
       "      <th>date</th>\n",
       "      <th>days_lookbacks</th>\n",
       "      <th>n_top_syms</th>\n",
       "      <th>syms_start</th>\n",
       "      <th>syms_end</th>\n",
       "      <th>grp_dates</th>\n",
       "      <th>top_set_syms_n_freq</th>\n",
       "      <th>top_set_syms</th>\n",
       "    </tr>\n",
       "  </thead>\n",
       "  <tbody>\n",
       "    <tr>\n",
       "      <th>0</th>\n",
       "      <td>2023-02-10</td>\n",
       "      <td>[15, 30]</td>\n",
       "      <td>20</td>\n",
       "      <td>0</td>\n",
       "      <td>5</td>\n",
       "      <td>[2022-12-29, 2023-01-23, 2023-02-10]</td>\n",
       "      <td>[(CRUS, 6), (CTLT, 6), (THR, 5), (ALGN, 4), (I...</td>\n",
       "      <td>[CRUS, CTLT, THR, ALGN, ICPT]</td>\n",
       "    </tr>\n",
       "    <tr>\n",
       "      <th>1</th>\n",
       "      <td>2023-02-13</td>\n",
       "      <td>[15, 30]</td>\n",
       "      <td>20</td>\n",
       "      <td>0</td>\n",
       "      <td>5</td>\n",
       "      <td>[2022-12-30, 2023-01-24, 2023-02-13]</td>\n",
       "      <td>[(CRUS, 6), (CTLT, 6), (THR, 5), (ICPT, 4), (L...</td>\n",
       "      <td>[CRUS, CTLT, THR, ICPT, LRN]</td>\n",
       "    </tr>\n",
       "    <tr>\n",
       "      <th>2</th>\n",
       "      <td>2023-02-14</td>\n",
       "      <td>[15, 30]</td>\n",
       "      <td>20</td>\n",
       "      <td>0</td>\n",
       "      <td>5</td>\n",
       "      <td>[2023-01-03, 2023-01-25, 2023-02-14]</td>\n",
       "      <td>[(CRUS, 6), (CTLT, 6), (TSLA, 5), (CAR, 4), (O...</td>\n",
       "      <td>[CRUS, CTLT, TSLA, CAR, ON]</td>\n",
       "    </tr>\n",
       "    <tr>\n",
       "      <th>3</th>\n",
       "      <td>2023-02-15</td>\n",
       "      <td>[15, 30]</td>\n",
       "      <td>20</td>\n",
       "      <td>0</td>\n",
       "      <td>5</td>\n",
       "      <td>[2023-01-04, 2023-01-26, 2023-02-15]</td>\n",
       "      <td>[(CTLT, 6), (WIRE, 6), (TNK, 5), (TSLA, 5), (C...</td>\n",
       "      <td>[CTLT, WIRE, TNK, TSLA, CAR]</td>\n",
       "    </tr>\n",
       "    <tr>\n",
       "      <th>4</th>\n",
       "      <td>2023-02-16</td>\n",
       "      <td>[15, 30]</td>\n",
       "      <td>20</td>\n",
       "      <td>0</td>\n",
       "      <td>5</td>\n",
       "      <td>[2023-01-05, 2023-01-27, 2023-02-16]</td>\n",
       "      <td>[(CTLT, 6), (TA, 6), (CRUS, 5), (THR, 5), (WIR...</td>\n",
       "      <td>[CTLT, TA, CRUS, THR, WIRE]</td>\n",
       "    </tr>\n",
       "    <tr>\n",
       "      <th>5</th>\n",
       "      <td>2023-02-17</td>\n",
       "      <td>[15, 30]</td>\n",
       "      <td>20</td>\n",
       "      <td>0</td>\n",
       "      <td>5</td>\n",
       "      <td>[2023-01-06, 2023-01-30, 2023-02-17]</td>\n",
       "      <td>[(CTLT, 6), (TA, 6), (OEC, 5), (THR, 5), (TSLA...</td>\n",
       "      <td>[CTLT, TA, OEC, THR, TSLA]</td>\n",
       "    </tr>\n",
       "  </tbody>\n",
       "</table>\n",
       "</div>"
      ],
      "text/plain": [
       "         date days_lookbacks n_top_syms syms_start syms_end  \\\n",
       "0  2023-02-10       [15, 30]         20          0        5   \n",
       "1  2023-02-13       [15, 30]         20          0        5   \n",
       "2  2023-02-14       [15, 30]         20          0        5   \n",
       "3  2023-02-15       [15, 30]         20          0        5   \n",
       "4  2023-02-16       [15, 30]         20          0        5   \n",
       "5  2023-02-17       [15, 30]         20          0        5   \n",
       "\n",
       "                              grp_dates  \\\n",
       "0  [2022-12-29, 2023-01-23, 2023-02-10]   \n",
       "1  [2022-12-30, 2023-01-24, 2023-02-13]   \n",
       "2  [2023-01-03, 2023-01-25, 2023-02-14]   \n",
       "3  [2023-01-04, 2023-01-26, 2023-02-15]   \n",
       "4  [2023-01-05, 2023-01-27, 2023-02-16]   \n",
       "5  [2023-01-06, 2023-01-30, 2023-02-17]   \n",
       "\n",
       "                                 top_set_syms_n_freq  \\\n",
       "0  [(CRUS, 6), (CTLT, 6), (THR, 5), (ALGN, 4), (I...   \n",
       "1  [(CRUS, 6), (CTLT, 6), (THR, 5), (ICPT, 4), (L...   \n",
       "2  [(CRUS, 6), (CTLT, 6), (TSLA, 5), (CAR, 4), (O...   \n",
       "3  [(CTLT, 6), (WIRE, 6), (TNK, 5), (TSLA, 5), (C...   \n",
       "4  [(CTLT, 6), (TA, 6), (CRUS, 5), (THR, 5), (WIR...   \n",
       "5  [(CTLT, 6), (TA, 6), (OEC, 5), (THR, 5), (TSLA...   \n",
       "\n",
       "                    top_set_syms  \n",
       "0  [CRUS, CTLT, THR, ALGN, ICPT]  \n",
       "1   [CRUS, CTLT, THR, ICPT, LRN]  \n",
       "2    [CRUS, CTLT, TSLA, CAR, ON]  \n",
       "3   [CTLT, WIRE, TNK, TSLA, CAR]  \n",
       "4    [CTLT, TA, CRUS, THR, WIRE]  \n",
       "5     [CTLT, TA, OEC, THR, TSLA]  "
      ]
     },
     "execution_count": 11,
     "metadata": {},
     "output_type": "execute_result"
    }
   ],
   "source": [
    "row_add = [grp_dates[-1], days_lookbacks, n_top_syms, syms_start, syms_end, grp_dates, top_set_syms_n_freq, top_set_syms]\n",
    "df.loc[len(df)] = row_add\n",
    "df"
   ]
  },
  {
   "cell_type": "code",
   "execution_count": 12,
   "metadata": {},
   "outputs": [],
   "source": [
    "df = df.drop_duplicates(subset=['date'])"
   ]
  },
  {
   "cell_type": "code",
   "execution_count": 13,
   "metadata": {},
   "outputs": [],
   "source": [
    "pickle_dump(df, path_data_dump, fp_top_set_syms)"
   ]
  },
  {
   "cell_type": "code",
   "execution_count": 14,
   "metadata": {},
   "outputs": [
    {
     "data": {
      "text/html": [
       "<div>\n",
       "<style scoped>\n",
       "    .dataframe tbody tr th:only-of-type {\n",
       "        vertical-align: middle;\n",
       "    }\n",
       "\n",
       "    .dataframe tbody tr th {\n",
       "        vertical-align: top;\n",
       "    }\n",
       "\n",
       "    .dataframe thead th {\n",
       "        text-align: right;\n",
       "    }\n",
       "</style>\n",
       "<table border=\"1\" class=\"dataframe\">\n",
       "  <thead>\n",
       "    <tr style=\"text-align: right;\">\n",
       "      <th></th>\n",
       "      <th>date</th>\n",
       "      <th>days_lookbacks</th>\n",
       "      <th>n_top_syms</th>\n",
       "      <th>syms_start</th>\n",
       "      <th>syms_end</th>\n",
       "      <th>grp_dates</th>\n",
       "      <th>top_set_syms_n_freq</th>\n",
       "      <th>top_set_syms</th>\n",
       "    </tr>\n",
       "  </thead>\n",
       "  <tbody>\n",
       "    <tr>\n",
       "      <th>0</th>\n",
       "      <td>2023-02-10</td>\n",
       "      <td>[15, 30]</td>\n",
       "      <td>20</td>\n",
       "      <td>0</td>\n",
       "      <td>5</td>\n",
       "      <td>[2022-12-29, 2023-01-23, 2023-02-10]</td>\n",
       "      <td>[(CRUS, 6), (CTLT, 6), (THR, 5), (ALGN, 4), (I...</td>\n",
       "      <td>[CRUS, CTLT, THR, ALGN, ICPT]</td>\n",
       "    </tr>\n",
       "    <tr>\n",
       "      <th>1</th>\n",
       "      <td>2023-02-13</td>\n",
       "      <td>[15, 30]</td>\n",
       "      <td>20</td>\n",
       "      <td>0</td>\n",
       "      <td>5</td>\n",
       "      <td>[2022-12-30, 2023-01-24, 2023-02-13]</td>\n",
       "      <td>[(CRUS, 6), (CTLT, 6), (THR, 5), (ICPT, 4), (L...</td>\n",
       "      <td>[CRUS, CTLT, THR, ICPT, LRN]</td>\n",
       "    </tr>\n",
       "    <tr>\n",
       "      <th>2</th>\n",
       "      <td>2023-02-14</td>\n",
       "      <td>[15, 30]</td>\n",
       "      <td>20</td>\n",
       "      <td>0</td>\n",
       "      <td>5</td>\n",
       "      <td>[2023-01-03, 2023-01-25, 2023-02-14]</td>\n",
       "      <td>[(CRUS, 6), (CTLT, 6), (TSLA, 5), (CAR, 4), (O...</td>\n",
       "      <td>[CRUS, CTLT, TSLA, CAR, ON]</td>\n",
       "    </tr>\n",
       "    <tr>\n",
       "      <th>3</th>\n",
       "      <td>2023-02-15</td>\n",
       "      <td>[15, 30]</td>\n",
       "      <td>20</td>\n",
       "      <td>0</td>\n",
       "      <td>5</td>\n",
       "      <td>[2023-01-04, 2023-01-26, 2023-02-15]</td>\n",
       "      <td>[(CTLT, 6), (WIRE, 6), (TNK, 5), (TSLA, 5), (C...</td>\n",
       "      <td>[CTLT, WIRE, TNK, TSLA, CAR]</td>\n",
       "    </tr>\n",
       "    <tr>\n",
       "      <th>4</th>\n",
       "      <td>2023-02-16</td>\n",
       "      <td>[15, 30]</td>\n",
       "      <td>20</td>\n",
       "      <td>0</td>\n",
       "      <td>5</td>\n",
       "      <td>[2023-01-05, 2023-01-27, 2023-02-16]</td>\n",
       "      <td>[(CTLT, 6), (TA, 6), (CRUS, 5), (THR, 5), (WIR...</td>\n",
       "      <td>[CTLT, TA, CRUS, THR, WIRE]</td>\n",
       "    </tr>\n",
       "    <tr>\n",
       "      <th>5</th>\n",
       "      <td>2023-02-17</td>\n",
       "      <td>[15, 30]</td>\n",
       "      <td>20</td>\n",
       "      <td>0</td>\n",
       "      <td>5</td>\n",
       "      <td>[2023-01-06, 2023-01-30, 2023-02-17]</td>\n",
       "      <td>[(CTLT, 6), (TA, 6), (OEC, 5), (THR, 5), (TSLA...</td>\n",
       "      <td>[CTLT, TA, OEC, THR, TSLA]</td>\n",
       "    </tr>\n",
       "  </tbody>\n",
       "</table>\n",
       "</div>"
      ],
      "text/plain": [
       "         date days_lookbacks n_top_syms syms_start syms_end  \\\n",
       "0  2023-02-10       [15, 30]         20          0        5   \n",
       "1  2023-02-13       [15, 30]         20          0        5   \n",
       "2  2023-02-14       [15, 30]         20          0        5   \n",
       "3  2023-02-15       [15, 30]         20          0        5   \n",
       "4  2023-02-16       [15, 30]         20          0        5   \n",
       "5  2023-02-17       [15, 30]         20          0        5   \n",
       "\n",
       "                              grp_dates  \\\n",
       "0  [2022-12-29, 2023-01-23, 2023-02-10]   \n",
       "1  [2022-12-30, 2023-01-24, 2023-02-13]   \n",
       "2  [2023-01-03, 2023-01-25, 2023-02-14]   \n",
       "3  [2023-01-04, 2023-01-26, 2023-02-15]   \n",
       "4  [2023-01-05, 2023-01-27, 2023-02-16]   \n",
       "5  [2023-01-06, 2023-01-30, 2023-02-17]   \n",
       "\n",
       "                                 top_set_syms_n_freq  \\\n",
       "0  [(CRUS, 6), (CTLT, 6), (THR, 5), (ALGN, 4), (I...   \n",
       "1  [(CRUS, 6), (CTLT, 6), (THR, 5), (ICPT, 4), (L...   \n",
       "2  [(CRUS, 6), (CTLT, 6), (TSLA, 5), (CAR, 4), (O...   \n",
       "3  [(CTLT, 6), (WIRE, 6), (TNK, 5), (TSLA, 5), (C...   \n",
       "4  [(CTLT, 6), (TA, 6), (CRUS, 5), (THR, 5), (WIR...   \n",
       "5  [(CTLT, 6), (TA, 6), (OEC, 5), (THR, 5), (TSLA...   \n",
       "\n",
       "                    top_set_syms  \n",
       "0  [CRUS, CTLT, THR, ALGN, ICPT]  \n",
       "1   [CRUS, CTLT, THR, ICPT, LRN]  \n",
       "2    [CRUS, CTLT, TSLA, CAR, ON]  \n",
       "3   [CTLT, WIRE, TNK, TSLA, CAR]  \n",
       "4    [CTLT, TA, CRUS, THR, WIRE]  \n",
       "5     [CTLT, TA, OEC, THR, TSLA]  "
      ]
     },
     "execution_count": 14,
     "metadata": {},
     "output_type": "execute_result"
    }
   ],
   "source": [
    "_df = pickle_load(path_data_dump, fp_top_set_syms)\n",
    "_df"
   ]
  },
  {
   "cell_type": "code",
   "execution_count": 15,
   "metadata": {},
   "outputs": [
    {
     "data": {
      "text/plain": [
       "0    [CRUS, CTLT, THR, ALGN, ICPT]\n",
       "1     [CRUS, CTLT, THR, ICPT, LRN]\n",
       "2      [CRUS, CTLT, TSLA, CAR, ON]\n",
       "3     [CTLT, WIRE, TNK, TSLA, CAR]\n",
       "4      [CTLT, TA, CRUS, THR, WIRE]\n",
       "5       [CTLT, TA, OEC, THR, TSLA]\n",
       "Name: top_set_syms, dtype: object"
      ]
     },
     "execution_count": 15,
     "metadata": {},
     "output_type": "execute_result"
    }
   ],
   "source": [
    "df[\"top_set_syms\"]"
   ]
  },
  {
   "cell_type": "code",
   "execution_count": 16,
   "metadata": {},
   "outputs": [
    {
     "data": {
      "text/plain": [
       "['CTLT', 'TA', 'CRUS', 'THR', 'WIRE']"
      ]
     },
     "execution_count": 16,
     "metadata": {},
     "output_type": "execute_result"
    }
   ],
   "source": [
    "prev_top_set_syms = df[\"top_set_syms\"].iloc[-2]\n",
    "prev_top_set_syms"
   ]
  },
  {
   "cell_type": "code",
   "execution_count": 17,
   "metadata": {},
   "outputs": [
    {
     "name": "stdout",
     "output_type": "stream",
     "text": [
      "_df[\"top_set_syms_n_freq\"]:\n",
      "0    [(CRUS, 6), (CTLT, 6), (THR, 5), (ALGN, 4), (ICPT, 4), (LRN, 4), (TSLA, 4), (AXP, 3), (CINF, 3), (ELF, 3), (EVRI, 3)...\n",
      "1    [(CRUS, 6), (CTLT, 6), (THR, 5), (ICPT, 4), (LRN, 4), (TSLA, 4), (ALGN, 3), (BSIG, 3), (CINF, 3), (ELF, 3), (EVRI, 3...\n",
      "2    [(CRUS, 6), (CTLT, 6), (TSLA, 5), (CAR, 4), (ON, 4), (ALGN, 3), (ELF, 3), (FCF, 3), (MPWR, 3), (RVNC, 3), (SMG, 3), ...\n",
      "3    [(CTLT, 6), (WIRE, 6), (TNK, 5), (TSLA, 5), (CAR, 4), (CRUS, 4), (DCP, 4), (ELF, 3), (FCF, 3), (MPWR, 3), (PH, 3), (...\n",
      "4    [(CTLT, 6), (TA, 6), (CRUS, 5), (THR, 5), (WIRE, 5), (CAR, 4), (SMG, 4), (TNK, 4), (CINF, 3), (DCP, 3), (ELF, 3), (M...\n",
      "5    [(CTLT, 6), (TA, 6), (OEC, 5), (THR, 5), (TSLA, 5), (WIRE, 5), (AMCX, 4), (AN, 4), (CAR, 4), (SMG, 4), (TNK, 4), (CR...\n",
      "Name: top_set_syms_n_freq, dtype: object\n",
      "\n",
      "_df[\"top_set_syms\"]:\n",
      "0    [CRUS, CTLT, THR, ALGN, ICPT]\n",
      "1     [CRUS, CTLT, THR, ICPT, LRN]\n",
      "2      [CRUS, CTLT, TSLA, CAR, ON]\n",
      "3     [CTLT, WIRE, TNK, TSLA, CAR]\n",
      "4      [CTLT, TA, CRUS, THR, WIRE]\n",
      "5       [CTLT, TA, OEC, THR, TSLA]\n",
      "Name: top_set_syms, dtype: object\n",
      "last row of top_set_syms:\n",
      "['CTLT', 'TA', 'OEC', 'THR', 'TSLA']\n"
     ]
    }
   ],
   "source": [
    "import pandas as pd\n",
    "# pd.options.display.width = 120\n",
    "pd.options.display.max_colwidth = 120\n",
    "\n",
    "print(f'_df[\"top_set_syms_n_freq\"]:\\n{_df[\"top_set_syms_n_freq\"]}\\n')\n",
    "l_last_top_set_syms_n_freq = _df['top_set_syms_n_freq'].iloc[-1]\n",
    "\n",
    "print(f'_df[\"top_set_syms\"]:\\n{_df[\"top_set_syms\"]}')\n",
    "l_last_top_set_syms = _df['top_set_syms'].iloc[-1]\n",
    "print(f'last row of top_set_syms:\\n{l_last_top_set_syms}')"
   ]
  },
  {
   "cell_type": "code",
   "execution_count": 18,
   "metadata": {},
   "outputs": [
    {
     "name": "stdout",
     "output_type": "stream",
     "text": [
      "['ALGN', 'CAR', 'CRUS', 'CTLT', 'ICPT', 'LRN', 'OEC', 'ON', 'SPY', 'TA', 'THR', 'TNK', 'TSLA', 'WIRE']\n"
     ]
    }
   ],
   "source": [
    "recent_top_set_syms = []\n",
    "for symbols in _df[\"top_set_syms\"]:\n",
    "  recent_top_set_syms.append(symbols)\n",
    "recent_top_set_syms\n",
    "\n",
    "# flatten symbols_download_err which is a list-of-lists\n",
    "recent_top_set_syms = [val for sublist in recent_top_set_syms for val in sublist]\n",
    "recent_top_set_syms\n",
    "# get list of unique symbols in df_OHLCV, list(df) is a list of tuples\n",
    "# e.g.: [('AAPL', 'Open')..('AAPL', 'Volume'),...\n",
    "#        ('ZZZZ', 'Open')..('ZZZZ', 'Volume')]\n",
    "recent_top_set_syms = list(set(recent_top_set_syms))\n",
    "recent_top_set_syms.append(\"SPY\")\n",
    "recent_top_set_syms.sort()\n",
    "print(recent_top_set_syms)\n"
   ]
  },
  {
   "cell_type": "code",
   "execution_count": 19,
   "metadata": {},
   "outputs": [
    {
     "name": "stdout",
     "output_type": "stream",
     "text": [
      "                ALGN       CAR      CRUS      CTLT      ICPT       LRN  \\\n",
      "Date                                                                     \n",
      "2023-02-06       NaN       NaN       NaN       NaN       NaN       NaN   \n",
      "2023-02-07  0.007621  0.074627  0.041809  0.068358  0.050823  0.001677   \n",
      "2023-02-08 -0.029675  0.003067 -0.014440 -0.003772 -0.044219 -0.025359   \n",
      "2023-02-09 -0.040170 -0.034813 -0.001237  0.009676  0.004337  0.015955   \n",
      "2023-02-10 -0.017332 -0.027832 -0.004572 -0.021389  0.000960  0.005074   \n",
      "2023-02-13  0.029923  0.026441  0.015694  0.001277 -0.011026  0.025481   \n",
      "2023-02-14  0.019246  0.106576 -0.002732 -0.002835  0.028114  0.004688   \n",
      "2023-02-15  0.020723  0.010615  0.001512 -0.017910 -0.016030  0.012599   \n",
      "2023-02-16 -0.036112  0.002474 -0.011697  0.040527 -0.057020  0.009677   \n",
      "2023-02-17 -0.029003 -0.025728 -0.011835 -0.007233  0.017785  0.001597   \n",
      "\n",
      "                 OEC        ON       SPY        TA       THR       TNK  \\\n",
      "Date                                                                     \n",
      "2023-02-06       NaN       NaN       NaN       NaN       NaN       NaN   \n",
      "2023-02-07  0.012104  0.063806  0.013079  0.023140  0.035039  0.020414   \n",
      "2023-02-08 -0.011040 -0.022565 -0.010935 -0.009491  0.031191 -0.002320   \n",
      "2023-02-09 -0.018140  0.013756 -0.008669 -0.029358 -0.017706  0.059285   \n",
      "2023-02-10  0.013738 -0.011209  0.002334 -0.012602  0.014270 -0.015089   \n",
      "2023-02-13  0.018224  0.006921  0.011739  0.021059  0.006294  0.042618   \n",
      "2023-02-14  0.005048  0.029628 -0.000460 -0.006458 -0.017660  0.005343   \n",
      "2023-02-15 -0.004566 -0.001957  0.003247  0.036695  0.022846  0.026043   \n",
      "2023-02-16  0.000459 -0.029754 -0.013769  0.707727 -0.010253  0.000259   \n",
      "2023-02-17  0.099037 -0.026982 -0.002498 -0.002487 -0.003700 -0.026411   \n",
      "\n",
      "                TSLA      WIRE  \n",
      "Date                            \n",
      "2023-02-06       NaN       NaN  \n",
      "2023-02-07  0.010526  0.005635  \n",
      "2023-02-08  0.022763 -0.025276  \n",
      "2023-02-09  0.029957 -0.001557  \n",
      "2023-02-10 -0.050309  0.000780  \n",
      "2023-02-13 -0.011428  0.006832  \n",
      "2023-02-14  0.075062  0.010894  \n",
      "2023-02-15  0.023847  0.141267  \n",
      "2023-02-16 -0.056946  0.020948  \n",
      "2023-02-17  0.031033  0.008794  \n"
     ]
    },
    {
     "data": {
      "text/html": [
       "<div>\n",
       "<style scoped>\n",
       "    .dataframe tbody tr th:only-of-type {\n",
       "        vertical-align: middle;\n",
       "    }\n",
       "\n",
       "    .dataframe tbody tr th {\n",
       "        vertical-align: top;\n",
       "    }\n",
       "\n",
       "    .dataframe thead th {\n",
       "        text-align: right;\n",
       "    }\n",
       "</style>\n",
       "<table border=\"1\" class=\"dataframe\">\n",
       "  <thead>\n",
       "    <tr style=\"text-align: right;\">\n",
       "      <th></th>\n",
       "      <th>ALGN</th>\n",
       "      <th>CAR</th>\n",
       "      <th>CRUS</th>\n",
       "      <th>CTLT</th>\n",
       "      <th>ICPT</th>\n",
       "      <th>LRN</th>\n",
       "      <th>OEC</th>\n",
       "      <th>ON</th>\n",
       "      <th>SPY</th>\n",
       "      <th>TA</th>\n",
       "      <th>THR</th>\n",
       "      <th>TNK</th>\n",
       "      <th>TSLA</th>\n",
       "      <th>WIRE</th>\n",
       "    </tr>\n",
       "    <tr>\n",
       "      <th>Date</th>\n",
       "      <th></th>\n",
       "      <th></th>\n",
       "      <th></th>\n",
       "      <th></th>\n",
       "      <th></th>\n",
       "      <th></th>\n",
       "      <th></th>\n",
       "      <th></th>\n",
       "      <th></th>\n",
       "      <th></th>\n",
       "      <th></th>\n",
       "      <th></th>\n",
       "      <th></th>\n",
       "      <th></th>\n",
       "    </tr>\n",
       "  </thead>\n",
       "  <tbody>\n",
       "    <tr>\n",
       "      <th>2023-02-17</th>\n",
       "      <td>-0.029003</td>\n",
       "      <td>-0.025728</td>\n",
       "      <td>-0.011835</td>\n",
       "      <td>-0.007233</td>\n",
       "      <td>0.017785</td>\n",
       "      <td>0.001597</td>\n",
       "      <td>0.099037</td>\n",
       "      <td>-0.026982</td>\n",
       "      <td>-0.002498</td>\n",
       "      <td>-0.002487</td>\n",
       "      <td>-0.0037</td>\n",
       "      <td>-0.026411</td>\n",
       "      <td>0.031033</td>\n",
       "      <td>0.008794</td>\n",
       "    </tr>\n",
       "  </tbody>\n",
       "</table>\n",
       "</div>"
      ],
      "text/plain": [
       "                ALGN       CAR      CRUS      CTLT      ICPT       LRN  \\\n",
       "Date                                                                     \n",
       "2023-02-17 -0.029003 -0.025728 -0.011835 -0.007233  0.017785  0.001597   \n",
       "\n",
       "                 OEC        ON       SPY        TA     THR       TNK  \\\n",
       "Date                                                                   \n",
       "2023-02-17  0.099037 -0.026982 -0.002498 -0.002487 -0.0037 -0.026411   \n",
       "\n",
       "                TSLA      WIRE  \n",
       "Date                            \n",
       "2023-02-17  0.031033  0.008794  "
      ]
     },
     "execution_count": 19,
     "metadata": {},
     "output_type": "execute_result"
    }
   ],
   "source": [
    "# my_cols.sort() will not change order of l_last_top_set_syms \n",
    "my_cols = recent_top_set_syms.copy()  \n",
    "my_cols.sort()\n",
    "# my_cols.append('SPY')\n",
    "_df = df_close_clean[my_cols].tail(10)\n",
    "# print(_df)\n",
    "print(_df.pct_change())\n",
    "_df.pct_change().tail(1)[0:10]"
   ]
  },
  {
   "cell_type": "code",
   "execution_count": null,
   "metadata": {},
   "outputs": [],
   "source": []
  },
  {
   "cell_type": "code",
   "execution_count": 20,
   "metadata": {},
   "outputs": [
    {
     "name": "stdout",
     "output_type": "stream",
     "text": [
      "rtn_prev_top_set_syms_mean:                                                 -0.003160\n",
      "rtn_prev_top_set_syms_std:                                                   0.006869\n",
      "\n",
      "rtn_SPY:                                                                    -0.002498\n",
      "\n",
      "Difference in daily return between yesterday's top_set_syms_mean and SPY:   -0.000662\n",
      "\n",
      "Today's return of previous top_set_syms and SPY\n"
     ]
    },
    {
     "data": {
      "text/html": [
       "<div>\n",
       "<style scoped>\n",
       "    .dataframe tbody tr th:only-of-type {\n",
       "        vertical-align: middle;\n",
       "    }\n",
       "\n",
       "    .dataframe tbody tr th {\n",
       "        vertical-align: top;\n",
       "    }\n",
       "\n",
       "    .dataframe thead th {\n",
       "        text-align: right;\n",
       "    }\n",
       "</style>\n",
       "<table border=\"1\" class=\"dataframe\">\n",
       "  <thead>\n",
       "    <tr style=\"text-align: right;\">\n",
       "      <th></th>\n",
       "      <th>CTLT</th>\n",
       "      <th>TA</th>\n",
       "      <th>CRUS</th>\n",
       "      <th>THR</th>\n",
       "      <th>WIRE</th>\n",
       "      <th>SPY</th>\n",
       "    </tr>\n",
       "    <tr>\n",
       "      <th>Date</th>\n",
       "      <th></th>\n",
       "      <th></th>\n",
       "      <th></th>\n",
       "      <th></th>\n",
       "      <th></th>\n",
       "      <th></th>\n",
       "    </tr>\n",
       "  </thead>\n",
       "  <tbody>\n",
       "    <tr>\n",
       "      <th>2023-02-17</th>\n",
       "      <td>-0.007233</td>\n",
       "      <td>-0.002487</td>\n",
       "      <td>-0.011835</td>\n",
       "      <td>-0.0037</td>\n",
       "      <td>0.008794</td>\n",
       "      <td>-0.002498</td>\n",
       "    </tr>\n",
       "  </tbody>\n",
       "</table>\n",
       "</div>"
      ],
      "text/plain": [
       "                CTLT        TA      CRUS     THR      WIRE       SPY\n",
       "Date                                                                \n",
       "2023-02-17 -0.007233 -0.002487 -0.011835 -0.0037  0.008794 -0.002498"
      ]
     },
     "execution_count": 20,
     "metadata": {},
     "output_type": "execute_result"
    }
   ],
   "source": [
    "# today's return from previous top_set_syms\n",
    "prev_top_set_syms_n_SPY = prev_top_set_syms + ['SPY']\n",
    "rtn_prev_top_set_syms = _df.pct_change().tail(1)[prev_top_set_syms_n_SPY]\n",
    "rtn_prev_top_set_syms_mean = rtn_prev_top_set_syms.mean(axis=1)[0]\n",
    "rtn_prev_top_set_syms_std = rtn_prev_top_set_syms.std(axis=1)[0]\n",
    "# print(f'rtn_prev_top_set_syms:\\n{rtn_prev_top_set_syms}')\n",
    "print(f'rtn_prev_top_set_syms_mean:                                                {rtn_prev_top_set_syms_mean:>10.6f}')\n",
    "print(f'rtn_prev_top_set_syms_std:                                                 {rtn_prev_top_set_syms_std:>10.6f}\\n')\n",
    "\n",
    "rtn_SPY = _df.pct_change().tail(1)['SPY'][0]  # [0] changes pd.Series to a value\n",
    "rtn_dif = rtn_prev_top_set_syms_mean - rtn_SPY\n",
    "print(f'rtn_SPY:                                                                   {rtn_SPY:>10.6f}\\n')                  \n",
    "print(f\"Difference in daily return between yesterday's top_set_syms_mean and SPY:  {rtn_dif:>10.6f}\")\n",
    "\n",
    "print(\"\\nToday's return of previous top_set_syms and SPY\")\n",
    "rtn_prev_top_set_syms"
   ]
  },
  {
   "cell_type": "code",
   "execution_count": 21,
   "metadata": {},
   "outputs": [],
   "source": [
    "_date = rtn_prev_top_set_syms.tail(1).index.strftime('%Y-%m-%d')[0]\n",
    "_rtn_tss_mean = rtn_prev_top_set_syms_mean\n",
    "_rtn_tss_std = rtn_prev_top_set_syms_std\n",
    "_rtn_SPY = rtn_SPY\n",
    "_rtn_dif = rtn_dif"
   ]
  },
  {
   "cell_type": "code",
   "execution_count": 24,
   "metadata": {},
   "outputs": [],
   "source": [
    "row_add = [_date, _rtn_tss_mean, _rtn_tss_std, _rtn_SPY, _rtn_dif]"
   ]
  },
  {
   "cell_type": "code",
   "execution_count": 25,
   "metadata": {},
   "outputs": [
    {
     "data": {
      "text/plain": [
       "['2023-02-17',\n",
       " -0.003160016245483288,\n",
       " 0.006869153929946905,\n",
       " -0.002498258589011204,\n",
       " -0.000661757656472084]"
      ]
     },
     "execution_count": 25,
     "metadata": {},
     "output_type": "execute_result"
    }
   ],
   "source": [
    "# my_cols\n",
    "row_add"
   ]
  },
  {
   "cell_type": "code",
   "execution_count": 26,
   "metadata": {},
   "outputs": [
    {
     "data": {
      "text/html": [
       "<div>\n",
       "<style scoped>\n",
       "    .dataframe tbody tr th:only-of-type {\n",
       "        vertical-align: middle;\n",
       "    }\n",
       "\n",
       "    .dataframe tbody tr th {\n",
       "        vertical-align: top;\n",
       "    }\n",
       "\n",
       "    .dataframe thead th {\n",
       "        text-align: right;\n",
       "    }\n",
       "</style>\n",
       "<table border=\"1\" class=\"dataframe\">\n",
       "  <thead>\n",
       "    <tr style=\"text-align: right;\">\n",
       "      <th></th>\n",
       "      <th>date</th>\n",
       "      <th>rtn_tss_mean</th>\n",
       "      <th>rtn_tss_std</th>\n",
       "      <th>rtn_SPY</th>\n",
       "      <th>rtn_dif</th>\n",
       "    </tr>\n",
       "  </thead>\n",
       "  <tbody>\n",
       "    <tr>\n",
       "      <th>0</th>\n",
       "      <td>2023-02-16</td>\n",
       "      <td>-0.001084</td>\n",
       "      <td>0.033205</td>\n",
       "      <td>-0.013769</td>\n",
       "      <td>0.012684</td>\n",
       "    </tr>\n",
       "    <tr>\n",
       "      <th>1</th>\n",
       "      <td>2023-02-17</td>\n",
       "      <td>-0.003160</td>\n",
       "      <td>0.006869</td>\n",
       "      <td>-0.002498</td>\n",
       "      <td>-0.000662</td>\n",
       "    </tr>\n",
       "  </tbody>\n",
       "</table>\n",
       "</div>"
      ],
      "text/plain": [
       "         date  rtn_tss_mean  rtn_tss_std   rtn_SPY   rtn_dif\n",
       "0  2023-02-16     -0.001084     0.033205 -0.013769  0.012684\n",
       "1  2023-02-17     -0.003160     0.006869 -0.002498 -0.000662"
      ]
     },
     "execution_count": 26,
     "metadata": {},
     "output_type": "execute_result"
    }
   ],
   "source": [
    "# # # Creating Empty DataFrame and Storing it in variable df\n",
    "# my_cols = ['date', 'rtn_tss_mean', 'rtn_tss_std', 'rtn_SPY', 'rtn_dif']\n",
    "# rtn_results = pd.DataFrame(columns=my_cols)\n",
    "\n",
    "rtn_results.loc[len(rtn_results)] = row_add\n",
    "rtn_results"
   ]
  },
  {
   "cell_type": "code",
   "execution_count": 27,
   "metadata": {},
   "outputs": [
    {
     "data": {
      "text/html": [
       "<div>\n",
       "<style scoped>\n",
       "    .dataframe tbody tr th:only-of-type {\n",
       "        vertical-align: middle;\n",
       "    }\n",
       "\n",
       "    .dataframe tbody tr th {\n",
       "        vertical-align: top;\n",
       "    }\n",
       "\n",
       "    .dataframe thead th {\n",
       "        text-align: right;\n",
       "    }\n",
       "</style>\n",
       "<table border=\"1\" class=\"dataframe\">\n",
       "  <thead>\n",
       "    <tr style=\"text-align: right;\">\n",
       "      <th></th>\n",
       "      <th>date</th>\n",
       "      <th>rtn_tss_mean</th>\n",
       "      <th>rtn_tss_std</th>\n",
       "      <th>rtn_SPY</th>\n",
       "      <th>rtn_dif</th>\n",
       "    </tr>\n",
       "  </thead>\n",
       "  <tbody>\n",
       "    <tr>\n",
       "      <th>0</th>\n",
       "      <td>2023-02-16</td>\n",
       "      <td>-0.001084</td>\n",
       "      <td>0.033205</td>\n",
       "      <td>-0.013769</td>\n",
       "      <td>0.012684</td>\n",
       "    </tr>\n",
       "    <tr>\n",
       "      <th>1</th>\n",
       "      <td>2023-02-17</td>\n",
       "      <td>-0.003160</td>\n",
       "      <td>0.006869</td>\n",
       "      <td>-0.002498</td>\n",
       "      <td>-0.000662</td>\n",
       "    </tr>\n",
       "  </tbody>\n",
       "</table>\n",
       "</div>"
      ],
      "text/plain": [
       "         date  rtn_tss_mean  rtn_tss_std   rtn_SPY   rtn_dif\n",
       "0  2023-02-16     -0.001084     0.033205 -0.013769  0.012684\n",
       "1  2023-02-17     -0.003160     0.006869 -0.002498 -0.000662"
      ]
     },
     "execution_count": 27,
     "metadata": {},
     "output_type": "execute_result"
    }
   ],
   "source": [
    "rtn_results = rtn_results.drop_duplicates(subset=['date'])\n",
    "rtn_results"
   ]
  },
  {
   "cell_type": "code",
   "execution_count": 28,
   "metadata": {},
   "outputs": [],
   "source": [
    "pickle_dump(rtn_results, path_data_dump, fp_rtn_results)"
   ]
  },
  {
   "cell_type": "code",
   "execution_count": 31,
   "metadata": {},
   "outputs": [
    {
     "data": {
      "text/html": [
       "<div>\n",
       "<style scoped>\n",
       "    .dataframe tbody tr th:only-of-type {\n",
       "        vertical-align: middle;\n",
       "    }\n",
       "\n",
       "    .dataframe tbody tr th {\n",
       "        vertical-align: top;\n",
       "    }\n",
       "\n",
       "    .dataframe thead th {\n",
       "        text-align: right;\n",
       "    }\n",
       "</style>\n",
       "<table border=\"1\" class=\"dataframe\">\n",
       "  <thead>\n",
       "    <tr style=\"text-align: right;\">\n",
       "      <th></th>\n",
       "      <th>date</th>\n",
       "      <th>rtn_tss_mean</th>\n",
       "      <th>rtn_tss_std</th>\n",
       "      <th>rtn_SPY</th>\n",
       "      <th>rtn_dif</th>\n",
       "    </tr>\n",
       "  </thead>\n",
       "  <tbody>\n",
       "    <tr>\n",
       "      <th>1</th>\n",
       "      <td>2023-02-17</td>\n",
       "      <td>-0.003160</td>\n",
       "      <td>0.006869</td>\n",
       "      <td>-0.002498</td>\n",
       "      <td>-0.000662</td>\n",
       "    </tr>\n",
       "    <tr>\n",
       "      <th>0</th>\n",
       "      <td>2023-02-16</td>\n",
       "      <td>-0.001084</td>\n",
       "      <td>0.033205</td>\n",
       "      <td>-0.013769</td>\n",
       "      <td>0.012684</td>\n",
       "    </tr>\n",
       "  </tbody>\n",
       "</table>\n",
       "</div>"
      ],
      "text/plain": [
       "         date  rtn_tss_mean  rtn_tss_std   rtn_SPY   rtn_dif\n",
       "1  2023-02-17     -0.003160     0.006869 -0.002498 -0.000662\n",
       "0  2023-02-16     -0.001084     0.033205 -0.013769  0.012684"
      ]
     },
     "execution_count": 31,
     "metadata": {},
     "output_type": "execute_result"
    }
   ],
   "source": [
    "_df = pickle_load(path_data_dump, fp_rtn_results)\n",
    "_df.sort_values(by='date', ascending=False)"
   ]
  }
 ],
 "metadata": {
  "kernelspec": {
   "display_name": "Python 3",
   "language": "python",
   "name": "python3"
  },
  "language_info": {
   "codemirror_mode": {
    "name": "ipython",
    "version": 3
   },
   "file_extension": ".py",
   "mimetype": "text/x-python",
   "name": "python",
   "nbconvert_exporter": "python",
   "pygments_lexer": "ipython3",
   "version": "3.7.9"
  },
  "orig_nbformat": 4,
  "vscode": {
   "interpreter": {
    "hash": "55a3812d65f91e7e7447da6b5cfc60716e82f91e6a92533fb27b46796ad1962a"
   }
  }
 },
 "nbformat": 4,
 "nbformat_minor": 2
}
