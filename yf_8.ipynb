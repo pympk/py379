{
 "cells": [
  {
   "cell_type": "code",
   "execution_count": 1,
   "metadata": {},
   "outputs": [],
   "source": [
    "# from yf_utils import _2_split_train_val_test, _3_random_slices, _4_lookback_slices\n",
    "from yf_utils import _5_perf_ranks, _6_grp_tuples_sort_sum\n",
    "from myUtils import pickle_load\n",
    "\n",
    "# verbose = False  # True prints more output\n",
    "verbose = True  # True prints more output\n",
    "\n",
    "path_dir = \"C:/Users/ping/MyDrive/stocks/yfinance/\"\n",
    "path_data_dump = path_dir + \"VSCode_dump/\"\n",
    "fp_df_close_clean = 'df_close_clean'\n",
    "df_close_clean = pickle_load(path_data_dump, fp_df_close_clean)"
   ]
  },
  {
   "cell_type": "code",
   "execution_count": 2,
   "metadata": {},
   "outputs": [],
   "source": [
    "# number of days to lookback from last df date for performance evaluation\n",
    "days_lookbacks = [15, 30]\n",
    "days_lookbacks.sort()  # sort list of integers in ascending order\n",
    "\n",
    "# number of the most-common symbols from days_lookbacks' performance rankings to keep\n",
    "n_top_syms = 20  \n",
    "\n",
    "syms_start = 0  # slice start of set_most_common_syms\n",
    "syms_end = 5  #  slice end of set_most_common_syms"
   ]
  },
  {
   "cell_type": "code",
   "execution_count": 3,
   "metadata": {},
   "outputs": [],
   "source": [
    "# grp_top_set_syms_n_freq = []  # list of lists of top_set_symbols_n_freq, there are n_samples lists in list\n",
    "# grp_top_set_syms = []  # list of lists of top_set_symbols, there are n_samples lists in list\n",
    "grp_most_common_syms = []  # accumulates the best performing symbols from each days_lookback\n",
    "grp_perf_ranks = []  # accumulates the best performance ranking symbols from each days_lookback \n",
    "grp_dates = []  # dates of days_lookbacks \n",
    "\n",
    "for d_lookback in days_lookbacks:\n",
    "  df = df_close_clean.iloc[-d_lookback:]\n",
    "  perf_ranks, most_common_syms = _5_perf_ranks(df, n_top_syms=n_top_syms)  # get the best performance symbols and rankings\n",
    "  grp_most_common_syms.append(most_common_syms)\n",
    "  grp_perf_ranks.append(perf_ranks)  \n",
    "  grp_dates.append(df.index[0].strftime(\"%Y-%m-%d\")) \n",
    "\n",
    "grp_dates.append(df.index[-1].strftime(\"%Y-%m-%d\"))  # get df's last date\n",
    "grp_dates.sort()"
   ]
  },
  {
   "cell_type": "code",
   "execution_count": 4,
   "metadata": {},
   "outputs": [],
   "source": [
    "# flatten list of lists of (symbol:frequency)\n",
    "flat_grp_most_common_syms = [val for sublist in grp_most_common_syms for val in sublist]\n",
    "# group symbols from set of days_lookbacks (i.e. lb_slices) and sum frequency of the symbols\n",
    "set_most_common_syms = _6_grp_tuples_sort_sum(flat_grp_most_common_syms, reverse=True)\n",
    "# get the top few most-frequent symbol:frequency pairs\n",
    "top_set_syms_n_freq = set_most_common_syms[0:n_top_syms]\n",
    "# get symbols from top_set_syms_n_freq\n",
    "top_set_syms = [i[0] for i in top_set_syms_n_freq[syms_start:syms_end]]"
   ]
  },
  {
   "cell_type": "code",
   "execution_count": 5,
   "metadata": {},
   "outputs": [
    {
     "name": "stdout",
     "output_type": "stream",
     "text": [
      "grp_dates: ['2022-12-30', '2023-01-24', '2023-02-13']\n",
      "top_set_syms_n_freq: [('CRUS', 6), ('CTLT', 6), ('THR', 5), ('ICPT', 4), ('LRN', 4), ('TSLA', 4), ('ALGN', 3), ('BSIG', 3), ('CINF', 3), ('ELF', 3), ('EVRI', 3), ('META', 3), ('ON', 3), ('RVNC', 3), ('SMG', 3), ('STBA', 3), ('STNG', 3), ('URI', 3), ('WBS', 3), ('ACLS', 2)]\n",
      "top_set_syms: ['CRUS', 'CTLT', 'THR', 'ICPT', 'LRN']\n"
     ]
    }
   ],
   "source": [
    "print(f'grp_dates: {grp_dates}')\n",
    "print(f'top_set_syms_n_freq: {top_set_syms_n_freq}')\n",
    "print(f'top_set_syms: {top_set_syms}')"
   ]
  },
  {
   "cell_type": "code",
   "execution_count": 6,
   "metadata": {},
   "outputs": [],
   "source": [
    "# import webbrowser\n",
    "\n",
    "# y_quote = 'https://finance.yahoo.com/quote/'\n",
    "# for sym in top_set_syms:\n",
    "#   url = y_quote + sym\n",
    "#   print(url)\n",
    "#   webbrowser.open(url)  # open symbols in yahoo finance"
   ]
  },
  {
   "cell_type": "code",
   "execution_count": 7,
   "metadata": {},
   "outputs": [],
   "source": [
    "# # Importing Pandas to create DataFrame\n",
    "# import pandas as pd\n",
    "\n",
    "# my_cols = ['date', 'days_lookbacks', 'n_top_syms', 'syms_start', 'syms_end', 'grp_dates', 'top_set_syms_n_freq', 'top_set_syms']\n",
    "# # Creating Empty DataFrame and Storing it in variable df\n",
    "# df = pd.DataFrame(columns=my_cols)"
   ]
  },
  {
   "cell_type": "code",
   "execution_count": 8,
   "metadata": {},
   "outputs": [],
   "source": [
    "from myUtils import pickle_load, pickle_dump\n",
    "\n",
    "path_dir = \"C:/Users/ping/MyDrive/stocks/yfinance/\"\n",
    "path_data_dump = path_dir + \"VSCode_dump/\"\n",
    "fp_top_set_syms = 'df_top_set_syms'  # df to store top set symbols"
   ]
  },
  {
   "cell_type": "code",
   "execution_count": 9,
   "metadata": {},
   "outputs": [
    {
     "data": {
      "text/html": [
       "<div>\n",
       "<style scoped>\n",
       "    .dataframe tbody tr th:only-of-type {\n",
       "        vertical-align: middle;\n",
       "    }\n",
       "\n",
       "    .dataframe tbody tr th {\n",
       "        vertical-align: top;\n",
       "    }\n",
       "\n",
       "    .dataframe thead th {\n",
       "        text-align: right;\n",
       "    }\n",
       "</style>\n",
       "<table border=\"1\" class=\"dataframe\">\n",
       "  <thead>\n",
       "    <tr style=\"text-align: right;\">\n",
       "      <th></th>\n",
       "      <th>date</th>\n",
       "      <th>days_lookbacks</th>\n",
       "      <th>n_top_syms</th>\n",
       "      <th>syms_start</th>\n",
       "      <th>syms_end</th>\n",
       "      <th>grp_dates</th>\n",
       "      <th>top_set_syms_n_freq</th>\n",
       "      <th>top_set_syms</th>\n",
       "    </tr>\n",
       "  </thead>\n",
       "  <tbody>\n",
       "    <tr>\n",
       "      <th>0</th>\n",
       "      <td>2023-02-10</td>\n",
       "      <td>[15, 30]</td>\n",
       "      <td>20</td>\n",
       "      <td>0</td>\n",
       "      <td>5</td>\n",
       "      <td>[2022-12-29, 2023-01-23, 2023-02-10]</td>\n",
       "      <td>[(CRUS, 6), (CTLT, 6), (THR, 5), (ALGN, 4), (I...</td>\n",
       "      <td>[CRUS, CTLT, THR, ALGN, ICPT]</td>\n",
       "    </tr>\n",
       "  </tbody>\n",
       "</table>\n",
       "</div>"
      ],
      "text/plain": [
       "         date days_lookbacks n_top_syms syms_start syms_end  \\\n",
       "0  2023-02-10       [15, 30]         20          0        5   \n",
       "\n",
       "                              grp_dates  \\\n",
       "0  [2022-12-29, 2023-01-23, 2023-02-10]   \n",
       "\n",
       "                                 top_set_syms_n_freq  \\\n",
       "0  [(CRUS, 6), (CTLT, 6), (THR, 5), (ALGN, 4), (I...   \n",
       "\n",
       "                    top_set_syms  \n",
       "0  [CRUS, CTLT, THR, ALGN, ICPT]  "
      ]
     },
     "execution_count": 9,
     "metadata": {},
     "output_type": "execute_result"
    }
   ],
   "source": [
    "df = pickle_load(path_data_dump, fp_top_set_syms)\n",
    "df"
   ]
  },
  {
   "cell_type": "code",
   "execution_count": 10,
   "metadata": {},
   "outputs": [
    {
     "data": {
      "text/html": [
       "<div>\n",
       "<style scoped>\n",
       "    .dataframe tbody tr th:only-of-type {\n",
       "        vertical-align: middle;\n",
       "    }\n",
       "\n",
       "    .dataframe tbody tr th {\n",
       "        vertical-align: top;\n",
       "    }\n",
       "\n",
       "    .dataframe thead th {\n",
       "        text-align: right;\n",
       "    }\n",
       "</style>\n",
       "<table border=\"1\" class=\"dataframe\">\n",
       "  <thead>\n",
       "    <tr style=\"text-align: right;\">\n",
       "      <th></th>\n",
       "      <th>date</th>\n",
       "      <th>days_lookbacks</th>\n",
       "      <th>n_top_syms</th>\n",
       "      <th>syms_start</th>\n",
       "      <th>syms_end</th>\n",
       "      <th>grp_dates</th>\n",
       "      <th>top_set_syms_n_freq</th>\n",
       "      <th>top_set_syms</th>\n",
       "    </tr>\n",
       "  </thead>\n",
       "  <tbody>\n",
       "    <tr>\n",
       "      <th>0</th>\n",
       "      <td>2023-02-10</td>\n",
       "      <td>[15, 30]</td>\n",
       "      <td>20</td>\n",
       "      <td>0</td>\n",
       "      <td>5</td>\n",
       "      <td>[2022-12-29, 2023-01-23, 2023-02-10]</td>\n",
       "      <td>[(CRUS, 6), (CTLT, 6), (THR, 5), (ALGN, 4), (I...</td>\n",
       "      <td>[CRUS, CTLT, THR, ALGN, ICPT]</td>\n",
       "    </tr>\n",
       "    <tr>\n",
       "      <th>1</th>\n",
       "      <td>2023-02-13</td>\n",
       "      <td>[15, 30]</td>\n",
       "      <td>20</td>\n",
       "      <td>0</td>\n",
       "      <td>5</td>\n",
       "      <td>[2022-12-30, 2023-01-24, 2023-02-13]</td>\n",
       "      <td>[(CRUS, 6), (CTLT, 6), (THR, 5), (ICPT, 4), (L...</td>\n",
       "      <td>[CRUS, CTLT, THR, ICPT, LRN]</td>\n",
       "    </tr>\n",
       "  </tbody>\n",
       "</table>\n",
       "</div>"
      ],
      "text/plain": [
       "         date days_lookbacks n_top_syms syms_start syms_end  \\\n",
       "0  2023-02-10       [15, 30]         20          0        5   \n",
       "1  2023-02-13       [15, 30]         20          0        5   \n",
       "\n",
       "                              grp_dates  \\\n",
       "0  [2022-12-29, 2023-01-23, 2023-02-10]   \n",
       "1  [2022-12-30, 2023-01-24, 2023-02-13]   \n",
       "\n",
       "                                 top_set_syms_n_freq  \\\n",
       "0  [(CRUS, 6), (CTLT, 6), (THR, 5), (ALGN, 4), (I...   \n",
       "1  [(CRUS, 6), (CTLT, 6), (THR, 5), (ICPT, 4), (L...   \n",
       "\n",
       "                    top_set_syms  \n",
       "0  [CRUS, CTLT, THR, ALGN, ICPT]  \n",
       "1   [CRUS, CTLT, THR, ICPT, LRN]  "
      ]
     },
     "execution_count": 10,
     "metadata": {},
     "output_type": "execute_result"
    }
   ],
   "source": [
    "row_add = [grp_dates[-1], days_lookbacks, n_top_syms, syms_start, syms_end, grp_dates, top_set_syms_n_freq, top_set_syms]\n",
    "df.loc[len(df)] = row_add\n",
    "df"
   ]
  },
  {
   "cell_type": "code",
   "execution_count": 11,
   "metadata": {},
   "outputs": [],
   "source": [
    "df = df.drop_duplicates(subset=['date'])"
   ]
  },
  {
   "cell_type": "code",
   "execution_count": 12,
   "metadata": {},
   "outputs": [],
   "source": [
    "pickle_dump(df, path_data_dump, fp_top_set_syms)"
   ]
  },
  {
   "cell_type": "code",
   "execution_count": 13,
   "metadata": {},
   "outputs": [
    {
     "data": {
      "text/html": [
       "<div>\n",
       "<style scoped>\n",
       "    .dataframe tbody tr th:only-of-type {\n",
       "        vertical-align: middle;\n",
       "    }\n",
       "\n",
       "    .dataframe tbody tr th {\n",
       "        vertical-align: top;\n",
       "    }\n",
       "\n",
       "    .dataframe thead th {\n",
       "        text-align: right;\n",
       "    }\n",
       "</style>\n",
       "<table border=\"1\" class=\"dataframe\">\n",
       "  <thead>\n",
       "    <tr style=\"text-align: right;\">\n",
       "      <th></th>\n",
       "      <th>date</th>\n",
       "      <th>days_lookbacks</th>\n",
       "      <th>n_top_syms</th>\n",
       "      <th>syms_start</th>\n",
       "      <th>syms_end</th>\n",
       "      <th>grp_dates</th>\n",
       "      <th>top_set_syms_n_freq</th>\n",
       "      <th>top_set_syms</th>\n",
       "    </tr>\n",
       "  </thead>\n",
       "  <tbody>\n",
       "    <tr>\n",
       "      <th>0</th>\n",
       "      <td>2023-02-10</td>\n",
       "      <td>[15, 30]</td>\n",
       "      <td>20</td>\n",
       "      <td>0</td>\n",
       "      <td>5</td>\n",
       "      <td>[2022-12-29, 2023-01-23, 2023-02-10]</td>\n",
       "      <td>[(CRUS, 6), (CTLT, 6), (THR, 5), (ALGN, 4), (I...</td>\n",
       "      <td>[CRUS, CTLT, THR, ALGN, ICPT]</td>\n",
       "    </tr>\n",
       "    <tr>\n",
       "      <th>1</th>\n",
       "      <td>2023-02-13</td>\n",
       "      <td>[15, 30]</td>\n",
       "      <td>20</td>\n",
       "      <td>0</td>\n",
       "      <td>5</td>\n",
       "      <td>[2022-12-30, 2023-01-24, 2023-02-13]</td>\n",
       "      <td>[(CRUS, 6), (CTLT, 6), (THR, 5), (ICPT, 4), (L...</td>\n",
       "      <td>[CRUS, CTLT, THR, ICPT, LRN]</td>\n",
       "    </tr>\n",
       "  </tbody>\n",
       "</table>\n",
       "</div>"
      ],
      "text/plain": [
       "         date days_lookbacks n_top_syms syms_start syms_end  \\\n",
       "0  2023-02-10       [15, 30]         20          0        5   \n",
       "1  2023-02-13       [15, 30]         20          0        5   \n",
       "\n",
       "                              grp_dates  \\\n",
       "0  [2022-12-29, 2023-01-23, 2023-02-10]   \n",
       "1  [2022-12-30, 2023-01-24, 2023-02-13]   \n",
       "\n",
       "                                 top_set_syms_n_freq  \\\n",
       "0  [(CRUS, 6), (CTLT, 6), (THR, 5), (ALGN, 4), (I...   \n",
       "1  [(CRUS, 6), (CTLT, 6), (THR, 5), (ICPT, 4), (L...   \n",
       "\n",
       "                    top_set_syms  \n",
       "0  [CRUS, CTLT, THR, ALGN, ICPT]  \n",
       "1   [CRUS, CTLT, THR, ICPT, LRN]  "
      ]
     },
     "execution_count": 13,
     "metadata": {},
     "output_type": "execute_result"
    }
   ],
   "source": [
    "_df = pickle_load(path_data_dump, fp_top_set_syms)\n",
    "_df"
   ]
  },
  {
   "cell_type": "code",
   "execution_count": 14,
   "metadata": {},
   "outputs": [
    {
     "name": "stdout",
     "output_type": "stream",
     "text": [
      "_df[\"top_set_syms_n_freq\"]:\n",
      "0    [(CRUS, 6), (CTLT, 6), (THR, 5), (ALGN, 4), (ICPT, 4), (LRN, 4), (TSLA, 4), (AXP, 3), (CINF, 3), (ELF, 3), (EVRI, 3)...\n",
      "1    [(CRUS, 6), (CTLT, 6), (THR, 5), (ICPT, 4), (LRN, 4), (TSLA, 4), (ALGN, 3), (BSIG, 3), (CINF, 3), (ELF, 3), (EVRI, 3...\n",
      "Name: top_set_syms_n_freq, dtype: object\n",
      "\n",
      "_df[\"top_set_syms\"]:\n",
      "0    [CRUS, CTLT, THR, ALGN, ICPT]\n",
      "1     [CRUS, CTLT, THR, ICPT, LRN]\n",
      "Name: top_set_syms, dtype: object\n",
      "last row of top_set_syms:\n",
      "['CRUS', 'CTLT', 'THR', 'ICPT', 'LRN']\n"
     ]
    }
   ],
   "source": [
    "import pandas as pd\n",
    "# pd.options.display.width = 120\n",
    "pd.options.display.max_colwidth = 120\n",
    "\n",
    "print(f'_df[\"top_set_syms_n_freq\"]:\\n{_df[\"top_set_syms_n_freq\"]}\\n')\n",
    "l_last_top_set_syms_n_freq = _df['top_set_syms_n_freq'].iloc[-1]\n",
    "\n",
    "print(f'_df[\"top_set_syms\"]:\\n{_df[\"top_set_syms\"]}')\n",
    "l_last_top_set_syms = _df['top_set_syms'].iloc[-1]\n",
    "print(f'last row of top_set_syms:\\n{l_last_top_set_syms}')"
   ]
  },
  {
   "cell_type": "code",
   "execution_count": 15,
   "metadata": {},
   "outputs": [],
   "source": [
    "# type(_df[\"top_set_syms\"])"
   ]
  },
  {
   "cell_type": "code",
   "execution_count": 16,
   "metadata": {},
   "outputs": [
    {
     "name": "stdout",
     "output_type": "stream",
     "text": [
      "['ALGN', 'CRUS', 'CTLT', 'ICPT', 'LRN', 'SPY', 'THR']\n"
     ]
    }
   ],
   "source": [
    "recent_top_set_syms = []\n",
    "for symbols in _df[\"top_set_syms\"]:\n",
    "  recent_top_set_syms.append(symbols)\n",
    "recent_top_set_syms\n",
    "\n",
    "# flatten symbols_download_err which is a list-of-lists\n",
    "recent_top_set_syms = [val for sublist in recent_top_set_syms for val in sublist]\n",
    "recent_top_set_syms\n",
    "# get list of unique symbols in df_OHLCV, list(df) is a list of tuples\n",
    "# e.g.: [('AAPL', 'Open')..('AAPL', 'Volume'),...\n",
    "#        ('ZZZZ', 'Open')..('ZZZZ', 'Volume')]\n",
    "recent_top_set_syms = list(set(recent_top_set_syms))\n",
    "recent_top_set_syms.append(\"SPY\")\n",
    "recent_top_set_syms.sort()\n",
    "print(recent_top_set_syms)\n"
   ]
  },
  {
   "cell_type": "code",
   "execution_count": 17,
   "metadata": {},
   "outputs": [
    {
     "name": "stdout",
     "output_type": "stream",
     "text": [
      "                ALGN      CRUS      CTLT      ICPT       LRN       SPY  \\\n",
      "Date                                                                     \n",
      "2023-01-31       NaN       NaN       NaN       NaN       NaN       NaN   \n",
      "2023-02-01  0.047455  0.031530  0.021849  0.027382  0.007454  0.010628   \n",
      "2023-02-02  0.273776  0.017696  0.035088  0.020789 -0.016185  0.014557   \n",
      "2023-02-03 -0.046627  0.078933 -0.010417 -0.006788  0.007051 -0.010629   \n",
      "2023-02-06 -0.001865 -0.000098  0.195361  0.086225 -0.026138 -0.006111   \n",
      "2023-02-07  0.007621  0.041809  0.068358  0.050823  0.001677  0.013079   \n",
      "2023-02-08 -0.029675 -0.014440 -0.003772 -0.044219 -0.025359 -0.010935   \n",
      "2023-02-09 -0.040170 -0.001237  0.009676  0.004337  0.015955 -0.008669   \n",
      "2023-02-10 -0.017332 -0.004572 -0.021389  0.000960  0.005074  0.002334   \n",
      "2023-02-13  0.029923  0.015694  0.001277 -0.011026  0.025481  0.011739   \n",
      "\n",
      "                 THR  \n",
      "Date                  \n",
      "2023-01-31       NaN  \n",
      "2023-02-01  0.001298  \n",
      "2023-02-02  0.005184  \n",
      "2023-02-03  0.031371  \n",
      "2023-02-06  0.058333  \n",
      "2023-02-07  0.035039  \n",
      "2023-02-08  0.031191  \n",
      "2023-02-09 -0.017706  \n",
      "2023-02-10  0.014270  \n",
      "2023-02-13  0.006294  \n"
     ]
    },
    {
     "data": {
      "text/html": [
       "<div>\n",
       "<style scoped>\n",
       "    .dataframe tbody tr th:only-of-type {\n",
       "        vertical-align: middle;\n",
       "    }\n",
       "\n",
       "    .dataframe tbody tr th {\n",
       "        vertical-align: top;\n",
       "    }\n",
       "\n",
       "    .dataframe thead th {\n",
       "        text-align: right;\n",
       "    }\n",
       "</style>\n",
       "<table border=\"1\" class=\"dataframe\">\n",
       "  <thead>\n",
       "    <tr style=\"text-align: right;\">\n",
       "      <th></th>\n",
       "      <th>ALGN</th>\n",
       "      <th>CRUS</th>\n",
       "      <th>CTLT</th>\n",
       "      <th>ICPT</th>\n",
       "      <th>LRN</th>\n",
       "      <th>SPY</th>\n",
       "      <th>THR</th>\n",
       "    </tr>\n",
       "    <tr>\n",
       "      <th>Date</th>\n",
       "      <th></th>\n",
       "      <th></th>\n",
       "      <th></th>\n",
       "      <th></th>\n",
       "      <th></th>\n",
       "      <th></th>\n",
       "      <th></th>\n",
       "    </tr>\n",
       "  </thead>\n",
       "  <tbody>\n",
       "    <tr>\n",
       "      <th>2023-02-13</th>\n",
       "      <td>0.029923</td>\n",
       "      <td>0.015694</td>\n",
       "      <td>0.001277</td>\n",
       "      <td>-0.011026</td>\n",
       "      <td>0.025481</td>\n",
       "      <td>0.011739</td>\n",
       "      <td>0.006294</td>\n",
       "    </tr>\n",
       "  </tbody>\n",
       "</table>\n",
       "</div>"
      ],
      "text/plain": [
       "                ALGN      CRUS      CTLT      ICPT       LRN       SPY  \\\n",
       "Date                                                                     \n",
       "2023-02-13  0.029923  0.015694  0.001277 -0.011026  0.025481  0.011739   \n",
       "\n",
       "                 THR  \n",
       "Date                  \n",
       "2023-02-13  0.006294  "
      ]
     },
     "execution_count": 17,
     "metadata": {},
     "output_type": "execute_result"
    }
   ],
   "source": [
    "# my_cols.sort() will not change order of l_last_top_set_syms \n",
    "my_cols = recent_top_set_syms.copy()  \n",
    "my_cols.sort()\n",
    "# my_cols.append('SPY')\n",
    "_df = df_close_clean[my_cols].tail(10)\n",
    "# print(_df)\n",
    "print(_df.pct_change())\n",
    "_df.pct_change().tail(1)[0:10]"
   ]
  },
  {
   "cell_type": "code",
   "execution_count": 18,
   "metadata": {},
   "outputs": [
    {
     "name": "stdout",
     "output_type": "stream",
     "text": [
      "_df_chg.mean(): ALGN   -0.014313\n",
      "CRUS   -0.001139\n",
      "CTLT   -0.003552\n",
      "ICPT   -0.012487\n",
      "LRN     0.005288\n",
      "SPY    -0.001383\n",
      "THR     0.008512\n",
      "dtype: float64\n",
      "_df_chg.std(): ALGN    0.030933\n",
      "CRUS    0.012544\n",
      "CTLT    0.013121\n",
      "ICPT    0.022158\n",
      "LRN     0.022067\n",
      "SPY     0.010493\n",
      "THR     0.020329\n",
      "dtype: float64\n"
     ]
    }
   ],
   "source": [
    "\n",
    "_df_chg = _df.pct_change().tail(4)\n",
    "print(f'_df_chg.mean(): {_df_chg.mean()}')\n",
    "print(f'_df_chg.std(): {_df_chg.std()}')"
   ]
  },
  {
   "cell_type": "code",
   "execution_count": 19,
   "metadata": {},
   "outputs": [
    {
     "name": "stdout",
     "output_type": "stream",
     "text": [
      "-0.004597697558701194\n"
     ]
    },
    {
     "data": {
      "text/plain": [
       "ALGN   -0.014313\n",
       "CRUS   -0.001139\n",
       "CTLT   -0.003552\n",
       "ICPT   -0.012487\n",
       "LRN     0.005288\n",
       "SPY    -0.001383\n",
       "dtype: float64"
      ]
     },
     "execution_count": 19,
     "metadata": {},
     "output_type": "execute_result"
    }
   ],
   "source": [
    "print(_df_chg.mean()[:-1].mean())\n",
    "_df_chg.mean()[:-1]"
   ]
  }
 ],
 "metadata": {
  "kernelspec": {
   "display_name": "Python 3",
   "language": "python",
   "name": "python3"
  },
  "language_info": {
   "codemirror_mode": {
    "name": "ipython",
    "version": 3
   },
   "file_extension": ".py",
   "mimetype": "text/x-python",
   "name": "python",
   "nbconvert_exporter": "python",
   "pygments_lexer": "ipython3",
   "version": "3.7.9"
  },
  "orig_nbformat": 4,
  "vscode": {
   "interpreter": {
    "hash": "55a3812d65f91e7e7447da6b5cfc60716e82f91e6a92533fb27b46796ad1962a"
   }
  }
 },
 "nbformat": 4,
 "nbformat_minor": 2
}
