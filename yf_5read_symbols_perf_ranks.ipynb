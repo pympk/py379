{
 "cells": [
  {
   "cell_type": "code",
   "execution_count": 1,
   "metadata": {},
   "outputs": [],
   "source": [
    "# https://towardsdatascience.com/pandas-groupby-a-simple-but-detailed-tutorial-314b8f37005d\n",
    "# https://towardsdatascience.com/accessing-data-in-a-multiindex-dataframe-in-pandas-569e8767201d\n",
    "# https://towardsdatascience.com/summarizing-data-with-pandas-crosstab-efc8b9abecf\n",
    "# https://towardsdatascience.com/how-to-flatten-multiindex-columns-and-rows-in-pandas-f5406c50e569\n",
    "# https://datascientyst.com/list-aggregation-functions-aggfunc-groupby-pandas/\n",
    "# https://stackoverflow.com/questions/25929319/how-to-iterate-over-pandas-multiindex-dataframe-using-index\n",
    "# https://stackoverflow.com/questions/24495695/pandas-get-unique-multiindex-level-values-by-label\n",
    "# https://stackoverflow.com/questions/55706391/pandas-crosstab-on-multiple-columns-then-groupby\n",
    "\n",
    "# https://matplotlib.org/stable/gallery/pyplots/pyplot_text.html#sphx-glr-gallery-pyplots-pyplot-text-py"
   ]
  },
  {
   "cell_type": "code",
   "execution_count": 2,
   "metadata": {},
   "outputs": [],
   "source": [
    "import pandas as pd\n",
    "import numpy as np\n",
    "from myUtils import pickle_load, pickle_dump, symb_perf_stats_vectorized\n",
    "\n",
    "path_dir = \"C:/Users/ping/MyDrive/stocks/yfinance/\"\n",
    "path_data_dump = path_dir + \"VSCode_dump/\"\n",
    "\n",
    "f_pickled_perf_ranks_dict = 'perf_ranks_dict'  # dic of performance ranks\n",
    "f_pickled_ranked_perf_ranks_dict = 'ranked_perf_ranks_dict'  # key: periods, value: ranked_perf_ranks\n",
    "\n",
    "start_slice, end_slice = 0, 100"
   ]
  },
  {
   "cell_type": "code",
   "execution_count": 3,
   "metadata": {},
   "outputs": [],
   "source": [
    "perf_ranks_dict = pickle_load(path_data_dump, f_pickled_perf_ranks_dict)\n",
    "ranked_perf_ranks_dict = pickle_load(path_data_dump, f_pickled_ranked_perf_ranks_dict)"
   ]
  },
  {
   "cell_type": "code",
   "execution_count": 4,
   "metadata": {},
   "outputs": [
    {
     "data": {
      "text/plain": [
       "dict_keys(['period-15', 'period-30', 'period-60', 'period-120', 'period-240'])"
      ]
     },
     "execution_count": 4,
     "metadata": {},
     "output_type": "execute_result"
    }
   ],
   "source": [
    "perf_ranks_dict.keys()"
   ]
  },
  {
   "cell_type": "code",
   "execution_count": 5,
   "metadata": {},
   "outputs": [
    {
     "name": "stdout",
     "output_type": "stream",
     "text": [
      "period-15\n",
      "r_CAGR/UI\n",
      "['MRTX' 'QURE' 'SEDG' 'BURL' 'XOMA' 'PERI' 'THR' 'SPWR' 'AEO' 'NRIM' 'ANF'\n",
      " 'TSM' 'AZTA' 'COUP' 'WLFC' 'PKOH' 'PDFS' 'GPS' 'HTLD' 'SEE' 'ZD' 'ALE'\n",
      " 'VPG' 'AEHR' 'RUN' 'FICO' 'LSCC' 'AMWD' 'AMG' 'USFD' 'MCI' 'SYNH' 'AMBA'\n",
      " 'MATW' 'VRNS' 'BERY' 'MTN' 'ASML' 'ENV' 'DIOD' 'AXON' 'AMKR' 'APPS' 'EVI'\n",
      " 'UHS' 'ROST' 'AVNS' 'NNI' 'ZEUS' 'ARMK' 'TBK' 'RAMP' 'NSIT' 'X' 'ASPS'\n",
      " 'ATKR' 'IPG' 'NQP' 'AMRC' 'TNET' 'MMS' 'MPA' 'AAON' 'LIN' 'CNHI' 'PARA'\n",
      " 'PRMW' 'ACLS' 'STM' 'SCHN' 'AU' 'APD' 'BYM' 'MUC' 'BMRN' 'HSIC' 'KMB'\n",
      " 'SMCI' 'CPK' 'WPP' 'PEN' 'FUL' 'RICK' 'SNPS' 'PG' 'CSL' 'FOXF' 'BZH'\n",
      " 'TRC' 'BKI' 'URBN' 'STC' 'CNXN' 'ODP' 'NAD' 'DBRG' 'CELH' 'LNW' 'PANW'\n",
      " 'CARA']\n",
      "r_CAGR/Std\n",
      "['MRTX' 'COUP' 'BURL' 'XOMA' 'QURE' 'AEO' 'AEHR' 'SPWR' 'SEDG' 'GPS' 'ANF'\n",
      " 'AZTA' 'VRNS' 'LSCC' 'TSM' 'AMBA' 'AMKR' 'SYNH' 'FICO' 'PERI' 'ASPS'\n",
      " 'WLFC' 'APPS' 'EVI' 'PKOH' 'ZD' 'RAMP' 'PDFS' 'RUN' 'AMWD' 'HTLD' 'ALE'\n",
      " 'AMG' 'MTN' 'PARA' 'X' 'VPG' 'AXON' 'ZEUS' 'ASML' 'DIOD' 'CNHI' 'ENV'\n",
      " 'SEE' 'AU' 'ROST' 'USFD' 'ATKR' 'ACLS' 'TBK' 'MATW' 'CELH' 'NRIM' 'BERY'\n",
      " 'META' 'CARA' 'SMCI' 'THR' 'PLNT' 'EFX' 'PANW' 'ARMK' 'MDRX' 'BZH' 'AMRC'\n",
      " 'IPG' 'SNPS' 'FOXF' 'URBN' 'STC' 'PKX' 'TGLS' 'PEN' 'PRDO' 'DBRG' 'FL'\n",
      " 'AVNS' 'BBWI' 'UHS' 'IVZ' 'STM' 'SAR' 'PRMW' 'IMAX' 'CNXN' 'ZTO' 'EXPD'\n",
      " 'BMRN' 'SCHN' 'TRC' 'NSIT' 'RCKY' 'CIR' 'BYM' 'LNW' 'CLF' 'VFC' 'NLY'\n",
      " 'CSL' 'UFPI']\n",
      "r_Std/UI\n",
      "['THR' 'MCI' 'NRIM' 'NNI' 'PERI' 'SEE' 'TNET' 'NQP' 'MUC' 'HTLD' 'SEDG'\n",
      " 'PDFS' 'PG' 'LIN' 'APD' 'UHS' 'NAD' 'AVNS' 'MYI' 'MPA' 'PKOH' 'NSIT'\n",
      " 'KMB' 'NGG' 'AAON' 'MMS' 'VPG' 'TSM' 'USFD' 'RICK' 'PNM' 'MATW' 'BERY'\n",
      " 'ALE' 'WLFC' 'MLI' 'STLA' 'ARMK' 'ZD' 'HSIC' 'RZB' 'MUI' 'GDO' 'QURE'\n",
      " 'AGM' 'FTSM' 'MGI' 'TBNK' 'COST' 'AMG' 'FAST' 'RUN' 'TRI' 'SPWR' 'IPG'\n",
      " 'SPXX' 'ESI' 'WDFC' 'AMWD' 'SCHN' 'ITGR' 'DE' 'MQY' 'WPP' 'AN' 'BYM'\n",
      " 'CPK' 'BKI' 'TBK' 'CAE' 'WLY' 'ENV' 'AZTA' 'TRS' 'SHW' 'LAMR' 'JHS'\n",
      " 'ABBV' 'BR' 'PRMW' 'APAM' 'VRSN' 'FUL' 'JPI' 'ODP' 'CPRT' 'RIO' 'FN'\n",
      " 'NUO' 'TTEC' 'ITW' 'XOMA' 'HD' 'NID' 'DIOD' 'ASML' 'STM' 'AMRC' 'RY'\n",
      " 'EOT']\n",
      " \n",
      "period-30\n",
      "r_CAGR/UI\n",
      "['SMCI' 'BURL' 'WNC' 'AXON' 'AVEO' 'OII' 'ZEUS' 'AMKR' 'AEHR' 'ACLS' 'MOD'\n",
      " 'ABMD' 'AEO' 'EXTR' 'AIMC' 'AAON' 'MCRI' 'GBX' 'LOPE' 'GILD' 'OMAB'\n",
      " 'SEDG' 'RMBS' 'ASML' 'KLAC' 'DMRC' 'MAC' 'GS' 'HEES' 'LSCC' 'PI' 'DD'\n",
      " 'CRAI' 'OSPN' 'UFPT' 'ISRG' 'PIPR' 'APD' 'VCYT' 'T' 'TEX' 'FMX' 'MYE'\n",
      " 'GPS' 'AU' 'HON' 'ROST' 'CNK' 'TGLS' 'WLFC' 'LNW' 'ENLC' 'GE' 'OPY' 'MGU'\n",
      " 'NRIM' 'XYL' 'OSIS' 'UHS' 'CAT' 'ITGR' 'ELF' 'CIR' 'NSIT' 'AVNS' 'AMX'\n",
      " 'DAN' 'ASC' 'APO' 'NGG' 'CNHI' 'XOMA' 'PDS' 'GVA' 'PDFS' 'TRN' 'AFL'\n",
      " 'TBNK' 'UNFI' 'PMT' 'RCKY' 'JCI' 'TSBK' 'CHGG' 'AMG' 'PFGC' 'EME' 'ALE'\n",
      " 'SXI' 'STRA' 'BDC' 'USFD' 'THR' 'OEC' 'NVDA' 'AMAT' 'AMBA' 'NOVT' 'UNVR'\n",
      " 'TRC']\n",
      "r_CAGR/Std\n",
      "['SMCI' 'BURL' 'AEHR' 'OII' 'WNC' 'AMKR' 'AXON' 'ZEUS' 'EXTR' 'ACLS' 'AEO'\n",
      " 'VCYT' 'ASML' 'DMRC' 'RMBS' 'MOD' 'OSPN' 'GBX' 'CIR' 'PI' 'SEDG' 'LSCC'\n",
      " 'KLAC' 'GPS' 'OPY' 'RELL' 'PIPR' 'MAC' 'ISRG' 'HEES' 'APO' 'TEX' 'LNW'\n",
      " 'AIMC' 'AAON' 'CNK' 'SRI' 'DAN' 'ROST' 'ALE' 'UHS' 'ASC' 'DD' 'AU' 'PDS'\n",
      " 'NEOG' 'GS' 'OMAB' 'TGLS' 'NVDA' 'LRCX' 'AMAT' 'AMOT' 'PKOH' 'GE' 'NRIM'\n",
      " 'TRN' 'CNHI' 'ENLC' 'FSLR' 'AMBA' 'MATW' 'MRTX' 'MCRI' 'AVNS' 'NOVT'\n",
      " 'FMX' 'KWR' 'PKE' 'OEC' 'THR' 'APD' 'AZTA' 'BDC' 'NSIT' 'UFPT' 'USFD'\n",
      " 'ITGR' 'HON' 'AMX' 'ELF' 'PFGC' 'CAT' 'XYL' 'UNVR' 'NPO' 'MTSI' 'E'\n",
      " 'GOGO' 'OSIS' 'ATKR' 'WLFC' 'XOMA' 'STRL' 'RCKY' 'PKX' 'MYE' 'ORCL'\n",
      " 'LOPE' 'PDFS']\n",
      "r_Std/UI\n",
      "['AVEO' 'ABMD' 'GILD' 'LOPE' 'MCRI' 'TBNK' 'CRAI' 'T' 'AAON' 'TCPC' 'AIMC'\n",
      " 'OMAB' 'MYE' 'UFPT' 'NGG' 'CDW' 'AXON' 'UVV' 'FTSM' 'APD' 'MGU' 'GS'\n",
      " 'TSBK' 'WLFC' 'UNFI' 'AFL' 'HON' 'FMX' 'MEDP' 'ITW' 'OSIS' 'RY' 'SCHL'\n",
      " 'PLOW' 'XYL' 'MOD' 'STRA' 'CAT' 'CHGG' 'GVA' 'CHY' 'AIG' 'PMT' 'WTW'\n",
      " 'ZEUS' 'ITGR' 'ELF' 'QNST' 'DD' 'JEF' 'MSA' 'PDFS' 'EME' 'ALX' 'MAC'\n",
      " 'NSIT' 'DE' 'AMX' 'XOMA' 'AMG' 'GBX' 'JCI' 'HEES' 'ENLC' 'ATCO' 'GNL'\n",
      " 'SLF' 'RENN' 'WMT' 'IOSP' 'INGR' 'EIG' 'KOP' 'MET' 'ACLS' 'OSBC' 'PSMT'\n",
      " 'IBM' 'GE' 'RCI' 'NRIM' 'B' 'RCKY' 'SKT' 'AER' 'AVNS' 'ALV' 'SITC' 'PLXS'\n",
      " 'PBA' 'BGH' 'SMCI' 'TGLS' 'PPL' 'BLX' 'ETN' 'APAM' 'WNC' 'BGSF' 'FN']\n",
      " \n",
      "period-60\n",
      "r_CAGR/UI\n",
      "['ADEA' 'TSBK' 'PRTA' 'AVEO' 'ISEE' 'NRIM' 'INSW' 'AEHR' 'AXON' 'WNC'\n",
      " 'RELL' 'RMBS' 'CHUY' 'FBNC' 'AE' 'BIIB' 'EVI' 'ELF' 'ASC' 'SANM' 'RENN'\n",
      " 'FTI' 'FRPT' 'LOPE' 'ANF' 'TTC' 'HTBK' 'MRK' 'CVLG' 'GPS' 'EME' 'FTSM'\n",
      " 'ATEN' 'TPL' 'CASH' 'OII' 'CRAI' 'STBA' 'IBOC' 'MYOV' 'ANIK' 'NBTB'\n",
      " 'FONR' 'RICK' 'MODN' 'MPC' 'WLFC' 'ERIE' 'MEDP' 'FCBC' 'NPO' 'HALO'\n",
      " 'MCRI' 'CIR' 'HFWA' 'LPG' 'EXTR' 'OOMA' 'PGC' 'OSBC' 'BKE' 'PBF' 'AIMC'\n",
      " 'GILD' 'CVLT' 'GL' 'FFBC' 'STOR' 'STRA' 'SLB' 'ODP' 'TR' 'URBN' 'UCBI'\n",
      " 'AAON' 'RNST' 'OMAB' 'HLI' 'AGYS' 'DINO' 'ACGL' 'CHGG' 'ORLY' 'CNO'\n",
      " 'TBBK' 'TNK' 'CCRN' 'FHN' 'AER' 'ABMD' 'OR' 'FSS' 'SRCE' 'CHCO' 'COHU'\n",
      " 'ASB' 'IBCP' 'SAP' 'CASS' 'TJX']\n",
      "r_CAGR/Std\n",
      "['ADEA' 'ISEE' 'AEHR' 'AXON' 'PRTA' 'TSBK' 'EVI' 'RMBS' 'NRIM' 'INSW'\n",
      " 'ASC' 'RELL' 'GPS' 'WNC' 'OII' 'AVEO' 'FBNC' 'FRPT' 'FTI' 'TTC' 'CHUY'\n",
      " 'EME' 'AE' 'EXTR' 'ATEN' 'CIR' 'SANM' 'WLFC' 'OMAB' 'AER' 'RICK' 'ELF'\n",
      " 'TPL' 'CRAI' 'ANF' 'LOPE' 'CASH' 'HFWA' 'MODN' 'BKE' 'HALO' 'SMCI' 'STBA'\n",
      " 'MRK' 'GILD' 'MCRI' 'FONR' 'AMKR' 'NPO' 'MOD' 'PBF' 'OSBC' 'CNHI' 'ARGO'\n",
      " 'LPG' 'TEX' 'STRA' 'ZEUS' 'URBN' 'IBOC' 'TNK' 'SAP' 'RNR' 'AAON' 'PLOW'\n",
      " 'SLB' 'LNW' 'MAC' 'B' 'BIIB' 'OR' 'RENN' 'HTBK' 'TJX' 'MYOV' 'ODP' 'CAT'\n",
      " 'CVLT' 'UHS' 'CCRN' 'NBTB' 'MAG' 'FMX' 'AU' 'HLIT' 'RNST' 'AFL' 'WWE'\n",
      " 'TR' 'FSLR' 'DD' 'OOMA' 'FN' 'MPC' 'VMI' 'XPRO' 'RCL' 'HEES' 'FSS' 'PERI']\n",
      "r_Std/UI\n",
      "['TSBK' 'ADEA' 'PRTA' 'AVEO' 'BIIB' 'STOR' 'CVLG' 'RENN' 'FTSM' 'HTBK'\n",
      " 'CHUY' 'AE' 'ELF' 'ANIK' 'FCBC' 'REGN' 'NRIM' 'MRK' 'FBNC' 'MEDP' 'INSW'\n",
      " 'ISEE' 'LOPE' 'RZA' 'ANF' 'SRCE' 'VRTX' 'ERIE' 'ABMD' 'MGRC' 'NBTB'\n",
      " 'SANM' 'MYOV' 'WNC' 'ROL' 'IBOC' 'MPC' 'PGC' 'UCBI' 'LBAI' 'FFBC' 'HURN'\n",
      " 'DINO' 'RELL' 'LLY' 'LHCG' 'AGYS' 'CASH' 'OOMA' 'AIMC' 'STBA' 'GL' 'FULT'\n",
      " 'TMP' 'FTI' 'LSTR' 'FRPT' 'FONR' 'TPL' 'UBSI' 'TTC' 'ASB' 'FIVE' 'AMN'\n",
      " 'CRAI' 'IBCP' 'MGI' 'PFC' 'CECE' 'ROCK' 'NXGN' 'CIVB' 'TXRH' 'EME' 'CHGG'\n",
      " 'AEHR' 'AXON' 'DHI' 'RMBS' 'COHU' 'APOG' 'FIX' 'CVLT' 'ACGL' 'PPBI'\n",
      " 'AMNB' 'ATEN' 'GBCI' 'FNB' 'EQBK' 'TMHC' 'CALX' 'KNSL' 'NPO' 'BAH' 'CCBG'\n",
      " 'TR' 'QNST' 'LPG' 'ADUS']\n",
      " \n",
      "period-120\n",
      "r_CAGR/UI\n",
      "['AVEO' 'ELF' 'FSLR' 'ERIE' 'AEHR' 'LANC' 'ADEA' 'PI' 'TSBK' 'CPRX' 'MYOV'\n",
      " 'PRTA' 'ASC' 'CAH' 'EXTR' 'CALX' 'NTNX' 'EVI' 'WING' 'CECE' 'CCBG' 'DGII'\n",
      " 'AXON' 'IRDM' 'SRPT' 'INSW' 'TR' 'GILD' 'ISEE' 'BIIB' 'RELL' 'ORLY' 'EME'\n",
      " 'COWN' 'MODN' 'CCRN' 'MGI' 'DKS' 'FCBC' 'GPC' 'AGYS' 'BMI' 'RICK' 'FTSM'\n",
      " 'ANIK' 'CLFD' 'TPL' 'UFPT' 'CI' 'SYBT' 'HLIT' 'SANM' 'DXCM' 'STNG' 'NBIX'\n",
      " 'GIS' 'DECK' 'CVLG' 'FSS' 'MOD' 'VRDN' 'ROST' 'NRIM' 'BBSI' 'TWNK' 'STBA'\n",
      " 'CHCO' 'WMT' 'HFWA' 'LW' 'BAH' 'ADUS' 'HAE' 'ESSA' 'TNK' 'ALNY' 'HUM'\n",
      " 'SJM' 'TJX' 'EDU' 'TBBK' 'AAWW' 'ANIP' 'AXSM' 'CROX' 'RVNC' 'TNP' 'NFBK'\n",
      " 'AAON' 'HTBK' 'RNST' 'NFLX' 'LBAI' 'FIX' 'CHUY' 'FIBK' 'CALM' 'ENPH'\n",
      " 'WNC' 'FBNC']\n",
      "r_CAGR/Std\n",
      "['AVEO' 'FSLR' 'CPRX' 'AEHR' 'ELF' 'PI' 'EXTR' 'LANC' 'TSBK' 'ERIE' 'ASC'\n",
      " 'INSW' 'CECE' 'EVI' 'AXON' 'CAH' 'MYOV' 'WING' 'MOD' 'CCRN' 'CLFD' 'SRPT'\n",
      " 'TR' 'ORLY' 'CALX' 'EME' 'DGII' 'RELL' 'RICK' 'ESSA' 'ADEA' 'GPC' 'NRIM'\n",
      " 'FTSM' 'CCBG' 'BMI' 'NTNX' 'UFPT' 'STBA' 'WNC' 'HLIT' 'ESE' 'GILD' 'SANM'\n",
      " 'RMBS' 'AAWW' 'CRAI' 'SMCI' 'TBBK' 'SYBT' 'CVLG' 'FSS' 'AGYS' 'ROST'\n",
      " 'FCBC' 'RVNC' 'MRTX' 'PRTA' 'BBSI' 'VRDN' 'MODN' 'AMOT' 'NBTB' 'TNK'\n",
      " 'RNST' 'FN' 'IRDM' 'AAON' 'TJX' 'AXSM' 'CHCO' 'DKS' 'HFWA' 'NDAQ' 'TNP'\n",
      " 'BCOR' 'LW' 'FBNC' 'ISEE' 'TRST' 'TPL' 'XYL' 'TRMK' 'ANIP' 'VMI' 'GIS'\n",
      " 'HTBK' 'NFBK' 'FIX' 'TTC' 'IBCP' 'QSR' 'BKE' 'BDC' 'QURE' 'JJSF' 'LNN'\n",
      " 'PFGC' 'CI' 'AFL']\n",
      "r_Std/UI\n",
      "['AVEO' 'ADEA' 'PRTA' 'ELF' 'RFP' 'BIIB' 'ERIE' 'MGI' 'COWN' 'NTNX' 'ISEE'\n",
      " 'IRDM' 'MYOV' 'SWIR' 'LANC' 'CCBG' 'STNG' 'CALX' 'MODN' 'NBIX' 'HUM'\n",
      " 'FSLR' 'ANIK' 'TSBK' 'REGN' 'STOR' 'CI' 'DXCM' 'DKS' 'TWNK' 'GILD' 'ADUS'\n",
      " 'DECK' 'BAH' 'PI' 'ALNY' 'DGII' 'CAH' 'HAE' 'WMT' 'BLFS' 'CHGG' 'TPL'\n",
      " 'GIS' 'ABMD' 'FCBC' 'ASC' 'WING' 'VRTX' 'EDU' 'AGYS' 'GL' 'LBAI' 'FIBK'\n",
      " 'NFLX' 'MEDP' 'CALM' 'SBUX' 'CROX' 'CYBR' 'SJM' 'AEHR' 'RELL' 'SUPN'\n",
      " 'WIX' 'SRPT' 'EVI' 'TR' 'HROW' 'NOC' 'HURN' 'EME' 'CSGP' 'VVX' 'PERI'\n",
      " 'ORLY' 'JBSS' 'DRI' 'AMBC' 'LW' 'AXGN' 'WTM' 'HFWA' 'CHUY' 'CHCO' 'SAIC'\n",
      " 'CPRX' 'MGPI' 'GPC' 'RCKT' 'ASND' 'TA' 'SYBT' 'CECE' 'FGEN' 'NSSC' 'ANIP'\n",
      " 'MVO' 'VRDN' 'FIVE']\n",
      " \n",
      "period-240\n",
      "r_CAGR/UI\n",
      "['STNG' 'RENN' 'ASC' 'INSW' 'TNK' 'BPT' 'PBF' 'VIVO' 'MCK' 'ARLP' 'SJI'\n",
      " 'OXY' 'WWE' 'PBFX' 'EURN' 'CI' 'CPRX' 'TDW' 'GLNG' 'BSM' 'TPL' 'UNM'\n",
      " 'SANM' 'XOM' 'TNP' 'FHN' 'WTM' 'SNEX' 'HURN' 'PBT' 'HRB' 'TRQ' 'LNG'\n",
      " 'DINO' 'AZPN' 'AVEO' 'ULH' 'SWIR' 'CVI' 'LNTH' 'MRK' 'RELL' 'HES' 'MUSA'\n",
      " 'MPC' 'NOC' 'UFPT' 'CRT' 'CVBF' 'FTI' 'HAE' 'MGI' 'CAH' 'CECE' 'BBSI'\n",
      " 'VRTX' 'CCBG' 'HP' 'SMCI' 'FRO' 'PGR' 'SBR' 'ENLC' 'PDS' 'ATI' 'AMGN'\n",
      " 'MGPI' 'GPC' 'EQT' 'ARCH' 'DK' 'COP' 'FBIZ' 'KOF' 'ACHC' 'LLY' 'MOD'\n",
      " 'GIS' 'CEN' 'VLO' 'CRK' 'AR' 'NBIX' 'CALM' 'ET' 'LW' 'HFWA' 'ERF' 'MRO'\n",
      " 'NOG' 'PTEN' 'PLPC' 'CF' 'POST' 'WRB' 'BANF' 'SAIC' 'MTDR' 'RGA' 'HSY']\n",
      "r_CAGR/Std\n",
      "['STNG' 'ASC' 'RENN' 'BPT' 'INSW' 'PBF' 'TNK' 'TDW' 'BSM' 'MPC' 'MCK'\n",
      " 'CPRX' 'ARLP' 'GLNG' 'PBFX' 'XOM' 'OXY' 'EURN' 'WWE' 'CAH' 'CVI' 'VIVO'\n",
      " 'ULH' 'VLO' 'AVEO' 'PDS' 'TNP' 'DINO' 'MRK' 'TPL' 'RELL' 'PBT' 'AR'\n",
      " 'ENLC' 'SBR' 'SANM' 'HRB' 'COP' 'ATI' 'HP' 'HES' 'UNM' 'SNEX' 'MRO' 'FTI'\n",
      " 'BANF' 'HURN' 'CECE' 'FRO' 'SMCI' 'CALM' 'UFPT' 'TSBK' 'IMO' 'CI' 'MOD'\n",
      " 'EQT' 'CVX' 'CRK' 'ELF' 'DK' 'LW' 'LNG' 'FBIZ' 'SJT' 'MUSA' 'PTEN' 'LNTH'\n",
      " 'BMY' 'ADM' 'GPC' 'AZPN' 'DGII' 'AMGN' 'CRT' 'BBSI' 'ARCH' 'ERF' 'SWIR'\n",
      " 'ABC' 'LLY' 'WTM' 'CNQ' 'VRTX' 'TRQ' 'ET' 'FSLR' 'HFWA' 'NOG' 'FHN' 'EOG'\n",
      " 'WRB' 'CVBF' 'CEN' 'LMT' 'APA' 'DCP' 'SD' 'HALO' 'CF']\n",
      "r_Std/UI\n",
      "['SJI' 'RENN' 'STNG' 'ASC' 'VERU' 'FHN' 'CI' 'VIVO' 'NOC' 'WTM' 'INSW'\n",
      " 'TNK' 'TRQ' 'RFP' 'UNM' 'ARLP' 'TSEM' 'MCK' 'WWE' 'SWIR' 'OXY' 'MGI'\n",
      " 'HAE' 'ADEA' 'AZPN' 'IBA' 'CVBF' 'PBFX' 'TMUS' 'PGR' 'TPL' 'EURN' 'KOF'\n",
      " 'CCBG' 'LNG' 'MGPI' 'LNTH' 'GIS' 'XENE' 'SANM' 'VRTX' 'CRT' 'MUSA' 'HURN'\n",
      " 'ATVI' 'SNEX' 'CAL' 'NSS' 'HSY' 'BBSI' 'RGA' 'CWCO' 'LHCG' 'IONS' 'NBIX'\n",
      " 'PLPC' 'ACHC' 'GLNG' 'HRB' 'ROL' 'STRA' 'GEF' 'LRN' 'MMYT' 'TNP' 'UFPT'\n",
      " 'CPRX' 'SP' 'SEED' 'PBT' 'HUM' 'DY' 'AMGN' 'CEN' 'HES' 'BWXT' 'SAIC'\n",
      " 'AGYS' 'LLY' 'ARCH' 'CTS' 'SPH' 'BAH' 'SQM' 'ASPS' 'FTI' 'ORA' 'DBI'\n",
      " 'GLP' 'GPC' 'BSM' 'NBN' 'CVEO' 'MMP' 'GPK' 'HOLI' 'CPB' 'PAG' 'CECE'\n",
      " 'OPCH']\n",
      " \n"
     ]
    }
   ],
   "source": [
    "for key0 in perf_ranks_dict.keys():\n",
    "  print(key0)\n",
    "  for key1 in perf_ranks_dict[key0].keys():\n",
    "    print(key1)\n",
    "    print(perf_ranks_dict[key0][key1][start_slice:end_slice])    \n",
    "\n",
    "  print(' ')\n"
   ]
  },
  {
   "cell_type": "code",
   "execution_count": 6,
   "metadata": {},
   "outputs": [
    {
     "data": {
      "text/plain": [
       "dict_keys(['ranked_perf_ranks_period[-15, -30, -60, -120, -240]'])"
      ]
     },
     "execution_count": 6,
     "metadata": {},
     "output_type": "execute_result"
    }
   ],
   "source": [
    "ranked_perf_ranks_dict.keys()"
   ]
  },
  {
   "cell_type": "code",
   "execution_count": 7,
   "metadata": {},
   "outputs": [
    {
     "name": "stdout",
     "output_type": "stream",
     "text": [
      "ranked_perf_ranks_period[-15, -30, -60, -120, -240]\n",
      "['NRIM', 'AEHR', 'AXON', 'AVEO', 'ELF', 'ASC', 'AAON', 'SMCI', 'TSBK', 'RELL', 'TPL', 'WLFC', 'WNC', 'MOD', 'UFPT', 'EME', 'INSW', 'SANM', 'EVI', 'GILD', 'RENN', 'ADEA', 'HFWA', 'TNK', 'CECE', 'XOMA', 'PDFS', 'GPS', 'UHS', 'ROST', 'AVNS', 'ZEUS', 'NSIT', 'RICK', 'FTSM', 'MGI', 'EXTR', 'LOPE', 'RMBS', 'CRAI', 'FSLR', 'PRTA', 'ISEE', 'FTI', 'MYOV', 'TR', 'AGYS', 'CCBG', 'CPRX', 'GPC', 'CI', 'SEDG', 'PERI', 'THR', 'ANF', 'ALE', 'AMG', 'USFD', 'ASML', 'AMKR', 'CNHI', 'ACLS', 'AU', 'APD', 'LNW', 'CIR', 'ABMD', 'AIMC', 'MCRI', 'OMAB', 'PI', 'ENLC', 'CHGG', 'STRA', 'CHUY', 'FBNC', 'BIIB', 'HTBK', 'MRK', 'STBA', 'MODN', 'MPC', 'ERIE', 'FCBC', 'VRTX', 'HURN', 'CAH', 'STNG', 'GIS', 'BBSI', 'LW', 'TNP', 'MRTX', 'QURE', 'BURL', 'AEO', 'AZTA', 'PKOH', 'LSCC', 'AMBA']\n"
     ]
    }
   ],
   "source": [
    "for key0 in ranked_perf_ranks_dict.keys():\n",
    "  print(key0)\n",
    "  print(ranked_perf_ranks_dict[key0][start_slice:end_slice])  "
   ]
  },
  {
   "cell_type": "code",
   "execution_count": null,
   "metadata": {},
   "outputs": [],
   "source": []
  }
 ],
 "metadata": {
  "kernelspec": {
   "display_name": "Python 3.7.9 ('.venv': poetry)",
   "language": "python",
   "name": "python3"
  },
  "language_info": {
   "codemirror_mode": {
    "name": "ipython",
    "version": 3
   },
   "file_extension": ".py",
   "mimetype": "text/x-python",
   "name": "python",
   "nbconvert_exporter": "python",
   "pygments_lexer": "ipython3",
   "version": "3.7.9"
  },
  "orig_nbformat": 4,
  "vscode": {
   "interpreter": {
    "hash": "55a3812d65f91e7e7447da6b5cfc60716e82f91e6a92533fb27b46796ad1962a"
   }
  }
 },
 "nbformat": 4,
 "nbformat_minor": 2
}
