{
 "cells": [
  {
   "cell_type": "code",
   "execution_count": 10,
   "metadata": {},
   "outputs": [],
   "source": [
    "# https://towardsdatascience.com/pandas-groupby-a-simple-but-detailed-tutorial-314b8f37005d\n",
    "# https://towardsdatascience.com/accessing-data-in-a-multiindex-dataframe-in-pandas-569e8767201d\n",
    "# https://towardsdatascience.com/summarizing-data-with-pandas-crosstab-efc8b9abecf\n",
    "# https://towardsdatascience.com/how-to-flatten-multiindex-columns-and-rows-in-pandas-f5406c50e569\n",
    "# https://datascientyst.com/list-aggregation-functions-aggfunc-groupby-pandas/\n",
    "# https://stackoverflow.com/questions/25929319/how-to-iterate-over-pandas-multiindex-dataframe-using-index\n",
    "# https://stackoverflow.com/questions/24495695/pandas-get-unique-multiindex-level-values-by-label\n",
    "# https://stackoverflow.com/questions/55706391/pandas-crosstab-on-multiple-columns-then-groupby\n",
    "\n",
    "# https://matplotlib.org/stable/gallery/pyplots/pyplot_text.html#sphx-glr-gallery-pyplots-pyplot-text-py"
   ]
  },
  {
   "cell_type": "code",
   "execution_count": 11,
   "metadata": {},
   "outputs": [],
   "source": [
    "import pandas as pd\n",
    "import numpy as np\n",
    "from myUtils import pickle_load, pickle_dump, symb_perf_stats_vectorized\n",
    "\n",
    "path_dir = \"C:/Users/ping/MyDrive/stocks/yfinance/\"\n",
    "path_data_dump = path_dir + \"VSCode_dump/\"\n",
    "\n",
    "f_pickled_perf_ranks_dict = 'perf_ranks_dict'  # dic of performance ranks\n",
    "f_pickled_ranked_perf_ranks_dict = 'ranked_perf_ranks_dict'  # key: periods, value: ranked_perf_ranks\n",
    "\n",
    "start_slice, end_slice = 0, 100"
   ]
  },
  {
   "cell_type": "code",
   "execution_count": 12,
   "metadata": {},
   "outputs": [],
   "source": [
    "perf_ranks_dict = pickle_load(path_data_dump, f_pickled_perf_ranks_dict)\n",
    "ranked_perf_ranks_dict = pickle_load(path_data_dump, f_pickled_ranked_perf_ranks_dict)"
   ]
  },
  {
   "cell_type": "code",
   "execution_count": 13,
   "metadata": {},
   "outputs": [
    {
     "data": {
      "text/plain": [
       "dict_keys(['period-15', 'period-30', 'period-60', 'period-120', 'period-240'])"
      ]
     },
     "execution_count": 13,
     "metadata": {},
     "output_type": "execute_result"
    }
   ],
   "source": [
    "perf_ranks_dict.keys()"
   ]
  },
  {
   "cell_type": "code",
   "execution_count": 14,
   "metadata": {},
   "outputs": [
    {
     "name": "stdout",
     "output_type": "stream",
     "text": [
      "period-15\n",
      "r_CAGR/UI\n",
      "['JD' 'GDS' 'ABMD' 'AXON' 'WB' 'AMKR' 'ASPS' 'NRIM' 'PKOH' 'RUN' 'DMRC'\n",
      " 'YUMC' 'RCKY' 'TGLS' 'LGND' 'TSM' 'HTHT' 'WYNN' 'MLAB' 'CROX' 'VCYT'\n",
      " 'BABA' 'THRM' 'NTES' 'ZTO' 'NYT' 'CHN' 'SPWR' 'RMBS' 'TSBK' 'PUK' 'ACLS'\n",
      " 'LSCC' 'AAON' 'HOFT' 'UFPT' 'AU' 'PKX' 'CMPR' 'BHP' 'DD' 'BIDU' 'LVS'\n",
      " 'WNC' 'OSPN' 'PDFS' 'SEDG' 'SCCO' 'TSE' 'RIO' 'MCY' 'TCOM' 'SMCI' 'MDRX'\n",
      " 'AZTA' 'CHGG' 'BA' 'AE' 'QNST' 'SKX' 'PTMN' 'GDO' 'CIR' 'PRDO' 'AMG'\n",
      " 'CRAI' 'AVNS' 'BVH' 'FSLR' 'ELF' 'SONY' 'MAC' 'Z' 'FTI' 'FMX' 'IFN'\n",
      " 'NEOG' 'DK' 'IVZ' 'WLFC' 'DIOD' 'EMF' 'EXAS' 'WPP' 'MYI' 'VALE' 'APAM'\n",
      " 'NOMD' 'GPRE' 'PIPR' 'GS' 'WOR' 'OMAB' 'SMG' 'MTSI' 'SAIA' 'CNK' 'CNHI'\n",
      " 'TCPC' 'UFCS']\n",
      "r_CAGR/Std\n",
      "['GDS' 'JD' 'ASPS' 'WB' 'AMKR' 'RUN' 'DMRC' 'HTHT' 'ABMD' 'LGND' 'PKOH'\n",
      " 'AXON' 'YUMC' 'RCKY' 'WYNN' 'VCYT' 'TGLS' 'MLAB' 'CROX' 'TSM' 'BABA'\n",
      " 'SPWR' 'THRM' 'NTES' 'ZTO' 'TSE' 'PKX' 'ACLS' 'LSCC' 'CHN' 'CMPR' 'NYT'\n",
      " 'RMBS' 'HOFT' 'AU' 'TCOM' 'AZTA' 'SEDG' 'SMCI' 'PUK' 'BIDU' 'OSPN' 'UFPT'\n",
      " 'FSLR' 'MCY' 'PDFS' 'NRIM' 'WNC' 'BHP' 'MDRX' 'SCCO' 'RIO' 'CIR' 'DD'\n",
      " 'BA' 'LVS' 'FTI' 'AE' 'CHGG' 'SKX' 'TSBK' 'PRDO' 'EXAS' 'AAON' 'BGNE'\n",
      " 'SAIA' 'AMG' 'AXSM' 'DK' 'UFCS' 'WOR' 'SMG' 'AVNS' 'ACRS' 'OPY' 'MAC'\n",
      " 'XPO' 'CNHI' 'DIOD' 'VALE' 'SONY' 'QNST' 'NBHC' 'FMX' 'IVZ' 'Z' 'NOAH'\n",
      " 'STM' 'MTSI' 'NEOG' 'DQ' 'ELF' 'ASML' 'CNK' 'GPRE' 'PIPR' 'LMNR' 'YY'\n",
      " 'BDC' 'SLAB']\n",
      "r_Std/UI\n",
      "['NRIM' 'ABMD' 'AXON' 'ATCO' 'GDO' 'PKOH' 'PTMN' 'TSBK' 'AAON' 'BVH'\n",
      " 'WLFC' 'MYI' 'PNM' 'FTSM' 'CRAI' 'IFN' 'TSM' 'NAD' 'TCPC' 'AMKR' 'QNST'\n",
      " 'TGLS' 'YUMC' 'BFZ' 'NYT' 'ETN' 'OMAB' 'LVS' 'MUI' 'RCKY' 'UVV' 'GS'\n",
      " 'PUK' 'BYM' 'MFIC' 'FMNB' 'DD' 'NUO' 'ENS' 'SEIC' 'EMF' 'CDW' 'ZTO' 'SNA'\n",
      " 'UFPT' 'CHN' 'IBA' 'NGG' 'NTES' 'RY' 'BHP' 'CHY' 'ELF' 'THW' 'RMBS'\n",
      " 'APAM' 'WPP' 'FAST' 'THRM' 'PCAR' 'SJR' 'MLAB' 'NOMD' 'WB' 'UNFI' 'CC'\n",
      " 'JD' 'AVNS' 'APD' 'WNC' 'TRP' 'MQY' 'LOPE' 'PLOW' 'ITGR' 'SCCO' 'TT'\n",
      " 'SBUX' 'WYNN' 'CHGG' 'NEOG' 'RENN' 'MNP' 'CROX' 'Z' 'HOFT' 'RIO' 'NBH'\n",
      " 'AFL' 'TRQ' 'NPO' 'NMZ' 'FMS' 'LII' 'AE' 'RUN' 'NQP' 'PIPR' 'GPRE' 'ZG']\n",
      " \n",
      "period-30\n",
      "r_CAGR/UI\n",
      "['AVEO' 'AMKR' 'MAC' 'AAON' 'MOD' 'DMRC' 'OSPN' 'AIMC' 'AXON' 'WNC' 'OII'\n",
      " 'OMAB' 'ATNI' 'MCRI' 'CHUY' 'GILD' 'ITGR' 'GBX' 'LOPE' 'GE' 'ODC' 'UNFI'\n",
      " 'MYE' 'PLOW' 'SRI' 'ASC' 'NPO' 'ABMD' 'PIPR' 'PRDO' 'CRAI' 'OSBC' 'HEES'\n",
      " 'DAN' 'UFPT' 'T' 'DD' 'HOFT' 'TEX' 'PDS' 'BGNE' 'SKT' 'FMX' 'NRIM' 'SXI'\n",
      " 'THRM' 'CAT' 'EIG' 'IOSP' 'HON' 'TR' 'UVV' 'STRA' 'GS' 'ELF' 'TSBK'\n",
      " 'ISRG' 'SMG' 'AFL' 'LANC' 'PFGC' 'EME' 'MTZ' 'PARR' 'INSW' 'JCI' 'VVV'\n",
      " 'CIR' 'RNR' 'IGT' 'RMBS' 'DENN' 'NBHC' 'OSIS' 'WBA' 'TRC' 'ZEUS' 'QSR'\n",
      " 'APD' 'SMCI' 'ODP' 'UHS' 'LNW' 'SAP' 'OPY' 'AE' 'EXTR' 'NVEC' 'THR'\n",
      " 'FIZZ' 'IBM' 'HY' 'EVR' 'VCYT' 'KE' 'E' 'TPL' 'OEC' 'WOR' 'BLX']\n",
      "r_CAGR/Std\n",
      "['AMKR' 'OII' 'MAC' 'DMRC' 'OSPN' 'AXON' 'MOD' 'WNC' 'AVEO' 'AAON' 'SRI'\n",
      " 'AIMC' 'CHUY' 'ASC' 'ITGR' 'ATNI' 'GBX' 'OMAB' 'HOFT' 'HY' 'SMCI' 'TR'\n",
      " 'PKX' 'RNR' 'DAN' 'GE' 'RMBS' 'TEX' 'PDS' 'PRDO' 'VCYT' 'BGNE' 'NPO'\n",
      " 'PIPR' 'INSW' 'NRIM' 'SMG' 'APEI' 'HEES' 'STRL' 'MYE' 'CIR' 'OSBC' 'PLOW'\n",
      " 'ALE' 'UNFI' 'ISRG' 'ODC' 'MCRI' 'LPG' 'EXTR' 'DD' 'SXI' 'PFGC' 'LNW'\n",
      " 'OPY' 'VVV' 'FMX' 'NVEC' 'FIZZ' 'THRM' 'ACNB' 'UHS' 'LOPE' 'UFPT' 'IOSP'\n",
      " 'EIG' 'SKT' 'HAYN' 'MTZ' 'OCN' 'SEDG' 'KE' 'THR' 'E' 'BBW' 'BA' 'NBHC'\n",
      " 'RETA' 'EURN' 'LANC' 'CAT' 'FICO' 'TPL' 'SAP' 'QSR' 'WBA' 'GS' 'TRC'\n",
      " 'ELF' 'HON' 'STRA' 'JCI' 'ODP' 'ZEUS' 'EME' 'FRO' 'KWR' 'T' 'CRAI']\n",
      "r_Std/UI\n",
      "['AVEO' 'GILD' 'ABMD' 'MCRI' 'LOPE' 'AAON' 'AIMC' 'CRAI' 'OMAB' 'ODC' 'T'\n",
      " 'UNFI' 'ATNI' 'UVV' 'CLR' 'IBA' 'MYE' 'AFL' 'PLOW' 'MEDP' 'GE' 'RENN'\n",
      " 'TSBK' 'TCPC' 'UFPT' 'TBNK' 'DENN' 'GBX' 'APD' 'ITGR' 'MOD' 'FTSM' 'CAT'\n",
      " 'QNST' 'HON' 'MAC' 'OSBC' 'MET' 'STRA' 'DD' 'NPO' 'GS' 'BFAM' 'ELF' 'SKT'\n",
      " 'OSPN' 'PIPR' 'PSMT' 'PARR' 'ITW' 'OSIS' 'WLFC' 'EIG' 'AE' 'HEES' 'EME'\n",
      " 'THRM' 'CHUY' 'IOSP' 'ENS' 'PRDO' 'DMRC' 'IGT' 'AMKR' 'FMX' 'OCFC' 'LANC'\n",
      " 'CHGG' 'IVZ' 'KOP' 'BLX' 'SCHL' 'JCI' 'MSA' 'NGVT' 'INGR' 'IBM' 'AXON'\n",
      " 'AER' 'SXI' 'WMT' 'JEF' 'SITC' 'MTZ' 'OEC' 'MGRC' 'MOFG' 'XYL' 'TTEK'\n",
      " 'WNC' 'IBCP' 'LIN' 'ZEUS' 'ROL' 'DAN' 'HHC' 'APAM' 'LULU' 'ALX' 'CMCO']\n",
      " \n",
      "period-60\n",
      "r_CAGR/UI\n",
      "['ADEA' 'TSBK' 'AVEO' 'NRIM' 'INSW' 'PRTA' 'RENN' 'BIIB' 'TPL' 'ELF'\n",
      " 'FTSM' 'MYOV' 'AXON' 'FTI' 'ANIK' 'ISEE' 'TTC' 'AE' 'ASC' 'ERIE' 'EVI'\n",
      " 'NTNX' 'GILD' 'HTBK' 'OII' 'CHUY' 'HFWA' 'MODN' 'FBNC' 'ASPS' 'CHGG'\n",
      " 'XPRO' 'LOPE' 'REGN' 'FCBC' 'TDW' 'STBA' 'ODP' 'EME' 'SLB' 'AIMC' 'FSLR'\n",
      " 'TNK' 'ROL' 'HALO' 'SAP' 'ORLY' 'ABMD' 'IBOC' 'OMAB' 'AGYS' 'STOR' 'RNR'\n",
      " 'IBA' 'TBBK' 'NVEC' 'ACGL' 'CIR' 'CASH' 'TJX' 'LANC' 'AAON' 'SRCE' 'NFLX'\n",
      " 'OSBC' 'FRPT' 'NBTB' 'RMBS' 'PBT' 'CHCO' 'HLI' 'DXCM' 'TCBK' 'STNG' 'PGC'\n",
      " 'RETA' 'FMX' 'DENN' 'GL' 'SANM' 'MEDP' 'PLOW' 'LPG' 'GPS' 'MGI' 'PCG'\n",
      " 'FIX' 'MRK' 'MCRI' 'UTHR' 'SIGI' 'RCL' 'FBIZ' 'TWNK' 'LHCG' 'RICK' 'TS'\n",
      " 'ARGO' 'OR' 'WSBC']\n",
      "r_CAGR/Std\n",
      "['ADEA' 'INSW' 'TSBK' 'AVEO' 'NRIM' 'AXON' 'TPL' 'OII' 'PRTA' 'CHUY' 'EVI'\n",
      " 'ASC' 'FTI' 'MYOV' 'TTC' 'GILD' 'ASPS' 'RENN' 'TDW' 'ELF' 'AE' 'FSLR'\n",
      " 'HFWA' 'XPRO' 'RMBS' 'OMAB' 'EME' 'RNR' 'MODN' 'ISEE' 'FTSM' 'BIIB' 'WNC'\n",
      " 'HTBK' 'FMX' 'FBNC' 'LOPE' 'SAP' 'EXTR' 'ERIE' 'AMKR' 'AAON' 'STBA'\n",
      " 'OSBC' 'TNK' 'ODP' 'SLB' 'NTNX' 'ARGO' 'CHGG' 'LANC' 'CIR' 'ANIK' 'HALO'\n",
      " 'CRAI' 'SANM' 'FRPT' 'TR' 'MCRI' 'AGYS' 'FCBC' 'MAC' 'CASH' 'TJX' 'NVEC'\n",
      " 'ORLY' 'AMGN' 'AER' 'IBOC' 'DENN' 'PLOW' 'UTHR' 'AIMC' 'LPG' 'NBTB'\n",
      " 'RICK' 'PARR' 'NNI' 'GPS' 'TBBK' 'MRK' 'EURN' 'PBT' 'CHCO' 'TNP' 'IBA'\n",
      " 'OCFC' 'MOD' 'CVLY' 'ACGL' 'NBHC' 'DXCM' 'AFL' 'SIGI' 'PGC' 'NPO' 'ROL'\n",
      " 'RCL' 'E' 'FBIZ']\n",
      "r_Std/UI\n",
      "['TSBK' 'ADEA' 'AVEO' 'PRTA' 'BIIB' 'STOR' 'RENN' 'FTSM' 'ANIK' 'REGN'\n",
      " 'ELF' 'NRIM' 'ISEE' 'INSW' 'ERIE' 'VRTX' 'MGRC' 'MYOV' 'NTNX' 'ABMD'\n",
      " 'ROL' 'SRCE' 'LBAI' 'TPL' 'MEDP' 'HTBK' 'FIVE' 'FCBC' 'AIMC' 'CHGG'\n",
      " 'LHCG' 'FTI' 'FBNC' 'AMN' 'MGI' 'TMP' 'AE' 'MODN' 'NFLX' 'ATLO' 'GL'\n",
      " 'IBA' 'TCBK' 'BSM' 'ACGL' 'ASB' 'IBOC' 'TWNK' 'TTC' 'ABBV' 'HFWA' 'AVXL'\n",
      " 'LOPE' 'ORLY' 'TBBK' 'ALBO' 'STNG' 'NBIX' 'ADUS' 'ASND' 'HUM' 'PCG'\n",
      " 'IRDM' 'GBCI' 'LOCO' 'ATEC' 'CHRD' 'STBA' 'HLI' 'OOMA' 'JNJ' 'GILD'\n",
      " 'CGNX' 'RETA' 'ODP' 'NXGN' 'FIX' 'NOC' 'TMST' 'BAH' 'ASC' 'LLY' 'SLB'\n",
      " 'PGC' 'DXCM' 'AGYS' 'GPRK' 'NEU' 'FONR' 'SSB' 'BMY' 'JWN' 'DINO' 'CCRN'\n",
      " 'NRC' 'OZK' 'IEP' 'CHCO' 'HALO' 'DRI']\n",
      " \n",
      "period-120\n",
      "r_CAGR/UI\n",
      "['AVEO' 'AERI' 'ELF' 'MYOV' 'ERIE' 'FSLR' 'PI' 'LANC' 'AEHR' 'ADEA' 'ASC'\n",
      " 'TSBK' 'PRTA' 'DGII' 'CPRX' 'WING' 'CALX' 'AXON' 'INSW' 'EXTR' 'AGYS'\n",
      " 'TPL' 'IRDM' 'FCBC' 'NTNX' 'EME' 'EDU' 'BIIB' 'CCRN' 'CCBG' 'SRPT' 'TNP'\n",
      " 'GPC' 'COWN' 'CVLG' 'BMI' 'TR' 'MODN' 'STNG' 'ORLY' 'DXCM' 'CROX' 'FSS'\n",
      " 'CAH' 'ANIK' 'SANM' 'MOD' 'EVI' 'ALNY' 'ENPH' 'UFPT' 'TWNK' 'CHUY' 'BAH'\n",
      " 'AXSM' 'VRDN' 'ASPS' 'MRTX' 'RELL' 'TNK' 'ESSA' 'FTSM' 'EURN' 'AAWW'\n",
      " 'ADUS' 'AAON' 'NRIM' 'CHCO' 'RICK' 'NFLX' 'HFWA' 'SYBT' 'ISEE' 'HAE'\n",
      " 'FGEN' 'NBIX' 'SPXC' 'RFP' 'WNC' 'BBSI' 'GILD' 'LW' 'HTBK' 'FIX' 'MEDP'\n",
      " 'TTC' 'HURN' 'DECK' 'SWIR' 'STBA' 'TBBK' 'NBTB' 'SJM' 'RMBS' 'CHGG'\n",
      " 'SAIC' 'HLIT' 'RENN' 'RVNC' 'LNN']\n",
      "r_CAGR/Std\n",
      "['AVEO' 'AERI' 'FSLR' 'MYOV' 'AEHR' 'ELF' 'PI' 'CPRX' 'ERIE' 'INSW' 'ASC'\n",
      " 'LANC' 'AXON' 'TSBK' 'EXTR' 'DGII' 'WING' 'MOD' 'CCRN' 'TNP' 'EME' 'AGYS'\n",
      " 'CALX' 'TPL' 'WNC' 'CVLG' 'BMI' 'ESSA' 'FCBC' 'SMCI' 'FSS' 'GPC' 'EDU'\n",
      " 'AAWW' 'SANM' 'TR' 'CAH' 'ORLY' 'AAON' 'RMBS' 'SRPT' 'TNK' 'UFPT' 'NRIM'\n",
      " 'EURN' 'AXSM' 'MRTX' 'ADEA' 'ASPS' 'NTNX' 'CROX' 'FTSM' 'ENPH' 'RICK'\n",
      " 'TTC' 'IRDM' 'VRDN' 'CRAI' 'FN' 'EVI' 'CCBG' 'CHUY' 'NBTB' 'SPXC' 'STBA'\n",
      " 'BDC' 'HLIT' 'PRTA' 'ESE' 'SYBT' 'TBBK' 'CHCO' 'TRMK' 'MODN' 'HTBK' 'LNN'\n",
      " 'AMOT' 'RELL' 'FIX' 'FTI' 'RNST' 'HFWA' 'DXCM' 'FRO' 'STNG' 'SNEX' 'BBSI'\n",
      " 'BCOR' 'PFGC' 'PARR' 'XYL' 'CASS' 'GILD' 'ANIK' 'ALNY' 'RENN' 'QSR'\n",
      " 'RVNC' 'TWNK' 'NFLX']\n",
      "r_Std/UI\n",
      "['AVEO' 'ADEA' 'PRTA' 'AERI' 'ELF' 'ERIE' 'RFP' 'BIIB' 'MYOV' 'COWN'\n",
      " 'ISEE' 'IRDM' 'SWIR' 'LANC' 'STNG' 'HUM' 'DXCM' 'NTNX' 'MODN' 'ANIK'\n",
      " 'NBIX' 'STOR' 'ADUS' 'CALX' 'BAH' 'BLFS' 'PI' 'ALNY' 'TWNK' 'DGII' 'HAE'\n",
      " 'CCBG' 'DECK' 'MGI' 'FCBC' 'DKS' 'WING' 'ABMD' 'TPL' 'CI' 'ASC' 'SJM'\n",
      " 'TSBK' 'EDU' 'FSLR' 'VRTX' 'AGYS' 'GL' 'CHGG' 'GIS' 'HROW' 'SBUX' 'FIBK'\n",
      " 'MEDP' 'FGEN' 'NFLX' 'CYBR' 'SUPN' 'RELL' 'CALM' 'WIX' 'SRPT' 'NOC'\n",
      " 'CROX' 'NSSC' 'LBAI' 'AEHR' 'SAIC' 'HURN' 'GKOS' 'EME' 'VVX' 'RCKT' 'WMT'\n",
      " 'BCRX' 'EVI' 'AXGN' 'TR' 'HFWA' 'AMBC' 'ORLY' 'LW' 'ASND' 'CHUY' 'TCBK'\n",
      " 'GPC' 'MVO' 'CHCO' 'WTM' 'IONS' 'ENPH' 'TXRH' 'MGPI' 'GILD' 'PERI' 'LLY'\n",
      " 'VIVO' 'XENE' 'FIVE' 'ACRS']\n",
      " \n",
      "period-240\n",
      "r_CAGR/UI\n",
      "['STNG' 'ASC' 'INSW' 'TNK' 'ARLP' 'MCK' 'PBF' 'OXY' 'EURN' 'CI' 'VIVO'\n",
      " 'PBFX' 'TDW' 'UNM' 'SJI' 'WWE' 'TRQ' 'TNP' 'XOM' 'BPT' 'GLNG' 'TPL'\n",
      " 'SANM' 'ULH' 'AZPN' 'PBT' 'FHN' 'HRB' 'NOC' 'CPRX' 'HP' 'CVBF' 'HURN'\n",
      " 'MUSA' 'DINO' 'MRK' 'HES' 'WTM' 'VRTX' 'AMGN' 'MGI' 'CRT' 'SNEX' 'LNTH'\n",
      " 'CVI' 'SWIR' 'UFPT' 'AVEO' 'MPC' 'CLR' 'BSM' 'LNG' 'FTI' 'CAH' 'EQT'\n",
      " 'ATI' 'PGR' 'LLY' 'KOF' 'PDS' 'PTEN' 'FRO' 'SBR' 'DK' 'ARCH' 'TWNK' 'BMY'\n",
      " 'RELL' 'GPC' 'GIS' 'HFWA' 'SMCI' 'ENLC' 'VLO' 'CRK' 'COP' 'CF' 'LHCG'\n",
      " 'HAE' 'FBIZ' 'CCBG' 'MOD' 'BBSI' 'AR' 'MRO' 'LW' 'IBA' 'NBIX' 'CVX' 'LPG'\n",
      " 'ET' 'WRB' 'OSBC' 'BANF' 'STRA' 'POST' 'NOG' 'HSY' 'DGII' 'WDS']\n",
      "r_CAGR/Std\n",
      "['STNG' 'ASC' 'INSW' 'TNK' 'PBF' 'TDW' 'BPT' 'ARLP' 'MCK' 'XOM' 'MPC'\n",
      " 'ULH' 'EURN' 'TNP' 'OXY' 'PBFX' 'HP' 'CAH' 'PDS' 'PBT' 'VLO' 'MRK' 'GLNG'\n",
      " 'CVI' 'AVEO' 'DINO' 'TPL' 'CPRX' 'WWE' 'PTEN' 'HRB' 'ATI' 'SANM' 'HES'\n",
      " 'BMY' 'CI' 'UNM' 'BSM' 'VIVO' 'SBR' 'EQT' 'AMGN' 'COP' 'AR' 'MRO' 'CVX'\n",
      " 'FTI' 'TRQ' 'ENLC' 'BANF' 'HURN' 'TWNK' 'AZPN' 'UFPT' 'FRO' 'DK' 'MUSA'\n",
      " 'ADM' 'CRK' 'SNEX' 'VRTX' 'RELL' 'LLY' 'HALO' 'LW' 'DGII' 'CRT' 'MOD'\n",
      " 'CVBF' 'IMO' 'ELF' 'TSBK' 'ARCH' 'HFWA' 'LMT' 'SMCI' 'FBIZ' 'SJT' 'TS'\n",
      " 'GPC' 'CALM' 'NOV' 'CF' 'ABC' 'SLB' 'EOG' 'LPG' 'LNG' 'WRB' 'LNTH' 'SD'\n",
      " 'ERIE' 'MGI' 'NOC' 'LOPE' 'STLD' 'FHN' 'OSBC' 'SWIR' 'PEO']\n",
      "r_Std/UI\n",
      "['SJI' 'STNG' 'VERU' 'CI' 'FHN' 'ASC' 'VIVO' 'NOC' 'WTM' 'TRQ' 'UNM'\n",
      " 'ARLP' 'TNK' 'TSEM' 'RFP' 'MCK' 'MGI' 'CLR' 'SWIR' 'INSW' 'WWE' 'OXY'\n",
      " 'LNTH' 'CVBF' 'AZPN' 'IBA' 'TMUS' 'PGR' 'PBFX' 'HAE' 'KOF' 'EURN' 'LNG'\n",
      " 'XENE' 'ADEA' 'GIS' 'SANM' 'MUSA' 'CRT' 'ATVI' 'VRTX' 'HURN' 'CWCO'\n",
      " 'MGPI' 'CCBG' 'TPL' 'IONS' 'SNEX' 'HSY' 'LHCG' 'CAL' 'GLNG' 'RGA' 'LRN'\n",
      " 'BBSI' 'HRB' 'NBIX' 'ACHC' 'MMYT' 'PLPC' 'SP' 'ROL' 'UFPT' 'HUM' 'TNP'\n",
      " 'STRA' 'CPRX' 'SEED' 'AMGN' 'PBT' 'HOLI' 'BWXT' 'HII' 'ARCH' 'HES' 'VET'\n",
      " 'LLY' 'CTS' 'GEF' 'OPCH' 'BAH' 'SAIC' 'GPC' 'ASPS' 'NBN' 'GPK' 'FTI'\n",
      " 'PAG' 'K' 'CPB' 'SQM' 'MMP' 'AXSM' 'MTB' 'ORA' 'CORT' 'DINO' 'DY' 'AFG'\n",
      " 'WES']\n",
      " \n"
     ]
    }
   ],
   "source": [
    "for key0 in perf_ranks_dict.keys():\n",
    "  print(key0)\n",
    "  for key1 in perf_ranks_dict[key0].keys():\n",
    "    print(key1)\n",
    "    print(perf_ranks_dict[key0][key1][start_slice:end_slice])    \n",
    "\n",
    "  print(' ')\n"
   ]
  },
  {
   "cell_type": "code",
   "execution_count": 15,
   "metadata": {},
   "outputs": [
    {
     "data": {
      "text/plain": [
       "dict_keys(['ranked_perf_ranks_period[-15, -30, -60, -120, -240]'])"
      ]
     },
     "execution_count": 15,
     "metadata": {},
     "output_type": "execute_result"
    }
   ],
   "source": [
    "ranked_perf_ranks_dict.keys()"
   ]
  },
  {
   "cell_type": "code",
   "execution_count": 16,
   "metadata": {},
   "outputs": [
    {
     "name": "stdout",
     "output_type": "stream",
     "text": [
      "ranked_perf_ranks_period[-15, -30, -60, -120, -240]\n",
      "['ELF', 'TSBK', 'UFPT', 'AVEO', 'ASC', 'TPL', 'AXON', 'NRIM', 'AAON', 'INSW', 'RMBS', 'WNC', 'CHGG', 'FTI', 'ABMD', 'AE', 'LOPE', 'MOD', 'CHUY', 'GILD', 'LANC', 'EME', 'HFWA', 'STNG', 'AMKR', 'ASPS', 'SMCI', 'CRAI', 'FSLR', 'FMX', 'OMAB', 'FTSM', 'IBA', 'RENN', 'OSBC', 'EURN', 'ADEA', 'ERIE', 'TNK', 'SANM', 'TWNK', 'CROX', 'THRM', 'DD', 'CIR', 'MAC', 'PIPR', 'PLOW', 'AIMC', 'TR', 'PRTA', 'MYOV', 'ANIK', 'NTNX', 'MODN', 'FCBC', 'ORLY', 'AGYS', 'CHCO', 'DXCM', 'MGI', 'TNP', 'GPC', 'DMRC', 'HOFT', 'OSPN', 'PRDO', 'GS', 'NPO', 'MCRI', 'STRA', 'ODP', 'EXTR', 'LPG', 'MEDP', 'ROL', 'BIIB', 'ISEE', 'TTC', 'EVI', 'HTBK', 'STBA', 'TBBK', 'NFLX', 'PBT', 'VRTX', 'NBIX', 'NOC', 'LLY', 'DGII', 'CPRX', 'CCBG', 'RELL', 'HURN', 'SWIR', 'VCYT', 'QNST', 'DK', 'SMG', 'AXSM']\n"
     ]
    }
   ],
   "source": [
    "for key0 in ranked_perf_ranks_dict.keys():\n",
    "  print(key0)\n",
    "  print(ranked_perf_ranks_dict[key0][start_slice:end_slice])  "
   ]
  },
  {
   "cell_type": "code",
   "execution_count": null,
   "metadata": {},
   "outputs": [],
   "source": []
  }
 ],
 "metadata": {
  "kernelspec": {
   "display_name": "Python 3.7.9 ('.venv': poetry)",
   "language": "python",
   "name": "python3"
  },
  "language_info": {
   "codemirror_mode": {
    "name": "ipython",
    "version": 3
   },
   "file_extension": ".py",
   "mimetype": "text/x-python",
   "name": "python",
   "nbconvert_exporter": "python",
   "pygments_lexer": "ipython3",
   "version": "3.7.9"
  },
  "orig_nbformat": 4,
  "vscode": {
   "interpreter": {
    "hash": "55a3812d65f91e7e7447da6b5cfc60716e82f91e6a92533fb27b46796ad1962a"
   }
  }
 },
 "nbformat": 4,
 "nbformat_minor": 2
}
