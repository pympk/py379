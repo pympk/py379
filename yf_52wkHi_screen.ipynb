{
 "cells": [
  {
   "cell_type": "code",
   "execution_count": null,
   "metadata": {},
   "outputs": [],
   "source": [
    "# eqKeys = [\n",
    "#         \"symbol\",\n",
    "#         \"quoteType\",\n",
    "#         \"longName\",\n",
    "#         \"industry\",\n",
    "#         \"sector\",\n",
    "#         \"marketCap\",\n",
    "#         \"revenueGrowth\",\n",
    "#         \"earningsGrowth\",\n",
    "#         \"earningsQuarterlyGrowth\",\n",
    "#         \"ebitdaMargins\",\n",
    "#         \"previousClose\",\n",
    "#         \"fiftyTwoWeekHigh\",\n",
    "#         \"52WeekChange\",\n",
    "#         \"revenuePerShare\",\n",
    "#         \"forwardEps\",\n",
    "#         \"trailingEps\",\n",
    "#         \"sharesOutstanding\",\n",
    "#         \"longBusinessSummary\",\n",
    "#     ]\n",
    "#     # ETF dict keys for obj.info\n",
    "# etfKeys = [\n",
    "#         \"symbol\",\n",
    "#         \"quoteType\",\n",
    "#         \"longName\",\n",
    "#         \"category\",\n",
    "#         \"totalAssets\",\n",
    "#         \"beta3Year\",\n",
    "#         \"navPrice\",\n",
    "#         \"previousClose\",\n",
    "#         \"holdings\",\n",
    "#         \"sectorWeightings\",\n",
    "#         \"longBusinessSummary\",\n",
    "#     ]\n",
    "#     # cryto dict keys for obj.info\n",
    "# crytoKeys = [\n",
    "#         \"symbol\",\n",
    "#         \"quoteType\",\n",
    "#         \"name\",\n",
    "#         \"regularMarketPrice\",\n",
    "#         \"volume\",\n",
    "#         \"marketCap\",\n",
    "#         \"circulatingSupply\",\n",
    "#         \"startDate\",\n",
    "#     ]\n",
    "# from collections import OrderedDict\n",
    "# combinedKeys = list(OrderedDict.fromkeys(eqKeys +etfKeys + crytoKeys))\n",
    "# combinedKeys "
   ]
  },
  {
   "cell_type": "code",
   "execution_count": null,
   "metadata": {},
   "outputs": [],
   "source": [
    "myCols = ['symbol',\n",
    " 'quoteType',\n",
    " 'longName',\n",
    " 'industry',\n",
    " 'sector',\n",
    " 'marketCap',\n",
    " 'revenueGrowth',\n",
    " 'earningsGrowth',\n",
    " 'earningsQuarterlyGrowth',\n",
    " 'ebitdaMargins',\n",
    " 'previousClose',\n",
    " 'fiftyTwoWeekHigh',\n",
    " '52WeekChange',\n",
    " 'revenuePerShare',\n",
    " 'forwardEps',\n",
    " 'trailingEps',\n",
    " 'sharesOutstanding']"
   ]
  },
  {
   "cell_type": "code",
   "execution_count": null,
   "metadata": {},
   "outputs": [],
   "source": [
    "from myUtils import read_symbols_file\n",
    "path_dir = \"C:/Users/ping/Desktop/my_yfinance/\"\n",
    "path_data_dump = path_dir + \"VSCode_dump/\"\n",
    "path_symbols_file = path_dir + \"source/\"\n",
    "# filename_symbols = path_symbols_file + \"test_symbols_no_XOM.txt\"  # symbols text file\n",
    "filename_symbols = path_symbols_file + \"syms.txt\"  # symbols text file screened for 52wkHi, >$10/share, price*vol>$10mil\n",
    "symbols = read_symbols_file(filename_symbols)"
   ]
  },
  {
   "cell_type": "code",
   "execution_count": null,
   "metadata": {},
   "outputs": [],
   "source": [
    "import pandas as pd\n",
    "import yfinance as yf\n",
    "df_list = []\n",
    "\n",
    "for symbol in symbols:\n",
    "    df_list.append(pd.DataFrame([yf.Ticker(symbol).info]))\n",
    "df = pd.concat(df_list)\n",
    "df = df[myCols].copy()"
   ]
  },
  {
   "cell_type": "code",
   "execution_count": null,
   "metadata": {},
   "outputs": [],
   "source": [
    "from datetime import date\n",
    "today = str(date.today())\n",
    "df['date'] = today"
   ]
  },
  {
   "cell_type": "code",
   "execution_count": null,
   "metadata": {},
   "outputs": [],
   "source": [
    "from myUtils import pickle_dump, pickle_load\n",
    "df_52wkHi = df.sort_values(by=['revenueGrowth', 'earningsQuarterlyGrowth', 'earningsGrowth', 'ebitdaMargins'], ascending=False)\n",
    "pickle_dump(df_52wkHi, path_data_dump, 'df_52wkHi')\n",
    "df_52wkHi = pickle_load(path_data_dump, 'df_52wkHi')\n",
    "df_52wkHi"
   ]
  }
 ],
 "metadata": {
  "kernelspec": {
   "display_name": "Python 3.7.9 ('.venv': poetry)",
   "language": "python",
   "name": "python3"
  },
  "language_info": {
   "codemirror_mode": {
    "name": "ipython",
    "version": 3
   },
   "file_extension": ".py",
   "mimetype": "text/x-python",
   "name": "python",
   "nbconvert_exporter": "python",
   "pygments_lexer": "ipython3",
   "version": "3.7.9"
  },
  "orig_nbformat": 4,
  "vscode": {
   "interpreter": {
    "hash": "55a3812d65f91e7e7447da6b5cfc60716e82f91e6a92533fb27b46796ad1962a"
   }
  }
 },
 "nbformat": 4,
 "nbformat_minor": 2
}
