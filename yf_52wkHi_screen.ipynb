{
 "cells": [
  {
   "cell_type": "code",
   "execution_count": 1,
   "metadata": {},
   "outputs": [],
   "source": [
    "import pandas as pd\n",
    "from myUtils import list_dump\n",
    "path_dir = \"C:/Users/ping/MyDrive/stocks/yfinance/\"\n",
    "path_data_dump = path_dir + \"VSCode_dump/\"\n",
    "### edit file name to Barchart 52-week_new-highs ####\n",
    "path_fn_52wkHi = \"C:/Users/ping/Downloads/all-us-exchanges-52-week-new-highs-09-28-2022.csv\"\n",
    "#######################"
   ]
  },
  {
   "cell_type": "code",
   "execution_count": 2,
   "metadata": {},
   "outputs": [],
   "source": [
    "df = pd.read_csv(path_fn_52wkHi)  # read Barchart 52-week_new-highs\n",
    "# drop last row (e.g. Downloaded from Barchart.com as of 08-24-2022 06:21pm CDT)\n",
    "df.drop(df.tail(1).index,inplace=True)\n",
    "df_shape_orig = df.shape\n",
    "# create column of Last * Volume\n",
    "df['Last*Vol'] = df.Last * df.Volume"
   ]
  },
  {
   "cell_type": "code",
   "execution_count": 3,
   "metadata": {},
   "outputs": [
    {
     "name": "stdout",
     "output_type": "stream",
     "text": [
      "number of symbols removed by filter Last*Vol > $10M: 11\n",
      "number of symbols remain:                            7\n"
     ]
    }
   ],
   "source": [
    "# apply filter Last*Vol > $10mil, Last > $10\n",
    "df = df[df['Last*Vol'] > 10000000]   # $10mil\n",
    "# df = df[df['Last*Vol'] > 5000000]  # $5 mil \n",
    "df = df[df['Last'] > 10] \n",
    "df_shape_after = df.shape\n",
    "row_deleted = df_shape_orig[0] - df_shape_after[0]\n",
    "print(f'number of symbols removed by filter Last*Vol > $10M: {row_deleted}')\n",
    "# print(f'number of symbols removed by filter Last*Vol > $5M:  {row_deleted}')\n",
    "print(f'number of symbols remain:                            {df_shape_after[0]}')"
   ]
  },
  {
   "cell_type": "code",
   "execution_count": 4,
   "metadata": {},
   "outputs": [
    {
     "name": "stdout",
     "output_type": "stream",
     "text": [
      "\n",
      "==============================================================================\n",
      "+ def list_dump(list_to_dump, path_list_dump, filename)\n",
      "\n",
      "Wrote list to C:/Users/ping/MyDrive/stocks/yfinance/VSCode_dump/symbols_52wkHi.txt\n",
      "- def list_dump(list_to_dump, path_list_dump, filename)\n",
      "\n",
      "------------------------------------------------------------------------------\n",
      "\n"
     ]
    }
   ],
   "source": [
    "# write symbols to text file\n",
    "symbols_52wkHi = df['Symbol'].to_list()\n",
    "list_dump(symbols_52wkHi, path_data_dump, 'symbols_52wkHi.txt', verbose=True)"
   ]
  },
  {
   "cell_type": "code",
   "execution_count": 5,
   "metadata": {},
   "outputs": [],
   "source": [
    "# columns for df_52wkHi\n",
    "myCols = ['symbol',\n",
    " 'quoteType',\n",
    " 'longName',\n",
    " 'sector',\n",
    " 'industry',\n",
    " 'marketCap',\n",
    " 'revenueGrowth',\n",
    " 'ebitdaMargins',\n",
    " 'earningsGrowth',\n",
    " 'earningsQuarterlyGrowth',\n",
    " 'previousClose',\n",
    " 'volume',\n",
    " 'fiftyTwoWeekHigh',\n",
    " '52WeekChange',\n",
    " 'revenuePerShare',\n",
    " 'forwardEps',\n",
    " 'trailingEps',\n",
    " 'sharesOutstanding'\n",
    "]"
   ]
  },
  {
   "cell_type": "code",
   "execution_count": 6,
   "metadata": {},
   "outputs": [],
   "source": [
    "from datetime import date\n",
    "# put today's date in the date column\n",
    "today = str(date.today())\n",
    "df['date'] = today"
   ]
  },
  {
   "cell_type": "code",
   "execution_count": 7,
   "metadata": {},
   "outputs": [],
   "source": [
    "import yfinance as yf\n",
    "# get yf.Ticker(symbol).info for keys in myCols for 52wkHi symbols \n",
    "df_list = []\n",
    "for symbol in symbols_52wkHi:\n",
    "    df_list.append(pd.DataFrame([yf.Ticker(symbol).info]))\n",
    "df = pd.concat(df_list)\n",
    "df = df[myCols].copy()"
   ]
  },
  {
   "cell_type": "code",
   "execution_count": 8,
   "metadata": {},
   "outputs": [],
   "source": [
    "from myUtils import pickle_dump\n",
    "# sort df_52wkHi with highest revenueGrowth on the 1st row\n",
    "df_52wkHi = df.sort_values(by=['revenueGrowth', 'ebitdaMargins', 'earningsQuarterlyGrowth', 'earningsGrowth' ], ascending=False)\n",
    "pickle_dump(df_52wkHi, path_data_dump, 'df_52wkHi')"
   ]
  },
  {
   "cell_type": "code",
   "execution_count": 9,
   "metadata": {},
   "outputs": [
    {
     "data": {
      "text/html": [
       "<div>\n",
       "<style scoped>\n",
       "    .dataframe tbody tr th:only-of-type {\n",
       "        vertical-align: middle;\n",
       "    }\n",
       "\n",
       "    .dataframe tbody tr th {\n",
       "        vertical-align: top;\n",
       "    }\n",
       "\n",
       "    .dataframe thead th {\n",
       "        text-align: right;\n",
       "    }\n",
       "</style>\n",
       "<table border=\"1\" class=\"dataframe\">\n",
       "  <thead>\n",
       "    <tr style=\"text-align: right;\">\n",
       "      <th></th>\n",
       "      <th>symbol</th>\n",
       "      <th>quoteType</th>\n",
       "      <th>longName</th>\n",
       "      <th>sector</th>\n",
       "      <th>industry</th>\n",
       "      <th>marketCap</th>\n",
       "      <th>revenueGrowth</th>\n",
       "      <th>ebitdaMargins</th>\n",
       "      <th>earningsGrowth</th>\n",
       "      <th>earningsQuarterlyGrowth</th>\n",
       "      <th>previousClose</th>\n",
       "      <th>volume</th>\n",
       "      <th>fiftyTwoWeekHigh</th>\n",
       "      <th>52WeekChange</th>\n",
       "      <th>revenuePerShare</th>\n",
       "      <th>forwardEps</th>\n",
       "      <th>trailingEps</th>\n",
       "      <th>sharesOutstanding</th>\n",
       "    </tr>\n",
       "  </thead>\n",
       "  <tbody>\n",
       "    <tr>\n",
       "      <th>0</th>\n",
       "      <td>AZPN</td>\n",
       "      <td>EQUITY</td>\n",
       "      <td>Aspen Technology, Inc.</td>\n",
       "      <td>Technology</td>\n",
       "      <td>Software—Application</td>\n",
       "      <td>14898728960</td>\n",
       "      <td>2.089</td>\n",
       "      <td>0.30418</td>\n",
       "      <td>None</td>\n",
       "      <td>None</td>\n",
       "      <td>232.67</td>\n",
       "      <td>272382</td>\n",
       "      <td>240.0</td>\n",
       "      <td>0.86285</td>\n",
       "      <td>7.486</td>\n",
       "      <td>7.64</td>\n",
       "      <td>3.99</td>\n",
       "      <td>62168700</td>\n",
       "    </tr>\n",
       "  </tbody>\n",
       "</table>\n",
       "</div>"
      ],
      "text/plain": [
       "  symbol quoteType                longName      sector              industry  \\\n",
       "0   AZPN    EQUITY  Aspen Technology, Inc.  Technology  Software—Application   \n",
       "\n",
       "     marketCap revenueGrowth  ebitdaMargins earningsGrowth  \\\n",
       "0  14898728960         2.089        0.30418           None   \n",
       "\n",
       "  earningsQuarterlyGrowth  previousClose  volume  fiftyTwoWeekHigh  \\\n",
       "0                    None         232.67  272382             240.0   \n",
       "\n",
       "   52WeekChange revenuePerShare  forwardEps  trailingEps  sharesOutstanding  \n",
       "0       0.86285           7.486        7.64         3.99           62168700  "
      ]
     },
     "execution_count": 9,
     "metadata": {},
     "output_type": "execute_result"
    }
   ],
   "source": [
    "# apply filter revenueGrowth > .50 & ebitdaMargins > .25\n",
    "df_filtered = df_52wkHi.query('revenueGrowth > .50 & ebitdaMargins > .25')\n",
    "df_filtered\n"
   ]
  },
  {
   "cell_type": "code",
   "execution_count": 10,
   "metadata": {},
   "outputs": [],
   "source": [
    "symbols_52wkHi = df_filtered['symbol'].tolist()  # convert pd.Series to list\n",
    "pickle_dump(symbols_52wkHi, path_data_dump, 'symbols_52wkHi')"
   ]
  },
  {
   "cell_type": "code",
   "execution_count": 11,
   "metadata": {},
   "outputs": [],
   "source": [
    "# plot symbols\n",
    "# symbols_52wkHi = [\"ARLP\", \"STNG\"]\n",
    "from myUtils import yf_candlestick\n",
    "plot_days = '252d'\n",
    "for symbol in symbols_52wkHi:\n",
    "  df = yf.Ticker(symbol).history(period=plot_days)\n",
    "  df.drop(['Dividends', 'Stock Splits'], axis=1, inplace=True)  # drop Div. and Stock Splits columns\n",
    "  df.columns = ['open', 'high', 'low', 'close', 'volume']  # rename columns Open ... Volume to open ... volume\n",
    "  cache_plot = yf_candlestick(symbol, df, plot_chart=True)"
   ]
  },
  {
   "cell_type": "code",
   "execution_count": 12,
   "metadata": {},
   "outputs": [
    {
     "name": "stdout",
     "output_type": "stream",
     "text": [
      "============================================================\n",
      "AZPN\n",
      "                  Open        High         Low       Close  Volume  Dividends  Stock Splits\n",
      "Date                                                                                       \n",
      "2022-09-22  223.520004  224.570007  220.449997  223.309998  162900          0             0\n",
      "2022-09-23  220.500000  222.440002  216.809998  222.149994  209700          0             0\n",
      "2022-09-26  221.050003  225.139999  219.750000  221.479996  225100          0             0\n",
      "2022-09-27  224.619995  234.020004  222.649994  232.669998  413100          0             0\n",
      "2022-09-28  233.529999  240.000000  229.190002  239.649994  272382          0             0\n",
      "\n",
      "symbol                    AZPN\n",
      "quoteType                 EQUITY\n",
      "longName                  Aspen Technology, Inc.\n",
      "industry                  Software—Application\n",
      "sector                    Technology\n",
      "marketCap                     14.899B\n",
      "revenueGrowth                  2.089\n",
      "earningsGrowth            None\n",
      "earningsQuarterlyGrowth   None\n",
      "ebitdaMargins                  0.304\n",
      "previousClose                232.670\n",
      "fiftyTwoWeekHigh             240.000\n",
      "52WeekChange                   0.863\n",
      "revenuePerShare                7.486\n",
      "forwardEps                     7.640\n",
      "trailingEps                    3.990\n",
      "sharesOutstanding             62.169M\n",
      "\n",
      "longBusinessSummary:\n",
      "Aspen Technology, Inc. provides enterprise asset performance\n",
      "management, asset performance monitoring, and asset\n",
      "optimization solutions worldwide. The company's solutions\n",
      "address complex environments where it is critical to\n",
      "optimize the asset design, operation, and maintenance\n",
      "lifecycle. It offers artificial intelligence of things,\n",
      "aspen hybrid models, asset performance management, OSI\n",
      "digital grid management, and performance engineering;\n",
      "production optimization for commodity polymers, olefins,\n",
      "refining, and specialty chemicals; subsurface science and\n",
      "engineering; and value chain optimization for energy and\n",
      "polymers and specialty chemicals solutions. The company\n",
      "serves bulk chemicals, consumer packaged goods, downstream,\n",
      "food and beverage, metals and mining, midstream and LNG,\n",
      "pharmaceuticals, polymers, pulp and paper, specialty\n",
      "chemicals, transportation, upstream, and water and\n",
      "wastewater industries; power generation, transmission, and\n",
      "distribution industries; and engineering, procurement, and\n",
      "construction industries. Aspen Technology, Inc. was\n",
      "incorporated in 2021 and is headquartered in Bedford,\n",
      "Massachusetts.\n",
      "\n"
     ]
    }
   ],
   "source": [
    "# print symbols data\n",
    "from myUtils import yf_print_symbol_data\n",
    "cache_print = yf_print_symbol_data(symbols_52wkHi)"
   ]
  }
 ],
 "metadata": {
  "kernelspec": {
   "display_name": "Python 3.7.9 ('.venv': poetry)",
   "language": "python",
   "name": "python3"
  },
  "language_info": {
   "codemirror_mode": {
    "name": "ipython",
    "version": 3
   },
   "file_extension": ".py",
   "mimetype": "text/x-python",
   "name": "python",
   "nbconvert_exporter": "python",
   "pygments_lexer": "ipython3",
   "version": "3.7.9"
  },
  "orig_nbformat": 4,
  "vscode": {
   "interpreter": {
    "hash": "55a3812d65f91e7e7447da6b5cfc60716e82f91e6a92533fb27b46796ad1962a"
   }
  }
 },
 "nbformat": 4,
 "nbformat_minor": 2
}
