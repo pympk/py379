{
 "cells": [
  {
   "cell_type": "code",
   "execution_count": null,
   "metadata": {},
   "outputs": [],
   "source": [
    "import pandas as pd\n",
    "from myUtils import list_dump\n",
    "path_dir = \"C:/Users/ping/Desktop/my_yfinance/\"\n",
    "path_data_dump = path_dir + \"VSCode_dump/\"\n",
    "### edit file name to Barchart 52-week_new-highs ####\n",
    "path_fn_52wkHi = \"C:/Users/ping/Downloads/all-us-exchanges-52-week-new-highs-08-24-2022.csv\"\n",
    "#######################"
   ]
  },
  {
   "cell_type": "code",
   "execution_count": null,
   "metadata": {},
   "outputs": [],
   "source": [
    "df = pd.read_csv(path_fn_52wkHi)  # read Barchart 52-week_new-highs\n",
    "# drop last row (e.g. Downloaded from Barchart.com as of 08-24-2022 06:21pm CDT)\n",
    "df.drop(df.tail(1).index,inplace=True)\n",
    "df_shape_orig = df.shape\n",
    "# create column of Last * Volume\n",
    "df['Last*Vol'] = df.Last * df.Volume"
   ]
  },
  {
   "cell_type": "code",
   "execution_count": null,
   "metadata": {},
   "outputs": [],
   "source": [
    "# apply filter Last*Vol > $10mil, Last > $10\n",
    "df = df[df['Last*Vol'] > 10000000] \n",
    "df = df[df['Last'] > 10] \n",
    "df_shape_after = df.shape\n",
    "row_deleted = df_shape_orig[0] - df_shape_after[0]\n",
    "print(f'number of symbols removed by filter: {row_deleted}')\n",
    "print(f'number of symbols remain:            {df_shape_after[0]}')"
   ]
  },
  {
   "cell_type": "code",
   "execution_count": null,
   "metadata": {},
   "outputs": [],
   "source": [
    "# write symbols to text file\n",
    "symbols_52wkHi = df['Symbol'].to_list()\n",
    "list_dump(symbols_52wkHi, path_data_dump, 'symbols_52wkHi.txt', verbose=True)"
   ]
  },
  {
   "cell_type": "code",
   "execution_count": null,
   "metadata": {},
   "outputs": [],
   "source": [
    "# columns for df_52wkHi\n",
    "myCols = ['symbol',\n",
    " 'quoteType',\n",
    " 'longName',\n",
    "  'sector',\n",
    " 'industry',\n",
    " 'marketCap',\n",
    " 'revenueGrowth',\n",
    " 'ebitdaMargins',\n",
    " 'earningsGrowth',\n",
    " 'earningsQuarterlyGrowth',\n",
    "  'previousClose',\n",
    "  'volume',\n",
    " 'fiftyTwoWeekHigh',\n",
    " '52WeekChange',\n",
    " 'revenuePerShare',\n",
    " 'forwardEps',\n",
    " 'trailingEps',\n",
    " 'sharesOutstanding']"
   ]
  },
  {
   "cell_type": "code",
   "execution_count": null,
   "metadata": {},
   "outputs": [],
   "source": [
    "import yfinance as yf\n",
    "# get yf.Ticker(symbol).info for keys in myCols for 52wkHi symbols \n",
    "df_list = []\n",
    "for symbol in symbols_52wkHi:\n",
    "    df_list.append(pd.DataFrame([yf.Ticker(symbol).info]))\n",
    "df = pd.concat(df_list)\n",
    "df = df[myCols].copy()"
   ]
  },
  {
   "cell_type": "code",
   "execution_count": null,
   "metadata": {},
   "outputs": [],
   "source": [
    "from datetime import date\n",
    "# put today's date in the date column\n",
    "today = str(date.today())\n",
    "df['date'] = today"
   ]
  },
  {
   "cell_type": "code",
   "execution_count": null,
   "metadata": {},
   "outputs": [],
   "source": [
    "from myUtils import pickle_dump\n",
    "# sort df_52wkHi with highest revenueGrowth on the 1st row\n",
    "df_52wkHi = df.sort_values(by=['revenueGrowth', 'ebitdaMargins', 'earningsQuarterlyGrowth', 'earningsGrowth' ], ascending=False)\n",
    "pickle_dump(df_52wkHi, path_data_dump, 'df_52wkHi')"
   ]
  },
  {
   "cell_type": "code",
   "execution_count": null,
   "metadata": {},
   "outputs": [],
   "source": [
    "# apply filter revenueGrowth > .50 & ebitdaMargins > .25\n",
    "df_filtered = df_52wkHi.query('revenueGrowth > .50 & ebitdaMargins > .25')\n",
    "df_filtered\n"
   ]
  },
  {
   "cell_type": "code",
   "execution_count": null,
   "metadata": {},
   "outputs": [],
   "source": [
    "symbols_52wkHi = df_filtered['symbol'].tolist()  # convert pd.Series to list\n",
    "pickle_dump(symbols_52wkHi, path_data_dump, 'symbols_52wkHi')"
   ]
  },
  {
   "cell_type": "code",
   "execution_count": null,
   "metadata": {},
   "outputs": [],
   "source": [
    "# plot symbols\n",
    "from myUtils import yf_candlestick\n",
    "plot_days = '252d'\n",
    "for symbol in symbols_52wkHi:\n",
    "  df = yf.Ticker(symbol).history(period=plot_days)\n",
    "  df.drop(['Dividends', 'Stock Splits'], axis=1, inplace=True)  # drop Div. and Stock Splits columns\n",
    "  df.columns = ['open', 'high', 'low', 'close', 'volume']  # rename columns Open ... Volume to open ... volume\n",
    "  cache_plot = yf_candlestick(symbol, df, plot_chart=True)"
   ]
  },
  {
   "cell_type": "code",
   "execution_count": null,
   "metadata": {},
   "outputs": [],
   "source": [
    "# print symbols data\n",
    "from myUtils import yf_print_symbol_data\n",
    "cache_print = yf_print_symbol_data(symbols_52wkHi)"
   ]
  }
 ],
 "metadata": {
  "kernelspec": {
   "display_name": "Python 3.7.9 ('.venv': poetry)",
   "language": "python",
   "name": "python3"
  },
  "language_info": {
   "codemirror_mode": {
    "name": "ipython",
    "version": 3
   },
   "file_extension": ".py",
   "mimetype": "text/x-python",
   "name": "python",
   "nbconvert_exporter": "python",
   "pygments_lexer": "ipython3",
   "version": "3.7.9"
  },
  "orig_nbformat": 4,
  "vscode": {
   "interpreter": {
    "hash": "55a3812d65f91e7e7447da6b5cfc60716e82f91e6a92533fb27b46796ad1962a"
   }
  }
 },
 "nbformat": 4,
 "nbformat_minor": 2
}
