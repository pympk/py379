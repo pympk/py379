{
 "cells": [
  {
   "cell_type": "code",
   "execution_count": 1,
   "metadata": {},
   "outputs": [],
   "source": [
    "import sys\n",
    "import pandas as pd\n",
    "sys.path.append(\"C:/Users/ping/MyDrive/py_files/python/py379/\")\n",
    "from myUtils import pickle_load, pickle_dump\n",
    "path_pickle_dump = 'C:/Users/ping/OneDrive/Documents/jenn_bb_sales/'\n",
    "pd.set_option('max_colwidth', 12, 'display.max_columns', 18, 'display.width', 1200, 'display.max_rows',100)"
   ]
  },
  {
   "cell_type": "code",
   "execution_count": 2,
   "metadata": {},
   "outputs": [],
   "source": [
    "# # read Square csv and pickle df\n",
    "# df1 = pd.read_csv('C:/Users/ping/OneDrive/Documents/jenn_bb_sales/items-2021-02-01-2021-10-02.csv')\n",
    "# df2 = pd.read_csv('C:/Users/ping/OneDrive/Documents/jenn_bb_sales/items-2021-09-06-2022-09-07.csv')\n",
    "# df = pd.concat([df1, df2])\n",
    "# df = df.drop_duplicates()  # drop overlap between the 2 csv files\n",
    "# # df.sort_values(by=['Date', 'Time'])\n",
    "# # df.reset_index(drop=True)  # create new index\n",
    "# df = df.sort_values(by=['Date', 'Time'])\n",
    "# df = df.reset_index(drop=True)  # create new index\n",
    "# pickle_dump(df, path_pickle_dump, 'df_sq_download')\n",
    "# df.shape"
   ]
  },
  {
   "cell_type": "code",
   "execution_count": 3,
   "metadata": {},
   "outputs": [],
   "source": [
    "# # clean data\n",
    "# df = pickle_load(path_pickle_dump, 'df_sq_download')\n",
    "# df_shape_before_clean = df.shape\n",
    "# # select only these columns\n",
    "# df = df[['Date', 'Time', 'Category', 'Item', 'Qty',\n",
    "#        'Price Point Name', 'Gross Sales',\n",
    "#        'Discounts', 'Net Sales', 'Tax', \n",
    "#        'Device Name', 'Notes', 'Event Type', \n",
    "#        'Dining Option', 'Customer Name']]\n",
    "# # strip leading $, convert from object to float\n",
    "# cols_to_clean = ['Gross Sales', 'Discounts', 'Net Sales', 'Tax']\n",
    "# for col in cols_to_clean:\n",
    "#   df[col] = df[col].str.split('$').str[-1]  # strip leading $\n",
    "#   df[col] = pd.to_numeric(df[col])  # convert from object to float\n",
    "# # remove whole sale customer \"Canyon Coffee\"\n",
    "# print(f'df.shape before removing whole sale customer: {df.shape}')\n",
    "# df = df[df['Customer Name'] != \"Canyon Coffee\"]\n",
    "# print(f'df.shape after removing whole sale customer:  {df.shape}')\n",
    "# df_shape_after_clean = df.shape\n",
    "# pickle_dump(df, path_pickle_dump, 'df_clean')\n",
    "# print(f'df.shape before clean:  {df_shape_before_clean}')\n",
    "# print(f'df.shape after clean:   {df_shape_after_clean}')"
   ]
  },
  {
   "cell_type": "code",
   "execution_count": 4,
   "metadata": {},
   "outputs": [],
   "source": [
    "# df = pickle_load(path_pickle_dump, 'df_clean')\n",
    "# print(f'df.shape: {df.shape}')"
   ]
  },
  {
   "cell_type": "code",
   "execution_count": 5,
   "metadata": {},
   "outputs": [],
   "source": [
    "# # sum daily sales into a series\n",
    "# gross = df.groupby('Date')['Gross Sales'].sum()\n",
    "# df_gross = pd.DataFrame(gross)\n",
    "# df_gross.index = pd.to_datetime(df_gross.index)  # change index to datetime before concat"
   ]
  },
  {
   "cell_type": "code",
   "execution_count": 6,
   "metadata": {},
   "outputs": [],
   "source": [
    "# # Los Angeles temperature and precipitation data\n",
    "# # https://www.ncei.noaa.gov/cdo-web/datatools/findstation\n",
    "# df_temp = pd.read_csv('C:/Users/ping/OneDrive/Documents/jenn_bb_sales/la_temp.csv')\n",
    "# df_temp = df_temp.set_index(\"Date\")\n",
    "# df_temp.index = pd.to_datetime(df_temp.index)  # change index to datetime before concat"
   ]
  },
  {
   "cell_type": "code",
   "execution_count": 7,
   "metadata": {},
   "outputs": [],
   "source": [
    "# df_gross_temp = pd.concat([df_gross, df_temp], axis=1, join='inner')\n",
    "# pickle_dump(df_gross_temp, path_pickle_dump, 'df_gross_temp')"
   ]
  },
  {
   "cell_type": "code",
   "execution_count": 8,
   "metadata": {},
   "outputs": [
    {
     "data": {
      "text/html": [
       "<div>\n",
       "<style scoped>\n",
       "    .dataframe tbody tr th:only-of-type {\n",
       "        vertical-align: middle;\n",
       "    }\n",
       "\n",
       "    .dataframe tbody tr th {\n",
       "        vertical-align: top;\n",
       "    }\n",
       "\n",
       "    .dataframe thead th {\n",
       "        text-align: right;\n",
       "    }\n",
       "</style>\n",
       "<table border=\"1\" class=\"dataframe\">\n",
       "  <thead>\n",
       "    <tr style=\"text-align: right;\">\n",
       "      <th></th>\n",
       "      <th>Gross Sales</th>\n",
       "      <th>Prcp</th>\n",
       "      <th>Tmax</th>\n",
       "      <th>DoW</th>\n",
       "    </tr>\n",
       "    <tr>\n",
       "      <th>Date</th>\n",
       "      <th></th>\n",
       "      <th></th>\n",
       "      <th></th>\n",
       "      <th></th>\n",
       "    </tr>\n",
       "  </thead>\n",
       "  <tbody>\n",
       "    <tr>\n",
       "      <th>2021-07-08</th>\n",
       "      <td>30.0</td>\n",
       "      <td>0.0</td>\n",
       "      <td>84</td>\n",
       "      <td>Thu</td>\n",
       "    </tr>\n",
       "    <tr>\n",
       "      <th>2021-07-09</th>\n",
       "      <td>859.0</td>\n",
       "      <td>0.0</td>\n",
       "      <td>86</td>\n",
       "      <td>Fri</td>\n",
       "    </tr>\n",
       "    <tr>\n",
       "      <th>2021-07-10</th>\n",
       "      <td>1205.0</td>\n",
       "      <td>0.0</td>\n",
       "      <td>85</td>\n",
       "      <td>Sat</td>\n",
       "    </tr>\n",
       "    <tr>\n",
       "      <th>2021-07-16</th>\n",
       "      <td>847.0</td>\n",
       "      <td>0.0</td>\n",
       "      <td>82</td>\n",
       "      <td>Fri</td>\n",
       "    </tr>\n",
       "    <tr>\n",
       "      <th>2021-07-17</th>\n",
       "      <td>1026.0</td>\n",
       "      <td>0.0</td>\n",
       "      <td>85</td>\n",
       "      <td>Sat</td>\n",
       "    </tr>\n",
       "    <tr>\n",
       "      <th>...</th>\n",
       "      <td>...</td>\n",
       "      <td>...</td>\n",
       "      <td>...</td>\n",
       "      <td>...</td>\n",
       "    </tr>\n",
       "    <tr>\n",
       "      <th>2022-08-20</th>\n",
       "      <td>768.0</td>\n",
       "      <td>0.0</td>\n",
       "      <td>82</td>\n",
       "      <td>Sat</td>\n",
       "    </tr>\n",
       "    <tr>\n",
       "      <th>2022-08-21</th>\n",
       "      <td>935.5</td>\n",
       "      <td>0.0</td>\n",
       "      <td>80</td>\n",
       "      <td>Sun</td>\n",
       "    </tr>\n",
       "    <tr>\n",
       "      <th>2022-09-01</th>\n",
       "      <td>64.0</td>\n",
       "      <td>0.0</td>\n",
       "      <td>96</td>\n",
       "      <td>Thu</td>\n",
       "    </tr>\n",
       "    <tr>\n",
       "      <th>2022-09-02</th>\n",
       "      <td>400.0</td>\n",
       "      <td>0.0</td>\n",
       "      <td>96</td>\n",
       "      <td>Fri</td>\n",
       "    </tr>\n",
       "    <tr>\n",
       "      <th>2022-09-03</th>\n",
       "      <td>589.0</td>\n",
       "      <td>0.0</td>\n",
       "      <td>98</td>\n",
       "      <td>Sat</td>\n",
       "    </tr>\n",
       "  </tbody>\n",
       "</table>\n",
       "<p>185 rows × 4 columns</p>\n",
       "</div>"
      ],
      "text/plain": [
       "            Gross Sales  Prcp  Tmax  DoW\n",
       "Date                                    \n",
       "2021-07-08         30.0   0.0    84  Thu\n",
       "2021-07-09        859.0   0.0    86  Fri\n",
       "2021-07-10       1205.0   0.0    85  Sat\n",
       "2021-07-16        847.0   0.0    82  Fri\n",
       "2021-07-17       1026.0   0.0    85  Sat\n",
       "...                 ...   ...   ...  ...\n",
       "2022-08-20        768.0   0.0    82  Sat\n",
       "2022-08-21        935.5   0.0    80  Sun\n",
       "2022-09-01         64.0   0.0    96  Thu\n",
       "2022-09-02        400.0   0.0    96  Fri\n",
       "2022-09-03        589.0   0.0    98  Sat\n",
       "\n",
       "[185 rows x 4 columns]"
      ]
     },
     "execution_count": 8,
     "metadata": {},
     "output_type": "execute_result"
    }
   ],
   "source": [
    "df_gross_temp = pickle_load(path_pickle_dump, 'df_gross_temp')\n",
    "df_gross_temp"
   ]
  },
  {
   "cell_type": "markdown",
   "metadata": {},
   "source": []
  }
 ],
 "metadata": {
  "kernelspec": {
   "display_name": "Python 3.7.9 ('.venv': poetry)",
   "language": "python",
   "name": "python3"
  },
  "language_info": {
   "codemirror_mode": {
    "name": "ipython",
    "version": 3
   },
   "file_extension": ".py",
   "mimetype": "text/x-python",
   "name": "python",
   "nbconvert_exporter": "python",
   "pygments_lexer": "ipython3",
   "version": "3.7.9"
  },
  "orig_nbformat": 4,
  "vscode": {
   "interpreter": {
    "hash": "55a3812d65f91e7e7447da6b5cfc60716e82f91e6a92533fb27b46796ad1962a"
   }
  }
 },
 "nbformat": 4,
 "nbformat_minor": 2
}
