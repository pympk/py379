{
 "cells": [
  {
   "cell_type": "code",
   "execution_count": 13,
   "metadata": {},
   "outputs": [],
   "source": [
    "import sys\n",
    "import pandas as pd\n",
    "sys.path.append(\"C:/Users/ping/MyDrive/py_files/python/py379/\")\n",
    "from myUtils import pickle_load, pickle_dump\n",
    "path_pickle_dump = 'C:/Users/ping/OneDrive/Documents/jenn_bb_sales/'"
   ]
  },
  {
   "cell_type": "code",
   "execution_count": 14,
   "metadata": {},
   "outputs": [],
   "source": [
    "# df1 = pd.read_csv('C:/Users/ping/OneDrive/Documents/jenn_bb_sales/items-2021-02-01-2021-10-02.csv')\n",
    "# df2 = pd.read_csv('C:/Users/ping/OneDrive/Documents/jenn_bb_sales/items-2021-09-06-2022-09-07.csv')\n",
    "# df = pd.concat([df1, df2])\n",
    "# df = df.drop_duplicates()\n",
    "# pickle_dump(df, path_pickle_dump, 'df_items')\n",
    "# df.shape"
   ]
  },
  {
   "cell_type": "code",
   "execution_count": 15,
   "metadata": {},
   "outputs": [],
   "source": [
    "# df = pickle_load(path_pickle_dump, 'df_items')\n",
    "# print(f'df.shape: {df.shape}')\n",
    "# df_clean = df[['Date', 'Time', 'Category', 'Item', 'Qty',\n",
    "#        'Price Point Name', 'Gross Sales',\n",
    "#        'Discounts', 'Net Sales', 'Tax', \n",
    "#        'Device Name', 'Notes', 'Event Type', \n",
    "#        'Dining Option', 'Customer Name']]\n",
    "# pickle_dump(df_clean, path_pickle_dump, 'df_clean')"
   ]
  },
  {
   "cell_type": "code",
   "execution_count": 16,
   "metadata": {},
   "outputs": [
    {
     "name": "stdout",
     "output_type": "stream",
     "text": [
      "df_clean.shape: (18366, 15)\n"
     ]
    }
   ],
   "source": [
    "\n",
    "df_clean = pickle_load(path_pickle_dump, 'df_clean')\n",
    "print(f'df_clean.shape: {df_clean.shape}')\n"
   ]
  }
 ],
 "metadata": {
  "kernelspec": {
   "display_name": "Python 3.7.9 ('.venv': poetry)",
   "language": "python",
   "name": "python3"
  },
  "language_info": {
   "codemirror_mode": {
    "name": "ipython",
    "version": 3
   },
   "file_extension": ".py",
   "mimetype": "text/x-python",
   "name": "python",
   "nbconvert_exporter": "python",
   "pygments_lexer": "ipython3",
   "version": "3.7.9"
  },
  "orig_nbformat": 4,
  "vscode": {
   "interpreter": {
    "hash": "55a3812d65f91e7e7447da6b5cfc60716e82f91e6a92533fb27b46796ad1962a"
   }
  }
 },
 "nbformat": 4,
 "nbformat_minor": 2
}
