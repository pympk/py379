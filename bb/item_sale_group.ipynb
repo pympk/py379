{
 "cells": [
  {
   "cell_type": "code",
   "execution_count": 1,
   "metadata": {},
   "outputs": [],
   "source": [
    "import sys\n",
    "import pandas as pd\n",
    "sys.path.append(\"C:/Users/ping/MyDrive/py_files/python/py379/\")\n",
    "from myUtils import pickle_load, pickle_dump\n",
    "pd.set_option('max_colwidth', 12, 'display.max_columns', 18, 'display.width', 1200, 'display.max_rows', 100)\n",
    "INPUT_DIR = 'C:/Users/ping/OneDrive/Documents/jenn_bb_sales'\n",
    "path_pickle_dump = f'{INPUT_DIR}/'"
   ]
  },
  {
   "cell_type": "code",
   "execution_count": 2,
   "metadata": {},
   "outputs": [
    {
     "name": "stdout",
     "output_type": "stream",
     "text": [
      "df.shape: (18366, 22)\n",
      "<class 'pandas.core.frame.DataFrame'>\n",
      "RangeIndex: 18366 entries, 0 to 18365\n",
      "Data columns (total 22 columns):\n",
      " #   Column         Non-Null Count  Dtype  \n",
      "---  ------         --------------  -----  \n",
      " 0   Date           18366 non-null  object \n",
      " 1   Time           18366 non-null  object \n",
      " 2   Category       18366 non-null  object \n",
      " 3   Item           18366 non-null  object \n",
      " 4   Qty            18366 non-null  float64\n",
      " 5   Gross Sales    18366 non-null  float64\n",
      " 6   Discounts      18366 non-null  float64\n",
      " 7   Net Sales      18366 non-null  float64\n",
      " 8   Tax            18366 non-null  float64\n",
      " 9   Event Type     18366 non-null  object \n",
      " 10  Dining Option  18043 non-null  object \n",
      " 11  Customer Name  11528 non-null  object \n",
      " 12  NAME           18366 non-null  object \n",
      " 13  AWND           18215 non-null  float64\n",
      " 14  PRCP           18366 non-null  float64\n",
      " 15  TAVG           18366 non-null  float64\n",
      " 16  TMAX           18366 non-null  int64  \n",
      " 17  TMIN           18366 non-null  int64  \n",
      " 18  WT01           5650 non-null   float64\n",
      " 19  WT02           277 non-null    float64\n",
      " 20  WT08           7330 non-null   float64\n",
      " 21  DOW            18366 non-null  int64  \n",
      "dtypes: float64(11), int64(3), object(8)\n",
      "memory usage: 3.1+ MB\n",
      "df.info(): None\n"
     ]
    }
   ],
   "source": [
    "df = pickle_load(path_pickle_dump, 'df_grSale_weather_cleaned')\n",
    "print(f'df.shape: {df.shape}')\n",
    "print(f'df.info(): {df.info()}')"
   ]
  },
  {
   "cell_type": "code",
   "execution_count": null,
   "metadata": {},
   "outputs": [],
   "source": []
  },
  {
   "cell_type": "code",
   "execution_count": null,
   "metadata": {},
   "outputs": [],
   "source": []
  },
  {
   "cell_type": "code",
   "execution_count": null,
   "metadata": {},
   "outputs": [],
   "source": []
  },
  {
   "cell_type": "code",
   "execution_count": null,
   "metadata": {},
   "outputs": [],
   "source": [
    "# https://datagy.io/pandas-groupby/\n",
    "for column in df.columns[2::]: # skip columns: Date, Time\n",
    "  s = df[column]\n",
    "  grouped = s.groupby(s)\n",
    "  print(f'{column}')\n",
    "  print('='*20)\n",
    "  _dict = {}\n",
    "  for key in grouped.groups.keys():\n",
    "    _count = grouped.get_group(key).count()\n",
    "    _dict[key] = _count\n",
    "  \n",
    "  # sort items and counts in the column in reverse order \n",
    "  _dict = dict(sorted(_dict.items(), reverse = True, key=lambda item: item[1]))\n",
    "  for k, v in _dict.items():\n",
    "      print(f'{k:<45}{v:10,.0f}')\n",
    "  print('='*20, '\\n')"
   ]
  },
  {
   "cell_type": "code",
   "execution_count": null,
   "metadata": {},
   "outputs": [],
   "source": [
    "# how many rows have one or more valid inputs in columns: WT01, WT02, WT08'\n",
    "_df = df[['WT01', 'WT02', 'WT08']]\n",
    "_idx = _df.index[_df.notnull().any(axis=1)]\n",
    "_df_notnull = _df.iloc[_idx]\n",
    "print(f'{_df_notnull.shape[0]} rows have one or more valid inputs in columns: WT01, WT02, WT08')\n",
    "print(f'_df_notnull.shape: {_df_notnull.shape}')"
   ]
  }
 ],
 "metadata": {
  "kernelspec": {
   "display_name": "Python 3.7.9 ('.venv': poetry)",
   "language": "python",
   "name": "python3"
  },
  "language_info": {
   "codemirror_mode": {
    "name": "ipython",
    "version": 3
   },
   "file_extension": ".py",
   "mimetype": "text/x-python",
   "name": "python",
   "nbconvert_exporter": "python",
   "pygments_lexer": "ipython3",
   "version": "3.7.9"
  },
  "orig_nbformat": 4,
  "vscode": {
   "interpreter": {
    "hash": "55a3812d65f91e7e7447da6b5cfc60716e82f91e6a92533fb27b46796ad1962a"
   }
  }
 },
 "nbformat": 4,
 "nbformat_minor": 2
}
