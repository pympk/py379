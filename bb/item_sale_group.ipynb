{
 "cells": [
  {
   "cell_type": "code",
   "execution_count": 120,
   "metadata": {},
   "outputs": [],
   "source": [
    "# https://towardsdatascience.com/pandas-groupby-a-simple-but-detailed-tutorial-314b8f37005d\n",
    "# https://towardsdatascience.com/accessing-data-in-a-multiindex-dataframe-in-pandas-569e8767201d\n",
    "# https://matplotlib.org/stable/gallery/pyplots/pyplot_text.html#sphx-glr-gallery-pyplots-pyplot-text-py\n",
    "# https://datascientyst.com/list-aggregation-functions-aggfunc-groupby-pandas/\n",
    "# https://stackoverflow.com/questions/25929319/how-to-iterate-over-pandas-multiindex-dataframe-using-index"
   ]
  },
  {
   "cell_type": "code",
   "execution_count": 121,
   "metadata": {},
   "outputs": [],
   "source": [
    "import sys\n",
    "import pandas as pd\n",
    "sys.path.append(\"C:/Users/ping/MyDrive/py_files/python/py379/\")\n",
    "from myUtils import pickle_load, pickle_dump\n",
    "pd.set_option('max_colwidth', 12, 'display.max_columns', 18, 'display.width', 1200, 'display.max_rows', 100)\n",
    "INPUT_DIR = 'C:/Users/ping/OneDrive/Documents/jenn_bb_sales'\n",
    "path_pickle_dump = f'{INPUT_DIR}/'"
   ]
  },
  {
   "cell_type": "code",
   "execution_count": 122,
   "metadata": {},
   "outputs": [
    {
     "name": "stdout",
     "output_type": "stream",
     "text": [
      "df.shape: (18364, 23), rows: 18364, columns: 23\n",
      "df.columns: Index(['Date', 'Time', 'Category', 'Item', 'Qty', 'Gross Sales', 'Discounts', 'Net Sales', 'Tax', 'Transaction ID', 'Event Type', 'Dining Option', 'Customer Name', 'NAME', 'AWND', 'PRCP', 'TAVG', 'TMAX', 'TMIN', 'WT01', 'WT02', 'WT08', 'DOW'], dtype='object')\n"
     ]
    }
   ],
   "source": [
    "df = pickle_load(path_pickle_dump, 'df_item_sale_n_weather_cleaned')\n",
    "rows_org, cols_org = df.shape[0], df.shape[1]\n",
    "print(f'df.shape: {df.shape}, rows: {rows_org}, columns: {cols_org}')\n",
    "print(f'df.columns: {df.columns}')"
   ]
  },
  {
   "cell_type": "code",
   "execution_count": 123,
   "metadata": {},
   "outputs": [
    {
     "name": "stdout",
     "output_type": "stream",
     "text": [
      "df.shape: (18337, 23), rows dropped from original: 27, columns dropped from original: 0\n"
     ]
    }
   ],
   "source": [
    "df = df[df['Event Type'] != 'Refund']\n",
    "df = df[df['Qty'] >= 0]\n",
    "df = df.sort_values(['Date', 'Time'])\n",
    "_rows_dropped, _cols_dropped = (rows_org - df.shape[0]), (cols_org - df.shape[1])\n",
    "print(f'df.shape: {df.shape}, rows dropped from original: {_rows_dropped}, columns dropped from original: {_cols_dropped}')"
   ]
  },
  {
   "cell_type": "code",
   "execution_count": 138,
   "metadata": {},
   "outputs": [
    {
     "name": "stdout",
     "output_type": "stream",
     "text": [
      "first date: 2021-07-08, last date: 2022-09-04\n",
      "date_str:  (2021-07-08 to 2022-09-04)\n"
     ]
    }
   ],
   "source": [
    "ls_Date = df.Date.to_list()\n",
    "Date_first, Date_last = ls_Date[0], ls_Date[-1]\n",
    "print(f'first date: {Date_first}, last date: {Date_last}')\n",
    "date_str = f' ({Date_first} to {Date_last})'\n",
    "print(f'date_str: {date_str}')"
   ]
  },
  {
   "cell_type": "code",
   "execution_count": 124,
   "metadata": {},
   "outputs": [
    {
     "name": "stdout",
     "output_type": "stream",
     "text": [
      "columns with dtypes are object:\n",
      "['Date', 'Time', 'Category', 'Item', 'Transaction ID', 'Event Type', 'Dining Option', 'Customer Name', 'NAME']\n",
      "columns with dtypes are float:\n",
      "['Qty', 'Gross Sales', 'Discounts', 'Net Sales', 'Tax', 'AWND', 'PRCP', 'TAVG', 'WT01', 'WT02', 'WT08']\n",
      "columns with dtypes are int64:\n",
      "['TMAX', 'TMIN', 'DOW']\n",
      "columns with dtypes are non of the above:\n",
      "[]\n"
     ]
    }
   ],
   "source": [
    "l_object, l_float, l_int64, l_error = [], [], [], []\n",
    "for column in df.columns:\n",
    "  if df[column].dtype == 'object':\n",
    "    l_object.append(column)\n",
    "  elif df[column].dtype == 'float':\n",
    "    l_float.append(column)  \n",
    "  elif df[column].dtype == 'int64':\n",
    "    l_int64.append(column)\n",
    "  else:   \n",
    "    l_error.append(column)\n",
    "print(f'columns with dtypes are object:\\n{l_object}')\n",
    "print(f'columns with dtypes are float:\\n{l_float}')\n",
    "print(f'columns with dtypes are int64:\\n{l_int64}')\n",
    "print(f'columns with dtypes are non of the above:\\n{l_error}')"
   ]
  },
  {
   "cell_type": "code",
   "execution_count": 125,
   "metadata": {},
   "outputs": [],
   "source": [
    "import matplotlib.pyplot as plt\n",
    "import matplotlib.ticker as mtick\n",
    "import numpy as np\n",
    "pd.set_option('max_colwidth', 30)\n",
    "_figsize = (4,3)  # (width, height)\n",
    "_fontsize = 6\n",
    "_titlescale = 1.1  # scale title text\n",
    "_grid = False  # default False\n",
    "# _scale = 1"
   ]
  },
  {
   "cell_type": "code",
   "execution_count": 139,
   "metadata": {},
   "outputs": [
    {
     "name": "stdout",
     "output_type": "stream",
     "text": [
      "day-of-week   days   total sales   avg. sales\n",
      "Sun             41        33,628          820\n",
      "Mon              7         1,935          276\n",
      "Tue              4           717          179\n",
      "Wed              6           796          133\n",
      "Thu             21         4,500          214\n",
      "Fri             54        36,616          678\n",
      "Sat             53        55,169        1,041\n"
     ]
    },
    {
     "data": {
      "image/png": "[encoded data removed]",
      "text/plain": [
       "<Figure size 400x300 with 1 Axes>"
      ]
     },
     "metadata": {},
     "output_type": "display_data"
    }
   ],
   "source": [
    "# Bar Graph, Avg. Gross Sales per day\n",
    "_df = df.groupby(['DOW', 'Date']).agg('sum')\n",
    "_l_day_of_week, _l_avg_gross_sales_per_day = [], []\n",
    "_dict_DOW = {0:'Sun', 1:'Mon', 2:'Tue', 3:'Wed', 4:'Thu', 5:'Fri', 6:'Sat'}\n",
    "print(f'day-of-week   days   total sales   avg. sales')\n",
    "for DOW, _df_new in _df.groupby(level=0):\n",
    "  _n_days = len(_df_new)\n",
    "  _sum_gross_sales = _df_new['Gross Sales'].sum()\n",
    "  _avg_gross_sales = _sum_gross_sales / _n_days\n",
    "  # print(f'Day of Week: {DOW},   Avg Gross Sales per day: {_avg_gross_sales:>6,.0f}')\n",
    "  _l_day_of_week.append(DOW)\n",
    "  _l_avg_gross_sales_per_day.append(_avg_gross_sales)\n",
    "  print(f'{_dict_DOW[DOW]:<11}{_n_days:>7}{_sum_gross_sales:>14,.0f}{_avg_gross_sales:>13,.0f}')\n",
    "\n",
    "_xlabel = 'Days of the Week'\n",
    "_ylabel = 'Avg. Sales' + ', $'\n",
    "_title = 'Avg. Sales per day' + date_str\n",
    "\n",
    "# data\n",
    "x = _l_day_of_week\n",
    "y = _l_avg_gross_sales_per_day\n",
    "# y = list(np.concatenate(y).flat)  # [33628.5, 1935.0, 717.0, 795.5, 4500.0, 36615.5, 55169.0]\n",
    "\n",
    "# plot\n",
    "fig, ax = plt.subplots()\n",
    "ax.bar(x, y, width=1, edgecolor=\"white\", linewidth=0.7)\n",
    "# ax.set(xlim=(0, 8), xticks=np.arange(1, 8),\n",
    "#        ylim=(0, 8), yticks=np.arange(1, 8))\n",
    "plt.xlabel(_xlabel)\n",
    "plt.ylabel(_ylabel)\n",
    "plt.title(_title, fontsize = _fontsize*_titlescale)\n",
    "ax.set_xticks(x)\n",
    "ax.set_xticklabels(['Sun', 'Mon', 'Tue', 'Wed', 'Thu', 'Fri', 'Sat'])\n",
    "plt.rcParams[\"figure.figsize\"] = _figsize\n",
    "# plt.rcParams[\"figure.figsize\"] = [_scale * i for i in plt.rcParams[\"figure.figsize\"]]\n",
    "fmt = '${x:,.0f}'  # format number with $ and ,\n",
    "tick = mtick.StrMethodFormatter(fmt)\n",
    "ax.yaxis.set_major_formatter(tick) # replace 0..6 with Sun ... Sat\n",
    "\n",
    "plt.grid(_grid)\n",
    "plt.show()"
   ]
  },
  {
   "cell_type": "code",
   "execution_count": 159,
   "metadata": {},
   "outputs": [
    {
     "name": "stdout",
     "output_type": "stream",
     "text": [
      "day-of-week   total sales\n",
      "Sun                33,628\n",
      "Mon                 1,935\n",
      "Tue                   717\n",
      "Wed                   796\n",
      "Thu                 4,500\n",
      "Fri                36,616\n",
      "Sat                55,169\n"
     ]
    },
    {
     "data": {
      "image/png": "[encoded data removed]",
      "text/plain": [
       "<Figure size 400x300 with 1 Axes>"
      ]
     },
     "metadata": {},
     "output_type": "display_data"
    }
   ],
   "source": [
    "# Bar Graph, Gross Sales by days-of_week\n",
    "_groupby_col, _agg_col = 'DOW', 'Gross Sales'\n",
    "_agg_func = 'sum'\n",
    "_cols = [_groupby_col, _agg_col]\n",
    "_df = df[_cols]\n",
    "_df = _df.groupby([_groupby_col]).agg([_agg_func])\n",
    "\n",
    "_xlabel = 'Days of the Week'\n",
    "_ylabel = 'Total Sales'\n",
    "_title = 'Total Sales per day' + date_str\n",
    "\n",
    "# data\n",
    "x = _df.index\n",
    "y = _df[_agg_col].values  # array([[33628.5], [ 1935. ], ..., [55169. ]])\n",
    "y = list(np.concatenate(y).flat)  # [33628.5, 1935.0, 717.0, 795.5, 4500.0, 36615.5, 55169.0]\n",
    "\n",
    "_dict_DOW = {0:'Sun', 1:'Mon', 2:'Tue', 3:'Wed', 4:'Thu', 5:'Fri', 6:'Sat'}\n",
    "print(f'day-of-week   total sales')\n",
    "for i in x:\n",
    "  print(f'{_dict_DOW[i]:<14}{y[i]:>11,.0f}')\n",
    "\n",
    "# plot\n",
    "fig, ax = plt.subplots()\n",
    "ax.bar(x, y, width=1, edgecolor=\"white\", linewidth=0.7)\n",
    "# ax.set(xlim=(0, 8), xticks=np.arange(1, 8),\n",
    "#        ylim=(0, 8), yticks=np.arange(1, 8))\n",
    "plt.xlabel(_xlabel)\n",
    "plt.ylabel(_ylabel)\n",
    "plt.title(_title, fontsize = _fontsize*_titlescale)\n",
    "ax.set_xticks(x)\n",
    "ax.set_xticklabels(['Sun', 'Mon', 'Tue', 'Wed', 'Thu', 'Fri', 'Sat'])\n",
    "plt.rcParams[\"figure.figsize\"] = _figsize\n",
    "# plt.rcParams[\"figure.figsize\"] = [_scale * i for i in plt.rcParams[\"figure.figsize\"]]\n",
    "fmt = '${x:,.0f}'  # format number with $ and ,\n",
    "tick = mtick.StrMethodFormatter(fmt)\n",
    "ax.yaxis.set_major_formatter(tick) # replace 0..6 with Sun ... Sat\n",
    "\n",
    "plt.grid(_grid)\n",
    "plt.show()"
   ]
  },
  {
   "cell_type": "code",
   "execution_count": 158,
   "metadata": {},
   "outputs": [
    {
     "name": "stdout",
     "output_type": "stream",
     "text": [
      "Total Sales:                   133,360\n",
      "Total Transaction:               6,826\n",
      "Avg. Sales per Transaction:      19.54\n"
     ]
    },
    {
     "data": {
      "image/png": "[encoded data removed]",
      "text/plain": [
       "<Figure size 400x300 with 1 Axes>"
      ]
     },
     "metadata": {},
     "output_type": "display_data"
    }
   ],
   "source": [
    "# Histogram, Gross Sales per Transaction\n",
    "_groupby_col, _agg_col = 'Transaction ID', 'Gross Sales'\n",
    "_agg_func = 'sum'\n",
    "\n",
    "_cols = [_groupby_col, _agg_col]\n",
    "_df = df[_cols]\n",
    "_df = _df.groupby([_groupby_col]).agg([_agg_func])\n",
    "\n",
    "Total_Gross_Sales = _df['Gross Sales'].sum()[0]  # get the first element in series\n",
    "Total_Trans = len(_df)\n",
    "Total_Trans\n",
    "Avg_Sales_per_Trans = Total_Gross_Sales / Total_Trans\n",
    "print(f'Total Sales:                {Total_Gross_Sales:>10,.0f}')\n",
    "print(f'Total Transaction:          {Total_Trans:>10,}')\n",
    "print(f'Avg. Sales per Transaction: {Avg_Sales_per_Trans:>10,.2f}')\n",
    "\n",
    "_x = _df[_agg_col]\n",
    "_bins = 100\n",
    "_xlabel = 'Sales, $'\n",
    "_ylabel = 'Transactions'\n",
    "_title = 'Sales per Transaction' + date_str\n",
    "_density = False  # False => count, True => Area = 1 \n",
    "n, bins, patches = plt.hist(_x, _bins, density=_density)\n",
    "plt.rcParams.update({'font.size': _fontsize})\n",
    "plt.rcParams[\"figure.figsize\"] = _figsize\n",
    "plt.xlabel(_xlabel)\n",
    "plt.ylabel(_ylabel)\n",
    "plt.title(_title, fontsize = _fontsize*_titlescale)\n",
    "plt.text(150, 1000, r'Total Sales:                           133,360')\n",
    "plt.text(150, 950,  r'Total Transaction:                     6,826')\n",
    "plt.text(150, 900,  r'Avg. Sales per Transaction:      19.54')\n",
    "# plt.xlim(0, 20)\n",
    "# plt.ylim(0, 1250)\n",
    "\n",
    "plt.grid(_grid)\n",
    "plt.show()"
   ]
  },
  {
   "cell_type": "code",
   "execution_count": 171,
   "metadata": {},
   "outputs": [
    {
     "data": {
      "text/plain": [
       "Time\n",
       "0       172.0\n",
       "1        45.0\n",
       "5        32.0\n",
       "6       116.0\n",
       "7       102.0\n",
       "8      1005.0\n",
       "9     54635.0\n",
       "10    37922.0\n",
       "11    21482.5\n",
       "12    10805.0\n",
       "13     2105.0\n",
       "14      421.0\n",
       "15      337.0\n",
       "16      263.0\n",
       "17      493.0\n",
       "18      381.0\n",
       "19      710.0\n",
       "20      566.0\n",
       "21      772.0\n",
       "22      839.0\n",
       "23      157.0\n",
       "Name: Gross Sales, dtype: float64"
      ]
     },
     "execution_count": 171,
     "metadata": {},
     "output_type": "execute_result"
    }
   ],
   "source": [
    "_df = df.sort_values(by=['Time', 'Date'])\n",
    "_df.Time = pd.to_datetime(_df.Time)\n",
    "_df.groupby([_df['Time'].dt.hour])['Gross Sales'].sum()\n",
    "# _df.groupby([_df['Time'].dt.hour])['Gross Sales'].count()\n",
    "# _df1 = _df.groupby([_df['Time'].dt.hour])['Gross Sales']\n",
    "# _df"
   ]
  },
  {
   "cell_type": "code",
   "execution_count": null,
   "metadata": {},
   "outputs": [],
   "source": []
  }
 ],
 "metadata": {
  "kernelspec": {
   "display_name": "Python 3.7.9 ('.venv': poetry)",
   "language": "python",
   "name": "python3"
  },
  "language_info": {
   "codemirror_mode": {
    "name": "ipython",
    "version": 3
   },
   "file_extension": ".py",
   "mimetype": "text/x-python",
   "name": "python",
   "nbconvert_exporter": "python",
   "pygments_lexer": "ipython3",
   "version": "3.7.9"
  },
  "orig_nbformat": 4,
  "vscode": {
   "interpreter": {
    "hash": "55a3812d65f91e7e7447da6b5cfc60716e82f91e6a92533fb27b46796ad1962a"
   }
  }
 },
 "nbformat": 4,
 "nbformat_minor": 2
}
