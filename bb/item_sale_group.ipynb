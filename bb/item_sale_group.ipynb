{
 "cells": [
  {
   "cell_type": "code",
   "execution_count": 36,
   "metadata": {},
   "outputs": [],
   "source": [
    "import sys\n",
    "import pandas as pd\n",
    "sys.path.append(\"C:/Users/ping/MyDrive/py_files/python/py379/\")\n",
    "from myUtils import pickle_load, pickle_dump\n",
    "pd.set_option('max_colwidth', 12, 'display.max_columns', 18, 'display.width', 1200, 'display.max_rows', 100)\n",
    "INPUT_DIR = 'C:/Users/ping/OneDrive/Documents/jenn_bb_sales'\n",
    "path_pickle_dump = f'{INPUT_DIR}/'"
   ]
  },
  {
   "cell_type": "code",
   "execution_count": 37,
   "metadata": {},
   "outputs": [
    {
     "name": "stdout",
     "output_type": "stream",
     "text": [
      "df.shape: (18364, 23), rows: 18364, columns: 23\n",
      "df.columns: Index(['Date', 'Time', 'Category', 'Item', 'Qty', 'Gross Sales', 'Discounts', 'Net Sales', 'Tax', 'Transaction ID', 'Event Type', 'Dining Option', 'Customer Name', 'NAME', 'AWND', 'PRCP', 'TAVG', 'TMAX', 'TMIN', 'WT01', 'WT02', 'WT08', 'DOW'], dtype='object')\n"
     ]
    }
   ],
   "source": [
    "df = pickle_load(path_pickle_dump, 'df_item_sale_n_weather_cleaned')\n",
    "rows_org, cols_org = df.shape[0], df.shape[1]\n",
    "print(f'df.shape: {df.shape}, rows: {rows_org}, columns: {cols_org}')\n",
    "print(f'df.columns: {df.columns}')"
   ]
  },
  {
   "cell_type": "code",
   "execution_count": 38,
   "metadata": {},
   "outputs": [
    {
     "name": "stdout",
     "output_type": "stream",
     "text": [
      "df.columns: Index(['Date', 'Time', 'Category', 'Item', 'Qty', 'Gross Sales', 'Discounts', 'Net Sales', 'Tax', 'Transaction ID', 'Event Type', 'Dining Option', 'Customer Name'], dtype='object')\n",
      "df.shape: (18364, 13), rows dropped from original: 0, columns dropped from original: 10\n"
     ]
    }
   ],
   "source": [
    "cols_drop = ['NAME', 'AWND', 'PRCP', 'TAVG', 'TMAX', 'TMIN', 'WT01', 'WT02', 'WT08', 'DOW']\n",
    "df.drop(cols_drop, axis=1, inplace=True)\n",
    "print(f'df.columns: {df.columns}')\n",
    "_rows_dropped, _cols_dropped = (rows_org - df.shape[0]), (cols_org - df.shape[1])\n",
    "print(f'df.shape: {df.shape}, rows dropped from original: {_rows_dropped}, columns dropped from original: {_cols_dropped}')"
   ]
  },
  {
   "cell_type": "code",
   "execution_count": 39,
   "metadata": {},
   "outputs": [
    {
     "name": "stdout",
     "output_type": "stream",
     "text": [
      "df.shape: (18337, 13), rows dropped from original: 27, columns dropped from original: 10\n"
     ]
    }
   ],
   "source": [
    "df = df[df['Event Type'] != 'Refund']\n",
    "df = df[df['Qty'] >= 0]\n",
    "df = df.sort_values(['Date', 'Time'])\n",
    "_rows_dropped, _cols_dropped = (rows_org - df.shape[0]), (cols_org - df.shape[1])\n",
    "print(f'df.shape: {df.shape}, rows dropped from original: {_rows_dropped}, columns dropped from original: {_cols_dropped}')"
   ]
  },
  {
   "cell_type": "code",
   "execution_count": 40,
   "metadata": {},
   "outputs": [
    {
     "data": {
      "text/html": [
       "<div>\n",
       "<style scoped>\n",
       "    .dataframe tbody tr th:only-of-type {\n",
       "        vertical-align: middle;\n",
       "    }\n",
       "\n",
       "    .dataframe tbody tr th {\n",
       "        vertical-align: top;\n",
       "    }\n",
       "\n",
       "    .dataframe thead th {\n",
       "        text-align: right;\n",
       "    }\n",
       "</style>\n",
       "<table border=\"1\" class=\"dataframe\">\n",
       "  <thead>\n",
       "    <tr style=\"text-align: right;\">\n",
       "      <th></th>\n",
       "      <th>Date</th>\n",
       "      <th>Time</th>\n",
       "      <th>Category</th>\n",
       "      <th>Item</th>\n",
       "      <th>Qty</th>\n",
       "      <th>Gross Sales</th>\n",
       "      <th>Discounts</th>\n",
       "      <th>Net Sales</th>\n",
       "      <th>Tax</th>\n",
       "      <th>Transaction ID</th>\n",
       "      <th>Event Type</th>\n",
       "      <th>Dining Option</th>\n",
       "      <th>Customer Name</th>\n",
       "    </tr>\n",
       "  </thead>\n",
       "  <tbody>\n",
       "    <tr>\n",
       "      <th>0</th>\n",
       "      <td>2021-07-08</td>\n",
       "      <td>17:31:07</td>\n",
       "      <td>Food</td>\n",
       "      <td>Chocolat...</td>\n",
       "      <td>1.0</td>\n",
       "      <td>6.0</td>\n",
       "      <td>0.0</td>\n",
       "      <td>6.0</td>\n",
       "      <td>0.00</td>\n",
       "      <td>5Qzw7N4E...</td>\n",
       "      <td>Payment</td>\n",
       "      <td>To Go</td>\n",
       "      <td>Jennifer...</td>\n",
       "    </tr>\n",
       "    <tr>\n",
       "      <th>1</th>\n",
       "      <td>2021-07-08</td>\n",
       "      <td>17:31:29</td>\n",
       "      <td>Food</td>\n",
       "      <td>Jarred P...</td>\n",
       "      <td>1.0</td>\n",
       "      <td>6.0</td>\n",
       "      <td>0.0</td>\n",
       "      <td>6.0</td>\n",
       "      <td>0.00</td>\n",
       "      <td>Z4Lhlkfm...</td>\n",
       "      <td>Payment</td>\n",
       "      <td>For Here</td>\n",
       "      <td>Jennifer...</td>\n",
       "    </tr>\n",
       "    <tr>\n",
       "      <th>2</th>\n",
       "      <td>2021-07-08</td>\n",
       "      <td>17:31:47</td>\n",
       "      <td>Beverage</td>\n",
       "      <td>Sparkling</td>\n",
       "      <td>1.0</td>\n",
       "      <td>3.0</td>\n",
       "      <td>0.0</td>\n",
       "      <td>3.0</td>\n",
       "      <td>0.28</td>\n",
       "      <td>Zxzxigke...</td>\n",
       "      <td>Payment</td>\n",
       "      <td>For Here</td>\n",
       "      <td>Jennifer...</td>\n",
       "    </tr>\n",
       "    <tr>\n",
       "      <th>6</th>\n",
       "      <td>2021-07-09</td>\n",
       "      <td>09:14:03</td>\n",
       "      <td>Food</td>\n",
       "      <td>Croissant</td>\n",
       "      <td>2.0</td>\n",
       "      <td>10.0</td>\n",
       "      <td>0.0</td>\n",
       "      <td>10.0</td>\n",
       "      <td>0.00</td>\n",
       "      <td>Jwogqfj8...</td>\n",
       "      <td>Payment</td>\n",
       "      <td>For Here</td>\n",
       "      <td>Mayumi N...</td>\n",
       "    </tr>\n",
       "    <tr>\n",
       "      <th>7</th>\n",
       "      <td>2021-07-09</td>\n",
       "      <td>09:14:03</td>\n",
       "      <td>Food</td>\n",
       "      <td>Chocolat...</td>\n",
       "      <td>2.0</td>\n",
       "      <td>12.0</td>\n",
       "      <td>0.0</td>\n",
       "      <td>12.0</td>\n",
       "      <td>0.00</td>\n",
       "      <td>Jwogqfj8...</td>\n",
       "      <td>Payment</td>\n",
       "      <td>For Here</td>\n",
       "      <td>Mayumi N...</td>\n",
       "    </tr>\n",
       "    <tr>\n",
       "      <th>...</th>\n",
       "      <td>...</td>\n",
       "      <td>...</td>\n",
       "      <td>...</td>\n",
       "      <td>...</td>\n",
       "      <td>...</td>\n",
       "      <td>...</td>\n",
       "      <td>...</td>\n",
       "      <td>...</td>\n",
       "      <td>...</td>\n",
       "      <td>...</td>\n",
       "      <td>...</td>\n",
       "      <td>...</td>\n",
       "      <td>...</td>\n",
       "    </tr>\n",
       "    <tr>\n",
       "      <th>18359</th>\n",
       "      <td>2022-09-04</td>\n",
       "      <td>11:19:02</td>\n",
       "      <td>Food</td>\n",
       "      <td>Cinnamon...</td>\n",
       "      <td>1.0</td>\n",
       "      <td>3.0</td>\n",
       "      <td>0.0</td>\n",
       "      <td>3.0</td>\n",
       "      <td>0.00</td>\n",
       "      <td>Lmk3E9Gx...</td>\n",
       "      <td>Payment</td>\n",
       "      <td>For Here</td>\n",
       "      <td>Aubrie D...</td>\n",
       "    </tr>\n",
       "    <tr>\n",
       "      <th>18360</th>\n",
       "      <td>2022-09-04</td>\n",
       "      <td>11:20:38</td>\n",
       "      <td>Food</td>\n",
       "      <td>Oatmeal ...</td>\n",
       "      <td>1.0</td>\n",
       "      <td>4.0</td>\n",
       "      <td>0.0</td>\n",
       "      <td>4.0</td>\n",
       "      <td>0.00</td>\n",
       "      <td>Hokel420...</td>\n",
       "      <td>Payment</td>\n",
       "      <td>For Here</td>\n",
       "      <td>Jean Sequen</td>\n",
       "    </tr>\n",
       "    <tr>\n",
       "      <th>18361</th>\n",
       "      <td>2022-09-04</td>\n",
       "      <td>11:21:25</td>\n",
       "      <td>Food</td>\n",
       "      <td>Cinnamon...</td>\n",
       "      <td>1.0</td>\n",
       "      <td>3.0</td>\n",
       "      <td>0.0</td>\n",
       "      <td>3.0</td>\n",
       "      <td>0.00</td>\n",
       "      <td>Huikykv6...</td>\n",
       "      <td>Payment</td>\n",
       "      <td>For Here</td>\n",
       "      <td>NaN</td>\n",
       "    </tr>\n",
       "    <tr>\n",
       "      <th>18362</th>\n",
       "      <td>2022-09-04</td>\n",
       "      <td>11:32:24</td>\n",
       "      <td>Food</td>\n",
       "      <td>Cinnamon...</td>\n",
       "      <td>1.0</td>\n",
       "      <td>3.0</td>\n",
       "      <td>0.0</td>\n",
       "      <td>3.0</td>\n",
       "      <td>0.00</td>\n",
       "      <td>Zdb6Eyob...</td>\n",
       "      <td>Payment</td>\n",
       "      <td>For Here</td>\n",
       "      <td>Yesenia ...</td>\n",
       "    </tr>\n",
       "    <tr>\n",
       "      <th>18363</th>\n",
       "      <td>2022-09-04</td>\n",
       "      <td>11:39:13</td>\n",
       "      <td>Food</td>\n",
       "      <td>Danish</td>\n",
       "      <td>2.0</td>\n",
       "      <td>14.0</td>\n",
       "      <td>0.0</td>\n",
       "      <td>14.0</td>\n",
       "      <td>0.00</td>\n",
       "      <td>J71Bpp0O...</td>\n",
       "      <td>Payment</td>\n",
       "      <td>For Here</td>\n",
       "      <td>Sean Ren</td>\n",
       "    </tr>\n",
       "  </tbody>\n",
       "</table>\n",
       "<p>18337 rows × 13 columns</p>\n",
       "</div>"
      ],
      "text/plain": [
       "             Date      Time  Category         Item  Qty  Gross Sales  Discounts  Net Sales   Tax Transaction ID Event Type Dining Option Customer Name\n",
       "0      2021-07-08  17:31:07      Food  Chocolat...  1.0          6.0        0.0        6.0  0.00  5Qzw7N4E...      Payment        To Go   Jennifer... \n",
       "1      2021-07-08  17:31:29      Food  Jarred P...  1.0          6.0        0.0        6.0  0.00  Z4Lhlkfm...      Payment     For Here   Jennifer... \n",
       "2      2021-07-08  17:31:47  Beverage    Sparkling  1.0          3.0        0.0        3.0  0.28  Zxzxigke...      Payment     For Here   Jennifer... \n",
       "6      2021-07-09  09:14:03      Food    Croissant  2.0         10.0        0.0       10.0  0.00  Jwogqfj8...      Payment     For Here   Mayumi N... \n",
       "7      2021-07-09  09:14:03      Food  Chocolat...  2.0         12.0        0.0       12.0  0.00  Jwogqfj8...      Payment     For Here   Mayumi N... \n",
       "...           ...       ...       ...          ...  ...          ...        ...        ...   ...          ...          ...          ...           ... \n",
       "18359  2022-09-04  11:19:02      Food  Cinnamon...  1.0          3.0        0.0        3.0  0.00  Lmk3E9Gx...      Payment     For Here   Aubrie D... \n",
       "18360  2022-09-04  11:20:38      Food  Oatmeal ...  1.0          4.0        0.0        4.0  0.00  Hokel420...      Payment     For Here   Jean Sequen \n",
       "18361  2022-09-04  11:21:25      Food  Cinnamon...  1.0          3.0        0.0        3.0  0.00  Huikykv6...      Payment     For Here           NaN \n",
       "18362  2022-09-04  11:32:24      Food  Cinnamon...  1.0          3.0        0.0        3.0  0.00  Zdb6Eyob...      Payment     For Here   Yesenia ... \n",
       "18363  2022-09-04  11:39:13      Food       Danish  2.0         14.0        0.0       14.0  0.00  J71Bpp0O...      Payment     For Here      Sean Ren \n",
       "\n",
       "[18337 rows x 13 columns]"
      ]
     },
     "execution_count": 40,
     "metadata": {},
     "output_type": "execute_result"
    }
   ],
   "source": [
    "df"
   ]
  },
  {
   "cell_type": "code",
   "execution_count": 41,
   "metadata": {},
   "outputs": [
    {
     "data": {
      "text/plain": [
       "Index(['Date', 'Time', 'Category', 'Item', 'Qty', 'Gross Sales', 'Discounts', 'Net Sales', 'Tax', 'Transaction ID', 'Event Type', 'Dining Option', 'Customer Name'], dtype='object')"
      ]
     },
     "execution_count": 41,
     "metadata": {},
     "output_type": "execute_result"
    }
   ],
   "source": [
    "df.columns"
   ]
  },
  {
   "cell_type": "code",
   "execution_count": 49,
   "metadata": {},
   "outputs": [
    {
     "data": {
      "text/html": [
       "<div>\n",
       "<style scoped>\n",
       "    .dataframe tbody tr th:only-of-type {\n",
       "        vertical-align: middle;\n",
       "    }\n",
       "\n",
       "    .dataframe tbody tr th {\n",
       "        vertical-align: top;\n",
       "    }\n",
       "\n",
       "    .dataframe thead th {\n",
       "        text-align: right;\n",
       "    }\n",
       "</style>\n",
       "<table border=\"1\" class=\"dataframe\">\n",
       "  <thead>\n",
       "    <tr style=\"text-align: right;\">\n",
       "      <th></th>\n",
       "      <th>Transaction ID</th>\n",
       "      <th>Qty</th>\n",
       "      <th>Gross Sales</th>\n",
       "    </tr>\n",
       "  </thead>\n",
       "  <tbody>\n",
       "    <tr>\n",
       "      <th>0</th>\n",
       "      <td>5Qzw7N4Epco9Ezmhvubnjawev</td>\n",
       "      <td>1.0</td>\n",
       "      <td>6.0</td>\n",
       "    </tr>\n",
       "    <tr>\n",
       "      <th>1</th>\n",
       "      <td>Z4Lhlkfmd1Wueqp2Etutjvvev</td>\n",
       "      <td>1.0</td>\n",
       "      <td>6.0</td>\n",
       "    </tr>\n",
       "    <tr>\n",
       "      <th>2</th>\n",
       "      <td>Zxzxigkeb6Nw6Ytwrgrdzweev</td>\n",
       "      <td>1.0</td>\n",
       "      <td>3.0</td>\n",
       "    </tr>\n",
       "    <tr>\n",
       "      <th>6</th>\n",
       "      <td>Jwogqfj8U01Abzqlchlrplsev</td>\n",
       "      <td>2.0</td>\n",
       "      <td>10.0</td>\n",
       "    </tr>\n",
       "    <tr>\n",
       "      <th>7</th>\n",
       "      <td>Jwogqfj8U01Abzqlchlrplsev</td>\n",
       "      <td>2.0</td>\n",
       "      <td>12.0</td>\n",
       "    </tr>\n",
       "    <tr>\n",
       "      <th>...</th>\n",
       "      <td>...</td>\n",
       "      <td>...</td>\n",
       "      <td>...</td>\n",
       "    </tr>\n",
       "    <tr>\n",
       "      <th>18359</th>\n",
       "      <td>Lmk3E9Gxitmoh4U6C8Qec55Ev</td>\n",
       "      <td>1.0</td>\n",
       "      <td>3.0</td>\n",
       "    </tr>\n",
       "    <tr>\n",
       "      <th>18360</th>\n",
       "      <td>Hokel4207Mxfkjwl16Mu6N6Ev</td>\n",
       "      <td>1.0</td>\n",
       "      <td>4.0</td>\n",
       "    </tr>\n",
       "    <tr>\n",
       "      <th>18361</th>\n",
       "      <td>Huikykv6Itvipng8Cmty6F5Ev</td>\n",
       "      <td>1.0</td>\n",
       "      <td>3.0</td>\n",
       "    </tr>\n",
       "    <tr>\n",
       "      <th>18362</th>\n",
       "      <td>Zdb6Eyob4Zx1Lu8Jgxfstf6Ev</td>\n",
       "      <td>1.0</td>\n",
       "      <td>3.0</td>\n",
       "    </tr>\n",
       "    <tr>\n",
       "      <th>18363</th>\n",
       "      <td>J71Bpp0Ogcqppzk3Tdfczufev</td>\n",
       "      <td>2.0</td>\n",
       "      <td>14.0</td>\n",
       "    </tr>\n",
       "  </tbody>\n",
       "</table>\n",
       "<p>18337 rows × 3 columns</p>\n",
       "</div>"
      ],
      "text/plain": [
       "                  Transaction ID  Qty  Gross Sales\n",
       "0      5Qzw7N4Epco9Ezmhvubnjawev  1.0          6.0\n",
       "1      Z4Lhlkfmd1Wueqp2Etutjvvev  1.0          6.0\n",
       "2      Zxzxigkeb6Nw6Ytwrgrdzweev  1.0          3.0\n",
       "6      Jwogqfj8U01Abzqlchlrplsev  2.0         10.0\n",
       "7      Jwogqfj8U01Abzqlchlrplsev  2.0         12.0\n",
       "...                          ...  ...          ...\n",
       "18359  Lmk3E9Gxitmoh4U6C8Qec55Ev  1.0          3.0\n",
       "18360  Hokel4207Mxfkjwl16Mu6N6Ev  1.0          4.0\n",
       "18361  Huikykv6Itvipng8Cmty6F5Ev  1.0          3.0\n",
       "18362  Zdb6Eyob4Zx1Lu8Jgxfstf6Ev  1.0          3.0\n",
       "18363  J71Bpp0Ogcqppzk3Tdfczufev  2.0         14.0\n",
       "\n",
       "[18337 rows x 3 columns]"
      ]
     },
     "execution_count": 49,
     "metadata": {},
     "output_type": "execute_result"
    }
   ],
   "source": [
    "# _cols = ['Transaction ID', 'Date', 'Time', 'Category', 'Item', 'Qty', 'Gross Sales']\n",
    "_cols = ['Transaction ID', 'Qty', 'Gross Sales']\n",
    "df1 = df[_cols]\n",
    "pd.set_option('max_colwidth', 30) \n",
    "df1"
   ]
  },
  {
   "cell_type": "code",
   "execution_count": 53,
   "metadata": {},
   "outputs": [
    {
     "data": {
      "text/html": [
       "<div>\n",
       "<style scoped>\n",
       "    .dataframe tbody tr th:only-of-type {\n",
       "        vertical-align: middle;\n",
       "    }\n",
       "\n",
       "    .dataframe tbody tr th {\n",
       "        vertical-align: top;\n",
       "    }\n",
       "\n",
       "    .dataframe thead tr th {\n",
       "        text-align: left;\n",
       "    }\n",
       "\n",
       "    .dataframe thead tr:last-of-type th {\n",
       "        text-align: right;\n",
       "    }\n",
       "</style>\n",
       "<table border=\"1\" class=\"dataframe\">\n",
       "  <thead>\n",
       "    <tr>\n",
       "      <th></th>\n",
       "      <th>Qty</th>\n",
       "      <th>Gross Sales</th>\n",
       "    </tr>\n",
       "    <tr>\n",
       "      <th></th>\n",
       "      <th>sum</th>\n",
       "      <th>sum</th>\n",
       "    </tr>\n",
       "    <tr>\n",
       "      <th>Transaction ID</th>\n",
       "      <th></th>\n",
       "      <th></th>\n",
       "    </tr>\n",
       "  </thead>\n",
       "  <tbody>\n",
       "    <tr>\n",
       "      <th>10A3Zthxt5C8Wwohzfshfuafv</th>\n",
       "      <td>1.0</td>\n",
       "      <td>4.0</td>\n",
       "    </tr>\n",
       "    <tr>\n",
       "      <th>10Q330Bjqybaaqjvwioiyguev</th>\n",
       "      <td>2.0</td>\n",
       "      <td>11.0</td>\n",
       "    </tr>\n",
       "    <tr>\n",
       "      <th>10Svenrwjhbinkriazypkqlev</th>\n",
       "      <td>3.0</td>\n",
       "      <td>14.0</td>\n",
       "    </tr>\n",
       "    <tr>\n",
       "      <th>10Yq32Boj7Usp1Icomcjqbfev</th>\n",
       "      <td>2.0</td>\n",
       "      <td>11.0</td>\n",
       "    </tr>\n",
       "    <tr>\n",
       "      <th>123Gfeumdrgp0Vg6Xiwlj4Gev</th>\n",
       "      <td>5.0</td>\n",
       "      <td>26.0</td>\n",
       "    </tr>\n",
       "    <tr>\n",
       "      <th>...</th>\n",
       "      <td>...</td>\n",
       "      <td>...</td>\n",
       "    </tr>\n",
       "    <tr>\n",
       "      <th>Zzfbmslhyfykicycewhanaafv</th>\n",
       "      <td>3.0</td>\n",
       "      <td>21.0</td>\n",
       "    </tr>\n",
       "    <tr>\n",
       "      <th>Zzkr8Kcprkww9Kf5Yxymh52Ev</th>\n",
       "      <td>4.0</td>\n",
       "      <td>24.0</td>\n",
       "    </tr>\n",
       "    <tr>\n",
       "      <th>Zzmq3Rkb4Jmtoojpbn3Qemjlnvdzy</th>\n",
       "      <td>1.0</td>\n",
       "      <td>45.0</td>\n",
       "    </tr>\n",
       "    <tr>\n",
       "      <th>Zzq03O2Pugyn75J6Njppvg9Ev</th>\n",
       "      <td>7.0</td>\n",
       "      <td>47.0</td>\n",
       "    </tr>\n",
       "    <tr>\n",
       "      <th>Zzr3Jodrbwor705Px6Flj9Sev</th>\n",
       "      <td>3.0</td>\n",
       "      <td>17.0</td>\n",
       "    </tr>\n",
       "  </tbody>\n",
       "</table>\n",
       "<p>6826 rows × 2 columns</p>\n",
       "</div>"
      ],
      "text/plain": [
       "                               Qty Gross Sales\n",
       "                               sum         sum\n",
       "Transaction ID                                \n",
       "10A3Zthxt5C8Wwohzfshfuafv      1.0         4.0\n",
       "10Q330Bjqybaaqjvwioiyguev      2.0        11.0\n",
       "10Svenrwjhbinkriazypkqlev      3.0        14.0\n",
       "10Yq32Boj7Usp1Icomcjqbfev      2.0        11.0\n",
       "123Gfeumdrgp0Vg6Xiwlj4Gev      5.0        26.0\n",
       "...                            ...         ...\n",
       "Zzfbmslhyfykicycewhanaafv      3.0        21.0\n",
       "Zzkr8Kcprkww9Kf5Yxymh52Ev      4.0        24.0\n",
       "Zzmq3Rkb4Jmtoojpbn3Qemjlnvdzy  1.0        45.0\n",
       "Zzq03O2Pugyn75J6Njppvg9Ev      7.0        47.0\n",
       "Zzr3Jodrbwor705Px6Flj9Sev      3.0        17.0\n",
       "\n",
       "[6826 rows x 2 columns]"
      ]
     },
     "execution_count": 53,
     "metadata": {},
     "output_type": "execute_result"
    }
   ],
   "source": [
    "# https://towardsdatascience.com/pandas-groupby-a-simple-but-detailed-tutorial-314b8f37005d\n",
    "# https://towardsdatascience.com/accessing-data-in-a-multiindex-dataframe-in-pandas-569e8767201d\n",
    "# sales_by_TransID = df1.groupby(['Transaction ID', 'Date', 'Time', 'Category', 'Item']).agg(['sum'])\n",
    "_df = df1.groupby(['Transaction ID']).agg(['sum'])\n",
    "# _df['Avg Sales'] = _df['Gross Sales sum'] / _df['Qty sum']\n",
    "_df\n",
    "# sales_by_TransID[Avg Sales] = "
   ]
  },
  {
   "cell_type": "code",
   "execution_count": 58,
   "metadata": {},
   "outputs": [
    {
     "data": {
      "text/html": [
       "<div>\n",
       "<style scoped>\n",
       "    .dataframe tbody tr th:only-of-type {\n",
       "        vertical-align: middle;\n",
       "    }\n",
       "\n",
       "    .dataframe tbody tr th {\n",
       "        vertical-align: top;\n",
       "    }\n",
       "\n",
       "    .dataframe thead tr th {\n",
       "        text-align: left;\n",
       "    }\n",
       "\n",
       "    .dataframe thead tr:last-of-type th {\n",
       "        text-align: right;\n",
       "    }\n",
       "</style>\n",
       "<table border=\"1\" class=\"dataframe\">\n",
       "  <thead>\n",
       "    <tr>\n",
       "      <th></th>\n",
       "      <th>Qty</th>\n",
       "      <th>Gross Sales</th>\n",
       "      <th>Avg Sales</th>\n",
       "    </tr>\n",
       "    <tr>\n",
       "      <th></th>\n",
       "      <th>sum</th>\n",
       "      <th>sum</th>\n",
       "      <th></th>\n",
       "    </tr>\n",
       "    <tr>\n",
       "      <th>Transaction ID</th>\n",
       "      <th></th>\n",
       "      <th></th>\n",
       "      <th></th>\n",
       "    </tr>\n",
       "  </thead>\n",
       "  <tbody>\n",
       "    <tr>\n",
       "      <th>10A3Zthxt5C8Wwohzfshfuafv</th>\n",
       "      <td>1.0</td>\n",
       "      <td>4.0</td>\n",
       "      <td>4.000000</td>\n",
       "    </tr>\n",
       "    <tr>\n",
       "      <th>10Q330Bjqybaaqjvwioiyguev</th>\n",
       "      <td>2.0</td>\n",
       "      <td>11.0</td>\n",
       "      <td>5.500000</td>\n",
       "    </tr>\n",
       "    <tr>\n",
       "      <th>10Svenrwjhbinkriazypkqlev</th>\n",
       "      <td>3.0</td>\n",
       "      <td>14.0</td>\n",
       "      <td>4.666667</td>\n",
       "    </tr>\n",
       "    <tr>\n",
       "      <th>10Yq32Boj7Usp1Icomcjqbfev</th>\n",
       "      <td>2.0</td>\n",
       "      <td>11.0</td>\n",
       "      <td>5.500000</td>\n",
       "    </tr>\n",
       "    <tr>\n",
       "      <th>123Gfeumdrgp0Vg6Xiwlj4Gev</th>\n",
       "      <td>5.0</td>\n",
       "      <td>26.0</td>\n",
       "      <td>5.200000</td>\n",
       "    </tr>\n",
       "    <tr>\n",
       "      <th>...</th>\n",
       "      <td>...</td>\n",
       "      <td>...</td>\n",
       "      <td>...</td>\n",
       "    </tr>\n",
       "    <tr>\n",
       "      <th>Zzfbmslhyfykicycewhanaafv</th>\n",
       "      <td>3.0</td>\n",
       "      <td>21.0</td>\n",
       "      <td>7.000000</td>\n",
       "    </tr>\n",
       "    <tr>\n",
       "      <th>Zzkr8Kcprkww9Kf5Yxymh52Ev</th>\n",
       "      <td>4.0</td>\n",
       "      <td>24.0</td>\n",
       "      <td>6.000000</td>\n",
       "    </tr>\n",
       "    <tr>\n",
       "      <th>Zzmq3Rkb4Jmtoojpbn3Qemjlnvdzy</th>\n",
       "      <td>1.0</td>\n",
       "      <td>45.0</td>\n",
       "      <td>45.000000</td>\n",
       "    </tr>\n",
       "    <tr>\n",
       "      <th>Zzq03O2Pugyn75J6Njppvg9Ev</th>\n",
       "      <td>7.0</td>\n",
       "      <td>47.0</td>\n",
       "      <td>6.714286</td>\n",
       "    </tr>\n",
       "    <tr>\n",
       "      <th>Zzr3Jodrbwor705Px6Flj9Sev</th>\n",
       "      <td>3.0</td>\n",
       "      <td>17.0</td>\n",
       "      <td>5.666667</td>\n",
       "    </tr>\n",
       "  </tbody>\n",
       "</table>\n",
       "<p>6826 rows × 3 columns</p>\n",
       "</div>"
      ],
      "text/plain": [
       "                               Qty Gross Sales  Avg Sales\n",
       "                               sum         sum           \n",
       "Transaction ID                                           \n",
       "10A3Zthxt5C8Wwohzfshfuafv      1.0         4.0   4.000000\n",
       "10Q330Bjqybaaqjvwioiyguev      2.0        11.0   5.500000\n",
       "10Svenrwjhbinkriazypkqlev      3.0        14.0   4.666667\n",
       "10Yq32Boj7Usp1Icomcjqbfev      2.0        11.0   5.500000\n",
       "123Gfeumdrgp0Vg6Xiwlj4Gev      5.0        26.0   5.200000\n",
       "...                            ...         ...        ...\n",
       "Zzfbmslhyfykicycewhanaafv      3.0        21.0   7.000000\n",
       "Zzkr8Kcprkww9Kf5Yxymh52Ev      4.0        24.0   6.000000\n",
       "Zzmq3Rkb4Jmtoojpbn3Qemjlnvdzy  1.0        45.0  45.000000\n",
       "Zzq03O2Pugyn75J6Njppvg9Ev      7.0        47.0   6.714286\n",
       "Zzr3Jodrbwor705Px6Flj9Sev      3.0        17.0   5.666667\n",
       "\n",
       "[6826 rows x 3 columns]"
      ]
     },
     "execution_count": 58,
     "metadata": {},
     "output_type": "execute_result"
    }
   ],
   "source": [
    "_df['Avg Sales'] = _df.loc[:, 'Gross Sales'] / _df.loc[:, 'Qty']\n",
    "_df"
   ]
  },
  {
   "cell_type": "code",
   "execution_count": 60,
   "metadata": {},
   "outputs": [],
   "source": [
    "%matplotlib inline"
   ]
  },
  {
   "cell_type": "code",
   "execution_count": 98,
   "metadata": {},
   "outputs": [
    {
     "data": {
      "image/png": "[encoded data removed]",
      "text/plain": [
       "<Figure size 640x480 with 1 Axes>"
      ]
     },
     "metadata": {},
     "output_type": "display_data"
    }
   ],
   "source": [
    "# https://matplotlib.org/stable/gallery/pyplots/pyplot_text.html#sphx-glr-gallery-pyplots-pyplot-text-py\n",
    "import numpy as np\n",
    "import matplotlib.pyplot as plt\n",
    "x = _df['Avg Sales']\n",
    "# n, bins, patches = plt.hist(x, 100, density=False, facecolor='g', alpha=0.75)\n",
    "# n, bins, patches = plt.hist(x, 100, density=False, facecolor='g')\n",
    "n, bins, patches = plt.hist(x, 100, density=False, facecolor='g')\n"
   ]
  },
  {
   "cell_type": "code",
   "execution_count": 77,
   "metadata": {},
   "outputs": [
    {
     "data": {
      "text/plain": [
       "<AxesSubplot:>"
      ]
     },
     "execution_count": 77,
     "metadata": {},
     "output_type": "execute_result"
    },
    {
     "data": {
      "image/png": "[encoded data removed]",
      "text/plain": [
       "<Figure size 640x480 with 1 Axes>"
      ]
     },
     "metadata": {},
     "output_type": "display_data"
    }
   ],
   "source": [
    "# https://medium.com/@melishadevkota/histograms-and-scatter-plots-using-jupyter-notebook-d577eb850350\n",
    "_df['Avg Sales'].hist(bins=100)"
   ]
  },
  {
   "cell_type": "code",
   "execution_count": 71,
   "metadata": {},
   "outputs": [
    {
     "data": {
      "text/plain": [
       "array([[<AxesSubplot:title={'center':'sum'}>]], dtype=object)"
      ]
     },
     "execution_count": 71,
     "metadata": {},
     "output_type": "execute_result"
    },
    {
     "data": {
      "image/png": "[encoded data removed]",
      "text/plain": [
       "<Figure size 640x480 with 1 Axes>"
      ]
     },
     "metadata": {},
     "output_type": "display_data"
    }
   ],
   "source": [
    "_df['Qty'].hist(bins=100)"
   ]
  },
  {
   "cell_type": "code",
   "execution_count": 54,
   "metadata": {},
   "outputs": [
    {
     "data": {
      "text/plain": [
       "MultiIndex([(        'Qty', 'sum'),\n",
       "            ('Gross Sales', 'sum')],\n",
       "           )"
      ]
     },
     "execution_count": 54,
     "metadata": {},
     "output_type": "execute_result"
    }
   ],
   "source": [
    "_df.columns"
   ]
  },
  {
   "cell_type": "code",
   "execution_count": 46,
   "metadata": {},
   "outputs": [
    {
     "data": {
      "text/html": [
       "<div>\n",
       "<style scoped>\n",
       "    .dataframe tbody tr th:only-of-type {\n",
       "        vertical-align: middle;\n",
       "    }\n",
       "\n",
       "    .dataframe tbody tr th {\n",
       "        vertical-align: top;\n",
       "    }\n",
       "\n",
       "    .dataframe thead th {\n",
       "        text-align: right;\n",
       "    }\n",
       "</style>\n",
       "<table border=\"1\" class=\"dataframe\">\n",
       "  <thead>\n",
       "    <tr style=\"text-align: right;\">\n",
       "      <th></th>\n",
       "      <th>Date</th>\n",
       "      <th>Time</th>\n",
       "      <th>Category</th>\n",
       "      <th>Item</th>\n",
       "      <th>Qty</th>\n",
       "      <th>Gross Sales</th>\n",
       "      <th>Discounts</th>\n",
       "      <th>Net Sales</th>\n",
       "      <th>Tax</th>\n",
       "      <th>Transaction ID</th>\n",
       "      <th>Event Type</th>\n",
       "      <th>Dining Option</th>\n",
       "      <th>Customer Name</th>\n",
       "    </tr>\n",
       "  </thead>\n",
       "  <tbody>\n",
       "    <tr>\n",
       "      <th>10337</th>\n",
       "      <td>2022-03-04</td>\n",
       "      <td>09:10:37</td>\n",
       "      <td>Food</td>\n",
       "      <td>Twice Baked</td>\n",
       "      <td>1.0</td>\n",
       "      <td>7.0</td>\n",
       "      <td>0.0</td>\n",
       "      <td>7.0</td>\n",
       "      <td>0.0</td>\n",
       "      <td>Zzr3Jodrbwor705Px6Flj9Sev</td>\n",
       "      <td>Payment</td>\n",
       "      <td>For Here</td>\n",
       "      <td>Nicholas Delozier</td>\n",
       "    </tr>\n",
       "    <tr>\n",
       "      <th>10338</th>\n",
       "      <td>2022-03-04</td>\n",
       "      <td>09:10:37</td>\n",
       "      <td>Food</td>\n",
       "      <td>Danish</td>\n",
       "      <td>1.0</td>\n",
       "      <td>7.0</td>\n",
       "      <td>0.0</td>\n",
       "      <td>7.0</td>\n",
       "      <td>0.0</td>\n",
       "      <td>Zzr3Jodrbwor705Px6Flj9Sev</td>\n",
       "      <td>Payment</td>\n",
       "      <td>For Here</td>\n",
       "      <td>Nicholas Delozier</td>\n",
       "    </tr>\n",
       "    <tr>\n",
       "      <th>10339</th>\n",
       "      <td>2022-03-04</td>\n",
       "      <td>09:10:37</td>\n",
       "      <td>Food</td>\n",
       "      <td>Cinnamon Knot</td>\n",
       "      <td>1.0</td>\n",
       "      <td>3.0</td>\n",
       "      <td>0.0</td>\n",
       "      <td>3.0</td>\n",
       "      <td>0.0</td>\n",
       "      <td>Zzr3Jodrbwor705Px6Flj9Sev</td>\n",
       "      <td>Payment</td>\n",
       "      <td>For Here</td>\n",
       "      <td>Nicholas Delozier</td>\n",
       "    </tr>\n",
       "  </tbody>\n",
       "</table>\n",
       "</div>"
      ],
      "text/plain": [
       "             Date      Time Category           Item  Qty  Gross Sales  Discounts  Net Sales  Tax             Transaction ID Event Type Dining Option      Customer Name\n",
       "10337  2022-03-04  09:10:37     Food    Twice Baked  1.0          7.0        0.0        7.0  0.0  Zzr3Jodrbwor705Px6Flj9Sev    Payment      For Here  Nicholas Delozier\n",
       "10338  2022-03-04  09:10:37     Food         Danish  1.0          7.0        0.0        7.0  0.0  Zzr3Jodrbwor705Px6Flj9Sev    Payment      For Here  Nicholas Delozier\n",
       "10339  2022-03-04  09:10:37     Food  Cinnamon Knot  1.0          3.0        0.0        3.0  0.0  Zzr3Jodrbwor705Px6Flj9Sev    Payment      For Here  Nicholas Delozier"
      ]
     },
     "execution_count": 46,
     "metadata": {},
     "output_type": "execute_result"
    }
   ],
   "source": [
    "df.loc[df['Transaction ID'] == 'Zzr3Jodrbwor705Px6Flj9Sev']"
   ]
  },
  {
   "cell_type": "code",
   "execution_count": null,
   "metadata": {},
   "outputs": [],
   "source": [
    "sales_by_TransID.tail(30)"
   ]
  },
  {
   "cell_type": "code",
   "execution_count": null,
   "metadata": {},
   "outputs": [],
   "source": [
    "df1.columns\n"
   ]
  },
  {
   "cell_type": "code",
   "execution_count": null,
   "metadata": {},
   "outputs": [],
   "source": [
    "df1.tail(30)"
   ]
  },
  {
   "cell_type": "code",
   "execution_count": null,
   "metadata": {},
   "outputs": [],
   "source": [
    "_cols = ['Transaction ID', 'Date', 'Time', 'Category', 'Qty', 'Gross Sales']\n",
    "df1 = df1[_cols]\n",
    "df1"
   ]
  },
  {
   "cell_type": "code",
   "execution_count": null,
   "metadata": {},
   "outputs": [],
   "source": [
    "# # https://datagy.io/pandas-groupby/\n",
    "# for column in df.columns[2::]: # skip columns: Date, Time\n",
    "#   s = df[column]\n",
    "#   grouped = s.groupby(s)\n",
    "#   print(f'{column}')\n",
    "#   print('='*20)\n",
    "#   _dict = {}\n",
    "#   for key in grouped.groups.keys():\n",
    "#     _count = grouped.get_group(key).count()\n",
    "#     _dict[key] = _count\n",
    "  \n",
    "#   # sort items and counts in the column in reverse order \n",
    "#   _dict = dict(sorted(_dict.items(), reverse = True, key=lambda item: item[1]))\n",
    "#   for k, v in _dict.items():\n",
    "#       print(f'{k:<45}{v:10,.0f}')\n",
    "#   print('='*20, '\\n')"
   ]
  },
  {
   "cell_type": "code",
   "execution_count": null,
   "metadata": {},
   "outputs": [],
   "source": [
    "# # how many rows have one or more valid inputs in columns: WT01, WT02, WT08'\n",
    "# _df = df[['WT01', 'WT02', 'WT08']]\n",
    "# _idx = _df.index[_df.notnull().any(axis=1)]\n",
    "# _df_notnull = _df.iloc[_idx]\n",
    "# print(f'{_df_notnull.shape[0]} rows have one or more valid inputs in columns: WT01, WT02, WT08')\n",
    "# print(f'_df_notnull.shape: {_df_notnull.shape}')"
   ]
  }
 ],
 "metadata": {
  "kernelspec": {
   "display_name": "Python 3.7.9 ('.venv': poetry)",
   "language": "python",
   "name": "python3"
  },
  "language_info": {
   "codemirror_mode": {
    "name": "ipython",
    "version": 3
   },
   "file_extension": ".py",
   "mimetype": "text/x-python",
   "name": "python",
   "nbconvert_exporter": "python",
   "pygments_lexer": "ipython3",
   "version": "3.7.9"
  },
  "orig_nbformat": 4,
  "vscode": {
   "interpreter": {
    "hash": "55a3812d65f91e7e7447da6b5cfc60716e82f91e6a92533fb27b46796ad1962a"
   }
  }
 },
 "nbformat": 4,
 "nbformat_minor": 2
}
