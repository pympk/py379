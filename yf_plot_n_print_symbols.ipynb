{
 "cells": [
  {
   "cell_type": "code",
   "execution_count": 1,
   "metadata": {},
   "outputs": [],
   "source": [
    "import yfinance as yf\n",
    "from myUtils import read_symbols_file, yf_print_symbol_data, yf_candlestick, pickle_load\n",
    "path_dir = \"C:/Users/ping/Desktop/my_yfinance/\"\n",
    "path_data_dump = path_dir + \"VSCode_dump/\"\n",
    "path_symbols_file = path_dir + \"source/\""
   ]
  },
  {
   "cell_type": "code",
   "execution_count": null,
   "metadata": {},
   "outputs": [],
   "source": [
    "# # filename_symbols = path_symbols_file + \"test_symbols_no_XOM.txt\"  # symbols text file\n",
    "# filename_symbols = path_symbols_file + \"syms.txt\"  # symbols text file\n",
    "# symbols_in_file = read_symbols_file(filename_symbols)\n",
    "# symbols = symbols_in_file"
   ]
  },
  {
   "cell_type": "code",
   "execution_count": null,
   "metadata": {},
   "outputs": [],
   "source": [
    "# symbols"
   ]
  },
  {
   "cell_type": "code",
   "execution_count": null,
   "metadata": {},
   "outputs": [],
   "source": [
    "# https://superuser.com/questions/1434198/python-how-to-put-double-quotes-for-values-in-a-list\n",
    "input_str = '[INSW,STNG,TPL]'\n",
    "'['+','.join(['\"'+x+'\"' for x in input_str[1:-1].split(',')])+']'"
   ]
  },
  {
   "cell_type": "code",
   "execution_count": 2,
   "metadata": {},
   "outputs": [],
   "source": [
    "# # # use to over-ride symbols\n",
    "# symbols = [\"EQNR\",\"ARLP\",\"OXY\",\"VET\",\"NFE\",\"LNTH\",\"CF\",\"INSW\",\"STNG\",\"TPL\"]\n",
    "symbols = [\"YUM\"]"
   ]
  },
  {
   "cell_type": "code",
   "execution_count": null,
   "metadata": {},
   "outputs": [],
   "source": [
    "# # symbols with highest revenueGrowth is LAST in list (for plotting)\n",
    "# symbols = pickle_load(path_data_dump, 'symbols_52wkHi')\n",
    "# symbols\n"
   ]
  },
  {
   "cell_type": "code",
   "execution_count": 3,
   "metadata": {},
   "outputs": [],
   "source": [
    "# plot symbols\n",
    "plot_days = '252d'\n",
    "for symbol in symbols:\n",
    "  # yf.Ticker OHLC are adjusted correctly\n",
    "  df = yf.Ticker(symbol).history(period=plot_days)\n",
    "  df.drop(['Dividends', 'Stock Splits'], axis=1, inplace=True)  # drop Div. and Stock Splits columns\n",
    "  df.columns = ['open', 'high', 'low', 'close', 'volume']  # rename columns Open ... Volume to open ... volume\n",
    "  cache_plot = yf_candlestick(symbol, df, plot_chart=True)"
   ]
  },
  {
   "cell_type": "code",
   "execution_count": 5,
   "metadata": {},
   "outputs": [],
   "source": [
    "df.to_csv('C:/Users/ping/Desktop/A_yf.csv')"
   ]
  },
  {
   "cell_type": "code",
   "execution_count": null,
   "metadata": {},
   "outputs": [],
   "source": [
    "# print symbols data\n",
    "cache_print = yf_print_symbol_data(symbols)\n",
    "# reversed_symbols = list(reversed(symbols))\n",
    "# cache_print = yf_print_symbol_data(reversed_symbols)  # symbols_52wkHi, highest revenueGrowth is FIRST"
   ]
  },
  {
   "cell_type": "code",
   "execution_count": null,
   "metadata": {},
   "outputs": [],
   "source": [
    "df"
   ]
  }
 ],
 "metadata": {
  "kernelspec": {
   "display_name": "Python 3.7.9 ('.venv': poetry)",
   "language": "python",
   "name": "python3"
  },
  "language_info": {
   "codemirror_mode": {
    "name": "ipython",
    "version": 3
   },
   "file_extension": ".py",
   "mimetype": "text/x-python",
   "name": "python",
   "nbconvert_exporter": "python",
   "pygments_lexer": "ipython3",
   "version": "3.7.9"
  },
  "orig_nbformat": 4,
  "vscode": {
   "interpreter": {
    "hash": "55a3812d65f91e7e7447da6b5cfc60716e82f91e6a92533fb27b46796ad1962a"
   }
  }
 },
 "nbformat": 4,
 "nbformat_minor": 2
}
