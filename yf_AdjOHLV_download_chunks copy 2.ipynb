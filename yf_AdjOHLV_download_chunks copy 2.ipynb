{
 "cells": [
  {
   "cell_type": "code",
   "execution_count": null,
   "metadata": {},
   "outputs": [],
   "source": [
    "# df_adjOHLCV has data only for NYSE trading days, no weekend data\n",
    "# df_adjOHLCV_all_dates includes data for weekends when BTC trades\n",
    "# read symbols in file to list syms_in_file\n",
    "# download OHLCV data for symbols in syms_in_file\n",
    "# drop symbols with all NaN in OHLCV columns from df\n",
    "# rename column names from ['Open', ..., 'Volume'] to ['open', ..., 'volume']\n",
    "# drop weekend data by reindex to date index of index_symbol\n",
    "# pickled df_adjOHLCV_all_dates\n",
    "# pickled df_adjOHLCV\n",
    "# pickled symbols_df_adjOHLCV\n",
    "# create df_symbols_close, sort df by symbols\n",
    "# pickled df_symbols_close"
   ]
  },
  {
   "cell_type": "code",
   "execution_count": null,
   "metadata": {},
   "outputs": [],
   "source": [
    "# https://stackoverflow.com/questions/67690778/how-to-detect-failed-downloads-using-yfinance\n",
    "import yfinance as yf\n",
    "import yfinance.shared as shared\n",
    "import time\n",
    "import pandas as pd\n",
    "from random import randint\n",
    "from datetime import date, timedelta, datetime\n",
    "from myUtils import pickle_dump, pickle_load, read_symbols_file # NOQA\n",
    "\n",
    "# from myUtils import drop_symbols_all_NaN, yf_symbols_close, chunked_list # NOQA\n",
    "from myUtils import drop_symbols_all_NaN, yf_symbols_close_1, chunked_list # NOQA\n",
    "\n",
    "from myUtils import yf_download_AdjOHLCV, yf_download_AdjOHLCV_noAutoAdj\n",
    "verbose = False  # True prints more output\n",
    "# verbose = True  # True prints more output\n",
    "\n",
    "path_dir = \"C:/Users/ping/MyDrive/stocks/yfinance/\"\n",
    "path_data_dump = path_dir + \"VSCode_dump/\"\n",
    "\n",
    "# filename_symbols = path_data_dump + 'symbols_mktCap_2b.csv'  # symbols text file\n",
    "filename_symbols = path_data_dump + 'vg_symbols_4chars_max.csv'  # symbols text file\n",
    "filename_pickled_df_adjOHLCVA_downloaded = 'df_adjOHLCVA_downloaded'  # OHLCVA downloaded from Yahoo\n",
    "filename_pickled_df_adjOHLCV = 'df_adjOHLCV'  # adjusted OHLCV\n",
    "filename_pickled_df_symbols_close = \"df_symbols_close\"  # adjusted close\n",
    "filename_pickled_symbols_df_adjOHLCV =  'symbols_df_adjOHLCV'  # symbols in adjOHLCV"
   ]
  },
  {
   "cell_type": "code",
   "execution_count": null,
   "metadata": {},
   "outputs": [],
   "source": [
    "# https://github.com/ranaroussi/yfinance/issues/687\n",
    "def auto_adjust(data):\n",
    "    df = data.copy()\n",
    "    ratio = df[\"Close\"] / df[\"Adj Close\"]\n",
    "    df[\"Adj Open\"] = df[\"Open\"] / ratio\n",
    "    df[\"Adj High\"] = df[\"High\"] / ratio\n",
    "    df[\"Adj Low\"] = df[\"Low\"] / ratio\n",
    "\n",
    "    df.drop(\n",
    "        [\"Open\", \"High\", \"Low\", \"Close\"],\n",
    "        axis=1, inplace=True)\n",
    "\n",
    "    df.rename(columns={\n",
    "        \"Adj Open\": \"Open\", \"Adj High\": \"High\",\n",
    "        \"Adj Low\": \"Low\", \"Adj Close\": \"Close\"\n",
    "    }, inplace=True)\n",
    "\n",
    "    # df = df[[\"Open\", \"High\", \"Low\", \"Close\", \"Volume\"]]\n",
    "    return df[[\"Open\", \"High\", \"Low\", \"Close\", \"Volume\"]]"
   ]
  },
  {
   "cell_type": "code",
   "execution_count": null,
   "metadata": {},
   "outputs": [],
   "source": [
    "# # Stop if Yahoo has not updated OHLCV data\n",
    "# index_symbol = \"XOM\"  \n",
    "# df_XOM = yf.download(index_symbol)\n",
    "# download_last_date = df_XOM.index[-1].strftime('%Y-%m-%d')\n",
    "\n",
    "# # yesterday = str(date.today() - timedelta(days = 1))\n",
    "# # if yesterday == download_last_date:\n",
    "# print(f'Yahoo data date: {download_last_date}, today: {str(date.today())}, weekday: {now.weekday()}')\n",
    "# now = datetime.now()  # get current date and time\n",
    "# if str(date.today()) == download_last_date and (now.weekday() != 5 or now.weekday() != 6):\n",
    "  \n",
    "#   msg_stop = f'Yahoo has not updated OHLCV data, today: {str(date.today())}, Yahoo download last date: {download_last_date}'\n",
    "#   raise SystemExit(msg_stop)"
   ]
  },
  {
   "cell_type": "code",
   "execution_count": null,
   "metadata": {},
   "outputs": [],
   "source": [
    "index_symbol = \"XOM\"  \n",
    "df_XOM = yf.download(index_symbol)\n",
    "download_last_date = df_XOM.index[-1].strftime('%Y-%m-%d')\n",
    "print(f\"Full path to pickled df_adjOHLCV:  {path_data_dump}{filename_pickled_df_adjOHLCV}\")\n",
    "df = pickle_load(path_data_dump, filename_pickled_df_adjOHLCV, verbose=verbose)\n",
    "df_adjOHLCV_last_date = df.index[-1].strftime('%Y-%m-%d')\n",
    "if download_last_date == df_adjOHLCV_last_date:\n",
    "  msg_stop = f\"df_adjOHLCV is up-to-date,\\nlast date from df_adjOHLCV is {df_adjOHLCV_last_date},\\nlast date from Yahoo's {index_symbol} download is {download_last_date}\"\n",
    "  raise SystemExit(msg_stop )"
   ]
  },
  {
   "cell_type": "code",
   "execution_count": null,
   "metadata": {},
   "outputs": [],
   "source": [
    "# read symbols in file to a list\n",
    "symbols_in_file = read_symbols_file(filename_symbols)\n",
    "symbols_chunks = chunked_list(symbols_in_file, 400)  # e.g. [['A', 'BB', ...], ['CC', 'DD', ...], ..., ['Z', 'ZWS', ...]]"
   ]
  },
  {
   "cell_type": "code",
   "execution_count": null,
   "metadata": {},
   "outputs": [],
   "source": [
    "df_list=[]\n",
    "symbols_download_err = []\n",
    "# took 24 minutes to download 1917 symbols without error caused by Yahoo\n",
    "# for i, symbols in enumerate(symbols_chunks):\n",
    "for i, symbols in enumerate(symbols_chunks):\n",
    "  df = yf_download_AdjOHLCV_noAutoAdj(symbols, verbose=False)  \n",
    "  symbols_download_err.append(list(shared._ERRORS.keys()))\n",
    "  print(f'symbols_download_err: {symbols_download_err}')\n",
    "  df_list.append(df)\n",
    "  # pause between download\n",
    "  if i < len(symbols_chunks) - 1 :  # skip pause after last download\n",
    "    print(f'downloaded symbols from chuck {i}, sleep start')\n",
    "    # sleep 78(18m 25s)\n",
    "    time.sleep(78)\n",
    "    print(f'downloaded symbols from chuck {i}, sleep ends')\n",
    "  else:\n",
    "    print(f'downloaded symbols from all chucks')\n",
    "\n",
    "print(f'symbols_download_err: {symbols_download_err}')"
   ]
  },
  {
   "cell_type": "code",
   "execution_count": null,
   "metadata": {},
   "outputs": [],
   "source": [
    "# flatten symbols_download_err which is a list-of-lists\n",
    "l_symbols_err = [val for sublist in symbols_download_err for val in sublist]\n",
    "l_symbols_err \n"
   ]
  },
  {
   "cell_type": "code",
   "execution_count": null,
   "metadata": {},
   "outputs": [],
   "source": [
    "df = pd.concat(df_list, axis=1)"
   ]
  },
  {
   "cell_type": "code",
   "execution_count": null,
   "metadata": {},
   "outputs": [],
   "source": [
    "df"
   ]
  },
  {
   "cell_type": "code",
   "execution_count": null,
   "metadata": {},
   "outputs": [],
   "source": [
    "df.drop(l_symbols_err, axis=1, level=0, inplace=True)"
   ]
  },
  {
   "cell_type": "code",
   "execution_count": null,
   "metadata": {},
   "outputs": [],
   "source": [
    "# df.columns\n",
    "l_symbols = list(set(df.columns.get_level_values(0)))\n",
    "l_symbols.sort()\n",
    "l_symbols"
   ]
  },
  {
   "cell_type": "code",
   "execution_count": null,
   "metadata": {},
   "outputs": [],
   "source": [
    "#sort columns by names\n",
    "df = df[l_symbols]\n",
    "df"
   ]
  },
  {
   "cell_type": "code",
   "execution_count": null,
   "metadata": {},
   "outputs": [],
   "source": [
    "pickle_dump(df, path_data_dump, filename_pickled_df_adjOHLCVA_downloaded)"
   ]
  },
  {
   "cell_type": "code",
   "execution_count": null,
   "metadata": {},
   "outputs": [],
   "source": [
    "df"
   ]
  },
  {
   "cell_type": "code",
   "execution_count": null,
   "metadata": {},
   "outputs": [],
   "source": [
    "# l_symbols = list(set(df.columns.get_level_values(0)))\n",
    "# l_symbols.sort()\n",
    "df_adj_list=[]\n",
    "# adjust OHLC\n",
    "for symbol in l_symbols:\n",
    "  _df = auto_adjust(df[symbol])\n",
    "  df_adj_list.append(_df)"
   ]
  },
  {
   "cell_type": "code",
   "execution_count": null,
   "metadata": {},
   "outputs": [],
   "source": [
    "df_adj = pd.concat(df_adj_list, axis=1)\n",
    "cols = ['Open', 'High', 'Low', 'Close', 'Volume']\n",
    "# create multilevel column names\n",
    "col_names = pd.MultiIndex.from_product([l_symbols, cols])\n",
    "df_adj.columns = col_names"
   ]
  },
  {
   "cell_type": "code",
   "execution_count": null,
   "metadata": {},
   "outputs": [],
   "source": [
    "pickle_dump(df_adj, path_data_dump, filename_pickled_df_adjOHLCV)"
   ]
  },
  {
   "cell_type": "code",
   "execution_count": null,
   "metadata": {},
   "outputs": [],
   "source": []
  },
  {
   "cell_type": "code",
   "execution_count": null,
   "metadata": {},
   "outputs": [],
   "source": [
    "# verify df test_symbols' close against Yahoo\n",
    "test_symbols = ['A', 'SHEL', 'YUM']\n",
    "# test_symbols = ['A', 'YUM']\n",
    "# test_symbols = ['AAPL']\n",
    "now = datetime.now()  # get current date and time\n",
    "# if now.hour >= 20:  # only run this test after 8 pm when Yahoo data should be updated\n",
    "#  run this test after 8 pm or on the weekend when Yahoo data should be updated\n",
    "\n",
    "# if (now.hour >= 20) or now.weekday() == 5 or now.weekday() == 6:\n",
    "if (now.hour >= 0) or now.weekday() == 5 or now.weekday() == 6:\n",
    "  for symbol in test_symbols:\n",
    "    s = df_adj.iloc[-222]\n",
    "    sDate = s.name.strftime('%Y-%m-%d')\n",
    "\n",
    "    sClose = s[symbol].Close\n",
    "    df_sym = yf.Ticker(symbol).history(period='2y')\n",
    "    # 10:45PM got Adj Close\n",
    "    yhClose = df_sym.loc[sDate]['Close']\n",
    "    abs_pct_diff = abs(1 - sClose/yhClose)*100\n",
    "    print(f'symbol:  {symbol:>4}   Date: {sDate:13}df_Close: {sClose:>10.5f} \\\n",
    "    Yahoo_Close: {yhClose:>10.5f}   %_dif_Close: {abs_pct_diff:>7.5f}')\n",
    "    if abs_pct_diff > .0001:\n",
    "      msg_stop = f'{symbol}  %_dif_Close > .0001'\n",
    "      raise SystemExit(msg_stop)\n",
    "    if symbol == test_symbols[-1]:\n",
    "      msg_done = f\"No errors found.  df test_symbols' Close matched Yahoo symbols' Close \"\n",
    "      print(msg_done)\n",
    "else:\n",
    "  print(f\"Did not verify df test_symbols' close against Yahoo.  It's not 8 PM yet. Yahoo may not have updated their data.\")"
   ]
  },
  {
   "cell_type": "code",
   "execution_count": null,
   "metadata": {},
   "outputs": [],
   "source": [
    "print('Yahoo Website using yf.Ticker, close seems to be an Adjusted Close')\n",
    "df_sym.loc['2021-12-18':'2021-12-26']"
   ]
  },
  {
   "cell_type": "code",
   "execution_count": null,
   "metadata": {},
   "outputs": [],
   "source": [
    "df = yf_download_AdjOHLCV_noAutoAdj(test_symbols, verbose=False)  "
   ]
  },
  {
   "cell_type": "code",
   "execution_count": null,
   "metadata": {},
   "outputs": [],
   "source": [
    "df"
   ]
  },
  {
   "cell_type": "code",
   "execution_count": null,
   "metadata": {},
   "outputs": [],
   "source": []
  },
  {
   "cell_type": "code",
   "execution_count": null,
   "metadata": {},
   "outputs": [],
   "source": [
    "_df = df.SHEL\n",
    "print('My Yahoo Download OHLCVA')\n",
    "_df.loc['2021-12-18':'2021-12-26']"
   ]
  },
  {
   "cell_type": "code",
   "execution_count": null,
   "metadata": {},
   "outputs": [],
   "source": [
    "print('My auto_adjust of OHLCVA')\n",
    "df_adj.YUM.loc['2021-12-18':'2021-12-26']"
   ]
  },
  {
   "cell_type": "code",
   "execution_count": null,
   "metadata": {},
   "outputs": [],
   "source": []
  },
  {
   "cell_type": "code",
   "execution_count": null,
   "metadata": {},
   "outputs": [],
   "source": [
    "print(f\"Full path to pickled df_adjOHLCV_downloaded:  {path_data_dump}{filename_pickled_df_adjOHLCV_downloaded}\")\n",
    "pickle_dump(df, path_data_dump, filename_pickled_df_adjOHLCV_downloaded, verbose=verbose)"
   ]
  },
  {
   "cell_type": "code",
   "execution_count": null,
   "metadata": {},
   "outputs": [],
   "source": []
  },
  {
   "cell_type": "code",
   "execution_count": null,
   "metadata": {},
   "outputs": [],
   "source": [
    "df = pickle_load(path_data_dump, filename_pickled_df_adjOHLCV_downloaded)\n",
    "df"
   ]
  },
  {
   "cell_type": "code",
   "execution_count": null,
   "metadata": {},
   "outputs": [],
   "source": [
    "df.AAPL"
   ]
  },
  {
   "cell_type": "code",
   "execution_count": null,
   "metadata": {},
   "outputs": [],
   "source": [
    "# sort df by symbol\n",
    "df_adjOHLCV_all_dates = df.sort_index(axis=1,level=0,sort_remaining=False)"
   ]
  },
  {
   "cell_type": "code",
   "execution_count": null,
   "metadata": {},
   "outputs": [],
   "source": [
    "# drop symbols with all NaN in OHLCV columns from df\n",
    "df_adjOHLCV_all_dates, symbols_OHLCV, symbols_dropped = drop_symbols_all_NaN(df_adjOHLCV_all_dates, verbose)\n",
    "# print(f'symbols_OHLCV: {symbols_OHLCV}')\n",
    "print(f'symbols with all NaN dropped from df_adjOHLCV_all_dates: {symbols_dropped}')"
   ]
  },
  {
   "cell_type": "code",
   "execution_count": null,
   "metadata": {},
   "outputs": [],
   "source": [
    "df_adjOHLCV_all_dates.AAPL"
   ]
  },
  {
   "cell_type": "code",
   "execution_count": null,
   "metadata": {},
   "outputs": [],
   "source": [
    "# # rename columns OHLCV *ONLY AFTER* dropping symbols with all NaN from df,\n",
    "# #   symbols with all NaN has an added AdjClose column and will cause errors  \n",
    "# #  rename column names from ['Open', ..., 'Volume'] to ['open', ..., 'volume']\n",
    "# #  .remove_unused_levels() prevents ValueError\n",
    "# #   e.g ValueError: On level 1, code max (5) >= length of level (5). NOTE: this index is in an inconsistent state\n",
    "# # The error may be caused by removing symbols from the dataframe with all NaN in OHLCV columns\n",
    "# df_adjOHLCV_all_dates.columns = df_adjOHLCV_all_dates.columns.remove_unused_levels()\n",
    "# # set_levels reorders df columns in alphabetical order, so the list of column names also needs to be in alphabetical order\n",
    "# df_adjOHLCV_all_dates.columns = df_adjOHLCV_all_dates.columns.set_levels(['close', 'high', 'low', 'open', 'volume'], level=1)"
   ]
  },
  {
   "cell_type": "code",
   "execution_count": null,
   "metadata": {},
   "outputs": [],
   "source": [
    "# drop weekend data by re-indexing to date-index of index_symbol\n",
    "myNaN = float('nan')\n",
    "# use Exxon's date as proxy for NYSE trading dates\n",
    "df_adjOHLCV = df_adjOHLCV_all_dates.reindex(df_XOM.index, fill_value=myNaN)"
   ]
  },
  {
   "cell_type": "code",
   "execution_count": null,
   "metadata": {},
   "outputs": [],
   "source": [
    "# pickle df_adjOHLCV and symbols\n",
    "# print(f\"Full path to pickled df_adjOHLCV_downloaded:  {path_data_dump}{filename_pickled_df_adjOHLCV_downloaded}\")\n",
    "# pickle_dump(df_adjOHLCV_downloaded, path_data_dump, filename_pickled_df_adjOHLCV_downloaded, verbose=verbose)\n",
    "print(f\"Full path to pickled df_adjOHLCV:  {path_data_dump}{filename_pickled_df_adjOHLCV}\")\n",
    "pickle_dump(df_adjOHLCV, path_data_dump, filename_pickled_df_adjOHLCV, verbose=verbose)\n",
    "print(f\"Full path to pickled symbols_df_adjOHLCV:  {path_data_dump}{filename_pickled_symbols_df_adjOHLCV}\")\n",
    "pickle_dump(symbols_OHLCV, path_data_dump, filename_pickled_symbols_df_adjOHLCV, verbose=verbose)"
   ]
  },
  {
   "cell_type": "code",
   "execution_count": null,
   "metadata": {},
   "outputs": [],
   "source": [
    "_df = df_adjOHLCV.copy()"
   ]
  },
  {
   "cell_type": "code",
   "execution_count": null,
   "metadata": {},
   "outputs": [],
   "source": [
    "symbols_OHLCV = list(set([i[0] for i in list(_df)]))"
   ]
  },
  {
   "cell_type": "code",
   "execution_count": null,
   "metadata": {},
   "outputs": [],
   "source": [
    "_df_symbols_close = _df.xs('Close', level=1, axis=1)\n",
    "_df_symbols_close"
   ]
  },
  {
   "cell_type": "code",
   "execution_count": null,
   "metadata": {},
   "outputs": [],
   "source": [
    "# create df of symbols' Close, sort df by symbols, pickled df\n",
    "df_symbols_close, dates_dropped, symbols_OHLCV, symbols_dropped = yf_symbols_close_1(\n",
    "    path_dir,\n",
    "    path_data_dump,\n",
    "    filename_pickled_df_adjOHLCV,\n",
    "    verbose=verbose,\n",
    ")\n",
    "# multi-index sort df by symbol\n",
    "df_symbols_close = df_symbols_close.sort_index(axis=1,level=0,sort_remaining=False)\n",
    "print(f\"Full path to pickled df_symbols_close:  {path_data_dump}{filename_pickled_df_symbols_close}\")\n",
    "pickle_dump(df_symbols_close, path_data_dump, filename_pickled_df_symbols_close, verbose=verbose)"
   ]
  },
  {
   "cell_type": "code",
   "execution_count": null,
   "metadata": {},
   "outputs": [],
   "source": [
    "# retrieve pickled files\n",
    "# print(f\"Full path to pickled df_adjOHLCV_all_dates:  {path_data_dump}{filename_pickled_df_adjOHLCV_all_dates}\")\n",
    "# # df_all_dates = pickle_load(path_data_dump, filename_pickled_df_adjOHLCV_all_dates, verbose=verbose)\n",
    "\n",
    "print(f\"Full path to pickled df_adjOHLCV_downloaded:  {path_data_dump}{filename_pickled_df_adjOHLCV_downloaded}\")\n",
    "df_adjOHLCV_downloaded = pickle_load(path_data_dump, filename_pickled_df_adjOHLCV_downloaded, verbose=verbose)\n",
    "print(f\"Full path to pickled df_adjOHLCV:  {path_data_dump}{filename_pickled_df_adjOHLCV}\")\n",
    "df = pickle_load(path_data_dump, filename_pickled_df_adjOHLCV, verbose=verbose)\n",
    "print(f\"Full path to pickled symbols_df_adjOHLCV:  {path_data_dump}{filename_pickled_symbols_df_adjOHLCV}\")\n",
    "df_close = pickle_load(path_data_dump, filename_pickled_df_symbols_close, verbose=verbose)\n",
    "print(f\"Full path to pickled df_symbols_close:  {path_data_dump}{filename_pickled_df_symbols_close}\")\n",
    "symbols_df = pickle_load(path_data_dump, filename_pickled_symbols_df_adjOHLCV, verbose=verbose)"
   ]
  },
  {
   "cell_type": "code",
   "execution_count": null,
   "metadata": {},
   "outputs": [],
   "source": [
    "df\n",
    "# df_symbols_close"
   ]
  },
  {
   "cell_type": "code",
   "execution_count": null,
   "metadata": {},
   "outputs": [],
   "source": [
    "df.columns"
   ]
  },
  {
   "cell_type": "code",
   "execution_count": null,
   "metadata": {},
   "outputs": [],
   "source": [
    "df.AAPL"
   ]
  },
  {
   "cell_type": "code",
   "execution_count": null,
   "metadata": {},
   "outputs": [],
   "source": [
    "_df1 = df_adjOHLCV_downloaded\n",
    "_df1\n",
    "_df_cl = _df1.xs('Close', level=1, axis=1)\n",
    "_df_cl"
   ]
  },
  {
   "cell_type": "code",
   "execution_count": null,
   "metadata": {},
   "outputs": [],
   "source": [
    "yf_aapl = yf.download('AAPL')"
   ]
  },
  {
   "cell_type": "code",
   "execution_count": null,
   "metadata": {},
   "outputs": [],
   "source": [
    "yf_aapl"
   ]
  },
  {
   "cell_type": "code",
   "execution_count": null,
   "metadata": {},
   "outputs": [],
   "source": [
    "df_adjOHLCV_downloaded.columns"
   ]
  }
 ],
 "metadata": {
  "kernelspec": {
   "display_name": "Python 3.7.9 ('.venv': poetry)",
   "language": "python",
   "name": "python3"
  },
  "language_info": {
   "codemirror_mode": {
    "name": "ipython",
    "version": 3
   },
   "file_extension": ".py",
   "mimetype": "text/x-python",
   "name": "python",
   "nbconvert_exporter": "python",
   "pygments_lexer": "ipython3",
   "version": "3.7.9"
  },
  "orig_nbformat": 4,
  "vscode": {
   "interpreter": {
    "hash": "55a3812d65f91e7e7447da6b5cfc60716e82f91e6a92533fb27b46796ad1962a"
   }
  }
 },
 "nbformat": 4,
 "nbformat_minor": 2
}
