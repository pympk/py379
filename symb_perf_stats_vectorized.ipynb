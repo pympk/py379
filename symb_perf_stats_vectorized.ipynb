{
 "cells": [
  {
   "cell_type": "code",
   "execution_count": null,
   "metadata": {
    "tags": []
   },
   "outputs": [],
   "source": [
    "import pandas as pd\n",
    "from myUtils import pickle_load, symb_perf_stats, symb_perf_stats_vectorized\n",
    "\n",
    "# from symb_perf_stats_vectorized import symb_perf_stats_vectorized\n",
    "# path_close = 'C:/Users/ping/Desktop/test/VSCode_dump/'\n",
    "file_close = 'df_symbols_close'\n",
    "path_dir = \"C:/Users/ping/MyDrive/stocks/yfinance\"\n",
    "path_data_dump = path_dir + \"/VSCode_dump/\"\n",
    "\n",
    "df_close = pickle_load(path_data_dump, file_close)\n",
    "df_close = df_close['2021-10-30':'2022-10-29']\n",
    "format1 = 'df_close({}):\\n{}\\n{}'.format(len(df_close), df_close.head(3), df_close.tail(3))\n",
    "print(format1)"
   ]
  },
  {
   "cell_type": "code",
   "execution_count": null,
   "metadata": {
    "tags": []
   },
   "outputs": [],
   "source": [
    "# %%timeit\n",
    "caches_perf_stats = []\n",
    "for symbol in df_close.columns:\n",
    "    close = df_close[symbol].values\n",
    "    date_first = df_close.index[0].strftime('%Y-%m-%d')\n",
    "    date_last = df_close.index[-1].strftime('%Y-%m-%d')\n",
    "    year, CAGR, CAGR_Std, CAGR_UI, return_std, Std_UI, DD, UI, MDD = symb_perf_stats(close)\n",
    "#     print('symbol: {}'.format(symbol))\n",
    "#     print('year: {:<10.6f}, CAGR: {:<10.6f}, CAGR_Std: {:<10.6f}, CAGR_UI: {:<10.6f}'\n",
    "#           .format(year, CAGR, CAGR_Std, CAGR_UI))\n",
    "#     print('return_std: {:<10.6f}, Std_UI: {:<10.6f}, UI: {:<10.6f}, MDD: {:<10.6f}'\n",
    "#           .format(return_std, Std_UI, UI, MDD))\n",
    "#     print('DD:\\n{}\\n{}\\n{}\\n{}\\n'.format(DD[:3], DD[-3:], len(DD), type(DD)))\n",
    "    cache = (symbol, date_first, date_last, year, CAGR,\n",
    "             UI, Std_UI, CAGR_Std, CAGR_UI)\n",
    "    # append performance data (tuple) to caches_perf_stats (list)\n",
    "    caches_perf_stats.append(cache)\n",
    "column_names = ['symbol', 'first date', 'last date', 'Year', 'CAGR',\n",
    "                'UI', 'Std/UI', 'CAGR/Std', 'CAGR/UI']\n",
    "# write symbols' performance stats to dataframe\n",
    "df_perf_stats = pd.DataFrame(caches_perf_stats, columns=column_names)"
   ]
  },
  {
   "cell_type": "code",
   "execution_count": null,
   "metadata": {
    "tags": []
   },
   "outputs": [],
   "source": [
    "# print(df_perf_stats.head(), '\\n')\n",
    "# print(df_perf_stats.tail())"
   ]
  },
  {
   "cell_type": "code",
   "execution_count": null,
   "metadata": {
    "tags": []
   },
   "outputs": [],
   "source": [
    "# %%timeit\n",
    "symbols, period_yr, drawdown, UI, max_drawdown, returns_std, Std_UI, CAGR, CAGR_Std, CAGR_UI = \\\n",
    "    symb_perf_stats_vectorized(df_close)\n",
    "caches_perf_stats_vect = []\n",
    "for symbol in symbols:\n",
    "    date_first = drawdown.index[0].strftime('%Y-%m-%d')\n",
    "    date_last = drawdown.index[-1].strftime('%Y-%m-%d')\n",
    "    cache = (symbol, date_first, date_last, period_yr, CAGR[symbol],\n",
    "             UI[symbol], Std_UI[symbol], CAGR_Std[symbol], CAGR_UI[symbol])\n",
    "    # append performance data (tuple) to caches_perf_stats (list)\n",
    "    caches_perf_stats_vect.append(cache)\n",
    "column_names = ['symbol', 'first date', 'last date', 'Year', 'CAGR',\n",
    "                'UI', 'Std/UI', 'CAGR/Std', 'CAGR/UI']\n",
    "# write symbols' performance stats to dataframe\n",
    "df_perf_stats_vect = pd.DataFrame(caches_perf_stats_vect, columns=column_names)\n",
    "\n",
    "# print('symbols({}):\\n{}\\n'.format(type(symbols), symbols))\n",
    "# print('period_yr({}): {:<10.6f}\\n'.format(type(period_yr), period_yr))  \n",
    "# print('drawdown({}):\\n{}\\n'.format(type(drawdown), drawdown))\n",
    "# print('UI({}):\\n{}\\n'.format(type(UI), UI))\n",
    "# print('max_drawdown({}):\\n{}\\n'.format(type(max_drawdown), max_drawdown))\n",
    "# print('returns_std({}):\\n{}\\n'.format(type(returns_std), returns_std))\n",
    "# print('Std_UI({}):\\n{}\\n'.format(type(Std_UI), Std_UI))\n",
    "# print('CAGR({}):\\n{}\\n'.format(type(CAGR), CAGR))\n",
    "# print('CAGR_Std({}):\\n{}\\n'.format(type(CAGR_Std), CAGR_Std))\n",
    "# print('CAGR_UI({}):\\n{}\\n'.format(type(CAGR_UI), CAGR_UI))\n",
    "# print('CAGR[\"XOM\"]: {}'.format(CAGR['XOM']))\n"
   ]
  },
  {
   "cell_type": "code",
   "execution_count": null,
   "metadata": {
    "tags": []
   },
   "outputs": [],
   "source": [
    "print(f'df_perf_stats.head():\\n{df_perf_stats.head()}\\n')\n",
    "print(f'df_perf_stats_vect.head():\\n{df_perf_stats_vect.head()}\\n')\n",
    "print(f'df_perf_stats.tail():\\n{df_perf_stats.tail()}\\n')\n",
    "print(f'df_perf_stats_vect.tail():\\n{df_perf_stats_vect.tail()}\\n')"
   ]
  },
  {
   "cell_type": "code",
   "execution_count": null,
   "metadata": {},
   "outputs": [],
   "source": [
    "df_perf_stats_vect.head(50)"
   ]
  }
 ],
 "metadata": {
  "kernelspec": {
   "display_name": "Python 3.7.9 ('.venv': poetry)",
   "language": "python",
   "name": "python3"
  },
  "language_info": {
   "codemirror_mode": {
    "name": "ipython",
    "version": 3
   },
   "file_extension": ".py",
   "mimetype": "text/x-python",
   "name": "python",
   "nbconvert_exporter": "python",
   "pygments_lexer": "ipython3",
   "version": "3.7.9"
  },
  "orig_nbformat": 2,
  "vscode": {
   "interpreter": {
    "hash": "d848e2535a99fe7c7346179acd9000b04da131f0f89ee41d962201c665cb28e1"
   }
  }
 },
 "nbformat": 4,
 "nbformat_minor": 2
}
