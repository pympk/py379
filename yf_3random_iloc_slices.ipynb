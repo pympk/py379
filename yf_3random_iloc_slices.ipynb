{
 "cells": [
  {
   "cell_type": "code",
   "execution_count": 1,
   "metadata": {},
   "outputs": [],
   "source": [
    "# https://stats.stackexchange.com/questions/346907/splitting-time-series-data-into-train-test-validation-sets"
   ]
  },
  {
   "cell_type": "code",
   "execution_count": 2,
   "metadata": {},
   "outputs": [],
   "source": [
    "import numpy as np\n",
    "import pandas as pd\n",
    "from random import randint\n",
    "from myUtils import pickle_dump\n",
    "\n",
    "path_dir = \"C:/Users/ping/MyDrive/stocks/yfinance/\"\n",
    "path_data_dump = path_dir + \"VSCode_dump/\""
   ]
  },
  {
   "cell_type": "code",
   "execution_count": 3,
   "metadata": {},
   "outputs": [],
   "source": [
    "\n",
    "#create DataFrame\n",
    "df = pd.DataFrame(np.arange(0,1000), columns=list('A'))"
   ]
  },
  {
   "cell_type": "code",
   "execution_count": 4,
   "metadata": {},
   "outputs": [
    {
     "name": "stdout",
     "output_type": "stream",
     "text": [
      "days_lookback: 120, days_eval: 20, days_total: 140, len(df): 1000\n"
     ]
    }
   ],
   "source": [
    "n_sample = 0\n",
    "n_samples = 100\n",
    "days_lookback = 120\n",
    "days_eval = 20\n",
    "days_total = days_lookback + days_eval\n",
    "print(f'days_lookback: {days_lookback}, days_eval: {days_eval}, days_total: {days_total}, len(df): {len(df)}')\n",
    "\n",
    "if days_total > len(df):\n",
    "  msg_err = f'days_total: {days_total} must be less or equal to len(df): {len(df)}'\n",
    "  raise SystemExit(msg_err)\n",
    "\n",
    "# random slices of iloc for train and eval that fits the days_lookback, days_eval and total len(df) constraints\n",
    "l_slices = []  \n",
    "while n_sample < n_samples:\n",
    "  n_rand = randint(0, 250-1)\n",
    "  start_train = n_rand - days_lookback\n",
    "  end_train = n_rand\n",
    "  start_eval = n_rand\n",
    "  end_eval = n_rand + days_eval\n",
    "  if 0 <= start_train and end_eval <= len(df):\n",
    "    l_slices.append((start_train, end_train, end_eval))\n",
    "    # print(f'n_rand: {n_rand:>3},    start_train: {start_train:>3},    end_train: {end_train:>3},    start_eval: {start_eval:>3},    end_eval: {end_eval:>3},    n_sample: {n_sample:>3}')\n",
    "    # ======== valid n_rand, do test and validation here ========\n",
    "    # ======== valid n_rand, do test and validation here ========\n",
    "    n_sample += 1  "
   ]
  },
  {
   "cell_type": "code",
   "execution_count": 5,
   "metadata": {},
   "outputs": [],
   "source": [
    "for l_slice in l_slices:\n",
    "  start_train = l_slice[0]\n",
    "  end_train = l_slice[1]\n",
    "  df_train = df.iloc[start_train:end_train]\n",
    "\n",
    "  start_eval = end_train\n",
    "  end_eval = l_slice[2]\n",
    "  df_eval = df.iloc[start_eval:end_eval]"
   ]
  },
  {
   "cell_type": "code",
   "execution_count": 6,
   "metadata": {},
   "outputs": [
    {
     "data": {
      "text/plain": [
       "[(5, 125, 145),\n",
       " (39, 159, 179),\n",
       " (6, 126, 146),\n",
       " (40, 160, 180),\n",
       " (116, 236, 256),\n",
       " (122, 242, 262),\n",
       " (64, 184, 204),\n",
       " (101, 221, 241),\n",
       " (119, 239, 259),\n",
       " (106, 226, 246),\n",
       " (66, 186, 206),\n",
       " (93, 213, 233),\n",
       " (127, 247, 267),\n",
       " (77, 197, 217),\n",
       " (86, 206, 226),\n",
       " (60, 180, 200),\n",
       " (9, 129, 149),\n",
       " (28, 148, 168),\n",
       " (118, 238, 258),\n",
       " (8, 128, 148),\n",
       " (75, 195, 215),\n",
       " (42, 162, 182),\n",
       " (105, 225, 245),\n",
       " (88, 208, 228),\n",
       " (127, 247, 267),\n",
       " (93, 213, 233),\n",
       " (28, 148, 168),\n",
       " (39, 159, 179),\n",
       " (23, 143, 163),\n",
       " (35, 155, 175),\n",
       " (27, 147, 167),\n",
       " (105, 225, 245),\n",
       " (1, 121, 141),\n",
       " (37, 157, 177),\n",
       " (105, 225, 245),\n",
       " (28, 148, 168),\n",
       " (19, 139, 159),\n",
       " (32, 152, 172),\n",
       " (11, 131, 151),\n",
       " (30, 150, 170),\n",
       " (27, 147, 167),\n",
       " (93, 213, 233),\n",
       " (121, 241, 261),\n",
       " (17, 137, 157),\n",
       " (97, 217, 237),\n",
       " (129, 249, 269),\n",
       " (30, 150, 170),\n",
       " (81, 201, 221),\n",
       " (122, 242, 262),\n",
       " (60, 180, 200),\n",
       " (23, 143, 163),\n",
       " (111, 231, 251),\n",
       " (9, 129, 149),\n",
       " (109, 229, 249),\n",
       " (15, 135, 155),\n",
       " (100, 220, 240),\n",
       " (43, 163, 183),\n",
       " (80, 200, 220),\n",
       " (66, 186, 206),\n",
       " (53, 173, 193),\n",
       " (29, 149, 169),\n",
       " (13, 133, 153),\n",
       " (63, 183, 203),\n",
       " (13, 133, 153),\n",
       " (105, 225, 245),\n",
       " (89, 209, 229),\n",
       " (73, 193, 213),\n",
       " (18, 138, 158),\n",
       " (99, 219, 239),\n",
       " (29, 149, 169),\n",
       " (81, 201, 221),\n",
       " (15, 135, 155),\n",
       " (107, 227, 247),\n",
       " (66, 186, 206),\n",
       " (125, 245, 265),\n",
       " (113, 233, 253),\n",
       " (20, 140, 160),\n",
       " (114, 234, 254),\n",
       " (37, 157, 177),\n",
       " (0, 120, 140),\n",
       " (111, 231, 251),\n",
       " (62, 182, 202),\n",
       " (20, 140, 160),\n",
       " (77, 197, 217),\n",
       " (39, 159, 179),\n",
       " (123, 243, 263),\n",
       " (3, 123, 143),\n",
       " (84, 204, 224),\n",
       " (90, 210, 230),\n",
       " (102, 222, 242),\n",
       " (67, 187, 207),\n",
       " (6, 126, 146),\n",
       " (77, 197, 217),\n",
       " (70, 190, 210),\n",
       " (9, 129, 149),\n",
       " (107, 227, 247),\n",
       " (9, 129, 149),\n",
       " (30, 150, 170),\n",
       " (12, 132, 152),\n",
       " (100, 220, 240)]"
      ]
     },
     "execution_count": 6,
     "metadata": {},
     "output_type": "execute_result"
    }
   ],
   "source": [
    "pickle_dump(l_slices, path_data_dump, 'l_slices')\n",
    "l_slices"
   ]
  }
 ],
 "metadata": {
  "kernelspec": {
   "display_name": "Python 3.7.9 ('.venv': poetry)",
   "language": "python",
   "name": "python3"
  },
  "language_info": {
   "codemirror_mode": {
    "name": "ipython",
    "version": 3
   },
   "file_extension": ".py",
   "mimetype": "text/x-python",
   "name": "python",
   "nbconvert_exporter": "python",
   "pygments_lexer": "ipython3",
   "version": "3.7.9"
  },
  "orig_nbformat": 4,
  "vscode": {
   "interpreter": {
    "hash": "d848e2535a99fe7c7346179acd9000b04da131f0f89ee41d962201c665cb28e1"
   }
  }
 },
 "nbformat": 4,
 "nbformat_minor": 2
}
