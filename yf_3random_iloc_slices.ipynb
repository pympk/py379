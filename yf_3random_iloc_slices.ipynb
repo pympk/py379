{
 "cells": [
  {
   "cell_type": "code",
   "execution_count": 36,
   "metadata": {},
   "outputs": [],
   "source": [
    "import numpy as np\n",
    "import pandas as pd\n",
    "from random import randint\n",
    "from myUtils import pickle_dump\n",
    "\n",
    "path_dir = \"C:/Users/ping/MyDrive/stocks/yfinance/\"\n",
    "path_data_dump = path_dir + \"VSCode_dump/\""
   ]
  },
  {
   "cell_type": "code",
   "execution_count": 37,
   "metadata": {},
   "outputs": [],
   "source": [
    "\n",
    "#create DataFrame\n",
    "df = pd.DataFrame(np.arange(0,1000), columns=list('A'))"
   ]
  },
  {
   "cell_type": "code",
   "execution_count": 38,
   "metadata": {},
   "outputs": [
    {
     "name": "stdout",
     "output_type": "stream",
     "text": [
      "days_train: 120, days_eval: 20, days_total: 140, len(df): 1000\n"
     ]
    }
   ],
   "source": [
    "n_sample = 0\n",
    "n_samples = 100\n",
    "days_train = 120\n",
    "days_eval = 20\n",
    "days_total = days_train + days_eval\n",
    "print(f'days_train: {days_train}, days_eval: {days_eval}, days_total: {days_total}, len(df): {len(df)}')\n",
    "\n",
    "if days_total > len(df):\n",
    "  msg_err = f'days_total: {days_total} must be less or equal to len(df): {len(df)}'\n",
    "  raise SystemExit(msg_err)\n",
    "\n",
    "# random slices of iloc for train and eval that fits the days_train, days_eval and total len(df) constraints\n",
    "l_slices = []  \n",
    "while n_sample < n_samples:\n",
    "  n_rand = randint(0, 250-1)\n",
    "  start_train = n_rand - days_train\n",
    "  end_train = n_rand\n",
    "  start_eval = n_rand\n",
    "  end_eval = n_rand + days_eval\n",
    "  if 0 <= start_train and end_eval <= len(df):\n",
    "    l_slices.append((start_train, end_train, end_eval))\n",
    "    # print(f'n_rand: {n_rand:>3},    start_train: {start_train:>3},    end_train: {end_train:>3},    start_eval: {start_eval:>3},    end_eval: {end_eval:>3},    n_sample: {n_sample:>3}')\n",
    "    # ======== valid n_rand, do test and validation here ========\n",
    "    # ======== valid n_rand, do test and validation here ========\n",
    "    n_sample += 1  "
   ]
  },
  {
   "cell_type": "code",
   "execution_count": 39,
   "metadata": {},
   "outputs": [],
   "source": [
    "for l_slice in l_slices:\n",
    "  start_train = l_slice[0]\n",
    "  end_train = l_slice[1]\n",
    "  df_train = df.iloc[start_train:end_train]\n",
    "\n",
    "  start_eval = end_train\n",
    "  end_eval = l_slice[2]\n",
    "  df_eval = df.iloc[start_eval:end_eval]"
   ]
  },
  {
   "cell_type": "code",
   "execution_count": 40,
   "metadata": {},
   "outputs": [
    {
     "data": {
      "text/plain": [
       "[(86, 206, 226),\n",
       " (46, 166, 186),\n",
       " (82, 202, 222),\n",
       " (31, 151, 171),\n",
       " (25, 145, 165),\n",
       " (18, 138, 158),\n",
       " (40, 160, 180),\n",
       " (54, 174, 194),\n",
       " (21, 141, 161),\n",
       " (51, 171, 191),\n",
       " (68, 188, 208),\n",
       " (96, 216, 236),\n",
       " (62, 182, 202),\n",
       " (71, 191, 211),\n",
       " (7, 127, 147),\n",
       " (72, 192, 212),\n",
       " (105, 225, 245),\n",
       " (120, 240, 260),\n",
       " (84, 204, 224),\n",
       " (24, 144, 164),\n",
       " (16, 136, 156),\n",
       " (118, 238, 258),\n",
       " (61, 181, 201),\n",
       " (86, 206, 226),\n",
       " (7, 127, 147),\n",
       " (52, 172, 192),\n",
       " (118, 238, 258),\n",
       " (83, 203, 223),\n",
       " (81, 201, 221),\n",
       " (77, 197, 217),\n",
       " (116, 236, 256),\n",
       " (31, 151, 171),\n",
       " (78, 198, 218),\n",
       " (95, 215, 235),\n",
       " (45, 165, 185),\n",
       " (96, 216, 236),\n",
       " (49, 169, 189),\n",
       " (18, 138, 158),\n",
       " (87, 207, 227),\n",
       " (91, 211, 231),\n",
       " (102, 222, 242),\n",
       " (61, 181, 201),\n",
       " (11, 131, 151),\n",
       " (80, 200, 220),\n",
       " (87, 207, 227),\n",
       " (32, 152, 172),\n",
       " (90, 210, 230),\n",
       " (113, 233, 253),\n",
       " (16, 136, 156),\n",
       " (0, 120, 140),\n",
       " (42, 162, 182),\n",
       " (6, 126, 146),\n",
       " (9, 129, 149),\n",
       " (44, 164, 184),\n",
       " (75, 195, 215),\n",
       " (125, 245, 265),\n",
       " (61, 181, 201),\n",
       " (89, 209, 229),\n",
       " (118, 238, 258),\n",
       " (12, 132, 152),\n",
       " (85, 205, 225),\n",
       " (5, 125, 145),\n",
       " (7, 127, 147),\n",
       " (100, 220, 240),\n",
       " (56, 176, 196),\n",
       " (12, 132, 152),\n",
       " (23, 143, 163),\n",
       " (26, 146, 166),\n",
       " (33, 153, 173),\n",
       " (107, 227, 247),\n",
       " (73, 193, 213),\n",
       " (116, 236, 256),\n",
       " (15, 135, 155),\n",
       " (94, 214, 234),\n",
       " (75, 195, 215),\n",
       " (53, 173, 193),\n",
       " (129, 249, 269),\n",
       " (23, 143, 163),\n",
       " (118, 238, 258),\n",
       " (38, 158, 178),\n",
       " (62, 182, 202),\n",
       " (110, 230, 250),\n",
       " (31, 151, 171),\n",
       " (87, 207, 227),\n",
       " (41, 161, 181),\n",
       " (100, 220, 240),\n",
       " (96, 216, 236),\n",
       " (98, 218, 238),\n",
       " (87, 207, 227),\n",
       " (86, 206, 226),\n",
       " (67, 187, 207),\n",
       " (106, 226, 246),\n",
       " (123, 243, 263),\n",
       " (97, 217, 237),\n",
       " (64, 184, 204),\n",
       " (107, 227, 247),\n",
       " (49, 169, 189),\n",
       " (100, 220, 240),\n",
       " (112, 232, 252),\n",
       " (119, 239, 259)]"
      ]
     },
     "execution_count": 40,
     "metadata": {},
     "output_type": "execute_result"
    }
   ],
   "source": [
    "pickle_dump(l_slices, path_data_dump, 'l_slices')\n",
    "l_slices"
   ]
  }
 ],
 "metadata": {
  "kernelspec": {
   "display_name": "Python 3.7.9 ('.venv': poetry)",
   "language": "python",
   "name": "python3"
  },
  "language_info": {
   "codemirror_mode": {
    "name": "ipython",
    "version": 3
   },
   "file_extension": ".py",
   "mimetype": "text/x-python",
   "name": "python",
   "nbconvert_exporter": "python",
   "pygments_lexer": "ipython3",
   "version": "3.7.9"
  },
  "orig_nbformat": 4,
  "vscode": {
   "interpreter": {
    "hash": "d848e2535a99fe7c7346179acd9000b04da131f0f89ee41d962201c665cb28e1"
   }
  }
 },
 "nbformat": 4,
 "nbformat_minor": 2
}
