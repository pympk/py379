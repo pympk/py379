{
 "cells": [
  {
   "cell_type": "code",
   "execution_count": 39,
   "metadata": {},
   "outputs": [],
   "source": [
    "from myUtils import pickle_load\n",
    "verbose = False  # True prints more output"
   ]
  },
  {
   "cell_type": "code",
   "execution_count": 40,
   "metadata": {},
   "outputs": [],
   "source": [
    "path_dir = \"C:/Users/ping/MyDrive/stocks/yfinance/\"\n",
    "path_data_dump = path_dir + \"VSCode_dump/\"\n",
    "filename_pickled_df_symbols_close = \"df_symbols_close\"  # pickled filename"
   ]
  },
  {
   "cell_type": "code",
   "execution_count": 41,
   "metadata": {},
   "outputs": [
    {
     "name": "stdout",
     "output_type": "stream",
     "text": [
      "Full path to pickled df_symbols_close:  C:/Users/ping/MyDrive/stocks/yfinance/VSCode_dump/df_symbols_close\n"
     ]
    }
   ],
   "source": [
    "# load df_symbols_close\n",
    "df = pickle_load(path_data_dump, filename_pickled_df_symbols_close, verbose=verbose)\n",
    "print(f\"Full path to pickled df_symbols_close:  {path_data_dump}{filename_pickled_df_symbols_close}\")\n",
    "df_orig = df.copy()  # backup df\n",
    "df = df.tail(252)  # keep only the last 252 days of data\n",
    "symbols_before_dropna = df.columns"
   ]
  },
  {
   "cell_type": "code",
   "execution_count": 42,
   "metadata": {},
   "outputs": [
    {
     "data": {
      "text/plain": [
       "(252, 1917)"
      ]
     },
     "execution_count": 42,
     "metadata": {},
     "output_type": "execute_result"
    }
   ],
   "source": [
    "df.shape"
   ]
  },
  {
   "cell_type": "code",
   "execution_count": 43,
   "metadata": {},
   "outputs": [
    {
     "name": "stdout",
     "output_type": "stream",
     "text": [
      "49 symbols have NaN in their close price, and were dropped from the dataframe.\n",
      "These symbols were dropped:\n",
      "['ACT', 'BF-A', 'BLCO', 'BRCC', 'BRZE', 'BXSL', 'CEG', 'CMTG', 'CRDO', 'CRGY', 'CWAN', 'DH', 'EE', 'ESAB', 'ESMT', 'FLNC', 'FRSH', 'FYBR', 'GBTG', 'GFS', 'GOOG', 'GTLB', 'HCP', 'HKD', 'HLN', 'IHS', 'INFA', 'IOT', 'KD', 'LTH', 'NU', 'OLPX', 'ONON', 'PFHC', 'RIVN', 'RTLR', 'SLVM', 'SMCI', 'SMR', 'SNAP', 'SNOW', 'SRAD', 'STER', 'TCN', 'TOST', 'TWKS', 'UDMY', 'VALE', 'WE']\n"
     ]
    }
   ],
   "source": [
    "df = df.dropna(axis=1,how='any')  # drop symbols (i.e. columns) with NaN\n",
    "symbols_after_dropna = df.columns\n",
    "symbols_dropped = symbols_before_dropna.difference(symbols_after_dropna).tolist()\n",
    "# print(f'symbols with NaN dropped from dataframe :{symbols_dropped}')\n",
    "print(f'{len(symbols_dropped)} symbols have NaN in their close price, and were dropped from the dataframe.')\n",
    "print(f'These symbols were dropped:\\n{symbols_dropped}')"
   ]
  },
  {
   "cell_type": "code",
   "execution_count": 44,
   "metadata": {},
   "outputs": [
    {
     "data": {
      "text/plain": [
       "(252, 1868)"
      ]
     },
     "execution_count": 44,
     "metadata": {},
     "output_type": "execute_result"
    }
   ],
   "source": [
    "df.shape"
   ]
  },
  {
   "cell_type": "code",
   "execution_count": 45,
   "metadata": {},
   "outputs": [
    {
     "data": {
      "text/plain": [
       "Index(['A', 'AA', 'AAL', 'AAON', 'AAP', 'AAPL', 'AAWW', 'ABB', 'ABBV', 'ABC',\n",
       "       ...\n",
       "       'ZI', 'ZIM', 'ZION', 'ZLAB', 'ZM', 'ZNH', 'ZS', 'ZTO', 'ZTS', 'ZWS'],\n",
       "      dtype='object', length=1868)"
      ]
     },
     "execution_count": 45,
     "metadata": {},
     "output_type": "execute_result"
    }
   ],
   "source": [
    "df.columns"
   ]
  },
  {
   "cell_type": "code",
   "execution_count": 46,
   "metadata": {},
   "outputs": [],
   "source": [
    "df.to_csv('C:/Users/ping/Desktop/df_close.csv')"
   ]
  },
  {
   "cell_type": "code",
   "execution_count": 47,
   "metadata": {},
   "outputs": [],
   "source": [
    "from myUtils import symb_perf_stats_vectorized_v1\n",
    "symbols, period_yr, drawdown, UI, max_drawdown, \\\n",
    "        returns_std, Std_UI, CAGR, CAGR_Std, CAGR_UI = symb_perf_stats_vectorized_v1(df)"
   ]
  },
  {
   "cell_type": "code",
   "execution_count": 48,
   "metadata": {},
   "outputs": [
    {
     "name": "stdout",
     "output_type": "stream",
     "text": [
      "drawdown.shape: (252, 1868)\n",
      "type(drawdown): <class 'numpy.ndarray'>\n"
     ]
    }
   ],
   "source": [
    "print(f'drawdown.shape: {drawdown.shape}')\n",
    "print(f'type(drawdown): {type(drawdown)}')"
   ]
  },
  {
   "cell_type": "code",
   "execution_count": 49,
   "metadata": {},
   "outputs": [],
   "source": [
    "def moving_window(arr, window):\n",
    "    # reference: http://www.rigtorp.se/2011/01/01/rolling-statistics-numpy.html\n",
    "    \"\"\"Create moving-window of numpy.ndarray from a numpy.ndarray or pandas.Series\n",
    "\n",
    "    Args:\n",
    "        arr(float): a numpy.ndarray or pandas.Series\n",
    "        window(int): width of moving-window\n",
    "\n",
    "    Return:\n",
    "        numpy.ndarray with shape [len(arr) - window + 1, window]\n",
    "            where each row has elements of the moving_window,\n",
    "            and number of elements in each row is the window size (i.e. columns)\n",
    "    \"\"\"\n",
    "\n",
    "    import numpy as np\n",
    "\n",
    "    shape = arr.shape[:-1] + (arr.shape[-1] - window + 1, window)\n",
    "    strides = arr.strides + (arr.strides[-1],)\n",
    "\n",
    "    return np.lib.stride_tricks.as_strided(arr, shape=shape, strides=strides)"
   ]
  },
  {
   "cell_type": "code",
   "execution_count": 50,
   "metadata": {},
   "outputs": [],
   "source": [
    "def UI_MW(arr_drawdown, window=20):\n",
    "    \"\"\"Calculate Ulcer-Index on moving-window applied to\n",
    "       arr_drawdown(numpy.ndarray)\n",
    "\n",
    "    Args:\n",
    "        arr_drawdown(numpy array): drawdown from function symb_perf_stats or\n",
    "                                   from ulcer_index.py\n",
    "        window(int): moving-window size, default = 20\n",
    "\n",
    "    Return:\n",
    "        UI_MW(numpy.ndarray): Ulcer-Index on moving-window\n",
    "        applied to arr_drawdown\n",
    "    \"\"\"\n",
    "\n",
    "    import numpy as np\n",
    "\n",
    "    # apply moving window to arr_drawdown, result is numpy ndarray\n",
    "    DD_MW = moving_window(arr_drawdown, window)\n",
    "    DD_MW_square = np.square(DD_MW)\n",
    "    sum_DD_MW_square = np.sum(DD_MW_square, axis=1)  # sum each row\n",
    "    UI_MW = np.sqrt(sum_DD_MW_square / window)\n",
    "    UI_MW = nan_pad(len(arr_drawdown), UI_MW)  # pad with leading NaN\n",
    "\n",
    "    return UI_MW"
   ]
  },
  {
   "cell_type": "code",
   "execution_count": 51,
   "metadata": {},
   "outputs": [],
   "source": [
    "def UI_MW_15(arr_drawdown):\n",
    "    \"\"\"Calculate Ulcer-Index on moving-window applied to\n",
    "       arr_drawdown(numpy.ndarray)\n",
    "\n",
    "    Args:\n",
    "        arr_drawdown(numpy array): drawdown from function symb_perf_stats or\n",
    "                                   from ulcer_index.py\n",
    "\n",
    "    Return:\n",
    "        UI_MW(numpy.ndarray): Ulcer-Index on moving-window\n",
    "        applied to arr_drawdown\n",
    "    \"\"\"\n",
    "\n",
    "    import numpy as np\n",
    "\n",
    "    # apply moving window to arr_drawdown, result is numpy ndarray\n",
    "    window = 15\n",
    "    DD_MW = moving_window(arr_drawdown, window)\n",
    "    DD_MW_square = np.square(DD_MW)\n",
    "    sum_DD_MW_square = np.sum(DD_MW_square, axis=1)  # sum each row\n",
    "    UI_MW = np.sqrt(sum_DD_MW_square / window)\n",
    "    UI_MW = nan_pad(len(arr_drawdown), UI_MW)  # pad with leading NaN\n",
    "\n",
    "    return UI_MW"
   ]
  },
  {
   "cell_type": "code",
   "execution_count": 52,
   "metadata": {},
   "outputs": [],
   "source": [
    "def UI_MW_30(arr_drawdown):\n",
    "    \"\"\"Calculate Ulcer-Index on moving-window applied to\n",
    "       arr_drawdown(numpy.ndarray)\n",
    "\n",
    "    Args:\n",
    "        arr_drawdown(numpy array): drawdown from function symb_perf_stats or\n",
    "                                   from ulcer_index.py\n",
    "\n",
    "    Return:\n",
    "        UI_MW(numpy.ndarray): Ulcer-Index on moving-window\n",
    "        applied to arr_drawdown\n",
    "    \"\"\"\n",
    "\n",
    "    import numpy as np\n",
    "\n",
    "    # apply moving window to arr_drawdown, result is numpy ndarray\n",
    "    window = 30\n",
    "    DD_MW = moving_window(arr_drawdown, window)\n",
    "    DD_MW_square = np.square(DD_MW)\n",
    "    sum_DD_MW_square = np.sum(DD_MW_square, axis=1)  # sum each row\n",
    "    UI_MW = np.sqrt(sum_DD_MW_square / window)\n",
    "    UI_MW = nan_pad(len(arr_drawdown), UI_MW)  # pad with leading NaN\n",
    "\n",
    "    return UI_MW"
   ]
  },
  {
   "cell_type": "code",
   "execution_count": 53,
   "metadata": {},
   "outputs": [],
   "source": [
    "def nan_pad(arr_len, target_arr):\n",
    "    \"\"\"Pad target_arr with leading numpy.nan to length arr_len.\n",
    "\n",
    "    Args:\n",
    "        arr_len(int): length of return array\n",
    "        target_arr(numpy.ndarray): array to be padded with leading numpy.nan\n",
    "\n",
    "    Return:\n",
    "        padded_target_arr(numpy.ndarray): target_arr padded to length arr_len\n",
    "    \"\"\"\n",
    "\n",
    "    import numpy as np\n",
    "\n",
    "    pad_len = arr_len - len(target_arr)\n",
    "    pad_arr = np.empty(pad_len, dtype=float)\n",
    "    pad_arr.fill(np.nan)\n",
    "    padded_target_arr = np.concatenate((pad_arr, target_arr), axis=0)\n",
    "\n",
    "    return padded_target_arr"
   ]
  },
  {
   "cell_type": "code",
   "execution_count": 54,
   "metadata": {},
   "outputs": [
    {
     "name": "stdout",
     "output_type": "stream",
     "text": [
      "UIMW15.shape : (252, 1868)\n",
      "UIMW30.shape : (252, 1868)\n"
     ]
    }
   ],
   "source": [
    "import numpy as np\n",
    "UIMW15 = np.apply_along_axis(UI_MW_15, 0, drawdown)\n",
    "UIMW30 = np.apply_along_axis(UI_MW_30, 0, drawdown)\n",
    "print(f'UIMW15.shape : {UIMW15.shape}')\n",
    "print(f'UIMW30.shape : {UIMW30.shape}')"
   ]
  },
  {
   "cell_type": "code",
   "execution_count": 55,
   "metadata": {},
   "outputs": [
    {
     "name": "stderr",
     "output_type": "stream",
     "text": [
      "c:\\Users\\ping\\MyDrive\\py_files\\python\\py379\\.venv\\lib\\site-packages\\ipykernel_launcher.py:1: RuntimeWarning: divide by zero encountered in true_divide\n",
      "  \"\"\"Entry point for launching an IPython kernel.\n"
     ]
    },
    {
     "data": {
      "text/plain": [
       "(252, 1868)"
      ]
     },
     "execution_count": 55,
     "metadata": {},
     "output_type": "execute_result"
    }
   ],
   "source": [
    "anr = abs(1 - UIMW30/UIMW15)  # absolute normalized ratio  \n",
    "anr.shape"
   ]
  },
  {
   "cell_type": "code",
   "execution_count": 56,
   "metadata": {},
   "outputs": [
    {
     "data": {
      "text/plain": [
       "array([[0.12453346, 0.06768343, 0.01789851, ..., 0.025568  , 0.00842149,\n",
       "        0.00104848],\n",
       "       [0.12899102, 0.06941397, 0.02974693, ..., 0.01655646, 0.00492237,\n",
       "        0.00444972],\n",
       "       [0.13808685, 0.06935886, 0.03425825, ..., 0.01479635, 0.00279604,\n",
       "        0.00094188],\n",
       "       ...,\n",
       "       [0.0353628 , 0.05565929, 0.00244608, ..., 0.00191617, 0.06690209,\n",
       "        0.00701941],\n",
       "       [0.02906457, 0.04397743, 0.00983587, ..., 0.00680259, 0.06855256,\n",
       "        0.00530903],\n",
       "       [0.01788422, 0.0350411 , 0.02461877, ..., 0.00749654, 0.07347182,\n",
       "        0.00180595]])"
      ]
     },
     "execution_count": 56,
     "metadata": {},
     "output_type": "execute_result"
    }
   ],
   "source": [
    "anr15 = anr[-15:, :]\n",
    "anr15"
   ]
  },
  {
   "cell_type": "code",
   "execution_count": 57,
   "metadata": {},
   "outputs": [],
   "source": [
    "fMask = np.where((anr15 < .0005), True, False)  # filtered masked 2d np.array\n",
    "idx_filtr_anr15 = np.column_stack(np.where(fMask))\n",
    "# len(idx_filtr_anr15)"
   ]
  },
  {
   "cell_type": "code",
   "execution_count": 58,
   "metadata": {},
   "outputs": [],
   "source": [
    "idx_syms = idx_filtr_anr15[:,1].tolist()\n",
    "idx_syms = list(set(idx_syms))\n",
    "idx_syms.sort()"
   ]
  },
  {
   "cell_type": "code",
   "execution_count": 59,
   "metadata": {},
   "outputs": [
    {
     "data": {
      "text/plain": [
       "90"
      ]
     },
     "execution_count": 59,
     "metadata": {},
     "output_type": "execute_result"
    }
   ],
   "source": [
    "fSyms = []\n",
    "for idx in idx_syms:\n",
    "  fSyms.append(df.columns[idx])\n",
    "len(fSyms)"
   ]
  },
  {
   "cell_type": "code",
   "execution_count": null,
   "metadata": {},
   "outputs": [],
   "source": [
    "['RPRX', 'SNA', 'VRTX']"
   ]
  },
  {
   "cell_type": "code",
   "execution_count": 71,
   "metadata": {},
   "outputs": [],
   "source": [
    "import yfinance as yf\n",
    "from myUtils import yf_print_symbol_data, yf_candlestick\n",
    "# plot symbols\n",
    "plot_days = '252d'\n",
    "for symbol in fSyms[80:95]:\n",
    "    # yf.Ticker OHLC are adjusted correctly\n",
    "    df = yf.Ticker(symbol).history(period=plot_days)\n",
    "    df.drop(['Dividends', 'Stock Splits'], axis=1, inplace=True)  # drop Div. and Stock Splits columns\n",
    "    df.columns = ['open', 'high', 'low', 'close', 'volume']  # rename columns Open ... Volume to open ... volume\n",
    "    cache_plot = yf_candlestick(symbol, df, plot_chart=True)"
   ]
  }
 ],
 "metadata": {
  "kernelspec": {
   "display_name": "Python 3.7.9 ('.venv': poetry)",
   "language": "python",
   "name": "python3"
  },
  "language_info": {
   "codemirror_mode": {
    "name": "ipython",
    "version": 3
   },
   "file_extension": ".py",
   "mimetype": "text/x-python",
   "name": "python",
   "nbconvert_exporter": "python",
   "pygments_lexer": "ipython3",
   "version": "3.7.9"
  },
  "orig_nbformat": 4,
  "vscode": {
   "interpreter": {
    "hash": "55a3812d65f91e7e7447da6b5cfc60716e82f91e6a92533fb27b46796ad1962a"
   }
  }
 },
 "nbformat": 4,
 "nbformat_minor": 2
}
