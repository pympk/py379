{
 "cells": [
  {
   "cell_type": "code",
   "execution_count": 1,
   "metadata": {},
   "outputs": [
    {
     "name": "stdout",
     "output_type": "stream",
     "text": [
      "+++++++++++++++  yf_plot_symbols(symbols, filename_pickled_df_OHLCV, path_data_dump)  +++++++++++++++\n",
      "\n",
      "df_OHLCV date index: 2022-06-01 00:00:00 - 2022-08-12 00:00:00\n",
      "\n",
      "After dropping all NaN, plot symbol FTEC from 2022-06-01 to 2022-08-12\n",
      "\n",
      "After dropping all NaN, plot symbol BCI from 2022-06-01 to 2022-08-12\n",
      "\n",
      "------------------------------------------------------------------------------\n",
      "\n"
     ]
    }
   ],
   "source": [
    "from myUtils import yf_plot_symbols  # NOQA\n",
    "\n",
    "verbose = False  # True prints more output\n",
    "# verbose = True  # True prints more output\n",
    "\n",
    "path_dir = \"C:/Users/ping/MyDrive/stocks/MktCap2b_AUMtop1200/\"\n",
    "path_data_dump = path_dir + \"VSCode_dump/\"\n",
    "path_symbols_file = path_dir + \"source/\"\n",
    "filename_symbols = path_symbols_file + '2021_Top1200_MktCap_n_AUM.txt'  # symbols text file\n",
    "filename_pickled_df_OHLCV_all_dates = 'df_OHLCV_all_dates'  # pickled filename\n",
    "filename_pickled_df_OHLCV = 'df_OHLCV'  # pickled filename reindexed to NYSE dates\n",
    "filename_pickled_df_symbols_close = \"df_symbols_close\"  # pickled filename\n",
    "filename_pickled_symbols_df_OHLCV = 'symbols_df_OHLCV'  # pickled filename\n",
    "\n",
    "# symbols = ['FTEC', 'BCI', 'BTC-USD', 'ETH-USD']\n",
    "symbols = ['FTEC', 'BCI']\n",
    "# last date of data\n",
    "date_end_limit = '2022-08-12'\n",
    "# date_end_limit = None\n",
    "# date_end_limit = dt.date.today().strftime(\"%Y-%m-%d\")\n",
    "# iloc_offset = None  # number of days to plot\n",
    "iloc_offset = 50  # number of days to plot\n",
    "date_start_limit=None\n",
    "\n",
    "\n",
    "caches_returned_by_plot = []\n",
    "cache_returned_by_plot = yf_plot_symbols(symbols, path_data_dump, filename_pickled_df_OHLCV, date_start_limit,\n",
    "                     date_end_limit, iloc_offset)\n",
    "caches_returned_by_plot.append(cache_returned_by_plot)"
   ]
  },
  {
   "cell_type": "code",
   "execution_count": 2,
   "metadata": {},
   "outputs": [
    {
     "data": {
      "text/plain": [
       "[[('FTEC',\n",
       "   '2022-08-12',\n",
       "   0.024338825031931716,\n",
       "   0.061199792460719056,\n",
       "   -0.002612331460577901,\n",
       "   -0.0036273963348769575),\n",
       "  ('BCI',\n",
       "   '2022-08-12',\n",
       "   0.12748261128681365,\n",
       "   0.1469396788286446,\n",
       "   -0.0034823830882958207,\n",
       "   -0.0011781364754527845)]]"
      ]
     },
     "execution_count": 2,
     "metadata": {},
     "output_type": "execute_result"
    }
   ],
   "source": [
    "caches_returned_by_plot"
   ]
  },
  {
   "cell_type": "code",
   "execution_count": null,
   "metadata": {},
   "outputs": [],
   "source": [
    "from myUtils import pickle_load  # NOQA\n",
    "\n",
    "verbose = False  # True prints more output\n",
    "# verbose = True  # True prints more output\n",
    "\n",
    "path_dir = \"C:/Users/ping/MyDrive/stocks/MktCap2b_AUMtop1200/\"\n",
    "path_data_dump = path_dir + \"VSCode_dump/\"\n",
    "path_symbols_file = path_dir + \"source/\"\n",
    "filename_symbols = path_symbols_file + '2021_Top1200_MktCap_n_AUM.txt'  # symbols text file\n",
    "filename_pickled_df_OHLCV_all_dates = 'df_OHLCV_all_dates'  # pickled filename\n",
    "filename_pickled_df_OHLCV = 'df_OHLCV'  # pickled filename reindexed to NYSE dates\n",
    "filename_pickled_df_symbols_close = \"df_symbols_close\"  # pickled filename\n",
    "filename_pickled_symbols_df_OHLCV =  'symbols_df_OHLCV'  # pickled filename\n",
    "\n",
    "# path_dir = \"C:/Users/ping/Desktop/my_yfinance/\"\n",
    "# path_data_dump = path_dir + \"VSCode_dump/\"\n",
    "# path_symbols_file = path_dir + \"source/\"\n",
    "# filename_symbols = path_symbols_file + \"test_symbols_no_XOM.txt\"  # symbols text file\n",
    "# filename_pickled_df_OHLCV_all_dates = 'df_OHLCV_all_dates_test'  # pickled filename\n",
    "# filename_pickled_df_OHLCV = 'df_OHLCV_test'  # pickled filename\n",
    "# filename_pickled_df_symbols_close = \"df_symbols_close_test\"  # pickled filename\n",
    "# filename_pickled_symbols_df_OHLCV =  'symbols_df_OHLCV_test'  # pickled filename"
   ]
  },
  {
   "cell_type": "code",
   "execution_count": null,
   "metadata": {},
   "outputs": [],
   "source": [
    "# retrieve pickled files\n",
    "print(f\"Full path to pickled df_OHLCV_all_dates:  {path_data_dump}{filename_pickled_df_OHLCV_all_dates}\")\n",
    "df_all_dates = pickle_load(path_data_dump, filename_pickled_df_OHLCV_all_dates, verbose=verbose)\n",
    "print(f\"Full path to pickled df_OHLCV:  {path_data_dump}{filename_pickled_df_OHLCV}\")\n",
    "df = pickle_load(path_data_dump, filename_pickled_df_OHLCV, verbose=verbose)\n",
    "print(f\"Full path to pickled symbols_df_OHLCV:  {path_data_dump}{filename_pickled_symbols_df_OHLCV}\")\n",
    "df_close = pickle_load(path_data_dump, filename_pickled_df_symbols_close, verbose=verbose)\n",
    "print(f\"Full path to pickled df_symbols_close:  {path_data_dump}{filename_pickled_df_symbols_close}\")\n",
    "symbols_df = pickle_load(path_data_dump, filename_pickled_symbols_df_OHLCV, verbose=verbose)"
   ]
  },
  {
   "cell_type": "code",
   "execution_count": null,
   "metadata": {},
   "outputs": [],
   "source": [
    "# from datetime import datetime as dt\n",
    "df1 = df['BCI']\n",
    "first_date = df1.index[0].strftime('%Y-%m-%d')\n",
    "last_date = df1.index[-1].strftime('%Y-%m-%d')\n",
    "print(f'first_date: {first_date}, {type(first_date)}')\n",
    "print(f'last_date: {last_date}, {type(first_date)}')"
   ]
  },
  {
   "cell_type": "code",
   "execution_count": null,
   "metadata": {},
   "outputs": [],
   "source": [
    "# df = df['BCI']['2022-08-08':'2022-08-11']\n",
    "# df.close.values"
   ]
  },
  {
   "cell_type": "code",
   "execution_count": null,
   "metadata": {},
   "outputs": [],
   "source": [
    "# from work import yf_plot_symbols  # NOQA\n",
    "# symbols = ['FTEC', 'BCI', 'BTC-USD', 'ETH-USD']\n",
    "symbols = ['FTEC', 'BCI']\n",
    "# last date of data\n",
    "date_end_limit = '2022-08-11'\n",
    "# date_end_limit = dt.date.today().strftime(\"%Y-%m-%d\")\n",
    "iloc_offset = 252  # number of days to plot\n",
    "\n",
    "# yf_plot_symbols\n",
    "# symbols=symbols,\n",
    "# path_data_dump=path_data_dump,\n",
    "# filename_pickled_df_OHLCV = filename_pickled_df_OHLCV\n",
    "date_start_limit=None,\n",
    "# date_end_limit=date_end_limit,\n",
    "# iloc_offset=iloc_offset,\n",
    "\n",
    "from myUtils import pickle_load, dates_within_limits\n",
    "from yf_CStick_DD_OBV_UIMW_Diff_UIMW_cache import yf_candlestick\n",
    "\n",
    "print('+'*15 + '  yf_plot_symbols(symbols, filename_pickled_df_OHLCV, path_data_dump)  ' + '+'*15 + '\\n')\n",
    "# directories and file names\n",
    "df_filename = filename_pickled_df_OHLCV\n",
    "# list of cache. Stores cache returned by candlestick plot\n",
    "caches_returned_by_plot = []\n",
    "# read df\n",
    "df_OHLCV = pickle_load(path_data_dump, df_filename)\n",
    "print(f\"Full path to pickled df_OHLCV:  {path_data_dump}{df_filename}\")\n",
    "\n",
    "\n",
    "date_index_all_dates = df_OHLCV.index\n",
    "\n",
    "print(f'date_index_all_dates\\n{date_index_all_dates}')\n",
    "print(f'date_start_limit\\n{date_start_limit}')\n",
    "print(f'date_end_limit\\n{date_end_limit}')\n",
    "print(f'iloc_offset\\n{iloc_offset}')\n",
    "\n",
    "# get iloc of date_end_limit in XOM's date index\n",
    "date_start, date_end, iloc_date_start, iloc_date_end = \\\n",
    "    dates_within_limits(date_index_all_dates, date_start_limit,\n",
    "                        date_end_limit, iloc_offset)\n",
    "\n",
    "for symbol in symbols:\n",
    "    # df = df_OHLCV[symbol]\n",
    "    df = df_OHLCV[date_start:date_end]\n",
    "    print(f'{symbol}\\n{df.close.values}')\n",
    "    # print('plot symbol {} from {} to {}\\n'\n",
    "    #         .format(symbol, date_start, date_end))\n",
    "    # # cache_returned_by_plot = candlestick(symbol, df, plot_chart=False)\n",
    "    # cache_returned_by_plot = yf_candlestick(symbol, df, plot_chart=True)\n",
    "    # caches_returned_by_plot.append(cache_returned_by_plot)\n"
   ]
  },
  {
   "cell_type": "code",
   "execution_count": null,
   "metadata": {},
   "outputs": [],
   "source": [
    "from work import yf_plot_symbols  # NOQA\n",
    "symbols = ['FTEC', 'BCI', 'BTC-USD', 'ETH-USD']\n",
    "# last date of data\n",
    "date_end_limit = '2022-08-11'\n",
    "# date_end_limit = dt.date.today().strftime(\"%Y-%m-%d\")\n",
    "iloc_offset = 252  # number of days to plot\n",
    "\n",
    "yf_plot_symbols(\n",
    "    symbols=symbols,\n",
    "    path_data_dump=path_data_dump,\n",
    "    filename_pickled_df_OHLCV = filename_pickled_df_OHLCV,\n",
    "    date_start_limit=None,\n",
    "    date_end_limit=date_end_limit,\n",
    "    iloc_offset=iloc_offset,\n",
    ")"
   ]
  }
 ],
 "metadata": {
  "kernelspec": {
   "display_name": "Python 3.7.9 ('.venv': poetry)",
   "language": "python",
   "name": "python3"
  },
  "language_info": {
   "codemirror_mode": {
    "name": "ipython",
    "version": 3
   },
   "file_extension": ".py",
   "mimetype": "text/x-python",
   "name": "python",
   "nbconvert_exporter": "python",
   "pygments_lexer": "ipython3",
   "version": "3.7.9"
  },
  "orig_nbformat": 4,
  "vscode": {
   "interpreter": {
    "hash": "55a3812d65f91e7e7447da6b5cfc60716e82f91e6a92533fb27b46796ad1962a"
   }
  }
 },
 "nbformat": 4,
 "nbformat_minor": 2
}
