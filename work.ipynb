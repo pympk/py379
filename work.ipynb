{
 "cells": [
  {
   "cell_type": "code",
   "execution_count": 1,
   "metadata": {},
   "outputs": [],
   "source": [
    "from myUtils import pickle_load, yf_symbols_close  # NOQA\n",
    "\n",
    "# verbose = False  # True prints more output\n",
    "verbose = True  # True prints more output\n",
    "\n",
    "# path_dir = \"C:/Users/ping/MyDrive/stocks/MktCap2b_AUMtop1200/\"\n",
    "# path_data_dump = path_dir + \"VSCode_dump/\"\n",
    "# path_symbols_file = path_dir + \"source/\"\n",
    "# filename_symbols = path_symbols_file + '2021_Top1200_MktCap_n_AUM.txt'  # symbols text file\n",
    "# filename_pickled_df_OHLCV_all_dates = 'df_OHLCV_all_dates'  # pickled filename\n",
    "# filename_pickled_df_OHLCV_NYSE_dates = 'df_OHLCV_NYSE_dates'  # pickled filename\n",
    "# filename_pickled_symbols_df_OHLCV =  'symbols_df_OHLCV'  # pickled filename\n",
    "\n",
    "path_dir = \"C:/Users/ping/Desktop/my_yfinance/\"\n",
    "path_data_dump = path_dir + \"VSCode_dump/\"\n",
    "path_symbols_file = path_dir + \"source/\"\n",
    "filename_symbols = path_symbols_file + \"test_symbols_no_XOM.txt\"  # symbols text file\n",
    "filename_pickled_df_OHLCV_all_dates = \"df_test_all_dates\"  # pickled filename\n",
    "filename_pickled_df_OHLCV_NYSE_dates = \"df_test_NYSE_dates\"  # pickled filename\n",
    "filename_pickled_symbols_df_OHLCV = \"symbols_df_test_OHLCV\"  # pickled filename"
   ]
  },
  {
   "cell_type": "code",
   "execution_count": 2,
   "metadata": {},
   "outputs": [
    {
     "name": "stdout",
     "output_type": "stream",
     "text": [
      "Full path to pickled df_OHLCV_all_dates:  C:/Users/ping/Desktop/my_yfinance/VSCode_dump/df_test_all_dates\n",
      "\n",
      "==============================================================================\n",
      "def pickle_load(path_pickle_dump, filename_pickle)\n",
      "Read pickle file from:\n",
      "C:/Users/ping/Desktop/my_yfinance/VSCode_dump/df_test_all_dates\n",
      "------------------------------------------------------------------------------\n",
      "\n",
      "Full path to pickled df_OHLCV_NYSE_dates:  C:/Users/ping/Desktop/my_yfinance/VSCode_dump/df_test_NYSE_dates\n",
      "\n",
      "==============================================================================\n",
      "def pickle_load(path_pickle_dump, filename_pickle)\n",
      "Read pickle file from:\n",
      "C:/Users/ping/Desktop/my_yfinance/VSCode_dump/df_test_NYSE_dates\n",
      "------------------------------------------------------------------------------\n",
      "\n",
      "Full path to pickled symbols_df_OHLCV:  C:/Users/ping/Desktop/my_yfinance/VSCode_dump/symbols_df_test_OHLCV\n",
      "\n",
      "==============================================================================\n",
      "def pickle_load(path_pickle_dump, filename_pickle)\n",
      "Read pickle file from:\n",
      "C:/Users/ping/Desktop/my_yfinance/VSCode_dump/symbols_df_test_OHLCV\n",
      "------------------------------------------------------------------------------\n",
      "\n"
     ]
    }
   ],
   "source": [
    "# retrieve pickled files\n",
    "print(f\"Full path to pickled df_OHLCV_all_dates:  {path_data_dump}{filename_pickled_df_OHLCV_all_dates}\")\n",
    "df_all = pickle_load(path_data_dump, filename_pickled_df_OHLCV_all_dates, verbose=verbose)\n",
    "print(f\"Full path to pickled df_OHLCV_NYSE_dates:  {path_data_dump}{filename_pickled_df_OHLCV_NYSE_dates}\")\n",
    "df_NYSE = pickle_load(path_data_dump, filename_pickled_df_OHLCV_NYSE_dates, verbose=verbose)\n",
    "print(f\"Full path to pickled symbols_df_OHLCV:  {path_data_dump}{filename_pickled_symbols_df_OHLCV}\")\n",
    "syms_OHLCV = pickle_load(path_data_dump, filename_pickled_symbols_df_OHLCV, verbose=verbose)"
   ]
  },
  {
   "cell_type": "code",
   "execution_count": 3,
   "metadata": {},
   "outputs": [
    {
     "name": "stdout",
     "output_type": "stream",
     "text": [
      "\n",
      "==============================================================================\n",
      "+ def yf_symbols_close(path_dir, path_data_dump, filename_pickled_df_OHLCV)\n",
      "\n",
      "\n",
      "==============================================================================\n",
      "def pickle_load(path_pickle_dump, filename_pickle)\n",
      "Read pickle file from:\n",
      "C:/Users/ping/Desktop/my_yfinance/VSCode_dump/df_test_NYSE_dates\n",
      "------------------------------------------------------------------------------\n",
      "\n",
      "df_symbols_close.info() before dropna:\n",
      "<class 'pandas.core.frame.DataFrame'>\n",
      "DatetimeIndex: 15255 entries, 1962-01-02 to 2022-08-08\n",
      "Data columns (total 4 columns):\n",
      " #   Column   Non-Null Count  Dtype  \n",
      "---  ------   --------------  -----  \n",
      " 0   AAPL     10502 non-null  float64\n",
      " 1   BTC-USD  1987 non-null   float64\n",
      " 2   FTEC     2212 non-null   float64\n",
      " 3   ETH-USD  1193 non-null   float64\n",
      "dtypes: float64(4)\n",
      "memory usage: 595.9 KB\n",
      "None \n",
      "\n",
      "df_symbols_close.info() after dropna:\n",
      "<class 'pandas.core.frame.DataFrame'>\n",
      "DatetimeIndex: 10502 entries, 1980-12-12 to 2022-08-08\n",
      "Data columns (total 4 columns):\n",
      " #   Column   Non-Null Count  Dtype  \n",
      "---  ------   --------------  -----  \n",
      " 0   AAPL     10502 non-null  float64\n",
      " 1   BTC-USD  1987 non-null   float64\n",
      " 2   FTEC     2212 non-null   float64\n",
      " 3   ETH-USD  1193 non-null   float64\n",
      "dtypes: float64(4)\n",
      "memory usage: 410.2 KB\n",
      "None \n",
      "\n",
      "\n",
      "==============================================================================\n",
      "+ def pickle_dump(file_to_pickle, path_pickle_dump, filename_pickle)\n",
      "\n",
      "Wrote pickled file to C:/Users/ping/Desktop/my_yfinance/VSCode_dump/df_symbols_close\n",
      "- def pickle_dump(file_to_pickle, path_pickle_dump, filename_pickle)\n",
      "------------------------------------------------------------------------------\n",
      "\n",
      "\n",
      "==============================================================================\n",
      "+ def pickle_dump(file_to_pickle, path_pickle_dump, filename_pickle)\n",
      "\n",
      "Wrote pickled file to C:/Users/ping/Desktop/my_yfinance/VSCode_dump/df_OHLCV_dates_dropped\n",
      "- def pickle_dump(file_to_pickle, path_pickle_dump, filename_pickle)\n",
      "------------------------------------------------------------------------------\n",
      "\n",
      "\n",
      "==============================================================================\n",
      "+ def pickle_dump(file_to_pickle, path_pickle_dump, filename_pickle)\n",
      "\n",
      "Wrote pickled file to C:/Users/ping/Desktop/my_yfinance/VSCode_dump/df_OHLCV_symbols_dropped\n",
      "- def pickle_dump(file_to_pickle, path_pickle_dump, filename_pickle)\n",
      "------------------------------------------------------------------------------\n",
      "\n",
      "- def yf_symbols_close(path_dir, path_data_dump, filename_pickled_df_OHLCV)\n",
      "------------------------------------------------------------------------------\n",
      "\n"
     ]
    }
   ],
   "source": [
    "\n",
    "df_symbols_close, dates_dropped, symbols_OHLCV, symbols_dropped = yf_symbols_close(\n",
    "    path_dir,\n",
    "    path_data_dump,\n",
    "    filename_pickled_df_OHLCV_NYSE_dates,\n",
    "    verbose=verbose,\n",
    ")"
   ]
  },
  {
   "cell_type": "code",
   "execution_count": 4,
   "metadata": {},
   "outputs": [
    {
     "data": {
      "text/html": [
       "<div>\n",
       "<style scoped>\n",
       "    .dataframe tbody tr th:only-of-type {\n",
       "        vertical-align: middle;\n",
       "    }\n",
       "\n",
       "    .dataframe tbody tr th {\n",
       "        vertical-align: top;\n",
       "    }\n",
       "\n",
       "    .dataframe thead th {\n",
       "        text-align: right;\n",
       "    }\n",
       "</style>\n",
       "<table border=\"1\" class=\"dataframe\">\n",
       "  <thead>\n",
       "    <tr style=\"text-align: right;\">\n",
       "      <th></th>\n",
       "      <th>AAPL</th>\n",
       "      <th>BTC-USD</th>\n",
       "      <th>FTEC</th>\n",
       "      <th>ETH-USD</th>\n",
       "    </tr>\n",
       "    <tr>\n",
       "      <th>Date</th>\n",
       "      <th></th>\n",
       "      <th></th>\n",
       "      <th></th>\n",
       "      <th></th>\n",
       "    </tr>\n",
       "  </thead>\n",
       "  <tbody>\n",
       "    <tr>\n",
       "      <th>1980-12-12</th>\n",
       "      <td>0.100039</td>\n",
       "      <td>NaN</td>\n",
       "      <td>NaN</td>\n",
       "      <td>NaN</td>\n",
       "    </tr>\n",
       "    <tr>\n",
       "      <th>1980-12-15</th>\n",
       "      <td>0.094820</td>\n",
       "      <td>NaN</td>\n",
       "      <td>NaN</td>\n",
       "      <td>NaN</td>\n",
       "    </tr>\n",
       "    <tr>\n",
       "      <th>1980-12-16</th>\n",
       "      <td>0.087861</td>\n",
       "      <td>NaN</td>\n",
       "      <td>NaN</td>\n",
       "      <td>NaN</td>\n",
       "    </tr>\n",
       "    <tr>\n",
       "      <th>1980-12-17</th>\n",
       "      <td>0.090035</td>\n",
       "      <td>NaN</td>\n",
       "      <td>NaN</td>\n",
       "      <td>NaN</td>\n",
       "    </tr>\n",
       "    <tr>\n",
       "      <th>1980-12-18</th>\n",
       "      <td>0.092646</td>\n",
       "      <td>NaN</td>\n",
       "      <td>NaN</td>\n",
       "      <td>NaN</td>\n",
       "    </tr>\n",
       "    <tr>\n",
       "      <th>...</th>\n",
       "      <td>...</td>\n",
       "      <td>...</td>\n",
       "      <td>...</td>\n",
       "      <td>...</td>\n",
       "    </tr>\n",
       "    <tr>\n",
       "      <th>2022-08-02</th>\n",
       "      <td>159.788040</td>\n",
       "      <td>22978.117188</td>\n",
       "      <td>108.760002</td>\n",
       "      <td>1632.945435</td>\n",
       "    </tr>\n",
       "    <tr>\n",
       "      <th>2022-08-03</th>\n",
       "      <td>165.899567</td>\n",
       "      <td>22846.507812</td>\n",
       "      <td>111.830002</td>\n",
       "      <td>1618.874512</td>\n",
       "    </tr>\n",
       "    <tr>\n",
       "      <th>2022-08-04</th>\n",
       "      <td>165.580002</td>\n",
       "      <td>22630.957031</td>\n",
       "      <td>112.209999</td>\n",
       "      <td>1608.205811</td>\n",
       "    </tr>\n",
       "    <tr>\n",
       "      <th>2022-08-05</th>\n",
       "      <td>165.350006</td>\n",
       "      <td>23289.314453</td>\n",
       "      <td>112.019997</td>\n",
       "      <td>1732.254639</td>\n",
       "    </tr>\n",
       "    <tr>\n",
       "      <th>2022-08-08</th>\n",
       "      <td>164.869995</td>\n",
       "      <td>23809.486328</td>\n",
       "      <td>111.260002</td>\n",
       "      <td>1775.516113</td>\n",
       "    </tr>\n",
       "  </tbody>\n",
       "</table>\n",
       "<p>10502 rows × 4 columns</p>\n",
       "</div>"
      ],
      "text/plain": [
       "                  AAPL       BTC-USD        FTEC      ETH-USD\n",
       "Date                                                         \n",
       "1980-12-12    0.100039           NaN         NaN          NaN\n",
       "1980-12-15    0.094820           NaN         NaN          NaN\n",
       "1980-12-16    0.087861           NaN         NaN          NaN\n",
       "1980-12-17    0.090035           NaN         NaN          NaN\n",
       "1980-12-18    0.092646           NaN         NaN          NaN\n",
       "...                ...           ...         ...          ...\n",
       "2022-08-02  159.788040  22978.117188  108.760002  1632.945435\n",
       "2022-08-03  165.899567  22846.507812  111.830002  1618.874512\n",
       "2022-08-04  165.580002  22630.957031  112.209999  1608.205811\n",
       "2022-08-05  165.350006  23289.314453  112.019997  1732.254639\n",
       "2022-08-08  164.869995  23809.486328  111.260002  1775.516113\n",
       "\n",
       "[10502 rows x 4 columns]"
      ]
     },
     "execution_count": 4,
     "metadata": {},
     "output_type": "execute_result"
    }
   ],
   "source": [
    "df_symbols_close"
   ]
  },
  {
   "cell_type": "code",
   "execution_count": 5,
   "metadata": {},
   "outputs": [
    {
     "data": {
      "text/plain": [
       "DatetimeIndex(['1962-01-02', '1962-01-03', '1962-01-04', '1962-01-05',\n",
       "               '1962-01-08', '1962-01-09', '1962-01-10', '1962-01-11',\n",
       "               '1962-01-12', '1962-01-15',\n",
       "               ...\n",
       "               '1980-11-28', '1980-12-01', '1980-12-02', '1980-12-03',\n",
       "               '1980-12-04', '1980-12-05', '1980-12-08', '1980-12-09',\n",
       "               '1980-12-10', '1980-12-11'],\n",
       "              dtype='datetime64[ns]', name='Date', length=4753, freq=None)"
      ]
     },
     "execution_count": 5,
     "metadata": {},
     "output_type": "execute_result"
    }
   ],
   "source": [
    "dates_dropped"
   ]
  },
  {
   "cell_type": "code",
   "execution_count": 6,
   "metadata": {},
   "outputs": [
    {
     "data": {
      "text/plain": [
       "['AAPL', 'BTC-USD', 'FTEC', 'ETH-USD']"
      ]
     },
     "execution_count": 6,
     "metadata": {},
     "output_type": "execute_result"
    }
   ],
   "source": [
    "symbols_OHLCV"
   ]
  },
  {
   "cell_type": "code",
   "execution_count": 7,
   "metadata": {},
   "outputs": [
    {
     "data": {
      "text/plain": [
       "[]"
      ]
     },
     "execution_count": 7,
     "metadata": {},
     "output_type": "execute_result"
    }
   ],
   "source": [
    "symbols_dropped"
   ]
  }
 ],
 "metadata": {
  "kernelspec": {
   "display_name": "Python 3.7.9 ('.venv': poetry)",
   "language": "python",
   "name": "python3"
  },
  "language_info": {
   "codemirror_mode": {
    "name": "ipython",
    "version": 3
   },
   "file_extension": ".py",
   "mimetype": "text/x-python",
   "name": "python",
   "nbconvert_exporter": "python",
   "pygments_lexer": "ipython3",
   "version": "3.7.9"
  },
  "orig_nbformat": 4,
  "vscode": {
   "interpreter": {
    "hash": "55a3812d65f91e7e7447da6b5cfc60716e82f91e6a92533fb27b46796ad1962a"
   }
  }
 },
 "nbformat": 4,
 "nbformat_minor": 2
}
