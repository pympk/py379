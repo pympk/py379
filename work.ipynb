{
 "cells": [
  {
   "cell_type": "code",
   "execution_count": 1,
   "metadata": {},
   "outputs": [],
   "source": [
    "import yfinance as yf\n",
    "\n",
    "# path to myUtils\n",
    "# sys.path.insert(0, \"C:/Users/ping/MyDrive/py_files/python/py379/\")\n",
    "# sys.path.append('/content/drive/MyDrive/py_files/python/py379/myUtils')\n",
    "from myUtils import download_AdjOHLCV, pickle_dump, pickle_load  # NOQA"
   ]
  },
  {
   "cell_type": "code",
   "execution_count": null,
   "metadata": {},
   "outputs": [],
   "source": [
    "def symbols_close(\n",
    "    path_dir,\n",
    "    path_data_dump,\n",
    "    filename_pickled_df_OHLCV,\n",
    "    verbose=False,\n",
    "):\n",
    "\n",
    "    import pandas as pd\n",
    "    from myUtils import pickle_load, pickle_dump\n",
    "\n",
    "    df = pickle_load(path_data_dump, filename_pickled_df_OHLCV, verbose=verbose)\n",
    "    # list of symbols in df_OHLCV,\n",
    "    # list(df) e.g [('AAPL', 'Open')..('AAPL', 'Volume')...('Z', 'Open')..('Z', 'Volume')]\n",
    "    symbols_OHLCV = list(set([i[0] for i in list(df)]))\n",
    "\n",
    "    # write symbols' Close to df_symbols_close\n",
    "    for sym in symbols_OHLCV:\n",
    "        if sym == symbols_OHLCV[0]:  # create dataframe using the 1st symbol's Close\n",
    "            df_symbols_close = pd.DataFrame(df[symbols_OHLCV[0]].Close)\n",
    "        else:  # concatenate Close on subsequent symbols\n",
    "            df_symbols_close = pd.concat([df_symbols_close, df[sym].Close], axis=1)\n",
    "    # rename column names from Close to symbol names\n",
    "    df_symbols_close.set_axis(symbols_OHLCV, axis=1, inplace=True)\n",
    "\n",
    "    # drop rows and columns with all NaN \n",
    "    print(f'df_symbols_close.info before dropna:\\n{df_symbols_close.info()}')\n",
    "    df_symbols_close_index_before_dropna = df_symbols_close.index\n",
    "    df_symbols_close = df_symbols_close.dropna(how='all', axis='index')  # drop all NaN rows\n",
    "    df_symbols_close = df_symbols_close.dropna(how='all', axis='columns')  # drop all NaN columns\n",
    "    print(f'df_symbols_close.info after dropna:\\n{df_symbols_close.info()}')\n",
    "    # dates with all NaN in row\n",
    "    dates_dropped = df_symbols_close_index_before_dropna.difference(df_symbols_close.index)\n",
    "    # symbols (i.e. column names) with all NaN in column\n",
    "    symbols_dropped = list(set(symbols_OHLCV) - set(list(df_symbols_close)))\n",
    "\n",
    "    pickle_dump(df_symbols_close, path_data_dump, \"df_symbols_close\", verbose=verbose)\n",
    "    pickle_dump(dates_dropped, path_data_dump, \"df_OHLCV_dates_dropped\", verbose=verbose)\n",
    "    pickle_dump(symbols_dropped, path_data_dump, \"df_OHLCV_symbols_dropped\", verbose=verbose)\n",
    "\n",
    "    return df_symbols_close, dates_dropped, symbols_OHLCV, symbols_dropped"
   ]
  },
  {
   "cell_type": "code",
   "execution_count": null,
   "metadata": {},
   "outputs": [],
   "source": [
    "# import pandas as pd\n",
    "# from myUtils import pickle_load, pickle_dump\n",
    "# verbose = False\n",
    "# path_dir = \"C:/Users/ping/MyDrive/stocks/MktCap2b_AUMtop1200/\"\n",
    "# path_data_dump = path_dir + \"VSCode_dump/\"\n",
    "# # filename_pickled_df_OHLCV = \"df_OHLCV_2022-07-29_4NaN_rows_n_columns\"  # pickled filename\n",
    "# filename_pickled_df_OHLCV = \"df_OHLCV_4_all_NaN_rows_n_columns\"  # pickled filename\n",
    "# filename_pickled_symbols_list = \"symbols_2022_07_29\"\n",
    "# df = pickle_load(path_data_dump, filename_pickled_df_OHLCV, verbose=verbose)\n",
    "# symbols = pickle_load(path_data_dump, filename_pickled_symbols_list, verbose=verbose)"
   ]
  },
  {
   "cell_type": "code",
   "execution_count": null,
   "metadata": {},
   "outputs": [],
   "source": [
    "# df.iloc[-6:-2] = float('nan')  # 4 rows of all NaN near the end\n",
    "# # 4 symbols with all NaN in Close column\n",
    "# syms = [\"MSFT\", \"TSLA\", \"BTC-USD\", \"FTEC\"]\n",
    "# for sym in syms:\n",
    "#   # df[sym].loc[:, \"Close\"] = float('nan')\n",
    "#   df.loc[:, (sym, \"Close\")] = float('nan')\n",
    "#   print(f'{sym}\\n{df[sym].tail(7)}\\n')\n",
    "#   pickle_dump(df, path_data_dump, \"df_OHLCV_4_all_NaN_rows_n_columns\", verbose=verbose)  "
   ]
  },
  {
   "cell_type": "code",
   "execution_count": null,
   "metadata": {},
   "outputs": [],
   "source": [
    "path_dir = \"C:/Users/ping/MyDrive/stocks/MktCap2b_AUMtop1200/\"\n",
    "path_data_dump = path_dir + \"VSCode_dump/\"\n",
    "filename_pickled_df_OHLCV = \"df_OHLCV_4_all_NaN_rows_n_columns\"  # pickled filename\n",
    "# filename_pickled_symbols_list = \"symbols_2022-07-29_4NaN_rows_n_columns\"\n",
    "\n",
    "df_symbols_close, dates_dropped, symbols_OHLCV, symbols_dropped = symbols_close(\n",
    "    path_dir, path_data_dump, filename_pickled_df_OHLCV)"
   ]
  },
  {
   "cell_type": "code",
   "execution_count": null,
   "metadata": {},
   "outputs": [],
   "source": [
    "print(type(df_symbols_close['AAPL']))\n",
    "df_symbols_close['AAPL']"
   ]
  },
  {
   "cell_type": "code",
   "execution_count": null,
   "metadata": {},
   "outputs": [],
   "source": [
    "print(type(dates_dropped))\n",
    "dates_dropped"
   ]
  },
  {
   "cell_type": "code",
   "execution_count": null,
   "metadata": {},
   "outputs": [],
   "source": [
    "print(type(symbols_OHLCV))\n",
    "symbols_OHLCV"
   ]
  },
  {
   "cell_type": "code",
   "execution_count": null,
   "metadata": {},
   "outputs": [],
   "source": [
    "symbols_dropped"
   ]
  }
 ],
 "metadata": {
  "kernelspec": {
   "display_name": "Python 3.7.9 ('.venv': poetry)",
   "language": "python",
   "name": "python3"
  },
  "language_info": {
   "codemirror_mode": {
    "name": "ipython",
    "version": 3
   },
   "file_extension": ".py",
   "mimetype": "text/x-python",
   "name": "python",
   "nbconvert_exporter": "python",
   "pygments_lexer": "ipython3",
   "version": "3.7.9"
  },
  "orig_nbformat": 4,
  "vscode": {
   "interpreter": {
    "hash": "55a3812d65f91e7e7447da6b5cfc60716e82f91e6a92533fb27b46796ad1962a"
   }
  }
 },
 "nbformat": 4,
 "nbformat_minor": 2
}
