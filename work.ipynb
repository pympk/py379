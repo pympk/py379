{
 "cells": [
  {
   "cell_type": "code",
   "execution_count": 1,
   "metadata": {},
   "outputs": [],
   "source": [
    "from myUtils import pickle_load\n",
    "verbose = False  # True prints more output"
   ]
  },
  {
   "cell_type": "code",
   "execution_count": 2,
   "metadata": {},
   "outputs": [],
   "source": [
    "path_dir = \"C:/Users/ping/MyDrive/stocks/yfinance/\"\n",
    "path_data_dump = path_dir + \"VSCode_dump/\"\n",
    "filename_pickled_df_symbols_close = \"df_symbols_close\"  # pickled filename"
   ]
  },
  {
   "cell_type": "code",
   "execution_count": null,
   "metadata": {},
   "outputs": [],
   "source": [
    "df_OHLCV = pickle_load(path_data_dump, 'df_OHLCV', verbose=verbose)"
   ]
  },
  {
   "cell_type": "code",
   "execution_count": 58,
   "metadata": {},
   "outputs": [],
   "source": [
    "df_OHLCV['A'].to_csv('C:/Users/ping/Desktop/A_OHLCV.csv')"
   ]
  },
  {
   "cell_type": "code",
   "execution_count": 3,
   "metadata": {},
   "outputs": [
    {
     "name": "stdout",
     "output_type": "stream",
     "text": [
      "Full path to pickled df_symbols_close:  C:/Users/ping/MyDrive/stocks/yfinance/VSCode_dump/df_symbols_close\n"
     ]
    }
   ],
   "source": [
    "# load df_symbols_close\n",
    "df = pickle_load(path_data_dump, filename_pickled_df_symbols_close, verbose=verbose)\n",
    "print(f\"Full path to pickled df_symbols_close:  {path_data_dump}{filename_pickled_df_symbols_close}\")\n",
    "df_orig = df.copy()  # backup df\n",
    "df = df.tail(252)  # keep only the last 252 days of data\n",
    "symbols_before_dropna = df.columns"
   ]
  },
  {
   "cell_type": "code",
   "execution_count": 4,
   "metadata": {},
   "outputs": [],
   "source": [
    "df['ZS'].to_csv('C:/Users/ping/Desktop/ZS.csv')"
   ]
  },
  {
   "cell_type": "code",
   "execution_count": 5,
   "metadata": {},
   "outputs": [
    {
     "name": "stdout",
     "output_type": "stream",
     "text": [
      "44 symbols have NaN in their close price, and were dropped from the dataframe.\n",
      "These symbols were dropped:\n",
      "['ACT', 'BLCO', 'BRCC', 'BRZE', 'BXSL', 'CEG', 'CMTG', 'CRDO', 'CRGY', 'CWAN', 'DH', 'EE', 'ESAB', 'ESMT', 'FLNC', 'FRSH', 'GBTG', 'GFS', 'GTLB', 'HCP', 'HKD', 'HLN', 'IHS', 'INFA', 'IOT', 'JXN', 'KD', 'LTH', 'NU', 'OLPX', 'ONON', 'PFHC', 'RIVN', 'RTLR', 'SHEL', 'SLVM', 'SMR', 'SRAD', 'STER', 'TCN', 'TOST', 'TWKS', 'UDMY', 'WE']\n"
     ]
    }
   ],
   "source": [
    "df = df.dropna(axis=1,how='any')  # drop symbols (i.e. columns) with NaN\n",
    "symbols_after_dropna = df.columns\n",
    "symbols_dropped = symbols_before_dropna.difference(symbols_after_dropna).tolist()\n",
    "# print(f'symbols with NaN dropped from dataframe :{symbols_dropped}')\n",
    "print(f'{len(symbols_dropped)} symbols have NaN in their close price, and were dropped from the dataframe.')\n",
    "print(f'These symbols were dropped:\\n{symbols_dropped}')"
   ]
  },
  {
   "cell_type": "code",
   "execution_count": 9,
   "metadata": {},
   "outputs": [
    {
     "data": {
      "text/plain": [
       "(252, 1873)"
      ]
     },
     "execution_count": 9,
     "metadata": {},
     "output_type": "execute_result"
    }
   ],
   "source": [
    "df.shape"
   ]
  },
  {
   "cell_type": "code",
   "execution_count": 39,
   "metadata": {},
   "outputs": [
    {
     "data": {
      "text/plain": [
       "Index(['A', 'AA', 'AAL', 'AAON', 'AAP', 'AAPL', 'AAWW', 'ABB', 'ABBV', 'ABC',\n",
       "       ...\n",
       "       'ZI', 'ZIM', 'ZION', 'ZLAB', 'ZM', 'ZNH', 'ZS', 'ZTO', 'ZTS', 'ZWS'],\n",
       "      dtype='object', length=1873)"
      ]
     },
     "execution_count": 39,
     "metadata": {},
     "output_type": "execute_result"
    }
   ],
   "source": [
    "df.columns"
   ]
  },
  {
   "cell_type": "code",
   "execution_count": 44,
   "metadata": {},
   "outputs": [],
   "source": [
    "df['A'].to_csv('C:/Users/ping/Desktop/A.csv')\n",
    "df['ZWS'].to_csv('C:/Users/ping/Desktop/ZWS.csv')"
   ]
  },
  {
   "cell_type": "code",
   "execution_count": 7,
   "metadata": {},
   "outputs": [],
   "source": [
    "from myUtils import symb_perf_stats_vectorized_v1\n",
    "symbols, period_yr, drawdown, UI, max_drawdown, \\\n",
    "        returns_std, Std_UI, CAGR, CAGR_Std, CAGR_UI = symb_perf_stats_vectorized_v1(df)"
   ]
  },
  {
   "cell_type": "code",
   "execution_count": 10,
   "metadata": {},
   "outputs": [
    {
     "name": "stdout",
     "output_type": "stream",
     "text": [
      "drawdown.shape: (252, 1873)\n",
      "type(drawdown): <class 'numpy.ndarray'>\n"
     ]
    }
   ],
   "source": [
    "print(f'drawdown.shape: {drawdown.shape}')\n",
    "print(f'type(drawdown): {type(drawdown)}')"
   ]
  },
  {
   "cell_type": "code",
   "execution_count": 12,
   "metadata": {},
   "outputs": [],
   "source": [
    "def moving_window(arr, window):\n",
    "    # reference: http://www.rigtorp.se/2011/01/01/rolling-statistics-numpy.html\n",
    "    \"\"\"Create moving-window of numpy.ndarray from a numpy.ndarray or pandas.Series\n",
    "\n",
    "    Args:\n",
    "        arr(float): a numpy.ndarray or pandas.Series\n",
    "        window(int): width of moving-window\n",
    "\n",
    "    Return:\n",
    "        numpy.ndarray with shape [len(arr) - window + 1, window]\n",
    "            where each row has elements of the moving_window,\n",
    "            and number of elements in each row is the window size (i.e. columns)\n",
    "    \"\"\"\n",
    "\n",
    "    import numpy as np\n",
    "\n",
    "    shape = arr.shape[:-1] + (arr.shape[-1] - window + 1, window)\n",
    "    strides = arr.strides + (arr.strides[-1],)\n",
    "\n",
    "    return np.lib.stride_tricks.as_strided(arr, shape=shape, strides=strides)"
   ]
  },
  {
   "cell_type": "code",
   "execution_count": 13,
   "metadata": {},
   "outputs": [],
   "source": [
    "def UI_MW(arr_drawdown, window=20):\n",
    "    \"\"\"Calculate Ulcer-Index on moving-window applied to\n",
    "       arr_drawdown(numpy.ndarray)\n",
    "\n",
    "    Args:\n",
    "        arr_drawdown(numpy array): drawdown from function symb_perf_stats or\n",
    "                                   from ulcer_index.py\n",
    "        window(int): moving-window size, default = 20\n",
    "\n",
    "    Return:\n",
    "        UI_MW(numpy.ndarray): Ulcer-Index on moving-window\n",
    "        applied to arr_drawdown\n",
    "    \"\"\"\n",
    "\n",
    "    import numpy as np\n",
    "\n",
    "    # apply moving window to arr_drawdown, result is numpy ndarray\n",
    "    DD_MW = moving_window(arr_drawdown, window)\n",
    "    DD_MW_square = np.square(DD_MW)\n",
    "    sum_DD_MW_square = np.sum(DD_MW_square, axis=1)  # sum each row\n",
    "    UI_MW = np.sqrt(sum_DD_MW_square / window)\n",
    "    UI_MW = nan_pad(len(arr_drawdown), UI_MW)  # pad with leading NaN\n",
    "\n",
    "    return UI_MW"
   ]
  },
  {
   "cell_type": "code",
   "execution_count": 47,
   "metadata": {},
   "outputs": [],
   "source": [
    "def UI_MW_15(arr_drawdown):\n",
    "    \"\"\"Calculate Ulcer-Index on moving-window applied to\n",
    "       arr_drawdown(numpy.ndarray)\n",
    "\n",
    "    Args:\n",
    "        arr_drawdown(numpy array): drawdown from function symb_perf_stats or\n",
    "                                   from ulcer_index.py\n",
    "\n",
    "    Return:\n",
    "        UI_MW(numpy.ndarray): Ulcer-Index on moving-window\n",
    "        applied to arr_drawdown\n",
    "    \"\"\"\n",
    "\n",
    "    import numpy as np\n",
    "\n",
    "    # apply moving window to arr_drawdown, result is numpy ndarray\n",
    "    window = 15\n",
    "    DD_MW = moving_window(arr_drawdown, window)\n",
    "    DD_MW_square = np.square(DD_MW)\n",
    "    sum_DD_MW_square = np.sum(DD_MW_square, axis=1)  # sum each row\n",
    "    UI_MW = np.sqrt(sum_DD_MW_square / window)\n",
    "    UI_MW = nan_pad(len(arr_drawdown), UI_MW)  # pad with leading NaN\n",
    "\n",
    "    return UI_MW"
   ]
  },
  {
   "cell_type": "code",
   "execution_count": 46,
   "metadata": {},
   "outputs": [],
   "source": [
    "def UI_MW_30(arr_drawdown):\n",
    "    \"\"\"Calculate Ulcer-Index on moving-window applied to\n",
    "       arr_drawdown(numpy.ndarray)\n",
    "\n",
    "    Args:\n",
    "        arr_drawdown(numpy array): drawdown from function symb_perf_stats or\n",
    "                                   from ulcer_index.py\n",
    "\n",
    "    Return:\n",
    "        UI_MW(numpy.ndarray): Ulcer-Index on moving-window\n",
    "        applied to arr_drawdown\n",
    "    \"\"\"\n",
    "\n",
    "    import numpy as np\n",
    "\n",
    "    # apply moving window to arr_drawdown, result is numpy ndarray\n",
    "    window = 30\n",
    "    DD_MW = moving_window(arr_drawdown, window)\n",
    "    DD_MW_square = np.square(DD_MW)\n",
    "    sum_DD_MW_square = np.sum(DD_MW_square, axis=1)  # sum each row\n",
    "    UI_MW = np.sqrt(sum_DD_MW_square / window)\n",
    "    UI_MW = nan_pad(len(arr_drawdown), UI_MW)  # pad with leading NaN\n",
    "\n",
    "    return UI_MW"
   ]
  },
  {
   "cell_type": "code",
   "execution_count": 15,
   "metadata": {},
   "outputs": [],
   "source": [
    "def nan_pad(arr_len, target_arr):\n",
    "    \"\"\"Pad target_arr with leading numpy.nan to length arr_len.\n",
    "\n",
    "    Args:\n",
    "        arr_len(int): length of return array\n",
    "        target_arr(numpy.ndarray): array to be padded with leading numpy.nan\n",
    "\n",
    "    Return:\n",
    "        padded_target_arr(numpy.ndarray): target_arr padded to length arr_len\n",
    "    \"\"\"\n",
    "\n",
    "    import numpy as np\n",
    "\n",
    "    pad_len = arr_len - len(target_arr)\n",
    "    pad_arr = np.empty(pad_len, dtype=float)\n",
    "    pad_arr.fill(np.nan)\n",
    "    padded_target_arr = np.concatenate((pad_arr, target_arr), axis=0)\n",
    "\n",
    "    return padded_target_arr"
   ]
  },
  {
   "cell_type": "code",
   "execution_count": 48,
   "metadata": {},
   "outputs": [
    {
     "name": "stdout",
     "output_type": "stream",
     "text": [
      "UI_MW_15.shape : (252, 1873)\n",
      "UI_MW_30.shape : (252, 1873)\n"
     ]
    }
   ],
   "source": [
    "import numpy as np\n",
    "UI_MW_15 = np.apply_along_axis(UI_MW_15, 0, drawdown)\n",
    "UI_MW_30 = np.apply_along_axis(UI_MW_30, 0, drawdown)\n",
    "print(f'UI_MW_15.shape : {UI_MW_15.shape}')\n",
    "print(f'UI_MW_30.shape : {UI_MW_30.shape}')"
   ]
  },
  {
   "cell_type": "code",
   "execution_count": 51,
   "metadata": {},
   "outputs": [],
   "source": [
    "import pandas as pd\n",
    "df_UI_MW_15 = pd.DataFrame(data=UI_MW_15, columns=symbols)"
   ]
  },
  {
   "cell_type": "code",
   "execution_count": 55,
   "metadata": {},
   "outputs": [
    {
     "data": {
      "text/plain": [
       "Date\n",
       "2021-08-30    176.278030\n",
       "2021-08-31    175.021271\n",
       "2021-09-01    175.001297\n",
       "2021-09-02    177.564743\n",
       "2021-09-03    178.821518\n",
       "                 ...    \n",
       "2022-08-23    132.639999\n",
       "2022-08-24    133.669998\n",
       "2022-08-25    136.009995\n",
       "2022-08-26    129.869995\n",
       "2022-08-29    128.110001\n",
       "Name: A, Length: 252, dtype: float64"
      ]
     },
     "execution_count": 55,
     "metadata": {},
     "output_type": "execute_result"
    }
   ],
   "source": [
    "df.A"
   ]
  },
  {
   "cell_type": "code",
   "execution_count": 56,
   "metadata": {},
   "outputs": [
    {
     "data": {
      "text/plain": [
       "0          NaN\n",
       "1          NaN\n",
       "2          NaN\n",
       "3          NaN\n",
       "4          NaN\n",
       "5          NaN\n",
       "6          NaN\n",
       "7          NaN\n",
       "8          NaN\n",
       "9          NaN\n",
       "10         NaN\n",
       "11         NaN\n",
       "12         NaN\n",
       "13         NaN\n",
       "14    0.023711\n",
       "15    0.026262\n",
       "16    0.027989\n",
       "17    0.029458\n",
       "18    0.031080\n",
       "19    0.036209\n",
       "Name: A, dtype: float64"
      ]
     },
     "execution_count": 56,
     "metadata": {},
     "output_type": "execute_result"
    }
   ],
   "source": [
    "df_UI_MW_15.A.head(20)"
   ]
  },
  {
   "cell_type": "code",
   "execution_count": null,
   "metadata": {},
   "outputs": [],
   "source": []
  },
  {
   "cell_type": "code",
   "execution_count": 45,
   "metadata": {},
   "outputs": [],
   "source": [
    "a = x[:,-1]\n",
    "np.savetxt('C:/Users/ping/Desktop/ZWS_UI_MW.csv', a, delimiter=\",\")\n"
   ]
  }
 ],
 "metadata": {
  "kernelspec": {
   "display_name": "Python 3.7.9 ('.venv': poetry)",
   "language": "python",
   "name": "python3"
  },
  "language_info": {
   "codemirror_mode": {
    "name": "ipython",
    "version": 3
   },
   "file_extension": ".py",
   "mimetype": "text/x-python",
   "name": "python",
   "nbconvert_exporter": "python",
   "pygments_lexer": "ipython3",
   "version": "3.7.9"
  },
  "orig_nbformat": 4,
  "vscode": {
   "interpreter": {
    "hash": "55a3812d65f91e7e7447da6b5cfc60716e82f91e6a92533fb27b46796ad1962a"
   }
  }
 },
 "nbformat": 4,
 "nbformat_minor": 2
}
