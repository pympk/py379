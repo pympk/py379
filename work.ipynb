{
 "cells": [
  {
   "cell_type": "code",
   "execution_count": null,
   "metadata": {},
   "outputs": [],
   "source": [
    "# https://towardsdatascience.com/pandas-groupby-a-simple-but-detailed-tutorial-314b8f37005d\n",
    "# https://towardsdatascience.com/accessing-data-in-a-multiindex-dataframe-in-pandas-569e8767201d\n",
    "# https://towardsdatascience.com/summarizing-data-with-pandas-crosstab-efc8b9abecf\n",
    "# https://towardsdatascience.com/how-to-flatten-multiindex-columns-and-rows-in-pandas-f5406c50e569\n",
    "# https://datascientyst.com/list-aggregation-functions-aggfunc-groupby-pandas/\n",
    "# https://stackoverflow.com/questions/25929319/how-to-iterate-over-pandas-multiindex-dataframe-using-index\n",
    "# https://stackoverflow.com/questions/24495695/pandas-get-unique-multiindex-level-values-by-label\n",
    "# https://stackoverflow.com/questions/55706391/pandas-crosstab-on-multiple-columns-then-groupby\n",
    "\n",
    "# https://matplotlib.org/stable/gallery/pyplots/pyplot_text.html#sphx-glr-gallery-pyplots-pyplot-text-py"
   ]
  },
  {
   "cell_type": "code",
   "execution_count": null,
   "metadata": {},
   "outputs": [],
   "source": [
    "import pandas as pd\n",
    "import numpy as np\n",
    "from myUtils import pickle_load, pickle_dump, symb_perf_stats_vectorized\n",
    "\n",
    "path_dir = \"C:/Users/ping/MyDrive/stocks/yfinance/\"\n",
    "path_data_dump = path_dir + \"VSCode_dump/\"\n",
    "\n",
    "filename_symbols = path_data_dump + 'vg_symbols_4chars_max.csv'  # symbols text file\n",
    "filename_pickled_df_OHLCVA_downloaded = 'df_OHLCVA_downloaded '  # OHLCVA downloaded from Yahoo\n",
    "filename_pickled_df_adjOHLCV = 'df_adjOHLCV'  # adjusted OHLCV\n",
    "filename_pickled_df_symbols_close = \"df_symbols_close\"  # symbols' adjusted close\n",
    "filename_pickled_symbols_df_adjOHLCV =  'symbols_df_adjOHLCV'  # symbols in df_adjOHLCV\n",
    "\n",
    "verbose = False  # True prints more output\n",
    "look_back_days = -250 * 6  # subset df iloc days"
   ]
  },
  {
   "cell_type": "code",
   "execution_count": null,
   "metadata": {},
   "outputs": [],
   "source": [
    "print(f\"Full path to pickled df_symbols_close:  {path_data_dump}{filename_pickled_df_symbols_close}\")\n",
    "df_close = pickle_load(path_data_dump, filename_pickled_df_symbols_close, verbose=verbose)\n",
    "print(f\"Full path to pickled df_OHLCVA_downloaded:  {path_data_dump}{filename_pickled_df_OHLCVA_downloaded}\")\n",
    "df_OHLCVA = pickle_load(path_data_dump, filename_pickled_df_OHLCVA_downloaded, verbose=verbose)"
   ]
  },
  {
   "cell_type": "code",
   "execution_count": null,
   "metadata": {},
   "outputs": [],
   "source": [
    "# https://stackoverflow.com/questions/63826291/pandas-series-find-column-by-value\n",
    "df = df_OHLCVA[look_back_days::]\n",
    "df_v = df.xs('Volume', level=1, axis=1)  # select only Volume columns\n",
    "rows, cols = np.where(df_v == 0)  # row index, column index where trading volumes are zero\n",
    "idx_no_volume = list(set(cols))\n",
    "idx_no_volume.sort()\n",
    "symbols_no_volume = df_v.columns[idx_no_volume]\n",
    "print(f'symbols with no volume:\\n{symbols_no_volume}')"
   ]
  },
  {
   "cell_type": "code",
   "execution_count": null,
   "metadata": {},
   "outputs": [],
   "source": [
    "df_c = df.xs('Close', level=1, axis=1)  # select only Close columns\n",
    "df_c = df_c.fillna(0).copy()  # convert NaNs to zeros\n",
    "rows, cols = np.where(df_c == 0)  # row index, column index where trading volumes are zero\n",
    "idx_no_close = list(set(cols))\n",
    "idx_no_close.sort()\n",
    "symbols_no_close = df_c.columns[idx_no_close]\n",
    "print(f'symbols with NaN close:\\n{symbols_no_close}')"
   ]
  },
  {
   "cell_type": "code",
   "execution_count": null,
   "metadata": {},
   "outputs": [],
   "source": [
    "symbols_drop = list(symbols_no_close) + list(symbols_no_volume)  # combine symbols with no volume and no close\n",
    "print(f'symbols_drop with duplicate symbols: {len(symbols_drop)}')\n",
    "symbols_drop = list(set(symbols_drop))  # drop duplicate symbols\n",
    "symbols_drop .sort()\n",
    "print(f'symbols_drop with unique symbols: {len(symbols_drop)}')"
   ]
  },
  {
   "cell_type": "code",
   "execution_count": null,
   "metadata": {},
   "outputs": [],
   "source": [
    "df_a = df.drop(symbols_drop, axis=1, level=0)  # drop symbols from OHLCA df\n",
    "df_a"
   ]
  },
  {
   "cell_type": "code",
   "execution_count": null,
   "metadata": {},
   "outputs": [],
   "source": [
    "df_c = df_close.iloc[look_back_days::]\n",
    "df_c = df_c.drop(symbols_drop, axis=1)\n",
    "df_c"
   ]
  },
  {
   "cell_type": "code",
   "execution_count": null,
   "metadata": {},
   "outputs": [],
   "source": [
    "print(f'symbols with no volume: {len(symbols_no_volume)}')\n",
    "print(f'symbols with no close: {len(symbols_no_close)}')\n",
    "print(f'unique symbols dropped from df_a and df_c: {len(symbols_drop)}')"
   ]
  },
  {
   "cell_type": "code",
   "execution_count": null,
   "metadata": {},
   "outputs": [],
   "source": [
    "# _periods = [-15, -30, -60, -120, -240]\n",
    "\n",
    "perf_rank_dict = {}\n",
    "syms_perf_rank = []\n",
    "_periods = [-15, -30, -60, -120, -240]\n",
    "for _period in _periods:\n",
    "  f_name = 'period' + str(_period)\n",
    "\n",
    "  _df_c = df_c[_period::]\n",
    "  symbols, period_yr, drawdown, UI, max_drawdown, returns_std, Std_UI, CAGR, CAGR_Std, CAGR_UI = \\\n",
    "      symb_perf_stats_vectorized(_df_c)\n",
    "  caches_perf_stats_vect = []\n",
    "  for symbol in symbols:\n",
    "      date_first = drawdown.index[0].strftime('%Y-%m-%d')\n",
    "      date_last = drawdown.index[-1].strftime('%Y-%m-%d')\n",
    "      cache = (symbol, date_first, date_last, period_yr, CAGR[symbol],\n",
    "              UI[symbol], Std_UI[symbol], CAGR_Std[symbol], CAGR_UI[symbol])\n",
    "      # append performance data (tuple) to caches_perf_stats (list)\n",
    "      caches_perf_stats_vect.append(cache)\n",
    "  column_names = ['symbol', 'first date', 'last date', 'Year', 'CAGR',\n",
    "                  'UI', 'Std/UI', 'CAGR/Std', 'CAGR/UI']\n",
    "\n",
    "  # write symbols' performance stats to dataframe\n",
    "  df_ps = pd.DataFrame(caches_perf_stats_vect, columns=column_names)\n",
    "  df_ps['r_CAGR/UI'] = df_ps['CAGR/UI'].rank(ascending=False)\n",
    "  df_ps['r_CAGR/Std'] = df_ps['CAGR/Std'].rank(ascending=False)\n",
    "  df_ps['r_Std/UI'] = df_ps['Std/UI'].rank(ascending=False)\n",
    "  \n",
    "  _dict = {}\n",
    "  cols_sort = ['r_CAGR/UI', 'r_CAGR/Std', 'r_Std/UI']\n",
    "  print(f'{f_name} top 10 symbols')  \n",
    "  for col in cols_sort:\n",
    "    symbols_top_10 = df_ps.sort_values(by=[col]).head(10).symbol.values\n",
    "    syms_perf_rank.append(list(symbols_top_10))\n",
    "    print(f'{col}: {symbols_top_10}')\n",
    "    _dict[col] = symbols_top_10\n",
    "    perf_rank_dict[f'{f_name}'] = _dict\n",
    "  print(' ')\n",
    "\n",
    "pickle_dump(perf_rank_dict, path_data_dump, 'perf_rank_dict')\n",
    "print(f'Pickled perf_rank_dict to: {path_data_dump}perf_rank_dict\\n')\n",
    "print(f'perf_rank_dict:\\n{perf_rank_dict}\\n')\n",
    "print(f'syms_perf_rank: {syms_perf_rank}')\n"
   ]
  },
  {
   "cell_type": "code",
   "execution_count": null,
   "metadata": {},
   "outputs": [],
   "source": [
    "syms_perf_rank  # list of lists\n",
    "l_syms_perf_rank = [val for sublist in syms_perf_rank for val in sublist]  # flatten list of lists\n",
    "\n",
    "from collections import Counter\n",
    "c = Counter(l_syms_perf_rank)  # count symbols and count\n",
    "print(c) \n",
    "c_tuples = c.most_common(13)[3:]  # e.g [('AKRO', 6), ('IMVT', 4), ... ('ADEA', 3)]\n",
    "l_symbols = [symbol for symbol, count in c_tuples]  # top 3-13 most common symbols in syms_perf_rank\n",
    "l_symbols  "
   ]
  }
 ],
 "metadata": {
  "kernelspec": {
   "display_name": "Python 3.7.9 ('.venv': poetry)",
   "language": "python",
   "name": "python3"
  },
  "language_info": {
   "codemirror_mode": {
    "name": "ipython",
    "version": 3
   },
   "file_extension": ".py",
   "mimetype": "text/x-python",
   "name": "python",
   "nbconvert_exporter": "python",
   "pygments_lexer": "ipython3",
   "version": "3.7.9"
  },
  "orig_nbformat": 4,
  "vscode": {
   "interpreter": {
    "hash": "55a3812d65f91e7e7447da6b5cfc60716e82f91e6a92533fb27b46796ad1962a"
   }
  }
 },
 "nbformat": 4,
 "nbformat_minor": 2
}
