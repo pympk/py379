{
 "cells": [
  {
   "cell_type": "code",
   "execution_count": 2,
   "metadata": {},
   "outputs": [
    {
     "name": "stdout",
     "output_type": "stream",
     "text": [
      "2\n",
      "1\n"
     ]
    },
    {
     "ename": "SystemExit",
     "evalue": "ERROR, Must be more than 1 symobl in each chunk\nsymbols in chunk: ['c']",
     "output_type": "error",
     "traceback": [
      "An exception has occurred, use %tb to see the full traceback.\n",
      "\u001b[1;31mSystemExit\u001b[0m\u001b[1;31m:\u001b[0m ERROR, Must be more than 1 symobl in each chunk\nsymbols in chunk: ['c']\n"
     ]
    },
    {
     "name": "stderr",
     "output_type": "stream",
     "text": [
      "c:\\Users\\ping\\MyDrive\\py_files\\python\\py379\\.venv\\lib\\site-packages\\IPython\\core\\interactiveshell.py:3561: UserWarning: To exit: use 'exit', 'quit', or Ctrl-D.\n",
      "  warn(\"To exit: use 'exit', 'quit', or Ctrl-D.\", stacklevel=1)\n"
     ]
    }
   ],
   "source": [
    "list = [['a', 'b'], ['c'], ['d', 'e']]\n",
    "for l in list:\n",
    "  print(len(l))\n",
    "  if len(l) == 1:\n",
    "    raise SystemExit(f'ERROR, Must be more than 1 symobol in each chunk\\nsymbols in chunk: {l}')"
   ]
  },
  {
   "cell_type": "code",
   "execution_count": null,
   "metadata": {},
   "outputs": [],
   "source": []
  },
  {
   "cell_type": "code",
   "execution_count": 1,
   "metadata": {},
   "outputs": [],
   "source": [
    "import yfinance as yf\n",
    "import pandas as pd\n",
    "from myUtils import yf_download_AdjOHLCV_noAutoAdj\n",
    "verbose = False  # True prints more output"
   ]
  },
  {
   "cell_type": "code",
   "execution_count": 2,
   "metadata": {},
   "outputs": [],
   "source": [
    "def auto_adjust(data):\n",
    "    df = data.copy()\n",
    "    ratio = df[\"Close\"] / df[\"Adj Close\"]\n",
    "    df[\"Adj Open\"] = df[\"Open\"] / ratio\n",
    "    df[\"Adj High\"] = df[\"High\"] / ratio\n",
    "    df[\"Adj Low\"] = df[\"Low\"] / ratio\n",
    "\n",
    "    df.drop(\n",
    "        [\"Open\", \"High\", \"Low\", \"Close\"],\n",
    "        axis=1, inplace=True)\n",
    "\n",
    "    df.rename(columns={\n",
    "        \"Adj Open\": \"Open\", \"Adj High\": \"High\",\n",
    "        \"Adj Low\": \"Low\", \"Adj Close\": \"Close\"\n",
    "    }, inplace=True)\n",
    "\n",
    "    # df = df[[\"Open\", \"High\", \"Low\", \"Close\", \"Volume\"]]\n",
    "    return df[[\"Open\", \"High\", \"Low\", \"Close\", \"Volume\"]]"
   ]
  },
  {
   "cell_type": "code",
   "execution_count": 3,
   "metadata": {},
   "outputs": [],
   "source": [
    "def close_vs_Yahoo (symbols, df):\n",
    "  for symbol in symbols:\n",
    "    s = df.iloc[-222]\n",
    "    \n",
    "    sDate = s.name.strftime('%Y-%m-%d')\n",
    "    sClose = s[symbol].Close\n",
    "\n",
    "    df_sym = yf.Ticker(symbol).history(period='2y')\n",
    "    # 10:45PM got Adj Close\n",
    "    yhClose = df_sym.loc[sDate]['Close']\n",
    "\n",
    "    abs_pct_diff = abs(1 - sClose/yhClose)*100\n",
    "    print(f'symbol:  {symbol:>4}   Date: {sDate:13}df_Close: {sClose:>10.5f} \\\n",
    "    Yahoo_Close: {yhClose:>10.5f}   %_dif_Close: {abs_pct_diff:>7.5f}')\n",
    "    if abs_pct_diff > .0001:\n",
    "      msg_err = f'{symbol}  %_dif_Close > .0001'\n",
    "      # raise SystemExit(msg_err)\n",
    "      print(msg_err)  # even if discrepancy, the relative relationship of OHLCV in df_close matches Yahoo_Close\n",
    "    if symbol == symbols[-1]:\n",
    "      msg_done = f\"No errors found.  Symbols' 'Adjusted Close' matched Yahoo symbols' Close \"\n",
    "      print(msg_done)"
   ]
  },
  {
   "cell_type": "code",
   "execution_count": 4,
   "metadata": {},
   "outputs": [
    {
     "name": "stdout",
     "output_type": "stream",
     "text": [
      "[*********************100%***********************]  3 of 3 completed\n"
     ]
    }
   ],
   "source": [
    "_l_symbols = ['A', 'SHEL', 'YUM']\n",
    "\n",
    "_df_list=[]\n",
    "_df = yf_download_AdjOHLCV_noAutoAdj(_l_symbols, verbose=False)\n",
    "_df_list.append(_df)\n",
    "_df = pd.concat(_df_list, axis=1)\n",
    "# get unique symbols from column name\n",
    "symbols = list(set(_df.columns.get_level_values(0)))\n",
    "symbols.sort()\n",
    "\n",
    "_df_adj_list=[]\n",
    "# adjust OHLC using 'Adj Close'\n",
    "for symbol in _l_symbols:\n",
    "  _df1 = auto_adjust(_df[symbol])\n",
    "  _df_adj_list.append(_df1)\n",
    "\n",
    "_df_adj = pd.concat(_df_adj_list, axis=1)\n",
    "_cols = ['Open', 'High', 'Low', 'Close', 'Volume']\n",
    "# create multilevel column names\n",
    "_col_names = pd.MultiIndex.from_product([_l_symbols, _cols])\n",
    "_df_adj.columns = _col_names"
   ]
  },
  {
   "cell_type": "code",
   "execution_count": 5,
   "metadata": {},
   "outputs": [
    {
     "name": "stdout",
     "output_type": "stream",
     "text": [
      "symbol:     A   Date: 2021-12-23   df_Close:  156.79584     Yahoo_Close:  156.79584   %_dif_Close: 0.00000\n",
      "symbol:  SHEL   Date: 2021-12-23   df_Close:   42.67276     Yahoo_Close:   42.67276   %_dif_Close: 0.00000\n",
      "symbol:   YUM   Date: 2021-12-23   df_Close:  133.39622     Yahoo_Close:  133.39622   %_dif_Close: 0.00000\n",
      "No errors found.  Test_symbols' 'Adjusted Close' matched Yahoo symbols' Close \n"
     ]
    }
   ],
   "source": [
    "close_vs_Yahoo(_l_symbols, _df_adj)"
   ]
  },
  {
   "cell_type": "code",
   "execution_count": null,
   "metadata": {},
   "outputs": [],
   "source": []
  },
  {
   "cell_type": "code",
   "execution_count": null,
   "metadata": {},
   "outputs": [],
   "source": [
    "for symbol in _l_symbols:\n",
    "\n",
    "  s = _df_adj.iloc[-222]\n",
    "  # s = df_adjOHLCV.iloc[-222]  # use to check download after FINISHED running all cells\n",
    "  \n",
    "  sDate = s.name.strftime('%Y-%m-%d')\n",
    "  sClose = s[symbol].Close\n",
    "\n",
    "  df_sym = yf.Ticker(symbol).history(period='2y')\n",
    "  # 10:45PM got Adj Close\n",
    "  yhClose = df_sym.loc[sDate]['Close']\n",
    "\n",
    "  abs_pct_diff = abs(1 - sClose/yhClose)*100\n",
    "  print(f'symbol:  {symbol:>4}   Date: {sDate:13}df_Close: {sClose:>10.5f} \\\n",
    "  Yahoo_Close: {yhClose:>10.5f}   %_dif_Close: {abs_pct_diff:>7.5f}')\n",
    "  if abs_pct_diff > .0001:\n",
    "    msg_err = f'{symbol}  %_dif_Close > .0001'\n",
    "    # raise SystemExit(msg_err)\n",
    "    print(msg_err)  # even if discrepancy, the relative relationship of OHLCV in df_close matches Yahoo_Close\n",
    "  if symbol == _l_symbols[-1]:\n",
    "    msg_done = f\"No errors found.  Test_symbols' 'Adjusted Close' matched Yahoo symbols' Close \"\n",
    "    print(msg_done)"
   ]
  },
  {
   "cell_type": "code",
   "execution_count": null,
   "metadata": {},
   "outputs": [],
   "source": [
    "# # verify df test_symbols' close against Yahoo\n",
    "# # even if discrepancy, the relative relationship of OHLCV in df_close matches Yahoo_Close\n",
    "# test_symbols = ['A', 'SHEL', 'YUM']\n",
    "# _df_list=[]\n",
    "# _df = yf_download_AdjOHLCV_noAutoAdj(test_symbols, verbose=False)\n",
    "# _df_list.append(_df)\n",
    "# _df = pd.concat(_df_list, axis=1)\n",
    "# # get unique symbols from column name\n",
    "# _l_symbols = list(set(_df.columns.get_level_values(0)))\n",
    "# _l_symbols.sort()\n",
    "\n",
    "# _df_adj_list=[]\n",
    "# # adjust OHLC using 'Adj Close'\n",
    "# for symbol in _l_symbols:\n",
    "#   _df1 = auto_adjust(_df[symbol])\n",
    "#   _df_adj_list.append(_df1)\n",
    "\n",
    "# _df_adj = pd.concat(_df_adj_list, axis=1)\n",
    "# _cols = ['Open', 'High', 'Low', 'Close', 'Volume']\n",
    "# # create multilevel column names\n",
    "# _col_names = pd.MultiIndex.from_product([_l_symbols, _cols])\n",
    "# _df_adj.columns = _col_names\n",
    "\n",
    "# for symbol in _l_symbols:\n",
    "\n",
    "#   s = _df_adj.iloc[-222]\n",
    "#   # s = df_adjOHLCV.iloc[-222]  # use to check download after FINISHED running all cells\n",
    "  \n",
    "#   sDate = s.name.strftime('%Y-%m-%d')\n",
    "#   sClose = s[symbol].Close\n",
    "\n",
    "#   df_sym = yf.Ticker(symbol).history(period='2y')\n",
    "#   # 10:45PM got Adj Close\n",
    "#   yhClose = df_sym.loc[sDate]['Close']\n",
    "\n",
    "#   abs_pct_diff = abs(1 - sClose/yhClose)*100\n",
    "#   print(f'symbol:  {symbol:>4}   Date: {sDate:13}df_Close: {sClose:>10.5f} \\\n",
    "#   Yahoo_Close: {yhClose:>10.5f}   %_dif_Close: {abs_pct_diff:>7.5f}')\n",
    "#   if abs_pct_diff > .0001:\n",
    "#     msg_err = f'{symbol}  %_dif_Close > .0001'\n",
    "#     # raise SystemExit(msg_err)\n",
    "#     print(msg_err)  # even if discrepancy, the relative relationship of OHLCV in df_close matches Yahoo_Close\n",
    "#   if symbol == test_symbols[-1]:\n",
    "#     msg_done = f\"No errors found.  Test_symbols' 'Adjusted Close' matched Yahoo symbols' Close \"\n",
    "#     print(msg_done)"
   ]
  },
  {
   "cell_type": "code",
   "execution_count": null,
   "metadata": {},
   "outputs": [],
   "source": []
  }
 ],
 "metadata": {
  "kernelspec": {
   "display_name": "Python 3.7.9 ('.venv': poetry)",
   "language": "python",
   "name": "python3"
  },
  "language_info": {
   "codemirror_mode": {
    "name": "ipython",
    "version": 3
   },
   "file_extension": ".py",
   "mimetype": "text/x-python",
   "name": "python",
   "nbconvert_exporter": "python",
   "pygments_lexer": "ipython3",
   "version": "3.7.9"
  },
  "orig_nbformat": 4,
  "vscode": {
   "interpreter": {
    "hash": "55a3812d65f91e7e7447da6b5cfc60716e82f91e6a92533fb27b46796ad1962a"
   }
  }
 },
 "nbformat": 4,
 "nbformat_minor": 2
}
