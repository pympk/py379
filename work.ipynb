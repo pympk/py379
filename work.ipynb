{
 "cells": [
  {
   "cell_type": "code",
   "execution_count": 6,
   "metadata": {},
   "outputs": [],
   "source": [
    "from myUtils import pickle_load\n",
    "path_dir = \"C:/Users/ping/MyDrive/stocks/yfinance/\"\n",
    "path_data_dump = path_dir + \"VSCode_dump/\"\n",
    "filename_pickled_df_symbols_close = \"df_symbols_close\"  # pickled filename"
   ]
  },
  {
   "cell_type": "code",
   "execution_count": 7,
   "metadata": {},
   "outputs": [
    {
     "name": "stdout",
     "output_type": "stream",
     "text": [
      "Full path to pickled df_symbols_close:  C:/Users/ping/MyDrive/stocks/yfinance/VSCode_dump/df_symbols_close\n"
     ]
    }
   ],
   "source": [
    "# load df_symbols_close\n",
    "df = pickle_load(path_data_dump, filename_pickled_df_symbols_close)\n",
    "print(f\"Full path to pickled df_symbols_close:  {path_data_dump}{filename_pickled_df_symbols_close}\")\n",
    "df_orig = df.copy()  # backup df\n",
    "df = df.tail(252)  # keep only the last 252 days of data\n",
    "symbols_before_dropna = df.columns\n",
    "shp_before = df.shape"
   ]
  },
  {
   "cell_type": "code",
   "execution_count": 20,
   "metadata": {},
   "outputs": [
    {
     "name": "stdout",
     "output_type": "stream",
     "text": [
      "49 symbols have NaN in their close price, and were dropped from the dataframe.\n",
      "\n",
      "These symbols were dropped:\n",
      "['ACT', 'BF-A', 'BLCO', 'BRCC', 'BRZE', 'BXSL', 'CEG', 'CMTG', 'CRDO', 'CRGY', 'CWAN', 'DH', 'EE', 'ESAB', 'ESMT', 'FLNC', 'FRSH', 'FYBR', 'GBTG', 'GFS', 'GOOG', 'GTLB', 'HCP', 'HKD', 'HLN', 'IHS', 'INFA', 'IOT', 'KD', 'LTH', 'NU', 'OLPX', 'ONON', 'PFHC', 'RIVN', 'RTLR', 'SLVM', 'SMCI', 'SMR', 'SNAP', 'SNOW', 'SRAD', 'STER', 'TCN', 'TOST', 'TWKS', 'UDMY', 'VALE', 'WE']\n",
      "\n",
      "                      rows     columns\n",
      "df before dropna       252        1917\n",
      "df after dropna        252        1868\n"
     ]
    }
   ],
   "source": [
    "df = df.dropna(axis=1, how='any')  # drop symbols (i.e. columns) with NaN\n",
    "symbols_after_dropna = df.columns\n",
    "symbols_dropped = symbols_before_dropna.difference(symbols_after_dropna).tolist()\n",
    "# print(f'symbols with NaN dropped from dataframe :{symbols_dropped}')\n",
    "print(f'{len(symbols_dropped)} symbols have NaN in their close price, and were dropped from the dataframe.\\n')\n",
    "print(f'These symbols were dropped:\\n{symbols_dropped}\\n')\n",
    "shp_after = df.shape\n",
    "print(f'                      rows     columns')\n",
    "print(f'df before dropna  {shp_before[0]:>8}    {shp_before[1]:>8}')\n",
    "print(f'df after dropna   {shp_after[0]:>8}    {shp_after[1]:>8}')"
   ]
  },
  {
   "cell_type": "code",
   "execution_count": 21,
   "metadata": {},
   "outputs": [],
   "source": [
    "from myUtils import symb_perf_stats_vectorized_v1\n",
    "symbols, period_yr, drawdown, UI, max_drawdown, \\\n",
    "        returns_std, Std_UI, CAGR, CAGR_Std, CAGR_UI = symb_perf_stats_vectorized_v1(df)"
   ]
  },
  {
   "cell_type": "code",
   "execution_count": 27,
   "metadata": {},
   "outputs": [
    {
     "name": "stdout",
     "output_type": "stream",
     "text": [
      "drawdown(rows, columns): 252, 1868\n",
      "type(drawdown): <class 'numpy.ndarray'>\n"
     ]
    }
   ],
   "source": [
    "print(f'drawdown(rows, columns): {drawdown.shape[0]}, {drawdown.shape[1]}')\n",
    "print(f'type(drawdown): {type(drawdown)}')"
   ]
  },
  {
   "cell_type": "code",
   "execution_count": 37,
   "metadata": {},
   "outputs": [
    {
     "name": "stdout",
     "output_type": "stream",
     "text": [
      "UIMW15.shape : (252, 1868)\n",
      "UIMW30.shape : (252, 1868)\n"
     ]
    }
   ],
   "source": [
    "import numpy as np\n",
    "from myUtils import nan_pad, moving_window, UI_MW\n",
    "UIMW15 = np.apply_along_axis(lambda x: UI_MW(x, window=15), 0, drawdown)\n",
    "UIMW30 = np.apply_along_axis(lambda x: UI_MW(x, window=30), 0, drawdown)\n",
    "print(f'UIMW15.shape : {UIMW15.shape}')\n",
    "print(f'UIMW30.shape : {UIMW30.shape}')"
   ]
  },
  {
   "cell_type": "code",
   "execution_count": null,
   "metadata": {},
   "outputs": [],
   "source": [
    "anr = abs(1 - UIMW30/UIMW15)  # absolute normalized ratio  \n",
    "anr.shape"
   ]
  },
  {
   "cell_type": "code",
   "execution_count": null,
   "metadata": {},
   "outputs": [],
   "source": [
    "anr15 = anr[-15:, :]\n",
    "anr15"
   ]
  },
  {
   "cell_type": "code",
   "execution_count": null,
   "metadata": {},
   "outputs": [],
   "source": [
    "fMask = np.where((anr15 < .0005), True, False)  # filtered masked 2d np.array\n",
    "idx_filtr_anr15 = np.column_stack(np.where(fMask))\n",
    "# len(idx_filtr_anr15)"
   ]
  },
  {
   "cell_type": "code",
   "execution_count": null,
   "metadata": {},
   "outputs": [],
   "source": [
    "idx_syms = idx_filtr_anr15[:,1].tolist()\n",
    "idx_syms = list(set(idx_syms))\n",
    "idx_syms.sort()"
   ]
  },
  {
   "cell_type": "code",
   "execution_count": null,
   "metadata": {},
   "outputs": [],
   "source": [
    "fSyms = []\n",
    "for idx in idx_syms:\n",
    "  fSyms.append(df.columns[idx])\n",
    "len(fSyms)"
   ]
  },
  {
   "cell_type": "code",
   "execution_count": null,
   "metadata": {},
   "outputs": [],
   "source": [
    "['RPRX', 'SNA', 'VRTX']"
   ]
  },
  {
   "cell_type": "code",
   "execution_count": null,
   "metadata": {},
   "outputs": [],
   "source": [
    "import yfinance as yf\n",
    "from myUtils import yf_print_symbol_data, yf_candlestick\n",
    "# plot symbols\n",
    "plot_days = '252d'\n",
    "for symbol in fSyms[80:95]:\n",
    "    # yf.Ticker OHLC are adjusted correctly\n",
    "    df = yf.Ticker(symbol).history(period=plot_days)\n",
    "    df.drop(['Dividends', 'Stock Splits'], axis=1, inplace=True)  # drop Div. and Stock Splits columns\n",
    "    df.columns = ['open', 'high', 'low', 'close', 'volume']  # rename columns Open ... Volume to open ... volume\n",
    "    cache_plot = yf_candlestick(symbol, df, plot_chart=True)"
   ]
  }
 ],
 "metadata": {
  "kernelspec": {
   "display_name": "Python 3.7.9 ('.venv': poetry)",
   "language": "python",
   "name": "python3"
  },
  "language_info": {
   "codemirror_mode": {
    "name": "ipython",
    "version": 3
   },
   "file_extension": ".py",
   "mimetype": "text/x-python",
   "name": "python",
   "nbconvert_exporter": "python",
   "pygments_lexer": "ipython3",
   "version": "3.7.9"
  },
  "orig_nbformat": 4,
  "vscode": {
   "interpreter": {
    "hash": "55a3812d65f91e7e7447da6b5cfc60716e82f91e6a92533fb27b46796ad1962a"
   }
  }
 },
 "nbformat": 4,
 "nbformat_minor": 2
}
