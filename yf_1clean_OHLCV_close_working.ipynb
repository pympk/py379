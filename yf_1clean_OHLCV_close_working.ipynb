{
 "cells": [
  {
   "cell_type": "code",
   "execution_count": 1,
   "metadata": {},
   "outputs": [],
   "source": [
    "# https://towardsdatascience.com/pandas-groupby-a-simple-but-detailed-tutorial-314b8f37005d\n",
    "# https://towardsdatascience.com/accessing-data-in-a-multiindex-dataframe-in-pandas-569e8767201d\n",
    "# https://towardsdatascience.com/summarizing-data-with-pandas-crosstab-efc8b9abecf\n",
    "# https://towardsdatascience.com/how-to-flatten-multiindex-columns-and-rows-in-pandas-f5406c50e569\n",
    "# https://datascientyst.com/list-aggregation-functions-aggfunc-groupby-pandas/\n",
    "# https://stackoverflow.com/questions/25929319/how-to-iterate-over-pandas-multiindex-dataframe-using-index\n",
    "# https://stackoverflow.com/questions/24495695/pandas-get-unique-multiindex-level-values-by-label\n",
    "# https://stackoverflow.com/questions/55706391/pandas-crosstab-on-multiple-columns-then-groupby\n",
    "\n",
    "# https://matplotlib.org/stable/gallery/pyplots/pyplot_text.html#sphx-glr-gallery-pyplots-pyplot-text-py"
   ]
  },
  {
   "cell_type": "code",
   "execution_count": 2,
   "metadata": {},
   "outputs": [],
   "source": [
    "import pandas as pd\n",
    "import numpy as np\n",
    "from myUtils import pickle_load, pickle_dump, symb_perf_stats_vectorized\n",
    "\n",
    "path_dir = \"C:/Users/ping/MyDrive/stocks/yfinance/\"\n",
    "path_data_dump = path_dir + \"VSCode_dump/\"\n",
    "\n",
    "filename_symbols = path_data_dump + 'vg_symbols_4chars_max.csv'  # symbols text file\n",
    "# _filename_pickled_df_OHLCVA_downloaded = 'df_OHLCVA_downloaded '  # OHLCVA downloaded from Yahoo\n",
    "filename_pickled_df_adjOHLCV = 'df_adjOHLCV'  # adjusted OHLCV\n",
    "filename_pickled_df_symbols_close = \"df_symbols_close\"  # symbols' adjusted close\n",
    "filename_pickled_symbols_df_adjOHLCV =  'symbols_df_adjOHLCV'  # symbols in df_adjOHLCV\n",
    "filename_pickled_perf_rank_dict =  'perf_rank_dict'  # store symbols from performance rank results\n",
    "filename_pickled_r_all_ranks =  'r_all_ranks'  # list of top 100 most common symbols from performance rank results\n",
    "filename_pickled_df_a = 'df_OHLCV_clean'  # df adjusted OHLCV, dropped symbols with no vol and close\n",
    "filename_pickled_df_c = 'df_close_clean'  # df close, dropped symbols with no vol and close\n",
    "\n",
    "verbose = False  # True prints more output\n",
    "\n",
    "#################\n",
    "# look_back_days = -250 * 60  # subset df iloc days\n",
    "look_back_days = -250 * 6  # subset df iloc days, 6 years of data\n",
    "#################"
   ]
  },
  {
   "cell_type": "code",
   "execution_count": 3,
   "metadata": {},
   "outputs": [
    {
     "name": "stdout",
     "output_type": "stream",
     "text": [
      "Full path to pickled df_symbols_close:  C:/Users/ping/MyDrive/stocks/yfinance/VSCode_dump/df_symbols_close\n",
      "Full path to pickled df_adjOHLCV:  C:/Users/ping/MyDrive/stocks/yfinance/VSCode_dump/df_adjOHLCV\n"
     ]
    }
   ],
   "source": [
    "print(f\"Full path to pickled df_symbols_close:  {path_data_dump}{filename_pickled_df_symbols_close}\")\n",
    "df_close = pickle_load(path_data_dump, filename_pickled_df_symbols_close, verbose=verbose)\n",
    "print(f\"Full path to pickled df_adjOHLCV:  {path_data_dump}{filename_pickled_df_adjOHLCV}\")\n",
    "df_adjOHLCV = pickle_load(path_data_dump, filename_pickled_df_adjOHLCV, verbose=verbose)"
   ]
  },
  {
   "cell_type": "code",
   "execution_count": 4,
   "metadata": {},
   "outputs": [
    {
     "name": "stdout",
     "output_type": "stream",
     "text": [
      "symbols with no volume:\n",
      "Index(['AAIN', 'AAMC', 'ABMD', 'ABST', 'AC', 'ACAB', 'ACAD', 'ACAQ', 'ACBA',\n",
      "       'ACDI',\n",
      "       ...\n",
      "       'WRAC', 'WSC', 'WTMA', 'WWAC', 'XEL', 'XFIN', 'XPEL', 'XPER', 'YNDX',\n",
      "       'ZNH'],\n",
      "      dtype='object', length=731)\n"
     ]
    }
   ],
   "source": [
    "# https://stackoverflow.com/questions/63826291/pandas-series-find-column-by-value\n",
    "df = df_adjOHLCV[look_back_days::]\n",
    "df_v = df.xs('Volume', level=1, axis=1)  # select only Volume columns\n",
    "rows, cols = np.where(df_v == 0)  # row index, column index where trading volumes are zero\n",
    "idx_no_volume = list(set(cols))\n",
    "idx_no_volume.sort()\n",
    "symbols_no_volume = df_v.columns[idx_no_volume]\n",
    "print(f'symbols with no volume:\\n{symbols_no_volume}')"
   ]
  },
  {
   "cell_type": "code",
   "execution_count": null,
   "metadata": {},
   "outputs": [],
   "source": []
  },
  {
   "cell_type": "code",
   "execution_count": 18,
   "metadata": {},
   "outputs": [
    {
     "data": {
      "text/html": [
       "<div>\n",
       "<style scoped>\n",
       "    .dataframe tbody tr th:only-of-type {\n",
       "        vertical-align: middle;\n",
       "    }\n",
       "\n",
       "    .dataframe tbody tr th {\n",
       "        vertical-align: top;\n",
       "    }\n",
       "\n",
       "    .dataframe thead th {\n",
       "        text-align: right;\n",
       "    }\n",
       "</style>\n",
       "<table border=\"1\" class=\"dataframe\">\n",
       "  <thead>\n",
       "    <tr style=\"text-align: right;\">\n",
       "      <th></th>\n",
       "      <th>A</th>\n",
       "      <th>AA</th>\n",
       "      <th>AADI</th>\n",
       "      <th>AAIN</th>\n",
       "      <th>AAL</th>\n",
       "      <th>AAMC</th>\n",
       "      <th>AAN</th>\n",
       "      <th>AAON</th>\n",
       "      <th>AAP</th>\n",
       "      <th>AAPL</th>\n",
       "      <th>...</th>\n",
       "      <th>ZIP</th>\n",
       "      <th>ZLAB</th>\n",
       "      <th>ZM</th>\n",
       "      <th>ZNH</th>\n",
       "      <th>ZNTL</th>\n",
       "      <th>ZS</th>\n",
       "      <th>ZTO</th>\n",
       "      <th>ZTS</th>\n",
       "      <th>ZUMZ</th>\n",
       "      <th>ZWS</th>\n",
       "    </tr>\n",
       "    <tr>\n",
       "      <th>Date</th>\n",
       "      <th></th>\n",
       "      <th></th>\n",
       "      <th></th>\n",
       "      <th></th>\n",
       "      <th></th>\n",
       "      <th></th>\n",
       "      <th></th>\n",
       "      <th></th>\n",
       "      <th></th>\n",
       "      <th></th>\n",
       "      <th></th>\n",
       "      <th></th>\n",
       "      <th></th>\n",
       "      <th></th>\n",
       "      <th></th>\n",
       "      <th></th>\n",
       "      <th></th>\n",
       "      <th></th>\n",
       "      <th></th>\n",
       "      <th></th>\n",
       "      <th></th>\n",
       "    </tr>\n",
       "  </thead>\n",
       "  <tbody>\n",
       "    <tr>\n",
       "      <th>2023-01-06</th>\n",
       "      <td>2444600.0</td>\n",
       "      <td>4637800</td>\n",
       "      <td>205500.0</td>\n",
       "      <td>0.0</td>\n",
       "      <td>29525900.0</td>\n",
       "      <td>18200.0</td>\n",
       "      <td>237400.0</td>\n",
       "      <td>207000.0</td>\n",
       "      <td>717900.0</td>\n",
       "      <td>87686600.0</td>\n",
       "      <td>...</td>\n",
       "      <td>410100.0</td>\n",
       "      <td>2092500.0</td>\n",
       "      <td>4078300.0</td>\n",
       "      <td>7400.0</td>\n",
       "      <td>611700.0</td>\n",
       "      <td>2612800.0</td>\n",
       "      <td>1855300.0</td>\n",
       "      <td>1761200.0</td>\n",
       "      <td>338900.0</td>\n",
       "      <td>568500.0</td>\n",
       "    </tr>\n",
       "    <tr>\n",
       "      <th>2023-01-09</th>\n",
       "      <td>1194393.0</td>\n",
       "      <td>6084353</td>\n",
       "      <td>89911.0</td>\n",
       "      <td>1003.0</td>\n",
       "      <td>31363255.0</td>\n",
       "      <td>4253.0</td>\n",
       "      <td>307813.0</td>\n",
       "      <td>184041.0</td>\n",
       "      <td>743188.0</td>\n",
       "      <td>70138063.0</td>\n",
       "      <td>...</td>\n",
       "      <td>654434.0</td>\n",
       "      <td>1024013.0</td>\n",
       "      <td>3401503.0</td>\n",
       "      <td>17091.0</td>\n",
       "      <td>886430.0</td>\n",
       "      <td>2957624.0</td>\n",
       "      <td>2393006.0</td>\n",
       "      <td>1700125.0</td>\n",
       "      <td>587887.0</td>\n",
       "      <td>580242.0</td>\n",
       "    </tr>\n",
       "  </tbody>\n",
       "</table>\n",
       "<p>2 rows × 3638 columns</p>\n",
       "</div>"
      ],
      "text/plain": [
       "                    A       AA      AADI    AAIN         AAL     AAMC  \\\n",
       "Date                                                                    \n",
       "2023-01-06  2444600.0  4637800  205500.0     0.0  29525900.0  18200.0   \n",
       "2023-01-09  1194393.0  6084353   89911.0  1003.0  31363255.0   4253.0   \n",
       "\n",
       "                 AAN      AAON       AAP        AAPL  ...       ZIP  \\\n",
       "Date                                                  ...             \n",
       "2023-01-06  237400.0  207000.0  717900.0  87686600.0  ...  410100.0   \n",
       "2023-01-09  307813.0  184041.0  743188.0  70138063.0  ...  654434.0   \n",
       "\n",
       "                 ZLAB         ZM      ZNH      ZNTL         ZS        ZTO  \\\n",
       "Date                                                                        \n",
       "2023-01-06  2092500.0  4078300.0   7400.0  611700.0  2612800.0  1855300.0   \n",
       "2023-01-09  1024013.0  3401503.0  17091.0  886430.0  2957624.0  2393006.0   \n",
       "\n",
       "                  ZTS      ZUMZ       ZWS  \n",
       "Date                                       \n",
       "2023-01-06  1761200.0  338900.0  568500.0  \n",
       "2023-01-09  1700125.0  587887.0  580242.0  \n",
       "\n",
       "[2 rows x 3638 columns]"
      ]
     },
     "execution_count": 18,
     "metadata": {},
     "output_type": "execute_result"
    }
   ],
   "source": [
    "df_v.head(2)\n",
    "df_v.tail(2)"
   ]
  },
  {
   "cell_type": "code",
   "execution_count": 19,
   "metadata": {},
   "outputs": [
    {
     "data": {
      "text/html": [
       "<div>\n",
       "<style scoped>\n",
       "    .dataframe tbody tr th:only-of-type {\n",
       "        vertical-align: middle;\n",
       "    }\n",
       "\n",
       "    .dataframe tbody tr th {\n",
       "        vertical-align: top;\n",
       "    }\n",
       "\n",
       "    .dataframe thead th {\n",
       "        text-align: right;\n",
       "    }\n",
       "</style>\n",
       "<table border=\"1\" class=\"dataframe\">\n",
       "  <thead>\n",
       "    <tr style=\"text-align: right;\">\n",
       "      <th></th>\n",
       "      <th>A</th>\n",
       "      <th>AA</th>\n",
       "      <th>AADI</th>\n",
       "      <th>AAIN</th>\n",
       "      <th>AAL</th>\n",
       "      <th>AAMC</th>\n",
       "      <th>AAN</th>\n",
       "      <th>AAON</th>\n",
       "      <th>AAP</th>\n",
       "      <th>AAPL</th>\n",
       "      <th>...</th>\n",
       "      <th>ZIP</th>\n",
       "      <th>ZLAB</th>\n",
       "      <th>ZM</th>\n",
       "      <th>ZNH</th>\n",
       "      <th>ZNTL</th>\n",
       "      <th>ZS</th>\n",
       "      <th>ZTO</th>\n",
       "      <th>ZTS</th>\n",
       "      <th>ZUMZ</th>\n",
       "      <th>ZWS</th>\n",
       "    </tr>\n",
       "    <tr>\n",
       "      <th>Date</th>\n",
       "      <th></th>\n",
       "      <th></th>\n",
       "      <th></th>\n",
       "      <th></th>\n",
       "      <th></th>\n",
       "      <th></th>\n",
       "      <th></th>\n",
       "      <th></th>\n",
       "      <th></th>\n",
       "      <th></th>\n",
       "      <th></th>\n",
       "      <th></th>\n",
       "      <th></th>\n",
       "      <th></th>\n",
       "      <th></th>\n",
       "      <th></th>\n",
       "      <th></th>\n",
       "      <th></th>\n",
       "      <th></th>\n",
       "      <th></th>\n",
       "      <th></th>\n",
       "    </tr>\n",
       "  </thead>\n",
       "  <tbody>\n",
       "    <tr>\n",
       "      <th>2023-01-06</th>\n",
       "      <td>1714600.0</td>\n",
       "      <td>3835700.0</td>\n",
       "      <td>49300.0</td>\n",
       "      <td>0.0</td>\n",
       "      <td>27378000.0</td>\n",
       "      <td>7000.0</td>\n",
       "      <td>211200.0</td>\n",
       "      <td>168300.0</td>\n",
       "      <td>795700.0</td>\n",
       "      <td>80962700.0</td>\n",
       "      <td>...</td>\n",
       "      <td>382500.0</td>\n",
       "      <td>5599800.0</td>\n",
       "      <td>2040100.0</td>\n",
       "      <td>11200.0</td>\n",
       "      <td>960800.0</td>\n",
       "      <td>3931100.0</td>\n",
       "      <td>2803200.0</td>\n",
       "      <td>1560900.0</td>\n",
       "      <td>388800.0</td>\n",
       "      <td>1213300.0</td>\n",
       "    </tr>\n",
       "    <tr>\n",
       "      <th>2023-01-09</th>\n",
       "      <td>2444600.0</td>\n",
       "      <td>4637800.0</td>\n",
       "      <td>205500.0</td>\n",
       "      <td>0.0</td>\n",
       "      <td>29525900.0</td>\n",
       "      <td>18200.0</td>\n",
       "      <td>237400.0</td>\n",
       "      <td>207000.0</td>\n",
       "      <td>717900.0</td>\n",
       "      <td>87686600.0</td>\n",
       "      <td>...</td>\n",
       "      <td>410100.0</td>\n",
       "      <td>2092500.0</td>\n",
       "      <td>4078300.0</td>\n",
       "      <td>7400.0</td>\n",
       "      <td>611700.0</td>\n",
       "      <td>2612800.0</td>\n",
       "      <td>1855300.0</td>\n",
       "      <td>1761200.0</td>\n",
       "      <td>338900.0</td>\n",
       "      <td>568500.0</td>\n",
       "    </tr>\n",
       "  </tbody>\n",
       "</table>\n",
       "<p>2 rows × 3638 columns</p>\n",
       "</div>"
      ],
      "text/plain": [
       "                    A         AA      AADI  AAIN         AAL     AAMC  \\\n",
       "Date                                                                    \n",
       "2023-01-06  1714600.0  3835700.0   49300.0   0.0  27378000.0   7000.0   \n",
       "2023-01-09  2444600.0  4637800.0  205500.0   0.0  29525900.0  18200.0   \n",
       "\n",
       "                 AAN      AAON       AAP        AAPL  ...       ZIP  \\\n",
       "Date                                                  ...             \n",
       "2023-01-06  211200.0  168300.0  795700.0  80962700.0  ...  382500.0   \n",
       "2023-01-09  237400.0  207000.0  717900.0  87686600.0  ...  410100.0   \n",
       "\n",
       "                 ZLAB         ZM      ZNH      ZNTL         ZS        ZTO  \\\n",
       "Date                                                                        \n",
       "2023-01-06  5599800.0  2040100.0  11200.0  960800.0  3931100.0  2803200.0   \n",
       "2023-01-09  2092500.0  4078300.0   7400.0  611700.0  2612800.0  1855300.0   \n",
       "\n",
       "                  ZTS      ZUMZ        ZWS  \n",
       "Date                                        \n",
       "2023-01-06  1560900.0  388800.0  1213300.0  \n",
       "2023-01-09  1761200.0  338900.0   568500.0  \n",
       "\n",
       "[2 rows x 3638 columns]"
      ]
     },
     "execution_count": 19,
     "metadata": {},
     "output_type": "execute_result"
    }
   ],
   "source": [
    "df_s = df_v.shift(periods=1)\n",
    "df_s.head(2)\n",
    "df_s.tail(2)"
   ]
  },
  {
   "cell_type": "code",
   "execution_count": 22,
   "metadata": {},
   "outputs": [
    {
     "data": {
      "text/html": [
       "<div>\n",
       "<style scoped>\n",
       "    .dataframe tbody tr th:only-of-type {\n",
       "        vertical-align: middle;\n",
       "    }\n",
       "\n",
       "    .dataframe tbody tr th {\n",
       "        vertical-align: top;\n",
       "    }\n",
       "\n",
       "    .dataframe thead th {\n",
       "        text-align: right;\n",
       "    }\n",
       "</style>\n",
       "<table border=\"1\" class=\"dataframe\">\n",
       "  <thead>\n",
       "    <tr style=\"text-align: right;\">\n",
       "      <th></th>\n",
       "      <th>A</th>\n",
       "      <th>AA</th>\n",
       "      <th>AADI</th>\n",
       "      <th>AAIN</th>\n",
       "      <th>AAL</th>\n",
       "      <th>AAMC</th>\n",
       "      <th>AAN</th>\n",
       "      <th>AAON</th>\n",
       "      <th>AAP</th>\n",
       "      <th>AAPL</th>\n",
       "      <th>...</th>\n",
       "      <th>ZIP</th>\n",
       "      <th>ZLAB</th>\n",
       "      <th>ZM</th>\n",
       "      <th>ZNH</th>\n",
       "      <th>ZNTL</th>\n",
       "      <th>ZS</th>\n",
       "      <th>ZTO</th>\n",
       "      <th>ZTS</th>\n",
       "      <th>ZUMZ</th>\n",
       "      <th>ZWS</th>\n",
       "    </tr>\n",
       "    <tr>\n",
       "      <th>Date</th>\n",
       "      <th></th>\n",
       "      <th></th>\n",
       "      <th></th>\n",
       "      <th></th>\n",
       "      <th></th>\n",
       "      <th></th>\n",
       "      <th></th>\n",
       "      <th></th>\n",
       "      <th></th>\n",
       "      <th></th>\n",
       "      <th></th>\n",
       "      <th></th>\n",
       "      <th></th>\n",
       "      <th></th>\n",
       "      <th></th>\n",
       "      <th></th>\n",
       "      <th></th>\n",
       "      <th></th>\n",
       "      <th></th>\n",
       "      <th></th>\n",
       "      <th></th>\n",
       "    </tr>\n",
       "  </thead>\n",
       "  <tbody>\n",
       "    <tr>\n",
       "      <th>2023-01-06</th>\n",
       "      <td>730000.0</td>\n",
       "      <td>802100.0</td>\n",
       "      <td>156200.0</td>\n",
       "      <td>0.0</td>\n",
       "      <td>2147900.0</td>\n",
       "      <td>11200.0</td>\n",
       "      <td>26200.0</td>\n",
       "      <td>38700.0</td>\n",
       "      <td>-77800.0</td>\n",
       "      <td>6723900.0</td>\n",
       "      <td>...</td>\n",
       "      <td>27600.0</td>\n",
       "      <td>-3507300.0</td>\n",
       "      <td>2038200.0</td>\n",
       "      <td>-3800.0</td>\n",
       "      <td>-349100.0</td>\n",
       "      <td>-1318300.0</td>\n",
       "      <td>-947900.0</td>\n",
       "      <td>200300.0</td>\n",
       "      <td>-49900.0</td>\n",
       "      <td>-644800.0</td>\n",
       "    </tr>\n",
       "    <tr>\n",
       "      <th>2023-01-09</th>\n",
       "      <td>-1250207.0</td>\n",
       "      <td>1446553.0</td>\n",
       "      <td>-115589.0</td>\n",
       "      <td>1003.0</td>\n",
       "      <td>1837355.0</td>\n",
       "      <td>-13947.0</td>\n",
       "      <td>70413.0</td>\n",
       "      <td>-22959.0</td>\n",
       "      <td>25288.0</td>\n",
       "      <td>-17548537.0</td>\n",
       "      <td>...</td>\n",
       "      <td>244334.0</td>\n",
       "      <td>-1068487.0</td>\n",
       "      <td>-676797.0</td>\n",
       "      <td>9691.0</td>\n",
       "      <td>274730.0</td>\n",
       "      <td>344824.0</td>\n",
       "      <td>537706.0</td>\n",
       "      <td>-61075.0</td>\n",
       "      <td>248987.0</td>\n",
       "      <td>11742.0</td>\n",
       "    </tr>\n",
       "  </tbody>\n",
       "</table>\n",
       "<p>2 rows × 3638 columns</p>\n",
       "</div>"
      ],
      "text/plain": [
       "                    A         AA      AADI    AAIN        AAL     AAMC  \\\n",
       "Date                                                                     \n",
       "2023-01-06   730000.0   802100.0  156200.0     0.0  2147900.0  11200.0   \n",
       "2023-01-09 -1250207.0  1446553.0 -115589.0  1003.0  1837355.0 -13947.0   \n",
       "\n",
       "                AAN     AAON      AAP        AAPL  ...       ZIP       ZLAB  \\\n",
       "Date                                               ...                        \n",
       "2023-01-06  26200.0  38700.0 -77800.0   6723900.0  ...   27600.0 -3507300.0   \n",
       "2023-01-09  70413.0 -22959.0  25288.0 -17548537.0  ...  244334.0 -1068487.0   \n",
       "\n",
       "                   ZM     ZNH      ZNTL         ZS       ZTO       ZTS  \\\n",
       "Date                                                                     \n",
       "2023-01-06  2038200.0 -3800.0 -349100.0 -1318300.0 -947900.0  200300.0   \n",
       "2023-01-09  -676797.0  9691.0  274730.0   344824.0  537706.0  -61075.0   \n",
       "\n",
       "                ZUMZ       ZWS  \n",
       "Date                            \n",
       "2023-01-06  -49900.0 -644800.0  \n",
       "2023-01-09  248987.0   11742.0  \n",
       "\n",
       "[2 rows x 3638 columns]"
      ]
     },
     "execution_count": 22,
     "metadata": {},
     "output_type": "execute_result"
    }
   ],
   "source": [
    "dif = df_v - df_s\n",
    "dif.head(2)\n",
    "dif.tail(2)"
   ]
  },
  {
   "cell_type": "code",
   "execution_count": 27,
   "metadata": {},
   "outputs": [
    {
     "name": "stdout",
     "output_type": "stream",
     "text": [
      "44601 [   1    1    1 ... 1498 1498 1498]\n",
      "44601 [ 121  170  175 ... 3532 3534 3611]\n",
      "1500\n"
     ]
    }
   ],
   "source": [
    "rows, cols = np.where(dif == 0)\n",
    "print(len(rows), rows)\n",
    "print(len(cols), cols)\n",
    "print(len(df_v)) "
   ]
  },
  {
   "cell_type": "code",
   "execution_count": 30,
   "metadata": {},
   "outputs": [
    {
     "data": {
      "text/plain": [
       "1859"
      ]
     },
     "execution_count": 30,
     "metadata": {},
     "output_type": "execute_result"
    }
   ],
   "source": [
    "idx_same_volume = list(set(cols))\n",
    "idx_same_volume.sort()\n",
    "idx_same_volume\n",
    "len(idx_same_volume)"
   ]
  },
  {
   "cell_type": "code",
   "execution_count": 35,
   "metadata": {},
   "outputs": [
    {
     "data": {
      "text/plain": [
       "349000.0"
      ]
     },
     "execution_count": 35,
     "metadata": {},
     "output_type": "execute_result"
    }
   ],
   "source": [
    "df_v.iloc[1][122]"
   ]
  },
  {
   "cell_type": "code",
   "execution_count": null,
   "metadata": {},
   "outputs": [],
   "source": []
  },
  {
   "cell_type": "code",
   "execution_count": 5,
   "metadata": {},
   "outputs": [
    {
     "name": "stdout",
     "output_type": "stream",
     "text": [
      "symbols with NaN close:\n",
      "Index(['AADI', 'AAIN', 'AAMC', 'AAN', 'ABCL', 'ABCM', 'ABMD', 'ABNB', 'ACA',\n",
      "       'ACAB',\n",
      "       ...\n",
      "       'YOU', 'ZEN', 'ZGN', 'ZI', 'ZIM', 'ZIP', 'ZLAB', 'ZM', 'ZNTL', 'ZS'],\n",
      "      dtype='object', length=1110)\n"
     ]
    }
   ],
   "source": [
    "df_c = df.xs('Close', level=1, axis=1)  # select only Close columns\n",
    "df_c = df_c.fillna(0).copy()  # convert NaNs to zeros\n",
    "rows, cols = np.where(df_c == 0)  # row index, column index where trading volumes are zero\n",
    "idx_no_close = list(set(cols))\n",
    "idx_no_close.sort()\n",
    "symbols_no_close = df_c.columns[idx_no_close]\n",
    "print(f'symbols with NaN close:\\n{symbols_no_close}')"
   ]
  },
  {
   "cell_type": "code",
   "execution_count": 6,
   "metadata": {},
   "outputs": [
    {
     "name": "stdout",
     "output_type": "stream",
     "text": [
      "combined symbols with no volume and no close, inculdes duplicate symbols: 1841\n",
      "unique symbols dropped from df_a (adjOLHLV) and df_c (Close): 1336\n"
     ]
    }
   ],
   "source": [
    "symbols_drop = list(symbols_no_close) + list(symbols_no_volume)  # combine symbols with no volume and no close\n",
    "print(f'combined symbols with no volume and no close, inculdes duplicate symbols: {len(symbols_drop)}')\n",
    "symbols_drop = list(set(symbols_drop))  # drop duplicate symbols\n",
    "symbols_drop .sort()\n",
    "df_a = df.drop(symbols_drop, axis=1, level=0)  # drop symbols from OHLCA df\n",
    "df_c = df_close.iloc[look_back_days::]\n",
    "df_c = df_c.drop(symbols_drop, axis=1)\n",
    "print(f'unique symbols dropped from df_a (adjOLHLV) and df_c (Close): {len(symbols_drop)}')"
   ]
  },
  {
   "cell_type": "code",
   "execution_count": 7,
   "metadata": {},
   "outputs": [
    {
     "name": "stdout",
     "output_type": "stream",
     "text": [
      "symbols with no volume: 731\n",
      "symbols with no close: 1110\n",
      "unique symbols dropped from df OHLCVA (df_a) and df Close (df_c): 1336\n",
      "symbols, rows in df adjOHLCV (df_a) after dropped symbols: 2302, 1500\n",
      "symbols, rows in df Close (df_c) after dropped symbols: 2302, 1500\n"
     ]
    }
   ],
   "source": [
    "print(f'symbols with no volume: {len(symbols_no_volume)}')\n",
    "print(f'symbols with no close: {len(symbols_no_close)}')\n",
    "print(f'unique symbols dropped from df OHLCVA (df_a) and df Close (df_c): {len(symbols_drop)}')\n",
    "print(f'symbols, rows in df adjOHLCV (df_a) after dropped symbols: {len(df_a.columns)/5:.0f}, {len(df_a)}')\n",
    "print(f'symbols, rows in df Close (df_c) after dropped symbols: {len(df_c.columns)}, {len(df_c)}')\n"
   ]
  },
  {
   "cell_type": "code",
   "execution_count": 8,
   "metadata": {},
   "outputs": [
    {
     "name": "stdout",
     "output_type": "stream",
     "text": [
      "pickled df adjOHLCV after dropping symbols with no volume and no close:\n",
      "C:/Users/ping/MyDrive/stocks/yfinance/VSCode_dump/df_OHLCV_clean\n",
      "pickled df Close after dropping symbols with no volume and no close:\n",
      "C:/Users/ping/MyDrive/stocks/yfinance/VSCode_dump/df_close_clean\n"
     ]
    }
   ],
   "source": [
    "pickle_dump(df_a, path_data_dump, filename_pickled_df_a)\n",
    "print(f'pickled df adjOHLCV after dropping symbols with no volume and no close:\\n{path_data_dump}{filename_pickled_df_a}')\n",
    "pickle_dump(df_c, path_data_dump, filename_pickled_df_c)\n",
    "print(f'pickled df Close after dropping symbols with no volume and no close:\\n{path_data_dump}{filename_pickled_df_c}')"
   ]
  }
 ],
 "metadata": {
  "kernelspec": {
   "display_name": "Python 3.7.9 ('.venv': poetry)",
   "language": "python",
   "name": "python3"
  },
  "language_info": {
   "codemirror_mode": {
    "name": "ipython",
    "version": 3
   },
   "file_extension": ".py",
   "mimetype": "text/x-python",
   "name": "python",
   "nbconvert_exporter": "python",
   "pygments_lexer": "ipython3",
   "version": "3.7.9 (tags/v3.7.9:13c94747c7, Aug 17 2020, 18:58:18) [MSC v.1900 64 bit (AMD64)]"
  },
  "orig_nbformat": 4,
  "vscode": {
   "interpreter": {
    "hash": "55a3812d65f91e7e7447da6b5cfc60716e82f91e6a92533fb27b46796ad1962a"
   }
  }
 },
 "nbformat": 4,
 "nbformat_minor": 2
}
