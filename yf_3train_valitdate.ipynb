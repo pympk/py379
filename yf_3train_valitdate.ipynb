{
 "cells": [
  {
   "cell_type": "code",
   "execution_count": 38,
   "metadata": {},
   "outputs": [],
   "source": [
    "import numpy as np\n",
    "import pandas as pd\n",
    "from random import randint"
   ]
  },
  {
   "cell_type": "code",
   "execution_count": 39,
   "metadata": {},
   "outputs": [],
   "source": [
    "\n",
    "#create DataFrame\n",
    "df = pd.DataFrame(np.arange(0,1000), columns=list('A'))"
   ]
  },
  {
   "cell_type": "code",
   "execution_count": 40,
   "metadata": {},
   "outputs": [
    {
     "name": "stdout",
     "output_type": "stream",
     "text": [
      "days_train: 120, days_eval: 20, days_total: 140, len(df): 1000\n"
     ]
    }
   ],
   "source": [
    "n_sample = 0\n",
    "n_samples = 100\n",
    "days_train = 120\n",
    "days_eval = 20\n",
    "days_total = days_train + days_eval\n",
    "print(f'days_train: {days_train}, days_eval: {days_eval}, days_total: {days_total}, len(df): {len(df)}')\n",
    "\n",
    "if days_total > len(df):\n",
    "  msg_err = f'days_total: {days_total} must be less or equal to len(df): {len(df)}'\n",
    "  raise SystemExit(msg_err)\n",
    "\n",
    "l_slices = []\n",
    "while n_sample < n_samples:\n",
    "  n_rand = randint(0, 250-1)\n",
    "  start_train = n_rand - days_train\n",
    "  end_train = n_rand\n",
    "  start_eval = n_rand\n",
    "  end_eval = n_rand + days_eval\n",
    "  if 0 <= start_train and end_eval <= len(df):\n",
    "    l_slices.append((start_train, end_train, end_eval))\n",
    "    # print(f'n_rand: {n_rand:>3},    start_train: {start_train:>3},    end_train: {end_train:>3},    start_eval: {start_eval:>3},    end_eval: {end_eval:>3},    n_sample: {n_sample:>3}')\n",
    "    # ======== valid n_rand, do test and validation here ========\n",
    "    # ======== valid n_rand, do test and validation here ========\n",
    "    n_sample += 1  \n"
   ]
  },
  {
   "cell_type": "code",
   "execution_count": 41,
   "metadata": {},
   "outputs": [],
   "source": [
    "for l_slice in l_slices:\n",
    "  start_train = l_slice[0]\n",
    "  end_train = l_slice[1]\n",
    "  df_train = df.iloc[start_train:end_train]\n",
    "\n",
    "  start_eval = end_train\n",
    "  end_eval = l_slice[2]\n",
    "  df_eval = df.iloc[start_eval:end_eval]"
   ]
  },
  {
   "cell_type": "code",
   "execution_count": null,
   "metadata": {},
   "outputs": [],
   "source": [
    "perf_ranks_dict = pickle_load(path_data_dump, filename_pickled_perf_ranks_dict)"
   ]
  }
 ],
 "metadata": {
  "kernelspec": {
   "display_name": "Python 3.7.9 ('.venv': poetry)",
   "language": "python",
   "name": "python3"
  },
  "language_info": {
   "codemirror_mode": {
    "name": "ipython",
    "version": 3
   },
   "file_extension": ".py",
   "mimetype": "text/x-python",
   "name": "python",
   "nbconvert_exporter": "python",
   "pygments_lexer": "ipython3",
   "version": "3.7.9"
  },
  "orig_nbformat": 4,
  "vscode": {
   "interpreter": {
    "hash": "55a3812d65f91e7e7447da6b5cfc60716e82f91e6a92533fb27b46796ad1962a"
   }
  }
 },
 "nbformat": 4,
 "nbformat_minor": 2
}
