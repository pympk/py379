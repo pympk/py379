{
 "cells": [
  {
   "cell_type": "code",
   "execution_count": null,
   "metadata": {},
   "outputs": [],
   "source": [
    "import sys\n",
    "import pandas as pd\n",
    "sys.path.append(\"C:/Users/ping/MyDrive/py_files/python/py379/\")\n",
    "from myUtils import pickle_load, pickle_dump, list_dump"
   ]
  },
  {
   "cell_type": "code",
   "execution_count": null,
   "metadata": {},
   "outputs": [],
   "source": [
    "pd.set_option('max_colwidth', 12, 'display.max_columns', 18, 'display.width', 1200, 'display.max_rows', 100)\n",
    "INPUT_DIR = \"C:/Users/ping/MyDrive/stocks/yfinance\"\n",
    "path_data_dump = f'{INPUT_DIR}' + \"/VSCode_dump/\""
   ]
  },
  {
   "cell_type": "code",
   "execution_count": null,
   "metadata": {},
   "outputs": [],
   "source": [
    "# fpath1 = 'C:/Users/ping/Desktop/New folder/export1.csv'\n",
    "# fpath2 = 'C:/Users/ping/Desktop/New folder/export2.csv'\n",
    "# fpath3 = 'C:/Users/ping/Desktop/New folder/export3.csv'\n",
    "# df1 = pd.read_csv(fpath1)\n",
    "# df2 = pd.read_csv(fpath2)\n",
    "# df3 = pd.read_csv(fpath3)"
   ]
  },
  {
   "cell_type": "code",
   "execution_count": null,
   "metadata": {},
   "outputs": [],
   "source": [
    "# df = pd.concat([df1, df2, df3])\n",
    "# df = df.drop_duplicates(subset=['Symbol'])\n",
    "# df.info()\n",
    "# pickle_dump(df, path_data_dump, 'df_vg_stock_info_2022_10_27')\n",
    "df = pickle_load(path_data_dump, 'df_vg_stock_info_2022_10_27')\n",
    "df.info()"
   ]
  },
  {
   "cell_type": "code",
   "execution_count": null,
   "metadata": {},
   "outputs": [],
   "source": [
    "sectors = df['Sector'].unique()\n",
    "print(f'{len(sectors)} sectors:\\n{sectors}\\n')\n",
    "\n",
    "industries = df['Industry'].unique()\n",
    "print(f'{len(industries)} industries:\\n{industries}')\n"
   ]
  },
  {
   "cell_type": "code",
   "execution_count": null,
   "metadata": {},
   "outputs": [],
   "source": [
    "# +++++++++ FILTER +++++++++ selecting rows based on condition \n",
    "df_f = df[(df['Industry'] == 'Aerospace & Defense')] \n",
    "df_f = df_f.sort_values(['1 month % return', 'EPS growth estimate'])\n",
    "df_f.columns"
   ]
  },
  {
   "cell_type": "code",
   "execution_count": null,
   "metadata": {},
   "outputs": [],
   "source": [
    "_cols = ['Symbol', 'Company name', 'Shares outstanding', 'Closing price', '1 month % return', '3 month % return', 'YTD % return', 'Return on equity', 'Return on assets', 'P/E ratio', 'Price/Book ratio', 'Price/Cash flow ratio', 'Quick ratio', 'Debt/Equity ratio', 'Price/Sales ratio']\n",
    "df_f = df_f[_cols]\n",
    "# df_f.info()\n",
    "df_f = df_f.sort_values(['YTD % return'], ascending=False)\n",
    "df_f.head(9)"
   ]
  },
  {
   "cell_type": "code",
   "execution_count": null,
   "metadata": {},
   "outputs": [],
   "source": [
    "df_f.Symbol.head(10).values"
   ]
  },
  {
   "cell_type": "code",
   "execution_count": null,
   "metadata": {},
   "outputs": [],
   "source": [
    "buy_list = ['NOC', 'HII', 'AVAV', 'LMT', 'CW', 'HEI']"
   ]
  },
  {
   "cell_type": "code",
   "execution_count": null,
   "metadata": {},
   "outputs": [],
   "source": [
    "l_symbols = list(df.Symbol.values)\n",
    "l_symbols\n",
    "# ========== excel replace \".\"\" with \"_______\", add column len(a1), delete len(a1)>5  ============\n",
    "list_dump(l_symbols, path_data_dump, 'vg_symbols.csv')"
   ]
  },
  {
   "cell_type": "code",
   "execution_count": null,
   "metadata": {},
   "outputs": [],
   "source": [
    "import pandas as pd\n",
    "f_name = path_data_dump + 'vg_symbols_4chars_max.csv'\n",
    "# df = pd.read_csv(f_name, delimiter=',')\n",
    "_df = pd.read_csv(f_name)\n",
    "ser1 = _df.iloc[:,0]\n",
    "l_symbols = list(ser1)\n",
    "l_symbols"
   ]
  },
  {
   "cell_type": "code",
   "execution_count": null,
   "metadata": {},
   "outputs": [],
   "source": [
    "df = df.set_index(['Symbol'])\n",
    "df"
   ]
  },
  {
   "cell_type": "code",
   "execution_count": null,
   "metadata": {},
   "outputs": [],
   "source": [
    "_df = df.loc[l_symbols]\n",
    "_df\n",
    "pickle_dump(_df, path_data_dump, 'df_vg_stock_info_sym_4chars_max')"
   ]
  }
 ],
 "metadata": {
  "kernelspec": {
   "display_name": "Python 3.7.9 ('.venv': poetry)",
   "language": "python",
   "name": "python3"
  },
  "language_info": {
   "codemirror_mode": {
    "name": "ipython",
    "version": 3
   },
   "file_extension": ".py",
   "mimetype": "text/x-python",
   "name": "python",
   "nbconvert_exporter": "python",
   "pygments_lexer": "ipython3",
   "version": "3.7.9"
  },
  "orig_nbformat": 4,
  "vscode": {
   "interpreter": {
    "hash": "d848e2535a99fe7c7346179acd9000b04da131f0f89ee41d962201c665cb28e1"
   }
  }
 },
 "nbformat": 4,
 "nbformat_minor": 2
}
