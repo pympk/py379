{
 "cells": [
  {
   "cell_type": "code",
   "execution_count": 1,
   "metadata": {},
   "outputs": [],
   "source": [
    "import pandas as pd\n",
    "from myUtils import pickle_load, symb_perf_stats_vectorized, symb_perf_stats_vectorized_v1\n",
    "\n",
    "file_close = 'df_close_clean'\n",
    "path_dir = \"C:/Users/ping/MyDrive/stocks/yfinance\"\n",
    "path_data_dump = path_dir + \"/VSCode_dump/\"\n",
    "\n",
    "df_c = pickle_load(path_data_dump, file_close)\n",
    "df_c = df_c[-252::]\n",
    "format1 = 'df_c({}):\\n{}\\n{}'.format(len(df_c), df_c.head(3), df_c.tail(3))"
   ]
  },
  {
   "cell_type": "code",
   "execution_count": 9,
   "metadata": {},
   "outputs": [],
   "source": [
    "df_temp =  df_c['A']"
   ]
  },
  {
   "cell_type": "code",
   "execution_count": 13,
   "metadata": {},
   "outputs": [
    {
     "name": "stdout",
     "output_type": "stream",
     "text": [
      "[-5 -5 -5 -5 -5 -5 -5 -5 -5 -5 50]\n"
     ]
    }
   ],
   "source": [
    "def daily_returns(close_prices):\n",
    "    # Convert the close prices to a numpy array and shift the values by one\n",
    "    close_prices = np.array(close_prices)\n",
    "    shifted_prices = np.roll(close_prices, -1)\n",
    "    \n",
    "    # Calculate the daily returns as the difference between the shifted prices and the original prices\n",
    "    # returns = close_prices - shifted_prices\n",
    "    returns = shifted_prices - close_prices    \n",
    "    \n",
    "    return returns\n",
    "\n",
    "# Example usage\n",
    "close_prices = [100, 95, 90, 85, 80, 75, 70, 65, 60, 55, 50]\n",
    "print(daily_returns(close_prices))"
   ]
  },
  {
   "cell_type": "code",
   "execution_count": 15,
   "metadata": {},
   "outputs": [
    {
     "ename": "AttributeError",
     "evalue": "'list' object has no attribute 'pct_change'",
     "output_type": "error",
     "traceback": [
      "\u001b[1;31m---------------------------------------------------------------------------\u001b[0m",
      "\u001b[1;31mAttributeError\u001b[0m                            Traceback (most recent call last)",
      "\u001b[1;32m~\\AppData\\Local\\Temp\\ipykernel_2956\\1448471595.py\u001b[0m in \u001b[0;36m<module>\u001b[1;34m\u001b[0m\n\u001b[1;32m----> 1\u001b[1;33m \u001b[0mclose_prices\u001b[0m\u001b[1;33m.\u001b[0m\u001b[0mpct_change\u001b[0m\u001b[1;33m(\u001b[0m\u001b[1;33m)\u001b[0m\u001b[1;33m\u001b[0m\u001b[1;33m\u001b[0m\u001b[0m\n\u001b[0m",
      "\u001b[1;31mAttributeError\u001b[0m: 'list' object has no attribute 'pct_change'"
     ]
    }
   ],
   "source": [
    "close_prices.pct_change()"
   ]
  },
  {
   "cell_type": "code",
   "execution_count": 2,
   "metadata": {},
   "outputs": [],
   "source": [
    "import numpy as np\n",
    "\n",
    "def ulcer_index(close_prices):\n",
    "    # Convert the close prices to a numpy array and shift the values by one\n",
    "    close_prices = np.array(close_prices)\n",
    "    shifted_prices = np.roll(close_prices, -1)\n",
    "    \n",
    "    # Calculate the returns as the difference between the shifted prices and the original prices\n",
    "    returns = close_prices - shifted_prices\n",
    "    \n",
    "    # Calculate the drawdowns as the difference between the shifted returns and the original returns\n",
    "    drawdowns = returns - np.roll(returns, -1)\n",
    "    \n",
    "    # Calculate the Ulcer Index as the square root of the mean of the squares of the drawdowns\n",
    "    ulcer_index = np.sqrt(np.mean(drawdowns ** 2))\n",
    "    \n",
    "    return ulcer_index\n",
    "\n",
    "# # Example usage\n",
    "# close_prices = [100, 95, 90, 85, 80, 75, 70, 65, 60, 55, 50]\n",
    "# print(ulcer_index(close_prices))  # Output: 0.31622776601683794\n"
   ]
  },
  {
   "cell_type": "code",
   "execution_count": 10,
   "metadata": {},
   "outputs": [
    {
     "data": {
      "text/plain": [
       "4.14992843139685"
      ]
     },
     "execution_count": 10,
     "metadata": {},
     "output_type": "execute_result"
    }
   ],
   "source": [
    "# Example usage\n",
    "# close_prices = [100, 95, 90, 85, 80, 75, 70, 65, 60, 55, 50]\n",
    "ulcer_index(df_temp)  # Output: 0.31622776601683794"
   ]
  },
  {
   "cell_type": "code",
   "execution_count": 11,
   "metadata": {},
   "outputs": [
    {
     "ename": "AttributeError",
     "evalue": "'Series' object has no attribute 'columns'",
     "output_type": "error",
     "traceback": [
      "\u001b[1;31m---------------------------------------------------------------------------\u001b[0m",
      "\u001b[1;31mAttributeError\u001b[0m                            Traceback (most recent call last)",
      "\u001b[1;32m~\\AppData\\Local\\Temp\\ipykernel_2956\\3666140201.py\u001b[0m in \u001b[0;36m<module>\u001b[1;34m\u001b[0m\n\u001b[0;32m      1\u001b[0m \u001b[0msymbols\u001b[0m\u001b[1;33m,\u001b[0m \u001b[0mperiod_yr\u001b[0m\u001b[1;33m,\u001b[0m \u001b[0mdrawdown\u001b[0m\u001b[1;33m,\u001b[0m \u001b[0mUI\u001b[0m\u001b[1;33m,\u001b[0m \u001b[0mmax_drawdown\u001b[0m\u001b[1;33m,\u001b[0m \u001b[0mreturns_std\u001b[0m\u001b[1;33m,\u001b[0m \u001b[0mStd_UI\u001b[0m\u001b[1;33m,\u001b[0m \u001b[0mCAGR\u001b[0m\u001b[1;33m,\u001b[0m \u001b[0mCAGR_Std\u001b[0m\u001b[1;33m,\u001b[0m \u001b[0mCAGR_UI\u001b[0m \u001b[1;33m=\u001b[0m\u001b[0;31m \u001b[0m\u001b[0;31m\\\u001b[0m\u001b[1;33m\u001b[0m\u001b[1;33m\u001b[0m\u001b[0m\n\u001b[1;32m----> 2\u001b[1;33m     \u001b[0msymb_perf_stats_vectorized\u001b[0m\u001b[1;33m(\u001b[0m\u001b[0mdf_temp\u001b[0m\u001b[1;33m)\u001b[0m\u001b[1;33m\u001b[0m\u001b[1;33m\u001b[0m\u001b[0m\n\u001b[0m",
      "\u001b[1;32mc:\\Users\\ping\\MyDrive\\py_files\\python\\py379\\myUtils.py\u001b[0m in \u001b[0;36msymb_perf_stats_vectorized\u001b[1;34m(df_symbols_close)\u001b[0m\n\u001b[0;32m   2387\u001b[0m     \u001b[1;32mimport\u001b[0m \u001b[0mnumpy\u001b[0m \u001b[1;32mas\u001b[0m \u001b[0mnp\u001b[0m\u001b[1;33m\u001b[0m\u001b[1;33m\u001b[0m\u001b[0m\n\u001b[0;32m   2388\u001b[0m \u001b[1;33m\u001b[0m\u001b[0m\n\u001b[1;32m-> 2389\u001b[1;33m     \u001b[0msymbols\u001b[0m \u001b[1;33m=\u001b[0m \u001b[0mdf_symbols_close\u001b[0m\u001b[1;33m.\u001b[0m\u001b[0mcolumns\u001b[0m\u001b[1;33m\u001b[0m\u001b[1;33m\u001b[0m\u001b[0m\n\u001b[0m\u001b[0;32m   2390\u001b[0m     \u001b[0mdf_symbols_returns\u001b[0m \u001b[1;33m=\u001b[0m \u001b[0mdf_symbols_close\u001b[0m \u001b[1;33m/\u001b[0m \u001b[0mdf_symbols_close\u001b[0m\u001b[1;33m.\u001b[0m\u001b[0mshift\u001b[0m\u001b[1;33m(\u001b[0m\u001b[1;36m1\u001b[0m\u001b[1;33m)\u001b[0m \u001b[1;33m-\u001b[0m \u001b[1;36m1\u001b[0m\u001b[1;33m\u001b[0m\u001b[1;33m\u001b[0m\u001b[0m\n\u001b[0;32m   2391\u001b[0m     \u001b[1;31m# standard deviation divisor is N - ddof\u001b[0m\u001b[1;33m\u001b[0m\u001b[1;33m\u001b[0m\u001b[1;33m\u001b[0m\u001b[0m\n",
      "\u001b[1;32mc:\\Users\\ping\\MyDrive\\py_files\\python\\timeSeries\\.venv\\lib\\site-packages\\pandas\\core\\generic.py\u001b[0m in \u001b[0;36m__getattr__\u001b[1;34m(self, name)\u001b[0m\n\u001b[0;32m   5485\u001b[0m         ):\n\u001b[0;32m   5486\u001b[0m             \u001b[1;32mreturn\u001b[0m \u001b[0mself\u001b[0m\u001b[1;33m[\u001b[0m\u001b[0mname\u001b[0m\u001b[1;33m]\u001b[0m\u001b[1;33m\u001b[0m\u001b[1;33m\u001b[0m\u001b[0m\n\u001b[1;32m-> 5487\u001b[1;33m         \u001b[1;32mreturn\u001b[0m \u001b[0mobject\u001b[0m\u001b[1;33m.\u001b[0m\u001b[0m__getattribute__\u001b[0m\u001b[1;33m(\u001b[0m\u001b[0mself\u001b[0m\u001b[1;33m,\u001b[0m \u001b[0mname\u001b[0m\u001b[1;33m)\u001b[0m\u001b[1;33m\u001b[0m\u001b[1;33m\u001b[0m\u001b[0m\n\u001b[0m\u001b[0;32m   5488\u001b[0m \u001b[1;33m\u001b[0m\u001b[0m\n\u001b[0;32m   5489\u001b[0m     \u001b[1;32mdef\u001b[0m \u001b[0m__setattr__\u001b[0m\u001b[1;33m(\u001b[0m\u001b[0mself\u001b[0m\u001b[1;33m,\u001b[0m \u001b[0mname\u001b[0m\u001b[1;33m:\u001b[0m \u001b[0mstr\u001b[0m\u001b[1;33m,\u001b[0m \u001b[0mvalue\u001b[0m\u001b[1;33m)\u001b[0m \u001b[1;33m->\u001b[0m \u001b[1;32mNone\u001b[0m\u001b[1;33m:\u001b[0m\u001b[1;33m\u001b[0m\u001b[1;33m\u001b[0m\u001b[0m\n",
      "\u001b[1;31mAttributeError\u001b[0m: 'Series' object has no attribute 'columns'"
     ]
    }
   ],
   "source": [
    "symbols, period_yr, drawdown, UI, max_drawdown, returns_std, Std_UI, CAGR, CAGR_Std, CAGR_UI = \\\n",
    "    symb_perf_stats_vectorized(df_temp)   "
   ]
  },
  {
   "cell_type": "code",
   "execution_count": 6,
   "metadata": {},
   "outputs": [
    {
     "data": {
      "text/plain": [
       "A       0.182331\n",
       "AA      0.399799\n",
       "AAL     0.250300\n",
       "AAON    0.266528\n",
       "AAP     0.214052\n",
       "          ...   \n",
       "ZION    0.237198\n",
       "ZTO     0.202919\n",
       "ZTS     0.305658\n",
       "ZUMZ    0.382715\n",
       "ZWS     0.231993\n",
       "Length: 2297, dtype: float64"
      ]
     },
     "execution_count": 6,
     "metadata": {},
     "output_type": "execute_result"
    }
   ],
   "source": [
    "UI"
   ]
  }
 ],
 "metadata": {
  "kernelspec": {
   "display_name": "Python 3",
   "language": "python",
   "name": "python3"
  },
  "language_info": {
   "codemirror_mode": {
    "name": "ipython",
    "version": 3
   },
   "file_extension": ".py",
   "mimetype": "text/x-python",
   "name": "python",
   "nbconvert_exporter": "python",
   "pygments_lexer": "ipython3",
   "version": "3.7.9"
  },
  "orig_nbformat": 4,
  "vscode": {
   "interpreter": {
    "hash": "d848e2535a99fe7c7346179acd9000b04da131f0f89ee41d962201c665cb28e1"
   }
  }
 },
 "nbformat": 4,
 "nbformat_minor": 2
}
