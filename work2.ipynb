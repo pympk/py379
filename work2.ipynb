{
 "cells": [
  {
   "cell_type": "code",
   "execution_count": 57,
   "metadata": {},
   "outputs": [],
   "source": [
    "import numpy as np\n",
    "from random import randint"
   ]
  },
  {
   "cell_type": "code",
   "execution_count": 58,
   "metadata": {},
   "outputs": [
    {
     "data": {
      "text/plain": [
       "[0, 1, 2, 3, 4, 5, 6, 7, 8, 9, 10, 11, 12, 13, 14, 15, 16, 17, 18, 19]"
      ]
     },
     "execution_count": 58,
     "metadata": {},
     "output_type": "execute_result"
    }
   ],
   "source": [
    "l = list(np.arange(20))\n",
    "l"
   ]
  },
  {
   "cell_type": "code",
   "execution_count": 59,
   "metadata": {},
   "outputs": [
    {
     "name": "stdout",
     "output_type": "stream",
     "text": [
      "n_rand: 9, len_train: 4, len_val: 3\n"
     ]
    }
   ],
   "source": [
    "n_rand = randint(6, 14)\n",
    "len_train = 4\n",
    "len_val = len_train - 1\n",
    "print(f'n_rand: {n_rand}, len_train: {len_train}, len_val: {len_val}')"
   ]
  },
  {
   "cell_type": "code",
   "execution_count": 110,
   "metadata": {},
   "outputs": [
    {
     "name": "stdout",
     "output_type": "stream",
     "text": [
      "start: 0, end: 20, len_total: 20, len(l): 20\n",
      "df_train: [0, 1, 2, 3, 4, 5, 6, 7, 8]\n",
      "df_val: [9, 10, 11, 12, 13, 14, 15, 16, 17, 18, 19]\n"
     ]
    }
   ],
   "source": [
    "len_train = 9\n",
    "len_val = 11\n",
    "len_total = len_train + len_val\n",
    "\n",
    "start = n_rand - len_train\n",
    "end = n_rand + len_val\n",
    "print(f'start: {start}, end: {end}, len_total: {len_total}, len(l): {len(l)}')\n",
    "df_train = l[start : n_rand]\n",
    "print(f'df_train: {df_train}')\n",
    "df_val = l[n_rand : end]\n",
    "print(f'df_val: {df_val}')\n",
    "if end > len(l):\n",
    "  msg_err = f'end: {end} must be less than len(l): {len(l)}'\n",
    "  raise SystemExit(msg_err)\n",
    "if start < 0:\n",
    "  msg_err = f'start: {start} must be => 0'\n",
    "  raise SystemExit(msg_err)\n",
    "if len_total > len(l):\n",
    "  msg_err = f'len_total: {len_total} must be =< len(l): {len(l)}'\n",
    "  raise SystemExit(msg_err)"
   ]
  }
 ],
 "metadata": {
  "kernelspec": {
   "display_name": "Python 3.7.9 ('.venv': poetry)",
   "language": "python",
   "name": "python3"
  },
  "language_info": {
   "codemirror_mode": {
    "name": "ipython",
    "version": 3
   },
   "file_extension": ".py",
   "mimetype": "text/x-python",
   "name": "python",
   "nbconvert_exporter": "python",
   "pygments_lexer": "ipython3",
   "version": "3.7.9"
  },
  "orig_nbformat": 4,
  "vscode": {
   "interpreter": {
    "hash": "55a3812d65f91e7e7447da6b5cfc60716e82f91e6a92533fb27b46796ad1962a"
   }
  }
 },
 "nbformat": 4,
 "nbformat_minor": 2
}
