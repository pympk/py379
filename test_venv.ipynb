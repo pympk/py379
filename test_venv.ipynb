{
 "cells": [
  {
   "cell_type": "code",
   "execution_count": 1,
   "metadata": {},
   "outputs": [
    {
     "name": "stdout",
     "output_type": "stream",
     "text": [
      "python_path:  c:\\Users\\ping\\MyDrive\\py_files\\python\\py379\\.venv\\Scripts\\python.exe\n",
      "python_version:  3.7.9\n",
      "pandas_version:  1.3.5\n",
      "numpy_version:  1.21.6\n",
      "Successfully imported the modules!\n"
     ]
    }
   ],
   "source": [
    "'''An example file that imports some of the installed modules'''\n",
    "import sys\n",
    "import pandas as pd\n",
    "import numpy as np\n",
    "import matplotlib.pyplot as plt\n",
    "import flake8\n",
    "from platform import python_version\n",
    "\n",
    "print(\"python_path: \", sys.executable)\n",
    "print(\"python_version: \", python_version())\n",
    "print(\"pandas_version: \", pd.__version__)\n",
    "print(\"numpy_version: \", np.__version__)\n",
    "if __name__ == \"__main__\":\n",
    "    # If the modules can't be imported, the following print won't happen\n",
    "    print(\"Successfully imported the modules!\")"
   ]
  }
 ],
 "metadata": {
  "kernelspec": {
   "display_name": "Python 3.7.9 ('.venv': poetry)",
   "language": "python",
   "name": "python3"
  },
  "language_info": {
   "codemirror_mode": {
    "name": "ipython",
    "version": 3
   },
   "file_extension": ".py",
   "mimetype": "text/x-python",
   "name": "python",
   "nbconvert_exporter": "python",
   "pygments_lexer": "ipython3",
   "version": "3.7.9"
  },
  "orig_nbformat": 4,
  "vscode": {
   "interpreter": {
    "hash": "4e6389f6aeb2c5ce0ad2d232cc91432f037c6c973d34a75fd68a8110ca1fdef7"
   }
  }
 },
 "nbformat": 4,
 "nbformat_minor": 2
}
