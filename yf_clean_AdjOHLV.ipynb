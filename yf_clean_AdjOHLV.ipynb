{
 "cells": [
  {
   "cell_type": "code",
   "execution_count": 6,
   "metadata": {},
   "outputs": [],
   "source": [
    "import yfinance as yf\n",
    "from myUtils import yf_download_AdjOHLCV, pickle_dump, pickle_load, read_symbols_file  # NOQA\n",
    "verbose = False  # True prints more output\n",
    "\n",
    "# path_dir = \"C:/Users/ping/MyDrive/stocks/MktCap2b_AUMtop1200/\"\n",
    "# path_data_dump = path_dir + \"VSCode_dump/\"\n",
    "# path_symbols_file = path_dir + \"source/\"\n",
    "# filename_symbols = path_symbols_file + '2021_Top1200_MktCap_n_AUM.txt'  # symbols text file\n",
    "# filename_pickled_df_OHLCV_all_dates = 'df_OHLCV_all_dates'  # pickled filename\n",
    "# filename_pickled_df_OHLCV_NYSE_dates = 'df_OHLCV_NYSE_dates'  # pickled filename\n",
    "# filename_pickled_symbols_df_OHLCV_NYSE_dates =  'symbols_df_OHLCV_NYSE_dates'  # pickled filename\n",
    "\n",
    "path_dir = \"C:/Users/ping/Desktop/my_yfinance/\"\n",
    "path_data_dump = path_dir + \"VSCode_dump/\"\n",
    "path_symbols_file = path_dir + \"source/\"\n",
    "filename_symbols = path_symbols_file + \"test_symbols_no_XOM.txt\"  # symbols text file\n",
    "filename_pickled_df_OHLCV_all_dates = \"df_test_all_dates\"  # pickled filename\n",
    "filename_pickled_df_OHLCV_NYSE_dates = \"df_test_NYSE_dates\"  # pickled filename\n",
    "filename_pickled_symbols_df_OHLCV_NYSE_dates = \"symbols_df_test_NYSE_dates\"  # pickled filename"
   ]
  },
  {
   "cell_type": "code",
   "execution_count": 7,
   "metadata": {},
   "outputs": [
    {
     "name": "stdout",
     "output_type": "stream",
     "text": [
      "[*********************100%***********************]  1 of 1 completed\n",
      "symbols in file: \"C:/Users/ping/Desktop/my_yfinance/source/test_symbols_no_XOM.txt\"\n",
      "Symbols in file has been cleaned.  Symbols are all uppercase,\n",
      "with no duplicates and no empty string. Symbol list is sorted.\n",
      "symbols: None\n"
     ]
    },
    {
     "ename": "TypeError",
     "evalue": "object of type 'NoneType' has no len()",
     "output_type": "error",
     "traceback": [
      "\u001b[1;31m---------------------------------------------------------------------------\u001b[0m",
      "\u001b[1;31mTypeError\u001b[0m                                 Traceback (most recent call last)",
      "\u001b[1;32m~\\AppData\\Local\\Temp\\ipykernel_10624\\4139905881.py\u001b[0m in \u001b[0;36m<module>\u001b[1;34m\u001b[0m\n\u001b[0;32m      3\u001b[0m \u001b[0mdf_XOM\u001b[0m \u001b[1;33m=\u001b[0m \u001b[0myf\u001b[0m\u001b[1;33m.\u001b[0m\u001b[0mdownload\u001b[0m\u001b[1;33m(\u001b[0m\u001b[0mindex_symbol\u001b[0m\u001b[1;33m)\u001b[0m\u001b[1;33m\u001b[0m\u001b[1;33m\u001b[0m\u001b[0m\n\u001b[0;32m      4\u001b[0m \u001b[1;31m# download OHLCV data for symbols in filename_symbols\u001b[0m\u001b[1;33m\u001b[0m\u001b[1;33m\u001b[0m\u001b[1;33m\u001b[0m\u001b[0m\n\u001b[1;32m----> 5\u001b[1;33m \u001b[0mdf_OHLCV_all_dates\u001b[0m\u001b[1;33m,\u001b[0m \u001b[0msymbols_AdjOHLCV\u001b[0m \u001b[1;33m=\u001b[0m \u001b[0myf_download_AdjOHLCV\u001b[0m\u001b[1;33m(\u001b[0m\u001b[0mfilename_symbols\u001b[0m\u001b[1;33m,\u001b[0m \u001b[0mverbose\u001b[0m\u001b[1;33m=\u001b[0m\u001b[1;32mTrue\u001b[0m\u001b[1;33m)\u001b[0m\u001b[1;33m\u001b[0m\u001b[1;33m\u001b[0m\u001b[0m\n\u001b[0m\u001b[0;32m      6\u001b[0m \u001b[0mprint\u001b[0m\u001b[1;33m(\u001b[0m\u001b[1;34mf'symbols_AdjOHLCV: {symbols_AdjOHLCV}'\u001b[0m\u001b[1;33m)\u001b[0m\u001b[1;33m\u001b[0m\u001b[1;33m\u001b[0m\u001b[0m\n",
      "\u001b[1;32mc:\\Users\\ping\\MyDrive\\py_files\\python\\py379\\myUtils.py\u001b[0m in \u001b[0;36myf_download_AdjOHLCV\u001b[1;34m(file_symbols, verbose)\u001b[0m\n\u001b[0;32m   2670\u001b[0m \u001b[1;33m\u001b[0m\u001b[0m\n\u001b[0;32m   2671\u001b[0m         \u001b[0mprint\u001b[0m\u001b[1;33m(\u001b[0m\u001b[1;34m\"symbols: {}\"\u001b[0m\u001b[1;33m.\u001b[0m\u001b[0mformat\u001b[0m\u001b[1;33m(\u001b[0m\u001b[0msymbols\u001b[0m\u001b[1;33m)\u001b[0m\u001b[1;33m)\u001b[0m\u001b[1;33m\u001b[0m\u001b[1;33m\u001b[0m\u001b[0m\n\u001b[1;32m-> 2672\u001b[1;33m         \u001b[0mprint\u001b[0m\u001b[1;33m(\u001b[0m\u001b[1;34m\"symbol count: {}\"\u001b[0m\u001b[1;33m.\u001b[0m\u001b[0mformat\u001b[0m\u001b[1;33m(\u001b[0m\u001b[0mlen\u001b[0m\u001b[1;33m(\u001b[0m\u001b[0msymbols\u001b[0m\u001b[1;33m)\u001b[0m\u001b[1;33m)\u001b[0m\u001b[1;33m,\u001b[0m \u001b[1;34m\"\\n\"\u001b[0m\u001b[1;33m)\u001b[0m\u001b[1;33m\u001b[0m\u001b[1;33m\u001b[0m\u001b[0m\n\u001b[0m\u001b[0;32m   2673\u001b[0m \u001b[1;33m\u001b[0m\u001b[0m\n\u001b[0;32m   2674\u001b[0m     \u001b[1;31m# print(f'++++  download OHLCV data  ++++')\u001b[0m\u001b[1;33m\u001b[0m\u001b[1;33m\u001b[0m\u001b[1;33m\u001b[0m\u001b[0m\n",
      "\u001b[1;31mTypeError\u001b[0m: object of type 'NoneType' has no len()"
     ]
    }
   ],
   "source": [
    "# download OHLCV, reindex to NSYE trading dates\n",
    "index_symbol = \"XOM\"  # use Exxon's date as proxy for NYSE trading dates\n",
    "df_XOM = yf.download(index_symbol)\n",
    "# download OHLCV data for symbols in filename_symbols\n",
    "df_OHLCV_all_dates, symbols_AdjOHLCV = yf_download_AdjOHLCV(filename_symbols, verbose=True)\n",
    "print(f'symbols_AdjOHLCV: {symbols_AdjOHLCV}')"
   ]
  },
  {
   "cell_type": "code",
   "execution_count": null,
   "metadata": {},
   "outputs": [],
   "source": [
    "df = df_OHLCV_all_dates.copy()\n",
    "# get column names(i.e. symbols) from multi-index\n",
    "#  column names are converted to all cap by yfinance download\n",
    "symbols_df_OHLCV_all_dates = list(set(df.columns.get_level_values(0)))\n",
    "print(f'symbols_df_OHLCV_all_dates: {symbols_df_OHLCV_all_dates}')"
   ]
  },
  {
   "cell_type": "code",
   "execution_count": null,
   "metadata": {},
   "outputs": [],
   "source": [
    "symbols_all_NaN = []\n",
    "for symbol in symbols_df_OHLCV_all_dates:\n",
    "  # Check for symbols with all NaN dataframe\n",
    "  # 1st .all returns a series of True/False, 2nd .all reduces to single True/False\n",
    "  if df_OHLCV_all_dates[symbol].isna().all().all():\n",
    "  # if df_OHLCV_NYSE_dates[symbol].isna().all().all():  \n",
    "    print(f'Dataframe for {symbol} is all NaN')\n",
    "    symbols_all_NaN.append(symbol)\n",
    "print(f'symbols_all_NaN: {symbols_all_NaN}')"
   ]
  },
  {
   "cell_type": "code",
   "execution_count": null,
   "metadata": {},
   "outputs": [],
   "source": [
    "print(f'df_OHLCV_all_dates columns before dropping symbols with all NaN:\\n{df_OHLCV_all_dates.columns.values.tolist()}\\n')\n",
    "for symbol in symbols_all_NaN:\n",
    "  df_OHLCV_all_dates.drop(columns=[symbol], axis=1, level=0, inplace=True)\n",
    "print(f'df_OHLCV_all_dates columns after dropping symbols with all NaN:\\n{df_OHLCV_all_dates.columns.values.tolist()}')"
   ]
  },
  {
   "cell_type": "code",
   "execution_count": null,
   "metadata": {},
   "outputs": [],
   "source": [
    "# reindex to date index in df_XOM, weekend data are dropped\n",
    "myNaN = float('nan')\n",
    "df_OHLCV_NYSE_dates = df_OHLCV_all_dates.reindex(df_XOM.index, fill_value=myNaN)\n",
    "# df_OHLCV_NYSE_dates.tail(7)\n",
    "df_OHLCV_all_dates.tail(7)\n"
   ]
  },
  {
   "cell_type": "code",
   "execution_count": null,
   "metadata": {},
   "outputs": [],
   "source": [
    "# https://stackoverflow.com/questions/25135578/python-pandas-drop-a-column-from-a-multi-level-column-index\n",
    "# df = df_OHLCV_all_dates.copy()\n",
    "df = df_OHLCV_NYSE_dates.copy()\n",
    "# for sym in symbols_all_NaN:\n",
    "#   df.drop(sym, axis=1, level=0, inplace=True)\n",
    "my_list = df.columns.values.tolist()\n",
    "my_list"
   ]
  },
  {
   "cell_type": "code",
   "execution_count": null,
   "metadata": {},
   "outputs": [],
   "source": [
    "# pickle df_OHLCV and symbols\n",
    "print(f\"Full path to pickled df_OHLCV_all_dates:  {path_data_dump}{filename_pickled_df_OHLCV_all_dates}\")\n",
    "pickle_dump(df_OHLCV_all_dates, path_data_dump, filename_pickled_df_OHLCV_all_dates, verbose=verbose)\n",
    "print(f\"Full path to pickled df_OHLCV_NYSE_dates:  {path_data_dump}{filename_pickled_df_OHLCV_NYSE_dates}\")\n",
    "pickle_dump(df_OHLCV_NYSE_dates, path_data_dump, filename_pickled_df_OHLCV_NYSE_dates, verbose=verbose)\n",
    "print(f\"Full path to pickled symbols_df_OHLCV_NYSE_dates:  {path_data_dump}{filename_pickled_symbols_df_OHLCV_NYSE_dates}\")\n",
    "pickle_dump(symbols, path_data_dump, filename_pickled_symbols_df_OHLCV_NYSE_dates, verbose=verbose)"
   ]
  },
  {
   "cell_type": "code",
   "execution_count": null,
   "metadata": {},
   "outputs": [],
   "source": []
  },
  {
   "cell_type": "code",
   "execution_count": null,
   "metadata": {},
   "outputs": [],
   "source": [
    "TODO\n",
    "break up symbols_file to small set\n",
    "reload failed downloads\n",
    "append fail downloads"
   ]
  }
 ],
 "metadata": {
  "kernelspec": {
   "display_name": "Python 3.7.9 ('.venv': poetry)",
   "language": "python",
   "name": "python3"
  },
  "language_info": {
   "codemirror_mode": {
    "name": "ipython",
    "version": 3
   },
   "file_extension": ".py",
   "mimetype": "text/x-python",
   "name": "python",
   "nbconvert_exporter": "python",
   "pygments_lexer": "ipython3",
   "version": "3.7.9"
  },
  "orig_nbformat": 4,
  "vscode": {
   "interpreter": {
    "hash": "55a3812d65f91e7e7447da6b5cfc60716e82f91e6a92533fb27b46796ad1962a"
   }
  }
 },
 "nbformat": 4,
 "nbformat_minor": 2
}
