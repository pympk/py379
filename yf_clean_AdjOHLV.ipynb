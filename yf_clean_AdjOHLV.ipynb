{
 "cells": [
  {
   "cell_type": "code",
   "execution_count": 23,
   "metadata": {},
   "outputs": [],
   "source": [
    "import yfinance as yf\n",
    "from myUtils import yf_download_AdjOHLCV, pickle_dump, pickle_load, read_symbols_file  # NOQA\n",
    "verbose = False  # True prints more output\n",
    "\n",
    "# path_dir = \"C:/Users/ping/MyDrive/stocks/MktCap2b_AUMtop1200/\"\n",
    "# path_data_dump = path_dir + \"VSCode_dump/\"\n",
    "# path_symbols_file = path_dir + \"source/\"\n",
    "# filename_symbols = path_symbols_file + '2021_Top1200_MktCap_n_AUM.txt'  # symbols text file\n",
    "# filename_pickled_df_OHLCV_all_dates = 'df_OHLCV_all_dates'  # pickled filename\n",
    "# filename_pickled_df_OHLCV_NYSE_dates = 'df_OHLCV_NYSE_dates'  # pickled filename\n",
    "# filename_pickled_symbols_df_OHLCV_NYSE_dates =  'symbols_df_OHLCV_NYSE_dates'  # pickled filename\n",
    "\n",
    "path_dir = \"C:/Users/ping/Desktop/my_yfinance/\"\n",
    "path_data_dump = path_dir + \"VSCode_dump/\"\n",
    "path_symbols_file = path_dir + \"source/\"\n",
    "filename_symbols = path_symbols_file + \"test_symbols_no_XOM.txt\"  # symbols text file\n",
    "filename_pickled_df_OHLCV_all_dates = \"df_test_all_dates\"  # pickled filename\n",
    "filename_pickled_df_OHLCV_NYSE_dates = \"df_test_NYSE_dates\"  # pickled filename\n",
    "filename_pickled_symbols_df_OHLCV_NYSE_dates = \"symbols_df_test_NYSE_dates\"  # pickled filename"
   ]
  },
  {
   "cell_type": "code",
   "execution_count": 24,
   "metadata": {},
   "outputs": [
    {
     "name": "stdout",
     "output_type": "stream",
     "text": [
      "['AAPL', 'FTEC', 'TEST-SYM', 'BTC-USD', 'ETH-USD', 'test-sym2']\n"
     ]
    }
   ],
   "source": [
    "mySymbols = read_symbols_file(filename_symbols)\n",
    "print(mySymbols)"
   ]
  },
  {
   "cell_type": "code",
   "execution_count": 25,
   "metadata": {},
   "outputs": [
    {
     "name": "stdout",
     "output_type": "stream",
     "text": [
      "[*********************100%***********************]  1 of 1 completed\n",
      "[*********************100%***********************]  6 of 6 completed\n",
      "\n",
      "2 Failed downloads:\n",
      "- TEST-SYM: No data found, symbol may be delisted\n",
      "- TEST-SYM2: No data found, symbol may be delisted\n"
     ]
    }
   ],
   "source": [
    "# download OHLCV, reindex to NSYE trading dates\n",
    "index_symbol = \"XOM\"  # use Exxon's date as proxy for NYSE trading dates\n",
    "df_XOM = yf.download(index_symbol)\n",
    "# download OHLCV data for symbols in filename_symbols\n",
    "df_OHLCV_all_dates, symbols_file = yf_download_AdjOHLCV(filename_symbols, verbose=verbose)"
   ]
  },
  {
   "cell_type": "code",
   "execution_count": 44,
   "metadata": {},
   "outputs": [],
   "source": [
    "df = df_OHLCV_all_dates.copy()\n",
    "# get column names(i.e. symbols) from multi-index\n",
    "#  column names are converted to all cap by yfinance download\n",
    "symbols_df_OHLCV_all_dates = list(set(df.columns.get_level_values(0)))"
   ]
  },
  {
   "cell_type": "code",
   "execution_count": 45,
   "metadata": {},
   "outputs": [
    {
     "name": "stdout",
     "output_type": "stream",
     "text": [
      "Dataframe for TEST-SYM is all NaN\n",
      "Dataframe for TEST-SYM2 is all NaN\n",
      "symbols_all_NaN: ['TEST-SYM', 'TEST-SYM2']\n"
     ]
    }
   ],
   "source": [
    "symbols_all_NaN = []\n",
    "for symbol in symbols_df_OHLCV_all_dates:\n",
    "  # Check for symbols with all NaN dataframe\n",
    "  # 1st .all returns a series of True/False, 2nd .all reduces to single True/False\n",
    "  if df_OHLCV_all_dates[symbol].isna().all().all():\n",
    "  # if df_OHLCV_NYSE_dates[symbol].isna().all().all():  \n",
    "    print(f'Dataframe for {symbol} is all NaN')\n",
    "    symbols_all_NaN.append(symbol)\n",
    "print(f'symbols_all_NaN: {symbols_all_NaN}')"
   ]
  },
  {
   "cell_type": "code",
   "execution_count": 46,
   "metadata": {},
   "outputs": [
    {
     "name": "stdout",
     "output_type": "stream",
     "text": [
      "df_OHLCV_all_dates columns before dropping symbols with all NaN:\n",
      "[('TEST-SYM', 'Open'), ('TEST-SYM', 'High'), ('TEST-SYM', 'Low'), ('TEST-SYM', 'Close'), ('TEST-SYM', 'Adj Close'), ('TEST-SYM', 'Volume'), ('ETH-USD', 'Open'), ('ETH-USD', 'High'), ('ETH-USD', 'Low'), ('ETH-USD', 'Close'), ('ETH-USD', 'Volume'), ('FTEC', 'Open'), ('FTEC', 'High'), ('FTEC', 'Low'), ('FTEC', 'Close'), ('FTEC', 'Volume'), ('TEST-SYM2', 'Open'), ('TEST-SYM2', 'High'), ('TEST-SYM2', 'Low'), ('TEST-SYM2', 'Close'), ('TEST-SYM2', 'Adj Close'), ('TEST-SYM2', 'Volume'), ('BTC-USD', 'Open'), ('BTC-USD', 'High'), ('BTC-USD', 'Low'), ('BTC-USD', 'Close'), ('BTC-USD', 'Volume'), ('AAPL', 'Open'), ('AAPL', 'High'), ('AAPL', 'Low'), ('AAPL', 'Close'), ('AAPL', 'Volume')]\n",
      "\n",
      "df_OHLCV_all_dates columns after dropping symbols with all NaN:\n",
      "[('ETH-USD', 'Open'), ('ETH-USD', 'High'), ('ETH-USD', 'Low'), ('ETH-USD', 'Close'), ('ETH-USD', 'Volume'), ('FTEC', 'Open'), ('FTEC', 'High'), ('FTEC', 'Low'), ('FTEC', 'Close'), ('FTEC', 'Volume'), ('BTC-USD', 'Open'), ('BTC-USD', 'High'), ('BTC-USD', 'Low'), ('BTC-USD', 'Close'), ('BTC-USD', 'Volume'), ('AAPL', 'Open'), ('AAPL', 'High'), ('AAPL', 'Low'), ('AAPL', 'Close'), ('AAPL', 'Volume')]\n"
     ]
    }
   ],
   "source": [
    "print(f'df_OHLCV_all_dates columns before dropping symbols with all NaN:\\n{df_OHLCV_all_dates.columns.values.tolist()}\\n')\n",
    "for symbol in symbols_all_NaN:\n",
    "  df_OHLCV_all_dates.drop(columns=[symbol], axis=1, level=0, inplace=True)\n",
    "print(f'df_OHLCV_all_dates columns after dropping symbols with all NaN:\\n{df_OHLCV_all_dates.columns.values.tolist()}')"
   ]
  },
  {
   "cell_type": "code",
   "execution_count": null,
   "metadata": {},
   "outputs": [],
   "source": [
    "# reindex to date index in df_XOM, weekend data are dropped\n",
    "myNaN = float('nan')\n",
    "df_OHLCV_NYSE_dates = df_OHLCV_all_dates.reindex(df_XOM.index, fill_value=myNaN)\n",
    "df_OHLCV_NYSE_dates"
   ]
  },
  {
   "cell_type": "code",
   "execution_count": null,
   "metadata": {},
   "outputs": [],
   "source": [
    "# https://stackoverflow.com/questions/25135578/python-pandas-drop-a-column-from-a-multi-level-column-index\n",
    "# df = df_OHLCV_all_dates.copy()\n",
    "df = df_OHLCV_NYSE_dates.copy()\n",
    "# for sym in symbols_all_NaN:\n",
    "#   df.drop(sym, axis=1, level=0, inplace=True)\n",
    "my_list = df.columns.values.tolist()\n",
    "my_list"
   ]
  },
  {
   "cell_type": "code",
   "execution_count": null,
   "metadata": {},
   "outputs": [],
   "source": [
    "# pickle df_OHLCV and symbols\n",
    "print(f\"Full path to pickled df_OHLCV_all_dates:  {path_data_dump}{filename_pickled_df_OHLCV_all_dates}\")\n",
    "pickle_dump(df_OHLCV_all_dates, path_data_dump, filename_pickled_df_OHLCV_all_dates, verbose=verbose)\n",
    "print(f\"Full path to pickled df_OHLCV_NYSE_dates:  {path_data_dump}{filename_pickled_df_OHLCV_NYSE_dates}\")\n",
    "pickle_dump(df_OHLCV_NYSE_dates, path_data_dump, filename_pickled_df_OHLCV_NYSE_dates, verbose=verbose)\n",
    "print(f\"Full path to pickled symbols_df_OHLCV_NYSE_dates:  {path_data_dump}{filename_pickled_symbols_df_OHLCV_NYSE_dates}\")\n",
    "pickle_dump(symbols, path_data_dump, filename_pickled_symbols_df_OHLCV_NYSE_dates, verbose=verbose)"
   ]
  },
  {
   "cell_type": "code",
   "execution_count": null,
   "metadata": {},
   "outputs": [],
   "source": []
  },
  {
   "cell_type": "code",
   "execution_count": null,
   "metadata": {},
   "outputs": [],
   "source": [
    "TODO\n",
    "break up symbols_file to small set\n",
    "reload failed downloads\n",
    "append fail downloads"
   ]
  }
 ],
 "metadata": {
  "kernelspec": {
   "display_name": "Python 3.7.9 ('.venv': poetry)",
   "language": "python",
   "name": "python3"
  },
  "language_info": {
   "codemirror_mode": {
    "name": "ipython",
    "version": 3
   },
   "file_extension": ".py",
   "mimetype": "text/x-python",
   "name": "python",
   "nbconvert_exporter": "python",
   "pygments_lexer": "ipython3",
   "version": "3.7.9"
  },
  "orig_nbformat": 4,
  "vscode": {
   "interpreter": {
    "hash": "55a3812d65f91e7e7447da6b5cfc60716e82f91e6a92533fb27b46796ad1962a"
   }
  }
 },
 "nbformat": 4,
 "nbformat_minor": 2
}
