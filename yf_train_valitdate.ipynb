{
 "cells": [
  {
   "cell_type": "code",
   "execution_count": null,
   "metadata": {},
   "outputs": [],
   "source": [
    "import numpy as np\n",
    "from random import randint"
   ]
  },
  {
   "cell_type": "code",
   "execution_count": null,
   "metadata": {},
   "outputs": [],
   "source": [
    "l = list(np.arange(250))"
   ]
  },
  {
   "cell_type": "code",
   "execution_count": null,
   "metadata": {},
   "outputs": [],
   "source": [
    "count = 0\n",
    "iteration = 100\n",
    "len_train = 120\n",
    "len_val = 20\n",
    "len_total = len_train + len_val\n",
    "print(f'len_train: {len_train}, len_val: {len_val}, len_total: {len_total}, len(l): {len(l)}')\n",
    "\n",
    "if len_total > len(l):\n",
    "  msg_err = f'len_total: {len_total} must be less or equal to len(l): {len(l)}'\n",
    "  raise SystemExit(msg_err)\n",
    "\n",
    "while count < iteration:\n",
    "  n_rand = randint(0, 250-1)\n",
    "  start_train = n_rand - len_train\n",
    "  end_train = n_rand\n",
    "  start_val = n_rand\n",
    "  end_val = n_rand + len_val\n",
    "  if 0 <= start_train and end_val <= len(l):\n",
    "    print(f'n_rand: {n_rand:>3},    start_train: {start_train:>3},    end_train: {end_train:>3},    start_val: {start_val:>3},    end_val: {end_val:>3},    count: {count:>3}')\n",
    "    # ======== valid n_rand, do test and validation here ========\n",
    "    # ======== valid n_rand, do test and validation here ========\n",
    "    count += 1  \n"
   ]
  }
 ],
 "metadata": {
  "kernelspec": {
   "display_name": "Python 3.7.9 ('.venv': poetry)",
   "language": "python",
   "name": "python3"
  },
  "language_info": {
   "codemirror_mode": {
    "name": "ipython",
    "version": 3
   },
   "file_extension": ".py",
   "mimetype": "text/x-python",
   "name": "python",
   "nbconvert_exporter": "python",
   "pygments_lexer": "ipython3",
   "version": "3.7.9"
  },
  "orig_nbformat": 4,
  "vscode": {
   "interpreter": {
    "hash": "55a3812d65f91e7e7447da6b5cfc60716e82f91e6a92533fb27b46796ad1962a"
   }
  }
 },
 "nbformat": 4,
 "nbformat_minor": 2
}
