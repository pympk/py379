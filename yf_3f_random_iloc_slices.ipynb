{
 "cells": [
  {
   "cell_type": "code",
   "execution_count": null,
   "metadata": {},
   "outputs": [],
   "source": [
    "# https://stats.stackexchange.com/questions/346907/splitting-time-series-data-into-train-test-validation-sets"
   ]
  },
  {
   "cell_type": "code",
   "execution_count": 10,
   "metadata": {},
   "outputs": [],
   "source": [
    "def random_slices (df, n_samples, days_lookback, days_eval):\n",
    "  \"\"\"Pad target_arr with leading numpy.nan to length arr_len.\n",
    "\n",
    "  Args:\n",
    "      df(dataframe): dataframe\n",
    "      n_samples(int): number of slices to return\n",
    "      days_lookback(int):  number of days to lookback for training\n",
    "      days_eval(int): number of days to forward for evaluation \n",
    "\n",
    "  Return:\n",
    "      r_slices(list of tuples): target_arr padded to length arr_len\n",
    "  \"\"\"\n",
    "  \n",
    "  \n",
    "  import random\n",
    "  from random import randint\n",
    "\n",
    "  # random.seed(0)  \n",
    "  n_sample = 0\n",
    "  days_total = days_lookback + days_eval\n",
    "  print(f'days_lookback: {days_lookback}, days_eval: {days_eval}, days_total: {days_total}, len(df): {len(df)}')\n",
    "\n",
    "  if days_total > len(df):\n",
    "    msg_err = f'days_total: {days_total} must be less or equal to len(df): {len(df)}'\n",
    "    raise SystemExit(msg_err)\n",
    "\n",
    "  # random slices of iloc for train and eval that fits the days_lookback, days_eval and total len(df) constraints\n",
    "  r_slices = []\n",
    "  while n_sample < n_samples:\n",
    "    n_rand = randint(0, len(df))    \n",
    "    start_train = n_rand - days_lookback\n",
    "    end_train = n_rand\n",
    "    start_eval = n_rand\n",
    "    end_eval = n_rand + days_eval\n",
    "    if 0 <= start_train and end_eval <= len(df):\n",
    "      r_slices.append((start_train, end_train, end_eval))\n",
    "      n_sample += 1\n",
    "\n",
    "  return r_slices "
   ]
  },
  {
   "cell_type": "code",
   "execution_count": 2,
   "metadata": {},
   "outputs": [],
   "source": [
    "import pandas as pd\n",
    "import numpy as np\n",
    "#create DataFrame\n",
    "df = pd.DataFrame(np.arange(0,1000), columns=list('A'))"
   ]
  },
  {
   "cell_type": "code",
   "execution_count": null,
   "metadata": {},
   "outputs": [],
   "source": [
    "df"
   ]
  },
  {
   "cell_type": "code",
   "execution_count": 33,
   "metadata": {},
   "outputs": [
    {
     "name": "stdout",
     "output_type": "stream",
     "text": [
      "days_lookback: 120, days_eval: 20, days_total: 140, len(df): 1000\n"
     ]
    },
    {
     "data": {
      "text/plain": [
       "[(689, 809, 829),\n",
       " (301, 421, 441),\n",
       " (433, 553, 573),\n",
       " (95, 215, 235),\n",
       " (528, 648, 668),\n",
       " (564, 684, 704),\n",
       " (19, 139, 159),\n",
       " (423, 543, 563),\n",
       " (538, 658, 678),\n",
       " (808, 928, 948),\n",
       " (381, 501, 521),\n",
       " (196, 316, 336),\n",
       " (269, 389, 409),\n",
       " (436, 556, 576),\n",
       " (430, 550, 570),\n",
       " (499, 619, 639),\n",
       " (628, 748, 768),\n",
       " (384, 504, 524),\n",
       " (650, 770, 790),\n",
       " (88, 208, 228),\n",
       " (309, 429, 449),\n",
       " (511, 631, 651),\n",
       " (655, 775, 795),\n",
       " (248, 368, 388),\n",
       " (199, 319, 339),\n",
       " (642, 762, 782),\n",
       " (665, 785, 805),\n",
       " (707, 827, 847),\n",
       " (124, 244, 264),\n",
       " (508, 628, 648),\n",
       " (766, 886, 906),\n",
       " (482, 602, 622),\n",
       " (764, 884, 904),\n",
       " (404, 524, 544),\n",
       " (256, 376, 396),\n",
       " (37, 157, 177),\n",
       " (356, 476, 496),\n",
       " (144, 264, 284),\n",
       " (487, 607, 627),\n",
       " (337, 457, 477),\n",
       " (165, 285, 305),\n",
       " (779, 899, 919),\n",
       " (738, 858, 878),\n",
       " (104, 224, 244),\n",
       " (271, 391, 411),\n",
       " (273, 393, 413),\n",
       " (643, 763, 783),\n",
       " (398, 518, 538),\n",
       " (829, 949, 969),\n",
       " (227, 347, 367),\n",
       " (113, 233, 253),\n",
       " (723, 843, 863),\n",
       " (484, 604, 624),\n",
       " (150, 270, 290),\n",
       " (838, 958, 978),\n",
       " (38, 158, 178),\n",
       " (203, 323, 343),\n",
       " (521, 641, 661),\n",
       " (478, 598, 618),\n",
       " (457, 577, 597),\n",
       " (376, 496, 516),\n",
       " (858, 978, 998),\n",
       " (419, 539, 559),\n",
       " (370, 490, 510),\n",
       " (325, 445, 465),\n",
       " (207, 327, 347),\n",
       " (274, 394, 414),\n",
       " (626, 746, 766),\n",
       " (773, 893, 913),\n",
       " (324, 444, 464),\n",
       " (501, 621, 641),\n",
       " (560, 680, 700),\n",
       " (838, 958, 978),\n",
       " (16, 136, 156),\n",
       " (659, 779, 799),\n",
       " (25, 145, 165),\n",
       " (786, 906, 926),\n",
       " (1, 121, 141),\n",
       " (602, 722, 742),\n",
       " (320, 440, 460),\n",
       " (133, 253, 273),\n",
       " (524, 644, 664),\n",
       " (158, 278, 298),\n",
       " (150, 270, 290),\n",
       " (273, 393, 413),\n",
       " (232, 352, 372),\n",
       " (178, 298, 318),\n",
       " (262, 382, 402),\n",
       " (510, 630, 650),\n",
       " (702, 822, 842),\n",
       " (532, 652, 672),\n",
       " (74, 194, 214),\n",
       " (642, 762, 782),\n",
       " (724, 844, 864),\n",
       " (434, 554, 574),\n",
       " (434, 554, 574),\n",
       " (226, 346, 366),\n",
       " (407, 527, 547),\n",
       " (445, 565, 585),\n",
       " (45, 165, 185)]"
      ]
     },
     "execution_count": 33,
     "metadata": {},
     "output_type": "execute_result"
    }
   ],
   "source": [
    "my_slices = random_slices(df, n_samples=100, days_lookback=120, days_eval=20)\n",
    "my_slices"
   ]
  },
  {
   "cell_type": "code",
   "execution_count": null,
   "metadata": {},
   "outputs": [],
   "source": [
    "import numpy as np\n",
    "import pandas as pd\n",
    "import random\n",
    "from random import randint\n",
    "from myUtils import pickle_dump\n",
    "\n",
    "path_dir = \"C:/Users/ping/MyDrive/stocks/yfinance/\"\n",
    "path_data_dump = path_dir + \"VSCode_dump/\""
   ]
  },
  {
   "cell_type": "code",
   "execution_count": null,
   "metadata": {},
   "outputs": [],
   "source": [
    "n_sample = 0\n",
    "n_samples = 100\n",
    "days_lookback = 120\n",
    "days_eval = 20\n",
    "days_total = days_lookback + days_eval\n",
    "print(f'days_lookback: {days_lookback}, days_eval: {days_eval}, days_total: {days_total}, len(df): {len(df)}')\n",
    "\n",
    "if days_total > len(df):\n",
    "  msg_err = f'days_total: {days_total} must be less or equal to len(df): {len(df)}'\n",
    "  raise SystemExit(msg_err)\n",
    "\n",
    "# random slices of iloc for train and eval that fits the days_lookback, days_eval and total len(df) constraints\n",
    "l_slices = []  \n",
    "while n_sample < n_samples:\n",
    "\n",
    "\n",
    "\n",
    "  # random.seed(0)\n",
    "  \n",
    "  \n",
    "  \n",
    "  \n",
    "  n_rand = randint(0, 250-1)\n",
    "  start_train = n_rand - days_lookback\n",
    "  end_train = n_rand\n",
    "  start_eval = n_rand\n",
    "  end_eval = n_rand + days_eval\n",
    "  if 0 <= start_train and end_eval <= len(df):\n",
    "    l_slices.append((start_train, end_train, end_eval))\n",
    "    # print(f'n_rand: {n_rand:>3},    start_train: {start_train:>3},    end_train: {end_train:>3},    start_eval: {start_eval:>3},    end_eval: {end_eval:>3},    n_sample: {n_sample:>3}')\n",
    "    # ======== valid n_rand, do test and validation here ========\n",
    "    # ======== valid n_rand, do test and validation here ========\n",
    "    n_sample += 1  "
   ]
  },
  {
   "cell_type": "code",
   "execution_count": null,
   "metadata": {},
   "outputs": [],
   "source": [
    "n_sample = 0\n",
    "n_samples = 100\n",
    "days_lookback = 120\n",
    "days_eval = 20\n",
    "days_total = days_lookback + days_eval\n",
    "print(f'days_lookback: {days_lookback}, days_eval: {days_eval}, days_total: {days_total}, len(df): {len(df)}')\n",
    "\n",
    "if days_total > len(df):\n",
    "  msg_err = f'days_total: {days_total} must be less or equal to len(df): {len(df)}'\n",
    "  raise SystemExit(msg_err)\n",
    "\n",
    "# random slices of iloc for train and eval that fits the days_lookback, days_eval and total len(df) constraints\n",
    "l_slices = []  \n",
    "while n_sample < n_samples:\n",
    "  n_rand = randint(0, 250-1)\n",
    "  start_train = n_rand - days_lookback\n",
    "  end_train = n_rand\n",
    "  start_eval = n_rand\n",
    "  end_eval = n_rand + days_eval\n",
    "  if 0 <= start_train and end_eval <= len(df):\n",
    "    l_slices.append((start_train, end_train, end_eval))\n",
    "    # print(f'n_rand: {n_rand:>3},    start_train: {start_train:>3},    end_train: {end_train:>3},    start_eval: {start_eval:>3},    end_eval: {end_eval:>3},    n_sample: {n_sample:>3}')\n",
    "    # ======== valid n_rand, do test and validation here ========\n",
    "    # ======== valid n_rand, do test and validation here ========\n",
    "    n_sample += 1  "
   ]
  },
  {
   "cell_type": "code",
   "execution_count": null,
   "metadata": {},
   "outputs": [],
   "source": [
    "l_slices"
   ]
  },
  {
   "cell_type": "code",
   "execution_count": null,
   "metadata": {},
   "outputs": [],
   "source": [
    "for l_slice in l_slices:\n",
    "  start_train = l_slice[0]\n",
    "  end_train = l_slice[1]\n",
    "  df_train = df.iloc[start_train:end_train]\n",
    "\n",
    "  start_eval = end_train\n",
    "  end_eval = l_slice[2]\n",
    "  df_eval = df.iloc[start_eval:end_eval]"
   ]
  },
  {
   "cell_type": "code",
   "execution_count": null,
   "metadata": {},
   "outputs": [],
   "source": []
  },
  {
   "cell_type": "code",
   "execution_count": null,
   "metadata": {},
   "outputs": [],
   "source": [
    "my_slices = random_slices(df, n_samples=100, days_lookback=120, days_eval=20)\n",
    "my_slices"
   ]
  },
  {
   "cell_type": "code",
   "execution_count": null,
   "metadata": {},
   "outputs": [],
   "source": [
    "pickle_dump(l_slices, path_data_dump, 'l_slices')\n",
    "l_slices"
   ]
  }
 ],
 "metadata": {
  "kernelspec": {
   "display_name": "Python 3.7.9 ('.venv': poetry)",
   "language": "python",
   "name": "python3"
  },
  "language_info": {
   "codemirror_mode": {
    "name": "ipython",
    "version": 3
   },
   "file_extension": ".py",
   "mimetype": "text/x-python",
   "name": "python",
   "nbconvert_exporter": "python",
   "pygments_lexer": "ipython3",
   "version": "3.7.9"
  },
  "orig_nbformat": 4,
  "vscode": {
   "interpreter": {
    "hash": "55a3812d65f91e7e7447da6b5cfc60716e82f91e6a92533fb27b46796ad1962a"
   }
  }
 },
 "nbformat": 4,
 "nbformat_minor": 2
}
