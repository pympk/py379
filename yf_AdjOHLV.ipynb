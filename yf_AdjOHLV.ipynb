{
 "cells": [
  {
   "cell_type": "code",
   "execution_count": null,
   "metadata": {},
   "outputs": [],
   "source": [
    "# df_OHLCV has data only for NYSE trading days, no weekend data\n",
    "# df_OHLCV_all_dates includes data for weekends when BTC trades\n",
    "# read symbols in file to list syms_in_file\n",
    "# download OHLCV data for symbols in syms_in_file\n",
    "# drop symbols with all NaN in OHLCV columns from df\n",
    "# drop weekend data by reindex to date index of index_symbol\n",
    "# pickled df_OHLCV_all_dates\n",
    "# pickled df_OHLCV\n",
    "# pickled symbols_df_OHLCV\n",
    "# create df_symbols_close, sort df by symbols\n",
    "# pickled df_symbols_close"
   ]
  },
  {
   "cell_type": "code",
   "execution_count": 1,
   "metadata": {},
   "outputs": [],
   "source": [
    "import yfinance as yf\n",
    "from myUtils import yf_download_AdjOHLCV, pickle_dump, pickle_load, read_symbols_file, drop_symbols_all_NaN, yf_symbols_close # NOQA\n",
    "verbose = False  # True prints more output\n",
    "# verbose = True  # True prints more output\n",
    "\n",
    "path_dir = \"C:/Users/ping/MyDrive/stocks/MktCap2b_AUMtop1200/\"\n",
    "path_data_dump = path_dir + \"VSCode_dump/\"\n",
    "path_symbols_file = path_dir + \"source/\"\n",
    "filename_symbols = path_symbols_file + '2021_Top1200_MktCap_n_AUM.txt'  # symbols text file\n",
    "filename_pickled_df_OHLCV_all_dates = 'df_OHLCV_all_dates'  # pickled filename\n",
    "filename_pickled_df_OHLCV = 'df_OHLCV'  # pickled filename\n",
    "filename_pickled_df_symbols_close = \"df_symbols_close\"  # pickled filename\n",
    "filename_pickled_symbols_df_OHLCV =  'symbols_df_OHLCV'  # pickled filename\n",
    "\n",
    "# path_dir = \"C:/Users/ping/Desktop/my_yfinance/\"\n",
    "# path_data_dump = path_dir + \"VSCode_dump/\"\n",
    "# path_symbols_file = path_dir + \"source/\"\n",
    "# filename_symbols = path_symbols_file + \"test_symbols_no_XOM.txt\"  # symbols text file\n",
    "# filename_pickled_df_OHLCV_all_dates = 'df_OHLCV_all_dates_test'  # pickled filename\n",
    "# filename_pickled_df_OHLCV = 'df_OHLCV_test'  # pickled filename\n",
    "# filename_pickled_df_symbols_close = \"df_symbols_close_test\"  # pickled filename\n",
    "# filename_pickled_symbols_df_OHLCV =  'symbols_df_OHLCV_test'  # pickled filename"
   ]
  },
  {
   "cell_type": "code",
   "execution_count": null,
   "metadata": {},
   "outputs": [],
   "source": [
    "# read symbols in file to a list\n",
    "symbols_in_file = read_symbols_file(filename_symbols)\n",
    "# download OHLCV data for symbols in syms_in_file\n",
    "df_OHLCV_all_dates = yf_download_AdjOHLCV(symbols_in_file, verbose=verbose)"
   ]
  },
  {
   "cell_type": "code",
   "execution_count": null,
   "metadata": {},
   "outputs": [],
   "source": [
    "# sort df by symbol\n",
    "df_OHLCV_all_dates = df_OHLCV_all_dates.sort_index(axis=1,level=0,sort_remaining=False)"
   ]
  },
  {
   "cell_type": "code",
   "execution_count": null,
   "metadata": {},
   "outputs": [],
   "source": [
    "# drop symbols with all NaN in OHLCV columns from df\n",
    "df_OHLCV_all_dates, symbols_OHLCV, symbols_dropped = drop_symbols_all_NaN(df_OHLCV_all_dates, verbose)\n",
    "# print(f'symbols_OHLCV: {symbols_OHLCV}')\n",
    "print(f'symbols with all NaN dropped from df_OHLCV_all_dates: {symbols_dropped}')"
   ]
  },
  {
   "cell_type": "code",
   "execution_count": null,
   "metadata": {},
   "outputs": [],
   "source": [
    "# drop weekend data by re-indexing to date-index of index_symbol\n",
    "myNaN = float('nan')\n",
    "index_symbol = \"XOM\"  \n",
    "df_XOM = yf.download(index_symbol)\n",
    "# use Exxon's date as proxy for NYSE trading dates\n",
    "df_OHLCV = df_OHLCV_all_dates.reindex(df_XOM.index, fill_value=myNaN)"
   ]
  },
  {
   "cell_type": "code",
   "execution_count": null,
   "metadata": {},
   "outputs": [],
   "source": [
    "# pickle df_OHLCV and symbols\n",
    "print(f\"Full path to pickled df_OHLCV_all_dates:  {path_data_dump}{filename_pickled_df_OHLCV_all_dates}\")\n",
    "pickle_dump(df_OHLCV_all_dates, path_data_dump, filename_pickled_df_OHLCV_all_dates, verbose=verbose)\n",
    "print(f\"Full path to pickled df_OHLCV:  {path_data_dump}{filename_pickled_df_OHLCV}\")\n",
    "pickle_dump(df_OHLCV, path_data_dump, filename_pickled_df_OHLCV, verbose=verbose)\n",
    "print(f\"Full path to pickled symbols_df_OHLCV:  {path_data_dump}{filename_pickled_symbols_df_OHLCV}\")\n",
    "pickle_dump(symbols_OHLCV, path_data_dump, filename_pickled_symbols_df_OHLCV, verbose=verbose)"
   ]
  },
  {
   "cell_type": "code",
   "execution_count": null,
   "metadata": {},
   "outputs": [],
   "source": [
    "# create df of symbols' Close, sort df by symbols, pickled df\n",
    "df_symbols_close, dates_dropped, symbols_OHLCV, symbols_dropped = yf_symbols_close(\n",
    "    path_dir,\n",
    "    path_data_dump,\n",
    "    filename_pickled_df_OHLCV,\n",
    "    verbose=verbose,\n",
    ")\n",
    "# multi-index sort df by symbol\n",
    "df_symbols_close = df_symbols_close.sort_index(axis=1,level=0,sort_remaining=False)\n",
    "print(f\"Full path to pickled df_symbols_close:  {path_data_dump}{filename_pickled_df_symbols_close}\")\n",
    "pickle_dump(df_symbols_close, path_data_dump, filename_pickled_df_symbols_close, verbose=verbose)"
   ]
  },
  {
   "cell_type": "code",
   "execution_count": null,
   "metadata": {},
   "outputs": [],
   "source": [
    "# retrieve pickled files\n",
    "print(f\"Full path to pickled df_OHLCV_all_dates:  {path_data_dump}{filename_pickled_df_OHLCV_all_dates}\")\n",
    "df_all_dates = pickle_load(path_data_dump, filename_pickled_df_OHLCV_all_dates, verbose=verbose)\n",
    "print(f\"Full path to pickled df_OHLCV:  {path_data_dump}{filename_pickled_df_OHLCV}\")\n",
    "df = pickle_load(path_data_dump, filename_pickled_df_OHLCV, verbose=verbose)\n",
    "print(f\"Full path to pickled symbols_df_OHLCV:  {path_data_dump}{filename_pickled_symbols_df_OHLCV}\")\n",
    "df_close = pickle_load(path_data_dump, filename_pickled_df_symbols_close, verbose=verbose)\n",
    "print(f\"Full path to pickled df_symbols_close:  {path_data_dump}{filename_pickled_df_symbols_close}\")\n",
    "symbols_df = pickle_load(path_data_dump, filename_pickled_symbols_df_OHLCV, verbose=verbose)"
   ]
  },
  {
   "cell_type": "code",
   "execution_count": null,
   "metadata": {},
   "outputs": [],
   "source": [
    "df['AAPL'].tail()"
   ]
  },
  {
   "cell_type": "code",
   "execution_count": null,
   "metadata": {},
   "outputs": [],
   "source": [
    "print(f'len(df_close.columns.to_list(): {len(df_close.columns.to_list())}')\n",
    "print(f'len(symbols_df): {len(symbols_df)}')"
   ]
  },
  {
   "cell_type": "code",
   "execution_count": null,
   "metadata": {},
   "outputs": [],
   "source": [
    "df_close"
   ]
  }
 ],
 "metadata": {
  "kernelspec": {
   "display_name": "Python 3.7.9 ('.venv': poetry)",
   "language": "python",
   "name": "python3"
  },
  "language_info": {
   "codemirror_mode": {
    "name": "ipython",
    "version": 3
   },
   "file_extension": ".py",
   "mimetype": "text/x-python",
   "name": "python",
   "nbconvert_exporter": "python",
   "pygments_lexer": "ipython3",
   "version": "3.7.9"
  },
  "orig_nbformat": 4,
  "vscode": {
   "interpreter": {
    "hash": "55a3812d65f91e7e7447da6b5cfc60716e82f91e6a92533fb27b46796ad1962a"
   }
  }
 },
 "nbformat": 4,
 "nbformat_minor": 2
}
