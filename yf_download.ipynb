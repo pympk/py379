{
 "cells": [
  {
   "cell_type": "code",
   "execution_count": null,
   "metadata": {},
   "outputs": [],
   "source": [
    "import yfinance as yf\n",
    "from myUtils import yf_download_AdjOHLCV, pickle_dump, pickle_load  # NOQA\n",
    "verbose = False  # True prints more output\n",
    "\n",
    "# path to file directories\n",
    "path_dir = \"C:/Users/ping/MyDrive/stocks/MktCap2b_AUMtop1200/\"\n",
    "path_data_dump = path_dir + \"VSCode_dump/\"\n",
    "path_symbols_file = path_dir + \"source/\"\n",
    "\n",
    "# file names\n",
    "filename_symbols = path_symbols_file + '2021_Top1200_MktCap_n_AUM.txt'  # symbols text file\n",
    "filename_pickled_df_OHLCV_all_dates = 'df_OHLCV_all_dates'  # pickled filename\n",
    "filename_pickled_df_OHLCV_NYSE_dates = 'df_OHLCV_NYSE_dates'  # pickled filename\n",
    "filename_pickled_symbols_df_OHLCV_NYSE_dates =  'symbols_df_OHLCV_NYSE_dates'  # pickled filename\n",
    "\n",
    "# filename_symbols = path_symbols_file + \"test_symbols_no_XOM.txt\"  # symbols text file\n",
    "# filename_pickled_df_OHLCV_all_dates = \"df_test_all_dates\"  # pickled filename\n",
    "# filename_pickled_df_OHLCV_NYSE_dates = \"df_test_NYSE_dates\"  # pickled filename\n",
    "# filename_pickled_symbols_df_OHLCV_NYSE_dates = \"symbols_df_test_NYSE_dates\"  # pickled filename"
   ]
  },
  {
   "cell_type": "code",
   "execution_count": null,
   "metadata": {},
   "outputs": [],
   "source": [
    "# download OHLCV, reindex to NSYE trading dates\n",
    "index_symbol = \"XOM\"  # use Exxon's date as proxy for NYSE trading dates\n",
    "df_XOM = yf.download(index_symbol)\n",
    "# download OHLCV data for symbols in filename_symbols\n",
    "df_OHLCV_all_dates, symbols_file = yf_download_AdjOHLCV(filename_symbols, verbose=verbose)\n",
    "# reindex to date index in df_XOM, weekend data are dropped\n",
    "df_OHLCV_NYSE_dates = df_OHLCV_all_dates.reindex(df_XOM.index, fill_value=\"NaN\")"
   ]
  },
  {
   "cell_type": "code",
   "execution_count": null,
   "metadata": {},
   "outputs": [],
   "source": [
    "symbols_file = symbols\n",
    "print(f'len(symbols_file): {len(symbols_file)}')\n",
    "df_wopey = df['WOPEY']\n",
    "# df_wopey.isnull().all().all()\n",
    "# if df_wopey.isna().all():  \n",
    "if df_wopey.isna().all().all():  # 1st .all returns a series of True/False, 2nd .all reduces to single True/False     \n",
    "  print('Dataframe is all NaN')"
   ]
  },
  {
   "cell_type": "code",
   "execution_count": null,
   "metadata": {},
   "outputs": [],
   "source": [
    "symbols_all_NaN = []\n",
    "for symbol in symbols:\n",
    "  # Check for symbols with all NaN dataframe\n",
    "  # 1st .all returns a series of True/False, 2nd .all reduces to single True/False\n",
    "  if df[symbol].isna().all().all():\n",
    "    print(f'Dataframe for {symbol} is all NaN')\n",
    "    symbols_all_NaN.append(symbol)\n",
    "print(f'symbols_all_NaN: {symbols_all_NaN}')"
   ]
  },
  {
   "cell_type": "code",
   "execution_count": null,
   "metadata": {},
   "outputs": [],
   "source": [
    "# drop all NaN columns\n",
    "df_wopey = df_wopey.dropna(how=\"all\", axis=\"columns\")\n",
    "df_wopey = df_wopey.dropna(how=\"all\", axis=\"index\")\n",
    "df_wopey.info\n",
    "if df_wopey.empty:\n",
    "    print('DataFrame is empty!')"
   ]
  },
  {
   "cell_type": "code",
   "execution_count": null,
   "metadata": {},
   "outputs": [],
   "source": [
    "# pickle df_OHLCV and symbols\n",
    "print(f\"Full path to pickled df_OHLCV_all_dates:  {path_data_dump}{filename_pickled_df_OHLCV_all_dates}\")\n",
    "pickle_dump(df_OHLCV_all_dates, path_data_dump, filename_pickled_df_OHLCV_all_dates, verbose=verbose)\n",
    "print(f\"Full path to pickled df_OHLCV_NYSE_dates:  {path_data_dump}{filename_pickled_df_OHLCV_NYSE_dates}\")\n",
    "pickle_dump(df_OHLCV_NYSE_dates, path_data_dump, filename_pickled_df_OHLCV_NYSE_dates, verbose=verbose)\n",
    "print(f\"Full path to pickled symbols_df_OHLCV_NYSE_dates:  {path_data_dump}{filename_pickled_symbols_df_OHLCV_NYSE_dates}\")\n",
    "pickle_dump(symbols, path_data_dump, filename_pickled_symbols_df_OHLCV_NYSE_dates, verbose=verbose)"
   ]
  },
  {
   "cell_type": "code",
   "execution_count": null,
   "metadata": {},
   "outputs": [],
   "source": [
    "# retrieve pickled OHLCV and symbols\n",
    "syms = pickle_load(path_data_dump, filename_pickled_symbols_df_OHLCV_NYSE_dates, verbose=verbose)\n",
    "print(f'symbol count in df_OHLCV_NYSE_dates: {len(syms)}')\n",
    "df = pickle_load(path_data_dump, filename_pickled_df_OHLCV_NYSE_dates, verbose=verbose)"
   ]
  },
  {
   "cell_type": "code",
   "execution_count": null,
   "metadata": {},
   "outputs": [],
   "source": [
    "mySyms = ['BCI', 'FTEC', 'ETH-USD', 'BTC-USD']\n",
    "# mySyms = ['PAA', 'WFC', 'SGOL', 'BTC-USD']\n",
    "for sym in mySyms:\n",
    "  print(f'{sym}\\n{df[sym].tail(7)}\\n')"
   ]
  }
 ],
 "metadata": {
  "kernelspec": {
   "display_name": "Python 3.7.9 ('.venv': poetry)",
   "language": "python",
   "name": "python3"
  },
  "language_info": {
   "codemirror_mode": {
    "name": "ipython",
    "version": 3
   },
   "file_extension": ".py",
   "mimetype": "text/x-python",
   "name": "python",
   "nbconvert_exporter": "python",
   "pygments_lexer": "ipython3",
   "version": "3.7.9"
  },
  "orig_nbformat": 4,
  "vscode": {
   "interpreter": {
    "hash": "55a3812d65f91e7e7447da6b5cfc60716e82f91e6a92533fb27b46796ad1962a"
   }
  }
 },
 "nbformat": 4,
 "nbformat_minor": 2
}
