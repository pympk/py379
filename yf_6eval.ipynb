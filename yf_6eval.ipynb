{
 "cells": [
  {
   "cell_type": "code",
   "execution_count": 1,
   "metadata": {},
   "outputs": [],
   "source": [
    "def symb_perf_stats_vectorized_v1(df_symbols_close):\n",
    "    \"\"\"Takes dataframe of symbols' close and returns symbols, period_yr,\n",
    "       drawdown, UI, max_drawdown, returns_std, Std_UI, CAGR, CAGR_Std, CAGR_UI\n",
    "       https://stackoverflow.com/questions/36750571/calculate-max-draw-down-with-a-vectorized-solution-in-python\n",
    "       http://www.tangotools.com/ui/ui.htm\n",
    "       Calculation CHECKED against: http://www.tangotools.com/ui/UlcerIndex.xls\n",
    "       Calculation VERIFIED in: symb_perf_stats_vectorized.ipynb\n",
    "\n",
    "    Args:\n",
    "        df_symbols_close(dataframe): dataframe with date as index,\n",
    "          symbol's close in columns, and symbols as column names.\n",
    "\n",
    "    Return:\n",
    "        symbols(pandas.core.indexes.base.Index): stock symbols\n",
    "        period_yr(float): years, (days in dataframe) / 252\n",
    "        drawdown(numpy array): drawdown from peak, 0.05 means 5% drawdown,\n",
    "            with date index and symbols as column names\n",
    "        UI(pandas.series float64): ulcer-index\n",
    "        max_drawdown(pandas series float64): maximum drawdown from peak\n",
    "        returns_std(pandas series float64): standard deviation of daily returns\n",
    "        Std_UI(pandas series float64): returns_std / UI\n",
    "        CAGR(pandas series float64): compounded annual growth rate\n",
    "        CAGR_Std(pandas series float64): CAGR / returns_std\n",
    "        CAGR_UI(pandas series float64): CAGR / UI\n",
    "    \"\"\"\n",
    "    # v1 convert drawdown from pandas series to numpy array\n",
    "\n",
    "    import numpy as np\n",
    "    import pandas as pd\n",
    "\n",
    "    symbols = df_symbols_close.columns\n",
    "    df_symbols_returns = df_symbols_close / df_symbols_close.shift(1) - 1\n",
    "    # standard deviation divisor is N - ddof\n",
    "    returns_std = df_symbols_returns.std(ddof=1)\n",
    "\n",
    "    # +++ SET RETURNS OF FIRST ROW = 0,\n",
    "    #  otherwise drawdown calculation starts with the second row\n",
    "    df_symbols_returns.iloc[0] = 0\n",
    "    cum_returns = (1 + df_symbols_returns).cumprod()\n",
    "    \n",
    "    drawdown = cum_returns.div(cum_returns.cummax()) - 1\n",
    "    # convert from pandas Series into a NumPy array\n",
    "    drawdown = np.array(drawdown)\n",
    "\n",
    "    max_drawdown = drawdown.min()\n",
    "\n",
    "    UI = np.sqrt(np.sum(np.square(drawdown), axis=0) / len(drawdown))    \n",
    "    UI = pd.Series(UI, index=symbols)\n",
    "\n",
    "    Std_UI = returns_std / UI\n",
    "    period_yr = len(df_symbols_close) / 252  # 252 trading days per year\n",
    "    CAGR = (df_symbols_close.iloc[-1] / df_symbols_close.iloc[0]) \\\n",
    "        ** (1 / period_yr) - 1\n",
    "    CAGR_Std = CAGR / returns_std\n",
    "    CAGR_UI = CAGR / UI\n",
    "\n",
    "    return symbols, period_yr, drawdown, UI, max_drawdown, \\\n",
    "        returns_std, Std_UI, CAGR, CAGR_Std, CAGR_UI"
   ]
  },
  {
   "cell_type": "code",
   "execution_count": 2,
   "metadata": {
    "tags": []
   },
   "outputs": [],
   "source": [
    "import pandas as pd\n",
    "# from myUtils import pickle_load, symb_perf_stats_vectorized, symb_perf_stats_vectorized_v1\n",
    "from myUtils import pickle_load, symb_perf_stats_vectorized\n",
    "\n",
    "file_close = 'df_close_clean'\n",
    "path_dir = \"C:/Users/ping/MyDrive/stocks/yfinance\"\n",
    "path_data_dump = path_dir + \"/VSCode_dump/\"\n",
    "\n",
    "df_c = pickle_load(path_data_dump, file_close)\n",
    "df_c = df_c[-252::]\n",
    "format1 = 'df_c({}):\\n{}\\n{}'.format(len(df_c), df_c.head(3), df_c.tail(3))\n",
    "# print(format1)"
   ]
  },
  {
   "cell_type": "code",
   "execution_count": null,
   "metadata": {},
   "outputs": [],
   "source": [
    "df_c"
   ]
  },
  {
   "cell_type": "code",
   "execution_count": null,
   "metadata": {},
   "outputs": [],
   "source": [
    "# symbols, period_yr, drawdown, UI, max_drawdown, returns_std, Std_UI, CAGR, CAGR_Std, CAGR_UI = \\\n",
    "    # symb_perf_stats_vectorized(df_c)\n",
    "symbols, period_yr, drawdown, UI, max_drawdown, returns_std, Std_UI, CAGR, CAGR_Std, CAGR_UI = \\\n",
    "    symb_perf_stats_vectorized(df_c)    \n",
    "caches_perf_stats_vect = []"
   ]
  },
  {
   "cell_type": "code",
   "execution_count": 5,
   "metadata": {},
   "outputs": [
    {
     "name": "stdout",
     "output_type": "stream",
     "text": [
      "92.6 ms ± 4.53 ms per loop (mean ± std. dev. of 17 runs, 20 loops each)\n"
     ]
    }
   ],
   "source": [
    "%%timeit -n 20 -r 17\n",
    "symbols, period_yr, drawdown, UI, max_drawdown, returns_std, Std_UI, CAGR, CAGR_Std, CAGR_UI = \\\n",
    "    symb_perf_stats_vectorized(df_c)\n",
    "# UI\n",
    "# # drawdown"
   ]
  },
  {
   "cell_type": "code",
   "execution_count": 6,
   "metadata": {},
   "outputs": [
    {
     "name": "stdout",
     "output_type": "stream",
     "text": [
      "83.5 ms ± 3.51 ms per loop (mean ± std. dev. of 17 runs, 20 loops each)\n"
     ]
    }
   ],
   "source": [
    "%%timeit -n 20 -r 17\n",
    "symbols, period_yr, drawdown, UI, max_drawdown, returns_std, Std_UI, CAGR, CAGR_Std, CAGR_UI = \\\n",
    "    symb_perf_stats_vectorized_v1(df_c)\n",
    "# print(0, UI['A'])\n",
    "# print(1, Std_UI['A'])\n",
    "# print(2, CAGR['A'])\n",
    "# print(3, CAGR_Std['A'])\n",
    "# print(4, CAGR_UI['A'])"
   ]
  },
  {
   "cell_type": "code",
   "execution_count": null,
   "metadata": {
    "tags": []
   },
   "outputs": [],
   "source": [
    "def perf_eval_0(df_close):\n",
    "  '''\n",
    "  df_close is a dataframe with date index, columns of symbols' closing price, and symbol as column name \n",
    "  '''\n",
    "  # %%timeit\n",
    "  symbols, period_yr, drawdown, UI, max_drawdown, returns_std, Std_UI, CAGR, CAGR_Std, CAGR_UI = \\\n",
    "      symb_perf_stats_vectorized(df_close)\n",
    "  caches_perf_stats_vect = []\n",
    "  for symbol in symbols:\n",
    "      date_first = drawdown.index[0].strftime('%Y-%m-%d')\n",
    "      date_last = drawdown.index[-1].strftime('%Y-%m-%d')\n",
    "      cache = (symbol, date_first, date_last, period_yr, CAGR[symbol],\n",
    "              UI[symbol], Std_UI[symbol], CAGR_Std[symbol], CAGR_UI[symbol])\n",
    "      # append performance data (tuple) to caches_perf_stats (list)\n",
    "      caches_perf_stats_vect.append(cache)\n",
    "  column_names = ['symbol', 'first date', 'last date', 'Year', 'CAGR',\n",
    "                  'UI', 'Std/UI', 'CAGR/Std', 'CAGR/UI']\n",
    "  # write symbols' performance stats to dataframe\n",
    "  df_perf = pd.DataFrame(caches_perf_stats_vect, columns=column_names)\n",
    "\n",
    "  _cols = ['CAGR', 'UI', 'Std/UI', 'CAGR/Std', 'CAGR/UI']\n",
    "  # print(f'df_perf mean:\\n{df_perf[_cols].mean()}\\n')\n",
    "  # print(f'df_perf std:\\n{df_perf[_cols].std()}')\n",
    "  grp_CAGRUI_mean = df_perf['CAGR/UI'].mean()\n",
    "  grp_CAGRUI_std = df_perf['CAGR/UI'].std()\n",
    "  grp_CAGRUI_mean_std = grp_CAGRUI_mean / grp_CAGRUI_std\n",
    "  grp_CAGRUI_mean_std\n",
    "\n",
    "  grp_CAGRStd_mean = df_perf['CAGR/Std'].mean()\n",
    "  grp_CAGRStd_std = df_perf['CAGR/Std'].std()\n",
    "  grp_CAGRStd_mean_std = grp_CAGRStd_mean / grp_CAGRStd_std\n",
    "  grp_CAGRStd_mean_std\n",
    "\n",
    "  grp_StdUI_mean = df_perf['Std/UI'].mean()\n",
    "  grp_StdUI_std = df_perf['Std/UI'].std()\n",
    "  grp_StdUI_mean_std = grp_StdUI_mean / grp_StdUI_std\n",
    "  grp_StdUI_mean_std\n",
    "\n",
    "  return df_perf, grp_StdUI_mean_std, grp_CAGRStd_mean_std, grp_CAGRUI_mean_std"
   ]
  },
  {
   "cell_type": "code",
   "execution_count": null,
   "metadata": {},
   "outputs": [],
   "source": [
    "df_perf, grp_StdUI_mean_std, grp_CAGRStd_mean_std, grp_CAGRUI_mean_std = perf_eval_0(df_c)\n",
    "print(f'grp_StdUI_mean_std :{grp_StdUI_mean_std:.6f}')\n",
    "print(f'grp_CAGRStd_mean_std :{grp_CAGRStd_mean_std:.6f}')\n",
    "print(f'grp_CAGRUI_mean_std :{grp_CAGRUI_mean_std:.6f}')\n",
    "df_perf.head()\n",
    "# df_perf.tail()"
   ]
  },
  {
   "cell_type": "code",
   "execution_count": null,
   "metadata": {},
   "outputs": [],
   "source": [
    "def perf_eval_1(df_close):\n",
    "  '''\n",
    "  df_close is a dataframe with date index, columns of symbols' closing price, and symbol as column name \n",
    "  '''\n",
    "  # %%timeit\n",
    "  symbols, period_yr, drawdown, UI, max_drawdown, returns_std, Std_UI, CAGR, CAGR_Std, CAGR_UI = \\\n",
    "      symb_perf_stats_vectorized_v1(df_close)\n",
    "  caches_perf_stats_vect = []\n",
    "  for symbol in symbols:\n",
    "      # date_first = drawdown.index[0].strftime('%Y-%m-%d')\n",
    "      # date_last = drawdown.index[-1].strftime('%Y-%m-%d')\n",
    "      date_first = df_close.index[0].strftime('%Y-%m-%d')\n",
    "      date_last = df_close.index[-1].strftime('%Y-%m-%d')\n",
    "\n",
    "      cache = (symbol, date_first, date_last, period_yr, CAGR[symbol],\n",
    "              UI[symbol], Std_UI[symbol], CAGR_Std[symbol], CAGR_UI[symbol])\n",
    "      # append performance data (tuple) to caches_perf_stats (list)\n",
    "      caches_perf_stats_vect.append(cache)\n",
    "  column_names = ['symbol', 'first date', 'last date', 'Year', 'CAGR',\n",
    "                  'UI', 'Std/UI', 'CAGR/Std', 'CAGR/UI']\n",
    "  # write symbols' performance stats to dataframe\n",
    "  df_perf = pd.DataFrame(caches_perf_stats_vect, columns=column_names)\n",
    "\n",
    "  _cols = ['CAGR', 'UI', 'Std/UI', 'CAGR/Std', 'CAGR/UI']\n",
    "  # print(f'df_perf mean:\\n{df_perf[_cols].mean()}\\n')\n",
    "  # print(f'df_perf std:\\n{df_perf[_cols].std()}')\n",
    "  grp_CAGRUI_mean = df_perf['CAGR/UI'].mean()\n",
    "  grp_CAGRUI_std = df_perf['CAGR/UI'].std()\n",
    "  grp_CAGRUI_mean_std = grp_CAGRUI_mean / grp_CAGRUI_std\n",
    "  grp_CAGRUI_mean_std\n",
    "\n",
    "  grp_CAGRStd_mean = df_perf['CAGR/Std'].mean()\n",
    "  grp_CAGRStd_std = df_perf['CAGR/Std'].std()\n",
    "  grp_CAGRStd_mean_std = grp_CAGRStd_mean / grp_CAGRStd_std\n",
    "  grp_CAGRStd_mean_std\n",
    "\n",
    "  grp_StdUI_mean = df_perf['Std/UI'].mean()\n",
    "  grp_StdUI_std = df_perf['Std/UI'].std()\n",
    "  grp_StdUI_mean_std = grp_StdUI_mean / grp_StdUI_std\n",
    "  grp_StdUI_mean_std\n",
    "\n",
    "  return df_perf, grp_StdUI_mean_std, grp_CAGRStd_mean_std, grp_CAGRUI_mean_std"
   ]
  },
  {
   "cell_type": "code",
   "execution_count": null,
   "metadata": {},
   "outputs": [],
   "source": [
    "df_perf, grp_StdUI_mean_std, grp_CAGRStd_mean_std, grp_CAGRUI_mean_std = perf_eval_1(df_c)\n",
    "print(f'grp_StdUI_mean_std :{grp_StdUI_mean_std:.6f}')\n",
    "print(f'grp_CAGRStd_mean_std :{grp_CAGRStd_mean_std:.6f}')\n",
    "print(f'grp_CAGRUI_mean_std :{grp_CAGRUI_mean_std:.6f}')\n",
    "df_perf.head()"
   ]
  },
  {
   "cell_type": "code",
   "execution_count": null,
   "metadata": {},
   "outputs": [],
   "source": [
    "symbols, period_yr, drawdown, UI, max_drawdown, returns_std, Std_UI, CAGR, CAGR_Std, CAGR_UI = \\\n",
    "    symb_perf_stats_vectorized_v1(df_c)\n",
    "caches_perf_stats_vect = []\n",
    "# for symbol in symbols:\n",
    "for symbol in symbols[:3]:\n",
    "    # date_first = drawdown.index[0].strftime('%Y-%m-%d')\n",
    "    # date_last = drawdown.index[-1].strftime('%Y-%m-%d')\n",
    "    date_first = df_c.index[0].strftime('%Y-%m-%d')\n",
    "    date_last = df_c.index[-1].strftime('%Y-%m-%d')\n",
    "    # print('1', date_first, date_last)\n",
    "    # print('2', CAGR[symbol], CAGR)\n",
    "    # # print(UI[symbol])\n",
    "    # print('3 +++++++++', UI)    \n",
    "    # print('4', Std_UI[symbol], Std_UI)\n",
    "    # print('5', CAGR_Std[symbol], CAGR_Std)\n",
    "    # print('6', CAGR_UI[symbol], CAGR_UI)\n",
    "\n",
    "    print('0', symbols[:3])\n",
    "    print('1', date_first, date_last)\n",
    "    print('2', CAGR)\n",
    "    # print(UI[symbol])\n",
    "    print('3', UI)    \n",
    "    print('4', Std_UI)\n",
    "    print('5', CAGR_Std)\n",
    "    print('6', CAGR_UI)    \n",
    "\n",
    "    # cache = (symbol, date_first, date_last, period_yr, CAGR[symbol],\n",
    "    #         UI[symbol], Std_UI[symbol], CAGR_Std[symbol], CAGR_UI[symbol])"
   ]
  },
  {
   "cell_type": "code",
   "execution_count": null,
   "metadata": {},
   "outputs": [],
   "source": [
    "symbols, period_yr, drawdown, UI, max_drawdown, returns_std, Std_UI, CAGR, CAGR_Std, CAGR_UI = \\\n",
    "    symb_perf_stats_vectorized(df_c)\n",
    "caches_perf_stats_vect = []\n",
    "for symbol in symbols:\n",
    "    # date_first = drawdown.index[0].strftime('%Y-%m-%d')\n",
    "    # date_last = drawdown.index[-1].strftime('%Y-%m-%d')\n",
    "    date_first = df_c.index[0].strftime('%Y-%m-%d')\n",
    "    date_last = df_c.index[-1].strftime('%Y-%m-%d')\n",
    "    # print('1', date_first, date_last)\n",
    "    # print('2', CAGR[symbol], CAGR)\n",
    "    # # print(UI[symbol])\n",
    "    # print('3 +++++++++', UI)    \n",
    "    # print('4', Std_UI[symbol], Std_UI)\n",
    "    # print('5', CAGR_Std[symbol], CAGR_Std)\n",
    "    # print('6', CAGR_UI[symbol], CAGR_UI)\n",
    "\n",
    "    print('1', date_first, date_last)\n",
    "    print('2', CAGR)\n",
    "    # print(UI[symbol])\n",
    "    print('3', UI)    \n",
    "    print('4', Std_UI)\n",
    "    print('5', CAGR_Std)\n",
    "    print('6', CAGR_UI)   "
   ]
  },
  {
   "cell_type": "code",
   "execution_count": null,
   "metadata": {},
   "outputs": [],
   "source": [
    "# _cols2 = ['TSBK', 'ELF', 'AVEO', 'ASC', 'TPL', 'AXON', 'NRIM', 'AAON', 'UFPT', 'GILD', 'MOD', 'SANM', 'INSW', 'LOPE', 'AE', 'ABMD', 'RMBS', 'WNC']\n",
    "_cols2 = ['AE', 'ABMD', 'RMBS', 'WNC']\n",
    "df_temp = df_c[_cols2].copy()\n",
    "# df_perf, grp_CAGRUI_mean_std = perf_eval(df_temp)\n",
    "df_perf, grp_StdUI_mean_std, grp_CAGRStd_mean_std, grp_CAGRUI_mean_std = perf_eval(df_temp)\n",
    "# print(f'grp_CAGRUI_mean_std :{grp_CAGRUI_mean_std:.6f}')\n",
    "print(f'grp_StdUI_mean_std: {grp_StdUI_mean_std:.6f}')\n",
    "print(f'grp_CAGRStd_mean_std: {grp_CAGRStd_mean_std:.6f}')\n",
    "print(f'grp_CAGRUI_mean_std: {grp_CAGRUI_mean_std:.6f}')\n",
    "df_perf.head()"
   ]
  },
  {
   "cell_type": "code",
   "execution_count": null,
   "metadata": {},
   "outputs": [],
   "source": []
  },
  {
   "cell_type": "code",
   "execution_count": null,
   "metadata": {},
   "outputs": [],
   "source": [
    "_df = df_perf.loc[df_perf['symbol'].isin(_cols2)]\n",
    "_means = _df[['Std/UI',\t'CAGR/Std', 'CAGR/UI']].mean()\n",
    "_stds = _df[['Std/UI',\t'CAGR/Std', 'CAGR/UI']].std()\n",
    "_mean_std = _means / _stds\n",
    "# print(_means, _means[0], _means[1], _means[2])\n",
    "# print(_stds, _stds[0], _stds[1], _stds[2])\n",
    "print(_mean_std, _mean_std[0], _mean_std[1], _mean_std[2])\n",
    "_df\n",
    "\n",
    "# df.loc[df['points'].isin([7, 9, 12])]"
   ]
  },
  {
   "cell_type": "code",
   "execution_count": null,
   "metadata": {},
   "outputs": [],
   "source": []
  },
  {
   "cell_type": "code",
   "execution_count": null,
   "metadata": {},
   "outputs": [],
   "source": [
    "df_SPY = df_c[['SPY']].copy()\n",
    "df_SPY\n",
    "df_perf, grp_StdUI_mean_std, grp_CAGRStd_mean_std, grp_CAGRUI_mean_std = perf_eval(df_SPY)\n",
    "print(f'grp_StdUI_mean_std: {grp_StdUI_mean_std:.6f}')\n",
    "print(f'grp_CAGRStd_mean_std: {grp_CAGRStd_mean_std:.6f}')\n",
    "print(f'grp_CAGRUI_mean_std: {grp_CAGRUI_mean_std:.6f}')\n",
    "df_perf.head()"
   ]
  }
 ],
 "metadata": {
  "kernelspec": {
   "display_name": "Python 3.7.9 ('.venv': poetry)",
   "language": "python",
   "name": "python3"
  },
  "language_info": {
   "codemirror_mode": {
    "name": "ipython",
    "version": 3
   },
   "file_extension": ".py",
   "mimetype": "text/x-python",
   "name": "python",
   "nbconvert_exporter": "python",
   "pygments_lexer": "ipython3",
   "version": "3.7.9"
  },
  "orig_nbformat": 2,
  "vscode": {
   "interpreter": {
    "hash": "d848e2535a99fe7c7346179acd9000b04da131f0f89ee41d962201c665cb28e1"
   }
  }
 },
 "nbformat": 4,
 "nbformat_minor": 2
}
