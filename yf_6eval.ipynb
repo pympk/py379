{
 "cells": [
  {
   "cell_type": "code",
   "execution_count": null,
   "metadata": {
    "tags": []
   },
   "outputs": [],
   "source": [
    "import pandas as pd\n",
    "import numpy as np\n",
    "# from myUtils import pickle_load, symb_perf_stats_vectorized, symb_perf_stats_vectorized_v1\n",
    "from myUtils import pickle_load, symb_perf_stats_vectorized_v2\n",
    "\n",
    "file_close = 'df_close_clean'\n",
    "path_dir = \"C:/Users/ping/MyDrive/stocks/yfinance\"\n",
    "path_data_dump = path_dir + \"/VSCode_dump/\"\n",
    "\n",
    "df_c = pickle_load(path_data_dump, file_close)\n",
    "df_c = df_c[-252::]\n",
    "format1 = 'df_c({}):\\n{}\\n{}'.format(len(df_c), df_c.head(3), df_c.tail(3))\n",
    "# print(format1)"
   ]
  },
  {
   "cell_type": "code",
   "execution_count": null,
   "metadata": {},
   "outputs": [],
   "source": [
    "def perf_eval(df_close):\n",
    "  '''\n",
    "  df_close is a dataframe with date index, columns of symbols' closing price, and symbols as column names.\n",
    "  The function first calculates symbols' drawdown, Ulcer-Index, max-drawdown, std(returns),\n",
    "  std(returns)/Ulcer-Index, CAGR, CAGR/std(returns), CAGR/Ulcer-Index. Then it calculates and returns \n",
    "  the group's (i.e. all the symbols) mean/standard-deviation for 'retrun_std/UI', 'CAGR/return_std', 'CAGR/UI'.\n",
    "\n",
    "  Args:\n",
    "    df_close(dataframe): dataframe of symbols' close with\n",
    "      DatetimeIndex e.g. (['2016-12-19', ... '2016-12-22']), symbols as\n",
    "      column names, and symbols' close as column values.\n",
    "\n",
    "  Return:\n",
    "    df_perf(dataframe): dataframe with columns symbol, first date, last date, Year, CAGR,\tUI,\n",
    "    \treturn_std/UI, CAGR/return_std, CAGR/UI\n",
    "    grp_retnStd_d_UI_mean_div_std(float): (std(returns)/Ulcer-Index).mean / (std(returns)/Ulcer-Index).std\n",
    "    grp_CAGR_d_retnStd_mean_div_std(float): (CAGR/std(returns)).mean / (CAGR/std(returns)).std\n",
    "    grp_CAGR_d_UI_mean_div_std(float): (CAGR/Ulcer_Index).mean / (CAGR/Ulcer_Index).std\n",
    "  '''\n",
    "\n",
    "  from myUtils import symb_perf_stats_vectorized_v2\n",
    "\n",
    "  symbols, period_yr, drawdown, UI, max_drawdown, returns_std, returns_std_div_UI, CAGR, CAGR_div_returns_std, CAGR_div_UI = \\\n",
    "      symb_perf_stats_vectorized_v2(df_close)\n",
    "\n",
    "  caches_perf_stats_vect = []\n",
    "  for symbol in symbols:\n",
    "      date_first = df_close.index[0].strftime('%Y-%m-%d')\n",
    "      date_last = df_close.index[-1].strftime('%Y-%m-%d')\n",
    "\n",
    "      cache = (symbol, date_first, date_last, period_yr, CAGR[symbol],\n",
    "              UI[symbol], returns_std_div_UI[symbol], CAGR_div_returns_std[symbol], CAGR_div_UI[symbol])\n",
    "      # append performance data (tuple) to caches_perf_stats (list)\n",
    "      caches_perf_stats_vect.append(cache)\n",
    "\n",
    "  column_names = ['symbol', 'first date', 'last date', 'Year', 'CAGR',\n",
    "                  'UI', 'return_std/UI', 'CAGR/return_std', 'CAGR/UI']\n",
    "  # write symbols' performance stats to dataframe\n",
    "  df_perf = pd.DataFrame(caches_perf_stats_vect, columns=column_names)\n",
    "\n",
    "  _cols = ['CAGR', 'UI', 'retrun_std/UI', 'CAGR/return_std', 'CAGR/UI']\n",
    "  grp_CAGR_d_UI_mean = df_perf['CAGR/UI'].mean()\n",
    "  grp_CAGR_d_UI_std  = df_perf['CAGR/UI'].std()\n",
    "  grp_CAGR_d_UI_mean_div_std = grp_CAGR_d_UI_mean / grp_CAGR_d_UI_std \n",
    "\n",
    "  grp_CAGR_d_retnStd_mean = df_perf['CAGR/return_std'].mean()\n",
    "  grp_CAGR_d_retnStd_std = df_perf['CAGR/return_std'].std()\n",
    "  grp_CAGR_d_retnStd_mean_div_std = grp_CAGR_d_retnStd_mean / grp_CAGR_d_retnStd_std\n",
    "\n",
    "  grp_retnStd_d_UI_mean = df_perf['return_std/UI'].mean()\n",
    "  grp_retnStd_d_UI_std = df_perf['return_std/UI'].std()\n",
    "  grp_retnStd_d_UI_mean_div_std = grp_retnStd_d_UI_mean / grp_retnStd_d_UI_std\n",
    "\n",
    "  return df_perf, grp_retnStd_d_UI_mean_div_std, grp_CAGR_d_retnStd_mean_div_std, grp_CAGR_d_UI_mean_div_std"
   ]
  },
  {
   "cell_type": "code",
   "execution_count": null,
   "metadata": {},
   "outputs": [],
   "source": [
    "df_perf, grp_retnStd_d_UI_mean_div_std, grp_CAGR_d_retnStd_mean_div_std, grp_CAGR_d_UI_mean_div_std = perf_eval(df_c)\n",
    "print(f'retnStd/UI   grp_mean/grp_std: {grp_retnStd_d_UI_mean_div_std:>10.6f}')\n",
    "print(f'CAGR/retnStd grp_mean/grp_std: {grp_CAGR_d_retnStd_mean_div_std:>10.6f}')\n",
    "print(f'CAGR/UI      grp_mean/grp_std: {grp_CAGR_d_UI_mean_div_std:>10.6f}')\n",
    "df_perf.head()"
   ]
  },
  {
   "cell_type": "code",
   "execution_count": null,
   "metadata": {},
   "outputs": [],
   "source": [
    "my_symbols = ['AE', 'ABMD', 'RMBS', 'WNC']\n",
    "my_cols = ['symbol', 'return_std/UI',\t'CAGR/return_std', 'CAGR/UI']\n",
    "# my_cols = ['return_std/UI',\t'CAGR/return_std', 'CAGR/UI']"
   ]
  },
  {
   "cell_type": "code",
   "execution_count": null,
   "metadata": {},
   "outputs": [],
   "source": [
    "# %%timeit -n 50 -r 20\n",
    "df_temp = df_c[my_symbols]\n",
    "df_perf1, grp_StdUI_mean_div_std, grp_CAGRStd_mean_div_std, grp_CAGRUI_mean_div_std = perf_eval(df_temp)\n",
    "print(f'return_std/UI   grp_mean/grp_std: {grp_mean_div_grp_std[0]:.6f}')\n",
    "print(f'CAGR/return_std grp_mean/grp_std: {grp_mean_div_grp_std[1]:.6f}')\n",
    "print(f'CAGR/UI         grp_mean/grp_std: {grp_mean_div_grp_std[2]:.6f}')\n",
    "df_perf1"
   ]
  },
  {
   "cell_type": "code",
   "execution_count": null,
   "metadata": {},
   "outputs": [],
   "source": [
    "# %%timeit -n 50 -r 20\n",
    "# select rows in my_symbols and columns in my_cols from df_perf\n",
    "_df = df_perf.loc[df_perf['symbol'].isin(my_symbols)][my_cols]\n",
    "# skip symbol in my_cols[0]\n",
    "grp_mean_div_grp_std = _df[my_cols[1:]].mean(numeric_only=True) / _df[my_cols[1:]].std(numeric_only=True)\n",
    "print(f'{my_cols[1]}   grp_mean/grp_std: {grp_mean_div_grp_std[0]:.6f}')\n",
    "print(f'{my_cols[2]} grp_mean/grp_std: {grp_mean_div_grp_std[1]:.6f}')\n",
    "print(f'{my_cols[3]}         grp_mean/grp_std: {grp_mean_div_grp_std[2]:.6f}')\n",
    "_df"
   ]
  },
  {
   "cell_type": "code",
   "execution_count": null,
   "metadata": {},
   "outputs": [],
   "source": [
    "df_SPY = df_c[['SPY']].copy()\n",
    "df_SPY\n",
    "df_perf, grp_StdUI_mean_std, grp_CAGRStd_mean_std, grp_CAGRUI_mean_std = perf_eval(df_SPY)\n",
    "print(f'grp_StdUI_mean_std: {grp_StdUI_mean_std:.6f}')\n",
    "print(f'grp_CAGRStd_mean_std: {grp_CAGRStd_mean_std:.6f}')\n",
    "print(f'grp_CAGRUI_mean_std: {grp_CAGRUI_mean_std:.6f}')\n",
    "df_perf.head()"
   ]
  },
  {
   "cell_type": "code",
   "execution_count": null,
   "metadata": {},
   "outputs": [],
   "source": []
  }
 ],
 "metadata": {
  "kernelspec": {
   "display_name": "Python 3.7.9 ('.venv': poetry)",
   "language": "python",
   "name": "python3"
  },
  "language_info": {
   "codemirror_mode": {
    "name": "ipython",
    "version": 3
   },
   "file_extension": ".py",
   "mimetype": "text/x-python",
   "name": "python",
   "nbconvert_exporter": "python",
   "pygments_lexer": "ipython3",
   "version": "3.7.9 (tags/v3.7.9:13c94747c7, Aug 17 2020, 18:58:18) [MSC v.1900 64 bit (AMD64)]"
  },
  "orig_nbformat": 2,
  "vscode": {
   "interpreter": {
    "hash": "d848e2535a99fe7c7346179acd9000b04da131f0f89ee41d962201c665cb28e1"
   }
  }
 },
 "nbformat": 4,
 "nbformat_minor": 2
}
