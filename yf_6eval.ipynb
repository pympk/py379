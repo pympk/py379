{
 "cells": [
  {
   "cell_type": "code",
   "execution_count": 1,
   "metadata": {
    "tags": []
   },
   "outputs": [],
   "source": [
    "import pandas as pd\n",
    "import numpy as np\n",
    "# from myUtils import pickle_load, symb_perf_stats_vectorized, symb_perf_stats_vectorized_v1\n",
    "from myUtils import pickle_load, symb_perf_stats_vectorized_v2\n",
    "\n",
    "file_close = 'df_close_clean'\n",
    "path_dir = \"C:/Users/ping/MyDrive/stocks/yfinance\"\n",
    "path_data_dump = path_dir + \"/VSCode_dump/\"\n",
    "\n",
    "df_c = pickle_load(path_data_dump, file_close)\n",
    "df_c = df_c[-252::]\n",
    "format1 = 'df_c({}):\\n{}\\n{}'.format(len(df_c), df_c.head(3), df_c.tail(3))\n",
    "# print(format1)"
   ]
  },
  {
   "cell_type": "code",
   "execution_count": 2,
   "metadata": {},
   "outputs": [],
   "source": [
    "# # %%timeit -n 20 -r 17\n",
    "# symbols, period_yr, drawdown, UI, max_drawdown, returns_std, Std_UI, CAGR, CAGR_Std, CAGR_UI = \\\n",
    "#     symb_perf_stats_vectorized_v2(df_c)"
   ]
  },
  {
   "cell_type": "code",
   "execution_count": 3,
   "metadata": {},
   "outputs": [],
   "source": [
    "def perf_eval(df_close):\n",
    "  '''\n",
    "  df_close is a dataframe with date index, columns of symbols' closing price, and symbol as column name.\n",
    "  Calculate symbols' performance in drawdown, Ulcer-Index, max-drawdown, standard deviation of returns,\n",
    "  standard deviation of returns / Ulcer-Index, CAGR, CAGR / standard deviation of returns, CAGR / Ulcer-Index.\n",
    "\n",
    "  '''\n",
    "\n",
    "  from myUtils import symb_perf_stats_vectorized_v2\n",
    "  # from trash import symb_perf_stats_vectorized_v2  \n",
    "\n",
    "  symbols, period_yr, drawdown, UI, max_drawdown, returns_std, returns_std_div_UI, CAGR, CAGR_div_returns_std, CAGR_div_UI = \\\n",
    "      symb_perf_stats_vectorized_v2(df_close)\n",
    "\n",
    "  caches_perf_stats_vect = []\n",
    "  for symbol in symbols:\n",
    "      # date_first = drawdown.index[0].strftime('%Y-%m-%d')\n",
    "      # date_last = drawdown.index[-1].strftime('%Y-%m-%d')\n",
    "      date_first = df_close.index[0].strftime('%Y-%m-%d')\n",
    "      date_last = df_close.index[-1].strftime('%Y-%m-%d')\n",
    "\n",
    "      cache = (symbol, date_first, date_last, period_yr, CAGR[symbol],\n",
    "              UI[symbol], returns_std_div_UI[symbol], CAGR_div_returns_std[symbol], CAGR_div_UI[symbol])\n",
    "      # append performance data (tuple) to caches_perf_stats (list)\n",
    "      caches_perf_stats_vect.append(cache)\n",
    "\n",
    "  column_names = ['symbol', 'first date', 'last date', 'Year', 'CAGR',\n",
    "                  'UI', 'return_std/UI', 'CAGR/return_std', 'CAGR/UI']\n",
    "  # write symbols' performance stats to dataframe\n",
    "  df_perf = pd.DataFrame(caches_perf_stats_vect, columns=column_names)\n",
    "\n",
    "  _cols = ['CAGR', 'UI', 'retrun_std/UI', 'CAGR/return_std', 'CAGR/UI']\n",
    "  grp_CAGR_d_UI_mean = df_perf['CAGR/UI'].mean()\n",
    "  grp_CAGR_d_UI_std  = df_perf['CAGR/UI'].std()\n",
    "  grp_CAGR_d_UI_mean_div_std = grp_CAGR_d_UI_mean / grp_CAGR_d_UI_std \n",
    "\n",
    "  grp_CAGR_d_retnStd_mean = df_perf['CAGR/return_std'].mean()\n",
    "  grp_CAGR_d_retnStd_std = df_perf['CAGR/return_std'].std()\n",
    "  grp_CAGR_d_retnStd_mean_div_std = grp_CAGR_d_retnStd_mean / grp_CAGR_d_retnStd_std\n",
    "\n",
    "  grp_retnStd_d_UI_mean = df_perf['return_std/UI'].mean()\n",
    "  grp_retnStd_d_UI_std = df_perf['return_std/UI'].std()\n",
    "  grp_retnStd_d_UI_mean_div_std = grp_retnStd_d_UI_mean / grp_retnStd_d_UI_std\n",
    "\n",
    "  return df_perf, grp_retnStd_d_UI_mean_div_std, grp_CAGR_d_retnStd_mean_div_std, grp_CAGR_d_UI_mean_div_std\n"
   ]
  },
  {
   "cell_type": "code",
   "execution_count": 16,
   "metadata": {},
   "outputs": [
    {
     "name": "stdout",
     "output_type": "stream",
     "text": [
      "retnStd/UI   grp_mean/grp_std:   2.015680\n",
      "CAGR/retnStd grp_mean/grp_std:  -0.317811\n",
      "CAGR/UI      grp_mean/grp_std:   0.051083\n"
     ]
    },
    {
     "data": {
      "text/html": [
       "<div>\n",
       "<style scoped>\n",
       "    .dataframe tbody tr th:only-of-type {\n",
       "        vertical-align: middle;\n",
       "    }\n",
       "\n",
       "    .dataframe tbody tr th {\n",
       "        vertical-align: top;\n",
       "    }\n",
       "\n",
       "    .dataframe thead th {\n",
       "        text-align: right;\n",
       "    }\n",
       "</style>\n",
       "<table border=\"1\" class=\"dataframe\">\n",
       "  <thead>\n",
       "    <tr style=\"text-align: right;\">\n",
       "      <th></th>\n",
       "      <th>symbol</th>\n",
       "      <th>first date</th>\n",
       "      <th>last date</th>\n",
       "      <th>Year</th>\n",
       "      <th>CAGR</th>\n",
       "      <th>UI</th>\n",
       "      <th>return_std/UI</th>\n",
       "      <th>CAGR/return_std</th>\n",
       "      <th>CAGR/UI</th>\n",
       "    </tr>\n",
       "  </thead>\n",
       "  <tbody>\n",
       "    <tr>\n",
       "      <th>0</th>\n",
       "      <td>A</td>\n",
       "      <td>2021-12-21</td>\n",
       "      <td>2022-12-20</td>\n",
       "      <td>1.0</td>\n",
       "      <td>-0.033013</td>\n",
       "      <td>0.182462</td>\n",
       "      <td>0.121939</td>\n",
       "      <td>-1.483763</td>\n",
       "      <td>-0.180929</td>\n",
       "    </tr>\n",
       "    <tr>\n",
       "      <th>1</th>\n",
       "      <td>AA</td>\n",
       "      <td>2021-12-21</td>\n",
       "      <td>2022-12-20</td>\n",
       "      <td>1.0</td>\n",
       "      <td>-0.217883</td>\n",
       "      <td>0.402711</td>\n",
       "      <td>0.103447</td>\n",
       "      <td>-5.230113</td>\n",
       "      <td>-0.541040</td>\n",
       "    </tr>\n",
       "    <tr>\n",
       "      <th>2</th>\n",
       "      <td>AAL</td>\n",
       "      <td>2021-12-21</td>\n",
       "      <td>2022-12-20</td>\n",
       "      <td>1.0</td>\n",
       "      <td>-0.308499</td>\n",
       "      <td>0.252598</td>\n",
       "      <td>0.139765</td>\n",
       "      <td>-8.738256</td>\n",
       "      <td>-1.221305</td>\n",
       "    </tr>\n",
       "    <tr>\n",
       "      <th>3</th>\n",
       "      <td>AAON</td>\n",
       "      <td>2021-12-21</td>\n",
       "      <td>2022-12-20</td>\n",
       "      <td>1.0</td>\n",
       "      <td>-0.025720</td>\n",
       "      <td>0.266579</td>\n",
       "      <td>0.092280</td>\n",
       "      <td>-1.045539</td>\n",
       "      <td>-0.096483</td>\n",
       "    </tr>\n",
       "    <tr>\n",
       "      <th>4</th>\n",
       "      <td>AAP</td>\n",
       "      <td>2021-12-21</td>\n",
       "      <td>2022-12-20</td>\n",
       "      <td>1.0</td>\n",
       "      <td>-0.371006</td>\n",
       "      <td>0.216982</td>\n",
       "      <td>0.108161</td>\n",
       "      <td>-15.808331</td>\n",
       "      <td>-1.709850</td>\n",
       "    </tr>\n",
       "  </tbody>\n",
       "</table>\n",
       "</div>"
      ],
      "text/plain": [
       "  symbol  first date   last date  Year      CAGR        UI  return_std/UI  \\\n",
       "0      A  2021-12-21  2022-12-20   1.0 -0.033013  0.182462       0.121939   \n",
       "1     AA  2021-12-21  2022-12-20   1.0 -0.217883  0.402711       0.103447   \n",
       "2    AAL  2021-12-21  2022-12-20   1.0 -0.308499  0.252598       0.139765   \n",
       "3   AAON  2021-12-21  2022-12-20   1.0 -0.025720  0.266579       0.092280   \n",
       "4    AAP  2021-12-21  2022-12-20   1.0 -0.371006  0.216982       0.108161   \n",
       "\n",
       "   CAGR/return_std   CAGR/UI  \n",
       "0        -1.483763 -0.180929  \n",
       "1        -5.230113 -0.541040  \n",
       "2        -8.738256 -1.221305  \n",
       "3        -1.045539 -0.096483  \n",
       "4       -15.808331 -1.709850  "
      ]
     },
     "execution_count": 16,
     "metadata": {},
     "output_type": "execute_result"
    }
   ],
   "source": [
    "df_perf, grp_retnStd_d_UI_mean_div_std, grp_CAGR_d_retnStd_mean_div_std, grp_CAGR_d_UI_mean_div_std = perf_eval(df_c)\n",
    "print(f'retnStd/UI   grp_mean/grp_std: {grp_retnStd_d_UI_mean_div_std:>10.6f}')\n",
    "print(f'CAGR/retnStd grp_mean/grp_std: {grp_CAGR_d_retnStd_mean_div_std:>10.6f}')\n",
    "print(f'CAGR/UI      grp_mean/grp_std: {grp_CAGR_d_UI_mean_div_std:>10.6f}')\n",
    "df_perf.head()"
   ]
  },
  {
   "cell_type": "code",
   "execution_count": 14,
   "metadata": {},
   "outputs": [],
   "source": [
    "my_symbols = ['AE', 'ABMD', 'RMBS', 'WNC']\n",
    "my_cols = ['return_std/UI',\t'CAGR/return_std', 'CAGR/UI']"
   ]
  },
  {
   "cell_type": "code",
   "execution_count": 19,
   "metadata": {},
   "outputs": [
    {
     "name": "stdout",
     "output_type": "stream",
     "text": [
      "3.87 ms ± 425 µs per loop (mean ± std. dev. of 20 runs, 50 loops each)\n"
     ]
    }
   ],
   "source": [
    "%%timeit -n 50 -r 20\n",
    "df_temp = df_c[my_symbols]\n",
    "df_perf1, grp_StdUI_mean_div_std, grp_CAGRStd_mean_div_std, grp_CAGRUI_mean_div_std = perf_eval(df_temp)\n",
    "# print(f'grp_Std/UI   mean/std: {grp_StdUI_mean_div_std:.6f}')\n",
    "# print(f'grp_CAGR/Std mean/std: {grp_CAGRStd_mean_div_std:.6f}')\n",
    "# print(f'grp_CAGR/UI  mean/std: {grp_CAGRUI_mean_div_std:.6f}')\n",
    "# df_perf1"
   ]
  },
  {
   "cell_type": "code",
   "execution_count": 20,
   "metadata": {},
   "outputs": [
    {
     "name": "stdout",
     "output_type": "stream",
     "text": [
      "2.3 ms ± 67.9 µs per loop (mean ± std. dev. of 20 runs, 50 loops each)\n"
     ]
    }
   ],
   "source": [
    "%%timeit -n 50 -r 20\n",
    "# select rows in my_symbols and columns in my_cols from df_perf\n",
    "_df = df_perf.loc[df_perf['symbol'].isin(my_symbols)][my_cols]\n",
    "grp_mean_div_grp_std = _df.mean() / _df.std()\n",
    "# print(f'{my_cols[0]}   grp_mean/grp_std: {grp_mean_div_grp_std[0]:.6f}')\n",
    "# print(f'{my_cols[1]} grp_mean/grp_std: {grp_mean_div_grp_std[1]:.6f}')\n",
    "# print(f'{my_cols[2]}         grp_mean/grp_std: {grp_mean_div_grp_std[2]:.6f}')\n",
    "# _df"
   ]
  },
  {
   "cell_type": "code",
   "execution_count": null,
   "metadata": {},
   "outputs": [],
   "source": []
  },
  {
   "cell_type": "code",
   "execution_count": null,
   "metadata": {},
   "outputs": [],
   "source": []
  },
  {
   "cell_type": "code",
   "execution_count": null,
   "metadata": {},
   "outputs": [],
   "source": [
    "df_SPY = df_c[['SPY']].copy()\n",
    "df_SPY\n",
    "df_perf, grp_StdUI_mean_std, grp_CAGRStd_mean_std, grp_CAGRUI_mean_std = perf_eval(df_SPY)\n",
    "print(f'grp_StdUI_mean_std: {grp_StdUI_mean_std:.6f}')\n",
    "print(f'grp_CAGRStd_mean_std: {grp_CAGRStd_mean_std:.6f}')\n",
    "print(f'grp_CAGRUI_mean_std: {grp_CAGRUI_mean_std:.6f}')\n",
    "df_perf.head()"
   ]
  },
  {
   "cell_type": "code",
   "execution_count": null,
   "metadata": {},
   "outputs": [],
   "source": []
  },
  {
   "cell_type": "code",
   "execution_count": null,
   "metadata": {},
   "outputs": [],
   "source": [
    "print(f'symbols:\\n{symbols}')\n",
    "print(f'period_yr:\\n{period_yr}')\n",
    "print(f'drawdown:\\n{drawdown}')\n",
    "print(f'UI:\\n{UI}')\n",
    "print(f'max_drawdown:\\n{max_drawdown}')\n",
    "print(f'returns_std:\\n{returns_std}')\n",
    "print(f'Std_UI:\\n{Std_UI}')\n",
    "print(f'CAGR:\\n{CAGR}')\n",
    "print(f'CAGR_Std:\\n{CAGR_Std}')\n",
    "print(f'CAGR_UI:\\n{CAGR_UI}')"
   ]
  },
  {
   "cell_type": "code",
   "execution_count": null,
   "metadata": {},
   "outputs": [],
   "source": []
  }
 ],
 "metadata": {
  "kernelspec": {
   "display_name": "Python 3.7.9 ('.venv': poetry)",
   "language": "python",
   "name": "python3"
  },
  "language_info": {
   "codemirror_mode": {
    "name": "ipython",
    "version": 3
   },
   "file_extension": ".py",
   "mimetype": "text/x-python",
   "name": "python",
   "nbconvert_exporter": "python",
   "pygments_lexer": "ipython3",
   "version": "3.7.9"
  },
  "orig_nbformat": 2,
  "vscode": {
   "interpreter": {
    "hash": "d848e2535a99fe7c7346179acd9000b04da131f0f89ee41d962201c665cb28e1"
   }
  }
 },
 "nbformat": 4,
 "nbformat_minor": 2
}
