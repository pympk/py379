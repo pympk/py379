{
 "cells": [
  {
   "cell_type": "code",
   "execution_count": 35,
   "metadata": {
    "tags": []
   },
   "outputs": [],
   "source": [
    "import pandas as pd\n",
    "import numpy as np\n",
    "# from myUtils import pickle_load, symb_perf_stats_vectorized, symb_perf_stats_vectorized_v1\n",
    "from myUtils import pickle_load, symb_perf_stats_vectorized_v2\n",
    "\n",
    "file_close = 'df_close_clean'\n",
    "path_dir = \"C:/Users/ping/MyDrive/stocks/yfinance\"\n",
    "path_data_dump = path_dir + \"/VSCode_dump/\"\n",
    "\n",
    "df_c = pickle_load(path_data_dump, file_close)\n",
    "df_c = df_c[-252::]\n",
    "format1 = 'df_c({}):\\n{}\\n{}'.format(len(df_c), df_c.head(3), df_c.tail(3))\n",
    "# print(format1)"
   ]
  },
  {
   "cell_type": "code",
   "execution_count": 36,
   "metadata": {},
   "outputs": [],
   "source": [
    "# %%timeit -n 20 -r 17\n",
    "symbols, period_yr, drawdown, UI, max_drawdown, returns_std, Std_UI, CAGR, CAGR_Std, CAGR_UI = \\\n",
    "    symb_perf_stats_vectorized_v2(df_c)"
   ]
  },
  {
   "cell_type": "code",
   "execution_count": 37,
   "metadata": {},
   "outputs": [],
   "source": [
    "def perf_eval(df_close):\n",
    "  '''\n",
    "  df_close is a dataframe with date index, columns of symbols' closing price, and symbol as column name \n",
    "  '''\n",
    "\n",
    "  symbols, period_yr, drawdown, UI, max_drawdown, returns_std, Std_UI, CAGR, CAGR_Std, CAGR_UI = \\\n",
    "      symb_perf_stats_vectorized_v2(df_close)\n",
    "\n",
    "  caches_perf_stats_vect = []\n",
    "  for symbol in symbols:\n",
    "      # date_first = drawdown.index[0].strftime('%Y-%m-%d')\n",
    "      # date_last = drawdown.index[-1].strftime('%Y-%m-%d')\n",
    "      date_first = df_close.index[0].strftime('%Y-%m-%d')\n",
    "      date_last = df_close.index[-1].strftime('%Y-%m-%d')\n",
    "\n",
    "      cache = (symbol, date_first, date_last, period_yr, CAGR[symbol],\n",
    "              UI[symbol], Std_UI[symbol], CAGR_Std[symbol], CAGR_UI[symbol])\n",
    "      # append performance data (tuple) to caches_perf_stats (list)\n",
    "      caches_perf_stats_vect.append(cache)\n",
    "  column_names = ['symbol', 'first date', 'last date', 'Year', 'CAGR',\n",
    "                  'UI', 'Std/UI', 'CAGR/Std', 'CAGR/UI']\n",
    "  # write symbols' performance stats to dataframe\n",
    "  df_perf = pd.DataFrame(caches_perf_stats_vect, columns=column_names)\n",
    "\n",
    "  _cols = ['CAGR', 'UI', 'Std/UI', 'CAGR/Std', 'CAGR/UI']\n",
    "  grp_CAGRUI_mean = df_perf['CAGR/UI'].mean()\n",
    "  grp_CAGRUI_std = df_perf['CAGR/UI'].std()\n",
    "  grp_CAGRUI_mean_div_std = grp_CAGRUI_mean / grp_CAGRUI_std\n",
    "\n",
    "  grp_CAGRStd_mean = df_perf['CAGR/Std'].mean()\n",
    "  grp_CAGRStd_std = df_perf['CAGR/Std'].std()\n",
    "  grp_CAGRStd_mean_div_std = grp_CAGRStd_mean / grp_CAGRStd_std\n",
    "\n",
    "  grp_StdUI_mean = df_perf['Std/UI'].mean()\n",
    "  grp_StdUI_std = df_perf['Std/UI'].std()\n",
    "  grp_StdUI_mean_div_std = grp_StdUI_mean / grp_StdUI_std\n",
    "\n",
    "  return df_perf, grp_StdUI_mean_div_std, grp_CAGRStd_mean_div_std, grp_CAGRUI_mean_div_std"
   ]
  },
  {
   "cell_type": "code",
   "execution_count": 48,
   "metadata": {},
   "outputs": [
    {
     "name": "stdout",
     "output_type": "stream",
     "text": [
      "grp_StdUI_mean_div_std :2.020599\n",
      "grp_CAGRStd_mean_div_std :-0.257502\n",
      "grp_CAGRUI_mean_div_std :0.083811\n"
     ]
    },
    {
     "data": {
      "text/html": [
       "<div>\n",
       "<style scoped>\n",
       "    .dataframe tbody tr th:only-of-type {\n",
       "        vertical-align: middle;\n",
       "    }\n",
       "\n",
       "    .dataframe tbody tr th {\n",
       "        vertical-align: top;\n",
       "    }\n",
       "\n",
       "    .dataframe thead th {\n",
       "        text-align: right;\n",
       "    }\n",
       "</style>\n",
       "<table border=\"1\" class=\"dataframe\">\n",
       "  <thead>\n",
       "    <tr style=\"text-align: right;\">\n",
       "      <th></th>\n",
       "      <th>symbol</th>\n",
       "      <th>first date</th>\n",
       "      <th>last date</th>\n",
       "      <th>Year</th>\n",
       "      <th>CAGR</th>\n",
       "      <th>UI</th>\n",
       "      <th>Std/UI</th>\n",
       "      <th>CAGR/Std</th>\n",
       "      <th>CAGR/UI</th>\n",
       "    </tr>\n",
       "  </thead>\n",
       "  <tbody>\n",
       "    <tr>\n",
       "      <th>0</th>\n",
       "      <td>A</td>\n",
       "      <td>2021-12-20</td>\n",
       "      <td>2022-12-19</td>\n",
       "      <td>1.0</td>\n",
       "      <td>-0.016812</td>\n",
       "      <td>0.182402</td>\n",
       "      <td>0.122228</td>\n",
       "      <td>-0.754093</td>\n",
       "      <td>-0.092171</td>\n",
       "    </tr>\n",
       "    <tr>\n",
       "      <th>1</th>\n",
       "      <td>AA</td>\n",
       "      <td>2021-12-20</td>\n",
       "      <td>2022-12-19</td>\n",
       "      <td>1.0</td>\n",
       "      <td>-0.197264</td>\n",
       "      <td>0.401307</td>\n",
       "      <td>0.104174</td>\n",
       "      <td>-4.718584</td>\n",
       "      <td>-0.491553</td>\n",
       "    </tr>\n",
       "    <tr>\n",
       "      <th>2</th>\n",
       "      <td>AAL</td>\n",
       "      <td>2021-12-20</td>\n",
       "      <td>2022-12-19</td>\n",
       "      <td>1.0</td>\n",
       "      <td>-0.278613</td>\n",
       "      <td>0.251459</td>\n",
       "      <td>0.140915</td>\n",
       "      <td>-7.862803</td>\n",
       "      <td>-1.107984</td>\n",
       "    </tr>\n",
       "    <tr>\n",
       "      <th>3</th>\n",
       "      <td>AAON</td>\n",
       "      <td>2021-12-20</td>\n",
       "      <td>2022-12-19</td>\n",
       "      <td>1.0</td>\n",
       "      <td>-0.006359</td>\n",
       "      <td>0.266550</td>\n",
       "      <td>0.092308</td>\n",
       "      <td>-0.258456</td>\n",
       "      <td>-0.023858</td>\n",
       "    </tr>\n",
       "    <tr>\n",
       "      <th>4</th>\n",
       "      <td>AAP</td>\n",
       "      <td>2021-12-20</td>\n",
       "      <td>2022-12-19</td>\n",
       "      <td>1.0</td>\n",
       "      <td>-0.360861</td>\n",
       "      <td>0.215495</td>\n",
       "      <td>0.108891</td>\n",
       "      <td>-15.378359</td>\n",
       "      <td>-1.674567</td>\n",
       "    </tr>\n",
       "  </tbody>\n",
       "</table>\n",
       "</div>"
      ],
      "text/plain": [
       "  symbol  first date   last date  Year      CAGR        UI    Std/UI  \\\n",
       "0      A  2021-12-20  2022-12-19   1.0 -0.016812  0.182402  0.122228   \n",
       "1     AA  2021-12-20  2022-12-19   1.0 -0.197264  0.401307  0.104174   \n",
       "2    AAL  2021-12-20  2022-12-19   1.0 -0.278613  0.251459  0.140915   \n",
       "3   AAON  2021-12-20  2022-12-19   1.0 -0.006359  0.266550  0.092308   \n",
       "4    AAP  2021-12-20  2022-12-19   1.0 -0.360861  0.215495  0.108891   \n",
       "\n",
       "    CAGR/Std   CAGR/UI  \n",
       "0  -0.754093 -0.092171  \n",
       "1  -4.718584 -0.491553  \n",
       "2  -7.862803 -1.107984  \n",
       "3  -0.258456 -0.023858  \n",
       "4 -15.378359 -1.674567  "
      ]
     },
     "execution_count": 48,
     "metadata": {},
     "output_type": "execute_result"
    }
   ],
   "source": [
    "df_perf, grp_StdUI_mean_div_std, grp_CAGRStd_mean_div_std, grp_CAGRUI_mean_div_std = perf_eval(df_c)\n",
    "print(f'grp_StdUI_mean_div_std :{grp_StdUI_mean_div_std:.6f}')\n",
    "print(f'grp_CAGRStd_mean_div_std :{grp_CAGRStd_mean_div_std:.6f}')\n",
    "print(f'grp_CAGRUI_mean_div_std :{grp_CAGRUI_mean_div_std:.6f}')\n",
    "df_perf.head()"
   ]
  },
  {
   "cell_type": "code",
   "execution_count": 59,
   "metadata": {},
   "outputs": [],
   "source": [
    "my_symbols = ['AE', 'ABMD', 'RMBS', 'WNC']\n",
    "my_cols = ['Std/UI',\t'CAGR/Std', 'CAGR/UI']"
   ]
  },
  {
   "cell_type": "code",
   "execution_count": null,
   "metadata": {},
   "outputs": [],
   "source": [
    "# # %%timeit -n 50 -r 20\n",
    "# df_temp = df_c[_cols2]\n",
    "# df_perf1, grp_StdUI_mean_div_std, grp_CAGRStd_mean_div_std, grp_CAGRUI_mean_div_std = perf_eval(df_temp)\n",
    "# print(f'grp_Std/UI   mean/std: {grp_StdUI_mean_div_std:.6f}')\n",
    "# print(f'grp_CAGR/Std mean/std: {grp_CAGRStd_mean_div_std:.6f}')\n",
    "# print(f'grp_CAGR/UI  mean/std: {grp_CAGRUI_mean_div_std:.6f}')\n",
    "# df_perf1"
   ]
  },
  {
   "cell_type": "code",
   "execution_count": 69,
   "metadata": {},
   "outputs": [
    {
     "name": "stdout",
     "output_type": "stream",
     "text": [
      "Std/UI   grp_mean/grp_std: 4.378149\n",
      "CAGR/Std grp_mean/grp_std: 1.976478\n",
      "CAGR/UI  grp_mean/grp_std: 1.553355\n"
     ]
    },
    {
     "data": {
      "text/html": [
       "<div>\n",
       "<style scoped>\n",
       "    .dataframe tbody tr th:only-of-type {\n",
       "        vertical-align: middle;\n",
       "    }\n",
       "\n",
       "    .dataframe tbody tr th {\n",
       "        vertical-align: top;\n",
       "    }\n",
       "\n",
       "    .dataframe thead th {\n",
       "        text-align: right;\n",
       "    }\n",
       "</style>\n",
       "<table border=\"1\" class=\"dataframe\">\n",
       "  <thead>\n",
       "    <tr style=\"text-align: right;\">\n",
       "      <th></th>\n",
       "      <th>Std/UI</th>\n",
       "      <th>CAGR/Std</th>\n",
       "      <th>CAGR/UI</th>\n",
       "    </tr>\n",
       "  </thead>\n",
       "  <tbody>\n",
       "    <tr>\n",
       "      <th>15</th>\n",
       "      <td>0.187439</td>\n",
       "      <td>4.862124</td>\n",
       "      <td>0.911351</td>\n",
       "    </tr>\n",
       "    <tr>\n",
       "      <th>39</th>\n",
       "      <td>0.184817</td>\n",
       "      <td>19.329833</td>\n",
       "      <td>3.572474</td>\n",
       "    </tr>\n",
       "    <tr>\n",
       "      <th>1761</th>\n",
       "      <td>0.127606</td>\n",
       "      <td>12.751041</td>\n",
       "      <td>1.627112</td>\n",
       "    </tr>\n",
       "    <tr>\n",
       "      <th>2243</th>\n",
       "      <td>0.121964</td>\n",
       "      <td>10.415199</td>\n",
       "      <td>1.270274</td>\n",
       "    </tr>\n",
       "  </tbody>\n",
       "</table>\n",
       "</div>"
      ],
      "text/plain": [
       "        Std/UI   CAGR/Std   CAGR/UI\n",
       "15    0.187439   4.862124  0.911351\n",
       "39    0.184817  19.329833  3.572474\n",
       "1761  0.127606  12.751041  1.627112\n",
       "2243  0.121964  10.415199  1.270274"
      ]
     },
     "execution_count": 69,
     "metadata": {},
     "output_type": "execute_result"
    }
   ],
   "source": [
    "# %%timeit -n 50 -r 20\n",
    "# select rows in my_symbols and columns in my_cols from df_perf\n",
    "_df = df_perf.loc[df_perf['symbol'].isin(my_symbols)][my_cols]\n",
    "grp_mean_div_grp_std = _df.mean() / _df.std()\n",
    "print(f'{my_cols[0]}   grp_mean/grp_std: {grp_mean_div_grp_std[0]:.6f}')\n",
    "print(f'{my_cols[1]} grp_mean/grp_std: {grp_mean_div_grp_std[1]:.6f}')\n",
    "print(f'{my_cols[2]}  grp_mean/grp_std: {grp_mean_div_grp_std[2]:.6f}')\n",
    "_df"
   ]
  },
  {
   "cell_type": "code",
   "execution_count": null,
   "metadata": {},
   "outputs": [],
   "source": []
  },
  {
   "cell_type": "code",
   "execution_count": null,
   "metadata": {},
   "outputs": [],
   "source": []
  },
  {
   "cell_type": "code",
   "execution_count": null,
   "metadata": {},
   "outputs": [],
   "source": [
    "df_SPY = df_c[['SPY']].copy()\n",
    "df_SPY\n",
    "df_perf, grp_StdUI_mean_std, grp_CAGRStd_mean_std, grp_CAGRUI_mean_std = perf_eval(df_SPY)\n",
    "print(f'grp_StdUI_mean_std: {grp_StdUI_mean_std:.6f}')\n",
    "print(f'grp_CAGRStd_mean_std: {grp_CAGRStd_mean_std:.6f}')\n",
    "print(f'grp_CAGRUI_mean_std: {grp_CAGRUI_mean_std:.6f}')\n",
    "df_perf.head()"
   ]
  },
  {
   "cell_type": "code",
   "execution_count": null,
   "metadata": {},
   "outputs": [],
   "source": []
  },
  {
   "cell_type": "code",
   "execution_count": null,
   "metadata": {},
   "outputs": [],
   "source": [
    "print(f'symbols:\\n{symbols}')\n",
    "print(f'period_yr:\\n{period_yr}')\n",
    "print(f'drawdown:\\n{drawdown}')\n",
    "print(f'UI:\\n{UI}')\n",
    "print(f'max_drawdown:\\n{max_drawdown}')\n",
    "print(f'returns_std:\\n{returns_std}')\n",
    "print(f'Std_UI:\\n{Std_UI}')\n",
    "print(f'CAGR:\\n{CAGR}')\n",
    "print(f'CAGR_Std:\\n{CAGR_Std}')\n",
    "print(f'CAGR_UI:\\n{CAGR_UI}')"
   ]
  },
  {
   "cell_type": "code",
   "execution_count": null,
   "metadata": {},
   "outputs": [],
   "source": []
  }
 ],
 "metadata": {
  "kernelspec": {
   "display_name": "Python 3.7.9 ('.venv': poetry)",
   "language": "python",
   "name": "python3"
  },
  "language_info": {
   "codemirror_mode": {
    "name": "ipython",
    "version": 3
   },
   "file_extension": ".py",
   "mimetype": "text/x-python",
   "name": "python",
   "nbconvert_exporter": "python",
   "pygments_lexer": "ipython3",
   "version": "3.7.9"
  },
  "orig_nbformat": 2,
  "vscode": {
   "interpreter": {
    "hash": "d848e2535a99fe7c7346179acd9000b04da131f0f89ee41d962201c665cb28e1"
   }
  }
 },
 "nbformat": 4,
 "nbformat_minor": 2
}
