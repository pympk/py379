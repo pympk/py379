{
 "cells": [
  {
   "cell_type": "code",
   "execution_count": 106,
   "metadata": {},
   "outputs": [],
   "source": [
    "def symb_perf_stats_vectorized_v1(df_symbols_close):\n",
    "    \"\"\"Takes dataframe of symbols' close and returns symbols, period_yr,\n",
    "       drawdown, UI, max_drawdown, returns_std, Std_UI, CAGR, CAGR_Std, CAGR_UI\n",
    "       https://stackoverflow.com/questions/36750571/calculate-max-draw-down-with-a-vectorized-solution-in-python\n",
    "       http://www.tangotools.com/ui/ui.htm\n",
    "       Calculation CHECKED against: http://www.tangotools.com/ui/UlcerIndex.xls\n",
    "       Calculation VERIFIED in: symb_perf_stats_vectorized.ipynb\n",
    "\n",
    "    Args:\n",
    "        df_symbols_close(dataframe): dataframe with date as index,\n",
    "          symbol's close in columns, and symbols as column names.\n",
    "\n",
    "    Return:\n",
    "        symbols(pandas.core.indexes.base.Index): stock symbols\n",
    "        period_yr(float): years, (days in dataframe) / 252\n",
    "        drawdown(numpy array): drawdown from peak, 0.05 means 5% drawdown,\n",
    "            with date index and symbols as column names\n",
    "        UI(pandas.series float64): ulcer-index\n",
    "        max_drawdown(pandas series float64): maximum drawdown from peak\n",
    "        returns_std(pandas series float64): standard deviation of daily returns\n",
    "        Std_UI(pandas series float64): returns_std / UI\n",
    "        CAGR(pandas series float64): compounded annual growth rate\n",
    "        CAGR_Std(pandas series float64): CAGR / returns_std\n",
    "        CAGR_UI(pandas series float64): CAGR / UI\n",
    "    \"\"\"\n",
    "    # v1 convert drawdown from pandas series to numpy array\n",
    "\n",
    "    import numpy as np\n",
    "    import pandas as pd\n",
    "\n",
    "    symbols = df_symbols_close.columns\n",
    "    df_symbols_returns = df_symbols_close / df_symbols_close.shift(1) - 1\n",
    "    # standard deviation divisor is N - ddof\n",
    "    returns_std = df_symbols_returns.std(ddof=1)\n",
    "\n",
    "    # +++ SET RETURNS OF FIRST ROW = 0,\n",
    "    #  otherwise drawdown calculation starts with the second row\n",
    "    df_symbols_returns.iloc[0] = 0\n",
    "    cum_returns = (1 + df_symbols_returns).cumprod()\n",
    "    \n",
    "    drawdown = cum_returns.div(cum_returns.cummax()) - 1\n",
    "    # convert from pandas Series into a NumPy array\n",
    "    drawdown = np.array(drawdown)\n",
    "    max_drawdown = drawdown.min(axis=0)    \n",
    "    UI = np.sqrt(np.sum(np.square(drawdown), axis=0) / len(drawdown))    \n",
    "\n",
    "    # convert NumPy array to pandas dataframe\n",
    "    drawdown = pd.DataFrame(drawdown, index=df_symbols_close.index, columns=symbols)    \n",
    "    # convert NumPy array to pandas series    \n",
    "    max_drawdown = pd.Series(max_drawdown, index=symbols)        \n",
    "    UI = pd.Series(UI, index=symbols)\n",
    "\n",
    "    Std_UI = returns_std / UI\n",
    "    period_yr = len(df_symbols_close) / 252  # 252 trading days per year\n",
    "    CAGR = (df_symbols_close.iloc[-1] / df_symbols_close.iloc[0]) \\\n",
    "        ** (1 / period_yr) - 1\n",
    "    CAGR_Std = CAGR / returns_std\n",
    "    CAGR_UI = CAGR / UI\n",
    "\n",
    "    return symbols, period_yr, drawdown, UI, max_drawdown, \\\n",
    "        returns_std, Std_UI, CAGR, CAGR_Std, CAGR_UI"
   ]
  },
  {
   "cell_type": "code",
   "execution_count": 107,
   "metadata": {},
   "outputs": [],
   "source": [
    "def symb_perf_stats_vectorized_v2(df_symbols_close):\n",
    "    \"\"\"Takes dataframe of symbols' close and returns symbols, period_yr,\n",
    "       drawdown, UI, max_drawdown, returns_std, Std_UI, CAGR, CAGR_Std, CAGR_UI\n",
    "       https://stackoverflow.com/questions/36750571/calculate-max-draw-down-with-a-vectorized-solution-in-python\n",
    "       http://www.tangotools.com/ui/ui.htm\n",
    "       Calculation CHECKED against: http://www.tangotools.com/ui/UlcerIndex.xls\n",
    "       Calculation VERIFIED in: symb_perf_stats_vectorized.ipynb\n",
    "\n",
    "    Args:\n",
    "        df_symbols_close(dataframe): dataframe with date as index,\n",
    "          symbol's close in columns, and symbols as column names.\n",
    "\n",
    "    Return:\n",
    "        symbols(pandas.core.indexes.base.Index): stock symbols\n",
    "        period_yr(float): years, (days in dataframe) / 252\n",
    "        drawdown(pandas dataframe): drawdown from peak, 0.05 means 5% drawdown,\n",
    "            with date index and symbols as column names\n",
    "        UI(pandas.series float64): ulcer-index\n",
    "        max_drawdown(pandas series float64): maximum drawdown from peak\n",
    "        returns_std(pandas series float64): standard deviation of daily returns\n",
    "        Std_UI(pandas series float64): returns_std / UI\n",
    "        CAGR(pandas series float64): compounded annual growth rate\n",
    "        CAGR_Std(pandas series float64): CAGR / returns_std\n",
    "        CAGR_UI(pandas series float64): CAGR / UI\n",
    "    \"\"\"\n",
    "    # v1 convert drawdown from pandas series to numpy array\n",
    "\n",
    "    import numpy as np\n",
    "    import pandas as pd\n",
    "\n",
    "    # symbols = df_symbols_close.columns\n",
    "    # df_symbols_returns = df_symbols_close / df_symbols_close.shift(1) - 1\n",
    "    # # standard deviation divisor is N - ddof\n",
    "    # returns_std = df_symbols_returns.std(ddof=1)\n",
    "\n",
    "    # # +++ SET RETURNS OF FIRST ROW = 0,\n",
    "    # #  otherwise drawdown calculation starts with the second row\n",
    "    # df_symbols_returns.iloc[0] = 0\n",
    "    # cum_returns = (1 + df_symbols_returns).cumprod()\n",
    "    \n",
    "    # drawdown = cum_returns.div(cum_returns.cummax()) - 1\n",
    "    # # convert from pandas Series into a NumPy array\n",
    "    # drawdown = np.array(drawdown)\n",
    "    # max_drawdown = drawdown.min(axis=0)    \n",
    "    # UI = np.sqrt(np.sum(np.square(drawdown), axis=0) / len(drawdown))    \n",
    "\n",
    "    # # convert NumPy array to pandas dataframe\n",
    "    # drawdown = pd.DataFrame(drawdown, index=df_symbols_close.index, columns=symbols)    \n",
    "    # # convert NumPy array to pandas series    \n",
    "    # max_drawdown = pd.Series(max_drawdown, index=symbols)        \n",
    "    # UI = pd.Series(UI, index=symbols)\n",
    "\n",
    "    # Std_UI = returns_std / UI\n",
    "    # period_yr = len(df_symbols_close) / 252  # 252 trading days per year\n",
    "    # CAGR = (df_symbols_close.iloc[-1] / df_symbols_close.iloc[0]) \\\n",
    "    #     ** (1 / period_yr) - 1\n",
    "    # CAGR_Std = CAGR / returns_std\n",
    "    # CAGR_UI = CAGR / UI\n",
    "\n",
    "\n",
    "    # df_symbols_close = df_c.copy()\n",
    "\n",
    "\n",
    "    dates = df_symbols_close.index\n",
    "    symbols = df_symbols_close.columns\n",
    "\n",
    "    arr = df_symbols_close.to_numpy()\n",
    "    arr_returns = arr / np.roll(arr, 1, axis=0) - 1\n",
    "    arr_returns_std = np.std(arr_returns[1:, :], axis=0, ddof=1) \n",
    "    arr_returns[0] = 0 \n",
    "    arr_cum_returns = (1 + arr_returns).cumprod(axis=0)\n",
    "    arr_drawdown = arr_cum_returns / np.maximum.accumulate(arr_cum_returns, axis=0) -1\n",
    "    arr_max_drawdown = arr_drawdown.min(axis=0)    \n",
    "    arr_UI = np.sqrt(np.sum(np.square(arr_drawdown), axis=0) / len(arr_drawdown))    \n",
    "    arr_Std_UI = arr_returns_std / arr_UI\n",
    "    Std_UI = pd.Series(arr_Std_UI, index=symbols)\n",
    "    period_yr = len(df_symbols_close) / 252  # 252 trading days per year\n",
    "    arr_CAGR = (arr[-1] / arr[0]) ** (1 / period_yr) - 1\n",
    "    arr_CAGR_Std = arr_CAGR / arr_returns_std\n",
    "    arr_CAGR_UI = arr_CAGR / arr_UI\n",
    "\n",
    "    # add date index and symbols as column names\n",
    "    drawdown = pd.DataFrame(arr_drawdown, index=dates, columns=symbols)\n",
    "    UI = pd.Series(arr_UI, index=symbols)\n",
    "    max_drawdown = pd.Series(arr_max_drawdown, index=symbols)\n",
    "    returns_std = pd.Series(arr_returns_std, index=symbols)\n",
    "    CAGR = pd.Series(arr_CAGR, index=symbols)\n",
    "    CAGR_Std = pd.Series(arr_CAGR_Std, index=symbols)\n",
    "    CAGR_UI = pd.Series(arr_CAGR_UI, index=symbols)\n",
    "\n",
    "    return symbols, period_yr, drawdown, UI, max_drawdown, \\\n",
    "        returns_std, Std_UI, CAGR, CAGR_Std, CAGR_UI"
   ]
  },
  {
   "cell_type": "code",
   "execution_count": 108,
   "metadata": {
    "tags": []
   },
   "outputs": [],
   "source": [
    "import pandas as pd\n",
    "import numpy as np\n",
    "# from myUtils import pickle_load, symb_perf_stats_vectorized, symb_perf_stats_vectorized_v1\n",
    "from myUtils import pickle_load, symb_perf_stats_vectorized\n",
    "\n",
    "file_close = 'df_close_clean'\n",
    "path_dir = \"C:/Users/ping/MyDrive/stocks/yfinance\"\n",
    "path_data_dump = path_dir + \"/VSCode_dump/\"\n",
    "\n",
    "df_c = pickle_load(path_data_dump, file_close)\n",
    "df_c = df_c[-252::]\n",
    "format1 = 'df_c({}):\\n{}\\n{}'.format(len(df_c), df_c.head(3), df_c.tail(3))\n",
    "# print(format1)"
   ]
  },
  {
   "cell_type": "code",
   "execution_count": null,
   "metadata": {},
   "outputs": [],
   "source": [
    "df_symbols_close = df_c.copy()\n",
    "dates = df_symbols_close.index\n",
    "symbols = df_symbols_close.columns"
   ]
  },
  {
   "cell_type": "code",
   "execution_count": null,
   "metadata": {},
   "outputs": [],
   "source": [
    "df_c"
   ]
  },
  {
   "cell_type": "code",
   "execution_count": null,
   "metadata": {},
   "outputs": [],
   "source": [
    "%%timeit -n 20 -r 17\n",
    "arr = df_symbols_close.to_numpy()\n",
    "arr_returns = arr / np.roll(arr, 1, axis=0) - 1\n",
    "arr_returns_std = np.std(arr_returns[1:, :], axis=0, ddof=1) \n",
    "arr_returns[0] = 0 \n",
    "arr_cum_returns = (1 + arr_returns).cumprod(axis=0)\n",
    "arr_drawdown = arr_cum_returns / np.maximum.accumulate(arr_cum_returns, axis=0) -1\n",
    "arr_max_drawdown = arr_drawdown.min(axis=0)    \n",
    "arr_max_drawdown\n",
    "arr_UI = np.sqrt(np.sum(np.square(arr_drawdown), axis=0) / len(arr_drawdown))    \n",
    "arr_Std_UI = arr_returns_std / arr_UI\n",
    "arr_Std_UI\n",
    "arr_Std_UI = pd.Series(arr_Std_UI, index=symbols)\n",
    "arr_period_yr = len(df_symbols_close) / 252  # 252 trading days per year\n",
    "arr_CAGR = (arr[-1] / arr[0]) ** (1 / arr_period_yr) - 1\n",
    "arr_CAGR_Std = arr_CAGR / arr_returns_std\n",
    "arr_CAGR_UI = arr_CAGR / arr_UI\n",
    "\n",
    "# add date index and symbols as column names\n",
    "arr_drawdown = pd.DataFrame(arr_drawdown, index=dates, columns=symbols)\n",
    "arr_UI = pd.Series(arr_UI, index=symbols)\n",
    "arr_max_drawdown = pd.Series(arr_max_drawdown, index=symbols)\n",
    "arr_returns_std = pd.Series(arr_returns_std, index=symbols)\n",
    "arr_CAGR = pd.Series(arr_CAGR, index=symbols)\n",
    "arr_CAGR_Std = pd.Series(arr_CAGR_Std, index=symbols)\n",
    "arr_CAGR_UI = pd.Series(arr_CAGR_UI, index=symbols)"
   ]
  },
  {
   "cell_type": "code",
   "execution_count": null,
   "metadata": {},
   "outputs": [],
   "source": [
    "print(f'symbols:\\n{symbols}')\n",
    "print(f'arr_period_yr:\\n{arr_period_yr}')\n",
    "print(f'arr_drawdown:\\n{arr_drawdown}')\n",
    "print(f'arr_UI:\\n{arr_UI}')\n",
    "print(f'arr_max_drawdown:\\n{arr_max_drawdown}')\n",
    "print(f'arr_returns_std:\\n{arr_returns_std}')\n",
    "print(f'arr_Std_UI:\\n{arr_Std_UI}')\n",
    "print(f'arr_CAGR:\\n{arr_CAGR}')\n",
    "print(f'arr_CAGR_Std:\\n{arr_CAGR_Std}')\n",
    "print(f'arr_CAGR_UI:\\n{arr_CAGR_UI}')"
   ]
  },
  {
   "cell_type": "code",
   "execution_count": null,
   "metadata": {},
   "outputs": [],
   "source": [
    "%%timeit -n 20 -r 17\n",
    "df_symbols_returns = df_symbols_close / df_symbols_close.shift(1) - 1\n",
    "returns_std = df_symbols_returns.std(ddof=1)\n",
    "# returns_std\n",
    "df_symbols_returns.iloc[0] = 0\n",
    "# df_symbols_returns\n",
    "cum_returns = (1 + df_symbols_returns).cumprod()\n",
    "# cum_returns.cummax()\n",
    "drawdown = cum_returns.div(cum_returns.cummax()) - 1\n",
    "drawdown = np.array(drawdown)\n",
    "max_drawdown = drawdown.min(axis=0)    \n",
    "UI = np.sqrt(np.sum(np.square(drawdown), axis=0) / len(drawdown))\n",
    "Std_UI = returns_std / UI\n",
    "period_yr = len(df_symbols_close) / 252  # 252 trading days per year\n",
    "CAGR = (df_symbols_close.iloc[-1] / df_symbols_close.iloc[0]) \\\n",
    "    ** (1 / period_yr) - 1\n",
    "CAGR_Std = CAGR / returns_std\n",
    "CAGR_UI = CAGR / UI"
   ]
  },
  {
   "cell_type": "code",
   "execution_count": null,
   "metadata": {},
   "outputs": [],
   "source": [
    "print(f'symbols:\\n{symbols}')\n",
    "print(f'period_yr:\\n{period_yr}')\n",
    "print(f'drawdown:\\n{drawdown}')\n",
    "print(f'UI:\\n{UI}')\n",
    "print(f'max_drawdown:\\n{max_drawdown}')\n",
    "print(f'returns_std:\\n{returns_std}')\n",
    "print(f'Std_UI:\\n{Std_UI}')\n",
    "print(f'CAGR:\\n{CAGR}')\n",
    "print(f'CAGR_Std:\\n{CAGR_Std}')\n",
    "print(f'CAGR_UI:\\n{CAGR_UI}')"
   ]
  },
  {
   "cell_type": "code",
   "execution_count": null,
   "metadata": {},
   "outputs": [],
   "source": []
  },
  {
   "cell_type": "code",
   "execution_count": 113,
   "metadata": {},
   "outputs": [
    {
     "name": "stdout",
     "output_type": "stream",
     "text": [
      "91.2 ms ± 16.2 ms per loop (mean ± std. dev. of 17 runs, 20 loops each)\n"
     ]
    }
   ],
   "source": [
    "%%timeit -n 20 -r 17\n",
    "symbols, period_yr, drawdown, UI, max_drawdown, returns_std, Std_UI, CAGR, CAGR_Std, CAGR_UI = \\\n",
    "    symb_perf_stats_vectorized(df_c)"
   ]
  },
  {
   "cell_type": "code",
   "execution_count": 114,
   "metadata": {},
   "outputs": [
    {
     "name": "stdout",
     "output_type": "stream",
     "text": [
      "73.9 ms ± 4.88 ms per loop (mean ± std. dev. of 17 runs, 20 loops each)\n"
     ]
    }
   ],
   "source": [
    "%%timeit -n 20 -r 17\n",
    "symbols, period_yr, drawdown, UI, max_drawdown, returns_std, Std_UI, CAGR, CAGR_Std, CAGR_UI = \\\n",
    "    symb_perf_stats_vectorized_v1(df_c)"
   ]
  },
  {
   "cell_type": "code",
   "execution_count": 115,
   "metadata": {},
   "outputs": [
    {
     "name": "stdout",
     "output_type": "stream",
     "text": [
      "26.6 ms ± 1.82 ms per loop (mean ± std. dev. of 17 runs, 20 loops each)\n"
     ]
    }
   ],
   "source": [
    "%%timeit -n 20 -r 17\n",
    "symbols, period_yr, drawdown, UI, max_drawdown, returns_std, Std_UI, CAGR, CAGR_Std, CAGR_UI = \\\n",
    "    symb_perf_stats_vectorized_v2(df_c)"
   ]
  },
  {
   "cell_type": "code",
   "execution_count": null,
   "metadata": {},
   "outputs": [],
   "source": [
    "print(f'symbols:\\n{symbols}')\n",
    "print(f'period_yr:\\n{period_yr}')\n",
    "print(f'drawdown:\\n{drawdown}')\n",
    "print(f'UI:\\n{UI}')\n",
    "print(f'max_drawdown:\\n{max_drawdown}')\n",
    "print(f'returns_std:\\n{returns_std}')\n",
    "print(f'Std_UI:\\n{Std_UI}')\n",
    "print(f'CAGR:\\n{CAGR}')\n",
    "print(f'CAGR_Std:\\n{CAGR_Std}')\n",
    "print(f'CAGR_UI:\\n{CAGR_UI}')"
   ]
  },
  {
   "cell_type": "code",
   "execution_count": null,
   "metadata": {},
   "outputs": [],
   "source": []
  },
  {
   "cell_type": "code",
   "execution_count": null,
   "metadata": {
    "tags": []
   },
   "outputs": [],
   "source": [
    "def perf_eval_0(df_close):\n",
    "  '''\n",
    "  df_close is a dataframe with date index, columns of symbols' closing price, and symbol as column name \n",
    "  '''\n",
    "  # %%timeit\n",
    "  symbols, period_yr, drawdown, UI, max_drawdown, returns_std, Std_UI, CAGR, CAGR_Std, CAGR_UI = \\\n",
    "      symb_perf_stats_vectorized(df_close)\n",
    "  caches_perf_stats_vect = []\n",
    "  for symbol in symbols:\n",
    "      date_first = drawdown.index[0].strftime('%Y-%m-%d')\n",
    "      date_last = drawdown.index[-1].strftime('%Y-%m-%d')\n",
    "      cache = (symbol, date_first, date_last, period_yr, CAGR[symbol],\n",
    "              UI[symbol], Std_UI[symbol], CAGR_Std[symbol], CAGR_UI[symbol])\n",
    "      # append performance data (tuple) to caches_perf_stats (list)\n",
    "      caches_perf_stats_vect.append(cache)\n",
    "  column_names = ['symbol', 'first date', 'last date', 'Year', 'CAGR',\n",
    "                  'UI', 'Std/UI', 'CAGR/Std', 'CAGR/UI']\n",
    "  # write symbols' performance stats to dataframe\n",
    "  df_perf = pd.DataFrame(caches_perf_stats_vect, columns=column_names)\n",
    "\n",
    "  _cols = ['CAGR', 'UI', 'Std/UI', 'CAGR/Std', 'CAGR/UI']\n",
    "  # print(f'df_perf mean:\\n{df_perf[_cols].mean()}\\n')\n",
    "  # print(f'df_perf std:\\n{df_perf[_cols].std()}')\n",
    "  grp_CAGRUI_mean = df_perf['CAGR/UI'].mean()\n",
    "  grp_CAGRUI_std = df_perf['CAGR/UI'].std()\n",
    "  grp_CAGRUI_mean_std = grp_CAGRUI_mean / grp_CAGRUI_std\n",
    "  grp_CAGRUI_mean_std\n",
    "\n",
    "  grp_CAGRStd_mean = df_perf['CAGR/Std'].mean()\n",
    "  grp_CAGRStd_std = df_perf['CAGR/Std'].std()\n",
    "  grp_CAGRStd_mean_std = grp_CAGRStd_mean / grp_CAGRStd_std\n",
    "  grp_CAGRStd_mean_std\n",
    "\n",
    "  grp_StdUI_mean = df_perf['Std/UI'].mean()\n",
    "  grp_StdUI_std = df_perf['Std/UI'].std()\n",
    "  grp_StdUI_mean_std = grp_StdUI_mean / grp_StdUI_std\n",
    "  grp_StdUI_mean_std\n",
    "\n",
    "  return df_perf, grp_StdUI_mean_std, grp_CAGRStd_mean_std, grp_CAGRUI_mean_std"
   ]
  },
  {
   "cell_type": "code",
   "execution_count": null,
   "metadata": {},
   "outputs": [],
   "source": [
    "df_perf, grp_StdUI_mean_std, grp_CAGRStd_mean_std, grp_CAGRUI_mean_std = perf_eval_0(df_c)\n",
    "print(f'grp_StdUI_mean_std :{grp_StdUI_mean_std:.6f}')\n",
    "print(f'grp_CAGRStd_mean_std :{grp_CAGRStd_mean_std:.6f}')\n",
    "print(f'grp_CAGRUI_mean_std :{grp_CAGRUI_mean_std:.6f}')\n",
    "df_perf.head()"
   ]
  },
  {
   "cell_type": "code",
   "execution_count": null,
   "metadata": {},
   "outputs": [],
   "source": [
    "def perf_eval_1(df_close):\n",
    "  '''\n",
    "  df_close is a dataframe with date index, columns of symbols' closing price, and symbol as column name \n",
    "  '''\n",
    "  # %%timeit\n",
    "  symbols, period_yr, drawdown, UI, max_drawdown, returns_std, Std_UI, CAGR, CAGR_Std, CAGR_UI = \\\n",
    "      symb_perf_stats_vectorized_v1(df_close)\n",
    "  caches_perf_stats_vect = []\n",
    "  for symbol in symbols:\n",
    "      # date_first = drawdown.index[0].strftime('%Y-%m-%d')\n",
    "      # date_last = drawdown.index[-1].strftime('%Y-%m-%d')\n",
    "      date_first = df_close.index[0].strftime('%Y-%m-%d')\n",
    "      date_last = df_close.index[-1].strftime('%Y-%m-%d')\n",
    "\n",
    "      cache = (symbol, date_first, date_last, period_yr, CAGR[symbol],\n",
    "              UI[symbol], Std_UI[symbol], CAGR_Std[symbol], CAGR_UI[symbol])\n",
    "      # append performance data (tuple) to caches_perf_stats (list)\n",
    "      caches_perf_stats_vect.append(cache)\n",
    "  column_names = ['symbol', 'first date', 'last date', 'Year', 'CAGR',\n",
    "                  'UI', 'Std/UI', 'CAGR/Std', 'CAGR/UI']\n",
    "  # write symbols' performance stats to dataframe\n",
    "  df_perf = pd.DataFrame(caches_perf_stats_vect, columns=column_names)\n",
    "\n",
    "  _cols = ['CAGR', 'UI', 'Std/UI', 'CAGR/Std', 'CAGR/UI']\n",
    "  # print(f'df_perf mean:\\n{df_perf[_cols].mean()}\\n')\n",
    "  # print(f'df_perf std:\\n{df_perf[_cols].std()}')\n",
    "  grp_CAGRUI_mean = df_perf['CAGR/UI'].mean()\n",
    "  grp_CAGRUI_std = df_perf['CAGR/UI'].std()\n",
    "  grp_CAGRUI_mean_std = grp_CAGRUI_mean / grp_CAGRUI_std\n",
    "  grp_CAGRUI_mean_std\n",
    "\n",
    "  grp_CAGRStd_mean = df_perf['CAGR/Std'].mean()\n",
    "  grp_CAGRStd_std = df_perf['CAGR/Std'].std()\n",
    "  grp_CAGRStd_mean_std = grp_CAGRStd_mean / grp_CAGRStd_std\n",
    "  grp_CAGRStd_mean_std\n",
    "\n",
    "  grp_StdUI_mean = df_perf['Std/UI'].mean()\n",
    "  grp_StdUI_std = df_perf['Std/UI'].std()\n",
    "  grp_StdUI_mean_std = grp_StdUI_mean / grp_StdUI_std\n",
    "  grp_StdUI_mean_std\n",
    "\n",
    "  return df_perf, grp_StdUI_mean_std, grp_CAGRStd_mean_std, grp_CAGRUI_mean_std"
   ]
  },
  {
   "cell_type": "code",
   "execution_count": null,
   "metadata": {},
   "outputs": [],
   "source": [
    "df_perf, grp_StdUI_mean_std, grp_CAGRStd_mean_std, grp_CAGRUI_mean_std = perf_eval_1(df_c)\n",
    "print(f'grp_StdUI_mean_std :{grp_StdUI_mean_std:.6f}')\n",
    "print(f'grp_CAGRStd_mean_std :{grp_CAGRStd_mean_std:.6f}')\n",
    "print(f'grp_CAGRUI_mean_std :{grp_CAGRUI_mean_std:.6f}')\n",
    "df_perf.head()"
   ]
  },
  {
   "cell_type": "code",
   "execution_count": null,
   "metadata": {},
   "outputs": [],
   "source": [
    "_cols2 = ['AE', 'ABMD', 'RMBS', 'WNC']"
   ]
  },
  {
   "cell_type": "code",
   "execution_count": null,
   "metadata": {},
   "outputs": [],
   "source": [
    "%%timeit -n 30 -r 20\n",
    "df_temp = df_c[_cols2].copy()\n",
    "df_perf, grp_StdUI_mean_std, grp_CAGRStd_mean_std, grp_CAGRUI_mean_std = perf_eval_1(df_temp)"
   ]
  },
  {
   "cell_type": "code",
   "execution_count": null,
   "metadata": {},
   "outputs": [],
   "source": [
    "print(f'grp_StdUI_mean_std:   {grp_StdUI_mean_std:.6f}')\n",
    "print(f'grp_CAGRStd_mean_std: {grp_CAGRStd_mean_std:.6f}')\n",
    "print(f'grp_CAGRUI_mean_std:  {grp_CAGRUI_mean_std:.6f}')\n",
    "df_perf.head()"
   ]
  },
  {
   "cell_type": "code",
   "execution_count": null,
   "metadata": {},
   "outputs": [],
   "source": [
    "%%timeit -n 30 -r 20\n",
    "_df = df_perf.loc[df_perf['symbol'].isin(_cols2)]\n",
    "_means = _df[['Std/UI',\t'CAGR/Std', 'CAGR/UI']].mean()\n",
    "_stds = _df[['Std/UI',\t'CAGR/Std', 'CAGR/UI']].std()\n",
    "_mean_std = _means / _stds"
   ]
  },
  {
   "cell_type": "code",
   "execution_count": null,
   "metadata": {},
   "outputs": [],
   "source": [
    "# print(_mean_std, _mean_std[0], _mean_std[1], _mean_std[2])\n",
    "print(f'grp_StdUI_mean_std:   {_mean_std[0]:.6f}')\n",
    "print(f'grp_CAGRStd_mean_std: {_mean_std[1]:.6f}')\n",
    "print(f'grp_CAGRUI_mean_std:  {_mean_std[2]:.6f}')"
   ]
  },
  {
   "cell_type": "code",
   "execution_count": null,
   "metadata": {},
   "outputs": [],
   "source": []
  },
  {
   "cell_type": "code",
   "execution_count": null,
   "metadata": {},
   "outputs": [],
   "source": [
    "df_SPY = df_c[['SPY']].copy()\n",
    "df_SPY\n",
    "df_perf, grp_StdUI_mean_std, grp_CAGRStd_mean_std, grp_CAGRUI_mean_std = perf_eval(df_SPY)\n",
    "print(f'grp_StdUI_mean_std: {grp_StdUI_mean_std:.6f}')\n",
    "print(f'grp_CAGRStd_mean_std: {grp_CAGRStd_mean_std:.6f}')\n",
    "print(f'grp_CAGRUI_mean_std: {grp_CAGRUI_mean_std:.6f}')\n",
    "df_perf.head()"
   ]
  }
 ],
 "metadata": {
  "kernelspec": {
   "display_name": "Python 3.7.9 ('.venv': poetry)",
   "language": "python",
   "name": "python3"
  },
  "language_info": {
   "codemirror_mode": {
    "name": "ipython",
    "version": 3
   },
   "file_extension": ".py",
   "mimetype": "text/x-python",
   "name": "python",
   "nbconvert_exporter": "python",
   "pygments_lexer": "ipython3",
   "version": "3.7.9"
  },
  "orig_nbformat": 2,
  "vscode": {
   "interpreter": {
    "hash": "d848e2535a99fe7c7346179acd9000b04da131f0f89ee41d962201c665cb28e1"
   }
  }
 },
 "nbformat": 4,
 "nbformat_minor": 2
}
