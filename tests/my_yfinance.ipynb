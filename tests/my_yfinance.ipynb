{
  "cells": [
    {
      "cell_type": "code",
      "execution_count": null,
      "metadata": {},
      "outputs": [],
      "source": [
        "import sys\n",
        "import pandas as pd\n",
        "import numpy as np\n",
        "import yfinance as yf\n",
        "from platform import python_version\n",
        "sys.path.insert(0, 'C:/Users/ping/MyDrive/py_files/python/py379/')\n",
        "from myUtils import download_AdjOHLCV, pickle_dump, pickle_load\n",
        "verbose=False"
      ]
    },
    {
      "cell_type": "code",
      "execution_count": null,
      "metadata": {},
      "outputs": [],
      "source": [
        "my_path = 'C:/Users/ping/MyDrive/stocks/MktCap2b_AUMtop1200/'\n",
        "path_data_dump = my_path + \"VSCode_dump/\"\n",
        "path_symbols_file = my_path + \"source/\"\n",
        "filename_pickle = 'df_OHLCV'  # pickled filename\n",
        "\n",
        "# file_symbols = path_symbols_file + \"2021_Top1200_MktCap_n_AUM.txt\"\n",
        "file_symbols = path_symbols_file + \"test_symbols_no_XOM.txt\""
      ]
    },
    {
      "cell_type": "code",
      "execution_count": null,
      "metadata": {},
      "outputs": [],
      "source": [
        "index_symbol = \"XOM\"  # use Exxon's date index to re-index other symbols\n",
        "df_XOM = yf.download(index_symbol)\n",
        "# download OHLCV data for symbols in file_symbols \n",
        "df_OHLCV, symbols = download_AdjOHLCV(file_symbols, verbose=verbose)\n",
        "print(f'len(df_OHLCV) before reindex to df_XOM.index: {len(df_OHLCV)}')\n",
        "print(f'symbols:  {symbols}')\n",
        "df_OHLCV"
      ]
    },
    {
      "cell_type": "code",
      "execution_count": null,
      "metadata": {},
      "outputs": [],
      "source": [
        "df_OHLCV = df_OHLCV.reindex(df_XOM.index, fill_value='NaN')\n",
        "print(f'len(df_OHLCV) after reindex to df_XOM.index: {len(df_OHLCV)}')\n",
        "df_OHLCV.tail(10)"
      ]
    },
    {
      "cell_type": "code",
      "execution_count": null,
      "metadata": {},
      "outputs": [],
      "source": [
        "print(f'Full path to pickled df_OHLCV:  {path_data_dump}{filename_pickle}')\n",
        "# pickle file df_OHLCV\n",
        "pickle_dump(df_OHLCV, path_data_dump, filename_pickle, verbose=verbose)\n",
        "pickle_dump(symbols, path_data_dump, 'symbols', verbose=verbose)\n",
        "# load pickled file\n",
        "symbols_pickled = pickle_load(path_data_dump, 'symbols', verbose=verbose)\n",
        "print(f'symbols_pickled: {symbols_pickled}')\n",
        "df_pickled = pickle_load(path_data_dump, filename_pickle, verbose=verbose)\n",
        "print(f\"df_pickled['BTC-USD'].tail(7):\")\n",
        "df_pickled['BTC-USD'].tail(7)"
      ]
    },
    {
      "cell_type": "code",
      "execution_count": null,
      "metadata": {},
      "outputs": [],
      "source": [
        "print(f\"df_pickled['AAPL'].tail(7):\")\n",
        "df_pickled['AAPL'].tail(7)"
      ]
    }
  ],
  "metadata": {
    "kernelspec": {
      "display_name": "Python 3.7.9 ('.venv': poetry)",
      "language": "python",
      "name": "python3"
    },
    "language_info": {
      "codemirror_mode": {
        "name": "ipython",
        "version": 3
      },
      "file_extension": ".py",
      "mimetype": "text/x-python",
      "name": "python",
      "nbconvert_exporter": "python",
      "pygments_lexer": "ipython3",
      "version": "3.7.9"
    },
    "orig_nbformat": 4,
    "vscode": {
      "interpreter": {
        "hash": "55a3812d65f91e7e7447da6b5cfc60716e82f91e6a92533fb27b46796ad1962a"
      }
    }
  },
  "nbformat": 4,
  "nbformat_minor": 2
}
