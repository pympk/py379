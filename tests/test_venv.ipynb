{
 "cells": [
  {
   "cell_type": "code",
   "execution_count": 1,
   "metadata": {},
   "outputs": [
    {
     "name": "stdout",
     "output_type": "stream",
     "text": [
      "python_path:  c:\\Users\\ping\\MyDrive\\py_files\\python\\py379\\.venv\\Scripts\\python.exe\n",
      "python_version:  3.7.9\n",
      "pandas_version:  1.3.5\n",
      "numpy_version:  1.21.6\n",
      "Successfully imported the modules! \n",
      "\n",
      "return from module utils, file: sum_numbers, function: sum_2: 3\n"
     ]
    }
   ],
   "source": [
    "'''An example file that imports some of the installed modules'''\n",
    "import sys\n",
    "import pandas as pd\n",
    "import numpy as np\n",
    "import matplotlib.pyplot as plt\n",
    "import flake8\n",
    "from platform import python_version\n",
    "\n",
    "print(\"python_path: \", sys.executable)\n",
    "print(\"python_version: \", python_version())\n",
    "print(\"pandas_version: \", pd.__version__)\n",
    "print(\"numpy_version: \", np.__version__)\n",
    "if __name__ == \"__main__\":\n",
    "    # If the modules can't be imported, the following print won't happen\n",
    "    print(\"Successfully imported the modules!\", \"\\n\")\n",
    "\n",
    "# # works in vscode and colab\n",
    "# import sys\n",
    "# # sys.path.insert(0, 'C:/Users/ping/MyDrive/py_files/python/utils')\n",
    "# sys.path.insert(0, '/content/drive/MyDrive/py_files/python/utils')\n",
    "# from utils import sum_numbers\n",
    "# print(sum_numbers.sum_2(1, 2))\n",
    "\n",
    "# works in vscode and colab, give path to utils.py\n",
    "import sys\n",
    "sys.path.insert(0, 'C:/Users/ping/MyDrive/py_files/python/utils/utils')\n",
    "# sys.path.append('/content/drive/MyDrive/py_files/python/utils/utils')\n",
    "import sum_numbers as sn\n",
    "print(sn.sum_2(1, 2))"
   ]
  }
 ],
 "metadata": {
  "kernelspec": {
   "display_name": "Python 3.7.9 ('.venv': poetry)",
   "language": "python",
   "name": "python3"
  },
  "language_info": {
   "codemirror_mode": {
    "name": "ipython",
    "version": 3
   },
   "file_extension": ".py",
   "mimetype": "text/x-python",
   "name": "python",
   "nbconvert_exporter": "python",
   "pygments_lexer": "ipython3",
   "version": "3.7.9"
  },
  "orig_nbformat": 4,
  "vscode": {
   "interpreter": {
    "hash": "55a3812d65f91e7e7447da6b5cfc60716e82f91e6a92533fb27b46796ad1962a"
   }
  }
 },
 "nbformat": 4,
 "nbformat_minor": 2
}
