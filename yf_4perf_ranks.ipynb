{
 "cells": [
  {
   "cell_type": "code",
   "execution_count": null,
   "metadata": {},
   "outputs": [],
   "source": [
    "# https://towardsdatascience.com/pandas-groupby-a-simple-but-detailed-tutorial-314b8f37005d\n",
    "# https://towardsdatascience.com/accessing-data-in-a-multiindex-dataframe-in-pandas-569e8767201d\n",
    "# https://towardsdatascience.com/summarizing-data-with-pandas-crosstab-efc8b9abecf\n",
    "# https://towardsdatascience.com/how-to-flatten-multiindex-columns-and-rows-in-pandas-f5406c50e569\n",
    "# https://datascientyst.com/list-aggregation-functions-aggfunc-groupby-pandas/\n",
    "# https://stackoverflow.com/questions/25929319/how-to-iterate-over-pandas-multiindex-dataframe-using-index\n",
    "# https://stackoverflow.com/questions/24495695/pandas-get-unique-multiindex-level-values-by-label\n",
    "# https://stackoverflow.com/questions/55706391/pandas-crosstab-on-multiple-columns-then-groupby\n",
    "\n",
    "# https://matplotlib.org/stable/gallery/pyplots/pyplot_text.html#sphx-glr-gallery-pyplots-pyplot-text-py"
   ]
  },
  {
   "cell_type": "code",
   "execution_count": null,
   "metadata": {},
   "outputs": [],
   "source": [
    "import pandas as pd\n",
    "import numpy as np\n",
    "from myUtils import pickle_load, pickle_dump, symb_perf_stats_vectorized\n",
    "\n",
    "path_dir = \"C:/Users/ping/MyDrive/stocks/yfinance/\"\n",
    "path_data_dump = path_dir + \"VSCode_dump/\"\n",
    "\n",
    "f_pickled_df_a = 'df_OHLCV_clean'  # df adjusted OHLCV, dropped symbols with no vol and close\n",
    "f_pickled_df_c = 'df_close_clean'  # df close, dropped symbols with no vol and close\n",
    "f_pickled_perf_ranks_dict = 'perf_ranks_dict'  # dic of performance ranks\n",
    "f_pickled_ranked_perf_ranks_dict = 'ranked_perf_ranks_dict'  # key: periods, value: ranked_perf_ranks\n",
    "\n",
    "verbose = False  # True prints more output\n",
    "look_back_days = -250 * 6  # subset df iloc days"
   ]
  },
  {
   "cell_type": "code",
   "execution_count": null,
   "metadata": {},
   "outputs": [],
   "source": [
    "print(f\"Full path to pickled df Close cleaned:  {path_data_dump}{f_pickled_df_c}\")\n",
    "df_c = pickle_load(path_data_dump, f_pickled_df_c, verbose=verbose)\n",
    "print(f\"Full path to pickled df OHLCV cleaned:  {path_data_dump}{f_pickled_df_a}\")\n",
    "df_a = pickle_load(path_data_dump, f_pickled_df_a, verbose=verbose)"
   ]
  },
  {
   "cell_type": "code",
   "execution_count": null,
   "metadata": {},
   "outputs": [],
   "source": [
    "perf_ranks_dict = {}  # dic of performance ranks\n",
    "syms_perf_rank = []  # list of lists to store top 100 ranked symbols\n",
    "\n",
    "# days_lookbacks = [-15, -30, -60, -120, -240]\n",
    "days_lookbacks = [-15, -30]\n",
    "\n",
    "for days_lookback in days_lookbacks:\n",
    "  f_name = 'period' + str(days_lookback)\n",
    "\n",
    "  _df_c = df_c[days_lookback::]\n",
    "  symbols, period_yr, drawdown, UI, max_drawdown, returns_std, Std_UI, CAGR, CAGR_Std, CAGR_UI = \\\n",
    "      symb_perf_stats_vectorized(_df_c)\n",
    "  caches_perf_stats_vect = []\n",
    "  for symbol in symbols:\n",
    "      date_first = drawdown.index[0].strftime('%Y-%m-%d')\n",
    "      date_last = drawdown.index[-1].strftime('%Y-%m-%d')\n",
    "      cache = (symbol, date_first, date_last, period_yr, CAGR[symbol],\n",
    "              UI[symbol], Std_UI[symbol], CAGR_Std[symbol], CAGR_UI[symbol])\n",
    "      # append performance data (tuple) to caches_perf_stats (list)\n",
    "      caches_perf_stats_vect.append(cache)\n",
    "  column_names = ['symbol', 'first date', 'last date', 'Year', 'CAGR',\n",
    "                  'UI', 'Std/UI', 'CAGR/Std', 'CAGR/UI']\n",
    "\n",
    "  # write symbols' performance stats to dataframe\n",
    "  df_ps = pd.DataFrame(caches_perf_stats_vect, columns=column_names)\n",
    "  df_ps['r_CAGR/UI'] = df_ps['CAGR/UI'].rank(ascending=False)\n",
    "  df_ps['r_CAGR/Std'] = df_ps['CAGR/Std'].rank(ascending=False)\n",
    "  df_ps['r_Std/UI'] = df_ps['Std/UI'].rank(ascending=False)\n",
    "  \n",
    "  _dict = {}\n",
    "  cols_sort = ['r_CAGR/UI', 'r_CAGR/Std', 'r_Std/UI']\n",
    "  # print(f'{f_name} top 100 symbols')  \n",
    "  for col in cols_sort:\n",
    "    symbols_top_100 = df_ps.sort_values(by=[col]).head(100).symbol.values\n",
    "    syms_perf_rank.append(list(symbols_top_100))\n",
    "    # print(f'{col}: {symbols_top_100}')\n",
    "    _dict[col] = symbols_top_100\n",
    "    perf_ranks_dict[f'{f_name}'] = _dict\n",
    "  # print(' ')\n",
    "\n",
    "pickle_dump(perf_ranks_dict, path_data_dump, f_pickled_perf_ranks_dict)\n",
    "print(f'perf_ranks_dict:\\n{perf_ranks_dict}\\n')"
   ]
  },
  {
   "cell_type": "code",
   "execution_count": 11,
   "metadata": {},
   "outputs": [
    {
     "name": "stdout",
     "output_type": "stream",
     "text": [
      "ranked_perf_ranks_dict:\n",
      "{'ranked_perf_ranks_period[-15, -30]': ['XOMA', 'NRIM', 'WLFC', 'PDFS', 'AVNS', 'NSIT', 'SEDG', 'THR', 'ALE', 'AMG', 'USFD', 'ASML', 'AXON', 'UHS', 'ZEUS', 'AAON', 'ACLS', 'APD', 'SMCI', 'BURL', 'AEO', 'AZTA', 'PKOH', 'GPS', 'AEHR', 'LSCC', 'AMBA', 'MATW', 'AMKR', 'ROST', 'CNHI', 'AU', 'LNW', 'TGLS', 'RCKY', 'ITGR', 'MRTX', 'QURE', 'PERI', 'SPWR', 'TSM', 'HTLD', 'SEE', 'ZD', 'VPG', 'RUN', 'AMWD', 'BERY', 'ENV', 'DIOD', 'ARMK', 'TBK', 'ATKR', 'IPG', 'AMRC', 'PRMW', 'STM', 'SCHN', 'BYM', 'TRC', 'CIR', 'NGG', 'TBNK', 'WNC', 'MOD', 'AIMC', 'MCRI', 'GBX', 'LOPE', 'OMAB', 'MAC', 'GS', 'HEES', 'DD', 'UFPT', 'FMX', 'MYE', 'HON', 'ENLC', 'GE', 'XYL', 'OSIS', 'CAT', 'ELF', 'AMX', 'ANF', 'COUP', 'FICO', 'MCI', 'SYNH', 'VRNS', 'MTN', 'APPS', 'EVI', 'NNI', 'RAMP', 'X', 'ASPS', 'NQP', 'TNET', 'MMS', 'MPA', 'LIN', 'PARA', 'MUC', 'BMRN', 'HSIC', 'KMB', 'CPK', 'WPP', 'PEN', 'FUL', 'RICK', 'SNPS', 'PG', 'CSL', 'FOXF', 'BZH', 'BKI', 'URBN', 'STC', 'CNXN', 'ODP', 'NAD', 'DBRG', 'CELH', 'PANW', 'CARA', 'PKX', 'FTSM', 'DE', 'APAM', 'FN', 'ITW', 'RY', 'AVEO', 'OII', 'ABMD', 'EXTR', 'GILD', 'RMBS', 'KLAC', 'DMRC', 'PI', 'CRAI', 'OSPN', 'ISRG', 'PIPR', 'VCYT', 'T', 'TEX', 'CNK', 'OPY', 'MGU', 'DAN', 'ASC', 'APO', 'PDS', 'GVA', 'TRN', 'AFL', 'UNFI', 'PMT', 'JCI', 'TSBK', 'CHGG', 'PFGC', 'EME', 'STRA', 'BDC', 'OEC', 'NVDA', 'AMAT', 'NOVT', 'UNVR', 'META', 'PLNT', 'EFX', 'MDRX', 'PRDO', 'FL', 'BBWI', 'IVZ', 'SAR', 'IMAX', 'ZTO', 'EXPD', 'CLF', 'VFC', 'NLY', 'UFPI', 'MYI', 'PNM', 'MLI', 'STLA', 'RZB', 'MUI', 'GDO', 'AGM', 'MGI', 'COST', 'FAST', 'TRI', 'SPXX', 'ESI', 'WDFC', 'MQY', 'AN', 'CAE', 'WLY', 'TRS', 'SHW', 'LAMR', 'JHS', 'ABBV', 'BR', 'VRSN', 'JPI', 'CPRT', 'RIO', 'NUO', 'TTEC', 'HD', 'NID', 'EOT', 'SXI', 'RELL', 'SRI', 'NEOG', 'LRCX', 'AMOT', 'FSLR', 'KWR', 'PKE', 'NPO', 'MTSI', 'E', 'GOGO', 'STRL', 'ORCL', 'TCPC', 'CDW', 'UVV', 'MEDP', 'SCHL', 'PLOW', 'CHY', 'AIG', 'WTW', 'QNST', 'JEF', 'MSA', 'ALX', 'ATCO', 'GNL', 'SLF', 'RENN', 'WMT', 'IOSP', 'INGR', 'EIG', 'KOP', 'MET', 'OSBC', 'PSMT', 'IBM', 'RCI', 'B', 'SKT', 'AER', 'ALV', 'SITC', 'PLXS', 'PBA', 'BGH', 'PPL', 'BLX', 'ETN', 'BGSF']}\n",
      "\n"
     ]
    }
   ],
   "source": [
    "syms_perf_rank  # list of lists of top 100 rank\n",
    "l_syms_perf_rank = [val for sublist in syms_perf_rank for val in sublist]  # flatten list of lists\n",
    "\n",
    "from collections import Counter\n",
    "cnt_symbol_freq = Counter(l_syms_perf_rank)  # count symbols and frequency\n",
    "# print(cnt_symbol_freq) \n",
    "l_tuples = cnt_symbol_freq.most_common()  # convert to e.g [('AKRO', 6), ('IMVT', 4), ... ('ADEA', 3)]\n",
    "symbols_ranked_perf_ranks = [symbol for symbol, count in l_tuples]  # select just the symbols without the frequency counts\n",
    "symbols_ranked_perf_ranks  # list of most common symbols in syms_perf_rank in descending order\n",
    "\n",
    "ranked_perf_ranks_dict ={}\n",
    "# f_name = f'ranked_perf_ranks_period' + str(_periods)  # key name, ranked_perf_ranks_dict\n",
    "f_name = f'ranked_perf_ranks_period' + str(days_lookbacks)  # key name, ranked_perf_ranks_dict\n",
    "ranked_perf_ranks_dict[f'{f_name}'] = symbols_ranked_perf_ranks # values: list of most common symbols in all performance ranks in descending order\n",
    "pickle_dump(ranked_perf_ranks_dict, path_data_dump, f_pickled_ranked_perf_ranks_dict)\n",
    "print(f'ranked_perf_ranks_dict:\\n{ranked_perf_ranks_dict}\\n')"
   ]
  }
 ],
 "metadata": {
  "kernelspec": {
   "display_name": "Python 3.7.9 ('.venv': poetry)",
   "language": "python",
   "name": "python3"
  },
  "language_info": {
   "codemirror_mode": {
    "name": "ipython",
    "version": 3
   },
   "file_extension": ".py",
   "mimetype": "text/x-python",
   "name": "python",
   "nbconvert_exporter": "python",
   "pygments_lexer": "ipython3",
   "version": "3.7.9"
  },
  "orig_nbformat": 4,
  "vscode": {
   "interpreter": {
    "hash": "55a3812d65f91e7e7447da6b5cfc60716e82f91e6a92533fb27b46796ad1962a"
   }
  }
 },
 "nbformat": 4,
 "nbformat_minor": 2
}
