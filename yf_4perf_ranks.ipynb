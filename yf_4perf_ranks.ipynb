{
 "cells": [
  {
   "cell_type": "code",
   "execution_count": 1,
   "metadata": {},
   "outputs": [],
   "source": [
    "# https://towardsdatascience.com/pandas-groupby-a-simple-but-detailed-tutorial-314b8f37005d\n",
    "# https://towardsdatascience.com/accessing-data-in-a-multiindex-dataframe-in-pandas-569e8767201d\n",
    "# https://towardsdatascience.com/summarizing-data-with-pandas-crosstab-efc8b9abecf\n",
    "# https://towardsdatascience.com/how-to-flatten-multiindex-columns-and-rows-in-pandas-f5406c50e569\n",
    "# https://datascientyst.com/list-aggregation-functions-aggfunc-groupby-pandas/\n",
    "# https://stackoverflow.com/questions/25929319/how-to-iterate-over-pandas-multiindex-dataframe-using-index\n",
    "# https://stackoverflow.com/questions/24495695/pandas-get-unique-multiindex-level-values-by-label\n",
    "# https://stackoverflow.com/questions/55706391/pandas-crosstab-on-multiple-columns-then-groupby\n",
    "\n",
    "# https://matplotlib.org/stable/gallery/pyplots/pyplot_text.html#sphx-glr-gallery-pyplots-pyplot-text-py"
   ]
  },
  {
   "cell_type": "code",
   "execution_count": 2,
   "metadata": {},
   "outputs": [],
   "source": [
    "import pandas as pd\n",
    "import numpy as np\n",
    "from myUtils import pickle_load, pickle_dump, symb_perf_stats_vectorized\n",
    "\n",
    "path_dir = \"C:/Users/ping/MyDrive/stocks/yfinance/\"\n",
    "path_data_dump = path_dir + \"VSCode_dump/\"\n",
    "\n",
    "f_pickled_df_a = 'df_OHLCV_clean'  # df adjusted OHLCV, dropped symbols with no vol and close\n",
    "f_pickled_df_c = 'df_close_clean'  # df close, dropped symbols with no vol and close\n",
    "f_pickled_perf_ranks_dict = 'perf_ranks_dict'  # dic of performance ranks\n",
    "f_pickled_ranked_perf_ranks_dict = 'ranked_perf_ranks_dict'  # key: periods, value: ranked_perf_ranks\n",
    "\n",
    "verbose = False  # True prints more output\n",
    "look_back_days = -250 * 6  # subset df iloc days"
   ]
  },
  {
   "cell_type": "code",
   "execution_count": 3,
   "metadata": {},
   "outputs": [
    {
     "name": "stdout",
     "output_type": "stream",
     "text": [
      "Full path to pickled df Close cleaned:  C:/Users/ping/MyDrive/stocks/yfinance/VSCode_dump/df_close_clean\n",
      "Full path to pickled df OHLCV cleaned:  C:/Users/ping/MyDrive/stocks/yfinance/VSCode_dump/df_OHLCV_clean\n"
     ]
    }
   ],
   "source": [
    "print(f\"Full path to pickled df Close cleaned:  {path_data_dump}{f_pickled_df_c}\")\n",
    "df_c = pickle_load(path_data_dump, f_pickled_df_c, verbose=verbose)\n",
    "print(f\"Full path to pickled df OHLCV cleaned:  {path_data_dump}{f_pickled_df_a}\")\n",
    "df_a = pickle_load(path_data_dump, f_pickled_df_a, verbose=verbose)"
   ]
  },
  {
   "cell_type": "code",
   "execution_count": 4,
   "metadata": {},
   "outputs": [
    {
     "name": "stdout",
     "output_type": "stream",
     "text": [
      "perf_ranks_dict:\n",
      "{'period-15': {'r_CAGR/UI': array(['CTRN', 'APPS', 'GDS', 'EVI', 'CLFD', 'BURL', 'ENR', 'AEO', 'AZTA',\n",
      "       'BBW', 'MRTX', 'QURE', 'ANF', 'PDFS', 'ZTO', 'HZNP', 'CELH',\n",
      "       'VRDN', 'COUP', 'GPS', 'ROST', 'HHC', 'SCHN', 'BMRN', 'WMC',\n",
      "       'FICO', 'RUN', 'PVH', 'BIDU', 'NXST', 'FL', 'AMBA', 'ETSY', 'BBWI',\n",
      "       'MATW', 'USFD', 'RDNT', 'X', 'SAGE', 'MASI', 'WLFC', 'LSCC', 'CIR',\n",
      "       'AEL', 'URBN', 'DIOD', 'BYM', 'GES', 'AMBC', 'ENV', 'SRPT', 'GENC',\n",
      "       'NKX', 'TITN', 'IPAR', 'BERY', 'TSM', 'ATKR', 'CPRI', 'MYE',\n",
      "       'COLM', 'NBH', 'IMAX', 'AMD', 'BABA', 'SPWR', 'ALE', 'BOOT',\n",
      "       'CPRT', 'RL', 'PARA', 'ATO', 'UHAL', 'GCO', 'MUI', 'LNW', 'RICK',\n",
      "       'HOV', 'DE', 'JD', 'MNP', 'EXTR', 'RIO', 'NVG', 'PI', 'STLA',\n",
      "       'HSBC', 'ARMK', 'ASML', 'SEE', 'HTLD', 'M', 'EVH', 'RYI', 'NUO',\n",
      "       'GIII', 'CQP', 'ERII', 'NQP', 'SKX'], dtype=object), 'r_CAGR/Std': array(['GDS', 'APPS', 'CTRN', 'EVI', 'CLFD', 'MRTX', 'AEO', 'BURL',\n",
      "       'AZTA', 'COUP', 'QURE', 'CELH', 'BBW', 'ANF', 'ETSY', 'ZTO', 'GPS',\n",
      "       'CIR', 'BIDU', 'AMBA', 'FICO', 'BABA', 'BBWI', 'JD', 'PDFS', 'PVH',\n",
      "       'FL', 'VRDN', 'RDNT', 'LSCC', 'MASI', 'IMAX', 'ROST', 'RUN', 'WMC',\n",
      "       'HZNP', 'SAGE', 'SCHN', 'HOV', 'SHOP', 'BMRN', 'X', 'URBN', 'AMD',\n",
      "       'ATKR', 'PARA', 'WLFC', 'CPRI', 'TSM', 'GES', 'AMKR', 'UHAL',\n",
      "       'DIOD', 'WIX', 'TTD', 'ENV', 'CHN', 'BOOT', 'GTN', 'WB', 'TITN',\n",
      "       'COLM', 'HHC', 'RL', 'TCOM', 'MATW', 'ZEUS', 'BBY', 'GENC', 'MKSI',\n",
      "       'AEL', 'USFD', 'BYM', 'PI', 'CARA', 'SIX', 'ENR', 'MRVL', 'RNG',\n",
      "       'VCEL', 'BERY', 'WYNN', 'SPWR', 'EVH', 'LNW', 'SRPT', 'EXTR',\n",
      "       'IPAR', 'UNVR', 'BHP', 'CMPR', 'NXST', 'ASML', 'AA', 'NVG', 'ERII',\n",
      "       'STC', 'AEHR', 'AMBC', 'M'], dtype=object), 'r_Std/UI': array(['ENR', 'DE', 'NXST', 'HZNP', 'PNM', 'MYE', 'HHC', 'USFD', 'MGI',\n",
      "       'NKX', 'RICK', 'PDFS', 'AMBC', 'BBW', 'CTAS', 'ATO', 'RZB', 'MATW',\n",
      "       'STLA', 'MUI', 'ALE', 'SRPT', 'NUO', 'ROST', 'BMRN', 'IPAR', 'SEE',\n",
      "       'PG', 'MNP', 'VRDN', 'AEL', 'FSD', 'NBH', 'SCHN', 'BYM', 'BERY',\n",
      "       'MYI', 'NAD', 'BURL', 'NID', 'NQP', 'SBUX', 'BKH', 'ISD', 'BFZ',\n",
      "       'ARMK', 'WMC', 'SKT', 'TAK', 'MMD', 'PM', 'TNET', 'SPXX', 'CPRT',\n",
      "       'IGI', 'HSBC', 'GCO', 'LAMR', 'CQP', 'RIO', 'JPI', 'GENC', 'SXT',\n",
      "       'RUN', 'RYI', 'TBNK', 'CTRN', 'GHY', 'NAC', 'NWN', 'NTB', 'LGI',\n",
      "       'ABG', 'UL', 'JHS', 'MCS', 'AN', 'GGZ', 'MMS', 'COST', 'EPC',\n",
      "       'NPV', 'EIX', 'CLFD', 'FN', 'IPG', 'NGG', 'AEO', 'X', 'WPP',\n",
      "       'WLFC', 'SPWR', 'HTLD', 'ENV', 'TJX', 'TITN', 'BGH', 'EOT', 'HPE',\n",
      "       'STEW'], dtype=object)}, 'period-30': {'r_CAGR/UI': array(['BBW', 'BURL', 'WNC', 'SMCI', 'ACLS', 'ABMD', 'HZNP', 'GILD',\n",
      "       'VCYT', 'AEO', 'LOPE', 'OII', 'MCRI', 'RCKY', 'NRIM', 'NEOG',\n",
      "       'RUN', 'WYNN', 'EXTR', 'PI', 'GBX', 'LSCC', 'AXON', 'AIMC', 'KLAC',\n",
      "       'AMKR', 'MYE', 'OPY', 'SPWR', 'PRG', 'CNK', 'CIR', 'UNVR', 'UFPT',\n",
      "       'PDFS', 'SEDG', 'ROST', 'AAON', 'WLFC', 'AU', 'RMBS', 'ITGR',\n",
      "       'GPS', 'ZEUS', 'MOD', 'APO', 'TEX', 'PFGC', 'ELF', 'SEIC', 'HEES',\n",
      "       'FSLR', 'AMG', 'UNFI', 'T', 'OSIS', 'CHGG', 'BUD', 'GS', 'MAC',\n",
      "       'TBNK', 'HOG', 'KRG', 'AVNS', 'APAM', 'B', 'APD', 'HPE', 'PMT',\n",
      "       'FN', 'CRAI', 'PVH', 'CTRN', 'FMX', 'CNHI', 'TRC', 'DD', 'ASML',\n",
      "       'GVA', 'GNL', 'HHC', 'FICO', 'NOMD', 'WPP', 'EQIX', 'CAT', 'STRA',\n",
      "       'AMAT', 'UHS', 'TAK', 'TITN', 'HON', 'AXSM', 'AZTA', 'USFD',\n",
      "       'MYOV', 'PRDO', 'QURE', 'AZN', 'TGLS'], dtype=object), 'r_CAGR/Std': array(['VCYT', 'BURL', 'SMCI', 'ACLS', 'BBW', 'WNC', 'AMKR', 'OII', 'CIR',\n",
      "       'WYNN', 'NEOG', 'AEO', 'EXTR', 'PI', 'PRG', 'LSCC', 'OPY', 'RCKY',\n",
      "       'AXON', 'KLAC', 'HZNP', 'RMBS', 'RUN', 'GBX', 'ZEUS', 'CNK',\n",
      "       'SPWR', 'APO', 'AXSM', 'FSLR', 'GPS', 'UNVR', 'SEDG', 'ROST', 'AU',\n",
      "       'XPO', 'CTRN', 'NRIM', 'AZTA', 'AMAT', 'ASML', 'FICO', 'MOD',\n",
      "       'AAON', 'PDFS', 'LRCX', 'TEX', 'AIMC', 'PFGC', 'MYE', 'AMBA',\n",
      "       'LOGI', 'HEES', 'UCTT', 'MAC', 'ITGR', 'MCRI', 'HASI', 'UFPT',\n",
      "       'ATKR', 'BUD', 'NVDA', 'CNHI', 'TRC', 'DD', 'HOG', 'UHS', 'QURE',\n",
      "       'NOMD', 'RCII', 'DMRC', 'KWR', 'GILD', 'DAN', 'FCX', 'PVH', 'TGLS',\n",
      "       'ALE', 'FN', 'USFD', 'AVNS', 'GS', 'ANF', 'AMG', 'WLFC', 'PMT',\n",
      "       'HPE', 'ELF', 'BZH', 'MRTX', 'BFH', 'B', 'NSIT', 'FOXF', 'SHOP',\n",
      "       'LOPE', 'OSIS', 'ATNI', 'CHGG', 'PRDO'], dtype=object), 'r_Std/UI': array(['MYOV', 'ABMD', 'GILD', 'LOPE', 'MCRI', 'TBNK', 'AIMC', 'NRIM',\n",
      "       'MYE', 'CRAI', 'WLFC', 'T', 'UFPT', 'HZNP', 'BBW', 'QNST', 'UNFI',\n",
      "       'UVV', 'NGG', 'SEIC', 'ELF', 'GNL', 'APAM', 'APD', 'OSIS', 'CHGG',\n",
      "       'TCPC', 'TAK', 'TITN', 'ITGR', 'KRG', 'PTY', 'AMG', 'CCEP', 'AIG',\n",
      "       'YUM', 'MGU', 'STRA', 'WPP', 'TSBK', 'WNC', 'MFIC', 'CDW', 'BGH',\n",
      "       'PSF', 'PDFS', 'FMX', 'GS', 'B', 'SKT', 'AAON', 'GVA', 'RUN',\n",
      "       'GDO', 'ITW', 'OGE', 'HON', 'DE', 'GBX', 'CAT', 'HPE', 'HHC',\n",
      "       'AER', 'AVNS', 'EIG', 'INCY', 'PMT', 'MEDP', 'MDLZ', 'ATCO', 'WTW',\n",
      "       'WMT', 'RCKY', 'SITC', 'AEO', 'ALX', 'FRT', 'MSA', 'BUD', 'JEF',\n",
      "       'PPL', 'RFP', 'FN', 'SPWR', 'BTO', 'IGI', 'TT', 'HOG', 'AFL',\n",
      "       'PLOW', 'RCI', 'UL', 'PBA', 'AZN', 'ACLS', 'PVH', 'EQIX', 'PBH',\n",
      "       'MS', 'ODC'], dtype=object)}}\n",
      "\n"
     ]
    }
   ],
   "source": [
    "perf_ranks_dict = {}  # dic of performance ranks\n",
    "syms_perf_rank = []  # list of lists to store top 100 ranked symbols\n",
    "\n",
    "# days_lookbacks = [-15, -30, -60, -120, -240]\n",
    "days_lookbacks = [-15, -30]\n",
    "\n",
    "for days_lookback in days_lookbacks:\n",
    "  f_name = 'period' + str(days_lookback)\n",
    "\n",
    "  _df_c = df_c[days_lookback::]\n",
    "  symbols, period_yr, drawdown, UI, max_drawdown, returns_std, Std_UI, CAGR, CAGR_Std, CAGR_UI = \\\n",
    "      symb_perf_stats_vectorized(_df_c)\n",
    "  caches_perf_stats_vect = []\n",
    "  for symbol in symbols:\n",
    "      date_first = drawdown.index[0].strftime('%Y-%m-%d')\n",
    "      date_last = drawdown.index[-1].strftime('%Y-%m-%d')\n",
    "      cache = (symbol, date_first, date_last, period_yr, CAGR[symbol],\n",
    "              UI[symbol], Std_UI[symbol], CAGR_Std[symbol], CAGR_UI[symbol])\n",
    "      # append performance data (tuple) to caches_perf_stats (list)\n",
    "      caches_perf_stats_vect.append(cache)\n",
    "  column_names = ['symbol', 'first date', 'last date', 'Year', 'CAGR',\n",
    "                  'UI', 'Std/UI', 'CAGR/Std', 'CAGR/UI']\n",
    "\n",
    "  # write symbols' performance stats to dataframe\n",
    "  df_ps = pd.DataFrame(caches_perf_stats_vect, columns=column_names)\n",
    "  df_ps['r_CAGR/UI'] = df_ps['CAGR/UI'].rank(ascending=False)\n",
    "  df_ps['r_CAGR/Std'] = df_ps['CAGR/Std'].rank(ascending=False)\n",
    "  df_ps['r_Std/UI'] = df_ps['Std/UI'].rank(ascending=False)\n",
    "  \n",
    "  _dict = {}\n",
    "  cols_sort = ['r_CAGR/UI', 'r_CAGR/Std', 'r_Std/UI']\n",
    "  # print(f'{f_name} top 100 symbols')  \n",
    "  for col in cols_sort:\n",
    "    symbols_top_100 = df_ps.sort_values(by=[col]).head(100).symbol.values\n",
    "    syms_perf_rank.append(list(symbols_top_100))\n",
    "    # print(f'{col}: {symbols_top_100}')\n",
    "    _dict[col] = symbols_top_100\n",
    "    perf_ranks_dict[f'{f_name}'] = _dict\n",
    "  # print(' ')\n",
    "\n",
    "pickle_dump(perf_ranks_dict, path_data_dump, f_pickled_perf_ranks_dict)\n",
    "print(f'perf_ranks_dict:\\n{perf_ranks_dict}\\n')"
   ]
  },
  {
   "cell_type": "code",
   "execution_count": 5,
   "metadata": {},
   "outputs": [
    {
     "name": "stdout",
     "output_type": "stream",
     "text": [
      "ranked_perf_ranks_dict:\n",
      "{'ranked_perf_ranks_period[-15, -30]': ['AEO', 'BBW', 'PDFS', 'HZNP', 'RUN', 'WLFC', 'SPWR', 'CTRN', 'BURL', 'ROST', 'HHC', 'PVH', 'USFD', 'TITN', 'MYE', 'AZTA', 'QURE', 'GPS', 'FICO', 'LSCC', 'CIR', 'EXTR', 'PI', 'ASML', 'FN', 'HPE', 'CLFD', 'ENR', 'MRTX', 'ANF', 'VRDN', 'SCHN', 'BMRN', 'WMC', 'NXST', 'AMBA', 'MATW', 'X', 'AEL', 'BYM', 'AMBC', 'ENV', 'SRPT', 'GENC', 'IPAR', 'BERY', 'ATKR', 'ALE', 'DE', 'AMKR', 'ZEUS', 'WYNN', 'UNVR', 'TAK', 'TBNK', 'WPP', 'WNC', 'ACLS', 'GILD', 'LOPE', 'MCRI', 'RCKY', 'NRIM', 'GBX', 'AIMC', 'UFPT', 'AAON', 'ITGR', 'ELF', 'AMG', 'OSIS', 'CHGG', 'BUD', 'GS', 'HOG', 'AVNS', 'B', 'PMT', 'APPS', 'GDS', 'EVI', 'ZTO', 'CELH', 'COUP', 'BIDU', 'FL', 'ETSY', 'BBWI', 'RDNT', 'SAGE', 'MASI', 'URBN', 'DIOD', 'GES', 'NKX', 'TSM', 'CPRI', 'COLM', 'NBH', 'IMAX', 'AMD', 'BABA', 'BOOT', 'CPRT', 'RL', 'PARA', 'ATO', 'UHAL', 'GCO', 'MUI', 'LNW', 'RICK', 'HOV', 'JD', 'MNP', 'RIO', 'NVG', 'STLA', 'HSBC', 'ARMK', 'SEE', 'HTLD', 'M', 'EVH', 'RYI', 'NUO', 'CQP', 'ERII', 'NQP', 'SHOP', 'SKT', 'IGI', 'UL', 'NGG', 'BGH', 'SMCI', 'ABMD', 'VCYT', 'OII', 'NEOG', 'AXON', 'KLAC', 'OPY', 'PRG', 'CNK', 'SEDG', 'AU', 'RMBS', 'MOD', 'APO', 'TEX', 'PFGC', 'SEIC', 'HEES', 'FSLR', 'UNFI', 'T', 'MAC', 'KRG', 'APAM', 'APD', 'CRAI', 'FMX', 'CNHI', 'TRC', 'DD', 'GVA', 'GNL', 'NOMD', 'EQIX', 'CAT', 'STRA', 'AMAT', 'UHS', 'HON', 'AXSM', 'MYOV', 'PRDO', 'AZN', 'TGLS', 'GIII', 'SKX', 'WIX', 'TTD', 'CHN', 'GTN', 'WB', 'TCOM', 'BBY', 'MKSI', 'CARA', 'SIX', 'MRVL', 'RNG', 'VCEL', 'BHP', 'CMPR', 'AA', 'STC', 'AEHR', 'PNM', 'MGI', 'CTAS', 'RZB', 'PG', 'FSD', 'MYI', 'NAD', 'NID', 'SBUX', 'BKH', 'ISD', 'BFZ', 'MMD', 'PM', 'TNET', 'SPXX', 'LAMR', 'JPI', 'SXT', 'GHY', 'NAC', 'NWN', 'NTB', 'LGI', 'ABG', 'JHS', 'MCS', 'AN', 'GGZ', 'MMS', 'COST', 'EPC', 'NPV', 'EIX', 'IPG', 'TJX', 'EOT', 'STEW', 'XPO', 'LRCX', 'LOGI', 'UCTT', 'HASI', 'NVDA', 'RCII', 'DMRC', 'KWR', 'DAN', 'FCX', 'BZH', 'BFH', 'NSIT', 'FOXF', 'ATNI', 'QNST', 'UVV', 'TCPC', 'PTY', 'CCEP', 'AIG', 'YUM', 'MGU', 'TSBK', 'MFIC', 'CDW', 'PSF', 'GDO', 'ITW', 'OGE', 'AER', 'EIG', 'INCY', 'MEDP', 'MDLZ', 'ATCO', 'WTW', 'WMT', 'SITC', 'ALX', 'FRT', 'MSA', 'JEF', 'PPL', 'RFP', 'BTO', 'TT', 'AFL', 'PLOW', 'RCI', 'PBA', 'PBH', 'MS', 'ODC']}\n",
      "\n"
     ]
    }
   ],
   "source": [
    "syms_perf_rank  # list of lists of top 100 rank\n",
    "l_syms_perf_rank = [val for sublist in syms_perf_rank for val in sublist]  # flatten list of lists\n",
    "\n",
    "from collections import Counter\n",
    "cnt_symbol_freq = Counter(l_syms_perf_rank)  # count symbols and frequency\n",
    "# print(cnt_symbol_freq) \n",
    "l_tuples = cnt_symbol_freq.most_common()  # convert to e.g [('AKRO', 6), ('IMVT', 4), ... ('ADEA', 3)]\n",
    "symbols_ranked_perf_ranks = [symbol for symbol, count in l_tuples]  # select just the symbols without the frequency counts\n",
    "symbols_ranked_perf_ranks  # list of most common symbols in syms_perf_rank in descending order\n",
    "\n",
    "ranked_perf_ranks_dict ={}\n",
    "# f_name = f'ranked_perf_ranks_period' + str(_periods)  # key name, ranked_perf_ranks_dict\n",
    "f_name = f'ranked_perf_ranks_period' + str(days_lookbacks)  # key name, ranked_perf_ranks_dict\n",
    "ranked_perf_ranks_dict[f'{f_name}'] = symbols_ranked_perf_ranks # values: list of most common symbols in all performance ranks in descending order\n",
    "pickle_dump(ranked_perf_ranks_dict, path_data_dump, f_pickled_ranked_perf_ranks_dict)\n",
    "print(f'ranked_perf_ranks_dict:\\n{ranked_perf_ranks_dict}\\n')"
   ]
  }
 ],
 "metadata": {
  "kernelspec": {
   "display_name": "Python 3.7.9 ('.venv': poetry)",
   "language": "python",
   "name": "python3"
  },
  "language_info": {
   "codemirror_mode": {
    "name": "ipython",
    "version": 3
   },
   "file_extension": ".py",
   "mimetype": "text/x-python",
   "name": "python",
   "nbconvert_exporter": "python",
   "pygments_lexer": "ipython3",
   "version": "3.7.9"
  },
  "orig_nbformat": 4,
  "vscode": {
   "interpreter": {
    "hash": "55a3812d65f91e7e7447da6b5cfc60716e82f91e6a92533fb27b46796ad1962a"
   }
  }
 },
 "nbformat": 4,
 "nbformat_minor": 2
}
