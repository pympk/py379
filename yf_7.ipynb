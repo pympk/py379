{
 "cells": [
  {
   "cell_type": "code",
   "execution_count": null,
   "metadata": {},
   "outputs": [],
   "source": [
    "import yfinance as yf\n",
    "import yfinance.shared as shared\n",
    "import time\n",
    "import pandas as pd\n",
    "# from datetime import date, timedelta, datetime\n",
    "from myUtils import pickle_dump, pickle_load, read_symbols_file # NOQA\n",
    "from myUtils import drop_symbols_all_NaN, chunked_list # NOQA\n",
    "from myUtils import yf_download_AdjOHLCV_noAutoAdj\n",
    "from myUtils import symb_perf_stats_vectorized\n",
    "from yf_utils import _4_perf_ranks\n",
    "verbose = False  # True prints more output\n",
    "\n",
    "path_dir = \"C:/Users/ping/MyDrive/stocks/yfinance/\"\n",
    "path_data_dump = path_dir + \"VSCode_dump/\"\n",
    "\n",
    "filename_symbols = path_data_dump + 'vg_symbols_4chars_max.csv'  # symbols text file\n",
    "filename_pickled_df_OHLCVA_downloaded = 'df_OHLCVA_downloaded '  # OHLCVA downloaded from Yahoo\n",
    "filename_pickled_df_adjOHLCV = 'df_adjOHLCV'  # adjusted OHLCV\n",
    "filename_pickled_df_symbols_close = \"df_symbols_close\"  # symbols' adjusted close\n",
    "filename_pickled_symbols_df_adjOHLCV =  'symbols_df_adjOHLCV'  # symbols in df_adjOHLCV\n",
    "filename_pickled_df_c = 'df_close_clean' "
   ]
  },
  {
   "cell_type": "code",
   "execution_count": null,
   "metadata": {},
   "outputs": [],
   "source": [
    "df_c = pickle_load(path_data_dump, filename_pickled_df_c)\n",
    "df_c"
   ]
  },
  {
   "cell_type": "code",
   "execution_count": null,
   "metadata": {},
   "outputs": [],
   "source": [
    "days_lookbacks = [-15, -30]"
   ]
  },
  {
   "cell_type": "code",
   "execution_count": null,
   "metadata": {},
   "outputs": [],
   "source": []
  },
  {
   "cell_type": "code",
   "execution_count": null,
   "metadata": {},
   "outputs": [],
   "source": [
    "%%timeit -n 10 -r 7\n",
    "(\n",
    "    symbols,\n",
    "    period_yr,\n",
    "    drawdown,\n",
    "    UI,\n",
    "    max_drawdown,\n",
    "    returns_std,\n",
    "    Std_UI,\n",
    "    CAGR,\n",
    "    CAGR_Std,\n",
    "    CAGR_UI,\n",
    ") = symb_perf_stats_vectorized(df_c)"
   ]
  },
  {
   "cell_type": "code",
   "execution_count": null,
   "metadata": {},
   "outputs": [],
   "source": [
    "# perf_ranks_dict, ranked_perf_ranks_dict = _4_perf_ranks(df_c, days_lookbacks, n_symbols=500, verbose=False)\n",
    "perf_ranks_dict, ranked_perf_ranks_dict = _4_perf_ranks(df_c, days_lookbacks, verbose=False)"
   ]
  },
  {
   "cell_type": "code",
   "execution_count": null,
   "metadata": {},
   "outputs": [],
   "source": []
  },
  {
   "cell_type": "code",
   "execution_count": null,
   "metadata": {},
   "outputs": [],
   "source": [
    "start_slice = 0\n",
    "end_slice = 250"
   ]
  },
  {
   "cell_type": "code",
   "execution_count": null,
   "metadata": {},
   "outputs": [],
   "source": [
    "for key0 in perf_ranks_dict.keys():\n",
    "  print(f'key0: {key0}')\n",
    "  for key1 in perf_ranks_dict[key0].keys():\n",
    "    print(f'key1: {key1}')\n",
    "\n",
    "    # print(f'perf_ranks_dict[{key0}][{key1}][{start_slice}:{end_slice}]:\\n{perf_ranks_dict[key0][key1][start_slice:end_slice]}')    \n",
    "    # print(f'len(perf_ranks_dict[{key0}][{key1}][{start_slice}:{end_slice}]): {len(perf_ranks_dict[key0][key1][start_slice:end_slice])}')\n",
    "    \n",
    "    print(f'perf_ranks_dict[{key0}][{key1}]:\\n{perf_ranks_dict[key0][key1]}')    \n",
    "    print(f'len(perf_ranks_dict[{key0}][{key1}]): {len(perf_ranks_dict[key0][key1])}')\n",
    "  \n",
    "  print(' ')"
   ]
  },
  {
   "cell_type": "code",
   "execution_count": null,
   "metadata": {},
   "outputs": [],
   "source": [
    "# perf_ranks_dict[key0][key1][start_slice:end_slice]    \n",
    "len(perf_ranks_dict[key0][key1])"
   ]
  },
  {
   "cell_type": "code",
   "execution_count": null,
   "metadata": {},
   "outputs": [],
   "source": [
    "list(perf_ranks_dict.keys())[1]"
   ]
  },
  {
   "cell_type": "code",
   "execution_count": null,
   "metadata": {},
   "outputs": [],
   "source": [
    "ranked_perf_ranks_dict.keys()"
   ]
  },
  {
   "cell_type": "code",
   "execution_count": null,
   "metadata": {},
   "outputs": [],
   "source": [
    "for key0 in ranked_perf_ranks_dict.keys():\n",
    "  print(f'key0: {key0}')\n",
    "  print(f'ranked_perf_ranks_dict[{key0}:\\n{ranked_perf_ranks_dict[key0]}')   \n",
    "  print(f'len(ranked_perf_ranks_dict[{key0}]): {len(ranked_perf_ranks_dict[key0])}')\n",
    "  print(' ')"
   ]
  }
 ],
 "metadata": {
  "kernelspec": {
   "display_name": "Python 3.7.9 ('.venv': poetry)",
   "language": "python",
   "name": "python3"
  },
  "language_info": {
   "codemirror_mode": {
    "name": "ipython",
    "version": 3
   },
   "file_extension": ".py",
   "mimetype": "text/x-python",
   "name": "python",
   "nbconvert_exporter": "python",
   "pygments_lexer": "ipython3",
   "version": "3.7.9 (tags/v3.7.9:13c94747c7, Aug 17 2020, 18:58:18) [MSC v.1900 64 bit (AMD64)]"
  },
  "orig_nbformat": 4,
  "vscode": {
   "interpreter": {
    "hash": "55a3812d65f91e7e7447da6b5cfc60716e82f91e6a92533fb27b46796ad1962a"
   }
  }
 },
 "nbformat": 4,
 "nbformat_minor": 2
}
