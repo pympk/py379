{
 "cells": [
  {
   "cell_type": "code",
   "execution_count": 1,
   "metadata": {},
   "outputs": [],
   "source": [
    "import yfinance as yf\n",
    "import yfinance.shared as shared\n",
    "import time\n",
    "import pandas as pd\n",
    "# from datetime import date, timedelta, datetime\n",
    "from myUtils import pickle_dump, pickle_load, read_symbols_file # NOQA\n",
    "from myUtils import drop_symbols_all_NaN, chunked_list # NOQA\n",
    "from myUtils import yf_download_AdjOHLCV_noAutoAdj\n",
    "from yf_utils import _2_split_train_val_test, _3_random_slices, _4_perf_ranks\n",
    "\n",
    "verbose = False  # True prints more output\n",
    "\n",
    "path_dir = \"C:/Users/ping/MyDrive/stocks/yfinance/\"\n",
    "path_data_dump = path_dir + \"VSCode_dump/\"\n",
    "\n",
    "filename_symbols = path_data_dump + 'vg_symbols_4chars_max.csv'  # symbols text file\n",
    "filename_pickled_df_OHLCVA_downloaded = 'df_OHLCVA_downloaded '  # OHLCVA downloaded from Yahoo\n",
    "filename_pickled_df_adjOHLCV = 'df_adjOHLCV'  # adjusted OHLCV\n",
    "filename_pickled_df_symbols_close = \"df_symbols_close\"  # symbols' adjusted close\n",
    "filename_pickled_symbols_df_adjOHLCV =  'symbols_df_adjOHLCV'  # symbols in df_adjOHLCV\n",
    "filename_pickled_df_c = 'df_close_clean' "
   ]
  },
  {
   "cell_type": "code",
   "execution_count": 2,
   "metadata": {},
   "outputs": [],
   "source": [
    "df_c = pickle_load(path_data_dump, filename_pickled_df_c)\n",
    "df_train, df_val, df_test = _2_split_train_val_test(df_c)\n",
    "len_df_train = len(df_train)\n",
    "len_df_val = len(df_val)\n",
    "len_df_test = len(df_test)"
   ]
  },
  {
   "cell_type": "code",
   "execution_count": 3,
   "metadata": {},
   "outputs": [],
   "source": [
    "# _n_samples = 2  # number of tuples to create for iloc start_train:end_train:end_eval\n",
    "_n_samples = 2  # number of tuples to create for iloc start_train:end_train:end_eval\n",
    "_days_lookbacks = [60, 120, 30]\n",
    "_days_eval = 10"
   ]
  },
  {
   "cell_type": "code",
   "execution_count": 4,
   "metadata": {},
   "outputs": [
    {
     "data": {
      "text/plain": [
       "[(607, 727, 737), (574, 694, 704)]"
      ]
     },
     "execution_count": 4,
     "metadata": {},
     "output_type": "execute_result"
    }
   ],
   "source": [
    "# create n_samples of iloc start_train:end_train:end_eval using max value in days_loobacks\n",
    "max_train_eval_days = _3_random_slices(len_df_train, n_samples=_n_samples, days_lookback=max(_days_lookbacks), days_eval=_days_eval)\n",
    "max_train_eval_days"
   ]
  },
  {
   "cell_type": "code",
   "execution_count": 5,
   "metadata": {},
   "outputs": [],
   "source": [
    "def lookback_slices(max_slices, days_lookbacks, verbose=False):\n",
    "  \"\"\"Create \n",
    "  \n",
    "  \n",
    "  Returns perf_ranks_dict(dic. of dic. of symbols ranked in descending\n",
    "    performance) and ranked_perf_ranks_dict(dic. of symbols ranked in\n",
    "    descending frequency in a combined pool of symbols in perf_ranks_dict).\n",
    "\n",
    "  Args:\n",
    "      df_close(dataframe): dataframe of symbols' close with\n",
    "        DatetimeIndex e.g. (['2016-12-19', ... '2016-12-22']), symbols as\n",
    "        column names, and symbols' close as column values.\n",
    "      days_lookbacks(list of positive integers): list of number of days to\n",
    "      look-back, e.g. [15, 30], for performance calculation.\n",
    "      n_top_syms(int): number of top symbols to keep in perf_ranks_dict \n",
    "\n",
    "  Return:\n",
    "      perf_ranks_dict({dic): dic. of dic. of symbols ranked in descending\n",
    "        performance.\n",
    "        First dic keys are:\n",
    "        'period' + str(days_lookbacks[0]), ... ,\n",
    "        'period' + str(days_lookbacks[-1])\n",
    "        Second dic keys are:\n",
    "        'r_CAGR/UI', 'r_CAGR/retnStd' and 'r_retnStd/UI'\n",
    "        e.g.:\n",
    "        {\n",
    "          period-15': {\n",
    "                        'r_CAGR/UI':  ['HZNP', ... , 'CB'],\n",
    "                        'r_CAGR/retnStd': ['BBW', ... , 'CPRX'],\n",
    "                        'r_retnStd/UI':   ['ENR', ... , 'HSY']\n",
    "                      },\n",
    "          ... ,\n",
    "          'period-60': {\n",
    "                        'r_CAGR/UI':  ['WNC', ... , 'FSLR'],\n",
    "                        'r_CAGR/retnStd': ['VCYT', ... , 'BERY'],\n",
    "                        'r_retnStd/UI':   ['MYOV', ... , 'NSC']\n",
    "                        }\n",
    "        }\n",
    "      ranked_perf_ranks_dict(dic): dic. of symbols ranked in descending\n",
    "        frequency in a combined pool of symbols in perf_ranks_dict.  Key is\n",
    "        'ranked_perf_ranks_period' + str(days_lookbacks), e.g.:\n",
    "        {'ranked_perf_ranks_period[-15, -30]': ['HZNP', ... , 'NSC']}\n",
    "  \"\"\"  \n",
    "  lb_slices = []\n",
    "  days_lookbacks.sort()  # sort list of integers in ascending order\n",
    "  for l_max_slice in max_slices:\n",
    "    for days in days_lookbacks:\n",
    "      new_slice = (l_max_slice[1]-days, l_max_slice[1], l_max_slice[2])\n",
    "      lb_slices.append(new_slice)\n",
    "      if verbose:\n",
    "        print(f'days: {days}, {new_slice}')      \n",
    "    if verbose:    \n",
    "     print('')\n",
    "  return lb_slices"
   ]
  },
  {
   "cell_type": "code",
   "execution_count": 6,
   "metadata": {},
   "outputs": [],
   "source": [
    "def lookback_slices_2(max_slices, days_lookbacks, verbose=False):\n",
    "\n",
    "  lb_slices = []\n",
    "  days_lookbacks.sort()  # sort list of integers in ascending order\n",
    "  for max_slice in max_slices:\n",
    "    l_max_slice = []\n",
    "    for days in days_lookbacks:\n",
    "      new_slice = (max_slice[1]-days, max_slice[1], max_slice[2])\n",
    "      l_max_slice.append(new_slice)\n",
    "      if verbose:\n",
    "        print(f'days: {days}, {new_slice}')    \n",
    "    lb_slices.append(l_max_slice)  \n",
    "    if verbose:    \n",
    "     print('')\n",
    "  return lb_slices"
   ]
  },
  {
   "cell_type": "code",
   "execution_count": 13,
   "metadata": {},
   "outputs": [
    {
     "data": {
      "text/plain": [
       "[[(697, 727, 737), (667, 727, 737), (607, 727, 737)],\n",
       " [(664, 694, 704), (634, 694, 704), (574, 694, 704)]]"
      ]
     },
     "execution_count": 13,
     "metadata": {},
     "output_type": "execute_result"
    }
   ],
   "source": [
    "all_lb_slices = lookback_slices_2(max_slices=max_train_eval_days, days_lookbacks=_days_lookbacks, verbose=False)\n",
    "all_lb_slices "
   ]
  },
  {
   "cell_type": "code",
   "execution_count": 44,
   "metadata": {},
   "outputs": [],
   "source": [
    "L = [('grape', 100), ('apple', 15), ('grape', 3), ('apple', 10),\n",
    "    ('apple', 4), ('banana', 3)]"
   ]
  },
  {
   "cell_type": "code",
   "execution_count": 52,
   "metadata": {},
   "outputs": [
    {
     "data": {
      "text/plain": [
       "[('grape', 103), ('apple', 29), ('banana', 3)]"
      ]
     },
     "execution_count": 52,
     "metadata": {},
     "output_type": "execute_result"
    }
   ],
   "source": [
    "sort_list_of_tuples(L, reverse=True)"
   ]
  },
  {
   "cell_type": "code",
   "execution_count": 54,
   "metadata": {},
   "outputs": [],
   "source": [
    "def sort_list_of_tuples(L, reverse=True):\n",
    "  # https://stackoverflow.com/questions/2249036/grouping-python-tuple-list\n",
    "  # https://stackoverflow.com/questions/10695139/sort-a-list-of-tuples-by-2nd-item-integer-value\n",
    "  \"\"\"\n",
    "  Given a list of tuples of (key:value) such as:\n",
    "  [('grape', 100), ('apple', 15), ('grape', 3), ('apple', 10),\n",
    "   ('apple', 4), ('banana', 3)]\n",
    "  Returns list of grouped-sorted-tuples based on summed-values such as:\n",
    "  [('grape', 103), ('apple', 29), ('banana', 3)] \n",
    "\n",
    "  Args:\n",
    "      L(list of tuples): list of tuples of key(str):value(int) pairs\n",
    "      reverse(bool): sort order of summed-values of the grouped tuples,\n",
    "       default is in descending order.  \n",
    "\n",
    "  Return:\n",
    "      grp_sorted_list(list of tuples): list of grouped-sorted-tuples\n",
    "       based on summed-values such as:\n",
    "       [('grape', 103), ('apple', 29), ('banana', 3)] \n",
    "  \"\"\" \n",
    "\n",
    "  import itertools\n",
    "  from operator import itemgetter\n",
    "\n",
    "  grp_list = []\n",
    "  l = sorted(L)\n",
    "  it = itertools.groupby(l, itemgetter(0))\n",
    "\n",
    "  for key, subiter in it:\n",
    "    # print(f'key: {key}')\n",
    "    key_sum = sum(item[1] for item in subiter)\n",
    "    # print(f'key_sum: {key_sum}')\n",
    "    grp_list.append((key, key_sum))\n",
    "\n",
    "  grp_sorted_list = sorted(grp_list, key=itemgetter(1), reverse=reverse)\n",
    "\n",
    "  return grp_sorted_list  \n"
   ]
  },
  {
   "cell_type": "code",
   "execution_count": 62,
   "metadata": {},
   "outputs": [
    {
     "data": {
      "text/plain": [
       "[('FTSM', 9),\n",
       " ('ARWR', 7),\n",
       " ('BEP', 7),\n",
       " ('HOV', 6),\n",
       " ('IRT', 6),\n",
       " ('ISEE', 6),\n",
       " ('TNK', 6),\n",
       " ('MYOV', 5),\n",
       " ('RETA', 5),\n",
       " ('ALGN', 4),\n",
       " ('DXCM', 4),\n",
       " ('ETN', 4),\n",
       " ('ICPT', 4),\n",
       " ('MDC', 4),\n",
       " ('PFSI', 4),\n",
       " ('RH', 4),\n",
       " ('UI', 4),\n",
       " ('AIZ', 3),\n",
       " ('DAC', 3),\n",
       " ('DEA', 3),\n",
       " ('HIBB', 3),\n",
       " ('KBH', 3),\n",
       " ('SGEN', 3),\n",
       " ('SGRY', 3),\n",
       " ('SNX', 3),\n",
       " ('STRL', 3),\n",
       " ('SYNA', 3),\n",
       " ('ARMK', 2),\n",
       " ('AXSM', 2),\n",
       " ('BBW', 2),\n",
       " ('BLDR', 2),\n",
       " ('BXC', 2),\n",
       " ('BZH', 2),\n",
       " ('COLL', 2),\n",
       " ('CRSP', 2),\n",
       " ('INSW', 2),\n",
       " ('JHX', 2),\n",
       " ('LEN', 2),\n",
       " ('MTH', 2),\n",
       " ('NSS', 2),\n",
       " ('OMI', 2),\n",
       " ('ACRS', 1),\n",
       " ('ANIK', 1),\n",
       " ('ASC', 1),\n",
       " ('AWR', 1),\n",
       " ('BGNE', 1),\n",
       " ('BLD', 1),\n",
       " ('COOP', 1),\n",
       " ('CSR', 1),\n",
       " ('DAR', 1),\n",
       " ('DLA', 1),\n",
       " ('DOX', 1),\n",
       " ('ENPH', 1),\n",
       " ('FTNT', 1),\n",
       " ('GNRC', 1),\n",
       " ('JJSF', 1),\n",
       " ('LOCO', 1),\n",
       " ('MAA', 1),\n",
       " ('NTLA', 1),\n",
       " ('NTRA', 1),\n",
       " ('NVRO', 1),\n",
       " ('OHI', 1),\n",
       " ('OPCH', 1),\n",
       " ('PAYC', 1),\n",
       " ('PHM', 1),\n",
       " ('PODD', 1),\n",
       " ('QRVO', 1),\n",
       " ('SAIA', 1),\n",
       " ('SEDG', 1),\n",
       " ('SHYF', 1),\n",
       " ('TDY', 1),\n",
       " ('TGT', 1),\n",
       " ('TREX', 1),\n",
       " ('TYL', 1)]"
      ]
     },
     "execution_count": 62,
     "metadata": {},
     "output_type": "execute_result"
    }
   ],
   "source": [
    "# grp_perf_ranks\n",
    "grp_most_common_syms\n",
    "# flatten list of lists of (symbols:count)\n",
    "flat_grp_most_common_syms = [val for sublist in grp_most_common_syms for val in sublist]\n",
    "\n",
    "sorted_grp_most_common_syms = sort_list_of_tuples(flat_grp_most_common_syms, reverse=True)\n",
    "sorted_grp_most_common_syms\n",
    "# top_common_syms = sorted_grp_most_common_syms[0:5]\n",
    "# top_common_syms = [i[0] for i in top_common_syms]  # get keys from key:value pairs\n",
    "# top_common_syms "
   ]
  },
  {
   "cell_type": "code",
   "execution_count": 60,
   "metadata": {},
   "outputs": [
    {
     "data": {
      "text/plain": [
       "['FTSM', 'ARWR', 'BEP', 'HOV', 'IRT']"
      ]
     },
     "execution_count": 60,
     "metadata": {},
     "output_type": "execute_result"
    }
   ],
   "source": [
    "top_common_syms = sorted_grp_most_common_syms[0:5]\n",
    "top_common_syms = [i[0] for i in top_common_syms]  # get keys from key:value pairs\n",
    "top_common_syms "
   ]
  },
  {
   "cell_type": "code",
   "execution_count": null,
   "metadata": {},
   "outputs": [],
   "source": [
    "# grp_perf_ranks = {}\n",
    "grp_most_common_syms = []\n",
    "# loop thru lists of tuples of start_train:end_train:end_eval, i.e.\n",
    "#  [[(887, 917, 927), (857, 917, 927), (797, 917, 927)],\n",
    "#  [(483, 513, 523), (453, 513, 523), (393, 513, 523)]]\n",
    "for lb_slices in all_lb_slices:  \n",
    "  for lb_slice in lb_slices:  # lb_slice, e.g. (246, 276, 286)\n",
    "    start_train = lb_slice[0]\n",
    "    end_train = lb_slice[1]\n",
    "    start_eval = end_train\n",
    "    end_eval = lb_slice[2]\n",
    "    lookback = end_train - start_train\n",
    "    eval = end_eval - start_eval\n",
    "    print(f'lb_slices:     {lb_slices}')\n",
    "    print(f'lb_slice:      {lb_slice}')\n",
    "    print(f'days lookback: {lookback}')\n",
    "    print(f'days eval:     {eval}')    \n",
    "    print(f'start_train:   {start_train}')\n",
    "    print(f'end_train:     {end_train}')\n",
    "    # print(f'start_eval:    {start_eval}')\n",
    "    # print(f'end_eval:      {end_eval}')\n",
    "\n",
    "    _df = df_train.iloc[start_train:end_train]\n",
    "    perf_ranks, most_common_syms = _4_perf_ranks(_df, n_top_syms=10)\n",
    "    # 1 lookback of r_CAGR/UI, r_CAGR/retnStd, r_retnStd/UI\n",
    "    print(f'perf_ranks: {perf_ranks}')  \n",
    "    # most common symbols of perf_ranks \n",
    "    print(f'most_common_syms: {most_common_syms}')     \n",
    "    # grp_perf_ranks[lookback] = perf_ranks\n",
    "    print(f'+++ finish lookback slice {lookback} +++\\n')\n",
    "    grp_most_common_syms.append(most_common_syms)\n",
    "    \n",
    "  print(f'grp_most_common_syms: {grp_most_common_syms}')\n",
    "  print(f'===== finish lookback slices {lb_slices} =====\\n')"
   ]
  },
  {
   "cell_type": "code",
   "execution_count": 10,
   "metadata": {},
   "outputs": [
    {
     "name": "stdout",
     "output_type": "stream",
     "text": [
      "l_max_slices:  [(697, 727, 737), (667, 727, 737), (607, 727, 737)]\n",
      "l_max_slice:   (697, 727, 737)\n",
      "days_lookback: 30\n",
      "days_eval:     10\n",
      "start_train:   697\n",
      "end_train:     727\n",
      "perf_ranks: {'period-30': {'r_CAGR/UI': array(['ISEE', 'MYOV', 'AXSM', 'ICPT', 'CRSP', 'COLL', 'SGRY', 'ARWR',\n",
      "       'UI', 'DXCM'], dtype=object), 'r_CAGR/retnStd': array(['ISEE', 'MYOV', 'AXSM', 'CRSP', 'ICPT', 'COLL', 'SGRY', 'ARWR',\n",
      "       'NTLA', 'PAYC'], dtype=object), 'r_retnStd/UI': array(['BGNE', 'UI', 'DXCM', 'ALGN', 'ICPT', 'QRVO', 'NVRO', 'MYOV',\n",
      "       'DAR', 'FTNT'], dtype=object)}}\n",
      "most_common_syms: [('MYOV', 3), ('ICPT', 3), ('ISEE', 2), ('AXSM', 2), ('CRSP', 2), ('COLL', 2), ('SGRY', 2), ('ARWR', 2), ('UI', 2), ('DXCM', 2), ('NTLA', 1), ('PAYC', 1), ('BGNE', 1), ('ALGN', 1), ('QRVO', 1), ('NVRO', 1), ('DAR', 1), ('FTNT', 1)]\n",
      "+++ finish 1 days_lookback +++ \n",
      "\n",
      "l_max_slices:  [(697, 727, 737), (667, 727, 737), (607, 727, 737)]\n",
      "l_max_slice:   (667, 727, 737)\n",
      "days_lookback: 60\n",
      "days_eval:     10\n",
      "start_train:   667\n",
      "end_train:     727\n",
      "perf_ranks: {'period-60': {'r_CAGR/UI': array(['ISEE', 'ARWR', 'UI', 'TNK', 'SGEN', 'RETA', 'ALGN', 'MYOV', 'BEP',\n",
      "       'DXCM'], dtype=object), 'r_CAGR/retnStd': array(['ISEE', 'ARWR', 'TNK', 'RETA', 'MYOV', 'SGEN', 'ICPT', 'SGRY',\n",
      "       'ALGN', 'BEP'], dtype=object), 'r_retnStd/UI': array(['UI', 'SNX', 'ALGN', 'FTSM', 'SGEN', 'DEA', 'DXCM', 'ISEE', 'DLA',\n",
      "       'LOCO'], dtype=object)}}\n",
      "most_common_syms: [('ISEE', 3), ('SGEN', 3), ('ALGN', 3), ('ARWR', 2), ('UI', 2), ('TNK', 2), ('RETA', 2), ('MYOV', 2), ('BEP', 2), ('DXCM', 2), ('ICPT', 1), ('SGRY', 1), ('SNX', 1), ('FTSM', 1), ('DEA', 1), ('DLA', 1), ('LOCO', 1)]\n",
      "+++ finish 1 days_lookback +++ \n",
      "\n",
      "l_max_slices:  [(697, 727, 737), (667, 727, 737), (607, 727, 737)]\n",
      "l_max_slice:   (607, 727, 737)\n",
      "days_lookback: 120\n",
      "days_eval:     10\n",
      "start_train:   607\n",
      "end_train:     727\n",
      "perf_ranks: {'period-120': {'r_CAGR/UI': array(['FTSM', 'BEP', 'SYNA', 'ARWR', 'RH', 'JHX', 'ETN', 'BLDR', 'PFSI',\n",
      "       'ISEE'], dtype=object), 'r_CAGR/retnStd': array(['ARWR', 'BEP', 'FTSM', 'SYNA', 'RH', 'PFSI', 'TNK', 'COOP', 'HOV',\n",
      "       'SHYF'], dtype=object), 'r_retnStd/UI': array(['FTSM', 'ETN', 'JHX', 'TDY', 'AIZ', 'BLDR', 'BLD', 'BEP', 'TGT',\n",
      "       'SYNA'], dtype=object)}}\n",
      "most_common_syms: [('FTSM', 3), ('BEP', 3), ('SYNA', 3), ('ARWR', 2), ('RH', 2), ('JHX', 2), ('ETN', 2), ('BLDR', 2), ('PFSI', 2), ('ISEE', 1), ('TNK', 1), ('COOP', 1), ('HOV', 1), ('SHYF', 1), ('TDY', 1), ('AIZ', 1), ('BLD', 1), ('TGT', 1)]\n",
      "+++ finish 1 days_lookback +++ \n",
      "\n",
      "grp_most_common_syms: [[('MYOV', 3), ('ICPT', 3), ('ISEE', 2), ('AXSM', 2), ('CRSP', 2), ('COLL', 2), ('SGRY', 2), ('ARWR', 2), ('UI', 2), ('DXCM', 2), ('NTLA', 1), ('PAYC', 1), ('BGNE', 1), ('ALGN', 1), ('QRVO', 1), ('NVRO', 1), ('DAR', 1), ('FTNT', 1)], [('ISEE', 3), ('SGEN', 3), ('ALGN', 3), ('ARWR', 2), ('UI', 2), ('TNK', 2), ('RETA', 2), ('MYOV', 2), ('BEP', 2), ('DXCM', 2), ('ICPT', 1), ('SGRY', 1), ('SNX', 1), ('FTSM', 1), ('DEA', 1), ('DLA', 1), ('LOCO', 1)], [('FTSM', 3), ('BEP', 3), ('SYNA', 3), ('ARWR', 2), ('RH', 2), ('JHX', 2), ('ETN', 2), ('BLDR', 2), ('PFSI', 2), ('ISEE', 1), ('TNK', 1), ('COOP', 1), ('HOV', 1), ('SHYF', 1), ('TDY', 1), ('AIZ', 1), ('BLD', 1), ('TGT', 1)]]\n",
      "===== finish 1 set of days_lookbacks ===== \n",
      "\n",
      "l_max_slices:  [(664, 694, 704), (634, 694, 704), (574, 694, 704)]\n",
      "l_max_slice:   (664, 694, 704)\n",
      "days_lookback: 30\n",
      "days_eval:     10\n",
      "start_train:   664\n",
      "end_train:     694\n",
      "perf_ranks: {'period-30': {'r_CAGR/UI': array(['HOV', 'TNK', 'DAC', 'RETA', 'STRL', 'HIBB', 'INSW', 'KBH', 'SNX',\n",
      "       'BBW'], dtype=object), 'r_CAGR/retnStd': array(['HOV', 'TNK', 'RETA', 'DAC', 'ASC', 'BBW', 'STRL', 'ACRS', 'HIBB',\n",
      "       'INSW'], dtype=object), 'r_retnStd/UI': array(['TNK', 'STRL', 'SNX', 'HOV', 'KBH', 'IRT', 'MDC', 'DAC', 'PHM',\n",
      "       'HIBB'], dtype=object)}}\n",
      "most_common_syms: [('HOV', 3), ('TNK', 3), ('DAC', 3), ('STRL', 3), ('HIBB', 3), ('RETA', 2), ('INSW', 2), ('KBH', 2), ('SNX', 2), ('BBW', 2), ('ASC', 1), ('ACRS', 1), ('IRT', 1), ('MDC', 1), ('PHM', 1)]\n",
      "+++ finish 1 days_lookback +++ \n",
      "\n",
      "l_max_slices:  [(664, 694, 704), (634, 694, 704), (574, 694, 704)]\n",
      "l_max_slice:   (634, 694, 704)\n",
      "days_lookback: 60\n",
      "days_eval:     10\n",
      "start_train:   634\n",
      "end_train:     694\n",
      "perf_ranks: {'period-60': {'r_CAGR/UI': array(['HOV', 'OMI', 'BXC', 'FTSM', 'IRT', 'DEA', 'BZH', 'PFSI', 'RH',\n",
      "       'LEN'], dtype=object), 'r_CAGR/retnStd': array(['HOV', 'OMI', 'BXC', 'BZH', 'RH', 'KBH', 'LEN', 'PFSI', 'SAIA',\n",
      "       'RETA'], dtype=object), 'r_retnStd/UI': array(['ETN', 'FTSM', 'TREX', 'DEA', 'MTH', 'IRT', 'MAA', 'TYL', 'OHI',\n",
      "       'CSR'], dtype=object)}}\n",
      "most_common_syms: [('HOV', 2), ('OMI', 2), ('BXC', 2), ('FTSM', 2), ('IRT', 2), ('DEA', 2), ('BZH', 2), ('PFSI', 2), ('RH', 2), ('LEN', 2), ('KBH', 1), ('SAIA', 1), ('RETA', 1), ('ETN', 1), ('TREX', 1), ('MTH', 1), ('MAA', 1), ('TYL', 1), ('OHI', 1), ('CSR', 1)]\n",
      "+++ finish 1 days_lookback +++ \n",
      "\n",
      "l_max_slices:  [(664, 694, 704), (634, 694, 704), (574, 694, 704)]\n",
      "l_max_slice:   (574, 694, 704)\n",
      "days_lookback: 120\n",
      "days_eval:     10\n",
      "start_train:   574\n",
      "end_train:     694\n",
      "perf_ranks: {'period-120': {'r_CAGR/UI': array(['FTSM', 'IRT', 'BEP', 'MDC', 'NSS', 'ARMK', 'AIZ', 'NTRA', 'ANIK',\n",
      "       'SEDG'], dtype=object), 'r_CAGR/retnStd': array(['FTSM', 'BEP', 'IRT', 'ENPH', 'ARWR', 'PODD', 'AWR', 'GNRC',\n",
      "       'OPCH', 'MDC'], dtype=object), 'r_retnStd/UI': array(['FTSM', 'ETN', 'DOX', 'NSS', 'ARMK', 'IRT', 'MTH', 'AIZ', 'JJSF',\n",
      "       'MDC'], dtype=object)}}\n",
      "most_common_syms: [('FTSM', 3), ('IRT', 3), ('MDC', 3), ('BEP', 2), ('NSS', 2), ('ARMK', 2), ('AIZ', 2), ('NTRA', 1), ('ANIK', 1), ('SEDG', 1), ('ENPH', 1), ('ARWR', 1), ('PODD', 1), ('AWR', 1), ('GNRC', 1), ('OPCH', 1), ('ETN', 1), ('DOX', 1), ('MTH', 1), ('JJSF', 1)]\n",
      "+++ finish 1 days_lookback +++ \n",
      "\n",
      "grp_most_common_syms: [[('MYOV', 3), ('ICPT', 3), ('ISEE', 2), ('AXSM', 2), ('CRSP', 2), ('COLL', 2), ('SGRY', 2), ('ARWR', 2), ('UI', 2), ('DXCM', 2), ('NTLA', 1), ('PAYC', 1), ('BGNE', 1), ('ALGN', 1), ('QRVO', 1), ('NVRO', 1), ('DAR', 1), ('FTNT', 1)], [('ISEE', 3), ('SGEN', 3), ('ALGN', 3), ('ARWR', 2), ('UI', 2), ('TNK', 2), ('RETA', 2), ('MYOV', 2), ('BEP', 2), ('DXCM', 2), ('ICPT', 1), ('SGRY', 1), ('SNX', 1), ('FTSM', 1), ('DEA', 1), ('DLA', 1), ('LOCO', 1)], [('FTSM', 3), ('BEP', 3), ('SYNA', 3), ('ARWR', 2), ('RH', 2), ('JHX', 2), ('ETN', 2), ('BLDR', 2), ('PFSI', 2), ('ISEE', 1), ('TNK', 1), ('COOP', 1), ('HOV', 1), ('SHYF', 1), ('TDY', 1), ('AIZ', 1), ('BLD', 1), ('TGT', 1)], [('HOV', 3), ('TNK', 3), ('DAC', 3), ('STRL', 3), ('HIBB', 3), ('RETA', 2), ('INSW', 2), ('KBH', 2), ('SNX', 2), ('BBW', 2), ('ASC', 1), ('ACRS', 1), ('IRT', 1), ('MDC', 1), ('PHM', 1)], [('HOV', 2), ('OMI', 2), ('BXC', 2), ('FTSM', 2), ('IRT', 2), ('DEA', 2), ('BZH', 2), ('PFSI', 2), ('RH', 2), ('LEN', 2), ('KBH', 1), ('SAIA', 1), ('RETA', 1), ('ETN', 1), ('TREX', 1), ('MTH', 1), ('MAA', 1), ('TYL', 1), ('OHI', 1), ('CSR', 1)], [('FTSM', 3), ('IRT', 3), ('MDC', 3), ('BEP', 2), ('NSS', 2), ('ARMK', 2), ('AIZ', 2), ('NTRA', 1), ('ANIK', 1), ('SEDG', 1), ('ENPH', 1), ('ARWR', 1), ('PODD', 1), ('AWR', 1), ('GNRC', 1), ('OPCH', 1), ('ETN', 1), ('DOX', 1), ('MTH', 1), ('JJSF', 1)]]\n",
      "===== finish 1 set of days_lookbacks ===== \n",
      "\n"
     ]
    }
   ],
   "source": [
    "# grp_perf_ranks = {}\n",
    "grp_most_common_syms = []\n",
    "# loop thru lists of tuples of start_train:end_train:end_eval, i.e.\n",
    "#  [[(887, 917, 927), (857, 917, 927), (797, 917, 927)],\n",
    "#  [(483, 513, 523), (453, 513, 523), (393, 513, 523)]]\n",
    "for l_max_slices in lb_slices:  \n",
    "  for l_max_slice in l_max_slices:  # l_max_slice, e.g. (246, 276, 286)\n",
    "    start_train = l_max_slice[0]\n",
    "    end_train = l_max_slice[1]\n",
    "    start_eval = end_train\n",
    "    end_eval = l_max_slice[2]\n",
    "    days_lookback = end_train - start_train\n",
    "    days_eval = end_eval - start_eval\n",
    "    print(f'l_max_slices:  {l_max_slices}')\n",
    "    print(f'l_max_slice:   {l_max_slice}')\n",
    "    print(f'days_lookback: {days_lookback}')\n",
    "    print(f'days_eval:     {days_eval}')    \n",
    "    print(f'start_train:   {start_train}')\n",
    "    print(f'end_train:     {end_train}')\n",
    "    # print(f'start_eval:    {start_eval}')\n",
    "    # print(f'end_eval:      {end_eval}')\n",
    "\n",
    "    _df = df_train.iloc[start_train:end_train]\n",
    "    perf_ranks, most_common_syms = _4_perf_ranks(_df, n_top_syms=10)\n",
    "    # 1 days_lookback of r_CAGR/UI, r_CAGR/retnStd, r_retnStd/UI\n",
    "    print(f'perf_ranks: {perf_ranks}')  \n",
    "    # most common symbols of perf_ranks \n",
    "    print(f'most_common_syms: {most_common_syms}')     \n",
    "    # grp_perf_ranks[days_lookback] = perf_ranks\n",
    "    print('+++ finish 1 days_lookback +++', '\\n')\n",
    "    grp_most_common_syms.append(most_common_syms)\n",
    "    \n",
    "  print(f'grp_most_common_syms: {grp_most_common_syms}')\n",
    "  print('===== finish 1 set of days_lookbacks =====', '\\n')"
   ]
  },
  {
   "cell_type": "code",
   "execution_count": null,
   "metadata": {},
   "outputs": [],
   "source": []
  }
 ],
 "metadata": {
  "kernelspec": {
   "display_name": "Python 3",
   "language": "python",
   "name": "python3"
  },
  "language_info": {
   "codemirror_mode": {
    "name": "ipython",
    "version": 3
   },
   "file_extension": ".py",
   "mimetype": "text/x-python",
   "name": "python",
   "nbconvert_exporter": "python",
   "pygments_lexer": "ipython3",
   "version": "3.7.9"
  },
  "orig_nbformat": 4,
  "vscode": {
   "interpreter": {
    "hash": "d848e2535a99fe7c7346179acd9000b04da131f0f89ee41d962201c665cb28e1"
   }
  }
 },
 "nbformat": 4,
 "nbformat_minor": 2
}
