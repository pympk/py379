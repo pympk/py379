{
 "cells": [
  {
   "cell_type": "code",
   "execution_count": 39,
   "metadata": {},
   "outputs": [],
   "source": [
    "import yfinance as yf\n",
    "import yfinance.shared as shared\n",
    "import time\n",
    "import pandas as pd\n",
    "# from datetime import date, timedelta, datetime\n",
    "from myUtils import pickle_dump, pickle_load, read_symbols_file # NOQA\n",
    "from myUtils import drop_symbols_all_NaN, chunked_list # NOQA\n",
    "from myUtils import yf_download_AdjOHLCV_noAutoAdj\n",
    "from yf_utils import _2_split_train_val_test, _3_random_slices, _4_perf_ranks\n",
    "\n",
    "verbose = False  # True prints more output\n",
    "\n",
    "path_dir = \"C:/Users/ping/MyDrive/stocks/yfinance/\"\n",
    "path_data_dump = path_dir + \"VSCode_dump/\"\n",
    "\n",
    "filename_symbols = path_data_dump + 'vg_symbols_4chars_max.csv'  # symbols text file\n",
    "filename_pickled_df_OHLCVA_downloaded = 'df_OHLCVA_downloaded '  # OHLCVA downloaded from Yahoo\n",
    "filename_pickled_df_adjOHLCV = 'df_adjOHLCV'  # adjusted OHLCV\n",
    "filename_pickled_df_symbols_close = \"df_symbols_close\"  # symbols' adjusted close\n",
    "filename_pickled_symbols_df_adjOHLCV =  'symbols_df_adjOHLCV'  # symbols in df_adjOHLCV\n",
    "filename_pickled_df_c = 'df_close_clean' "
   ]
  },
  {
   "cell_type": "code",
   "execution_count": 40,
   "metadata": {},
   "outputs": [],
   "source": [
    "df_c = pickle_load(path_data_dump, filename_pickled_df_c)\n",
    "df_train, df_val, df_test = _2_split_train_val_test(df_c)\n",
    "len_df_train = len(df_train)\n",
    "len_df_val = len(df_val)\n",
    "len_df_test = len(df_test)"
   ]
  },
  {
   "cell_type": "code",
   "execution_count": 41,
   "metadata": {},
   "outputs": [],
   "source": [
    "# _n_samples = 2  # number of tuples to create for iloc start_train:end_train:end_eval\n",
    "_n_samples = 2  # number of tuples to create for iloc start_train:end_train:end_eval\n",
    "_days_lookbacks = [60, 120, 30]\n",
    "_days_eval = 10"
   ]
  },
  {
   "cell_type": "code",
   "execution_count": 42,
   "metadata": {},
   "outputs": [
    {
     "data": {
      "text/plain": [
       "[(156, 276, 286), (473, 593, 603)]"
      ]
     },
     "execution_count": 42,
     "metadata": {},
     "output_type": "execute_result"
    }
   ],
   "source": [
    "# create n_samples of iloc start_train:end_train:end_eval using max value in days_loobacks\n",
    "max_train_eval_days = _3_random_slices(len_df_train, n_samples=_n_samples, days_lookback=max(_days_lookbacks), days_eval=_days_eval)\n",
    "max_train_eval_days"
   ]
  },
  {
   "cell_type": "code",
   "execution_count": null,
   "metadata": {},
   "outputs": [],
   "source": [
    "def lookback_slices(max_slices, days_lookbacks, verbose=False):\n",
    "  \"\"\"Create \n",
    "  \n",
    "  \n",
    "  Returns perf_ranks_dict(dic. of dic. of symbols ranked in descending\n",
    "    performance) and ranked_perf_ranks_dict(dic. of symbols ranked in\n",
    "    descending frequency in a combined pool of symbols in perf_ranks_dict).\n",
    "\n",
    "  Args:\n",
    "      df_close(dataframe): dataframe of symbols' close with\n",
    "        DatetimeIndex e.g. (['2016-12-19', ... '2016-12-22']), symbols as\n",
    "        column names, and symbols' close as column values.\n",
    "      days_lookbacks(list of positive integers): list of number of days to\n",
    "      look-back, e.g. [15, 30], for performance calculation.\n",
    "      n_top_syms(int): number of top symbols to keep in perf_ranks_dict \n",
    "\n",
    "  Return:\n",
    "      perf_ranks_dict({dic): dic. of dic. of symbols ranked in descending\n",
    "        performance.\n",
    "        First dic keys are:\n",
    "        'period' + str(days_lookbacks[0]), ... ,\n",
    "        'period' + str(days_lookbacks[-1])\n",
    "        Second dic keys are:\n",
    "        'r_CAGR/UI', 'r_CAGR/retnStd' and 'r_retnStd/UI'\n",
    "        e.g.:\n",
    "        {\n",
    "          period-15': {\n",
    "                        'r_CAGR/UI':  ['HZNP', ... , 'CB'],\n",
    "                        'r_CAGR/retnStd': ['BBW', ... , 'CPRX'],\n",
    "                        'r_retnStd/UI':   ['ENR', ... , 'HSY']\n",
    "                      },\n",
    "          ... ,\n",
    "          'period-60': {\n",
    "                        'r_CAGR/UI':  ['WNC', ... , 'FSLR'],\n",
    "                        'r_CAGR/retnStd': ['VCYT', ... , 'BERY'],\n",
    "                        'r_retnStd/UI':   ['MYOV', ... , 'NSC']\n",
    "                        }\n",
    "        }\n",
    "      ranked_perf_ranks_dict(dic): dic. of symbols ranked in descending\n",
    "        frequency in a combined pool of symbols in perf_ranks_dict.  Key is\n",
    "        'ranked_perf_ranks_period' + str(days_lookbacks), e.g.:\n",
    "        {'ranked_perf_ranks_period[-15, -30]': ['HZNP', ... , 'NSC']}\n",
    "  \"\"\"  \n",
    "  lb_slices = []\n",
    "  days_lookbacks.sort()  # sort list of integers in ascending order\n",
    "  for l_max_slice in max_slices:\n",
    "    for days in days_lookbacks:\n",
    "      new_slice = (l_max_slice[1]-days, l_max_slice[1], l_max_slice[2])\n",
    "      lb_slices.append(new_slice)\n",
    "      if verbose:\n",
    "        print(f'days: {days}, {new_slice}')      \n",
    "    if verbose:    \n",
    "     print('')\n",
    "  return lb_slices"
   ]
  },
  {
   "cell_type": "code",
   "execution_count": 43,
   "metadata": {},
   "outputs": [],
   "source": [
    "def lookback_slices_2(max_slices, days_lookbacks, verbose=False):\n",
    "\n",
    "  lb_slices = []\n",
    "  days_lookbacks.sort()  # sort list of integers in ascending order\n",
    "  for max_slice in max_slices:\n",
    "    l_max_slice = []\n",
    "    for days in days_lookbacks:\n",
    "      new_slice = (max_slice[1]-days, max_slice[1], max_slice[2])\n",
    "      l_max_slice.append(new_slice)\n",
    "      if verbose:\n",
    "        print(f'days: {days}, {new_slice}')    \n",
    "    lb_slices.append(l_max_slice)  \n",
    "    if verbose:    \n",
    "     print('')\n",
    "  return lb_slices"
   ]
  },
  {
   "cell_type": "code",
   "execution_count": 44,
   "metadata": {},
   "outputs": [
    {
     "data": {
      "text/plain": [
       "[[(246, 276, 286), (216, 276, 286), (156, 276, 286)],\n",
       " [(563, 593, 603), (533, 593, 603), (473, 593, 603)]]"
      ]
     },
     "execution_count": 44,
     "metadata": {},
     "output_type": "execute_result"
    }
   ],
   "source": [
    "lb_slices = lookback_slices_2(max_slices=max_train_eval_days, days_lookbacks=_days_lookbacks, verbose=False)\n",
    "lb_slices "
   ]
  },
  {
   "cell_type": "code",
   "execution_count": null,
   "metadata": {},
   "outputs": [],
   "source": [
    "grp_perf_ranks\n",
    "# grp_most_common_syms"
   ]
  },
  {
   "cell_type": "code",
   "execution_count": 49,
   "metadata": {},
   "outputs": [
    {
     "name": "stdout",
     "output_type": "stream",
     "text": [
      "l_max_slices:  [(246, 276, 286), (216, 276, 286), (156, 276, 286)]\n",
      "l_max_slice:   (246, 276, 286)\n",
      "days_lookback: 30\n",
      "days_eval:     10\n",
      "start_train:   246\n",
      "end_train:     276\n",
      "perf_ranks: {'period-30': {'r_CAGR/UI': array(['VIRT', 'BEEM', 'BXC', 'NVAX', 'MRTX', 'KURA', 'WK', 'WING',\n",
      "       'LQDT', 'VSTO'], dtype=object), 'r_CAGR/retnStd': array(['BEEM', 'BXC', 'NVAX', 'KURA', 'MRTX', 'VIRT', 'VSTO', 'LQDT',\n",
      "       'ASND', 'COLL'], dtype=object), 'r_retnStd/UI': array(['VIRT', 'WK', 'KDP', 'WING', 'RM', 'BXC', 'TTGT', 'SII', 'DECK',\n",
      "       'MTCH'], dtype=object)}}\n",
      "most_common_syms: [('VIRT', 3), ('BXC', 3), ('BEEM', 2), ('NVAX', 2), ('MRTX', 2), ('KURA', 2), ('WK', 2), ('WING', 2), ('LQDT', 2), ('VSTO', 2), ('ASND', 1), ('COLL', 1), ('KDP', 1), ('RM', 1), ('TTGT', 1), ('SII', 1), ('DECK', 1), ('MTCH', 1)]\n",
      "+++ finish 1 days_lookback +++ \n",
      "\n",
      "l_max_slices:  [(246, 276, 286), (216, 276, 286), (156, 276, 286)]\n",
      "l_max_slice:   (216, 276, 286)\n",
      "days_lookback: 60\n",
      "days_eval:     10\n",
      "start_train:   216\n",
      "end_train:     276\n",
      "perf_ranks: {'period-60': {'r_CAGR/UI': array(['MDGL', 'VIRT', 'BXC', 'SGRY', 'CRSP', 'FATE', 'ENTA', 'AX',\n",
      "       'MRTX', 'CVEO'], dtype=object), 'r_CAGR/retnStd': array(['MDGL', 'FATE', 'CRSP', 'SGRY', 'BXC', 'ENTA', 'CVEO', 'VIRT',\n",
      "       'AX', 'RCKT'], dtype=object), 'r_retnStd/UI': array(['VIRT', 'MDGL', 'KDP', 'RM', 'BXC', 'SAGE', 'DECK', 'SII', 'XENE',\n",
      "       'FTSM'], dtype=object)}}\n",
      "most_common_syms: [('MDGL', 3), ('VIRT', 3), ('BXC', 3), ('SGRY', 2), ('CRSP', 2), ('FATE', 2), ('ENTA', 2), ('AX', 2), ('CVEO', 2), ('MRTX', 1), ('RCKT', 1), ('KDP', 1), ('RM', 1), ('SAGE', 1), ('DECK', 1), ('SII', 1), ('XENE', 1), ('FTSM', 1)]\n",
      "+++ finish 1 days_lookback +++ \n",
      "\n",
      "l_max_slices:  [(246, 276, 286), (216, 276, 286), (156, 276, 286)]\n",
      "l_max_slice:   (156, 276, 286)\n",
      "days_lookback: 120\n",
      "days_eval:     10\n",
      "start_train:   156\n",
      "end_train:     276\n",
      "perf_ranks: {'period-120': {'r_CAGR/UI': array(['MDGL', 'MRTX', 'TTGT', 'GRVY', 'GDS', 'RCKT', 'KURA', 'MTCH',\n",
      "       'ASGN', 'HAE'], dtype=object), 'r_CAGR/retnStd': array(['MDGL', 'GRVY', 'RCKT', 'MRTX', 'GDS', 'ENPH', 'FATE', 'MTCH',\n",
      "       'TTGT', 'VHI'], dtype=object), 'r_retnStd/UI': array(['MRTX', 'MDGL', 'TTGT', 'FTSM', 'KURA', 'HAE', 'EL', 'CMPR',\n",
      "       'INSM', 'CME'], dtype=object)}}\n",
      "most_common_syms: [('MDGL', 3), ('MRTX', 3), ('TTGT', 3), ('GRVY', 2), ('GDS', 2), ('RCKT', 2), ('KURA', 2), ('MTCH', 2), ('HAE', 2), ('ASGN', 1), ('ENPH', 1), ('FATE', 1), ('VHI', 1), ('FTSM', 1), ('EL', 1), ('CMPR', 1), ('INSM', 1), ('CME', 1)]\n",
      "+++ finish 1 days_lookback +++ \n",
      "\n",
      "grp_most_common_syms: [[('VIRT', 3), ('BXC', 3), ('BEEM', 2), ('NVAX', 2), ('MRTX', 2), ('KURA', 2), ('WK', 2), ('WING', 2), ('LQDT', 2), ('VSTO', 2), ('ASND', 1), ('COLL', 1), ('KDP', 1), ('RM', 1), ('TTGT', 1), ('SII', 1), ('DECK', 1), ('MTCH', 1)], [('MDGL', 3), ('VIRT', 3), ('BXC', 3), ('SGRY', 2), ('CRSP', 2), ('FATE', 2), ('ENTA', 2), ('AX', 2), ('CVEO', 2), ('MRTX', 1), ('RCKT', 1), ('KDP', 1), ('RM', 1), ('SAGE', 1), ('DECK', 1), ('SII', 1), ('XENE', 1), ('FTSM', 1)], [('MDGL', 3), ('MRTX', 3), ('TTGT', 3), ('GRVY', 2), ('GDS', 2), ('RCKT', 2), ('KURA', 2), ('MTCH', 2), ('HAE', 2), ('ASGN', 1), ('ENPH', 1), ('FATE', 1), ('VHI', 1), ('FTSM', 1), ('EL', 1), ('CMPR', 1), ('INSM', 1), ('CME', 1)]]\n",
      "===== finish 1 set of days_lookbacks ===== \n",
      "\n",
      "l_max_slices:  [(563, 593, 603), (533, 593, 603), (473, 593, 603)]\n",
      "l_max_slice:   (563, 593, 603)\n",
      "days_lookback: 30\n",
      "days_eval:     10\n",
      "start_train:   563\n",
      "end_train:     593\n",
      "perf_ranks: {'period-30': {'r_CAGR/UI': array(['DMRC', 'AXSM', 'ASPN', 'ENPH', 'GRVY', 'KTOS', 'ATEX', 'STRA',\n",
      "       'NRC', 'SAM'], dtype=object), 'r_CAGR/retnStd': array(['DMRC', 'AXSM', 'ASPN', 'GRVY', 'ENPH', 'KTOS', 'ATEX', 'HROW',\n",
      "       'XOMA', 'NRC'], dtype=object), 'r_retnStd/UI': array(['FTSM', 'LDOS', 'ASPN', 'STRA', 'RLI', 'ENPH', 'DOX', 'SAM', 'RE',\n",
      "       'CECE'], dtype=object)}}\n",
      "most_common_syms: [('ASPN', 3), ('ENPH', 3), ('DMRC', 2), ('AXSM', 2), ('GRVY', 2), ('KTOS', 2), ('ATEX', 2), ('STRA', 2), ('NRC', 2), ('SAM', 2), ('HROW', 1), ('XOMA', 1), ('FTSM', 1), ('LDOS', 1), ('RLI', 1), ('DOX', 1), ('RE', 1), ('CECE', 1)]\n",
      "+++ finish 1 days_lookback +++ \n",
      "\n",
      "l_max_slices:  [(563, 593, 603), (533, 593, 603), (473, 593, 603)]\n",
      "l_max_slice:   (533, 593, 603)\n",
      "days_lookback: 60\n",
      "days_eval:     10\n",
      "start_train:   533\n",
      "end_train:     593\n",
      "perf_ranks: {'period-60': {'r_CAGR/UI': array(['AXSM', 'FTSM', 'ATEC', 'TSN', 'DMRC', 'TRI', 'PPC', 'CCEP', 'UL',\n",
      "       'EVRI'], dtype=object), 'r_CAGR/retnStd': array(['AXSM', 'ATEC', 'GRVY', 'DMRC', 'TSN', 'PPC', 'FTSM', 'EVRI',\n",
      "       'AVXL', 'SHOP'], dtype=object), 'r_retnStd/UI': array(['FTSM', 'XRAY', 'TSN', 'TRI', 'UL', 'RLI', 'NUO', 'CAE', 'CCEP',\n",
      "       'PEP'], dtype=object)}}\n",
      "most_common_syms: [('FTSM', 3), ('TSN', 3), ('AXSM', 2), ('ATEC', 2), ('DMRC', 2), ('TRI', 2), ('PPC', 2), ('CCEP', 2), ('UL', 2), ('EVRI', 2), ('GRVY', 1), ('AVXL', 1), ('SHOP', 1), ('XRAY', 1), ('RLI', 1), ('NUO', 1), ('CAE', 1), ('PEP', 1)]\n",
      "+++ finish 1 days_lookback +++ \n",
      "\n",
      "l_max_slices:  [(563, 593, 603), (533, 593, 603), (473, 593, 603)]\n",
      "l_max_slice:   (473, 593, 603)\n",
      "days_lookback: 120\n",
      "days_eval:     10\n",
      "start_train:   473\n",
      "end_train:     593\n",
      "perf_ranks: {'period-120': {'r_CAGR/UI': array(['AXSM', 'FTSM', 'ENPH', 'DMRC', 'NUO', 'JYNT', 'BTT', 'FFC',\n",
      "       'CYBR', 'APPS'], dtype=object), 'r_CAGR/retnStd': array(['AXSM', 'DMRC', 'ENPH', 'FTSM', 'GRVY', 'APPS', 'NUO', 'JYNT',\n",
      "       'EVRI', 'ERIE'], dtype=object), 'r_retnStd/UI': array(['AXSM', 'FTSM', 'ADEA', 'XRAY', 'PCQ', 'BOOM', 'ASND', 'NRC',\n",
      "       'NBB', 'BTT'], dtype=object)}}\n",
      "most_common_syms: [('AXSM', 3), ('FTSM', 3), ('ENPH', 2), ('DMRC', 2), ('NUO', 2), ('JYNT', 2), ('BTT', 2), ('APPS', 2), ('FFC', 1), ('CYBR', 1), ('GRVY', 1), ('EVRI', 1), ('ERIE', 1), ('ADEA', 1), ('XRAY', 1), ('PCQ', 1), ('BOOM', 1), ('ASND', 1), ('NRC', 1), ('NBB', 1)]\n",
      "+++ finish 1 days_lookback +++ \n",
      "\n",
      "grp_most_common_syms: [[('VIRT', 3), ('BXC', 3), ('BEEM', 2), ('NVAX', 2), ('MRTX', 2), ('KURA', 2), ('WK', 2), ('WING', 2), ('LQDT', 2), ('VSTO', 2), ('ASND', 1), ('COLL', 1), ('KDP', 1), ('RM', 1), ('TTGT', 1), ('SII', 1), ('DECK', 1), ('MTCH', 1)], [('MDGL', 3), ('VIRT', 3), ('BXC', 3), ('SGRY', 2), ('CRSP', 2), ('FATE', 2), ('ENTA', 2), ('AX', 2), ('CVEO', 2), ('MRTX', 1), ('RCKT', 1), ('KDP', 1), ('RM', 1), ('SAGE', 1), ('DECK', 1), ('SII', 1), ('XENE', 1), ('FTSM', 1)], [('MDGL', 3), ('MRTX', 3), ('TTGT', 3), ('GRVY', 2), ('GDS', 2), ('RCKT', 2), ('KURA', 2), ('MTCH', 2), ('HAE', 2), ('ASGN', 1), ('ENPH', 1), ('FATE', 1), ('VHI', 1), ('FTSM', 1), ('EL', 1), ('CMPR', 1), ('INSM', 1), ('CME', 1)], [('ASPN', 3), ('ENPH', 3), ('DMRC', 2), ('AXSM', 2), ('GRVY', 2), ('KTOS', 2), ('ATEX', 2), ('STRA', 2), ('NRC', 2), ('SAM', 2), ('HROW', 1), ('XOMA', 1), ('FTSM', 1), ('LDOS', 1), ('RLI', 1), ('DOX', 1), ('RE', 1), ('CECE', 1)], [('FTSM', 3), ('TSN', 3), ('AXSM', 2), ('ATEC', 2), ('DMRC', 2), ('TRI', 2), ('PPC', 2), ('CCEP', 2), ('UL', 2), ('EVRI', 2), ('GRVY', 1), ('AVXL', 1), ('SHOP', 1), ('XRAY', 1), ('RLI', 1), ('NUO', 1), ('CAE', 1), ('PEP', 1)], [('AXSM', 3), ('FTSM', 3), ('ENPH', 2), ('DMRC', 2), ('NUO', 2), ('JYNT', 2), ('BTT', 2), ('APPS', 2), ('FFC', 1), ('CYBR', 1), ('GRVY', 1), ('EVRI', 1), ('ERIE', 1), ('ADEA', 1), ('XRAY', 1), ('PCQ', 1), ('BOOM', 1), ('ASND', 1), ('NRC', 1), ('NBB', 1)]]\n",
      "===== finish 1 set of days_lookbacks ===== \n",
      "\n"
     ]
    }
   ],
   "source": [
    "# grp_perf_ranks = {}\n",
    "grp_most_common_syms = []\n",
    "# loop thru lists of tuples of start_train:end_train:end_eval, i.e.\n",
    "#  [[(887, 917, 927), (857, 917, 927), (797, 917, 927)],\n",
    "#  [(483, 513, 523), (453, 513, 523), (393, 513, 523)]]\n",
    "for l_max_slices in lb_slices:  \n",
    "  for l_max_slice in l_max_slices:  # l_max_slice, e.g. (246, 276, 286)\n",
    "    start_train = l_max_slice[0]\n",
    "    end_train = l_max_slice[1]\n",
    "    start_eval = end_train\n",
    "    end_eval = l_max_slice[2]\n",
    "    days_lookback = end_train - start_train\n",
    "    days_eval = end_eval - start_eval\n",
    "    print(f'l_max_slices:  {l_max_slices}')\n",
    "    print(f'l_max_slice:   {l_max_slice}')\n",
    "    print(f'days_lookback: {days_lookback}')\n",
    "    print(f'days_eval:     {days_eval}')    \n",
    "    print(f'start_train:   {start_train}')\n",
    "    print(f'end_train:     {end_train}')\n",
    "    # print(f'start_eval:    {start_eval}')\n",
    "    # print(f'end_eval:      {end_eval}')\n",
    "\n",
    "    _df = df_train.iloc[start_train:end_train]\n",
    "    perf_ranks, most_common_syms = _4_perf_ranks(_df, n_top_syms=10)\n",
    "    # 1 days_lookback of r_CAGR/UI, r_CAGR/retnStd, r_retnStd/UI\n",
    "    print(f'perf_ranks: {perf_ranks}')  \n",
    "    # most common symbols of perf_ranks \n",
    "    print(f'most_common_syms: {most_common_syms}')     \n",
    "    # grp_perf_ranks[days_lookback] = perf_ranks\n",
    "    print('+++ finish 1 days_lookback +++', '\\n')\n",
    "    grp_most_common_syms.append(most_common_syms)\n",
    "    \n",
    "  print(f'grp_most_common_syms: {grp_most_common_syms}')\n",
    "  print('===== finish 1 set of days_lookbacks =====', '\\n')"
   ]
  },
  {
   "cell_type": "code",
   "execution_count": null,
   "metadata": {},
   "outputs": [],
   "source": []
  },
  {
   "cell_type": "code",
   "execution_count": null,
   "metadata": {},
   "outputs": [],
   "source": [
    "grp_perf_ranks = {}\n",
    "grp_most_common_syms = {}\n",
    "\n",
    "for lb_slice in lb_slices:\n",
    "  start_train = lb_slice[0]\n",
    "  end_train = lb_slice[1]\n",
    "  start_eval = end_train\n",
    "  end_eval = lb_slice[2]\n",
    "  days_lookback = end_train - start_train\n",
    "  days_eval = end_eval - start_eval\n",
    "  print(f'lb_slice:      {lb_slice}')\n",
    "  print(f'days_lookback: {days_lookback}')\n",
    "  print(f'days_eval:     {days_eval}')    \n",
    "  print(f'start_train:   {start_train}')\n",
    "  print(f'end_train:     {end_train}')\n",
    "  # print(f'start_eval:    {start_eval}')\n",
    "  # print(f'end_eval:      {end_eval}')\n",
    "  print('')\n",
    "  _df = df_train.iloc[start_train:end_train]\n",
    "  perf_ranks, most_common_syms = _4_perf_ranks(_df, n_top_syms=100)\n",
    "  grp_perf_ranks[days_lookback] = perf_ranks\n",
    "  grp_most_common_syms[days_lookback] = most_common_syms\n",
    "  print(f'perf_ranks: {perf_ranks}')\n",
    "  print(f'most_common_syms: {most_common_syms}')\n",
    "  print(f'grp_perf_ranks: {grp_perf_ranks}')\n",
    "  print(f'grp_most_common_syms: {grp_most_common_syms}')\n",
    "  print('====', '\\n')     "
   ]
  },
  {
   "cell_type": "code",
   "execution_count": null,
   "metadata": {},
   "outputs": [],
   "source": []
  }
 ],
 "metadata": {
  "kernelspec": {
   "display_name": "Python 3",
   "language": "python",
   "name": "python3"
  },
  "language_info": {
   "codemirror_mode": {
    "name": "ipython",
    "version": 3
   },
   "file_extension": ".py",
   "mimetype": "text/x-python",
   "name": "python",
   "nbconvert_exporter": "python",
   "pygments_lexer": "ipython3",
   "version": "3.7.9"
  },
  "orig_nbformat": 4,
  "vscode": {
   "interpreter": {
    "hash": "d848e2535a99fe7c7346179acd9000b04da131f0f89ee41d962201c665cb28e1"
   }
  }
 },
 "nbformat": 4,
 "nbformat_minor": 2
}
