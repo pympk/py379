{
 "cells": [
  {
   "cell_type": "code",
   "execution_count": 1,
   "metadata": {},
   "outputs": [],
   "source": [
    "import yfinance as yf\n",
    "import yfinance.shared as shared\n",
    "import time\n",
    "import pandas as pd\n",
    "# from datetime import date, timedelta, datetime\n",
    "from myUtils import pickle_dump, pickle_load, read_symbols_file # NOQA\n",
    "from myUtils import drop_symbols_all_NaN, chunked_list # NOQA\n",
    "from myUtils import yf_download_AdjOHLCV_noAutoAdj\n",
    "from yf_utils import _2_split_train_val_test, _3_random_slices, _4_lookback_slices, _5_perf_ranks\n",
    "from yf_utils import _6_grp_tuples_sort_sum\n",
    "\n",
    "verbose = False  # True prints more output\n",
    "# verbose = True  # True prints more output\n",
    "\n",
    "path_dir = \"C:/Users/ping/MyDrive/stocks/yfinance/\"\n",
    "path_data_dump = path_dir + \"VSCode_dump/\"\n",
    "\n",
    "filename_symbols = path_data_dump + 'vg_symbols_4chars_max.csv'  # symbols text file\n",
    "filename_pickled_df_OHLCVA_downloaded = 'df_OHLCVA_downloaded '  # OHLCVA downloaded from Yahoo\n",
    "filename_pickled_df_adjOHLCV = 'df_adjOHLCV'  # adjusted OHLCV\n",
    "filename_pickled_df_symbols_close = \"df_symbols_close\"  # symbols' adjusted close\n",
    "filename_pickled_symbols_df_adjOHLCV =  'symbols_df_adjOHLCV'  # symbols in df_adjOHLCV\n",
    "filename_pickled_df_c = 'df_close_clean' "
   ]
  },
  {
   "cell_type": "code",
   "execution_count": 2,
   "metadata": {},
   "outputs": [],
   "source": [
    "df_c = pickle_load(path_data_dump, filename_pickled_df_c)\n",
    "df_train, df_val, df_test = _2_split_train_val_test(df_c)\n",
    "len_df_train = len(df_train)\n",
    "len_df_val = len(df_val)\n",
    "len_df_test = len(df_test)"
   ]
  },
  {
   "cell_type": "code",
   "execution_count": 3,
   "metadata": {},
   "outputs": [],
   "source": [
    "n_samples = 4  # number of tuples to create for iloc start_train:end_train:end_eval\n",
    "# n_samples = 200  # number of tuples to create for iloc start_train:end_train:end_eval\n",
    "days_lookbacks = [30, 120, 60]  # number of lookback days for training\n",
    "days_eval = 10  # number of days to evaluate effectiveness of the training\n",
    "set_top_syms = 5  # number of the most-common symbols from days_lookbacks' performance rankings"
   ]
  },
  {
   "cell_type": "code",
   "execution_count": 4,
   "metadata": {},
   "outputs": [],
   "source": [
    "# create n_samples of iloc start_train:end_train:end_eval using max value in days_loobacks\n",
    "max_lookback_slices = _3_random_slices(len_df_train, n_samples=n_samples, days_lookback=max(days_lookbacks), days_eval=days_eval)\n",
    "sets_lookback_slices = _4_lookback_slices(max_slices=max_lookback_slices, days_lookbacks=days_lookbacks, verbose=False)\n",
    "\n",
    "if verbose:\n",
    "  print(f'max_lookback_slices:\\n{max_lookback_slices}')\n",
    "  print(f'sets_lookback_slices:\\n{sets_lookback_slices}')"
   ]
  },
  {
   "cell_type": "code",
   "execution_count": 5,
   "metadata": {},
   "outputs": [],
   "source": [
    "grp_top_set_syms_n_freq = []  # list of lists of top_set_symbols_n_freq, there are n_samples lists in list\n",
    "grp_top_set_syms = []  # list of lists of top_set_symbols, there are n_samples lists in list\n",
    "# loop thru lists of tuples of start_train:end_train:end_eval, i.e.\n",
    "#  [[(887, 917, 927), (857, 917, 927), (797, 917, 927)],\n",
    "#  [(483, 513, 523), (453, 513, 523), (393, 513, 523)]]\n",
    "for lb_slices in sets_lookback_slices:\n",
    "  grp_most_common_syms = []  \n",
    "  for lb_slice in lb_slices:  # lb_slice, e.g. (246, 276, 286)\n",
    "    start_train = lb_slice[0]\n",
    "    end_train = lb_slice[1]\n",
    "    start_eval = end_train\n",
    "    end_eval = lb_slice[2]\n",
    "    lookback = end_train - start_train\n",
    "    eval = end_eval - start_eval\n",
    "\n",
    "    if verbose:\n",
    "      print(f'lb_slices:     {lb_slices}')\n",
    "      print(f'lb_slice:      {lb_slice}')\n",
    "      print(f'days lookback: {lookback}')\n",
    "      print(f'days eval:     {eval}')    \n",
    "      print(f'start_train:   {start_train}')\n",
    "      print(f'end_train:     {end_train}')\n",
    "      # print(f'start_eval:    {start_eval}')\n",
    "      # print(f'end_eval:      {end_eval}')`\n",
    "\n",
    "    _df = df_train.iloc[start_train:end_train]\n",
    "    perf_ranks, most_common_syms = _5_perf_ranks(_df, n_top_syms=10)\n",
    "    grp_most_common_syms.append(most_common_syms)\n",
    "    \n",
    "    if verbose:    \n",
    "      # 1 lookback of r_CAGR/UI, r_CAGR/retnStd, r_retnStd/UI\n",
    "      print(f'perf_ranks: {perf_ranks}')  \n",
    "      # most common symbols of perf_ranks \n",
    "      print(f'most_common_syms: {most_common_syms}')     \n",
    "      # grp_perf_ranks[lookback] = perf_ranks\n",
    "      print(f'+++ finish lookback slice {lookback} +++\\n')\n",
    "\n",
    "  if verbose:\n",
    "    print(f'grp_most_common_syms: {grp_most_common_syms}')\n",
    "    # grp_most_common_syms a is list of lists of tuples of \n",
    "    #  the most-common-symbols symbol:frequency cumulated from\n",
    "    #  each days_lookback  \n",
    "    print(f'**** finish lookback slices {lb_slices} ****\\n')\n",
    "\n",
    "  # flatten list of lists of (symbol:frequency)\n",
    "  flat_grp_most_common_syms = [val for sublist in grp_most_common_syms for val in sublist]\n",
    "  # group symbols from set of days_lookbacks (i.e. lb_slices) and sum frequency of the symbols\n",
    "  set_most_common_syms = _6_grp_tuples_sort_sum(flat_grp_most_common_syms, reverse=True)\n",
    "  # get the top few most-frequent symbol:frequency pairs\n",
    "  top_set_syms_n_freq = set_most_common_syms[0:set_top_syms]\n",
    "  # get symbols from top_set_syms_n_freq\n",
    "  top_set_syms = [i[0] for i in top_set_syms_n_freq]\n",
    "  grp_top_set_syms_n_freq.append(top_set_syms_n_freq)\n",
    "  grp_top_set_syms.append(top_set_syms)\n",
    "\n",
    "  if verbose:  \n",
    "    print(f'top {set_top_syms} ranked symbols and frequency from set {lb_slices}:\\n{top_set_syms_n_freq}')\n",
    "    print(f'top {set_top_syms} ranked symbols from set {lb_slices}:\\n{top_set_syms}')  \n",
    "    print(f'===== finish top {set_top_syms} ranked symbols from days_lookback set {lb_slices} =====\\n\\n')"
   ]
  },
  {
   "cell_type": "code",
   "execution_count": 40,
   "metadata": {},
   "outputs": [
    {
     "name": "stdout",
     "output_type": "stream",
     "text": [
      "z_grp_top_set_syms:\n",
      "((920, 1040, 1050), ['ACRS', 'CPE', 'RICK', 'DAC', 'GME'])\n",
      "((338, 458, 468), ['FTSM', 'IDT', 'MKC', 'SBUX', 'ATNI'])\n",
      "((125, 245, 255), ['SKY', 'MDGL', 'SAGE', 'BOOT', 'GDS'])\n",
      "((84, 204, 214), ['GRVY', 'PTSI', 'XOMA', 'GDS', 'OSTK'])\n",
      "\n",
      "z_grp_top_set_syms_n_freq:\n"
     ]
    }
   ],
   "source": [
    "print('z_grp_top_set_syms:')\n",
    "z_grp_top_set_syms = zip(max_lookback_slices, grp_top_set_syms)\n",
    "for item in z_grp_top_set_syms:\n",
    "  print(item)\n",
    "print('')"
   ]
  },
  {
   "cell_type": "code",
   "execution_count": 55,
   "metadata": {},
   "outputs": [
    {
     "name": "stdout",
     "output_type": "stream",
     "text": [
      "z_grp_top_set_syms_n_freq:\n",
      "1 of 4 max_lookback_slice\n",
      "max_lookback_slice: (920, 1040, 1050)\n",
      "top_set_syms_n_freq: [('GRVY', 6), ('PTSI', 6), ('XOMA', 6), ('GDS', 5), ('OSTK', 5)]\n",
      "start_eval: 1040\n",
      "end_eval:   1050\n",
      "symbol: ACRS,  freq:  6\n",
      "symbol:  CPE,  freq:  6\n",
      "symbol: RICK,  freq:  5\n",
      "symbol:  DAC,  freq:  4\n",
      "symbol:  GME,  freq:  4\n",
      "top symbols from max_lookback_slice: ['ACRS', 'CPE', 'RICK', 'DAC', 'GME']\n",
      "\n",
      "2 of 4 max_lookback_slice\n",
      "max_lookback_slice: (338, 458, 468)\n",
      "top_set_syms_n_freq: [('GRVY', 6), ('PTSI', 6), ('XOMA', 6), ('GDS', 5), ('OSTK', 5)]\n",
      "start_eval: 458\n",
      "end_eval:   468\n",
      "symbol: FTSM,  freq:  7\n",
      "symbol:  IDT,  freq:  4\n",
      "symbol:  MKC,  freq:  4\n",
      "symbol: SBUX,  freq:  4\n",
      "symbol: ATNI,  freq:  3\n",
      "top symbols from max_lookback_slice: ['FTSM', 'IDT', 'MKC', 'SBUX', 'ATNI']\n",
      "\n",
      "3 of 4 max_lookback_slice\n",
      "max_lookback_slice: (125, 245, 255)\n",
      "top_set_syms_n_freq: [('GRVY', 6), ('PTSI', 6), ('XOMA', 6), ('GDS', 5), ('OSTK', 5)]\n",
      "start_eval: 245\n",
      "end_eval:   255\n",
      "symbol:  SKY,  freq:  8\n",
      "symbol: MDGL,  freq:  6\n",
      "symbol: SAGE,  freq:  6\n",
      "symbol: BOOT,  freq:  4\n",
      "symbol:  GDS,  freq:  4\n",
      "top symbols from max_lookback_slice: ['SKY', 'MDGL', 'SAGE', 'BOOT', 'GDS']\n",
      "\n",
      "4 of 4 max_lookback_slice\n",
      "max_lookback_slice: (84, 204, 214)\n",
      "top_set_syms_n_freq: [('GRVY', 6), ('PTSI', 6), ('XOMA', 6), ('GDS', 5), ('OSTK', 5)]\n",
      "start_eval: 204\n",
      "end_eval:   214\n",
      "symbol: GRVY,  freq:  6\n",
      "symbol: PTSI,  freq:  6\n",
      "symbol: XOMA,  freq:  6\n",
      "symbol:  GDS,  freq:  5\n",
      "symbol: OSTK,  freq:  5\n",
      "top symbols from max_lookback_slice: ['GRVY', 'PTSI', 'XOMA', 'GDS', 'OSTK']\n",
      "\n"
     ]
    }
   ],
   "source": [
    "print('z_grp_top_set_syms_n_freq:')\n",
    "z_grp_top_set_syms_n_freq = zip(max_lookback_slices, grp_top_set_syms_n_freq)\n",
    "# for item in z_grp_top_set_syms_n_freq:\n",
    "#   print(item)\n",
    "\n",
    "\n",
    "for i, (_lookback_slice, _top_set_syms_n_freq) in enumerate(z_grp_top_set_syms_n_freq):\n",
    "  print(f'{i + 1 } of {n_samples} max_lookback_slice')\n",
    "  print(f'max_lookback_slice: {_lookback_slice}')\n",
    "  print(f'top_set_syms_n_freq: {top_set_syms_n_freq}')\n",
    "  print(f'start_eval: {_lookback_slice[1]}')\n",
    "  print(f'end_eval:   {_lookback_slice[2]}')\n",
    "  l_syms = []  # list to accumlate top set symbbols\n",
    "  for sym_n_freq in _top_set_syms_n_freq:\n",
    "    l_syms.append(sym_n_freq[0])\n",
    "    print(f'symbol: {sym_n_freq[0]:>4},  freq: {sym_n_freq[1]:>2}')\n",
    "  print(f'top symbols from max_lookback_slice: {l_syms}')  \n",
    "  print('')  "
   ]
  },
  {
   "cell_type": "code",
   "execution_count": null,
   "metadata": {},
   "outputs": [],
   "source": []
  }
 ],
 "metadata": {
  "kernelspec": {
   "display_name": "Python 3",
   "language": "python",
   "name": "python3"
  },
  "language_info": {
   "codemirror_mode": {
    "name": "ipython",
    "version": 3
   },
   "file_extension": ".py",
   "mimetype": "text/x-python",
   "name": "python",
   "nbconvert_exporter": "python",
   "pygments_lexer": "ipython3",
   "version": "3.7.9"
  },
  "orig_nbformat": 4,
  "vscode": {
   "interpreter": {
    "hash": "55a3812d65f91e7e7447da6b5cfc60716e82f91e6a92533fb27b46796ad1962a"
   }
  }
 },
 "nbformat": 4,
 "nbformat_minor": 2
}
