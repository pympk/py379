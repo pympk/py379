{
 "cells": [
  {
   "cell_type": "code",
   "execution_count": 12,
   "metadata": {},
   "outputs": [],
   "source": [
    "import yfinance as yf\n",
    "import yfinance.shared as shared\n",
    "import time\n",
    "import pandas as pd\n",
    "# from datetime import date, timedelta, datetime\n",
    "from myUtils import pickle_dump, pickle_load, read_symbols_file # NOQA\n",
    "from myUtils import drop_symbols_all_NaN, chunked_list # NOQA\n",
    "from myUtils import yf_download_AdjOHLCV_noAutoAdj\n",
    "from yf_utils import _2_split_train_val_test, _3_random_slices, _4_lookback_slices, _5_perf_ranks\n",
    "from yf_utils import _6_grp_tuples_sort_sum\n",
    "\n",
    "verbose = False  # True prints more output\n",
    "# verbose = True  # True prints more output\n",
    "\n",
    "path_dir = \"C:/Users/ping/MyDrive/stocks/yfinance/\"\n",
    "path_data_dump = path_dir + \"VSCode_dump/\"\n",
    "\n",
    "filename_symbols = path_data_dump + 'vg_symbols_4chars_max.csv'  # symbols text file\n",
    "filename_pickled_df_OHLCVA_downloaded = 'df_OHLCVA_downloaded '  # OHLCVA downloaded from Yahoo\n",
    "filename_pickled_df_adjOHLCV = 'df_adjOHLCV'  # adjusted OHLCV\n",
    "filename_pickled_df_symbols_close = \"df_symbols_close\"  # symbols' adjusted close\n",
    "filename_pickled_symbols_df_adjOHLCV =  'symbols_df_adjOHLCV'  # symbols in df_adjOHLCV\n",
    "filename_pickled_df_c = 'df_close_clean' "
   ]
  },
  {
   "cell_type": "code",
   "execution_count": 13,
   "metadata": {},
   "outputs": [],
   "source": [
    "df_c = pickle_load(path_data_dump, filename_pickled_df_c)\n",
    "df_train, df_val, df_test = _2_split_train_val_test(df_c)\n",
    "len_df_train = len(df_train)\n",
    "len_df_val = len(df_val)\n",
    "len_df_test = len(df_test)"
   ]
  },
  {
   "cell_type": "code",
   "execution_count": 14,
   "metadata": {},
   "outputs": [],
   "source": [
    "n_samples = 4  # number of tuples to create for iloc start_train:end_train:end_eval\n",
    "# n_samples = 200  # number of tuples to create for iloc start_train:end_train:end_eval\n",
    "days_lookbacks = [30, 120, 60]  # number of lookback days for training\n",
    "days_eval = 15  # number of days to evaluate effectiveness of the training\n",
    "set_top_syms = 5  # number of the most-common symbols from days_lookbacks' performance rankings"
   ]
  },
  {
   "cell_type": "code",
   "execution_count": 15,
   "metadata": {},
   "outputs": [],
   "source": [
    "# create n_samples of iloc start_train:end_train:end_eval using max value in days_loobacks\n",
    "max_lookback_slices = _3_random_slices(len_df_train, n_samples=n_samples, days_lookback=max(days_lookbacks), days_eval=days_eval)\n",
    "sets_lookback_slices = _4_lookback_slices(max_slices=max_lookback_slices, days_lookbacks=days_lookbacks, verbose=False)\n",
    "\n",
    "if verbose:\n",
    "  print(f'max_lookback_slices:\\n{max_lookback_slices}')\n",
    "  print(f'sets_lookback_slices:\\n{sets_lookback_slices}')"
   ]
  },
  {
   "cell_type": "code",
   "execution_count": 16,
   "metadata": {},
   "outputs": [],
   "source": [
    "grp_top_set_syms_n_freq = []  # list of lists of top_set_symbols_n_freq, there are n_samples lists in list\n",
    "grp_top_set_syms = []  # list of lists of top_set_symbols, there are n_samples lists in list\n",
    "# loop thru lists of tuples of start_train:end_train:end_eval, i.e.\n",
    "#  [[(887, 917, 927), (857, 917, 927), (797, 917, 927)],\n",
    "#  [(483, 513, 523), (453, 513, 523), (393, 513, 523)]]\n",
    "for lb_slices in sets_lookback_slices:\n",
    "  grp_most_common_syms = []  \n",
    "  for lb_slice in lb_slices:  # lb_slice, e.g. (246, 276, 286)\n",
    "    start_train = lb_slice[0]\n",
    "    end_train = lb_slice[1]\n",
    "    start_eval = end_train\n",
    "    end_eval = lb_slice[2]\n",
    "    lookback = end_train - start_train\n",
    "    eval = end_eval - start_eval\n",
    "\n",
    "    if verbose:\n",
    "      print(f'lb_slices:     {lb_slices}')\n",
    "      print(f'lb_slice:      {lb_slice}')\n",
    "      print(f'days lookback: {lookback}')\n",
    "      print(f'days eval:     {eval}')    \n",
    "      print(f'start_train:   {start_train}')\n",
    "      print(f'end_train:     {end_train}')\n",
    "      # print(f'start_eval:    {start_eval}')\n",
    "      # print(f'end_eval:      {end_eval}')`\n",
    "\n",
    "    _df = df_train.iloc[start_train:end_train]\n",
    "    perf_ranks, most_common_syms = _5_perf_ranks(_df, n_top_syms=10)\n",
    "    grp_most_common_syms.append(most_common_syms)\n",
    "    \n",
    "    if verbose:    \n",
    "      # 1 lookback of r_CAGR/UI, r_CAGR/retnStd, r_retnStd/UI\n",
    "      print(f'perf_ranks: {perf_ranks}')  \n",
    "      # most common symbols of perf_ranks \n",
    "      print(f'most_common_syms: {most_common_syms}')     \n",
    "      # grp_perf_ranks[lookback] = perf_ranks\n",
    "      print(f'+++ finish lookback slice {lookback} +++\\n')\n",
    "\n",
    "  if verbose:\n",
    "    print(f'grp_most_common_syms: {grp_most_common_syms}')\n",
    "    # grp_most_common_syms a is list of lists of tuples of \n",
    "    #  the most-common-symbols symbol:frequency cumulated from\n",
    "    #  each days_lookback  \n",
    "    print(f'**** finish lookback slices {lb_slices} ****\\n')\n",
    "\n",
    "  # flatten list of lists of (symbol:frequency)\n",
    "  flat_grp_most_common_syms = [val for sublist in grp_most_common_syms for val in sublist]\n",
    "  # group symbols from set of days_lookbacks (i.e. lb_slices) and sum frequency of the symbols\n",
    "  set_most_common_syms = _6_grp_tuples_sort_sum(flat_grp_most_common_syms, reverse=True)\n",
    "  # get the top few most-frequent symbol:frequency pairs\n",
    "  top_set_syms_n_freq = set_most_common_syms[0:set_top_syms]\n",
    "  # get symbols from top_set_syms_n_freq\n",
    "  top_set_syms = [i[0] for i in top_set_syms_n_freq]\n",
    "  grp_top_set_syms_n_freq.append(top_set_syms_n_freq)\n",
    "  grp_top_set_syms.append(top_set_syms)\n",
    "\n",
    "  if verbose:  \n",
    "    print(f'top {set_top_syms} ranked symbols and frequency from set {lb_slices}:\\n{top_set_syms_n_freq}')\n",
    "    print(f'top {set_top_syms} ranked symbols from set {lb_slices}:\\n{top_set_syms}')  \n",
    "    print(f'===== finish top {set_top_syms} ranked symbols from days_lookback set {lb_slices} =====\\n\\n')"
   ]
  },
  {
   "cell_type": "code",
   "execution_count": 17,
   "metadata": {},
   "outputs": [
    {
     "name": "stdout",
     "output_type": "stream",
     "text": [
      "z_grp_top_set_syms:\n",
      "((473, 593, 608), ['AXSM', 'ENPH', 'FTSM', 'LAD', 'DMRC'])\n",
      "((690, 810, 825), ['QDEL', 'NVAX', 'TDOC', 'NEM', 'REGN'])\n",
      "((722, 842, 857), ['NVAX', 'QDEL', 'RENN', 'AR', 'DKL'])\n",
      "((305, 425, 440), ['AMD', 'CDNA', 'IRMD', 'RETA', 'FTSM'])\n",
      "\n"
     ]
    }
   ],
   "source": [
    "print('z_grp_top_set_syms:')\n",
    "z_grp_top_set_syms = zip(max_lookback_slices, grp_top_set_syms)\n",
    "for item in z_grp_top_set_syms:\n",
    "  print(item)\n",
    "print('')"
   ]
  },
  {
   "cell_type": "code",
   "execution_count": 18,
   "metadata": {},
   "outputs": [
    {
     "name": "stdout",
     "output_type": "stream",
     "text": [
      "z_grp_top_set_syms:\n",
      "1 of 4 max_lookback_slice\n",
      "max_lookback_slice: (473, 593, 608)\n",
      "top_set_syms: ['AXSM', 'ENPH', 'FTSM', 'LAD', 'DMRC']\n",
      "start_eval: 593\n",
      "end_eval:   608\n",
      "symbol: AXSM\n",
      "symbol: ENPH\n",
      "symbol: FTSM\n",
      "symbol:  LAD\n",
      "symbol: DMRC\n",
      "top symbols from max_lookback_slice: ['AXSM', 'ENPH', 'FTSM', 'LAD', 'DMRC']\n",
      "\n",
      "2 of 4 max_lookback_slice\n",
      "max_lookback_slice: (690, 810, 825)\n",
      "top_set_syms: ['QDEL', 'NVAX', 'TDOC', 'NEM', 'REGN']\n",
      "start_eval: 810\n",
      "end_eval:   825\n",
      "symbol: QDEL\n",
      "symbol: NVAX\n",
      "symbol: TDOC\n",
      "symbol:  NEM\n",
      "symbol: REGN\n",
      "top symbols from max_lookback_slice: ['QDEL', 'NVAX', 'TDOC', 'NEM', 'REGN']\n",
      "\n",
      "3 of 4 max_lookback_slice\n",
      "max_lookback_slice: (722, 842, 857)\n",
      "top_set_syms: ['NVAX', 'QDEL', 'RENN', 'AR', 'DKL']\n",
      "start_eval: 842\n",
      "end_eval:   857\n",
      "symbol: NVAX\n",
      "symbol: QDEL\n",
      "symbol: RENN\n",
      "symbol:   AR\n",
      "symbol:  DKL\n",
      "top symbols from max_lookback_slice: ['NVAX', 'QDEL', 'RENN', 'AR', 'DKL']\n",
      "\n",
      "4 of 4 max_lookback_slice\n",
      "max_lookback_slice: (305, 425, 440)\n",
      "top_set_syms: ['AMD', 'CDNA', 'IRMD', 'RETA', 'FTSM']\n",
      "start_eval: 425\n",
      "end_eval:   440\n",
      "symbol:  AMD\n",
      "symbol: CDNA\n",
      "symbol: IRMD\n",
      "symbol: RETA\n",
      "symbol: FTSM\n",
      "top symbols from max_lookback_slice: ['AMD', 'CDNA', 'IRMD', 'RETA', 'FTSM']\n",
      "\n"
     ]
    }
   ],
   "source": [
    "print('z_grp_top_set_syms:')\n",
    "z_grp_top_set_syms = zip(max_lookback_slices, grp_top_set_syms)\n",
    "for i, (_lookback_slice, _top_set_syms) in enumerate(z_grp_top_set_syms):\n",
    "  print(f'{i + 1 } of {n_samples} max_lookback_slice')\n",
    "  print(f'max_lookback_slice: {_lookback_slice}')\n",
    "  print(f'top_set_syms: {_top_set_syms}')\n",
    "  print(f'start_eval: {_lookback_slice[1]}')\n",
    "  print(f'end_eval:   {_lookback_slice[2]}')\n",
    "  l_syms = []  # list to accumlate top set symbbols\n",
    "  for sym in _top_set_syms:\n",
    "    l_syms.append(sym)\n",
    "    print(f'symbol: {sym:>4}')\n",
    "  print(f'top symbols from max_lookback_slice: {l_syms}')  \n",
    "  print('')  "
   ]
  },
  {
   "cell_type": "code",
   "execution_count": null,
   "metadata": {},
   "outputs": [],
   "source": []
  },
  {
   "cell_type": "code",
   "execution_count": 35,
   "metadata": {},
   "outputs": [
    {
     "name": "stdout",
     "output_type": "stream",
     "text": [
      "z_grp_top_set_syms:\n",
      "1 of 4 max_lookback_slice\n",
      "max_lookback_slice: (473, 593, 608)\n",
      "top_set_syms: ['AXSM', 'ENPH', 'FTSM', 'LAD', 'DMRC']\n",
      "grp(retnStd/UI):   mean, std, mean/std:        0.950,        0.388,        2.449\n",
      "grp(CAGR/retnStd): mean, std, mean/std:       37.376,       67.126,        0.557\n",
      "grp(CAGR/UI):      mean, std, mean/std:       53.425,       82.395,        0.648\n",
      "\n",
      "_sym_idx: ['SPY']\n",
      "grp(retnStd/UI):   mean, std, mean/std:        4.671,          nan,          nan\n",
      "grp(CAGR/retnStd): mean, std, mean/std:      285.190,          nan,          nan\n",
      "grp(CAGR/UI):      mean, std, mean/std:    1,332.083,          nan,          nan\n",
      "\n",
      "2 of 4 max_lookback_slice\n",
      "max_lookback_slice: (690, 810, 825)\n",
      "top_set_syms: ['QDEL', 'NVAX', 'TDOC', 'NEM', 'REGN']\n",
      "grp(retnStd/UI):   mean, std, mean/std:        1.460,        1.523,        0.959\n",
      "grp(CAGR/retnStd): mean, std, mean/std:    1,702.563,    3,711.678,        0.459\n",
      "grp(CAGR/UI):      mean, std, mean/std:    6,952.605,   15,466.499,        0.450\n",
      "\n",
      "_sym_idx: ['SPY']\n",
      "grp(retnStd/UI):   mean, std, mean/std:        0.875,          nan,          nan\n",
      "grp(CAGR/retnStd): mean, std, mean/std:       -0.671,          nan,          nan\n",
      "grp(CAGR/UI):      mean, std, mean/std:       -0.587,          nan,          nan\n",
      "\n",
      "3 of 4 max_lookback_slice\n",
      "max_lookback_slice: (722, 842, 857)\n",
      "top_set_syms: ['NVAX', 'QDEL', 'RENN', 'AR', 'DKL']\n",
      "grp(retnStd/UI):   mean, std, mean/std:        0.738,        0.273,        2.699\n",
      "grp(CAGR/retnStd): mean, std, mean/std:      342.033,      396.201,        0.863\n",
      "grp(CAGR/UI):      mean, std, mean/std:      249.822,      236.067,        1.058\n",
      "\n",
      "_sym_idx: ['SPY']\n",
      "grp(retnStd/UI):   mean, std, mean/std:        0.632,          nan,          nan\n",
      "grp(CAGR/retnStd): mean, std, mean/std:       25.477,          nan,          nan\n",
      "grp(CAGR/UI):      mean, std, mean/std:       16.097,          nan,          nan\n",
      "\n",
      "4 of 4 max_lookback_slice\n",
      "max_lookback_slice: (305, 425, 440)\n",
      "top_set_syms: ['AMD', 'CDNA', 'IRMD', 'RETA', 'FTSM']\n",
      "grp(retnStd/UI):   mean, std, mean/std:        0.523,        0.573,        0.913\n",
      "grp(CAGR/retnStd): mean, std, mean/std:      -13.874,       39.039,       -0.355\n",
      "grp(CAGR/UI):      mean, std, mean/std:        9.976,       36.661,        0.272\n",
      "\n",
      "_sym_idx: ['SPY']\n",
      "grp(retnStd/UI):   mean, std, mean/std:        0.344,          nan,          nan\n",
      "grp(CAGR/retnStd): mean, std, mean/std:      -45.181,          nan,          nan\n",
      "grp(CAGR/UI):      mean, std, mean/std:      -15.561,          nan,          nan\n",
      "\n"
     ]
    }
   ],
   "source": [
    "from yf_utils import _7_perf_eval\n",
    "print('z_grp_top_set_syms:')\n",
    "z_grp_top_set_syms = zip(max_lookback_slices, grp_top_set_syms)\n",
    "for i, (_lookback_slice, _top_set_syms) in enumerate(z_grp_top_set_syms):\n",
    "  print(f'{i + 1 } of {n_samples} max_lookback_slice')\n",
    "  print(f'max_lookback_slice: {_lookback_slice}')\n",
    "  print(f'top_set_syms: {_top_set_syms}')\n",
    "\n",
    "\n",
    "  start_eval = _lookback_slice[1]\n",
    "  end_eval = _lookback_slice[2]\n",
    "  df_eval = df_train[start_eval:end_eval][_top_set_syms]\n",
    "\n",
    "  if verbose:\n",
    "    print(f'start_eval: {start_eval}')\n",
    "    print(f'end_eval:   {end_eval}')  \n",
    "    print(f'\\ndf_eval:\\n{df_eval}\\n')\n",
    "\n",
    "\n",
    "  _, grp_retnStd_d_UI, grp_CAGR_d_retnStd, grp_CAGR_d_UI = _7_perf_eval(df_eval)\n",
    "  print(f'grp(retnStd/UI):   mean, std, mean/std: {grp_retnStd_d_UI[0]:>12,.3f}, {grp_retnStd_d_UI[1]:>12,.3f}, {grp_retnStd_d_UI[2]:>12,.3f}')\n",
    "  print(f'grp(CAGR/retnStd): mean, std, mean/std: {grp_CAGR_d_retnStd[0]:>12,.3f}, {grp_CAGR_d_retnStd[1]:>12,.3f}, {grp_CAGR_d_retnStd[2]:>12,.3f}')\n",
    "  print(f'grp(CAGR/UI):      mean, std, mean/std: {grp_CAGR_d_UI[0]:>12,.3f}, {grp_CAGR_d_UI[1]:>12,.3f}, {grp_CAGR_d_UI[2]:>12,.3f}')\n",
    "\n",
    "  _sym_idx = ['SPY']\n",
    "  df_SPY = df_train[start_eval:end_eval][_sym_idx]\n",
    "  _, grp_retnStd_d_UI, grp_CAGR_d_retnStd, grp_CAGR_d_UI = _7_perf_eval(df_SPY)\n",
    "  print(f'\\n_sym_idx: {_sym_idx}')\n",
    "  print(f'grp(retnStd/UI):   mean, std, mean/std: {grp_retnStd_d_UI[0]:>12,.3f}, {grp_retnStd_d_UI[1]:>12,.3f}, {grp_retnStd_d_UI[2]:>12,.3f}')\n",
    "  print(f'grp(CAGR/retnStd): mean, std, mean/std: {grp_CAGR_d_retnStd[0]:>12,.3f}, {grp_CAGR_d_retnStd[1]:>12,.3f}, {grp_CAGR_d_retnStd[2]:>12,.3f}')\n",
    "  print(f'grp(CAGR/UI):      mean, std, mean/std: {grp_CAGR_d_UI[0]:>12,.3f}, {grp_CAGR_d_UI[1]:>12,.3f}, {grp_CAGR_d_UI[2]:>12,.3f}')\n",
    "\n",
    "  print('')  "
   ]
  },
  {
   "cell_type": "code",
   "execution_count": 21,
   "metadata": {},
   "outputs": [
    {
     "data": {
      "text/plain": [
       "[['AXSM', 'ENPH', 'FTSM', 'LAD', 'DMRC'],\n",
       " ['QDEL', 'NVAX', 'TDOC', 'NEM', 'REGN'],\n",
       " ['NVAX', 'QDEL', 'RENN', 'AR', 'DKL'],\n",
       " ['AMD', 'CDNA', 'IRMD', 'RETA', 'FTSM']]"
      ]
     },
     "execution_count": 21,
     "metadata": {},
     "output_type": "execute_result"
    }
   ],
   "source": [
    "grp_top_set_syms"
   ]
  },
  {
   "cell_type": "code",
   "execution_count": 22,
   "metadata": {},
   "outputs": [
    {
     "data": {
      "text/plain": [
       "[(473, 593, 608), (690, 810, 825), (722, 842, 857), (305, 425, 440)]"
      ]
     },
     "execution_count": 22,
     "metadata": {},
     "output_type": "execute_result"
    }
   ],
   "source": [
    "max_lookback_slices"
   ]
  }
 ],
 "metadata": {
  "kernelspec": {
   "display_name": "Python 3",
   "language": "python",
   "name": "python3"
  },
  "language_info": {
   "codemirror_mode": {
    "name": "ipython",
    "version": 3
   },
   "file_extension": ".py",
   "mimetype": "text/x-python",
   "name": "python",
   "nbconvert_exporter": "python",
   "pygments_lexer": "ipython3",
   "version": "3.7.9"
  },
  "orig_nbformat": 4,
  "vscode": {
   "interpreter": {
    "hash": "55a3812d65f91e7e7447da6b5cfc60716e82f91e6a92533fb27b46796ad1962a"
   }
  }
 },
 "nbformat": 4,
 "nbformat_minor": 2
}
