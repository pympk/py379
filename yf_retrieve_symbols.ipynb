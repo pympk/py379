{
 "cells": [
  {
   "cell_type": "code",
   "execution_count": 1,
   "metadata": {},
   "outputs": [],
   "source": [
    "from myUtils import pickle_load  # NOQA\n",
    "verbose = False  # True prints more output\n",
    "\n",
    "# path to file directories\n",
    "path_dir = \"C:/Users/ping/MyDrive/stocks/MktCap2b_AUMtop1200/\"\n",
    "path_data_dump = path_dir + \"VSCode_dump/\"\n",
    "path_symbols_file = path_dir + \"source/\"\n",
    "\n",
    "# file names\n",
    "filename_symbols = path_symbols_file + '2021_Top1200_MktCap_n_AUM.txt'  # symbols text file\n",
    "filename_pickled_df_OHLCV_all_dates = 'df_OHLCV_all_dates'  # pickled filename\n",
    "filename_pickled_df_OHLCV_NYSE_dates = 'df_OHLCV_NYSE_dates'  # pickled filename\n",
    "filename_pickled_symbols_df_OHLCV_NYSE_dates =  'symbols_df_OHLCV_NYSE_dates'  # pickled filename\n",
    "\n",
    "# filename_symbols = path_symbols_file + \"test_symbols_no_XOM.txt\"  # symbols text file\n",
    "# filename_pickled_df_OHLCV_all_dates = \"df_test_all_dates\"  # pickled filename\n",
    "# filename_pickled_df_OHLCV_NYSE_dates = \"df_test_NYSE_dates\"  # pickled filename\n",
    "# filename_pickled_symbols_df_OHLCV_NYSE_dates = \"symbols_df_test_NYSE_dates\"  # pickled filename"
   ]
  },
  {
   "cell_type": "code",
   "execution_count": 2,
   "metadata": {},
   "outputs": [
    {
     "name": "stdout",
     "output_type": "stream",
     "text": [
      "symbol count in df_OHLCV_NYSE_dates: 2365\n"
     ]
    }
   ],
   "source": [
    "# retrieve pickled OHLCV and symbols\n",
    "syms = pickle_load(path_data_dump, filename_pickled_symbols_df_OHLCV_NYSE_dates, verbose=verbose)\n",
    "print(f'symbol count in df_OHLCV_NYSE_dates: {len(syms)}')\n",
    "df = pickle_load(path_data_dump, filename_pickled_df_OHLCV_NYSE_dates, verbose=verbose)"
   ]
  },
  {
   "cell_type": "code",
   "execution_count": 3,
   "metadata": {},
   "outputs": [
    {
     "name": "stdout",
     "output_type": "stream",
     "text": [
      "PAA\n",
      "            Open  High  Low  Close  Adj Close  Volume\n",
      "Date                                                 \n",
      "2022-07-25   NaN   NaN  NaN    NaN        NaN     NaN\n",
      "2022-07-26   NaN   NaN  NaN    NaN        NaN     NaN\n",
      "2022-07-27   NaN   NaN  NaN    NaN        NaN     NaN\n",
      "2022-07-28   NaN   NaN  NaN    NaN        NaN     NaN\n",
      "2022-07-29   NaN   NaN  NaN    NaN        NaN     NaN\n",
      "2022-08-01   NaN   NaN  NaN    NaN        NaN     NaN\n",
      "2022-08-02   NaN   NaN  NaN    NaN        NaN     NaN\n",
      "\n",
      "WFC\n",
      "            Open  High  Low  Close  Adj Close  Volume\n",
      "Date                                                 \n",
      "2022-07-25   NaN   NaN  NaN    NaN        NaN     NaN\n",
      "2022-07-26   NaN   NaN  NaN    NaN        NaN     NaN\n",
      "2022-07-27   NaN   NaN  NaN    NaN        NaN     NaN\n",
      "2022-07-28   NaN   NaN  NaN    NaN        NaN     NaN\n",
      "2022-07-29   NaN   NaN  NaN    NaN        NaN     NaN\n",
      "2022-08-01   NaN   NaN  NaN    NaN        NaN     NaN\n",
      "2022-08-02   NaN   NaN  NaN    NaN        NaN     NaN\n",
      "\n",
      "SGOL\n",
      "            Open  High  Low  Close  Adj Close  Volume\n",
      "Date                                                 \n",
      "2022-07-25   NaN   NaN  NaN    NaN        NaN     NaN\n",
      "2022-07-26   NaN   NaN  NaN    NaN        NaN     NaN\n",
      "2022-07-27   NaN   NaN  NaN    NaN        NaN     NaN\n",
      "2022-07-28   NaN   NaN  NaN    NaN        NaN     NaN\n",
      "2022-07-29   NaN   NaN  NaN    NaN        NaN     NaN\n",
      "2022-08-01   NaN   NaN  NaN    NaN        NaN     NaN\n",
      "2022-08-02   NaN   NaN  NaN    NaN        NaN     NaN\n",
      "\n",
      "BTC-USD\n",
      "                    Open          High           Low         Close  \\\n",
      "Date                                                                 \n",
      "2022-07-25  22607.156250  22649.121094  21361.642578  21361.701172   \n",
      "2022-07-26  21361.121094  21361.121094  20776.816406  21239.753906   \n",
      "2022-07-27  21244.169922  22986.529297  21070.806641  22930.548828   \n",
      "2022-07-28  22933.640625  24110.470703  22722.265625  23843.886719   \n",
      "2022-07-29  23845.212891  24294.787109  23481.173828  23804.632812   \n",
      "2022-08-01  23336.718750  23464.787109  22890.796875  23314.199219   \n",
      "2022-08-02  23308.433594  23415.041016  22710.083984  22978.117188   \n",
      "\n",
      "                  Volume  \n",
      "Date                      \n",
      "2022-07-25  3.557456e+10  \n",
      "2022-07-26  2.862467e+10  \n",
      "2022-07-27  3.175896e+10  \n",
      "2022-07-28  4.021239e+10  \n",
      "2022-07-29  3.588725e+10  \n",
      "2022-08-01  2.584916e+10  \n",
      "2022-08-02  2.838925e+10  \n",
      "\n"
     ]
    }
   ],
   "source": [
    "# mySyms = ['BCI', 'FTEC', 'ETH-USD', 'BTC-USD']\n",
    "mySyms = ['PAA', 'WFC', 'SGOL', 'BTC-USD']\n",
    "for sym in mySyms:\n",
    "  print(f'{sym}\\n{df[sym].tail(7)}\\n')"
   ]
  }
 ],
 "metadata": {
  "kernelspec": {
   "display_name": "Python 3.7.9 ('.venv': poetry)",
   "language": "python",
   "name": "python3"
  },
  "language_info": {
   "codemirror_mode": {
    "name": "ipython",
    "version": 3
   },
   "file_extension": ".py",
   "mimetype": "text/x-python",
   "name": "python",
   "nbconvert_exporter": "python",
   "pygments_lexer": "ipython3",
   "version": "3.7.9"
  },
  "orig_nbformat": 4,
  "vscode": {
   "interpreter": {
    "hash": "55a3812d65f91e7e7447da6b5cfc60716e82f91e6a92533fb27b46796ad1962a"
   }
  }
 },
 "nbformat": 4,
 "nbformat_minor": 2
}
